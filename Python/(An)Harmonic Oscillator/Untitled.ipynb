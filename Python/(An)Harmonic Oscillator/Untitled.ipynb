{
 "cells": [
  {
   "cell_type": "code",
   "execution_count": 1,
   "id": "774ffd81",
   "metadata": {},
   "outputs": [],
   "source": [
    "from sympy import *"
   ]
  },
  {
   "cell_type": "code",
   "execution_count": 2,
   "id": "6f5b5937",
   "metadata": {},
   "outputs": [],
   "source": [
    "Z = Symbol(\"Z\", complex = true)"
   ]
  },
  {
   "cell_type": "code",
   "execution_count": null,
   "id": "fa24266a",
   "metadata": {},
   "outputs": [],
   "source": [
    "def simulation(x, p):\n",
    "    global labels\n",
    "    labels = [\"x\", \"p\", \"p_dot\"]\n",
    "    \n",
    "    p_dot = -k*x\n",
    "    # a) set initial conditions\n",
    "    old_coords = [x, p, p_dot]\n",
    "    \n",
    "    # Coordinates list to record simulation dynamics\n",
    "    global coordinates_list \n",
    "    coordinates_list = [[x], [p], [p_dot]]\n",
    "    \n",
    "     # Define number of steps between measurement recordings\n",
    "    record_steps = 10\n",
    "    \n",
    "    # Timestep\n",
    "    delta_t = (1e-5)\n",
    "    \n",
    "    simulation_repetitions = 1000000\n",
    "    \n",
    "    i = 0\n",
    "\n",
    "    # Repeating algorithm\n",
    "    while i < simulation_repetitions:\n",
    "            \n",
    "        x_old = old_coords[0]\n",
    "        p_old = old_coords[1]\n",
    "        p_dot_old = old_coords[2]\n",
    "        \n",
    "        # b) Define new position of the simulated particle (x_new)\n",
    "        x_new = x_old + p_old * delta_t + 1/2 * p_dot_old * delta_t**2 # Velocity Verlet algorithm 1.\n",
    "\n",
    "        # c) Use Hamiltonian canonical equations to get new p_dot value\n",
    "        p_dot_new = - k * x_new\n",
    "\n",
    "        # d) Use Velocity Verlet 2 to get new momentum\n",
    "        p_new = p_old + 1/2 * (p_dot_new + p_dot_old) * delta_t # Velocity Verlet alogorithm 2.    \n",
    "        \n",
    "        new_coordinates = [x_new, p_new, p_dot_new]\n",
    "\n",
    "        # Recording position, momentum, and rate of change of momentum every 10th step\n",
    "        if i % record_steps == 0:\n",
    "            h = 0\n",
    "\n",
    "            while h < len(coordinates_list):\n",
    "                coordinates_list[h].append(new_coordinates[h])\n",
    "                #coordinates_list[h] = np.append(coordinates_list[h], new_coordinates[h])\n",
    "                h += 1\n",
    "                \n",
    "                \n",
    "        # Update new coordinates\n",
    "\n",
    "        old_coords = new_coordinates\n",
    "\n",
    "        i += 1\n",
    "    \n",
    "    times = np.arange(0,simulation_repetitions*delta_t + delta_t*record_steps, delta_t*record_steps)\n",
    "    \n",
    "    coords_dict = {\"times\" : times, labels[0] : coordinates_list[0], labels[0] : coordinates_list[0], \n",
    "                  labels[1] : coordinates_list[1], labels[2] : coordinates_list[2]}\n",
    "    \n",
    "    global Coords\n",
    "    Coords = DF(coords_dict, index = coords_dict[\"times\"], columns = labels)"
   ]
  },
  {
   "cell_type": "code",
   "execution_count": null,
   "id": "19e56dbe",
   "metadata": {},
   "outputs": [],
   "source": [
    "def simulation(Z, Z_dot, Z)\n"
   ]
  }
 ],
 "metadata": {
  "kernelspec": {
   "display_name": "Python 3 (ipykernel)",
   "language": "python",
   "name": "python3"
  },
  "language_info": {
   "codemirror_mode": {
    "name": "ipython",
    "version": 3
   },
   "file_extension": ".py",
   "mimetype": "text/x-python",
   "name": "python",
   "nbconvert_exporter": "python",
   "pygments_lexer": "ipython3",
   "version": "3.8.17"
  }
 },
 "nbformat": 4,
 "nbformat_minor": 5
}
