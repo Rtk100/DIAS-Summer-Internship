{
 "cells": [
  {
   "cell_type": "code",
   "execution_count": 359,
   "id": "1dfe70b8",
   "metadata": {},
   "outputs": [],
   "source": [
    "from sympy import *\n",
    "from sympy.physics.quantum.dagger import Dagger\n",
    "from sympy import pprint\n",
    "from sympy.vector import CoordSys3D"
   ]
  },
  {
   "cell_type": "code",
   "execution_count": 360,
   "id": "c3f1f0e8",
   "metadata": {},
   "outputs": [],
   "source": [
    "from IPython.display import display, Latex\n",
    "init_printing(use_latex='mathjax') # sympy method"
   ]
  },
  {
   "cell_type": "code",
   "execution_count": 380,
   "id": "d0784677",
   "metadata": {},
   "outputs": [],
   "source": [
    "from sympy.printing import StrPrinter\n",
    "\n",
    "class CustomPrinter(StrPrinter):\n",
    "    def _print_ImaginaryUnit(self, expr):\n",
    "        return \"i\"\n",
    "    \n",
    "    def _print_Identity(self, expr):\n",
    "        return \"Id\""
   ]
  },
  {
   "cell_type": "markdown",
   "id": "d7f384c1",
   "metadata": {},
   "source": [
    "##### Number of D6-Branes\n",
    "\n",
    "N"
   ]
  },
  {
   "cell_type": "code",
   "execution_count": 362,
   "id": "13b8d153",
   "metadata": {},
   "outputs": [],
   "source": [
    "N = symbols(\"N\", real = True)\n",
    "#N = 3\n",
    "# Need an explicit number for N in order to use the .as_explicit() argument\n",
    "####### Cannot have an explicit N for derivatives as N is in the F definitions###########"
   ]
  },
  {
   "cell_type": "markdown",
   "id": "49e1fab4",
   "metadata": {},
   "source": [
    "Constants"
   ]
  },
  {
   "cell_type": "code",
   "execution_count": 363,
   "id": "7dae75da",
   "metadata": {},
   "outputs": [],
   "source": [
    "#Correct\n",
    "g = symbols(\"g\", real = True)\n",
    "c1, c2, c3, c4 =symbols(\"c1 c2 c3 c4\",  real = True)\n",
    "c12, c13, c14 = symbols(\"c12 c13 c14\",  real = True)\n",
    "c23, c24, c34 = symbols(\"c23 c24 c34\",  real = True)"
   ]
  },
  {
   "cell_type": "markdown",
   "id": "701ccb73",
   "metadata": {},
   "source": [
    "$X^i$, i = 1,2,3 \n",
    "\n",
    "$\\dot{X^i}$, i = 1,2,3 "
   ]
  },
  {
   "cell_type": "code",
   "execution_count": 364,
   "id": "47b3344c",
   "metadata": {},
   "outputs": [],
   "source": [
    "#Correct\n",
    "X1_1, X1_2, X1_3, X1_4, X1_5, X1_6, X1_7, X1_8, X1_9 = symbols(\"X1_1 X1_2 X1_3 X1_4 X1_5 X1_6 X1_7 X1_8 X1_9\", real = True)\n",
    "X2_1, X2_2, X2_3, X2_4, X2_5, X2_6, X2_7, X2_8, X2_9 = symbols(\"X2_1 X2_2 X2_3 X2_4 X2_5 X2_6 X2_7 X2_8 X2_9\", real = True)\n",
    "X3_1, X3_2, X3_3, X3_4, X3_5, X3_6, X3_7, X3_8, X3_9 = symbols(\"X3_1 X3_2 X3_3 X3_4 X3_5 X3_6 X3_7 X3_8 X3_9\", real = True)\n",
    "\n",
    "X1_1_dot, X1_2_dot, X1_3_dot, X1_4_dot, X1_5_dot, X1_6_dot, X1_7_dot, X1_8_dot, X1_9_dot = symbols(r\"X1_1_dot X1_2_dot X_3_dot X_4_dot X_5_dot X_6_dot X_7_dot X_8_dot X_9_dot\", real = True)\n",
    "X2_1_dot, X2_2_dot, X2_3_dot, X2_4_dot, X2_5_dot, X2_6_dot, X2_7_dot, X2_8_dot, X2_9_dot = symbols(r\"X2_1_dot X2_2_dot X_3_dot X_4_dot X_5_dot X_6_dot X_7_dot X_8_dot X_9_dot\", real = True)\n",
    "X3_1_dot, X3_2_dot, X3_3_dot, X3_4_dot, X3_5_dot, X3_6_dot, X3_7_dot, X3_8_dot, X3_9_dot = symbols(r\"X3_1_dot X3_2_dot X_3_dot X_4_dot X_5_dot X_6_dot X_7_dot X_8_dot X_9_dot\", real = True)"
   ]
  },
  {
   "cell_type": "markdown",
   "id": "bf95d24d",
   "metadata": {},
   "source": [
    "$X^4$\n",
    "\n",
    "$\\dot{X^4}$"
   ]
  },
  {
   "cell_type": "code",
   "execution_count": 365,
   "id": "101cafd2",
   "metadata": {},
   "outputs": [],
   "source": [
    "#Correct\n",
    "X4_1_dot = MatrixSymbol(\"X4_1_dot\", N, N)\n",
    "X4_2_dot = MatrixSymbol(\"X4_2_dot\", N, N)\n",
    "X4_3_dot = MatrixSymbol(\"X4_3_dot\", N, N)\n",
    "X4_4_dot = MatrixSymbol(\"X4_4_dot\", N, N)\n",
    "X4_5_dot = MatrixSymbol(\"X4_5_dot\", N, N)\n",
    "X4_6_dot = MatrixSymbol(\"X4_6_dot\", N, N)\n",
    "X4_7_dot = MatrixSymbol(\"X4_7_dot\", N, N)\n",
    "X4_8_dot = MatrixSymbol(\"X4_8_dot\", N, N)\n",
    "X4_9_dot = MatrixSymbol(\"X4_9_dot\", N, N)\n",
    "\n",
    "X4_1 = MatrixSymbol(\"X4_1\", N, N)\n",
    "X4_2 = MatrixSymbol(\"X4_2\", N, N)\n",
    "X4_3 = MatrixSymbol(\"X4_3\", N, N)\n",
    "X4_4 = MatrixSymbol(\"X4_4\", N, N)\n",
    "X4_5 = MatrixSymbol(\"X4_5\", N, N)\n",
    "X4_6 = MatrixSymbol(\"X4_6\", N, N)\n",
    "X4_7 = MatrixSymbol(\"X4_7\", N, N)\n",
    "X4_8 = MatrixSymbol(\"X4_8\", N, N)\n",
    "X4_9 = MatrixSymbol(\"X4_9\", N, N)"
   ]
  },
  {
   "cell_type": "markdown",
   "id": "66378f4f",
   "metadata": {},
   "source": [
    "Z = P+I Q\n",
    "\n",
    "Need to add Z^4l as column vectors and Z^k4 as column vectors. They're both column vectors\n"
   ]
  },
  {
   "cell_type": "code",
   "execution_count": 366,
   "id": "38ff5d49",
   "metadata": {},
   "outputs": [],
   "source": [
    "#Correct\n",
    "P12, P13, P21, P23, P31, P32 = symbols(r\"P12 P13 P21 P23 P^31 P32\", real = True)\n",
    "\n",
    "P12_dot, P13_dot, P21_dot, P23_dot = symbols(r\"P12_dot P13_dot P21_dot P23_dot\", real = True)\n",
    "P31_dot, P32_dot = symbols(r\"P31_dot P32_dot\", real = True)\n",
    "\n",
    "P14 = MatrixSymbol(\"P14\", 1, N)\n",
    "P24 = MatrixSymbol(\"P24\", 1, N)\n",
    "P34 = MatrixSymbol(\"P34\", 1, N)\n",
    "P41 = MatrixSymbol(\"P41\", N, 1)\n",
    "P42 = MatrixSymbol(\"P42\", N, 1)\n",
    "P43 = MatrixSymbol(\"P43\", N, 1)\n",
    "\n",
    "P14_dot = MatrixSymbol(\"P14_dot\", 1, N)\n",
    "P24_dot = MatrixSymbol(\"P24_dot\", 1, N)\n",
    "P34_dot = MatrixSymbol(\"P34_dot\", 1, N)\n",
    "P41_dot = MatrixSymbol(\"P41_dot\", N, 1)\n",
    "P42_dot = MatrixSymbol(\"P42_dot\", N, 1)\n",
    "P43_dot = MatrixSymbol(\"P43_dot\", N, 1)"
   ]
  },
  {
   "cell_type": "code",
   "execution_count": 367,
   "id": "ac3efcea",
   "metadata": {},
   "outputs": [],
   "source": [
    "#Correct\n",
    "Q12, Q13, Q21, Q23, Q31, Q32 = symbols(r\"Q12 Q13 Q21 Q23 Q31 Q32\", real = True)\n",
    "\n",
    "Q12_dot, Q13_dot, Q21_dot, Q23_dot = symbols(r\"Q12_dot Q13_dot Q21_dot Q23_dot\", real = True)\n",
    "Q31_dot, Q32_dot = symbols(r\"Q31_dot Q32_dot\", real = True)\n",
    "\n",
    "Q14 = MatrixSymbol(\"Q14\", 1, N)\n",
    "Q24 = MatrixSymbol(\"Q24\", 1, N)\n",
    "Q34 = MatrixSymbol(\"Q34\", 1, N)\n",
    "Q41 = MatrixSymbol(\"Q41\", N, 1)\n",
    "Q42 = MatrixSymbol(\"Q42\", N, 1)\n",
    "Q43 = MatrixSymbol(\"Q43\", N, 1)\n",
    "\n",
    "Q14_dot = MatrixSymbol(\"Q14_dot\", 1, N)\n",
    "Q24_dot = MatrixSymbol(\"Q24_dot\", 1, N)\n",
    "Q34_dot = MatrixSymbol(\"Q34_dot\", 1, N)\n",
    "Q41_dot = MatrixSymbol(\"Q41_dot\", N, 1)\n",
    "Q42_dot = MatrixSymbol(\"Q42_dot\", N, 1)\n",
    "Q43_dot = MatrixSymbol(\"Q43_dot\", N, 1)"
   ]
  },
  {
   "cell_type": "code",
   "execution_count": 368,
   "id": "cb4da6df",
   "metadata": {},
   "outputs": [],
   "source": [
    "#Correct\n",
    "Z12 = P12 + I * Q12\n",
    "Z13 = P13 + I * Q13\n",
    "Z21 = P21 + I * Q21\n",
    "Z23 = P23 + I * Q23\n",
    "Z31 = P31 + I * Q31\n",
    "Z32 = P32 + I * Q32\n",
    "\n",
    "Z12_dot = P12_dot + I * Q12_dot\n",
    "Z13_dot = P13_dot + I * Q13_dot\n",
    "Z21_dot = P21_dot + I * Q21_dot\n",
    "Z23_dot = P23_dot + I * Q23_dot\n",
    "Z31_dot = P31_dot + I * Q31_dot\n",
    "Z32_dot = P32_dot + I * Q32_dot\n",
    "\n",
    "Z12_dag = P12 - I * Q12\n",
    "Z13_dag = P13 - I * Q13\n",
    "Z21_dag = P21 - I * Q21\n",
    "Z23_dag = P23 - I * Q23\n",
    "Z31_dag = P31 - I * Q31\n",
    "Z32_dag = P32 - I * Q32\n",
    "\n",
    "Z12_dot_dag = P12_dot - I * Q12_dot\n",
    "Z13_dot_dag = P13_dot - I * Q13_dot\n",
    "Z21_dot_dag = P21_dot - I * Q21_dot\n",
    "Z23_dot_dag = P23_dot - I * Q23_dot\n",
    "Z31_dot_dag = P31_dot - I * Q31_dot\n",
    "Z32_dot_dag = P32_dot - I * Q32_dot"
   ]
  },
  {
   "cell_type": "code",
   "execution_count": 369,
   "id": "ac0deefb",
   "metadata": {},
   "outputs": [],
   "source": [
    "#Correct\n",
    "Z14 = P14 + I * Q14\n",
    "Z24 = P24 + I * Q24\n",
    "Z34 = P34 + I * Q34\n",
    "Z41 = P41 + I * Q41\n",
    "Z42 = P42 + I * Q42\n",
    "Z43 = P43 + I * Q43\n",
    "\n",
    "Z14_dot = P14_dot + I * Q14_dot\n",
    "Z24_dot = P24_dot + I * Q24_dot\n",
    "Z34_dot = P34_dot + I * Q34_dot\n",
    "Z41_dot = P41_dot + I * Q41_dot\n",
    "Z42_dot = P42_dot + I * Q42_dot\n",
    "Z43_dot = P43_dot + I * Q43_dot\n",
    "\n",
    "Z14_dag = P14.transpose() - I * Q14.transpose()\n",
    "Z24_dag = P24.transpose() - I * Q24.transpose()\n",
    "Z34_dag = P34.transpose() - I * Q34.transpose()\n",
    "Z41_dag = P41.transpose() - I * Q41.transpose()\n",
    "Z42_dag = P42.transpose() - I * Q42.transpose()\n",
    "Z43_dag = P43.transpose() - I * Q43.transpose()\n",
    "\n",
    "Z14_dot_dag = P14_dot.transpose() - I * Q14_dot.transpose()\n",
    "Z24_dot_dag = P24_dot.transpose() - I * Q24_dot.transpose()\n",
    "Z34_dot_dag = P34_dot.transpose() - I * Q34_dot.transpose()\n",
    "Z41_dot_dag = P41_dot.transpose() - I * Q41_dot.transpose()\n",
    "Z42_dot_dag = P42_dot.transpose() - I * Q42_dot.transpose()\n",
    "Z43_dot_dag = P43_dot.transpose() - I * Q43_dot.transpose()"
   ]
  },
  {
   "cell_type": "markdown",
   "id": "12dcc4aa",
   "metadata": {},
   "source": [
    "phi\n",
    "\n",
    "phi_dot"
   ]
  },
  {
   "cell_type": "code",
   "execution_count": 370,
   "id": "73f95752",
   "metadata": {},
   "outputs": [],
   "source": [
    "#Correct\n",
    "phi1_1 = 1/sqrt(2)*(X1_4+I*X1_5)\n",
    "phi1_2 = 1/sqrt(2)*(X1_6+I*X1_7)\n",
    "phi1_3 = 1/sqrt(2)*(X1_8+I*X1_9)\n",
    "\n",
    "phi1_1_dag = 1/sqrt(2)*(X1_4-I*X1_5)\n",
    "phi1_2_dag = 1/sqrt(2)*(X1_6-I*X1_7)\n",
    "phi1_3_dag = 1/sqrt(2)*(X1_8-I*X1_9)\n",
    "\n",
    "phi2_1 = 1/sqrt(2)*(X2_4+I*X2_5)\n",
    "phi2_2 = 1/sqrt(2)*(X2_6+I*X2_7)\n",
    "phi2_3 = 1/sqrt(2)*(X2_8+I*X2_9)\n",
    "\n",
    "phi2_1_dag = 1/sqrt(2)*(X2_4-I*X2_5)\n",
    "phi2_2_dag = 1/sqrt(2)*(X2_6-I*X2_7)\n",
    "phi2_3_dag = 1/sqrt(2)*(X2_8-I*X2_9)\n",
    "\n",
    "phi3_1 = 1/sqrt(2)*(X3_4+I*X3_5)\n",
    "phi3_2 = 1/sqrt(2)*(X3_6+I*X3_7)\n",
    "phi3_3 = 1/sqrt(2)*(X3_8+I*X3_9)\n",
    "\n",
    "phi3_1_dag = 1/sqrt(2)*(X3_4-I*X3_5)\n",
    "phi3_2_dag = 1/sqrt(2)*(X3_6-I*X3_7)\n",
    "phi3_3_dag = 1/sqrt(2)*(X3_8-I*X3_9)\n",
    "\n",
    "phi4_1 = 1/sqrt(2)*(X4_4+I*X4_5)\n",
    "phi4_2 = 1/sqrt(2)*(X4_6+I*X4_7)\n",
    "phi4_3 = 1/sqrt(2)*(X4_8+I*X4_9)\n",
    "\n",
    "phi4_1_dag = 1/sqrt(2)*(X4_4-I*X4_5)\n",
    "phi4_2_dag = 1/sqrt(2)*(X4_6-I*X4_7)\n",
    "phi4_3_dag = 1/sqrt(2)*(X4_8-I*X4_9)"
   ]
  },
  {
   "cell_type": "code",
   "execution_count": 371,
   "id": "6b3e2728",
   "metadata": {},
   "outputs": [],
   "source": [
    "#Correct\n",
    "phi12 = phi1_3 - phi2_3\n",
    "phi23 = phi2_1 - phi3_1\n",
    "phi31 = phi3_2 - phi1_2\n",
    "\n",
    "phi12_dag = phi1_3_dag - phi2_3_dag\n",
    "phi23_dag = phi2_1_dag - phi3_1_dag\n",
    "phi31_dag = phi3_2_dag - phi1_2_dag"
   ]
  },
  {
   "cell_type": "markdown",
   "id": "d2fd022b",
   "metadata": {},
   "source": [
    "Y"
   ]
  },
  {
   "cell_type": "code",
   "execution_count": 372,
   "id": "2c3e3385",
   "metadata": {},
   "outputs": [],
   "source": [
    "#Correct\n",
    "Y1_11 = X1_1 * phi1_1 - phi1_1 * X1_1\n",
    "Y1_12 = X1_1 * phi1_2 - phi1_2 * X1_1\n",
    "Y1_13 = X1_1 * phi1_3 - phi1_3 * X1_1\n",
    "Y1_21 = X1_2 * phi1_1 - phi1_1 * X1_2\n",
    "Y1_22 = X1_2 * phi1_2 - phi1_2 * X1_2\n",
    "Y1_23 = X1_2 * phi1_3 - phi1_3 * X1_2\n",
    "Y1_31 = X1_3 * phi1_1 - phi1_1 * X1_3\n",
    "Y1_32 = X1_3 * phi1_2 - phi1_2 * X1_3\n",
    "Y1_33 = X1_3 * phi1_3 - phi1_3 * X1_3\n",
    "\n",
    "Y2_11 = X2_1 * phi2_1 - phi2_1 * X2_1\n",
    "Y2_12 = X2_1 * phi2_2 - phi2_2 * X2_1\n",
    "Y2_13 = X2_1 * phi2_3 - phi2_3 * X2_1\n",
    "Y2_21 = X2_2 * phi2_1 - phi2_1 * X2_2\n",
    "Y2_22 = X2_2 * phi2_2 - phi2_2 * X2_2\n",
    "Y2_23 = X2_2 * phi2_3 - phi2_3 * X2_2\n",
    "Y2_31 = X2_3 * phi2_1 - phi2_1 * X2_3\n",
    "Y2_32 = X2_3 * phi2_2 - phi2_2 * X2_3\n",
    "Y2_33 = X2_3 * phi2_3 - phi2_3 * X2_3\n",
    "\n",
    "Y3_11 = X3_1 * phi3_1 - phi3_1 * X3_1 \n",
    "Y3_12 = X3_1 * phi3_2 - phi3_2 * X3_1 \n",
    "Y3_13 = X3_1 * phi3_3 - phi3_3 * X3_1 \n",
    "Y3_21 = X3_2 * phi3_1 - phi3_1 * X3_2\n",
    "Y3_22 = X3_2 * phi3_2 - phi3_2 * X3_2 \n",
    "Y3_23 = X3_2 * phi3_3 - phi3_3 * X3_2 \n",
    "Y3_31 = X3_3 * phi3_1 - phi3_1 * X3_3 \n",
    "Y3_32 = X3_3 * phi3_2 - phi3_2 * X3_3 \n",
    "Y3_33 = X3_3 * phi3_3 - phi3_3 * X3_3 \n",
    "\n",
    "Y4_11 = X4_1 * phi4_1 - phi4_1 * X4_1\n",
    "Y4_12 = X4_1 * phi4_2 - phi4_2 * X4_1\n",
    "Y4_13 = X4_1 * phi4_3 - phi4_3 * X4_1\n",
    "Y4_21 = X4_2 * phi4_1 - phi4_1 * X4_2\n",
    "Y4_22 = X4_2 * phi4_2 - phi4_2 * X4_2\n",
    "Y4_23 = X4_2 * phi4_3 - phi4_3 * X4_2\n",
    "Y4_31 = X4_3 * phi4_1 - phi4_1 * X4_3\n",
    "Y4_32 = X4_3 * phi4_2 - phi4_2 * X4_3\n",
    "Y4_33 = X4_3 * phi4_3 - phi4_3 * X4_3\n",
    "\n",
    "Y1_11_dag = phi1_1_dag * X1_1 - X1_1 * phi1_1_dag\n",
    "Y1_12_dag = phi1_2_dag * X1_1 - X1_1 * phi1_2_dag\n",
    "Y1_13_dag = phi1_3_dag * X1_1 - X1_1 * phi1_3_dag\n",
    "Y1_21_dag = phi1_1_dag * X1_2 - X1_2 * phi1_1_dag\n",
    "Y1_22_dag = phi1_2_dag * X1_2 - X1_2 * phi1_2_dag\n",
    "Y1_23_dag = phi1_3_dag * X1_2 - X1_2 * phi1_3_dag\n",
    "Y1_31_dag = phi1_1_dag * X1_3 - X1_3 * phi1_1_dag\n",
    "Y1_32_dag = phi1_2_dag * X1_3 - X1_3 * phi1_2_dag\n",
    "Y1_33_dag = phi1_3_dag * X1_3 - X1_3 * phi1_3_dag\n",
    "\n",
    "Y2_11_dag = phi2_1_dag * X2_1 - X2_1 * phi2_1_dag\n",
    "Y2_12_dag = phi2_2_dag * X2_1 - X2_1 * phi2_2_dag\n",
    "Y2_13_dag = phi2_3_dag * X2_1 - X2_1 * phi2_3_dag\n",
    "Y2_21_dag = phi2_1_dag * X2_2 - X2_2 * phi2_1_dag\n",
    "Y2_22_dag = phi2_2_dag * X2_2 - X2_2 * phi2_2_dag\n",
    "Y2_23_dag = phi2_3_dag * X2_2 - X2_2 * phi2_3_dag\n",
    "Y2_31_dag = phi2_1_dag * X2_3 - X2_3 * phi2_1_dag\n",
    "Y2_32_dag = phi2_2_dag * X2_3 - X2_3 * phi2_2_dag\n",
    "Y2_33_dag = phi2_3_dag * X2_3 - X2_3 * phi2_3_dag\n",
    "\n",
    "Y3_11_dag = phi3_1_dag * X3_1 - X3_1 * phi3_1_dag\n",
    "Y3_12_dag = phi3_2_dag * X3_1 - X3_1 * phi3_2_dag\n",
    "Y3_13_dag = phi3_3_dag * X3_1 - X3_1 * phi3_3_dag\n",
    "Y3_21_dag = phi3_1_dag * X3_2 - X3_2 * phi3_1_dag\n",
    "Y3_22_dag = phi3_2_dag * X3_2 - X3_2 * phi3_2_dag\n",
    "Y3_23_dag = phi3_3_dag * X3_2 - X3_2 * phi3_3_dag\n",
    "Y3_31_dag = phi3_1_dag * X3_3 - X3_3 * phi3_1_dag\n",
    "Y3_32_dag = phi3_2_dag * X3_3 - X3_3 * phi3_2_dag\n",
    "Y3_33_dag = phi3_3_dag * X3_3 - X3_3 * phi3_3_dag\n",
    "\n",
    "Y4_11_dag = phi4_1_dag * X4_1 - X4_1 * phi4_1_dag\n",
    "Y4_12_dag = phi4_2_dag * X4_1 - X4_1 * phi4_2_dag\n",
    "Y4_13_dag = phi4_3_dag * X4_1 - X4_1 * phi4_3_dag\n",
    "Y4_21_dag = phi4_1_dag * X4_2 - X4_2 * phi4_1_dag\n",
    "Y4_22_dag = phi4_2_dag * X4_2 - X4_2 * phi4_2_dag\n",
    "Y4_23_dag = phi4_3_dag * X4_2 - X4_2 * phi4_3_dag\n",
    "Y4_31_dag = phi4_1_dag * X4_3 - X4_3 * phi4_1_dag\n",
    "Y4_32_dag = phi4_2_dag * X4_3 - X4_3 * phi4_2_dag\n",
    "Y4_33_dag = phi4_3_dag * X4_3 - X4_3 * phi4_3_dag"
   ]
  },
  {
   "cell_type": "markdown",
   "id": "dc7c069e",
   "metadata": {},
   "source": [
    "F"
   ]
  },
  {
   "cell_type": "code",
   "execution_count": 373,
   "id": "900d958d",
   "metadata": {},
   "outputs": [
    {
     "data": {
      "text/latex": [
       "$\\displaystyle \\left(P_{14} + i Q_{14}\\right) \\left(P_{41} + i Q_{41}\\right)$"
      ],
      "text/plain": [
       "(ⅈ⋅Q₁₄ + P₁₄)⋅(ⅈ⋅Q₄₁ + P₄₁)"
      ]
     },
     "execution_count": 373,
     "metadata": {},
     "output_type": "execute_result"
    }
   ],
   "source": [
    "Z14 * Z41"
   ]
  },
  {
   "cell_type": "code",
   "execution_count": 374,
   "id": "a271152b",
   "metadata": {},
   "outputs": [
    {
     "data": {
      "text/latex": [
       "$\\displaystyle \\left(P_{41}^{\\dagger} + - i Q_{41}^{\\dagger}\\right) \\left(P_{14}^{\\dagger} + - i Q_{14}^{\\dagger}\\right)$"
      ],
      "text/plain": [
       "⎛      †      †⎞ ⎛      †      †⎞\n",
       "⎝-ⅈ⋅Q₄₁  + P₄₁ ⎠⋅⎝-ⅈ⋅Q₁₄  + P₁₄ ⎠"
      ]
     },
     "execution_count": 374,
     "metadata": {},
     "output_type": "execute_result"
    }
   ],
   "source": [
    "Dagger(Z14 * Z41)"
   ]
  },
  {
   "cell_type": "code",
   "execution_count": 375,
   "id": "ea4a0c79",
   "metadata": {},
   "outputs": [
    {
     "data": {
      "text/latex": [
       "$\\displaystyle \\left(P_{41}^{T} + - i Q_{41}^{T}\\right) \\left(P_{14}^{T} + - i Q_{14}^{T}\\right)$"
      ],
      "text/plain": [
       "⎛      T      T⎞ ⎛      T      T⎞\n",
       "⎝-ⅈ⋅Q₄₁  + P₄₁ ⎠⋅⎝-ⅈ⋅Q₁₄  + P₁₄ ⎠"
      ]
     },
     "execution_count": 375,
     "metadata": {},
     "output_type": "execute_result"
    }
   ],
   "source": [
    "Z41_dag * Z14_dag"
   ]
  },
  {
   "cell_type": "code",
   "execution_count": 376,
   "id": "91077e5a",
   "metadata": {},
   "outputs": [
    {
     "name": "stdout",
     "output_type": "stream",
     "text": [
      "I*I\n"
     ]
    }
   ],
   "source": [
    "print(I*Identity(1))"
   ]
  },
  {
   "cell_type": "code",
   "execution_count": 391,
   "id": "afaf1d9f",
   "metadata": {},
   "outputs": [
    {
     "data": {
      "text/latex": [
       "$\\displaystyle P_{42} + i Q_{42}$"
      ],
      "text/plain": [
       "ⅈ⋅Q₄₂ + P₄₂"
      ]
     },
     "execution_count": 391,
     "metadata": {},
     "output_type": "execute_result"
    }
   ],
   "source": [
    "(Z24 * Z42+ Identity(1)*c24*N/(g*g)).diff(P24)"
   ]
  },
  {
   "cell_type": "code",
   "execution_count": 401,
   "id": "f21d4fb1",
   "metadata": {},
   "outputs": [
    {
     "data": {
      "text/latex": [
       "$\\displaystyle \\frac{N c_{14}}{g^{2}} \\mathbb{I} + \\left(P_{14} + i Q_{14}\\right) \\left(P_{41} + i Q_{41}\\right)$"
      ],
      "text/plain": [
       "N⋅c₁₄                                \n",
       "─────⋅𝕀 + (ⅈ⋅Q₁₄ + P₁₄)⋅(ⅈ⋅Q₄₁ + P₄₁)\n",
       "   2                                 \n",
       "  g                                  "
      ]
     },
     "execution_count": 401,
     "metadata": {},
     "output_type": "execute_result"
    }
   ],
   "source": [
    "F14"
   ]
  },
  {
   "cell_type": "code",
   "execution_count": 400,
   "id": "2500425d",
   "metadata": {},
   "outputs": [
    {
     "data": {
      "text/latex": [
       "$\\displaystyle \\frac{N c_{14}}{g^{2}} + \\operatorname{tr}\\left(\\left(P_{41}^{T} + - i Q_{41}^{T}\\right) \\left(P_{14}^{T} + - i Q_{14}^{T}\\right) \\right)$"
      ],
      "text/plain": [
       "N⋅c₁₄     ⎛⎛      T      T⎞ ⎛      T      T⎞⎞\n",
       "───── + tr⎝⎝-ⅈ⋅Q₄₁  + P₄₁ ⎠⋅⎝-ⅈ⋅Q₁₄  + P₁₄ ⎠⎠\n",
       "   2                                         \n",
       "  g                                          "
      ]
     },
     "execution_count": 400,
     "metadata": {},
     "output_type": "execute_result"
    }
   ],
   "source": [
    "F14_dag"
   ]
  },
  {
   "cell_type": "code",
   "execution_count": 399,
   "id": "ba2f10a1",
   "metadata": {},
   "outputs": [
    {
     "data": {
      "text/latex": [
       "$\\displaystyle \\frac{N c_{14}}{g^{2}} \\mathbb{I} + \\left(P_{41}^{\\dagger} + - i Q_{41}^{\\dagger}\\right) \\left(P_{14}^{\\dagger} + - i Q_{14}^{\\dagger}\\right)$"
      ],
      "text/plain": [
       "N⋅c₁₄     ⎛      †      †⎞ ⎛      †      †⎞\n",
       "─────⋅𝕀 + ⎝-ⅈ⋅Q₄₁  + P₄₁ ⎠⋅⎝-ⅈ⋅Q₁₄  + P₁₄ ⎠\n",
       "   2                                       \n",
       "  g                                        "
      ]
     },
     "execution_count": 399,
     "metadata": {},
     "output_type": "execute_result"
    }
   ],
   "source": [
    "Dagger(F14)"
   ]
  },
  {
   "cell_type": "code",
   "execution_count": 402,
   "id": "5394730d",
   "metadata": {},
   "outputs": [
    {
     "ename": "ShapeError",
     "evalue": "Matrices (P41.T - I*Q41.T)*(P14.T - I*Q14.T) and (N*c14/g**2)*(P14.T - I*Q14.T) are not aligned",
     "output_type": "error",
     "traceback": [
      "\u001b[1;31m---------------------------------------------------------------------------\u001b[0m",
      "\u001b[1;31mShapeError\u001b[0m                                Traceback (most recent call last)",
      "Cell \u001b[1;32mIn[402], line 23\u001b[0m\n\u001b[0;32m     20\u001b[0m F31_dag \u001b[38;5;241m=\u001b[39m Z13_dag\u001b[38;5;241m*\u001b[39mZ31_dag \u001b[38;5;241m+\u001b[39m c13\u001b[38;5;241m/\u001b[39m(g\u001b[38;5;241m*\u001b[39mg)\n\u001b[0;32m     22\u001b[0m F14_dag \u001b[38;5;241m=\u001b[39m Z41_dag \u001b[38;5;241m*\u001b[39m Z14_dag \u001b[38;5;241m+\u001b[39m Identity(\u001b[38;5;241m1\u001b[39m)\u001b[38;5;241m*\u001b[39mc14\u001b[38;5;241m*\u001b[39mN\u001b[38;5;241m/\u001b[39m(g\u001b[38;5;241m*\u001b[39mg)\n\u001b[1;32m---> 23\u001b[0m F41_dag \u001b[38;5;241m=\u001b[39m \u001b[43mZ41_dag\u001b[49m\u001b[43m \u001b[49m\u001b[38;5;241;43m*\u001b[39;49m\u001b[43m \u001b[49m\u001b[43mZ14_dag\u001b[49m\u001b[43m \u001b[49m\u001b[38;5;241;43m+\u001b[39;49m\u001b[43m \u001b[49m\u001b[43mc14\u001b[49m\u001b[38;5;241;43m*\u001b[39;49m\u001b[43mN\u001b[49m\u001b[38;5;241;43m/\u001b[39;49m\u001b[43m(\u001b[49m\u001b[43mg\u001b[49m\u001b[38;5;241;43m*\u001b[39;49m\u001b[43mg\u001b[49m\u001b[43m)\u001b[49m\u001b[43m \u001b[49m\u001b[38;5;241;43m*\u001b[39;49m\u001b[43m \u001b[49m\u001b[43mZ14_dag\u001b[49m \u001b[38;5;241m+\u001b[39m c14\u001b[38;5;241m*\u001b[39mIdentity(N)\u001b[38;5;241m/\u001b[39m(g\u001b[38;5;241m*\u001b[39mg) \u001b[38;5;241m+\u001b[39m (\u001b[38;5;241m-\u001b[39mphi4_2_dag\u001b[38;5;241m*\u001b[39mphi4_3_dag \u001b[38;5;241m+\u001b[39m phi4_3_dag\u001b[38;5;241m*\u001b[39mphi4_2_dag)\n\u001b[0;32m     24\u001b[0m F24_dag \u001b[38;5;241m=\u001b[39m Z42_dag \u001b[38;5;241m*\u001b[39m Z24_dag \u001b[38;5;241m+\u001b[39m Identity(\u001b[38;5;241m1\u001b[39m)\u001b[38;5;241m*\u001b[39mc24\u001b[38;5;241m*\u001b[39mN\u001b[38;5;241m/\u001b[39m(g\u001b[38;5;241m*\u001b[39mg)\n\u001b[0;32m     25\u001b[0m F42_dag \u001b[38;5;241m=\u001b[39m Z42_dag \u001b[38;5;241m*\u001b[39m Z24_dag \u001b[38;5;241m+\u001b[39m c24\u001b[38;5;241m*\u001b[39mIdentity(N)\u001b[38;5;241m/\u001b[39m(g\u001b[38;5;241m*\u001b[39mg) \u001b[38;5;241m+\u001b[39m (\u001b[38;5;241m-\u001b[39mphi4_3_dag\u001b[38;5;241m*\u001b[39mphi4_1_dag \u001b[38;5;241m+\u001b[39m phi4_1_dag\u001b[38;5;241m*\u001b[39mphi4_3_dag)\n",
      "File \u001b[1;32m~\\anaconda3\\lib\\site-packages\\sympy\\matrices\\expressions\\matexpr.py:27\u001b[0m, in \u001b[0;36m_sympifyit.<locals>.deco.<locals>.__sympifyit_wrapper\u001b[1;34m(a, b)\u001b[0m\n\u001b[0;32m     25\u001b[0m \u001b[38;5;28;01mtry\u001b[39;00m:\n\u001b[0;32m     26\u001b[0m     b \u001b[38;5;241m=\u001b[39m _sympify(b)\n\u001b[1;32m---> 27\u001b[0m     \u001b[38;5;28;01mreturn\u001b[39;00m \u001b[43mfunc\u001b[49m\u001b[43m(\u001b[49m\u001b[43ma\u001b[49m\u001b[43m,\u001b[49m\u001b[43m \u001b[49m\u001b[43mb\u001b[49m\u001b[43m)\u001b[49m\n\u001b[0;32m     28\u001b[0m \u001b[38;5;28;01mexcept\u001b[39;00m SympifyError:\n\u001b[0;32m     29\u001b[0m     \u001b[38;5;28;01mreturn\u001b[39;00m retval\n",
      "File \u001b[1;32m~\\anaconda3\\lib\\site-packages\\sympy\\core\\decorators.py:106\u001b[0m, in \u001b[0;36mcall_highest_priority.<locals>.priority_decorator.<locals>.binary_op_wrapper\u001b[1;34m(self, other)\u001b[0m\n\u001b[0;32m    104\u001b[0m         \u001b[38;5;28;01mif\u001b[39;00m f \u001b[38;5;129;01mis\u001b[39;00m \u001b[38;5;129;01mnot\u001b[39;00m \u001b[38;5;28;01mNone\u001b[39;00m:\n\u001b[0;32m    105\u001b[0m             \u001b[38;5;28;01mreturn\u001b[39;00m f(\u001b[38;5;28mself\u001b[39m)\n\u001b[1;32m--> 106\u001b[0m \u001b[38;5;28;01mreturn\u001b[39;00m \u001b[43mfunc\u001b[49m\u001b[43m(\u001b[49m\u001b[38;5;28;43mself\u001b[39;49m\u001b[43m,\u001b[49m\u001b[43m \u001b[49m\u001b[43mother\u001b[49m\u001b[43m)\u001b[49m\n",
      "File \u001b[1;32m~\\anaconda3\\lib\\site-packages\\sympy\\matrices\\expressions\\matexpr.py:107\u001b[0m, in \u001b[0;36mMatrixExpr.__add__\u001b[1;34m(self, other)\u001b[0m\n\u001b[0;32m    104\u001b[0m \u001b[38;5;129m@_sympifyit\u001b[39m(\u001b[38;5;124m'\u001b[39m\u001b[38;5;124mother\u001b[39m\u001b[38;5;124m'\u001b[39m, \u001b[38;5;28mNotImplemented\u001b[39m)\n\u001b[0;32m    105\u001b[0m \u001b[38;5;129m@call_highest_priority\u001b[39m(\u001b[38;5;124m'\u001b[39m\u001b[38;5;124m__radd__\u001b[39m\u001b[38;5;124m'\u001b[39m)\n\u001b[0;32m    106\u001b[0m \u001b[38;5;28;01mdef\u001b[39;00m \u001b[38;5;21m__add__\u001b[39m(\u001b[38;5;28mself\u001b[39m, other):\n\u001b[1;32m--> 107\u001b[0m     \u001b[38;5;28;01mreturn\u001b[39;00m \u001b[43mMatAdd\u001b[49m\u001b[43m(\u001b[49m\u001b[38;5;28;43mself\u001b[39;49m\u001b[43m,\u001b[49m\u001b[43m \u001b[49m\u001b[43mother\u001b[49m\u001b[43m)\u001b[49m\u001b[38;5;241m.\u001b[39mdoit()\n",
      "File \u001b[1;32m~\\anaconda3\\lib\\site-packages\\sympy\\matrices\\expressions\\matadd.py:58\u001b[0m, in \u001b[0;36mMatAdd.__new__\u001b[1;34m(cls, evaluate, check, _sympify, *args)\u001b[0m\n\u001b[0;32m     56\u001b[0m     \u001b[38;5;28;01mif\u001b[39;00m \u001b[38;5;129;01mnot\u001b[39;00m \u001b[38;5;28many\u001b[39m(\u001b[38;5;28misinstance\u001b[39m(i, MatrixExpr) \u001b[38;5;28;01mfor\u001b[39;00m i \u001b[38;5;129;01min\u001b[39;00m args):\n\u001b[0;32m     57\u001b[0m         \u001b[38;5;28;01mreturn\u001b[39;00m Add\u001b[38;5;241m.\u001b[39mfromiter(args)\n\u001b[1;32m---> 58\u001b[0m     \u001b[43mvalidate\u001b[49m\u001b[43m(\u001b[49m\u001b[38;5;241;43m*\u001b[39;49m\u001b[43margs\u001b[49m\u001b[43m)\u001b[49m\n\u001b[0;32m     59\u001b[0m \u001b[38;5;28;01melse\u001b[39;00m:\n\u001b[0;32m     60\u001b[0m     sympy_deprecation_warning(\n\u001b[0;32m     61\u001b[0m         \u001b[38;5;124m\"\u001b[39m\u001b[38;5;124mPassing check=False to MatAdd is deprecated and the check argument will be removed in a future version.\u001b[39m\u001b[38;5;124m\"\u001b[39m,\n\u001b[0;32m     62\u001b[0m         deprecated_since_version\u001b[38;5;241m=\u001b[39m\u001b[38;5;124m\"\u001b[39m\u001b[38;5;124m1.11\u001b[39m\u001b[38;5;124m\"\u001b[39m,\n\u001b[0;32m     63\u001b[0m         active_deprecations_target\u001b[38;5;241m=\u001b[39m\u001b[38;5;124m'\u001b[39m\u001b[38;5;124mremove-check-argument-from-matrix-operations\u001b[39m\u001b[38;5;124m'\u001b[39m)\n",
      "File \u001b[1;32m~\\anaconda3\\lib\\site-packages\\sympy\\matrices\\expressions\\matadd.py:119\u001b[0m, in \u001b[0;36mvalidate\u001b[1;34m(*args)\u001b[0m\n\u001b[0;32m    117\u001b[0m \u001b[38;5;28;01mfor\u001b[39;00m B \u001b[38;5;129;01min\u001b[39;00m args[\u001b[38;5;241m1\u001b[39m:]:\n\u001b[0;32m    118\u001b[0m     \u001b[38;5;28;01mif\u001b[39;00m A\u001b[38;5;241m.\u001b[39mshape \u001b[38;5;241m!=\u001b[39m B\u001b[38;5;241m.\u001b[39mshape:\n\u001b[1;32m--> 119\u001b[0m         \u001b[38;5;28;01mraise\u001b[39;00m ShapeError(\u001b[38;5;124m\"\u001b[39m\u001b[38;5;124mMatrices \u001b[39m\u001b[38;5;132;01m%s\u001b[39;00m\u001b[38;5;124m and \u001b[39m\u001b[38;5;132;01m%s\u001b[39;00m\u001b[38;5;124m are not aligned\u001b[39m\u001b[38;5;124m\"\u001b[39m\u001b[38;5;241m%\u001b[39m(A, B))\n",
      "\u001b[1;31mShapeError\u001b[0m: Matrices (P41.T - I*Q41.T)*(P14.T - I*Q14.T) and (N*c14/g**2)*(P14.T - I*Q14.T) are not aligned"
     ]
    }
   ],
   "source": [
    "F12 = Z12*Z21 + c12/(g*g)\n",
    "F21 = Z21*Z12 + c12/(g*g)\n",
    "F23 = Z23*Z32 + c23/(g*g)\n",
    "F32 = Z32*Z23 + c23/(g*g)\n",
    "F13 = Z13*Z31 + c13/(g*g)\n",
    "F31 = Z31*Z13 + c13/(g*g)\n",
    "\n",
    "F14 = Z14 * Z41 + Identity(1)*c14*N/(g*g)\n",
    "F41 = Z41 * Z14 + c14*Identity(N)/(g*g) + (phi4_2*phi4_3 - phi4_3*phi4_2)\n",
    "F24 = Z24 * Z42 + Identity(1)*c24*N/(g*g)\n",
    "F42 = Z42 * Z24 + c24*Identity(N)/(g*g) + (phi4_3*phi4_1 - phi4_1*phi4_3)\n",
    "F34 = Z34 * Z43 + Identity(1)*c34*N/(g*g)\n",
    "F43 = Z43 * Z34 + c34*Identity(N)/(g*g) - (phi4_2*phi4_1 - phi4_1*phi4_2)\n",
    "\n",
    "F12_dag = Z21_dag*Z12_dag + c12/(g*g)\n",
    "F21_dag = Z12_dag*Z21_dag + c12/(g*g)\n",
    "F23_dag = Z32_dag*Z23_dag + c23/(g*g)\n",
    "F32_dag = Z23_dag*Z32_dag + c23/(g*g)\n",
    "F13_dag = Z31_dag*Z13_dag + c13/(g*g)\n",
    "F31_dag = Z13_dag*Z31_dag + c13/(g*g)\n",
    "\n",
    "F14_dag = Z41_dag * Z14_dag + Identity(1)*c14*N/(g*g)\n",
    "F41_dag = Z41_dag * Z14_dag + c14*N/(g*g) * Z14_dag + c14*Identity(N)/(g*g) + (-phi4_2_dag*phi4_3_dag + phi4_3_dag*phi4_2_dag)\n",
    "F24_dag = Z42_dag * Z24_dag + Identity(1)*c24*N/(g*g)\n",
    "F42_dag = Z42_dag * Z24_dag + c24*Identity(N)/(g*g) + (-phi4_3_dag*phi4_1_dag + phi4_1_dag*phi4_3_dag)\n",
    "F34_dag = Z43_dag * Z34_dag + Identity(1)*c34*N/(g*g)\n",
    "F43_dag = Z43_dag * Z34_dag + c34*Identity(N)/(g*g) - (-phi4_2_dag*phi4_1_dag + phi4_1_dag*phi4_2_dag)"
   ]
  },
  {
   "cell_type": "code",
   "execution_count": null,
   "id": "28911028",
   "metadata": {},
   "outputs": [],
   "source": []
  },
  {
   "cell_type": "markdown",
   "id": "a8859ad7",
   "metadata": {},
   "source": [
    "G"
   ]
  },
  {
   "cell_type": "code",
   "execution_count": null,
   "id": "324c1de5",
   "metadata": {},
   "outputs": [],
   "source": [
    "G21 = phi12 * Z21 + Z23*Z31 + Trace( MatMul(Z24,Z41) )\n",
    "G12 = phi12 * Z12 + Z13*Z32 + Trace( MatMul(Z14,Z42) )\n",
    "\n",
    "G31 = phi31 * Z31 + Z32*Z21 - Trace( MatMul(Z34,Z41) )\n",
    "G13 = phi31 * Z13 + Z12*Z23 + Trace( MatMul(Z14,Z43) )\n",
    "\n",
    "G32 = phi23 * Z32 + Z31*Z12 + Trace( MatMul(Z34,Z42) )\n",
    "G23 = phi23 * Z23 + Z21*Z13 + Trace( MatMul(Z24,Z43) )\n",
    "\n",
    "G41 = -phi4_1 * Z41 + Z42*Z21 + Z43*Z31\n",
    "G14 = -Z14 * phi4_1 + Z12*Z24 - Z13*Z34\n",
    "\n",
    "G42 = -phi4_2 * Z42 + Z43*Z32 + Z41*Z12\n",
    "G24 = -Z24 * phi4_2 + Z21*Z14 + Z23*Z34\n",
    "\n",
    "G43 = -phi4_3 * Z43 - Z41*Z13 + Z42*Z23\n",
    "G34 = -Z34 * phi4_3 + Z31*Z14 + Z32*Z24\n",
    "\n",
    "G21_dag = phi12_dag * Z21_dag + Z23_dag*Z31_dag + Dagger(Trace( MatMul(Z24,Z41) ))\n",
    "G12_dag = phi12_dag * Z12_dag + Z13_dag*Z32_dag + Dagger(Trace( MatMul(Z14,Z42) ))\n",
    "\n",
    "G31_dag = phi31_dag * Z31_dag + Z32_dag*Z21_dag - Dagger(Trace( MatMul(Z34,Z41) ))\n",
    "G13_dag = phi31_dag * Z13_dag + Z12_dag*Z23_dag + Dagger(Trace( MatMul(Z14,Z43) ))\n",
    "\n",
    "G32_dag = phi23_dag * Z32_dag + Z31_dag*Z12_dag + Dagger(Trace( MatMul(Z34,Z42) ))\n",
    "G23_dag = phi23_dag * Z23_dag + Z21_dag*Z13_dag + Dagger(Trace( MatMul(Z24,Z43) ))\n",
    "\n",
    "G41_dag = -Z41_dag * phi4_1_dag + Z42_dag*Z21_dag + Z43_dag*Z31_dag\n",
    "G14_dag = -phi4_1_dag * Z14_dag + Z12_dag*Z24_dag - Z13_dag*Z34_dag\n",
    "\n",
    "G42_dag = -Z42_dag * phi4_2_dag + Z43_dag*Z32_dag + Z41_dag*Z12_dag\n",
    "G24_dag = -phi4_2_dag * Z24_dag + Z21_dag*Z14_dag + Z23_dag*Z34_dag\n",
    "\n",
    "G43_dag = -Z43_dag * phi4_3_dag - Z41_dag*Z13_dag + Z42_dag*Z23_dag\n",
    "G34_dag = -phi4_3_dag * Z34_dag + Z31_dag*Z14_dag + Z32_dag*Z24_dag"
   ]
  },
  {
   "cell_type": "markdown",
   "id": "ba4b8d5d",
   "metadata": {},
   "source": [
    "H"
   ]
  },
  {
   "cell_type": "code",
   "execution_count": null,
   "id": "d8f6260f",
   "metadata": {},
   "outputs": [],
   "source": [
    "H12_1 = X1_1*Z12 - Z12*X2_1\n",
    "H12_2 = X1_2*Z12 - Z12*X2_2\n",
    "H12_3 = X1_3*Z12 - Z12*X2_3\n",
    "\n",
    "H21_1 = X2_1*Z21 - Z21*X1_1\n",
    "H21_2 = X2_2*Z21 - Z21*X1_2\n",
    "H21_3 = X2_3*Z21 - Z21*X1_3\n",
    "\n",
    "H13_1 = X1_1*Z13 - Z13*X3_1\n",
    "H13_2 = X1_2*Z13 - Z13*X3_2\n",
    "H13_3 = X1_3*Z13 - Z13*X3_3\n",
    "\n",
    "H31_1 = X3_1*Z31 - Z31*X1_1\n",
    "H31_2 = X3_2*Z31 - Z31*X1_2\n",
    "H31_3 = X3_3*Z31 - Z31*X1_3\n",
    "\n",
    "H14_1 = X1_1*Z14 - Z14*X4_1\n",
    "H14_2 = X1_2*Z14 - Z14*X4_2\n",
    "H14_3 = X1_3*Z14 - Z14*X4_3\n",
    "\n",
    "H41_1 = X4_1*Z41 - Z41*X1_1\n",
    "H41_2 = X4_2*Z41 - Z41*X1_2\n",
    "H41_3 = X4_3*Z41 - Z41*X1_3\n",
    "\n",
    "H32_1 = X3_1*Z32 - Z32*X2_1\n",
    "H32_2 = X3_2*Z32 - Z32*X2_2\n",
    "H32_3 = X3_3*Z32 - Z32*X2_3\n",
    "\n",
    "H23_1 = X2_1*Z23 - Z23*X3_1\n",
    "H23_2 = X2_2*Z23 - Z23*X3_2\n",
    "H23_3 = X2_3*Z23 - Z23*X3_3\n",
    "\n",
    "H34_1 = X3_1*Z34 - Z34*X4_1\n",
    "H34_2 = X3_2*Z34 - Z34*X4_2\n",
    "H34_3 = X3_3*Z34 - Z34*X4_3\n",
    "\n",
    "H43_1 = X4_1*Z43 - Z43*X3_1\n",
    "H43_2 = X4_2*Z43 - Z43*X3_2\n",
    "H43_3 = X4_3*Z43 - Z43*X3_3\n",
    "\n",
    "H24_1 = X2_1*Z24 - Z24*X4_1\n",
    "H24_2 = X2_2*Z24 - Z24*X4_2\n",
    "H24_3 = X2_3*Z24 - Z24*X4_3\n",
    "\n",
    "H42_1 = X4_1*Z42 - Z42*X2_1\n",
    "H42_2 = X4_2*Z42 - Z42*X2_2\n",
    "H42_3 = X4_3*Z42 - Z42*X2_3\n",
    "\n",
    "H12_1_dag = X1_1*Z12_dag - Z12_dag*X2_1\n",
    "H12_2_dag = X1_2*Z12_dag - Z12_dag*X2_2\n",
    "H12_3_dag = X1_3*Z12_dag - Z12_dag*X2_3\n",
    "\n",
    "H21_1_dag = X2_1*Z21_dag - Z21_dag*X1_1\n",
    "H21_2_dag = X2_2*Z21_dag - Z21_dag*X1_2\n",
    "H21_3_dag = X2_3*Z21_dag - Z21_dag*X1_3\n",
    "\n",
    "H13_1_dag = X1_1*Z13_dag - Z13_dag*X3_1\n",
    "H13_2_dag = X1_2*Z13_dag - Z13_dag*X3_2\n",
    "H13_3_dag = X1_3*Z13_dag - Z13_dag*X3_3\n",
    "\n",
    "H31_1_dag = X3_1*Z31_dag - Z31_dag*X1_1\n",
    "H31_2_dag = X3_2*Z31_dag - Z31_dag*X1_2\n",
    "H31_3_dag = X3_3*Z31_dag - Z31_dag*X1_3\n",
    "\n",
    "H14_1_dag = Z14_dag*X1_1 - X4_1*Z14_dag\n",
    "H14_2_dag = Z14_dag*X1_2 - X4_2*Z14_dag\n",
    "H14_3_dag = Z14_dag*X1_3 - X4_3*Z14_dag\n",
    "\n",
    "H41_1_dag = Z41_dag*X4_1 - X1_1*Z41_dag\n",
    "H41_2_dag = Z41_dag*X4_2 - X1_2*Z41_dag\n",
    "H41_3_dag = Z41_dag*X4_3 - X1_3*Z41_dag\n",
    "\n",
    "H32_1_dag = Z32_dag*X3_1 - X2_1*Z32_dag\n",
    "H32_2_dag = Z32_dag*X3_2 - X2_2*Z32_dag\n",
    "H32_3_dag = Z32_dag*X3_3 - X2_3*Z32_dag\n",
    "\n",
    "H23_1_dag = Z23_dag*X2_1 - X3_1*Z23_dag\n",
    "H23_2_dag = Z23_dag*X2_2 - X3_2*Z23_dag\n",
    "H23_3_dag = Z23_dag*X2_3 - X3_3*Z23_dag\n",
    "\n",
    "H34_1_dag = Z34_dag*X3_1 - X4_1*Z34_dag\n",
    "H34_2_dag = Z34_dag*X3_2 - X4_2*Z34_dag\n",
    "H34_3_dag = Z34_dag*X3_3 - X4_3*Z34_dag\n",
    "\n",
    "H43_1_dag = Z43_dag*X4_1 - X3_1*Z43_dag\n",
    "H43_2_dag = Z43_dag*X4_2 - X3_2*Z43_dag\n",
    "H43_3_dag = Z43_dag*X4_3 - X3_3*Z43_dag\n",
    "\n",
    "H24_1_dag = Z24_dag*X2_1 - X4_1*Z24_dag\n",
    "H24_2_dag = Z24_dag*X2_2 - X4_2*Z24_dag\n",
    "H24_3_dag = Z24_dag*X2_3 - X4_3*Z24_dag\n",
    "\n",
    "H42_1_dag = Z42_dag*X4_1 - X2_1*Z42_dag\n",
    "H42_2_dag = Z42_dag*X4_2 - X2_2*Z42_dag\n",
    "H42_3_dag = Z42_dag*X4_3 - X2_3*Z42_dag"
   ]
  },
  {
   "cell_type": "markdown",
   "id": "afa51cb8",
   "metadata": {},
   "source": [
    "$X^k_{ab}$"
   ]
  },
  {
   "cell_type": "code",
   "execution_count": null,
   "id": "b9f6aa90",
   "metadata": {},
   "outputs": [],
   "source": [
    "X1_12 = X1_1*X1_2 - X1_2*X1_1\n",
    "X1_21 = X1_2*X1_1 - X1_1*X1_2\n",
    "X1_13 = X1_1*X1_3 - X1_3*X1_1\n",
    "X1_31 = X1_3*X1_1 - X1_1*X1_3\n",
    "X1_23 = X1_2*X1_3 - X1_3*X1_2\n",
    "X1_32 = X1_3*X1_2 - X1_2*X1_3\n",
    "\n",
    "X2_12 = X2_1*X2_2 - X2_2*X2_1\n",
    "X2_21 = X2_2*X2_1 - X2_1*X2_2\n",
    "X2_13 = X2_1*X2_3 - X2_3*X2_1\n",
    "X2_31 = X2_3*X2_1 - X2_1*X2_3\n",
    "X2_23 = X2_2*X2_3 - X2_3*X2_2\n",
    "X2_32 = X2_3*X2_2 - X2_2*X2_3\n",
    "\n",
    "X3_12 = X3_1*X3_2 - X3_2*X3_1\n",
    "X3_21 = X3_2*X3_1 - X3_1*X3_2\n",
    "X3_13 = X3_1*X3_3 - X3_3*X3_1\n",
    "X3_31 = X3_3*X3_1 - X3_1*X3_3\n",
    "X3_23 = X3_2*X3_3 - X3_3*X3_2\n",
    "X3_32 = X3_3*X3_2 - X3_2*X3_3\n",
    "\n",
    "X4_12 = X4_1*X4_2 - X4_2*X4_1\n",
    "X4_21 = X4_2*X4_1 - X4_1*X4_2\n",
    "X4_13 = X4_1*X4_3 - X4_3*X4_1\n",
    "X4_31 = X4_3*X4_1 - X4_1*X4_3\n",
    "X4_23 = X4_2*X4_3 - X4_3*X4_2\n",
    "X4_32 = X4_3*X4_2 - X4_2*X4_3"
   ]
  },
  {
   "cell_type": "markdown",
   "id": "4aa90e8e",
   "metadata": {},
   "source": [
    "K"
   ]
  },
  {
   "cell_type": "code",
   "execution_count": null,
   "id": "58ed7995",
   "metadata": {},
   "outputs": [],
   "source": [
    "K1 = 1/2 * ( X1_1_dot**2+X1_2_dot**2+X1_3_dot**2+X1_4_dot**2+X1_5_dot**2+X1_6_dot**2+X1_7_dot**2+X1_8_dot**2+X1_9_dot**2 +\n",
    "             X2_1_dot**2+X2_2_dot**2+X2_3_dot**2+X2_4_dot**2+X2_5_dot**2+X2_6_dot**2+X2_7_dot**2+X2_8_dot**2+X2_9_dot**2 +\n",
    "             X3_1_dot**2+X3_2_dot**2+X3_3_dot**2+X3_4_dot**2+X3_5_dot**2+X3_6_dot**2+X3_7_dot**2+X3_8_dot**2+X3_9_dot**2 +\n",
    "             Trace( MatMul(X4_1_dot, X4_1_dot) ) + Trace( MatMul(X4_2_dot, X4_2_dot) ) + Trace( MatMul(X4_3_dot, X4_3_dot) ) + \n",
    "             Trace( MatMul(X4_4_dot, X4_4_dot) ) + Trace( MatMul(X4_5_dot, X4_5_dot) ) + Trace( MatMul(X4_6_dot, X4_6_dot) ) + \n",
    "             Trace( MatMul(X4_7_dot, X4_7_dot) ) + Trace( MatMul(X4_8_dot, X4_8_dot) ) + Trace( MatMul(X4_9_dot, X4_9_dot) ) )\n",
    "\n",
    "K2 = 1/2 * ( Dagger(Z12_dot)*Z12_dot + Dagger(Z13_dot)*Z13_dot + Trace(Z14_dot_dag*Z14_dot) + Dagger(Z21_dot)*Z21_dot + \n",
    "             Dagger(Z23_dot)*Z23_dot + Trace(Z24_dot_dag*Z24_dot) + Dagger(Z31_dot)*Z31_dot + Dagger(Z32_dot)*Z32_dot + \n",
    "             Trace(Z34_dot_dag*Z34_dot) + Trace(Z41_dot_dag*Z41_dot) + Trace(Z42_dot_dag*Z42_dot) + \n",
    "             Trace(Z43_dot_dag*Z43_dot) )\n",
    "\n",
    "K = K1 + K2\n",
    "K.diff(X1_1_dot)"
   ]
  },
  {
   "cell_type": "markdown",
   "id": "e36d6e13",
   "metadata": {},
   "source": [
    "V"
   ]
  },
  {
   "cell_type": "code",
   "execution_count": 378,
   "id": "4573bf04",
   "metadata": {
    "scrolled": true
   },
   "outputs": [
    {
     "ename": "ShapeError",
     "evalue": "Matrices (c14/g**2)*I + (Adjoint(P14) - I*Adjoint(Q14))*(Adjoint(P41) - I*Adjoint(Q41)) - (1/2)*(X4_6 - I*X4_7)*(X4_8 - I*X4_9) + (1/2)*(X4_8 - I*X4_9)*(X4_6 - I*X4_7) and (c14/g**2)*I + (P41 + I*Q41)*(P14 + I*Q14) + (1/2)*(X4_6 + I*X4_7)*(X4_8 + I*X4_9) - (1/2)*(X4_8 + I*X4_9)*(X4_6 + I*X4_7) are not aligned",
     "output_type": "error",
     "traceback": [
      "\u001b[1;31m---------------------------------------------------------------------------\u001b[0m",
      "\u001b[1;31mShapeError\u001b[0m                                Traceback (most recent call last)",
      "Cell \u001b[1;32mIn[378], line 69\u001b[0m\n\u001b[0;32m     57\u001b[0m V_D_arg_k4 \u001b[38;5;241m=\u001b[39m (Z41 \u001b[38;5;241m*\u001b[39m Z41_dag \u001b[38;5;241m+\u001b[39m Z42 \u001b[38;5;241m*\u001b[39m Z42_dag \u001b[38;5;241m+\u001b[39m Z43 \u001b[38;5;241m*\u001b[39m Z43_dag \u001b[38;5;241m+\u001b[39m \n\u001b[0;32m     58\u001b[0m               ( Z14_dag \u001b[38;5;241m*\u001b[39m Z14 \u001b[38;5;241m+\u001b[39m Z24_dag \u001b[38;5;241m*\u001b[39m Z24 \u001b[38;5;241m+\u001b[39m Z34_dag \u001b[38;5;241m*\u001b[39m Z34 ) \u001b[38;5;241m+\u001b[39m \n\u001b[0;32m     59\u001b[0m               ( (phi4_1\u001b[38;5;241m*\u001b[39mphi4_1_dag)\u001b[38;5;241m.\u001b[39mexpand() \u001b[38;5;241m-\u001b[39m (phi4_1_dag\u001b[38;5;241m*\u001b[39mphi4_1)\u001b[38;5;241m.\u001b[39mexpand() \u001b[38;5;241m+\u001b[39m (phi4_2\u001b[38;5;241m*\u001b[39mphi4_2_dag)\u001b[38;5;241m.\u001b[39mexpand() \u001b[38;5;241m-\u001b[39m \n\u001b[0;32m     60\u001b[0m                 (phi4_2_dag\u001b[38;5;241m*\u001b[39mphi4_2)\u001b[38;5;241m.\u001b[39mexpand() \u001b[38;5;241m+\u001b[39m (phi4_3\u001b[38;5;241m*\u001b[39mphi4_3_dag)\u001b[38;5;241m.\u001b[39mexpand() \u001b[38;5;241m-\u001b[39m (phi4_3_dag\u001b[38;5;241m*\u001b[39mphi4_3)\u001b[38;5;241m.\u001b[39mexpand() ) \u001b[38;5;241m-\u001b[39m \n\u001b[0;32m     61\u001b[0m               c4\u001b[38;5;241m/\u001b[39m(g\u001b[38;5;241m*\u001b[39mg)\u001b[38;5;241m*\u001b[39mIdentity(N) )\n\u001b[0;32m     64\u001b[0m V_D \u001b[38;5;241m=\u001b[39m \u001b[38;5;241m1\u001b[39m\u001b[38;5;241m/\u001b[39m\u001b[38;5;241m2\u001b[39m \u001b[38;5;241m*\u001b[39m ((V_D_arg_k1 \u001b[38;5;241m*\u001b[39m V_D_arg_k1)\u001b[38;5;241m.\u001b[39mexpand() \u001b[38;5;241m+\u001b[39m (V_D_arg_k2 \u001b[38;5;241m*\u001b[39m V_D_arg_k2)\u001b[38;5;241m.\u001b[39mexpand() \u001b[38;5;241m+\u001b[39m \n\u001b[0;32m     65\u001b[0m              (V_D_arg_k3 \u001b[38;5;241m*\u001b[39m V_D_arg_k3)\u001b[38;5;241m.\u001b[39mexpand() \u001b[38;5;241m+\u001b[39m Trace(V_D_arg_k4 \u001b[38;5;241m*\u001b[39m V_D_arg_k4)\u001b[38;5;241m.\u001b[39mexpand() )\n\u001b[0;32m     67\u001b[0m V_F \u001b[38;5;241m=\u001b[39m ( Abs(F12)\u001b[38;5;241m*\u001b[39mAbs(F12) \u001b[38;5;241m+\u001b[39m Abs(F21)\u001b[38;5;241m*\u001b[39mAbs(F21) \u001b[38;5;241m+\u001b[39m Abs(F13)\u001b[38;5;241m*\u001b[39mAbs(F13) \u001b[38;5;241m+\u001b[39m Abs(F31)\u001b[38;5;241m*\u001b[39mAbs(F31) \u001b[38;5;241m+\u001b[39m Abs(F32)\u001b[38;5;241m*\u001b[39mAbs(F32) \u001b[38;5;241m+\u001b[39m Abs(F23)\u001b[38;5;241m*\u001b[39mAbs(F23) \u001b[38;5;241m+\u001b[39m\n\u001b[0;32m     68\u001b[0m         F14 \u001b[38;5;241m*\u001b[39m F14_dag \u001b[38;5;241m+\u001b[39m F24 \u001b[38;5;241m*\u001b[39m F24_dag \u001b[38;5;241m+\u001b[39m F34 \u001b[38;5;241m*\u001b[39m F34_dag \u001b[38;5;241m+\u001b[39m \n\u001b[1;32m---> 69\u001b[0m         Trace( \u001b[43mF41_dag\u001b[49m\u001b[43m \u001b[49m\u001b[38;5;241;43m*\u001b[39;49m\u001b[43m \u001b[49m\u001b[43mF41\u001b[49m ) \u001b[38;5;241m+\u001b[39m Trace( F42_dag \u001b[38;5;241m*\u001b[39m F42) \u001b[38;5;241m+\u001b[39m Trace( F43_dag \u001b[38;5;241m*\u001b[39m F43 )\u001b[38;5;241m+\u001b[39m\n\u001b[0;32m     70\u001b[0m         Abs(G12)\u001b[38;5;241m*\u001b[39mAbs(G12) \u001b[38;5;241m+\u001b[39m Abs(G21)\u001b[38;5;241m*\u001b[39mAbs(G21) \u001b[38;5;241m+\u001b[39m Abs(G13)\u001b[38;5;241m*\u001b[39mAbs(G13) \u001b[38;5;241m+\u001b[39m Abs(G31)\u001b[38;5;241m*\u001b[39mAbs(G31) \u001b[38;5;241m+\u001b[39m Abs(G32)\u001b[38;5;241m*\u001b[39mAbs(G32) \u001b[38;5;241m+\u001b[39m Abs(G23)\u001b[38;5;241m*\u001b[39mAbs(G23) \u001b[38;5;241m+\u001b[39m \n\u001b[0;32m     71\u001b[0m         Trace( (G41_dag \u001b[38;5;241m*\u001b[39m G41) )\u001b[38;5;241m.\u001b[39mexpand() \u001b[38;5;241m+\u001b[39m Trace( (G14 \u001b[38;5;241m*\u001b[39m G14_dag) )\u001b[38;5;241m.\u001b[39mexpand() \u001b[38;5;241m+\u001b[39m Trace( (G42_dag \u001b[38;5;241m*\u001b[39m G42) )\u001b[38;5;241m.\u001b[39mexpand() \u001b[38;5;241m+\u001b[39m \n\u001b[0;32m     72\u001b[0m         Trace( (G24 \u001b[38;5;241m*\u001b[39m G24_dag) )\u001b[38;5;241m.\u001b[39mexpand() \u001b[38;5;241m+\u001b[39m Trace( (G43_dag \u001b[38;5;241m*\u001b[39m G43) )\u001b[38;5;241m.\u001b[39mexpand() \u001b[38;5;241m+\u001b[39m Trace( (G34 \u001b[38;5;241m*\u001b[39m G34_dag) )\u001b[38;5;241m.\u001b[39mexpand() )\n\u001b[0;32m     74\u001b[0m V \u001b[38;5;241m=\u001b[39m \u001b[38;5;241m1\u001b[39m\u001b[38;5;241m/\u001b[39m\u001b[38;5;241m2\u001b[39m \u001b[38;5;241m*\u001b[39m g\u001b[38;5;241m*\u001b[39mg\u001b[38;5;241m*\u001b[39m(V_gauge \u001b[38;5;241m+\u001b[39m V_D \u001b[38;5;241m+\u001b[39m V_F)\n\u001b[0;32m     75\u001b[0m V\n",
      "File \u001b[1;32m~\\anaconda3\\lib\\site-packages\\sympy\\matrices\\expressions\\matexpr.py:27\u001b[0m, in \u001b[0;36m_sympifyit.<locals>.deco.<locals>.__sympifyit_wrapper\u001b[1;34m(a, b)\u001b[0m\n\u001b[0;32m     25\u001b[0m \u001b[38;5;28;01mtry\u001b[39;00m:\n\u001b[0;32m     26\u001b[0m     b \u001b[38;5;241m=\u001b[39m _sympify(b)\n\u001b[1;32m---> 27\u001b[0m     \u001b[38;5;28;01mreturn\u001b[39;00m \u001b[43mfunc\u001b[49m\u001b[43m(\u001b[49m\u001b[43ma\u001b[49m\u001b[43m,\u001b[49m\u001b[43m \u001b[49m\u001b[43mb\u001b[49m\u001b[43m)\u001b[49m\n\u001b[0;32m     28\u001b[0m \u001b[38;5;28;01mexcept\u001b[39;00m SympifyError:\n\u001b[0;32m     29\u001b[0m     \u001b[38;5;28;01mreturn\u001b[39;00m retval\n",
      "File \u001b[1;32m~\\anaconda3\\lib\\site-packages\\sympy\\core\\decorators.py:106\u001b[0m, in \u001b[0;36mcall_highest_priority.<locals>.priority_decorator.<locals>.binary_op_wrapper\u001b[1;34m(self, other)\u001b[0m\n\u001b[0;32m    104\u001b[0m         \u001b[38;5;28;01mif\u001b[39;00m f \u001b[38;5;129;01mis\u001b[39;00m \u001b[38;5;129;01mnot\u001b[39;00m \u001b[38;5;28;01mNone\u001b[39;00m:\n\u001b[0;32m    105\u001b[0m             \u001b[38;5;28;01mreturn\u001b[39;00m f(\u001b[38;5;28mself\u001b[39m)\n\u001b[1;32m--> 106\u001b[0m \u001b[38;5;28;01mreturn\u001b[39;00m \u001b[43mfunc\u001b[49m\u001b[43m(\u001b[49m\u001b[38;5;28;43mself\u001b[39;49m\u001b[43m,\u001b[49m\u001b[43m \u001b[49m\u001b[43mother\u001b[49m\u001b[43m)\u001b[49m\n",
      "File \u001b[1;32m~\\anaconda3\\lib\\site-packages\\sympy\\matrices\\expressions\\matexpr.py:127\u001b[0m, in \u001b[0;36mMatrixExpr.__mul__\u001b[1;34m(self, other)\u001b[0m\n\u001b[0;32m    124\u001b[0m \u001b[38;5;129m@_sympifyit\u001b[39m(\u001b[38;5;124m'\u001b[39m\u001b[38;5;124mother\u001b[39m\u001b[38;5;124m'\u001b[39m, \u001b[38;5;28mNotImplemented\u001b[39m)\n\u001b[0;32m    125\u001b[0m \u001b[38;5;129m@call_highest_priority\u001b[39m(\u001b[38;5;124m'\u001b[39m\u001b[38;5;124m__rmul__\u001b[39m\u001b[38;5;124m'\u001b[39m)\n\u001b[0;32m    126\u001b[0m \u001b[38;5;28;01mdef\u001b[39;00m \u001b[38;5;21m__mul__\u001b[39m(\u001b[38;5;28mself\u001b[39m, other):\n\u001b[1;32m--> 127\u001b[0m     \u001b[38;5;28;01mreturn\u001b[39;00m \u001b[43mMatMul\u001b[49m\u001b[43m(\u001b[49m\u001b[38;5;28;43mself\u001b[39;49m\u001b[43m,\u001b[49m\u001b[43m \u001b[49m\u001b[43mother\u001b[49m\u001b[43m)\u001b[49m\u001b[38;5;241m.\u001b[39mdoit()\n",
      "File \u001b[1;32m~\\anaconda3\\lib\\site-packages\\sympy\\matrices\\expressions\\matmul.py:60\u001b[0m, in \u001b[0;36mMatMul.__new__\u001b[1;34m(cls, evaluate, check, _sympify, *args)\u001b[0m\n\u001b[0;32m     54\u001b[0m     sympy_deprecation_warning(\n\u001b[0;32m     55\u001b[0m         \u001b[38;5;124m\"\u001b[39m\u001b[38;5;124mPassing check to MatMul is deprecated and the check argument will be removed in a future version.\u001b[39m\u001b[38;5;124m\"\u001b[39m,\n\u001b[0;32m     56\u001b[0m         deprecated_since_version\u001b[38;5;241m=\u001b[39m\u001b[38;5;124m\"\u001b[39m\u001b[38;5;124m1.11\u001b[39m\u001b[38;5;124m\"\u001b[39m,\n\u001b[0;32m     57\u001b[0m         active_deprecations_target\u001b[38;5;241m=\u001b[39m\u001b[38;5;124m'\u001b[39m\u001b[38;5;124mremove-check-argument-from-matrix-operations\u001b[39m\u001b[38;5;124m'\u001b[39m)\n\u001b[0;32m     59\u001b[0m \u001b[38;5;28;01mif\u001b[39;00m check \u001b[38;5;129;01min\u001b[39;00m (\u001b[38;5;28;01mTrue\u001b[39;00m, \u001b[38;5;28;01mNone\u001b[39;00m):\n\u001b[1;32m---> 60\u001b[0m     \u001b[43mvalidate\u001b[49m\u001b[43m(\u001b[49m\u001b[38;5;241;43m*\u001b[39;49m\u001b[43mmatrices\u001b[49m\u001b[43m)\u001b[49m\n\u001b[0;32m     61\u001b[0m \u001b[38;5;28;01melse\u001b[39;00m:\n\u001b[0;32m     62\u001b[0m     sympy_deprecation_warning(\n\u001b[0;32m     63\u001b[0m         \u001b[38;5;124m\"\u001b[39m\u001b[38;5;124mPassing check=False to MatMul is deprecated and the check argument will be removed in a future version.\u001b[39m\u001b[38;5;124m\"\u001b[39m,\n\u001b[0;32m     64\u001b[0m         deprecated_since_version\u001b[38;5;241m=\u001b[39m\u001b[38;5;124m\"\u001b[39m\u001b[38;5;124m1.11\u001b[39m\u001b[38;5;124m\"\u001b[39m,\n\u001b[0;32m     65\u001b[0m         active_deprecations_target\u001b[38;5;241m=\u001b[39m\u001b[38;5;124m'\u001b[39m\u001b[38;5;124mremove-check-argument-from-matrix-operations\u001b[39m\u001b[38;5;124m'\u001b[39m)\n",
      "File \u001b[1;32m~\\anaconda3\\lib\\site-packages\\sympy\\matrices\\expressions\\matmul.py:249\u001b[0m, in \u001b[0;36mvalidate\u001b[1;34m(*matrices)\u001b[0m\n\u001b[0;32m    247\u001b[0m A, B \u001b[38;5;241m=\u001b[39m matrices[i:i\u001b[38;5;241m+\u001b[39m\u001b[38;5;241m2\u001b[39m]\n\u001b[0;32m    248\u001b[0m \u001b[38;5;28;01mif\u001b[39;00m A\u001b[38;5;241m.\u001b[39mcols \u001b[38;5;241m!=\u001b[39m B\u001b[38;5;241m.\u001b[39mrows:\n\u001b[1;32m--> 249\u001b[0m     \u001b[38;5;28;01mraise\u001b[39;00m ShapeError(\u001b[38;5;124m\"\u001b[39m\u001b[38;5;124mMatrices \u001b[39m\u001b[38;5;132;01m%s\u001b[39;00m\u001b[38;5;124m and \u001b[39m\u001b[38;5;132;01m%s\u001b[39;00m\u001b[38;5;124m are not aligned\u001b[39m\u001b[38;5;124m\"\u001b[39m\u001b[38;5;241m%\u001b[39m(A, B))\n",
      "\u001b[1;31mShapeError\u001b[0m: Matrices (c14/g**2)*I + (Adjoint(P14) - I*Adjoint(Q14))*(Adjoint(P41) - I*Adjoint(Q41)) - (1/2)*(X4_6 - I*X4_7)*(X4_8 - I*X4_9) + (1/2)*(X4_8 - I*X4_9)*(X4_6 - I*X4_7) and (c14/g**2)*I + (P41 + I*Q41)*(P14 + I*Q14) + (1/2)*(X4_6 + I*X4_7)*(X4_8 + I*X4_9) - (1/2)*(X4_8 + I*X4_9)*(X4_6 + I*X4_7) are not aligned"
     ]
    }
   ],
   "source": [
    "V_gauge =      ( # \\sum( \\sum( Tr[ Dagger(H^kl_a) * H^kl_a] ) ) term\n",
    "                 (H12_1_dag*H12_1.expand()) + (H12_2_dag*H12_2).expand() + (H12_3_dag*H12_3).expand() + \n",
    "                 (H21_1_dag*H21_1.expand()) + (H21_2_dag*H21_2).expand() + (H21_3_dag*H21_3).expand() + \n",
    "                 (H13_1_dag*H13_1.expand()) + (H13_2_dag*H13_2).expand() + (H13_3_dag*H13_3).expand() + \n",
    "                 (H31_1_dag*H31_1.expand()) + (H31_2_dag*H31_2).expand() + (H31_3_dag*H31_3).expand() + \n",
    "                 (H23_1_dag*H23_1.expand()) + (H23_2_dag*H23_2).expand() + (H23_3_dag*H23_3).expand() + \n",
    "                 (H32_1_dag*H32_1.expand()) + (H32_2_dag*H32_2).expand() + (H32_3_dag*H32_3).expand() + \n",
    "                 Trace ((H14_1_dag*H14_1)).expand() + Trace ((H14_2_dag*H14_2)).expand() + Trace ((H14_3_dag*H14_3)).expand()+ \n",
    "                 Trace ((H41_1_dag*H41_1)).expand() + Trace ((H41_2_dag*H41_2)).expand() + Trace ((H41_3_dag*H41_3)).expand()+ \n",
    "                 Trace ((H24_1_dag*H24_1)).expand() + Trace ((H24_2_dag*H24_2)).expand() + Trace ((H24_3_dag*H24_3)).expand()+ \n",
    "                 Trace ((H42_1_dag*H42_1)).expand() + Trace ((H42_2_dag*H42_2)).expand() + Trace ((H42_3_dag*H42_3)).expand()+ \n",
    "                 Trace ((H34_1_dag*H34_1)).expand() + Trace ((H34_2_dag*H34_2)).expand() + Trace ((H34_3_dag*H34_3)).expand()+ \n",
    "                 Trace ((H43_1_dag*H43_1)).expand() + Trace ((H43_2_dag*H43_2)).expand() + Trace ((H43_3_dag*H43_3)).expand()+\n",
    "                 # \\sum( \\sum( \\sum( Tr[ Dagger(Y^k_aA) * Y^k_aA] ) ) ) term\n",
    "                 (Y1_11_dag * Y1_11).expand() + (Y1_11_dag * Y1_11).expand() + (Y1_11_dag * Y1_11).expand() + \n",
    "                 (Y1_21_dag * Y1_21).expand() + (Y1_22_dag * Y1_22).expand() + (Y1_23_dag * Y1_23).expand() +\n",
    "                 (Y1_31_dag * Y1_31).expand() + (Y1_32_dag * Y1_32).expand() + (Y1_32_dag * Y1_32).expand() + \n",
    "                 (Y2_11_dag * Y2_11).expand() + (Y2_11_dag * Y2_11).expand() + (Y2_11_dag * Y2_11).expand() + \n",
    "                 (Y2_21_dag * Y2_21).expand() + (Y2_22_dag * Y2_22).expand() + (Y2_23_dag * Y2_23).expand() +\n",
    "                 (Y2_31_dag * Y2_31).expand() + (Y2_32_dag * Y2_32).expand() + (Y2_32_dag * Y2_32).expand() + \n",
    "                 (Y3_11_dag * Y3_11).expand() + (Y3_11_dag * Y3_11).expand() + (Y3_11_dag * Y3_11).expand() + \n",
    "                 (Y3_21_dag * Y3_21).expand() + (Y3_22_dag * Y3_22).expand() + (Y3_23_dag * Y3_23).expand() +\n",
    "                 (Y3_31_dag * Y3_31).expand() + (Y3_32_dag * Y3_32).expand() + (Y3_32_dag * Y3_32).expand() +\n",
    "                 Trace((Y4_11_dag * Y4_11)).expand() + Trace((Y4_11_dag * Y4_11)).expand() + Trace(Y4_11_dag * Y4_11).expand() + \n",
    "                 Trace((Y4_21_dag * Y4_21)).expand() + Trace((Y4_22_dag * Y4_22)).expand() + Trace(Y4_23_dag * Y4_23).expand() +\n",
    "                 Trace((Y4_31_dag * Y4_31)).expand() + Trace((Y4_32_dag * Y4_32)).expand() + Trace(Y4_32_dag * Y4_32).expand() +\n",
    "                 1/4 *( X1_12*X1_12 + X1_21*X1_21 + X1_13*X1_13 + X1_31*X1_31 +\n",
    "                        X1_23*X1_23 + X1_32*X1_32 +\n",
    "                        X2_12*X2_12 + X2_21*X2_21 + X2_13*X2_13 + X2_31*X2_31 +\n",
    "                        X2_23*X2_23 + X2_32*X2_32 +\n",
    "                        X3_12*X3_12 + X3_21*X3_21 + X3_13*X3_13 + X3_31*X3_31 +\n",
    "                        X3_23*X3_23 + X3_32*X3_32 +\n",
    "                        Trace( X4_12*X4_12 ) + Trace( X4_21*X4_21 ) + Trace( X4_13*X4_13 ) + \n",
    "                        Trace( X4_31*X4_31 ) + Trace( X4_23*X4_23 ) + Trace( X4_32*X4_32 )\n",
    "                      )\n",
    "               )\n",
    "\n",
    "\n",
    "V_D_arg_k1 = (Z12 * Z12_dag + Z13 * Z13_dag + Trace(Z14 * Z14_dag) -\n",
    "              ( Z21_dag * Z21 + Z31_dag * Z31 + Trace(Z41_dag * Z41) ) + \n",
    "              ( (phi1_1*phi1_1_dag).expand() - (phi1_1_dag*phi1_1).expand() + (phi1_2*phi1_2_dag).expand() - \n",
    "                  (phi1_2_dag*phi1_2).expand() + (phi1_3*phi1_3_dag).expand() - (phi1_3_dag*phi1_3).expand() ) - \n",
    "              c1/(g*g) )\n",
    "\n",
    "V_D_arg_k2 = (Z21 * Z21_dag + Z23 * Z23_dag + Trace(Z24 * Z24_dag) - \n",
    "              ( Z12_dag * Z12 + Z32_dag * Z32 + Trace(Z42_dag * Z42) ) + \n",
    "              ( (phi2_1*phi2_1_dag).expand() - (phi2_1_dag*phi2_1).expand() + (phi2_2*phi2_2_dag).expand() - \n",
    "                (phi2_2_dag*phi2_2).expand() + (phi2_3*phi2_3_dag).expand() - (phi2_3_dag*phi2_3).expand() ) - \n",
    "              c2/(g*g) )\n",
    "\n",
    "V_D_arg_k3 = (Z31 * Z31_dag + Z32 * Z32_dag + Trace(Z34 * Z34_dag) - \n",
    "              ( Z13_dag * Z13 + Z23_dag * Z23 + Trace(Z43_dag * Z43) ) + \n",
    "              ( (phi3_1*phi3_1_dag).expand() - (phi3_1_dag*phi3_1).expand() + (phi3_2*phi3_2_dag).expand() - \n",
    "                (phi3_2_dag*phi3_2).expand() + (phi3_3*phi3_3_dag).expand() - (phi3_3_dag*phi3_3).expand() ) - \n",
    "              c3/(g*g) )\n",
    "\n",
    "V_D_arg_k4 = (Z41 * Z41_dag + Z42 * Z42_dag + Z43 * Z43_dag + \n",
    "              ( Z14_dag * Z14 + Z24_dag * Z24 + Z34_dag * Z34 ) + \n",
    "              ( (phi4_1*phi4_1_dag).expand() - (phi4_1_dag*phi4_1).expand() + (phi4_2*phi4_2_dag).expand() - \n",
    "                (phi4_2_dag*phi4_2).expand() + (phi4_3*phi4_3_dag).expand() - (phi4_3_dag*phi4_3).expand() ) - \n",
    "              c4/(g*g)*Identity(N) )\n",
    "\n",
    "\n",
    "V_D = 1/2 * ((V_D_arg_k1 * V_D_arg_k1).expand() + (V_D_arg_k2 * V_D_arg_k2).expand() + \n",
    "             (V_D_arg_k3 * V_D_arg_k3).expand() + Trace(V_D_arg_k4 * V_D_arg_k4).expand() )\n",
    "\n",
    "V_F = ( Abs(F12)*Abs(F12) + Abs(F21)*Abs(F21) + Abs(F13)*Abs(F13) + Abs(F31)*Abs(F31) + Abs(F32)*Abs(F32) + Abs(F23)*Abs(F23) +\n",
    "        F14 * F14_dag + F24 * F24_dag + F34 * F34_dag + \n",
    "        Trace( F41_dag * F41 ) + Trace( F42_dag * F42) + Trace( F43_dag * F43 )+\n",
    "        Abs(G12)*Abs(G12) + Abs(G21)*Abs(G21) + Abs(G13)*Abs(G13) + Abs(G31)*Abs(G31) + Abs(G32)*Abs(G32) + Abs(G23)*Abs(G23) + \n",
    "        Trace( (G41_dag * G41) ).expand() + Trace( (G14 * G14_dag) ).expand() + Trace( (G42_dag * G42) ).expand() + \n",
    "        Trace( (G24 * G24_dag) ).expand() + Trace( (G43_dag * G43) ).expand() + Trace( (G34 * G34_dag) ).expand() )\n",
    "\n",
    "V = 1/2 * g*g*(V_gauge + V_D + V_F)\n",
    "V"
   ]
  },
  {
   "cell_type": "code",
   "execution_count": null,
   "id": "ea3b875a",
   "metadata": {},
   "outputs": [],
   "source": [
    "L = K - V"
   ]
  },
  {
   "cell_type": "code",
   "execution_count": null,
   "id": "6ec43d66",
   "metadata": {
    "scrolled": true
   },
   "outputs": [],
   "source": [
    "print(L.diff(X1_6))"
   ]
  },
  {
   "cell_type": "markdown",
   "id": "6e89fbe0",
   "metadata": {},
   "source": [
    "#### E.O.M for X\n",
    "\n",
    "\n"
   ]
  },
  {
   "cell_type": "code",
   "execution_count": null,
   "id": "83b5ffaa",
   "metadata": {
    "scrolled": true
   },
   "outputs": [],
   "source": [
    "L.diff(X1_1_dot)"
   ]
  },
  {
   "cell_type": "markdown",
   "id": "6be9236b",
   "metadata": {},
   "source": [
    "$\\frac{\\partial}{\\partial t}\\frac{\\partial L}{\\partial X} = \\ddot{X} $ $=>\\ddot{X} = \\frac{\\partial L}{\\partial X}$\n"
   ]
  },
  {
   "cell_type": "markdown",
   "id": "236442b4",
   "metadata": {},
   "source": [
    "$Z14_dag = (Z^{14})^{\\dagger}$"
   ]
  },
  {
   "cell_type": "code",
   "execution_count": null,
   "id": "51de7334",
   "metadata": {},
   "outputs": [],
   "source": [
    "partial_L_partial_X1_1 = L.diff(X1_1)\n",
    "partial_L_partial_X1_2 = L.diff(X1_2)\n",
    "partial_L_partial_X1_3 = L.diff(X1_3)\n",
    "partial_L_partial_X1_4 = L.diff(X1_4)\n",
    "partial_L_partial_X1_5 = L.diff(X1_5)\n",
    "partial_L_partial_X1_6 = L.diff(X1_6)\n",
    "partial_L_partial_X1_7 = L.diff(X1_7)\n",
    "partial_L_partial_X1_8 = L.diff(X1_8)\n",
    "partial_L_partial_X1_9 = L.diff(X1_9)\n",
    "\n",
    "partial_L_partial_X2_1 = L.diff(X2_1)\n",
    "partial_L_partial_X2_2 = L.diff(X2_2)\n",
    "partial_L_partial_X2_3 = L.diff(X2_3)\n",
    "partial_L_partial_X2_4 = L.diff(X2_4)\n",
    "partial_L_partial_X2_5 = L.diff(X2_5)\n",
    "partial_L_partial_X2_6 = L.diff(X2_6)\n",
    "partial_L_partial_X2_7 = L.diff(X2_7)\n",
    "partial_L_partial_X2_8 = L.diff(X2_8)\n",
    "partial_L_partial_X2_9 = L.diff(X2_9)\n",
    "\n",
    "partial_L_partial_X3_1 = L.diff(X3_1)\n",
    "partial_L_partial_X3_2 = L.diff(X3_2)\n",
    "partial_L_partial_X3_3 = L.diff(X3_3)\n",
    "partial_L_partial_X3_4 = L.diff(X3_4)\n",
    "partial_L_partial_X3_5 = L.diff(X3_5)\n",
    "partial_L_partial_X3_6 = L.diff(X3_6)\n",
    "partial_L_partial_X3_7 = L.diff(X3_7)\n",
    "partial_L_partial_X3_8 = L.diff(X3_8)\n",
    "partial_L_partial_X3_9 = L.diff(X3_9)\n",
    "\n",
    "partial_L_partial_X4_1 = L.diff(X4_1)\n",
    "partial_L_partial_X4_2 = L.diff(X4_2)\n",
    "partial_L_partial_X4_3 = L.diff(X4_3)\n",
    "partial_L_partial_X4_4 = L.diff(X4_4)\n",
    "partial_L_partial_X4_5 = L.diff(X4_5)\n",
    "partial_L_partial_X4_6 = L.diff(X4_6)\n",
    "partial_L_partial_X4_7 = L.diff(X4_7)\n",
    "partial_L_partial_X4_8 = L.diff(X4_8)\n",
    "partial_L_partial_X4_9 = L.diff(X4_9)"
   ]
  },
  {
   "cell_type": "code",
   "execution_count": null,
   "id": "4a819465",
   "metadata": {},
   "outputs": [],
   "source": [
    "with assuming(Q.real(P14)):\n",
    "    pprint(L.diff(P14))"
   ]
  },
  {
   "cell_type": "code",
   "execution_count": 384,
   "id": "9bef717d",
   "metadata": {},
   "outputs": [
    {
     "name": "stdout",
     "output_type": "stream",
     "text": [
      "0\n"
     ]
    }
   ],
   "source": [
    "custom_printer = CustomPrinter()\n",
    "print(custom_printer.doprint(L.diff(X4_1)))"
   ]
  }
 ],
 "metadata": {
  "kernelspec": {
   "display_name": "Python 3 (ipykernel)",
   "language": "python",
   "name": "python3"
  },
  "language_info": {
   "codemirror_mode": {
    "name": "ipython",
    "version": 3
   },
   "file_extension": ".py",
   "mimetype": "text/x-python",
   "name": "python",
   "nbconvert_exporter": "python",
   "pygments_lexer": "ipython3",
   "version": "3.8.17"
  }
 },
 "nbformat": 4,
 "nbformat_minor": 5
}
