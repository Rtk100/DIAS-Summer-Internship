{
 "cells": [
  {
   "cell_type": "code",
   "execution_count": 1,
   "id": "825e32be",
   "metadata": {},
   "outputs": [],
   "source": [
    "from sympy import *\n",
    "from sympy.physics.quantum.dagger import Dagger\n",
    "from sympy.assumptions import global_assumptions"
   ]
  },
  {
   "cell_type": "code",
   "execution_count": 2,
   "id": "d0cfcd03",
   "metadata": {},
   "outputs": [
    {
     "name": "stdout",
     "output_type": "stream",
     "text": [
      "Sum of squares: a**2 + b**2 + c**2 + d**2 + e**2 + f**2 + g**2 + h**2 + i**2\n"
     ]
    },
    {
     "data": {
      "text/plain": [
       "sympy.core.add.Add"
      ]
     },
     "execution_count": 2,
     "metadata": {},
     "output_type": "execute_result"
    }
   ],
   "source": [
    "from sympy import Matrix\n",
    "\n",
    "# Create your matrix\n",
    "# For example:\n",
    "a,b,c,d,e,f,g,h,i = symbols(\"a b c d e f g h i\", real = True)\n",
    "matrix_data = [[a, b, c], [d, e, f], [g, h, i]]\n",
    "sympy_matrix = Matrix(matrix_data)\n",
    "\n",
    "# Replace the above lines with your actual matrix data\n",
    "\n",
    "# Calculate the sum of the squares of all elements\n",
    "sum_of_squares = sum(element**2 for row in sympy_matrix.tolist() for element in row)\n",
    "\n",
    "print(\"Sum of squares:\", sum_of_squares)\n",
    "type(sum_of_squares)"
   ]
  },
  {
   "cell_type": "code",
   "execution_count": 3,
   "id": "9b473d7f",
   "metadata": {},
   "outputs": [
    {
     "data": {
      "text/latex": [
       "$\\displaystyle 2 a$"
      ],
      "text/plain": [
       "2*a"
      ]
     },
     "execution_count": 3,
     "metadata": {},
     "output_type": "execute_result"
    }
   ],
   "source": [
    "sum_of_squares.diff(a)"
   ]
  },
  {
   "cell_type": "code",
   "execution_count": 4,
   "id": "14b31161",
   "metadata": {},
   "outputs": [
    {
     "data": {
      "text/plain": [
       "285"
      ]
     },
     "execution_count": 4,
     "metadata": {},
     "output_type": "execute_result"
    }
   ],
   "source": [
    "1+4+9+16+25+36+49+64+81"
   ]
  },
  {
   "cell_type": "code",
   "execution_count": 5,
   "id": "0c8ac49a",
   "metadata": {},
   "outputs": [],
   "source": [
    "ss = MatrixSymbol(\"ss\", 2, 2)\n",
    "sx = symbols(\"sx\")"
   ]
  },
  {
   "cell_type": "code",
   "execution_count": 6,
   "id": "f2973435",
   "metadata": {},
   "outputs": [
    {
     "data": {
      "text/latex": [
       "$\\displaystyle \\left[\\begin{matrix}ss_{0, 0} & ss_{0, 1}\\\\ss_{1, 0} & ss_{1, 1}\\end{matrix}\\right]$"
      ],
      "text/plain": [
       "Matrix([\n",
       "[ss[0, 0], ss[0, 1]],\n",
       "[ss[1, 0], ss[1, 1]]])"
      ]
     },
     "execution_count": 6,
     "metadata": {},
     "output_type": "execute_result"
    }
   ],
   "source": [
    "ss.as_explicit()"
   ]
  },
  {
   "cell_type": "code",
   "execution_count": 7,
   "id": "aea5b9fe",
   "metadata": {},
   "outputs": [
    {
     "data": {
      "text/plain": [
       "False"
      ]
     },
     "execution_count": 7,
     "metadata": {},
     "output_type": "execute_result"
    }
   ],
   "source": [
    "ss.is_real"
   ]
  },
  {
   "cell_type": "code",
   "execution_count": 8,
   "id": "3a152e3f",
   "metadata": {},
   "outputs": [
    {
     "data": {
      "text/plain": [
       "False"
      ]
     },
     "execution_count": 8,
     "metadata": {},
     "output_type": "execute_result"
    }
   ],
   "source": [
    "ask(Q.real(ss))"
   ]
  },
  {
   "cell_type": "code",
   "execution_count": 9,
   "id": "2d3bb1dd",
   "metadata": {},
   "outputs": [],
   "source": [
    "global_assumptions.add(Q.real(ss))"
   ]
  },
  {
   "cell_type": "code",
   "execution_count": 10,
   "id": "662b0bec",
   "metadata": {},
   "outputs": [
    {
     "data": {
      "text/plain": [
       "False"
      ]
     },
     "execution_count": 10,
     "metadata": {},
     "output_type": "execute_result"
    }
   ],
   "source": [
    "ask(Q.real(ss))"
   ]
  },
  {
   "cell_type": "code",
   "execution_count": 11,
   "id": "b8afe9a4",
   "metadata": {},
   "outputs": [],
   "source": [
    "global_assumptions.clear()"
   ]
  },
  {
   "cell_type": "code",
   "execution_count": null,
   "id": "ba96124a",
   "metadata": {},
   "outputs": [],
   "source": []
  },
  {
   "cell_type": "code",
   "execution_count": 12,
   "id": "d8f4e916",
   "metadata": {},
   "outputs": [
    {
     "data": {
      "text/latex": [
       "$\\displaystyle 0$"
      ],
      "text/plain": [
       "0"
      ]
     },
     "execution_count": 12,
     "metadata": {},
     "output_type": "execute_result"
    }
   ],
   "source": [
    "ji = Symbol(\"ji\")\n",
    "refine(im(ji), Q.real(ji))"
   ]
  },
  {
   "cell_type": "code",
   "execution_count": 13,
   "id": "1bfffea5",
   "metadata": {},
   "outputs": [
    {
     "data": {
      "text/latex": [
       "$\\displaystyle b$"
      ],
      "text/plain": [
       "b"
      ]
     },
     "execution_count": 13,
     "metadata": {},
     "output_type": "execute_result"
    }
   ],
   "source": [
    "Dagger(b)"
   ]
  },
  {
   "cell_type": "code",
   "execution_count": 14,
   "id": "31afcb32",
   "metadata": {},
   "outputs": [
    {
     "name": "stdout",
     "output_type": "stream",
     "text": [
      "  †\n",
      "ss \n"
     ]
    }
   ],
   "source": [
    "with assuming(Q.real(ss)):\n",
    "     pprint(Dagger(ss))"
   ]
  },
  {
   "cell_type": "code",
   "execution_count": 15,
   "id": "daac5b5d",
   "metadata": {},
   "outputs": [
    {
     "data": {
      "text/latex": [
       "$\\displaystyle - \\frac{i}{2} \\left(- \\left(ss^{T}\\right)^{\\dagger} + ss\\right)$"
      ],
      "text/plain": [
       "-(I/2)*(-Adjoint(ss.T) + ss)"
      ]
     },
     "execution_count": 15,
     "metadata": {},
     "output_type": "execute_result"
    }
   ],
   "source": [
    "im(ss)"
   ]
  },
  {
   "cell_type": "code",
   "execution_count": 16,
   "id": "bb7f1b8d",
   "metadata": {},
   "outputs": [
    {
     "data": {
      "text/latex": [
       "$\\displaystyle - \\frac{i}{2} \\left(- \\left(ss^{T}\\right)^{\\dagger} + ss\\right)$"
      ],
      "text/plain": [
       "-(I/2)*(-Adjoint(ss.T) + ss)"
      ]
     },
     "execution_count": 16,
     "metadata": {},
     "output_type": "execute_result"
    }
   ],
   "source": [
    "refine(im(ss), Q.real(ss))"
   ]
  },
  {
   "cell_type": "code",
   "execution_count": 17,
   "id": "a1d07c0a",
   "metadata": {},
   "outputs": [
    {
     "name": "stdout",
     "output_type": "stream",
     "text": [
      "Adjoint(X.T)\n"
     ]
    }
   ],
   "source": [
    "X = MatrixSymbol('X', 2, 2)\n",
    "\n",
    "with assuming(Q.real(X)):\n",
    "    print(refine(conjugate(X)))"
   ]
  },
  {
   "cell_type": "code",
   "execution_count": 18,
   "id": "b0800952",
   "metadata": {},
   "outputs": [],
   "source": [
    "Y = MatrixSymbol(\"Y\", 2, 2)"
   ]
  },
  {
   "cell_type": "code",
   "execution_count": 30,
   "id": "bcb65a70",
   "metadata": {},
   "outputs": [
    {
     "data": {
      "text/plain": [
       "True"
      ]
     },
     "execution_count": 30,
     "metadata": {},
     "output_type": "execute_result"
    }
   ],
   "source": [
    "Dagger(Y)*Dagger(X) == Dagger(X*Y)"
   ]
  },
  {
   "cell_type": "code",
   "execution_count": 39,
   "id": "349849f7",
   "metadata": {},
   "outputs": [
    {
     "data": {
      "text/latex": [
       "$\\displaystyle \\left[\\begin{matrix}Z_{0, 0}\\\\Z_{0, 1}\\\\Z_{0, 2}\\\\Z_{0, 3}\\end{matrix}\\right]$"
      ],
      "text/plain": [
       "Matrix([\n",
       "[Z[0, 0]],\n",
       "[Z[0, 1]],\n",
       "[Z[0, 2]],\n",
       "[Z[0, 3]]])"
      ]
     },
     "execution_count": 39,
     "metadata": {},
     "output_type": "execute_result"
    }
   ],
   "source": [
    "Z = MatrixSymbol(\"Z\", 1, 4)\n",
    "Z.transpose().as_explicit()"
   ]
  }
 ],
 "metadata": {
  "kernelspec": {
   "display_name": "Python 3 (ipykernel)",
   "language": "python",
   "name": "python3"
  },
  "language_info": {
   "codemirror_mode": {
    "name": "ipython",
    "version": 3
   },
   "file_extension": ".py",
   "mimetype": "text/x-python",
   "name": "python",
   "nbconvert_exporter": "python",
   "pygments_lexer": "ipython3",
   "version": "3.8.17"
  }
 },
 "nbformat": 4,
 "nbformat_minor": 5
}
