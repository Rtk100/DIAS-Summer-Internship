{
 "cells": [
  {
   "cell_type": "code",
   "execution_count": 1,
   "id": "825e32be",
   "metadata": {},
   "outputs": [],
   "source": [
    "from sympy import *\n",
    "from sympy.physics.quantum.dagger import Dagger"
   ]
  },
  {
   "cell_type": "code",
   "execution_count": 2,
   "id": "49e89f30",
   "metadata": {},
   "outputs": [
    {
     "data": {
      "text/latex": [
       "$\\displaystyle \\overline{Z_{0, 0}} Z_{0, 0} + \\overline{Z_{1, 0}} Z_{1, 0}$"
      ],
      "text/plain": [
       "conjugate(Z[0, 0])*Z[0, 0] + conjugate(Z[1, 0])*Z[1, 0]"
      ]
     },
     "execution_count": 2,
     "metadata": {},
     "output_type": "execute_result"
    }
   ],
   "source": [
    "Z = MatrixSymbol(\"Z\", 2, 1)\n",
    "(Dagger(Z)*Z)[0]"
   ]
  },
  {
   "cell_type": "code",
   "execution_count": null,
   "id": "22e6ff91",
   "metadata": {},
   "outputs": [],
   "source": [
    "(Dagger(Z)*Z[0]).diff(Z)"
   ]
  },
  {
   "cell_type": "code",
   "execution_count": null,
   "id": "d0cfcd03",
   "metadata": {},
   "outputs": [],
   "source": []
  }
 ],
 "metadata": {
  "kernelspec": {
   "display_name": "Python 3 (ipykernel)",
   "language": "python",
   "name": "python3"
  },
  "language_info": {
   "codemirror_mode": {
    "name": "ipython",
    "version": 3
   },
   "file_extension": ".py",
   "mimetype": "text/x-python",
   "name": "python",
   "nbconvert_exporter": "python",
   "pygments_lexer": "ipython3",
   "version": "3.8.8"
  }
 },
 "nbformat": 4,
 "nbformat_minor": 5
}
