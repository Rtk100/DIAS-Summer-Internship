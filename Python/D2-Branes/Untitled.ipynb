{
 "cells": [
  {
   "cell_type": "code",
   "execution_count": 2,
   "id": "825e32be",
   "metadata": {},
   "outputs": [],
   "source": [
    "from sympy import *\n",
    "from sympy.physics.quantum.dagger import Dagger"
   ]
  },
  {
   "cell_type": "code",
   "execution_count": 5,
   "id": "d0cfcd03",
   "metadata": {},
   "outputs": [
    {
     "name": "stdout",
     "output_type": "stream",
     "text": [
      "Sum of squares: a**2 + b**2 + c**2 + d**2 + e**2 + f**2 + g**2 + h**2 + i**2\n"
     ]
    },
    {
     "data": {
      "text/plain": [
       "sympy.core.add.Add"
      ]
     },
     "execution_count": 5,
     "metadata": {},
     "output_type": "execute_result"
    }
   ],
   "source": [
    "from sympy import Matrix\n",
    "\n",
    "# Create your matrix\n",
    "# For example:\n",
    "a,b,c,d,e,f,g,h,i = symbols(\"a b c d e f g h i\", real = True)\n",
    "matrix_data = [[a, b, c], [d, e, f], [g, h, i]]\n",
    "sympy_matrix = Matrix(matrix_data)\n",
    "\n",
    "# Replace the above lines with your actual matrix data\n",
    "\n",
    "# Calculate the sum of the squares of all elements\n",
    "sum_of_squares = sum(element**2 for row in sympy_matrix.tolist() for element in row)\n",
    "\n",
    "print(\"Sum of squares:\", sum_of_squares)\n",
    "type(sum_of_squares)"
   ]
  },
  {
   "cell_type": "code",
   "execution_count": 6,
   "id": "9b473d7f",
   "metadata": {},
   "outputs": [
    {
     "data": {
      "text/latex": [
       "$\\displaystyle 2 a$"
      ],
      "text/plain": [
       "2*a"
      ]
     },
     "execution_count": 6,
     "metadata": {},
     "output_type": "execute_result"
    }
   ],
   "source": [
    "sum_of_squares.diff(a)"
   ]
  },
  {
   "cell_type": "code",
   "execution_count": 4,
   "id": "14b31161",
   "metadata": {},
   "outputs": [
    {
     "data": {
      "text/plain": [
       "285"
      ]
     },
     "execution_count": 4,
     "metadata": {},
     "output_type": "execute_result"
    }
   ],
   "source": [
    "1+4+9+16+25+36+49+64+81"
   ]
  }
 ],
 "metadata": {
  "kernelspec": {
   "display_name": "Python 3 (ipykernel)",
   "language": "python",
   "name": "python3"
  },
  "language_info": {
   "codemirror_mode": {
    "name": "ipython",
    "version": 3
   },
   "file_extension": ".py",
   "mimetype": "text/x-python",
   "name": "python",
   "nbconvert_exporter": "python",
   "pygments_lexer": "ipython3",
   "version": "3.8.17"
  }
 },
 "nbformat": 4,
 "nbformat_minor": 5
}
