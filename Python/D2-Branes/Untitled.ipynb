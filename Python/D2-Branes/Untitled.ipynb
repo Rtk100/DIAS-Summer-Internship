{
 "cells": [
  {
   "cell_type": "code",
   "execution_count": 7,
   "id": "825e32be",
   "metadata": {},
   "outputs": [],
   "source": [
    "from sympy import *\n",
    "from sympy.physics.quantum.dagger import Dagger\n",
    "from sympy.assumptions import global_assumptions"
   ]
  },
  {
   "cell_type": "code",
   "execution_count": 8,
   "id": "d0cfcd03",
   "metadata": {},
   "outputs": [
    {
     "name": "stdout",
     "output_type": "stream",
     "text": [
      "Sum of squares: a**2 + b**2 + c**2 + d**2 + e**2 + f**2 + g**2 + h**2 + i**2\n"
     ]
    },
    {
     "data": {
      "text/plain": [
       "sympy.core.add.Add"
      ]
     },
     "execution_count": 8,
     "metadata": {},
     "output_type": "execute_result"
    }
   ],
   "source": [
    "from sympy import Matrix\n",
    "\n",
    "# Create your matrix\n",
    "# For example:\n",
    "a,b,c,d,e,f,g,h,i = symbols(\"a b c d e f g h i\", real = True)\n",
    "matrix_data = [[a, b, c], [d, e, f], [g, h, i]]\n",
    "sympy_matrix = Matrix(matrix_data)\n",
    "\n",
    "# Replace the above lines with your actual matrix data\n",
    "\n",
    "# Calculate the sum of the squares of all elements\n",
    "sum_of_squares = sum(element**2 for row in sympy_matrix.tolist() for element in row)\n",
    "\n",
    "print(\"Sum of squares:\", sum_of_squares)\n",
    "type(sum_of_squares)"
   ]
  },
  {
   "cell_type": "code",
   "execution_count": 9,
   "id": "9b473d7f",
   "metadata": {},
   "outputs": [
    {
     "data": {
      "text/latex": [
       "$\\displaystyle 2 a$"
      ],
      "text/plain": [
       "2*a"
      ]
     },
     "execution_count": 9,
     "metadata": {},
     "output_type": "execute_result"
    }
   ],
   "source": [
    "sum_of_squares.diff(a)"
   ]
  },
  {
   "cell_type": "code",
   "execution_count": 10,
   "id": "14b31161",
   "metadata": {},
   "outputs": [
    {
     "data": {
      "text/plain": [
       "285"
      ]
     },
     "execution_count": 10,
     "metadata": {},
     "output_type": "execute_result"
    }
   ],
   "source": [
    "1+4+9+16+25+36+49+64+81"
   ]
  },
  {
   "cell_type": "code",
   "execution_count": 11,
   "id": "0c8ac49a",
   "metadata": {},
   "outputs": [],
   "source": [
    "ss = MatrixSymbol(\"ss\", 2, 2)\n",
    "sx = symbols(\"sx\")"
   ]
  },
  {
   "cell_type": "code",
   "execution_count": 12,
   "id": "f2973435",
   "metadata": {},
   "outputs": [
    {
     "data": {
      "text/latex": [
       "$\\displaystyle \\left[\\begin{matrix}ss_{0, 0} & ss_{0, 1}\\\\ss_{1, 0} & ss_{1, 1}\\end{matrix}\\right]$"
      ],
      "text/plain": [
       "Matrix([\n",
       "[ss[0, 0], ss[0, 1]],\n",
       "[ss[1, 0], ss[1, 1]]])"
      ]
     },
     "execution_count": 12,
     "metadata": {},
     "output_type": "execute_result"
    }
   ],
   "source": [
    "ss.as_explicit()"
   ]
  },
  {
   "cell_type": "code",
   "execution_count": 13,
   "id": "aea5b9fe",
   "metadata": {},
   "outputs": [
    {
     "data": {
      "text/plain": [
       "False"
      ]
     },
     "execution_count": 13,
     "metadata": {},
     "output_type": "execute_result"
    }
   ],
   "source": [
    "ss.is_real"
   ]
  },
  {
   "cell_type": "code",
   "execution_count": 14,
   "id": "3a152e3f",
   "metadata": {},
   "outputs": [
    {
     "data": {
      "text/plain": [
       "False"
      ]
     },
     "execution_count": 14,
     "metadata": {},
     "output_type": "execute_result"
    }
   ],
   "source": [
    "ask(Q.real(ss))"
   ]
  },
  {
   "cell_type": "code",
   "execution_count": 15,
   "id": "2d3bb1dd",
   "metadata": {},
   "outputs": [],
   "source": [
    "global_assumptions.add(Q.real(ss))"
   ]
  },
  {
   "cell_type": "code",
   "execution_count": 16,
   "id": "662b0bec",
   "metadata": {},
   "outputs": [
    {
     "data": {
      "text/plain": [
       "False"
      ]
     },
     "execution_count": 16,
     "metadata": {},
     "output_type": "execute_result"
    }
   ],
   "source": [
    "ask(Q.real(ss))"
   ]
  },
  {
   "cell_type": "code",
   "execution_count": 17,
   "id": "b8afe9a4",
   "metadata": {},
   "outputs": [],
   "source": [
    "global_assumptions.clear()"
   ]
  },
  {
   "cell_type": "code",
   "execution_count": null,
   "id": "ba96124a",
   "metadata": {},
   "outputs": [],
   "source": []
  },
  {
   "cell_type": "code",
   "execution_count": 18,
   "id": "d8f4e916",
   "metadata": {},
   "outputs": [
    {
     "data": {
      "text/latex": [
       "$\\displaystyle 0$"
      ],
      "text/plain": [
       "0"
      ]
     },
     "execution_count": 18,
     "metadata": {},
     "output_type": "execute_result"
    }
   ],
   "source": [
    "ji = Symbol(\"ji\")\n",
    "refine(im(ji), Q.real(ji))"
   ]
  },
  {
   "cell_type": "code",
   "execution_count": 19,
   "id": "31afcb32",
   "metadata": {},
   "outputs": [
    {
     "name": "stdout",
     "output_type": "stream",
     "text": [
      "  †\n",
      "ss \n"
     ]
    }
   ],
   "source": [
    "with assuming(Q.real(ss)):\n",
    "     pprint(Dagger(ss))"
   ]
  },
  {
   "cell_type": "code",
   "execution_count": 20,
   "id": "daac5b5d",
   "metadata": {},
   "outputs": [
    {
     "data": {
      "text/latex": [
       "$\\displaystyle - \\frac{i}{2} \\left(- \\left(ss^{T}\\right)^{\\dagger} + ss\\right)$"
      ],
      "text/plain": [
       "-(I/2)*(-Adjoint(ss.T) + ss)"
      ]
     },
     "execution_count": 20,
     "metadata": {},
     "output_type": "execute_result"
    }
   ],
   "source": [
    "im(ss)"
   ]
  },
  {
   "cell_type": "code",
   "execution_count": 21,
   "id": "bb7f1b8d",
   "metadata": {},
   "outputs": [
    {
     "data": {
      "text/latex": [
       "$\\displaystyle - \\frac{i}{2} \\left(- \\left(ss^{T}\\right)^{\\dagger} + ss\\right)$"
      ],
      "text/plain": [
       "-(I/2)*(-Adjoint(ss.T) + ss)"
      ]
     },
     "execution_count": 21,
     "metadata": {},
     "output_type": "execute_result"
    }
   ],
   "source": [
    "refine(im(ss), Q.real(ss))"
   ]
  },
  {
   "cell_type": "code",
   "execution_count": 22,
   "id": "a1d07c0a",
   "metadata": {},
   "outputs": [
    {
     "name": "stdout",
     "output_type": "stream",
     "text": [
      "Adjoint(X.T)\n"
     ]
    }
   ],
   "source": [
    "X = MatrixSymbol('X', 2, 2)\n",
    "\n",
    "with assuming(Q.real(X)):\n",
    "    print(refine(conjugate(X)))"
   ]
  },
  {
   "cell_type": "code",
   "execution_count": 23,
   "id": "1a997ad8",
   "metadata": {},
   "outputs": [],
   "source": [
    "Y = MatrixSymbol(\"Y\", 2, 2)"
   ]
  },
  {
   "cell_type": "code",
   "execution_count": 24,
   "id": "1d4541cd",
   "metadata": {},
   "outputs": [
    {
     "data": {
      "text/plain": [
       "True"
      ]
     },
     "execution_count": 24,
     "metadata": {},
     "output_type": "execute_result"
    }
   ],
   "source": [
    "Dagger(Y)*Dagger(X) == Dagger(X*Y)"
   ]
  },
  {
   "cell_type": "code",
   "execution_count": 25,
   "id": "5d0e6ba8",
   "metadata": {},
   "outputs": [
    {
     "ename": "NameError",
     "evalue": "name 'Z' is not defined",
     "output_type": "error",
     "traceback": [
      "\u001b[1;31m---------------------------------------------------------------------------\u001b[0m",
      "\u001b[1;31mNameError\u001b[0m                                 Traceback (most recent call last)",
      "Cell \u001b[1;32mIn[25], line 2\u001b[0m\n\u001b[0;32m      1\u001b[0m Z14 \u001b[38;5;241m=\u001b[39m MatrixSymbol(\u001b[38;5;124m\"\u001b[39m\u001b[38;5;124mX\u001b[39m\u001b[38;5;124m\"\u001b[39m, \u001b[38;5;241m1\u001b[39m, \u001b[38;5;241m4\u001b[39m)\n\u001b[1;32m----> 2\u001b[0m \u001b[43mZ\u001b[49m\u001b[38;5;241m.\u001b[39mtranspose()\u001b[38;5;241m.\u001b[39mas_explicit()\n\u001b[0;32m      3\u001b[0m Z41 \u001b[38;5;241m=\u001b[39m MatrixSymbol(\u001b[38;5;124m\"\u001b[39m\u001b[38;5;124mY\u001b[39m\u001b[38;5;124m\"\u001b[39m, \u001b[38;5;241m4\u001b[39m, \u001b[38;5;241m1\u001b[39m)\n",
      "\u001b[1;31mNameError\u001b[0m: name 'Z' is not defined"
     ]
    }
   ],
   "source": [
    "Z14 = MatrixSymbol(\"X\", 1, 4)\n",
    "Z.transpose().as_explicit()\n",
    "Z41 = MatrixSymbol(\"Y\", 4, 1)\n"
   ]
  },
  {
   "cell_type": "code",
   "execution_count": null,
   "id": "c72c90b5",
   "metadata": {},
   "outputs": [],
   "source": [
    "(Z14 * Z41).diff(Z14)"
   ]
  },
  {
   "cell_type": "code",
   "execution_count": 26,
   "id": "a3ae1a9f",
   "metadata": {},
   "outputs": [
    {
     "ename": "NameError",
     "evalue": "name 'Z41' is not defined",
     "output_type": "error",
     "traceback": [
      "\u001b[1;31m---------------------------------------------------------------------------\u001b[0m",
      "\u001b[1;31mNameError\u001b[0m                                 Traceback (most recent call last)",
      "Cell \u001b[1;32mIn[26], line 1\u001b[0m\n\u001b[1;32m----> 1\u001b[0m (Z14 \u001b[38;5;241m*\u001b[39m \u001b[43mZ41\u001b[49m \u001b[38;5;241m+\u001b[39m a)\u001b[38;5;241m.\u001b[39mdiff(a)\n",
      "\u001b[1;31mNameError\u001b[0m: name 'Z41' is not defined"
     ]
    }
   ],
   "source": [
    "(Z14 * Z41 + a).diff(a)"
   ]
  },
  {
   "cell_type": "code",
   "execution_count": null,
   "id": "80b61748",
   "metadata": {},
   "outputs": [],
   "source": []
  },
  {
   "cell_type": "code",
   "execution_count": 27,
   "id": "c0e954bd",
   "metadata": {
    "scrolled": true
   },
   "outputs": [
    {
     "ename": "AttributeError",
     "evalue": "'MatrixElement' object has no attribute 'name'",
     "output_type": "error",
     "traceback": [
      "\u001b[1;31m---------------------------------------------------------------------------\u001b[0m",
      "\u001b[1;31mAttributeError\u001b[0m                            Traceback (most recent call last)",
      "Cell \u001b[1;32mIn[27], line 7\u001b[0m\n\u001b[0;32m      4\u001b[0m element \u001b[38;5;241m=\u001b[39m A[\u001b[38;5;241m0\u001b[39m, \u001b[38;5;241m0\u001b[39m]\n\u001b[0;32m      6\u001b[0m \u001b[38;5;66;03m# Create a new Symbol using the element's name\u001b[39;00m\n\u001b[1;32m----> 7\u001b[0m new_symbol \u001b[38;5;241m=\u001b[39m Symbol(\u001b[43melement\u001b[49m\u001b[38;5;241;43m.\u001b[39;49m\u001b[43mname\u001b[49m)\n\u001b[0;32m      9\u001b[0m \u001b[38;5;66;03m# Print the new_symbol\u001b[39;00m\n\u001b[0;32m     10\u001b[0m \u001b[38;5;28mprint\u001b[39m(new_symbol)\n",
      "\u001b[1;31mAttributeError\u001b[0m: 'MatrixElement' object has no attribute 'name'"
     ]
    }
   ],
   "source": [
    "A = MatrixSymbol('A', 1, 1)\n",
    "\n",
    "# Get the element at row 0, column 0 (since it's a 1x1 matrix)\n",
    "element = A[0, 0]\n",
    "\n",
    "# Create a new Symbol using the element's name\n",
    "new_symbol = Symbol(element.name)\n",
    "\n",
    "# Print the new_symbol\n",
    "print(new_symbol)"
   ]
  },
  {
   "cell_type": "code",
   "execution_count": 28,
   "id": "743c7819",
   "metadata": {},
   "outputs": [
    {
     "name": "stdout",
     "output_type": "stream",
     "text": [
      "i*x\n",
      "x*Id\n"
     ]
    }
   ],
   "source": [
    "from sympy import Symbol, I, Identity\n",
    "from sympy.printing import StrPrinter\n",
    "\n",
    "class CustomPrinter(StrPrinter):\n",
    "    def _print_ImaginaryUnit(self, expr):\n",
    "        return \"i\"\n",
    "    \n",
    "    def _print_Identity(self, expr):\n",
    "        return \"Id\"\n",
    "\n",
    "# Define your symbols\n",
    "x = Symbol('x')\n",
    "imaginary_unit = I\n",
    "identity_matrix = Identity(2)\n",
    "\n",
    "# Create an instance of your custom printer\n",
    "custom_printer = CustomPrinter()\n",
    "\n",
    "# Print expressions using the custom printer\n",
    "print(custom_printer.doprint(x * imaginary_unit))\n",
    "print(custom_printer.doprint(x * identity_matrix))"
   ]
  },
  {
   "cell_type": "code",
   "execution_count": 29,
   "id": "6948b354",
   "metadata": {},
   "outputs": [
    {
     "ename": "NameError",
     "evalue": "name 'exlt' is not defined",
     "output_type": "error",
     "traceback": [
      "\u001b[1;31m---------------------------------------------------------------------------\u001b[0m",
      "\u001b[1;31mNameError\u001b[0m                                 Traceback (most recent call last)",
      "Cell \u001b[1;32mIn[29], line 1\u001b[0m\n\u001b[1;32m----> 1\u001b[0m \u001b[43mexlt\u001b[49m\u001b[38;5;241m.\u001b[39mdiff(A)\n",
      "\u001b[1;31mNameError\u001b[0m: name 'exlt' is not defined"
     ]
    }
   ],
   "source": [
    "exlt.diff(A)"
   ]
  },
  {
   "cell_type": "code",
   "execution_count": 30,
   "id": "46533cd6",
   "metadata": {},
   "outputs": [
    {
     "ename": "TypeError",
     "evalue": "Mix of Matrix and Scalar symbols",
     "output_type": "error",
     "traceback": [
      "\u001b[1;31m---------------------------------------------------------------------------\u001b[0m",
      "\u001b[1;31mTypeError\u001b[0m                                 Traceback (most recent call last)",
      "Cell \u001b[1;32mIn[30], line 1\u001b[0m\n\u001b[1;32m----> 1\u001b[0m \u001b[43m(\u001b[49m\u001b[43mb\u001b[49m\u001b[38;5;241;43m*\u001b[39;49m\u001b[38;5;241;43m*\u001b[39;49m\u001b[38;5;241;43m2\u001b[39;49m\u001b[43m)\u001b[49m\u001b[38;5;241;43m*\u001b[39;49m\u001b[43mIdentity\u001b[49m\u001b[43m(\u001b[49m\u001b[38;5;241;43m1\u001b[39;49m\u001b[43m)\u001b[49m\u001b[43m \u001b[49m\u001b[38;5;241;43m+\u001b[39;49m\u001b[43mTrace\u001b[49m\u001b[43m(\u001b[49m\u001b[43mA\u001b[49m\u001b[38;5;241;43m*\u001b[39;49m\u001b[43mc\u001b[49m\u001b[43m)\u001b[49m\n",
      "File \u001b[1;32m~\\anaconda3\\lib\\site-packages\\sympy\\matrices\\expressions\\matexpr.py:27\u001b[0m, in \u001b[0;36m_sympifyit.<locals>.deco.<locals>.__sympifyit_wrapper\u001b[1;34m(a, b)\u001b[0m\n\u001b[0;32m     25\u001b[0m \u001b[38;5;28;01mtry\u001b[39;00m:\n\u001b[0;32m     26\u001b[0m     b \u001b[38;5;241m=\u001b[39m _sympify(b)\n\u001b[1;32m---> 27\u001b[0m     \u001b[38;5;28;01mreturn\u001b[39;00m \u001b[43mfunc\u001b[49m\u001b[43m(\u001b[49m\u001b[43ma\u001b[49m\u001b[43m,\u001b[49m\u001b[43m \u001b[49m\u001b[43mb\u001b[49m\u001b[43m)\u001b[49m\n\u001b[0;32m     28\u001b[0m \u001b[38;5;28;01mexcept\u001b[39;00m SympifyError:\n\u001b[0;32m     29\u001b[0m     \u001b[38;5;28;01mreturn\u001b[39;00m retval\n",
      "File \u001b[1;32m~\\anaconda3\\lib\\site-packages\\sympy\\core\\decorators.py:106\u001b[0m, in \u001b[0;36mcall_highest_priority.<locals>.priority_decorator.<locals>.binary_op_wrapper\u001b[1;34m(self, other)\u001b[0m\n\u001b[0;32m    104\u001b[0m         \u001b[38;5;28;01mif\u001b[39;00m f \u001b[38;5;129;01mis\u001b[39;00m \u001b[38;5;129;01mnot\u001b[39;00m \u001b[38;5;28;01mNone\u001b[39;00m:\n\u001b[0;32m    105\u001b[0m             \u001b[38;5;28;01mreturn\u001b[39;00m f(\u001b[38;5;28mself\u001b[39m)\n\u001b[1;32m--> 106\u001b[0m \u001b[38;5;28;01mreturn\u001b[39;00m \u001b[43mfunc\u001b[49m\u001b[43m(\u001b[49m\u001b[38;5;28;43mself\u001b[39;49m\u001b[43m,\u001b[49m\u001b[43m \u001b[49m\u001b[43mother\u001b[49m\u001b[43m)\u001b[49m\n",
      "File \u001b[1;32m~\\anaconda3\\lib\\site-packages\\sympy\\matrices\\expressions\\matexpr.py:107\u001b[0m, in \u001b[0;36mMatrixExpr.__add__\u001b[1;34m(self, other)\u001b[0m\n\u001b[0;32m    104\u001b[0m \u001b[38;5;129m@_sympifyit\u001b[39m(\u001b[38;5;124m'\u001b[39m\u001b[38;5;124mother\u001b[39m\u001b[38;5;124m'\u001b[39m, \u001b[38;5;28mNotImplemented\u001b[39m)\n\u001b[0;32m    105\u001b[0m \u001b[38;5;129m@call_highest_priority\u001b[39m(\u001b[38;5;124m'\u001b[39m\u001b[38;5;124m__radd__\u001b[39m\u001b[38;5;124m'\u001b[39m)\n\u001b[0;32m    106\u001b[0m \u001b[38;5;28;01mdef\u001b[39;00m \u001b[38;5;21m__add__\u001b[39m(\u001b[38;5;28mself\u001b[39m, other):\n\u001b[1;32m--> 107\u001b[0m     \u001b[38;5;28;01mreturn\u001b[39;00m \u001b[43mMatAdd\u001b[49m\u001b[43m(\u001b[49m\u001b[38;5;28;43mself\u001b[39;49m\u001b[43m,\u001b[49m\u001b[43m \u001b[49m\u001b[43mother\u001b[49m\u001b[43m)\u001b[49m\u001b[38;5;241m.\u001b[39mdoit()\n",
      "File \u001b[1;32m~\\anaconda3\\lib\\site-packages\\sympy\\matrices\\expressions\\matadd.py:58\u001b[0m, in \u001b[0;36mMatAdd.__new__\u001b[1;34m(cls, evaluate, check, _sympify, *args)\u001b[0m\n\u001b[0;32m     56\u001b[0m     \u001b[38;5;28;01mif\u001b[39;00m \u001b[38;5;129;01mnot\u001b[39;00m \u001b[38;5;28many\u001b[39m(\u001b[38;5;28misinstance\u001b[39m(i, MatrixExpr) \u001b[38;5;28;01mfor\u001b[39;00m i \u001b[38;5;129;01min\u001b[39;00m args):\n\u001b[0;32m     57\u001b[0m         \u001b[38;5;28;01mreturn\u001b[39;00m Add\u001b[38;5;241m.\u001b[39mfromiter(args)\n\u001b[1;32m---> 58\u001b[0m     \u001b[43mvalidate\u001b[49m\u001b[43m(\u001b[49m\u001b[38;5;241;43m*\u001b[39;49m\u001b[43margs\u001b[49m\u001b[43m)\u001b[49m\n\u001b[0;32m     59\u001b[0m \u001b[38;5;28;01melse\u001b[39;00m:\n\u001b[0;32m     60\u001b[0m     sympy_deprecation_warning(\n\u001b[0;32m     61\u001b[0m         \u001b[38;5;124m\"\u001b[39m\u001b[38;5;124mPassing check=False to MatAdd is deprecated and the check argument will be removed in a future version.\u001b[39m\u001b[38;5;124m\"\u001b[39m,\n\u001b[0;32m     62\u001b[0m         deprecated_since_version\u001b[38;5;241m=\u001b[39m\u001b[38;5;124m\"\u001b[39m\u001b[38;5;124m1.11\u001b[39m\u001b[38;5;124m\"\u001b[39m,\n\u001b[0;32m     63\u001b[0m         active_deprecations_target\u001b[38;5;241m=\u001b[39m\u001b[38;5;124m'\u001b[39m\u001b[38;5;124mremove-check-argument-from-matrix-operations\u001b[39m\u001b[38;5;124m'\u001b[39m)\n",
      "File \u001b[1;32m~\\anaconda3\\lib\\site-packages\\sympy\\matrices\\expressions\\matadd.py:114\u001b[0m, in \u001b[0;36mvalidate\u001b[1;34m(*args)\u001b[0m\n\u001b[0;32m    112\u001b[0m \u001b[38;5;28;01mdef\u001b[39;00m \u001b[38;5;21mvalidate\u001b[39m(\u001b[38;5;241m*\u001b[39margs):\n\u001b[0;32m    113\u001b[0m     \u001b[38;5;28;01mif\u001b[39;00m \u001b[38;5;129;01mnot\u001b[39;00m \u001b[38;5;28mall\u001b[39m(arg\u001b[38;5;241m.\u001b[39mis_Matrix \u001b[38;5;28;01mfor\u001b[39;00m arg \u001b[38;5;129;01min\u001b[39;00m args):\n\u001b[1;32m--> 114\u001b[0m         \u001b[38;5;28;01mraise\u001b[39;00m \u001b[38;5;167;01mTypeError\u001b[39;00m(\u001b[38;5;124m\"\u001b[39m\u001b[38;5;124mMix of Matrix and Scalar symbols\u001b[39m\u001b[38;5;124m\"\u001b[39m)\n\u001b[0;32m    116\u001b[0m     A \u001b[38;5;241m=\u001b[39m args[\u001b[38;5;241m0\u001b[39m]\n\u001b[0;32m    117\u001b[0m     \u001b[38;5;28;01mfor\u001b[39;00m B \u001b[38;5;129;01min\u001b[39;00m args[\u001b[38;5;241m1\u001b[39m:]:\n",
      "\u001b[1;31mTypeError\u001b[0m: Mix of Matrix and Scalar symbols"
     ]
    }
   ],
   "source": [
    "(b**2)*Identity(1) +Trace(A*c)"
   ]
  },
  {
   "cell_type": "code",
   "execution_count": 31,
   "id": "c1d8bb39",
   "metadata": {},
   "outputs": [
    {
     "data": {
      "text/latex": [
       "$\\displaystyle c \\mathbb{I}$"
      ],
      "text/plain": [
       "c*I"
      ]
     },
     "execution_count": 31,
     "metadata": {},
     "output_type": "execute_result"
    }
   ],
   "source": [
    "((b**2)*Identity(1) + (A*c)).diff(A)"
   ]
  },
  {
   "cell_type": "code",
   "execution_count": 32,
   "id": "75ca0770",
   "metadata": {},
   "outputs": [
    {
     "ename": "AttributeError",
     "evalue": "'MatMul' object has no attribute 'name'",
     "output_type": "error",
     "traceback": [
      "\u001b[1;31m---------------------------------------------------------------------------\u001b[0m",
      "\u001b[1;31mAttributeError\u001b[0m                            Traceback (most recent call last)",
      "Cell \u001b[1;32mIn[32], line 6\u001b[0m\n\u001b[0;32m      3\u001b[0m B \u001b[38;5;241m=\u001b[39m MatrixSymbol(\u001b[38;5;124m'\u001b[39m\u001b[38;5;124mB\u001b[39m\u001b[38;5;124m'\u001b[39m, \u001b[38;5;241m4\u001b[39m, \u001b[38;5;241m1\u001b[39m)\n\u001b[0;32m      5\u001b[0m Adot \u001b[38;5;241m=\u001b[39m A\u001b[38;5;241m.\u001b[39mtranspose()\u001b[38;5;241m*\u001b[39mA\n\u001b[1;32m----> 6\u001b[0m new_symbol \u001b[38;5;241m=\u001b[39m Symbol(\u001b[43mAdot\u001b[49m\u001b[38;5;241;43m.\u001b[39;49m\u001b[43mname\u001b[49m)\n\u001b[0;32m      9\u001b[0m \u001b[38;5;28mprint\u001b[39m(new_symbol)\n\u001b[0;32m     10\u001b[0m new_symbol\u001b[38;5;241m.\u001b[39mdiff(A)\n",
      "\u001b[1;31mAttributeError\u001b[0m: 'MatMul' object has no attribute 'name'"
     ]
    }
   ],
   "source": [
    "\n",
    "# Define the matrix symbol\n",
    "A = MatrixSymbol('A', 4, 1)\n",
    "B = MatrixSymbol('B', 4, 1)\n",
    "\n",
    "Adot = A.transpose()*A\n",
    "new_symbol = Symbol(Adot.name)\n",
    "\n",
    "\n",
    "print(new_symbol)\n",
    "new_symbol.diff(A)"
   ]
  },
  {
   "cell_type": "code",
   "execution_count": null,
   "id": "3dbab844",
   "metadata": {},
   "outputs": [],
   "source": []
  },
  {
   "cell_type": "code",
   "execution_count": null,
   "id": "d85a5605",
   "metadata": {},
   "outputs": [],
   "source": []
  },
  {
   "cell_type": "code",
   "execution_count": null,
   "id": "d1b4fbcf",
   "metadata": {},
   "outputs": [],
   "source": []
  },
  {
   "cell_type": "code",
   "execution_count": 43,
   "id": "ad848449",
   "metadata": {},
   "outputs": [
    {
     "data": {
      "text/latex": [
       "$\\displaystyle \\operatorname{PermuteDims}\\left(\\operatorname{ArrayTensorProduct}\\left(\\mathbb{I}, \\mathbb{I}\\right), \\left( 1\\; 2\\right)\\left( 3\\right)\\right)$"
      ],
      "text/plain": [
       "PermuteDims(ArrayTensorProduct(I, I), (3)(1 2))"
      ]
     },
     "execution_count": 43,
     "metadata": {},
     "output_type": "execute_result"
    }
   ],
   "source": [
    "(X).diff(X)"
   ]
  },
  {
   "cell_type": "code",
   "execution_count": 40,
   "id": "72997dbd",
   "metadata": {},
   "outputs": [
    {
     "ename": "TypeError",
     "evalue": "unsupported operand type(s) for +: 'PermuteDims' and 'ArrayDerivative'",
     "output_type": "error",
     "traceback": [
      "\u001b[1;31m---------------------------------------------------------------------------\u001b[0m",
      "\u001b[1;31mTypeError\u001b[0m                                 Traceback (most recent call last)",
      "Cell \u001b[1;32mIn[40], line 1\u001b[0m\n\u001b[1;32m----> 1\u001b[0m \u001b[43m(\u001b[49m\u001b[43mX\u001b[49m\u001b[43m)\u001b[49m\u001b[38;5;241;43m.\u001b[39;49m\u001b[43mdiff\u001b[49m\u001b[43m(\u001b[49m\u001b[43mX\u001b[49m\u001b[43m)\u001b[49m\u001b[38;5;241;43m+\u001b[39;49m\u001b[43m(\u001b[49m\u001b[43ma\u001b[49m\u001b[38;5;241;43m*\u001b[39;49m\u001b[43mIdentity\u001b[49m\u001b[43m(\u001b[49m\u001b[38;5;241;43m2\u001b[39;49m\u001b[43m)\u001b[49m\u001b[43m)\u001b[49m\u001b[38;5;241;43m.\u001b[39;49m\u001b[43mdiff\u001b[49m\u001b[43m(\u001b[49m\u001b[43mX\u001b[49m\u001b[43m)\u001b[49m\n",
      "\u001b[1;31mTypeError\u001b[0m: unsupported operand type(s) for +: 'PermuteDims' and 'ArrayDerivative'"
     ]
    }
   ],
   "source": [
    "(X).diff(X)+(a*Identity(2)).diff(X)"
   ]
  },
  {
   "cell_type": "code",
   "execution_count": 42,
   "id": "6d2c716f",
   "metadata": {},
   "outputs": [
    {
     "data": {
      "text/plain": [
       "sympy.tensor.array.array_derivatives.ArrayDerivative"
      ]
     },
     "execution_count": 42,
     "metadata": {},
     "output_type": "execute_result"
    }
   ],
   "source": [
    "type((a*Identity(2)).diff(X))"
   ]
  }
 ],
 "metadata": {
  "kernelspec": {
   "display_name": "Python 3 (ipykernel)",
   "language": "python",
   "name": "python3"
  },
  "language_info": {
   "codemirror_mode": {
    "name": "ipython",
    "version": 3
   },
   "file_extension": ".py",
   "mimetype": "text/x-python",
   "name": "python",
   "nbconvert_exporter": "python",
   "pygments_lexer": "ipython3",
   "version": "3.8.17"
  }
 },
 "nbformat": 4,
 "nbformat_minor": 5
}
