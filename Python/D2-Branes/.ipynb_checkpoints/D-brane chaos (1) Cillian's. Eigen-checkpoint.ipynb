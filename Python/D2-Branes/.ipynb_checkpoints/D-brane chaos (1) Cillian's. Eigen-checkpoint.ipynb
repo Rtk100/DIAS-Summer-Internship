{
 "cells": [
  {
   "cell_type": "code",
   "execution_count": 1,
   "id": "5bb6502a",
   "metadata": {},
   "outputs": [],
   "source": [
    "import sympy as sp\n",
    "import numpy as np\n",
    "import time \n",
    "\n",
    "N = 2\n",
    "g = sp.Symbol(\"g\", real = True)"
   ]
  },
  {
   "cell_type": "markdown",
   "id": "6b56a04e",
   "metadata": {},
   "source": [
    "## Creating X coordinates (using sp.Matrix for the 4th stack)"
   ]
  },
  {
   "cell_type": "code",
   "execution_count": 32,
   "id": "f7eca03d",
   "metadata": {},
   "outputs": [],
   "source": [
    "for i in np.arange(1,10):\n",
    "    #initialise a matrix of correct shape\n",
    "    X_init = []\n",
    "    for j in np.arange(1,N+1):\n",
    "        row = []\n",
    "        for k in np.arange(1,N+1):\n",
    "            row.append(sp.Symbol(\"a_{\"+str(j)+str(k)+\"}\"))\n",
    "        X_init.append(row)\n",
    "    X[\"4\"+str(i)] = sp.Matrix(X_init)\n",
    "    \n",
    "    for j in np.arange(N):\n",
    "        for k in np.arange(N):\n",
    "            if j == k:\n",
    "                X[\"4\"+str(i)][j,k] = sp.Symbol(\"X4\"+str(i)+\"(\"+str(j)+\",\"+str(k)+\")\",real = True)\n",
    "            elif j > k:\n",
    "                continue\n",
    "            else:\n",
    "                x_ij = sp.Symbol(\"X4\"+str(i)+\"(\"+str(j)+\",\"+str(k)+\").real()\",real = True)\n",
    "                y_ij = sp.Symbol(\"X4\"+str(i)+\"(\"+str(j)+\",\"+str(k)+\").imag()\",real = True)\n",
    "                X[\"4\"+str(i)][j,k] = x_ij + sp.I*y_ij\n",
    "                X[\"4\"+str(i)][k,j] = x_ij - sp.I*y_ij"
   ]
  },
  {
   "cell_type": "code",
   "execution_count": 2,
   "id": "f982a33e",
   "metadata": {},
   "outputs": [],
   "source": [
    "# Creating a dictionary to store the X coordinates\n",
    "X = {}\n",
    "for i in np.arange(1,4):\n",
    "    for j in np.arange(1,10):\n",
    "        X[str(i)+str(j)] = sp.Symbol(\"X\"+str(i)+str(j), real = True)\n",
    "            \n",
    "for i in np.arange(1,10):\n",
    "    #initialise a matrix of correct shape\n",
    "    X_init = []\n",
    "    for j in np.arange(1,N+1):\n",
    "        row = []\n",
    "        for k in np.arange(1,N+1):\n",
    "            row.append(sp.Symbol(\"4\"+str(i)+\"_{\"+str(j)+str(k)+\"}\"))\n",
    "        X_init.append(row)\n",
    "    X[\"4\"+str(i)] = sp.Matrix(X_init)\n",
    "    \n",
    "    for j in np.arange(N):\n",
    "        for k in np.arange(N):\n",
    "            if j == k:\n",
    "                X[\"4\"+str(i)][j,k] = sp.Symbol(\"X4\"+str(i)+\"(\"+str(j)+\",\"+str(k)+\")\",real = True)\n",
    "            elif j > k:\n",
    "                continue\n",
    "            else:\n",
    "                x_ij = sp.Symbol(\"X4\"+str(i)+\"(\"+str(j)+\",\"+str(k)+\").real()\",real = True)\n",
    "                y_ij = sp.Symbol(\"X4\"+str(i)+\"(\"+str(j)+\",\"+str(k)+\").imag()\",real = True)\n",
    "                X[\"4\"+str(i)][j,k] = x_ij + sp.I*y_ij\n",
    "                X[\"4\"+str(i)][k,j] = x_ij - sp.I*y_ij"
   ]
  },
  {
   "cell_type": "markdown",
   "id": "4a16d0ee",
   "metadata": {},
   "source": [
    "## Creating X coordinates (using sp.MatrixSymbol for the 4th stack)"
   ]
  },
  {
   "cell_type": "code",
   "execution_count": 3,
   "id": "e9ce397b",
   "metadata": {},
   "outputs": [],
   "source": [
    "# Creating a dictionary to store the X coordinates\n",
    "X = {}\n",
    "for i in np.arange(1,5):\n",
    "    for j in np.arange(1,10):\n",
    "        if i != 4:\n",
    "            X[str(i)+str(j)] = sp.Symbol(\"X^{\"+str(i)+\"}_\"+str(j), real = True)\n",
    "        else:\n",
    "            X[str(i)+str(j)] = sp.MatrixSymbol(\"X^{\"+str(i)+\"}_\"+str(j),N,N)"
   ]
  },
  {
   "cell_type": "markdown",
   "id": "607747e6",
   "metadata": {},
   "source": [
    "## Creating the $\\phi$'s and $\\phi^{\\dagger}$'s and $\\phi^{(ij)}$"
   ]
  },
  {
   "cell_type": "code",
   "execution_count": 34,
   "id": "c1702ab2",
   "metadata": {},
   "outputs": [],
   "source": [
    "#correct\n",
    "phi = {}\n",
    "phi_ = {}\n",
    "phi_dag = {}\n",
    "for i in np.arange(1,5):\n",
    "    phi[str(i)+\"1\"] = 1/sp.sqrt(2) * (X[str(i)+\"4\"] + sp.I * X[str(i)+\"5\"])\n",
    "    phi[str(i)+\"2\"] = 1/sp.sqrt(2) * (X[str(i)+\"6\"] + sp.I * X[str(i)+\"7\"])\n",
    "    phi[str(i)+\"3\"] = 1/sp.sqrt(2) * (X[str(i)+\"8\"] + sp.I * X[str(i)+\"9\"])\n",
    "    \n",
    "    phi_dag[str(i)+\"1\"] = 1/sp.sqrt(2) * ( X[str(i)+\"4\"] - sp.I * X[str(i)+\"5\"])\n",
    "    phi_dag[str(i)+\"2\"] = 1/sp.sqrt(2) * (X[str(i)+\"6\"] - sp.I * X[str(i)+\"7\"])\n",
    "    phi_dag[str(i)+\"3\"] = 1/sp.sqrt(2) * (X[str(i)+\"8\"] - sp.I * X[str(i)+\"9\"])\n",
    "    \n",
    "phi_[\"12\"] = phi[\"13\"] - phi[\"23\"]\n",
    "phi_[\"23\"] = phi[\"21\"] - phi[\"31\"]\n",
    "phi_[\"31\"] = phi[\"32\"] - phi[\"12\"]"
   ]
  },
  {
   "cell_type": "markdown",
   "id": "ad124cfc",
   "metadata": {},
   "source": [
    "## Creating Z coordinates"
   ]
  },
  {
   "cell_type": "code",
   "execution_count": 45,
   "id": "992433af",
   "metadata": {},
   "outputs": [],
   "source": [
    "#correct\n",
    "# Building the Z-dictionary\n",
    "Z = {}\n",
    "for i in np.arange(1,4):\n",
    "    #Scalars here\n",
    "    for j in np.arange(1,4):\n",
    "        if i == j: \n",
    "            continue\n",
    "        else:\n",
    "            P = sp.Symbol(\"P\"+str(i) + str(j), real = True)\n",
    "            Q = sp.Symbol(\"Q\"+str(i) + str(j), real = True)\n",
    "            Z[str(i) + str(j)] = (P + sp.I * Q)\n",
    "    \n",
    "    #Vectors here\n",
    "    store_current_4i = []\n",
    "    store_current_i4 = []\n",
    "    for j in np.arange(N):\n",
    "        P4i = sp.Symbol(\"P\"+str(4)+str(i)+\"(\"+str(j)+\")\", real = True)\n",
    "        Q4i = sp.Symbol(\"Q\"+str(4)+str(i)+\"(\"+str(j)+\")\", real = True)\n",
    "        Pi4 = sp.Symbol(\"P\"+str(i)+str(4)+\"(\"+str(j)+\")\", real = True)\n",
    "        Qi4 = sp.Symbol(\"Q\"+str(i)+str(4)+\"(\"+str(j)+\")\", real = True)\n",
    "        store_current_4i.append([P4i + sp.I * Q4i])\n",
    "        store_current_i4.append([Pi4 + sp.I * Qi4])\n",
    "    Z[\"4\"+str(i)] = sp.Matrix(store_current_4i)\n",
    "    Z[str(i) + \"4\"] = sp.Matrix(store_current_i4).transpose()"
   ]
  },
  {
   "cell_type": "markdown",
   "id": "34c0b5dd",
   "metadata": {},
   "source": [
    "## Creating the F variables"
   ]
  },
  {
   "cell_type": "code",
   "execution_count": 7,
   "id": "5d075d7f",
   "metadata": {},
   "outputs": [],
   "source": [
    "F = {}\n",
    "\n",
    "#Scalars\n",
    "for i in np.arange(1,4):\n",
    "    for j in np.arange(1,5):\n",
    "        if i == j:\n",
    "            continue\n",
    "        if j == 4:\n",
    "            F[str(i)+str(j)] = (Z[str(i)+str(j)] * Z[str(j)+str(i)])[0] + N*sp.Symbol(\"c\"+str(i)+str(j))/g**2\n",
    "        else:\n",
    "            F[str(i)+str(j)] = Z[str(i)+str(j)] * Z[str(j)+str(i)] + sp.Symbol(\"c\"+str(i)+str(j))/g**2 \n",
    "\n",
    "F[\"41\"] = Z[\"41\"]*Z[\"14\"] + (sp.Symbol(\"c41\")/g**2)*sp.eye(N) +  phi[\"42\"]*phi[\"43\"] - phi[\"43\"]*phi[\"42\"]\n",
    "F[\"42\"] = Z[\"42\"]*Z[\"24\"] + (sp.Symbol(\"c42\")/g**2)*sp.eye(N) +  phi[\"43\"]*phi[\"41\"] - phi[\"41\"]*phi[\"43\"]\n",
    "F[\"43\"] = Z[\"43\"]*Z[\"34\"] + (sp.Symbol(\"c43\")/g**2)*sp.eye(N) -  phi[\"42\"]*phi[\"41\"] + phi[\"41\"]*phi[\"42\"]"
   ]
  },
  {
   "cell_type": "markdown",
   "id": "7f16420c",
   "metadata": {},
   "source": [
    "## Writing in the G's"
   ]
  },
  {
   "cell_type": "code",
   "execution_count": 8,
   "id": "efda841f",
   "metadata": {},
   "outputs": [],
   "source": [
    "G = {}\n",
    "\n",
    "G[\"21\"] = phi_[\"12\"]*Z[\"21\"] + Z[\"23\"]*Z[\"31\"] + (Z[\"24\"]*Z[\"41\"])[0]\n",
    "G[\"12\"] = phi_[\"12\"]*Z[\"12\"] + Z[\"13\"]*Z[\"32\"] + (Z[\"14\"]*Z[\"42\"])[0]\n",
    "\n",
    "G[\"31\"] = phi_[\"31\"]*Z[\"31\"] + Z[\"32\"]*Z[\"21\"] - (Z[\"34\"]*Z[\"41\"])[0]\n",
    "G[\"13\"] = phi_[\"31\"]*Z[\"13\"] + Z[\"12\"]*Z[\"23\"] + (Z[\"14\"]*Z[\"43\"])[0]\n",
    "\n",
    "G[\"32\"] = phi_[\"23\"]*Z[\"32\"] + Z[\"31\"]*Z[\"12\"] + (Z[\"34\"]*Z[\"42\"])[0]\n",
    "G[\"23\"] = phi_[\"23\"]*Z[\"23\"] + Z[\"21\"]*Z[\"13\"] + (Z[\"24\"]*Z[\"43\"])[0]\n",
    "\n",
    "G[\"41\"] = -phi[\"41\"]*Z[\"41\"] + Z[\"42\"]*Z[\"21\"] + Z[\"43\"]*Z[\"31\"]\n",
    "G[\"14\"] = -Z[\"14\"]*phi[\"41\"] + Z[\"12\"]*Z[\"24\"] - Z[\"13\"]*Z[\"34\"]\n",
    "\n",
    "G[\"42\"] = -phi[\"42\"]*Z[\"42\"] + Z[\"43\"]*Z[\"32\"] + Z[\"41\"]*Z[\"12\"]\n",
    "G[\"24\"] = -Z[\"24\"]*phi[\"42\"] + Z[\"21\"]*Z[\"14\"] + Z[\"23\"]*Z[\"34\"]\n",
    "\n",
    "G[\"43\"] = -phi[\"43\"]*Z[\"43\"] - Z[\"41\"]*Z[\"13\"] + Z[\"42\"]*Z[\"23\"]\n",
    "G[\"34\"] = -Z[\"34\"]*phi[\"43\"] + Z[\"31\"]*Z[\"14\"] + Z[\"32\"]*Z[\"24\"]\n",
    "\n",
    "scalar_G = [G[\"12\"],G[\"21\"],G[\"13\"],G[\"31\"],G[\"23\"],G[\"32\"]]"
   ]
  },
  {
   "cell_type": "markdown",
   "id": "fcdb904c",
   "metadata": {},
   "source": [
    "## Hs"
   ]
  },
  {
   "cell_type": "code",
   "execution_count": null,
   "id": "0df112fc",
   "metadata": {},
   "outputs": [],
   "source": []
  },
  {
   "cell_type": "markdown",
   "id": "e1469640",
   "metadata": {},
   "source": [
    "## K"
   ]
  },
  {
   "cell_type": "code",
   "execution_count": null,
   "id": "9dae678f",
   "metadata": {},
   "outputs": [],
   "source": []
  },
  {
   "cell_type": "markdown",
   "id": "ac8ca629",
   "metadata": {},
   "source": [
    "## V_gauge"
   ]
  },
  {
   "cell_type": "code",
   "execution_count": null,
   "id": "156da1c3",
   "metadata": {},
   "outputs": [],
   "source": []
  },
  {
   "cell_type": "markdown",
   "id": "93fa35e1",
   "metadata": {},
   "source": [
    "## V_D"
   ]
  },
  {
   "cell_type": "code",
   "execution_count": null,
   "id": "2645b5bc",
   "metadata": {},
   "outputs": [],
   "source": []
  },
  {
   "cell_type": "markdown",
   "id": "667d9bcc",
   "metadata": {},
   "source": [
    "## Creating $V_F$"
   ]
  },
  {
   "cell_type": "code",
   "execution_count": 10,
   "id": "51aac96d",
   "metadata": {},
   "outputs": [
    {
     "ename": "IndexError",
     "evalue": "Invalid index, wanted (sqrt(2)/2)*Matrix([[-P14(0) - I*Q14(0), -P14(1) - I*Q14(1)]])*(X^{4}_4 + I*X^{4}_5) + Matrix([[(P12 + I*Q12)*(P24(0) + I*Q24(0)) - (P13 + I*Q13)*(P34(0) + I*Q34(0)), (P12 + I*Q12)*(P24(1) + I*Q24(1)) - (P13 + I*Q13)*(P34(1) + I*Q34(1))]])[i,j]",
     "output_type": "error",
     "traceback": [
      "\u001b[1;31m---------------------------------------------------------------------------\u001b[0m",
      "\u001b[1;31mIndexError\u001b[0m                                Traceback (most recent call last)",
      "Cell \u001b[1;32mIn[10], line 33\u001b[0m\n\u001b[0;32m     31\u001b[0m \u001b[38;5;28;01mfor\u001b[39;00m i \u001b[38;5;129;01min\u001b[39;00m np\u001b[38;5;241m.\u001b[39marange(\u001b[38;5;241m1\u001b[39m,\u001b[38;5;241m4\u001b[39m):\n\u001b[0;32m     32\u001b[0m     \u001b[38;5;28;01mfor\u001b[39;00m j \u001b[38;5;129;01min\u001b[39;00m np\u001b[38;5;241m.\u001b[39marange(N):\n\u001b[1;32m---> 33\u001b[0m         Gsum2 \u001b[38;5;241m+\u001b[39m\u001b[38;5;241m=\u001b[39m (sp\u001b[38;5;241m.\u001b[39mre(\u001b[43mG\u001b[49m\u001b[43m[\u001b[49m\u001b[38;5;28;43mstr\u001b[39;49m\u001b[43m(\u001b[49m\u001b[43mi\u001b[49m\u001b[43m)\u001b[49m\u001b[38;5;241;43m+\u001b[39;49m\u001b[38;5;124;43m\"\u001b[39;49m\u001b[38;5;124;43m4\u001b[39;49m\u001b[38;5;124;43m\"\u001b[39;49m\u001b[43m]\u001b[49m\u001b[43m[\u001b[49m\u001b[43mj\u001b[49m\u001b[43m]\u001b[49m))\u001b[38;5;241m*\u001b[39m\u001b[38;5;241m*\u001b[39m\u001b[38;5;241m2\u001b[39m \u001b[38;5;241m+\u001b[39m (sp\u001b[38;5;241m.\u001b[39mim(G[\u001b[38;5;28mstr\u001b[39m(i)\u001b[38;5;241m+\u001b[39m\u001b[38;5;124m\"\u001b[39m\u001b[38;5;124m4\u001b[39m\u001b[38;5;124m\"\u001b[39m][j]))\u001b[38;5;241m*\u001b[39m\u001b[38;5;241m*\u001b[39m\u001b[38;5;241m2\u001b[39m\n\u001b[0;32m     35\u001b[0m \u001b[38;5;66;03m#Term 6\u001b[39;00m\n\u001b[0;32m     36\u001b[0m \u001b[38;5;28;01mfor\u001b[39;00m i \u001b[38;5;129;01min\u001b[39;00m np\u001b[38;5;241m.\u001b[39marange(\u001b[38;5;241m1\u001b[39m,\u001b[38;5;241m4\u001b[39m):\n",
      "File \u001b[1;32m~\\anaconda3\\lib\\site-packages\\sympy\\matrices\\expressions\\matexpr.py:317\u001b[0m, in \u001b[0;36mMatrixExpr.__getitem__\u001b[1;34m(self, key)\u001b[0m\n\u001b[0;32m    313\u001b[0m \u001b[38;5;28;01melif\u001b[39;00m \u001b[38;5;28misinstance\u001b[39m(key, (Symbol, Expr)):\n\u001b[0;32m    314\u001b[0m     \u001b[38;5;28;01mraise\u001b[39;00m \u001b[38;5;167;01mIndexError\u001b[39;00m(filldedent(\u001b[38;5;124m'''\u001b[39m\n\u001b[0;32m    315\u001b[0m \u001b[38;5;124m        Only integers may be used when addressing the matrix\u001b[39m\n\u001b[0;32m    316\u001b[0m \u001b[38;5;124m        with a single index.\u001b[39m\u001b[38;5;124m'''\u001b[39m))\n\u001b[1;32m--> 317\u001b[0m \u001b[38;5;28;01mraise\u001b[39;00m \u001b[38;5;167;01mIndexError\u001b[39;00m(\u001b[38;5;124m\"\u001b[39m\u001b[38;5;124mInvalid index, wanted \u001b[39m\u001b[38;5;132;01m%s\u001b[39;00m\u001b[38;5;124m[i,j]\u001b[39m\u001b[38;5;124m\"\u001b[39m \u001b[38;5;241m%\u001b[39m \u001b[38;5;28mself\u001b[39m)\n",
      "\u001b[1;31mIndexError\u001b[0m: Invalid index, wanted (sqrt(2)/2)*Matrix([[-P14(0) - I*Q14(0), -P14(1) - I*Q14(1)]])*(X^{4}_4 + I*X^{4}_5) + Matrix([[(P12 + I*Q12)*(P24(0) + I*Q24(0)) - (P13 + I*Q13)*(P34(0) + I*Q34(0)), (P12 + I*Q12)*(P24(1) + I*Q24(1)) - (P13 + I*Q13)*(P34(1) + I*Q34(1))]])[i,j]"
     ]
    }
   ],
   "source": [
    "start = time.time()\n",
    "Fsum1 = sp.Symbol(\"\",real = True)\n",
    "Fsum2 = sp.Symbol(\"\",real = True)\n",
    "Fsum3 = sp.Symbol(\"\",real = True)\n",
    "Gsum1 = sp.Symbol(\"\",real = True)\n",
    "Gsum2 = sp.Symbol(\"\",real = True)\n",
    "Gsum3 = sp.Symbol(\"\",real = True)\n",
    "\n",
    "#Term 1\n",
    "for i in np.arange(1,4):\n",
    "    for j in np.arange(1,4):\n",
    "        if i == j:\n",
    "            continue\n",
    "        else:\n",
    "            Fsum1+= sp.re(F[str(i)+str(j)])**2 + sp.im(F[str(i)+str(j)])**2\n",
    "#Term 2\n",
    "for i in np.arange(1,4):\n",
    "    Fsum2 += sp.re(F[str(i)+\"4\"])**2 + sp.im(F[str(i)+\"4\"])**2\n",
    "    \n",
    "#Term 3\n",
    "for i in np.arange(1,4):\n",
    "    for j in np.arange(N):\n",
    "        for k in np.arange(N):\n",
    "            Fsum3 += sp.re(F[\"4\"+str(i)][j,k])**2 + sp.im(F[\"4\"+str(i)][j,k])**2\n",
    "            \n",
    "#Term 4\n",
    "for i in np.arange(6):\n",
    "    Gsum1 += (sp.re(scalar_G[i]))**2 + (sp.im(scalar_G[i]))**2\n",
    "    \n",
    "#Term 5\n",
    "for i in np.arange(1,4):\n",
    "    for j in np.arange(N):\n",
    "        Gsum2 += (sp.re(G[str(i)+\"4\"][j]))**2 + (sp.im(G[str(i)+\"4\"][j]))**2\n",
    "\n",
    "#Term 6\n",
    "for i in np.arange(1,4):\n",
    "    for j in np.arange(N):\n",
    "        Gsum3 += (sp.re(G[str(i)+\"4\"][j]))**2 + (sp.im(G[str(i)+\"4\"][j]))**2\n",
    "        \n",
    "V_F = Fsum1 + Fsum2 + Fsum3 + Gsum1 + Gsum2 + Gsum3\n",
    "\n",
    "print(time.time() - start)"
   ]
  },
  {
   "cell_type": "code",
   "execution_count": null,
   "id": "8f1ef8c3",
   "metadata": {
    "scrolled": false
   },
   "outputs": [],
   "source": [
    "print(V_F.diff(sp.re(Z[\"12\"])))"
   ]
  },
  {
   "cell_type": "code",
   "execution_count": null,
   "id": "f69b44ad",
   "metadata": {},
   "outputs": [],
   "source": []
  },
  {
   "cell_type": "code",
   "execution_count": null,
   "id": "4a5b87a7",
   "metadata": {},
   "outputs": [],
   "source": []
  }
 ],
 "metadata": {
  "kernelspec": {
   "display_name": "Python 3 (ipykernel)",
   "language": "python",
   "name": "python3"
  },
  "language_info": {
   "codemirror_mode": {
    "name": "ipython",
    "version": 3
   },
   "file_extension": ".py",
   "mimetype": "text/x-python",
   "name": "python",
   "nbconvert_exporter": "python",
   "pygments_lexer": "ipython3",
   "version": "3.8.17"
  }
 },
 "nbformat": 4,
 "nbformat_minor": 5
}
