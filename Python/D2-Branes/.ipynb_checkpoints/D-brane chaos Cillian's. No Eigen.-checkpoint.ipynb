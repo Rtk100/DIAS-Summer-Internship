{
 "cells": [
  {
   "cell_type": "code",
   "execution_count": 1,
   "id": "5bb6502a",
   "metadata": {},
   "outputs": [],
   "source": [
    "import sympy as sp\n",
    "import numpy as np\n",
    "import time \n",
    "from sympy import *\n",
    "N = 2"
   ]
  },
  {
   "cell_type": "code",
   "execution_count": 2,
   "id": "88e138ee",
   "metadata": {},
   "outputs": [
    {
     "ename": "NameError",
     "evalue": "name 'X' is not defined",
     "output_type": "error",
     "traceback": [
      "\u001b[1;31m---------------------------------------------------------------------------\u001b[0m",
      "\u001b[1;31mNameError\u001b[0m                                 Traceback (most recent call last)",
      "Cell \u001b[1;32mIn[2], line 13\u001b[0m\n\u001b[0;32m     10\u001b[0m custom_printer \u001b[38;5;241m=\u001b[39m CustomPrinter()\n\u001b[0;32m     12\u001b[0m \u001b[38;5;66;03m# Print expressions using the custom printer\u001b[39;00m\n\u001b[1;32m---> 13\u001b[0m \u001b[38;5;28mprint\u001b[39m(custom_printer\u001b[38;5;241m.\u001b[39mdoprint(\u001b[43mX\u001b[49m[\u001b[38;5;124m\"\u001b[39m\u001b[38;5;124m43\u001b[39m\u001b[38;5;124m\"\u001b[39m]\u001b[38;5;241m*\u001b[39mX[\u001b[38;5;124m\"\u001b[39m\u001b[38;5;124m44\u001b[39m\u001b[38;5;124m\"\u001b[39m]\u001b[38;5;241m+\u001b[39mIdentity(N)))\n",
      "\u001b[1;31mNameError\u001b[0m: name 'X' is not defined"
     ]
    }
   ],
   "source": [
    "from sympy.printing import StrPrinter\n",
    "\n",
    "class CustomPrinter(StrPrinter):\n",
    "    \n",
    "    def _print_Identity(self, expr):\n",
    "        return \"Id\"\n",
    "    \n",
    "\n",
    "# Create an instance of your custom printer\n",
    "custom_printer = CustomPrinter()\n",
    "\n",
    "# Print expressions using the custom printer\n",
    "print(custom_printer.doprint(X[\"43\"]*X[\"44\"]+Identity(N)))\n"
   ]
  },
  {
   "cell_type": "markdown",
   "id": "b6b0cb0b",
   "metadata": {},
   "source": [
    "## Creating constants"
   ]
  },
  {
   "cell_type": "code",
   "execution_count": null,
   "id": "c3a6f616",
   "metadata": {},
   "outputs": [],
   "source": []
  },
  {
   "cell_type": "code",
   "execution_count": 3,
   "id": "a00f5991",
   "metadata": {},
   "outputs": [],
   "source": [
    "#Correct\n",
    "g = symbols(\"g\", real = True)\n",
    "c1, c2, c3, c4 =symbols(\"c1 c2 c3 c4\", real = True)\n",
    "c12, c13, c14 = symbols(\"c12 c13 c14\", real = True)\n",
    "c23, c24, c34 = symbols(\"c23 c24 c34\", real = True)"
   ]
  },
  {
   "cell_type": "markdown",
   "id": "6b56a04e",
   "metadata": {},
   "source": [
    "## Creating X coordinates (using sp.Matrix for the 4th stack)"
   ]
  },
  {
   "cell_type": "code",
   "execution_count": 4,
   "id": "f982a33e",
   "metadata": {},
   "outputs": [],
   "source": [
    "#Correct\n",
    "# Creating a dictionary to store the X coordinates\n",
    "X = {}\n",
    "for i in np.arange(1,4):\n",
    "    for j in np.arange(1,10):\n",
    "        X[str(i)+str(j)] = sp.Symbol(\"X\"+str(i)+str(j), real = True)\n",
    "            \n",
    "for i in np.arange(1,10):\n",
    "    #initialise a matrix of correct shape\n",
    "    X_init = []\n",
    "    for j in np.arange(1,N+1):\n",
    "        row = []\n",
    "        for k in np.arange(1,N+1):\n",
    "            row.append(sp.Symbol(\"4\"+str(i)+\"_{\"+str(j)+str(k)+\"}\"))\n",
    "        X_init.append(row)\n",
    "    X[\"4\"+str(i)] = sp.Matrix(X_init)\n",
    "    \n",
    "    for j in np.arange(N):\n",
    "        for k in np.arange(N):\n",
    "            if j == k:\n",
    "                X[\"4\"+str(i)][j,k] = sp.Symbol(\"X4\"+str(i)+\"_\"+str(j)+str(k), real = True)\n",
    "            elif j > k:\n",
    "                continue\n",
    "            else:\n",
    "                x_ij = sp.Symbol(\"ReX4\"+str(i)+\"_\"+str(j)+str(k), real = True)\n",
    "                y_ij = sp.Symbol(\"ImX4\"+str(i)+\"_\"+str(j)+str(k), real = True)\n",
    "                X[\"4\"+str(i)][j,k] = x_ij + sp.I*y_ij\n",
    "                X[\"4\"+str(i)][k,j] = x_ij - sp.I*y_ij"
   ]
  },
  {
   "cell_type": "markdown",
   "id": "61c09e07",
   "metadata": {},
   "source": [
    "## Creating X_dot coordinates (using sp.Matrix for the 4th stack)"
   ]
  },
  {
   "cell_type": "code",
   "execution_count": 6,
   "id": "f5c3ebc1",
   "metadata": {},
   "outputs": [],
   "source": [
    "#Correct\n",
    "# Creating a dictionary to store the X coordinates\n",
    "X_dot = {}\n",
    "for i in np.arange(1,4):\n",
    "    for j in np.arange(1,10):\n",
    "        X_dot[str(i)+str(j)] = sp.Symbol(\"X_dot\"+str(i)+str(j), real = True)\n",
    "            \n",
    "for i in np.arange(1,10):\n",
    "    #initialise a matrix of correct shape\n",
    "    X_init = []\n",
    "    for j in np.arange(1,N+1):\n",
    "        row = []\n",
    "        for k in np.arange(1,N+1):\n",
    "            row.append(sp.Symbol(\"4\"+str(i)+\"_{\"+str(j)+str(k)+\"}\"))\n",
    "        X_init.append(row)\n",
    "    X_dot[\"4\"+str(i)] = sp.Matrix(X_init)\n",
    "    \n",
    "    for j in np.arange(N):\n",
    "        for k in np.arange(N):\n",
    "            if j == k:\n",
    "                X_dot[\"4\"+str(i)][j,k] = sp.Symbol(\"X_dot4\"+str(i)+\"_\"+str(j)+str(k), real = True)\n",
    "            elif j > k:\n",
    "                continue\n",
    "            else:\n",
    "                x_ij = sp.Symbol(\"ReX_dot4\"+str(i)+\"_\"+str(j)+str(k), real = True)\n",
    "                y_ij = sp.Symbol(\"ImX_dot4\"+str(i)+\"_\"+str(j)+str(k), real = True)\n",
    "                X_dot[\"4\"+str(i)][j,k] = x_ij + sp.I*y_ij\n",
    "                X_dot[\"4\"+str(i)][k,j] = x_ij - sp.I*y_ij"
   ]
  },
  {
   "cell_type": "markdown",
   "id": "607747e6",
   "metadata": {},
   "source": [
    "## Creating the $\\phi$'s and $\\phi^{\\dagger}$'s and $\\phi^{(ij)}$"
   ]
  },
  {
   "cell_type": "code",
   "execution_count": 8,
   "id": "c1702ab2",
   "metadata": {},
   "outputs": [],
   "source": [
    "#Correct\n",
    "phi = {}\n",
    "phi_ = {}\n",
    "phi_dag = {}\n",
    "phi__dag = {}\n",
    "for i in np.arange(1,5):\n",
    "    phi[str(i)+\"1\"] = 1/sp.sqrt(2) * (X[str(i)+\"4\"] + sp.I * X[str(i)+\"5\"])\n",
    "    phi[str(i)+\"2\"] = 1/sp.sqrt(2) * (X[str(i)+\"6\"] + sp.I * X[str(i)+\"7\"])\n",
    "    phi[str(i)+\"3\"] = 1/sp.sqrt(2) * (X[str(i)+\"8\"] + sp.I * X[str(i)+\"9\"])\n",
    "    \n",
    "    phi_dag[str(i)+\"1\"] = 1/sp.sqrt(2) * (X[str(i)+\"4\"] - sp.I * X[str(i)+\"5\"])\n",
    "    phi_dag[str(i)+\"2\"] = 1/sp.sqrt(2) * (X[str(i)+\"6\"] - sp.I * X[str(i)+\"7\"])\n",
    "    phi_dag[str(i)+\"3\"] = 1/sp.sqrt(2) * (X[str(i)+\"8\"] - sp.I * X[str(i)+\"9\"])\n",
    "    \n",
    "phi_[\"12\"] = phi[\"13\"] - phi[\"23\"]\n",
    "phi_[\"23\"] = phi[\"21\"] - phi[\"31\"]\n",
    "phi_[\"31\"] = phi[\"32\"] - phi[\"12\"]\n",
    "\n",
    "phi__dag[\"12\"] = phi_dag[\"13\"] - phi_dag[\"23\"]\n",
    "phi__dag[\"23\"] = phi_dag[\"21\"] - phi_dag[\"31\"]\n",
    "phi__dag[\"31\"] = phi_dag[\"32\"] - phi_dag[\"12\"]\n"
   ]
  },
  {
   "cell_type": "markdown",
   "id": "ad124cfc",
   "metadata": {},
   "source": [
    "## Creating Z coordinates"
   ]
  },
  {
   "cell_type": "code",
   "execution_count": 201,
   "id": "992433af",
   "metadata": {},
   "outputs": [],
   "source": [
    "#correct\n",
    "# Building the Z-dictionary\n",
    "Z = {}\n",
    "for i in np.arange(1,4):\n",
    "    #Scalars here\n",
    "    for j in np.arange(1,4):\n",
    "        if i == j: \n",
    "            continue\n",
    "        else:\n",
    "            P = sp.Symbol(\"P\"+str(i) + str(j), real = True)\n",
    "            Q = sp.Symbol(\"Q\"+str(i) + str(j), real = True)\n",
    "            Z[str(i) + str(j)] = (P + sp.I * Q)\n",
    "    \n",
    "    #Vectors here\n",
    "    store_current_4i = []\n",
    "    store_current_i4 = []\n",
    "    for j in np.arange(N):\n",
    "        P4i = sp.Symbol(\"P\"+str(4)+str(i)+\"_\"+str(j), real = True)\n",
    "        Q4i = sp.Symbol(\"Q\"+str(4)+str(i)+\"_\"+str(j), real = True)\n",
    "        Pi4 = sp.Symbol(\"P\"+str(i)+str(4)+\"_\"+str(j), real = True)\n",
    "        Qi4 = sp.Symbol(\"Q\"+str(i)+str(4)+\"_\"+str(j), real = True)\n",
    "        store_current_4i.append([P4i + sp.I * Q4i])\n",
    "        store_current_i4.append([Pi4 + sp.I * Qi4])\n",
    "    Z[\"4\"+str(i)] = sp.Matrix(store_current_4i)\n",
    "    Z[str(i) + \"4\"] = sp.Matrix(store_current_i4).transpose()"
   ]
  },
  {
   "cell_type": "markdown",
   "id": "33f0d0a0",
   "metadata": {},
   "source": [
    "## Z_dot"
   ]
  },
  {
   "cell_type": "code",
   "execution_count": 202,
   "id": "29dedd7d",
   "metadata": {},
   "outputs": [],
   "source": [
    "# Building the Z-dictionary\n",
    "Z_dot = {}\n",
    "for i in np.arange(1,4):\n",
    "    #Scalars here\n",
    "    for j in np.arange(1,4):\n",
    "        if i == j: \n",
    "            continue\n",
    "        else:\n",
    "            P_dot = sp.Symbol(\"P\"+str(i) + str(j), real = True)\n",
    "            Q_dot = sp.Symbol(\"Q\"+str(i) + str(j), real = True)\n",
    "            Z_dot[str(i) + str(j)] = (P_dot + sp.I * Q_dot)\n",
    "    \n",
    "    #Vectors here\n",
    "    store_current_4i = []\n",
    "    store_current_i4 = []\n",
    "    for j in np.arange(N):\n",
    "        P4i_dot = sp.Symbol(\"P_dot\"+str(4)+str(i)+\"_\"+str(j), real = True)\n",
    "        Q4i_dot = sp.Symbol(\"Q_dot\"+str(4)+str(i)+\"_\"+str(j), real = True)\n",
    "        Pi4_dot = sp.Symbol(\"P_dot\"+str(i)+str(4)+\"_\"+str(j), real = True)\n",
    "        Qi4_dot = sp.Symbol(\"Q_dot\"+str(i)+str(4)+\"_\"+str(j), real = True)\n",
    "        store_current_4i.append([P4i_dot + sp.I * Q4i_dot])\n",
    "        store_current_i4.append([Pi4_dot + sp.I * Qi4_dot])\n",
    "    Z_dot[\"4\"+str(i)] = sp.Matrix(store_current_4i)\n",
    "    Z_dot[str(i) + \"4\"] = sp.Matrix(store_current_i4).transpose()"
   ]
  },
  {
   "cell_type": "markdown",
   "id": "34c0b5dd",
   "metadata": {},
   "source": [
    "## Creating the F variables"
   ]
  },
  {
   "cell_type": "code",
   "execution_count": 203,
   "id": "bc09deac",
   "metadata": {},
   "outputs": [],
   "source": [
    "F = {}\n",
    "\n",
    "#Scalars\n",
    "for i in np.arange(1,4):\n",
    "    for j in np.arange(1,5):\n",
    "        if i == j:\n",
    "            continue\n",
    "        if j == 4:\n",
    "            F[str(i)+str(j)] = (Z[str(i)+str(j)] * Z[str(j)+str(i)])[0]+ N*sp.Symbol(\"c\"+str(i)+str(j), real = True)/g**2\n",
    "        else:\n",
    "            F[str(i)+str(j)] = Z[str(i)+str(j)] * Z[str(j)+str(i)] + sp.Symbol(\"c\"+str(i)+str(j), real = True)/g**2 \n",
    "\n",
    "F[\"41\"] = Z[\"41\"]*Z[\"14\"] + c14/g**2*sp.eye(N) +  phi[\"42\"]*phi[\"43\"] - phi[\"43\"]*phi[\"42\"]\n",
    "F[\"42\"] = Z[\"42\"]*Z[\"24\"] + c24/g**2*sp.eye(N) +  phi[\"43\"]*phi[\"41\"] - phi[\"41\"]*phi[\"43\"]\n",
    "F[\"43\"] = Z[\"43\"]*Z[\"34\"] + c34/g**2*sp.eye(N) -  phi[\"42\"]*phi[\"41\"] + phi[\"41\"]*phi[\"42\"]"
   ]
  },
  {
   "cell_type": "markdown",
   "id": "7f16420c",
   "metadata": {},
   "source": [
    "## Writing in the G's"
   ]
  },
  {
   "cell_type": "code",
   "execution_count": 204,
   "id": "efda841f",
   "metadata": {},
   "outputs": [],
   "source": [
    "G = {}\n",
    "\n",
    "G[\"21\"] = phi_[\"12\"]*Z[\"21\"] + Z[\"23\"]*Z[\"31\"] + (Z[\"24\"]*Z[\"41\"])[0]\n",
    "G[\"12\"] = phi_[\"12\"]*Z[\"12\"] + Z[\"13\"]*Z[\"32\"] + (Z[\"14\"]*Z[\"42\"])[0]\n",
    "\n",
    "G[\"31\"] = phi_[\"31\"]*Z[\"31\"] + Z[\"32\"]*Z[\"21\"] - (Z[\"34\"]*Z[\"41\"])[0]\n",
    "G[\"13\"] = phi_[\"31\"]*Z[\"13\"] + Z[\"12\"]*Z[\"23\"] + (Z[\"14\"]*Z[\"43\"])[0]\n",
    "\n",
    "G[\"32\"] = phi_[\"23\"]*Z[\"32\"] + Z[\"31\"]*Z[\"12\"] + (Z[\"34\"]*Z[\"42\"])[0]\n",
    "G[\"23\"] = phi_[\"23\"]*Z[\"23\"] + Z[\"21\"]*Z[\"13\"] + (Z[\"24\"]*Z[\"43\"])[0]\n",
    "\n",
    "G[\"41\"] = -phi[\"41\"]*Z[\"41\"] + Z[\"42\"]*Z[\"21\"] + Z[\"43\"]*Z[\"31\"]\n",
    "G[\"14\"] = -Z[\"14\"]*phi[\"41\"] + Z[\"12\"]*Z[\"24\"] - Z[\"13\"]*Z[\"34\"]\n",
    "\n",
    "G[\"42\"] = -phi[\"42\"]*Z[\"42\"] + Z[\"43\"]*Z[\"32\"] + Z[\"41\"]*Z[\"12\"]\n",
    "G[\"24\"] = -Z[\"24\"]*phi[\"42\"] + Z[\"21\"]*Z[\"14\"] + Z[\"23\"]*Z[\"34\"]\n",
    "\n",
    "G[\"43\"] = -phi[\"43\"]*Z[\"43\"] - Z[\"41\"]*Z[\"13\"] + Z[\"42\"]*Z[\"23\"]\n",
    "G[\"34\"] = -Z[\"34\"]*phi[\"43\"] + Z[\"31\"]*Z[\"14\"] + Z[\"32\"]*Z[\"24\"]\n",
    "\n",
    "scalar_G = [G[\"12\"],G[\"21\"],G[\"13\"],G[\"31\"],G[\"23\"],G[\"32\"]]"
   ]
  },
  {
   "cell_type": "markdown",
   "id": "d12dbc01",
   "metadata": {},
   "source": [
    "## Hs"
   ]
  },
  {
   "cell_type": "code",
   "execution_count": 205,
   "id": "769d97e1",
   "metadata": {},
   "outputs": [],
   "source": [
    "H = {}\n",
    "\n",
    "for k in np.arange(1,5):\n",
    "    for l in np.arange(1,5):\n",
    "        for a in np.arange(1,4):\n",
    "            if k != l:\n",
    "                H[str(k)+str(l)+\"_\"+str(a)] = X[str(k)+str(a)]*Z[str(k)+str(l)] - Z[str(k)+str(l)] * X[str(l)+str(a)]        "
   ]
  },
  {
   "cell_type": "markdown",
   "id": "2701cd5a",
   "metadata": {},
   "source": [
    "## Ys"
   ]
  },
  {
   "cell_type": "code",
   "execution_count": 206,
   "id": "705c840e",
   "metadata": {},
   "outputs": [],
   "source": [
    "Y = {}\n",
    "\n",
    "for i in np.arange(1,5):\n",
    "    for j in np.arange(1,4):\n",
    "        for k in np.arange(1,4):\n",
    "            Y[str(i)+\"_\"+str(j)+str(k)] = X[str(i)+str(j)]*phi[str(i)+str(k)] - phi[str(i)+str(k)]*X[str(i)+str(j)]\n",
    "            \n",
    "Y_dag = {}\n",
    "\n",
    "for i in np.arange(1,5):\n",
    "    for j in np.arange(1,4):\n",
    "        for k in np.arange(1,4):\n",
    "            Y_dag[str(i)+\"_\"+str(j)+str(k)] = - X[str(i)+str(j)]*phi_dag[str(i)+str(k)] + phi_dag[str(i)+str(k)]*X[str(i)+str(j)]"
   ]
  },
  {
   "cell_type": "markdown",
   "id": "e4572994",
   "metadata": {},
   "source": [
    "## K"
   ]
  },
  {
   "cell_type": "code",
   "execution_count": 244,
   "id": "1f4502a7",
   "metadata": {},
   "outputs": [],
   "source": [
    "sum1 = 0\n",
    "for a in np.arange(1,10):\n",
    "    for k in np.arange(1,5):\n",
    "        if k == 4:\n",
    "            sum1 += (Trace(X_dot[str(k)+str(a)]))**2\n",
    "        else:\n",
    "            sum1 += X_dot[str(k)+str(a)]**2\n",
    "        \n",
    "sum2 = 0\n",
    "for k in np.arange(1,5):\n",
    "    for l in np.arange(1,5):\n",
    "        if k != l:\n",
    "\n",
    "            if l == 4:\n",
    "                sum2 += ((Z_dot[str(k)+str(l)].adjoint()*Z_dot[str(k)+str(l)])[0])\n",
    "\n",
    "            elif k == 4:\n",
    "                sum2 += Trace(Z_dot[str(k)+str(l)].adjoint()*Z_dot[str(k)+str(l)])\n",
    "\n",
    "            else:\n",
    "                sum2 += Z_dot[str(k)+str(l)].adjoint()*Z_dot[str(k)+str(l)]\n",
    "            \n",
    "K = 1/2 * (sum1 + sum2)"
   ]
  },
  {
   "cell_type": "code",
   "execution_count": 269,
   "id": "a3e11511",
   "metadata": {},
   "outputs": [
    {
     "data": {
      "text/latex": [
       "$\\displaystyle X_{dot41 00}$"
      ],
      "text/plain": [
       "X_dot41_00"
      ]
     },
     "execution_count": 269,
     "metadata": {},
     "output_type": "execute_result"
    }
   ],
   "source": [
    "X_dot[\"41\"][0,0]"
   ]
  },
  {
   "cell_type": "markdown",
   "id": "b4b4d310",
   "metadata": {},
   "source": [
    "## V_D"
   ]
  },
  {
   "cell_type": "code",
   "execution_count": 278,
   "id": "8a4975a0",
   "metadata": {},
   "outputs": [
    {
     "ename": "TypeError",
     "evalue": "cannot add <class 'sympy.matrices.dense.MutableDenseMatrix'> and <class 'sympy.core.add.Add'>",
     "output_type": "error",
     "traceback": [
      "\u001b[1;31m---------------------------------------------------------------------------\u001b[0m",
      "\u001b[1;31mTypeError\u001b[0m                                 Traceback (most recent call last)",
      "Cell \u001b[1;32mIn[278], line 7\u001b[0m\n\u001b[0;32m      5\u001b[0m \u001b[38;5;28;01mif\u001b[39;00m k \u001b[38;5;241m!=\u001b[39m l:\n\u001b[0;32m      6\u001b[0m     \u001b[38;5;28;01mif\u001b[39;00m l \u001b[38;5;241m==\u001b[39m \u001b[38;5;241m4\u001b[39m:\n\u001b[1;32m----> 7\u001b[0m         Sum1 \u001b[38;5;241m+\u001b[39m\u001b[38;5;241m=\u001b[39m \u001b[43m(\u001b[49m\u001b[43mZ\u001b[49m\u001b[43m[\u001b[49m\u001b[38;5;28;43mstr\u001b[39;49m\u001b[43m(\u001b[49m\u001b[43mk\u001b[49m\u001b[43m)\u001b[49m\u001b[38;5;241;43m+\u001b[39;49m\u001b[38;5;28;43mstr\u001b[39;49m\u001b[43m(\u001b[49m\u001b[43ml\u001b[49m\u001b[43m)\u001b[49m\u001b[43m]\u001b[49m\u001b[43m \u001b[49m\u001b[38;5;241;43m*\u001b[39;49m\u001b[43m \u001b[49m\u001b[43mZ\u001b[49m\u001b[43m[\u001b[49m\u001b[38;5;28;43mstr\u001b[39;49m\u001b[43m(\u001b[49m\u001b[43mk\u001b[49m\u001b[43m)\u001b[49m\u001b[38;5;241;43m+\u001b[39;49m\u001b[38;5;28;43mstr\u001b[39;49m\u001b[43m(\u001b[49m\u001b[43ml\u001b[49m\u001b[43m)\u001b[49m\u001b[43m]\u001b[49m\u001b[38;5;241;43m.\u001b[39;49m\u001b[43madjoint\u001b[49m\u001b[43m(\u001b[49m\u001b[43m)\u001b[49m\u001b[43m)\u001b[49m\u001b[43m[\u001b[49m\u001b[38;5;241;43m0\u001b[39;49m\u001b[43m]\u001b[49m\u001b[43m \u001b[49m\u001b[38;5;241;43m-\u001b[39;49m\u001b[43m \u001b[49m\u001b[43mZ\u001b[49m\u001b[43m[\u001b[49m\u001b[38;5;28;43mstr\u001b[39;49m\u001b[43m(\u001b[49m\u001b[43ml\u001b[49m\u001b[43m)\u001b[49m\u001b[38;5;241;43m+\u001b[39;49m\u001b[38;5;28;43mstr\u001b[39;49m\u001b[43m(\u001b[49m\u001b[43mk\u001b[49m\u001b[43m)\u001b[49m\u001b[43m]\u001b[49m\u001b[38;5;241;43m.\u001b[39;49m\u001b[43madjoint\u001b[49m\u001b[43m(\u001b[49m\u001b[43m)\u001b[49m\u001b[38;5;241;43m*\u001b[39;49m\u001b[43mZ\u001b[49m\u001b[43m[\u001b[49m\u001b[38;5;28;43mstr\u001b[39;49m\u001b[43m(\u001b[49m\u001b[43ml\u001b[49m\u001b[43m)\u001b[49m\u001b[38;5;241;43m+\u001b[39;49m\u001b[38;5;28;43mstr\u001b[39;49m\u001b[43m(\u001b[49m\u001b[43mk\u001b[49m\u001b[43m)\u001b[49m\u001b[43m]\u001b[49m\n\u001b[0;32m      9\u001b[0m     \u001b[38;5;28;01melse\u001b[39;00m:\n\u001b[0;32m     10\u001b[0m         Sum1 \u001b[38;5;241m+\u001b[39m\u001b[38;5;241m=\u001b[39m Z[\u001b[38;5;28mstr\u001b[39m(k)\u001b[38;5;241m+\u001b[39m\u001b[38;5;28mstr\u001b[39m(l)] \u001b[38;5;241m*\u001b[39m Z[\u001b[38;5;28mstr\u001b[39m(k)\u001b[38;5;241m+\u001b[39m\u001b[38;5;28mstr\u001b[39m(l)]\u001b[38;5;241m.\u001b[39madjoint() \u001b[38;5;241m-\u001b[39m Z[\u001b[38;5;28mstr\u001b[39m(l)\u001b[38;5;241m+\u001b[39m\u001b[38;5;28mstr\u001b[39m(k)]\u001b[38;5;241m.\u001b[39madjoint()\u001b[38;5;241m*\u001b[39mZ[\u001b[38;5;28mstr\u001b[39m(l)\u001b[38;5;241m+\u001b[39m\u001b[38;5;28mstr\u001b[39m(k)]\n",
      "File \u001b[1;32m~\\anaconda3\\lib\\site-packages\\sympy\\core\\decorators.py:106\u001b[0m, in \u001b[0;36mcall_highest_priority.<locals>.priority_decorator.<locals>.binary_op_wrapper\u001b[1;34m(self, other)\u001b[0m\n\u001b[0;32m    104\u001b[0m         \u001b[38;5;28;01mif\u001b[39;00m f \u001b[38;5;129;01mis\u001b[39;00m \u001b[38;5;129;01mnot\u001b[39;00m \u001b[38;5;28;01mNone\u001b[39;00m:\n\u001b[0;32m    105\u001b[0m             \u001b[38;5;28;01mreturn\u001b[39;00m f(\u001b[38;5;28mself\u001b[39m)\n\u001b[1;32m--> 106\u001b[0m \u001b[38;5;28;01mreturn\u001b[39;00m \u001b[43mfunc\u001b[49m\u001b[43m(\u001b[49m\u001b[38;5;28;43mself\u001b[39;49m\u001b[43m,\u001b[49m\u001b[43m \u001b[49m\u001b[43mother\u001b[49m\u001b[43m)\u001b[49m\n",
      "File \u001b[1;32m~\\anaconda3\\lib\\site-packages\\sympy\\matrices\\common.py:3002\u001b[0m, in \u001b[0;36mMatrixArithmetic.__rsub__\u001b[1;34m(self, a)\u001b[0m\n\u001b[0;32m   3000\u001b[0m \u001b[38;5;129m@call_highest_priority\u001b[39m(\u001b[38;5;124m'\u001b[39m\u001b[38;5;124m__sub__\u001b[39m\u001b[38;5;124m'\u001b[39m)\n\u001b[0;32m   3001\u001b[0m \u001b[38;5;28;01mdef\u001b[39;00m \u001b[38;5;21m__rsub__\u001b[39m(\u001b[38;5;28mself\u001b[39m, a):\n\u001b[1;32m-> 3002\u001b[0m     \u001b[38;5;28;01mreturn\u001b[39;00m \u001b[43m(\u001b[49m\u001b[38;5;241;43m-\u001b[39;49m\u001b[38;5;28;43mself\u001b[39;49m\u001b[43m)\u001b[49m\u001b[43m \u001b[49m\u001b[38;5;241;43m+\u001b[39;49m\u001b[43m \u001b[49m\u001b[43ma\u001b[49m\n",
      "File \u001b[1;32m~\\anaconda3\\lib\\site-packages\\sympy\\core\\decorators.py:106\u001b[0m, in \u001b[0;36mcall_highest_priority.<locals>.priority_decorator.<locals>.binary_op_wrapper\u001b[1;34m(self, other)\u001b[0m\n\u001b[0;32m    104\u001b[0m         \u001b[38;5;28;01mif\u001b[39;00m f \u001b[38;5;129;01mis\u001b[39;00m \u001b[38;5;129;01mnot\u001b[39;00m \u001b[38;5;28;01mNone\u001b[39;00m:\n\u001b[0;32m    105\u001b[0m             \u001b[38;5;28;01mreturn\u001b[39;00m f(\u001b[38;5;28mself\u001b[39m)\n\u001b[1;32m--> 106\u001b[0m \u001b[38;5;28;01mreturn\u001b[39;00m \u001b[43mfunc\u001b[49m\u001b[43m(\u001b[49m\u001b[38;5;28;43mself\u001b[39;49m\u001b[43m,\u001b[49m\u001b[43m \u001b[49m\u001b[43mother\u001b[49m\u001b[43m)\u001b[49m\n",
      "File \u001b[1;32m~\\anaconda3\\lib\\site-packages\\sympy\\matrices\\common.py:2725\u001b[0m, in \u001b[0;36mMatrixArithmetic.__add__\u001b[1;34m(self, other)\u001b[0m\n\u001b[0;32m   2722\u001b[0m \u001b[38;5;28;01mif\u001b[39;00m \u001b[38;5;28mgetattr\u001b[39m(other, \u001b[38;5;124m'\u001b[39m\u001b[38;5;124mis_MatrixLike\u001b[39m\u001b[38;5;124m'\u001b[39m, \u001b[38;5;28;01mFalse\u001b[39;00m):\n\u001b[0;32m   2723\u001b[0m     \u001b[38;5;28;01mreturn\u001b[39;00m MatrixArithmetic\u001b[38;5;241m.\u001b[39m_eval_add(\u001b[38;5;28mself\u001b[39m, other)\n\u001b[1;32m-> 2725\u001b[0m \u001b[38;5;28;01mraise\u001b[39;00m \u001b[38;5;167;01mTypeError\u001b[39;00m(\u001b[38;5;124m'\u001b[39m\u001b[38;5;124mcannot add \u001b[39m\u001b[38;5;132;01m%s\u001b[39;00m\u001b[38;5;124m and \u001b[39m\u001b[38;5;132;01m%s\u001b[39;00m\u001b[38;5;124m'\u001b[39m \u001b[38;5;241m%\u001b[39m (\u001b[38;5;28mtype\u001b[39m(\u001b[38;5;28mself\u001b[39m), \u001b[38;5;28mtype\u001b[39m(other)))\n",
      "\u001b[1;31mTypeError\u001b[0m: cannot add <class 'sympy.matrices.dense.MutableDenseMatrix'> and <class 'sympy.core.add.Add'>"
     ]
    }
   ],
   "source": [
    "k = 1\n",
    "Sum1 = 0\n",
    "Sum3 = c1/(g*g)\n",
    "for l in np.arange(1,5):\n",
    "    if k != l:\n",
    "        if l == 4:\n",
    "            Sum1 += (Z[str(k)+str(l)] * Z[str(k)+str(l)].adjoint())[0] - Z[str(l)+str(k)].adjoint()*Z[str(l)+str(k)]\n",
    "\n",
    "        else:\n",
    "            Sum1 += Z[str(k)+str(l)] * Z[str(k)+str(l)].adjoint() - Z[str(l)+str(k)].adjoint()*Z[str(l)+str(k)]\n",
    "            \n",
    "for A in np.arange(1,4):\n",
    "    Sum2 += phi[str(k)+str(A)]*phi[str(k)+str(A)].adjoint() - phi[str(k)+str(A)].adjoint()*phi[str(k)+str(A)]\n",
    "V_D_arg_k1 = Sum1 + Sum2 - Sum3\n",
    "\n",
    "k = 2\n",
    "Sum1 = 0\n",
    "Sum3 = c2/(g*g)\n",
    "for l in np.arange(1,5):\n",
    "    if k != l:\n",
    "        if l == 4:\n",
    "            Sum1 += (Z[str(k)+str(l)] * Z[str(k)+str(l)].adjoint())[0] - Z[str(l)+str(k)].adjoint()*Z[str(l)+str(k)]\n",
    "\n",
    "        else:\n",
    "            Sum1 += Z[str(k)+str(l)] * Z[str(k)+str(l)].adjoint() - Z[str(l)+str(k)].adjoint()*Z[str(l)+str(k)]\n",
    "for A in np.arange(1,4):\n",
    "    Sum2 += phi[str(k)+str(A)]*phi[str(k)+str(A)].adjoint() - phi[str(k)+str(A)].adjoint()*phi[str(k)+str(A)]\n",
    "        \n",
    "V_D_arg_k2 = Sum1 + Sum2 - Sum3\n",
    "\n",
    "k = 3\n",
    "Sum1 = 0\n",
    "Sum3 = c3/(g*g)\n",
    "for l in np.arange(1,5):\n",
    "    if k != l:\n",
    "        if l == 4:\n",
    "            Sum1 += (Z[str(k)+str(l)] * Z[str(k)+str(l)].adjoint())[0] - Z[str(l)+str(k)].adjoint()*Z[str(l)+str(k)]\n",
    "\n",
    "        else:\n",
    "            Sum1 += Z[str(k)+str(l)] * Z[str(k)+str(l)].adjoint() - Z[str(l)+str(k)].adjoint()*Z[str(l)+str(k)]\n",
    "for A in np.arange(1,4):\n",
    "    Sum2 += phi[str(k)+str(A)]*phi[str(k)+str(A)].adjoint() - phi[str(k)+str(A)].adjoint()*phi[str(k)+str(A)]\n",
    "\n",
    "V_D_arg_k3 = Sum1 + Sum2 - Sum3\n",
    "\n",
    "k = 4\n",
    "Sum1 = 0\n",
    "Sum3 = c4/(g*g)*eye(N)\n",
    "for l in np.arange(1,5):\n",
    "    if k != l:\n",
    "        if l == 4:\n",
    "            Sum1 += (Z[str(k)+str(l)] * Z[str(k)+str(l)].adjoint())[0] - Z[str(l)+str(k)].adjoint()*Z[str(l)+str(k)]\n",
    "\n",
    "        else:\n",
    "            Sum1 += Z[str(k)+str(l)] * Z[str(k)+str(l)].adjoint() - Z[str(l)+str(k)].adjoint()*Z[str(l)+str(k)]\n",
    "for A in np.arange(1,4):\n",
    "    Sum2 += phi[str(k)+str(A)]*phi[str(k)+str(A)].adjoint() - phi[str(k)+str(A)].adjoint()*phi[str(k)+str(A)]\n",
    "\n",
    "V_D_arg_k4 = Sum1 + Sum2 - Sum3\n",
    "\n",
    "V_D = 1/2 * ((V_D_arg_k1 * V_D_arg_k1).expand() + (V_D_arg_k2 * V_D_arg_k2).expand() + \n",
    "             (V_D_arg_k3 * V_D_arg_k3).expand() + Trace(V_D_arg_k4 * V_D_arg_k4).expand() )"
   ]
  },
  {
   "cell_type": "markdown",
   "id": "a18cfa15",
   "metadata": {},
   "source": [
    "## V_gauge"
   ]
  },
  {
   "cell_type": "code",
   "execution_count": null,
   "id": "e599583e",
   "metadata": {},
   "outputs": [],
   "source": []
  },
  {
   "cell_type": "markdown",
   "id": "667d9bcc",
   "metadata": {},
   "source": [
    "## Creating $V_F$"
   ]
  },
  {
   "cell_type": "code",
   "execution_count": 19,
   "id": "51aac96d",
   "metadata": {},
   "outputs": [
    {
     "name": "stdout",
     "output_type": "stream",
     "text": [
      "0.7886989116668701\n"
     ]
    }
   ],
   "source": [
    "start = time.time()\n",
    "Fsum1 = sp.Symbol(\"\",real = True)\n",
    "Fsum2 = sp.Symbol(\"\",real = True)\n",
    "Fsum3 = sp.Symbol(\"\",real = True)\n",
    "Gsum1 = sp.Symbol(\"\",real = True)\n",
    "Gsum2 = sp.Symbol(\"\",real = True)\n",
    "Gsum3 = sp.Symbol(\"\",real = True)\n",
    "\n",
    "#Term 1\n",
    "for i in np.arange(1,4):\n",
    "    for j in np.arange(1,4):\n",
    "        if i == j:\n",
    "            continue\n",
    "        else:\n",
    "            Fsum1+= sp.re(F[str(i)+str(j)])**2 + sp.im(F[str(i)+str(j)])**2\n",
    "#Term 2\n",
    "for i in np.arange(1,4):\n",
    "    Fsum2 += sp.re(F[str(i)+\"4\"])**2 + sp.im(F[str(i)+\"4\"])**2\n",
    "    \n",
    "#Term 3\n",
    "for i in np.arange(1,4):\n",
    "    for j in np.arange(N):\n",
    "        for k in np.arange(N):\n",
    "            Fsum3 += sp.re(F[\"4\"+str(i)][j,k])**2 + sp.im(F[\"4\"+str(i)][j,k])**2\n",
    "            \n",
    "#Term 4\n",
    "for i in np.arange(6):\n",
    "    Gsum1 += (sp.re(scalar_G[i]))**2 + (sp.im(scalar_G[i]))**2\n",
    "    \n",
    "#Term 5\n",
    "for i in np.arange(1,4):\n",
    "    for j in np.arange(N):\n",
    "        Gsum2 += (sp.re(G[str(i)+\"4\"][j]))**2 + (sp.im(G[str(i)+\"4\"][j]))**2\n",
    "\n",
    "#Term 6\n",
    "for i in np.arange(1,4):\n",
    "    for j in np.arange(N):\n",
    "        Gsum3 += (sp.re(G[str(i)+\"4\"][j]))**2 + (sp.im(G[str(i)+\"4\"][j]))**2\n",
    "        \n",
    "V_F = Fsum1 + Fsum2 + Fsum3 + Gsum1 + Gsum2 + Gsum3\n",
    "\n",
    "print(time.time() - start)"
   ]
  },
  {
   "cell_type": "code",
   "execution_count": 22,
   "id": "8f1ef8c3",
   "metadata": {
    "scrolled": false
   },
   "outputs": [
    {
     "name": "stdout",
     "output_type": "stream",
     "text": [
      "Matrix([[4*P21*(P14(0)*Q21 + P21*Q14(0) + P23*Q34(0) + P34(0)*Q23 + sqrt(2)*(-P24(0)*X47_00 - Q24(0)*X46_00)/2 + sqrt(2)*(P24(1)*X46_01 - P24(1)*X47_01 - Q24(1)*X46_01 - Q24(1)*X47_01)/2) + 4*P31*(P14(0)*Q31 + P24(0)*Q32 + P31*Q14(0) + P32*Q24(0) + sqrt(2)*(-P34(0)*X49_00 - Q34(0)*X48_00)/2 + sqrt(2)*(P34(1)*X48_01 - P34(1)*X49_01 - Q34(1)*X48_01 - Q34(1)*X49_01)/2) + 2*P41(0)*(P14(0)*Q41(0) + P41(0)*Q14(0) + im(c41)/g**2) + 2*P41(0)*(P14(0)*Q41(0) + P14(1)*Q41(1) + P41(0)*Q14(0) + P41(1)*Q14(1) + 2*im(c14)/g**2) + 2*P41(1)*(P14(0)*Q41(1) + P41(1)*Q14(0) + X46_00*X48_01/2 - X46_00*X49_01/2 - X46_01*X48_00/2 + X46_01*X48_11/2 + X46_01*X49_00/2 - X46_01*X49_11/2 - X46_11*X48_01/2 + X46_11*X49_01/2 - X47_00*X48_01/2 - X47_00*X49_01/2 + X47_01*X48_00/2 - X47_01*X48_11/2 + X47_01*X49_00/2 - X47_01*X49_11/2 + X47_11*X48_01/2 + X47_11*X49_01/2) + 2*P42(0)*(sqrt(2)*P12*X19/2 - sqrt(2)*P12*X29/2 + P13*Q32 + P14(0)*Q42(0) + P14(1)*Q42(1) + P32*Q13 + P42(0)*Q14(0) + P42(1)*Q14(1) + sqrt(2)*Q12*X18/2 - sqrt(2)*Q12*X28/2) + 2*P43(0)*(P12*Q23 - sqrt(2)*P13*X17/2 + sqrt(2)*P13*X37/2 + P14(0)*Q43(0) + P14(1)*Q43(1) + P23*Q12 + P43(0)*Q14(0) + P43(1)*Q14(1) - sqrt(2)*Q13*X16/2 + sqrt(2)*Q13*X36/2) - 4*Q21*(P14(0)*P21 + P23*P34(0) - Q14(0)*Q21 - Q23*Q34(0) + sqrt(2)*(-P24(0)*X46_00 + Q24(0)*X47_00)/2 + sqrt(2)*(-P24(1)*X46_01 - P24(1)*X47_01 - Q24(1)*X46_01 + Q24(1)*X47_01)/2) - 4*Q31*(P14(0)*P31 + P24(0)*P32 - Q14(0)*Q31 - Q24(0)*Q32 + sqrt(2)*(-P34(0)*X48_00 + Q34(0)*X49_00)/2 + sqrt(2)*(-P34(1)*X48_01 - P34(1)*X49_01 - Q34(1)*X48_01 + Q34(1)*X49_01)/2) - 2*Q41(0)*(P14(0)*P41(0) - Q14(0)*Q41(0) + re(c41)/g**2) - 2*Q41(0)*(P14(0)*P41(0) + P14(1)*P41(1) - Q14(0)*Q41(0) - Q14(1)*Q41(1) + 2*re(c14)/g**2) - 2*Q41(1)*(P14(0)*P41(1) - Q14(0)*Q41(1) - X46_00*X48_01/2 - X46_00*X49_01/2 + X46_01*X48_00/2 - X46_01*X48_11/2 + X46_01*X49_00/2 - X46_01*X49_11/2 + X46_11*X48_01/2 + X46_11*X49_01/2 - X47_00*X48_01/2 + X47_00*X49_01/2 + X47_01*X48_00/2 - X47_01*X48_11/2 - X47_01*X49_00/2 + X47_01*X49_11/2 + X47_11*X48_01/2 - X47_11*X49_01/2) - 2*Q42(0)*(sqrt(2)*P12*X18/2 - sqrt(2)*P12*X28/2 + P13*P32 + P14(0)*P42(0) + P14(1)*P42(1) - sqrt(2)*Q12*X19/2 + sqrt(2)*Q12*X29/2 - Q13*Q32 - Q14(0)*Q42(0) - Q14(1)*Q42(1)) - 2*Q43(0)*(P12*P23 - sqrt(2)*P13*X16/2 + sqrt(2)*P13*X36/2 + P14(0)*P43(0) + P14(1)*P43(1) - Q12*Q23 + sqrt(2)*Q13*X17/2 - sqrt(2)*Q13*X37/2 - Q14(0)*Q43(0) - Q14(1)*Q43(1)) - 2*sqrt(2)*X44_00*(P12*Q24(0) - P13*Q34(0) + P24(0)*Q12 - P34(0)*Q13 + sqrt(2)*(-P14(0)*X45_00 - Q14(0)*X44_00)/2 + sqrt(2)*(P14(1)*X44_01 - P14(1)*X45_01 - Q14(1)*X44_01 - Q14(1)*X45_01)/2) + 2*sqrt(2)*X45_00*(P12*P24(0) - P13*P34(0) - Q12*Q24(0) + Q13*Q34(0) + sqrt(2)*(-P14(0)*X44_00 + Q14(0)*X45_00)/2 + sqrt(2)*(-P14(1)*X44_01 - P14(1)*X45_01 - Q14(1)*X44_01 + Q14(1)*X45_01)/2) + 2*sqrt(2)*(-X44_01 + X45_01)*(P12*Q24(1) - P13*Q34(1) + P24(1)*Q12 - P34(1)*Q13 + sqrt(2)*(-P14(1)*X45_11 - Q14(1)*X44_11)/2 + sqrt(2)*(-P14(0)*X44_01 - P14(0)*X45_01 - Q14(0)*X44_01 + Q14(0)*X45_01)/2) + 2*sqrt(2)*(X44_01 + X45_01)*(P12*P24(1) - P13*P34(1) - Q12*Q24(1) + Q13*Q34(1) + sqrt(2)*(-P14(1)*X44_11 + Q14(1)*X45_11)/2 + sqrt(2)*(-P14(0)*X44_01 + P14(0)*X45_01 + Q14(0)*X44_01 + Q14(0)*X45_01)/2), 4*P21*(P14(1)*Q21 + P21*Q14(1) + P23*Q34(1) + P34(1)*Q23 + sqrt(2)*(-P24(1)*X47_11 - Q24(1)*X46_11)/2 + sqrt(2)*(-P24(0)*X46_01 - P24(0)*X47_01 - Q24(0)*X46_01 + Q24(0)*X47_01)/2) + 4*P31*(P14(1)*Q31 + P24(1)*Q32 + P31*Q14(1) + P32*Q24(1) + sqrt(2)*(-P34(1)*X49_11 - Q34(1)*X48_11)/2 + sqrt(2)*(-P34(0)*X48_01 - P34(0)*X49_01 - Q34(0)*X48_01 + Q34(0)*X49_01)/2) + 2*P41(0)*(P14(1)*Q41(0) + P41(0)*Q14(1) + X46_00*X48_01/2 + X46_00*X49_01/2 - X46_01*X48_00/2 + X46_01*X48_11/2 - X46_01*X49_00/2 + X46_01*X49_11/2 - X46_11*X48_01/2 - X46_11*X49_01/2 + X47_00*X48_01/2 - X47_00*X49_01/2 - X47_01*X48_00/2 + X47_01*X48_11/2 + X47_01*X49_00/2 - X47_01*X49_11/2 - X47_11*X48_01/2 + X47_11*X49_01/2) + 2*P41(1)*(P14(1)*Q41(1) + P41(1)*Q14(1) + im(c41)/g**2) + 2*P41(1)*(P14(0)*Q41(0) + P14(1)*Q41(1) + P41(0)*Q14(0) + P41(1)*Q14(1) + 2*im(c14)/g**2) + 2*P42(1)*(sqrt(2)*P12*X19/2 - sqrt(2)*P12*X29/2 + P13*Q32 + P14(0)*Q42(0) + P14(1)*Q42(1) + P32*Q13 + P42(0)*Q14(0) + P42(1)*Q14(1) + sqrt(2)*Q12*X18/2 - sqrt(2)*Q12*X28/2) + 2*P43(1)*(P12*Q23 - sqrt(2)*P13*X17/2 + sqrt(2)*P13*X37/2 + P14(0)*Q43(0) + P14(1)*Q43(1) + P23*Q12 + P43(0)*Q14(0) + P43(1)*Q14(1) - sqrt(2)*Q13*X16/2 + sqrt(2)*Q13*X36/2) - 4*Q21*(P14(1)*P21 + P23*P34(1) - Q14(1)*Q21 - Q23*Q34(1) + sqrt(2)*(-P24(1)*X46_11 + Q24(1)*X47_11)/2 + sqrt(2)*(-P24(0)*X46_01 + P24(0)*X47_01 + Q24(0)*X46_01 + Q24(0)*X47_01)/2) - 4*Q31*(P14(1)*P31 + P24(1)*P32 - Q14(1)*Q31 - Q24(1)*Q32 + sqrt(2)*(-P34(1)*X48_11 + Q34(1)*X49_11)/2 + sqrt(2)*(-P34(0)*X48_01 + P34(0)*X49_01 + Q34(0)*X48_01 + Q34(0)*X49_01)/2) - 2*Q41(0)*(P14(1)*P41(0) - Q14(1)*Q41(0) + X46_00*X48_01/2 - X46_00*X49_01/2 - X46_01*X48_00/2 + X46_01*X48_11/2 + X46_01*X49_00/2 - X46_01*X49_11/2 - X46_11*X48_01/2 + X46_11*X49_01/2 - X47_00*X48_01/2 - X47_00*X49_01/2 + X47_01*X48_00/2 - X47_01*X48_11/2 + X47_01*X49_00/2 - X47_01*X49_11/2 + X47_11*X48_01/2 + X47_11*X49_01/2) - 2*Q41(1)*(P14(1)*P41(1) - Q14(1)*Q41(1) + re(c41)/g**2) - 2*Q41(1)*(P14(0)*P41(0) + P14(1)*P41(1) - Q14(0)*Q41(0) - Q14(1)*Q41(1) + 2*re(c14)/g**2) - 2*Q42(1)*(sqrt(2)*P12*X18/2 - sqrt(2)*P12*X28/2 + P13*P32 + P14(0)*P42(0) + P14(1)*P42(1) - sqrt(2)*Q12*X19/2 + sqrt(2)*Q12*X29/2 - Q13*Q32 - Q14(0)*Q42(0) - Q14(1)*Q42(1)) - 2*Q43(1)*(P12*P23 - sqrt(2)*P13*X16/2 + sqrt(2)*P13*X36/2 + P14(0)*P43(0) + P14(1)*P43(1) - Q12*Q23 + sqrt(2)*Q13*X17/2 - sqrt(2)*Q13*X37/2 - Q14(0)*Q43(0) - Q14(1)*Q43(1)) - 2*sqrt(2)*X44_11*(P12*Q24(1) - P13*Q34(1) + P24(1)*Q12 - P34(1)*Q13 + sqrt(2)*(-P14(1)*X45_11 - Q14(1)*X44_11)/2 + sqrt(2)*(-P14(0)*X44_01 - P14(0)*X45_01 - Q14(0)*X44_01 + Q14(0)*X45_01)/2) + 2*sqrt(2)*X45_11*(P12*P24(1) - P13*P34(1) - Q12*Q24(1) + Q13*Q34(1) + sqrt(2)*(-P14(1)*X44_11 + Q14(1)*X45_11)/2 + sqrt(2)*(-P14(0)*X44_01 + P14(0)*X45_01 + Q14(0)*X44_01 + Q14(0)*X45_01)/2) + 2*sqrt(2)*(-X44_01 - X45_01)*(P12*Q24(0) - P13*Q34(0) + P24(0)*Q12 - P34(0)*Q13 + sqrt(2)*(-P14(0)*X45_00 - Q14(0)*X44_00)/2 + sqrt(2)*(P14(1)*X44_01 - P14(1)*X45_01 - Q14(1)*X44_01 - Q14(1)*X45_01)/2) + 2*sqrt(2)*(-X44_01 + X45_01)*(P12*P24(0) - P13*P34(0) - Q12*Q24(0) + Q13*Q34(0) + sqrt(2)*(-P14(0)*X44_00 + Q14(0)*X45_00)/2 + sqrt(2)*(-P14(1)*X44_01 - P14(1)*X45_01 - Q14(1)*X44_01 + Q14(1)*X45_01)/2)]])\n"
     ]
    }
   ],
   "source": [
    "print(V_F.diff(sp.im(Z[\"14\"])))"
   ]
  },
  {
   "cell_type": "code",
   "execution_count": null,
   "id": "ecb597dd",
   "metadata": {},
   "outputs": [],
   "source": []
  },
  {
   "cell_type": "code",
   "execution_count": null,
   "id": "2fa30840",
   "metadata": {},
   "outputs": [],
   "source": []
  }
 ],
 "metadata": {
  "kernelspec": {
   "display_name": "Python 3 (ipykernel)",
   "language": "python",
   "name": "python3"
  },
  "language_info": {
   "codemirror_mode": {
    "name": "ipython",
    "version": 3
   },
   "file_extension": ".py",
   "mimetype": "text/x-python",
   "name": "python",
   "nbconvert_exporter": "python",
   "pygments_lexer": "ipython3",
   "version": "3.8.17"
  }
 },
 "nbformat": 4,
 "nbformat_minor": 5
}
