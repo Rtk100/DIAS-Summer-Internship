{
 "cells": [
  {
   "cell_type": "code",
   "execution_count": 1,
   "id": "5bb6502a",
   "metadata": {},
   "outputs": [],
   "source": [
    "import sympy as sp\n",
    "import numpy as np\n",
    "import time \n",
    "from sympy import *\n",
    "N = 2"
   ]
  },
  {
   "cell_type": "code",
   "execution_count": 2,
   "id": "88e138ee",
   "metadata": {},
   "outputs": [
    {
     "ename": "NameError",
     "evalue": "name 'X' is not defined",
     "output_type": "error",
     "traceback": [
      "\u001b[1;31m---------------------------------------------------------------------------\u001b[0m",
      "\u001b[1;31mNameError\u001b[0m                                 Traceback (most recent call last)",
      "Cell \u001b[1;32mIn[2], line 13\u001b[0m\n\u001b[0;32m     10\u001b[0m custom_printer \u001b[38;5;241m=\u001b[39m CustomPrinter()\n\u001b[0;32m     12\u001b[0m \u001b[38;5;66;03m# Print expressions using the custom printer\u001b[39;00m\n\u001b[1;32m---> 13\u001b[0m \u001b[38;5;28mprint\u001b[39m(custom_printer\u001b[38;5;241m.\u001b[39mdoprint(\u001b[43mX\u001b[49m[\u001b[38;5;124m\"\u001b[39m\u001b[38;5;124m43\u001b[39m\u001b[38;5;124m\"\u001b[39m]\u001b[38;5;241m*\u001b[39mX[\u001b[38;5;124m\"\u001b[39m\u001b[38;5;124m44\u001b[39m\u001b[38;5;124m\"\u001b[39m]\u001b[38;5;241m+\u001b[39mIdentity(N)))\n",
      "\u001b[1;31mNameError\u001b[0m: name 'X' is not defined"
     ]
    }
   ],
   "source": [
    "from sympy.printing import StrPrinter\n",
    "\n",
    "class CustomPrinter(StrPrinter):\n",
    "    \n",
    "    def _print_Identity(self, expr):\n",
    "        return \"Id\"\n",
    "    \n",
    "\n",
    "# Create an instance of your custom printer\n",
    "custom_printer = CustomPrinter()\n",
    "\n",
    "# Print expressions using the custom printer\n",
    "print(custom_printer.doprint(X[\"43\"]*X[\"44\"]+Identity(N)))\n"
   ]
  },
  {
   "cell_type": "markdown",
   "id": "b6b0cb0b",
   "metadata": {},
   "source": [
    "## Creating constants"
   ]
  },
  {
   "cell_type": "code",
   "execution_count": null,
   "id": "c3a6f616",
   "metadata": {},
   "outputs": [],
   "source": []
  },
  {
   "cell_type": "code",
   "execution_count": 3,
   "id": "a00f5991",
   "metadata": {},
   "outputs": [],
   "source": [
    "#Correct\n",
    "g = symbols(\"g\", real = True)\n",
    "c1, c2, c3, c4 =symbols(\"c1 c2 c3 c4\", real = True)\n",
    "c12, c13, c14 = symbols(\"c12 c13 c14\", real = True)\n",
    "c23, c24, c34 = symbols(\"c23 c24 c34\", real = True)"
   ]
  },
  {
   "cell_type": "markdown",
   "id": "6b56a04e",
   "metadata": {},
   "source": [
    "## Creating X coordinates (using sp.Matrix for the 4th stack)"
   ]
  },
  {
   "cell_type": "code",
   "execution_count": 4,
   "id": "f982a33e",
   "metadata": {},
   "outputs": [],
   "source": [
    "#Correct\n",
    "# Creating a dictionary to store the X coordinates\n",
    "X = {}\n",
    "for i in np.arange(1,4):\n",
    "    for j in np.arange(1,10):\n",
    "        X[str(i)+str(j)] = sp.Symbol(\"X\"+str(i)+str(j), real = True)\n",
    "            \n",
    "for i in np.arange(1,10):\n",
    "    #initialise a matrix of correct shape\n",
    "    X_init = []\n",
    "    for j in np.arange(1,N+1):\n",
    "        row = []\n",
    "        for k in np.arange(1,N+1):\n",
    "            row.append(sp.Symbol(\"4\"+str(i)+\"_{\"+str(j)+str(k)+\"}\"))\n",
    "        X_init.append(row)\n",
    "    X[\"4\"+str(i)] = sp.Matrix(X_init)\n",
    "    \n",
    "    for j in np.arange(N):\n",
    "        for k in np.arange(N):\n",
    "            if j == k:\n",
    "                X[\"4\"+str(i)][j,k] = sp.Symbol(\"X4\"+str(i)+\"_\"+str(j)+str(k), real = True)\n",
    "            elif j > k:\n",
    "                continue\n",
    "            else:\n",
    "                x_ij = sp.Symbol(\"ReX4\"+str(i)+\"_\"+str(j)+str(k), real = True)\n",
    "                y_ij = sp.Symbol(\"ImX4\"+str(i)+\"_\"+str(j)+str(k), real = True)\n",
    "                X[\"4\"+str(i)][j,k] = x_ij + sp.I*y_ij\n",
    "                X[\"4\"+str(i)][k,j] = x_ij - sp.I*y_ij"
   ]
  },
  {
   "cell_type": "markdown",
   "id": "61c09e07",
   "metadata": {},
   "source": [
    "## Creating X_dot coordinates (using sp.Matrix for the 4th stack)"
   ]
  },
  {
   "cell_type": "code",
   "execution_count": 6,
   "id": "f5c3ebc1",
   "metadata": {},
   "outputs": [],
   "source": [
    "#Correct\n",
    "# Creating a dictionary to store the X coordinates\n",
    "X_dot = {}\n",
    "for i in np.arange(1,4):\n",
    "    for j in np.arange(1,10):\n",
    "        X_dot[str(i)+str(j)] = sp.Symbol(\"X_dot\"+str(i)+str(j), real = True)\n",
    "            \n",
    "for i in np.arange(1,10):\n",
    "    #initialise a matrix of correct shape\n",
    "    X_init = []\n",
    "    for j in np.arange(1,N+1):\n",
    "        row = []\n",
    "        for k in np.arange(1,N+1):\n",
    "            row.append(sp.Symbol(\"4\"+str(i)+\"_{\"+str(j)+str(k)+\"}\"))\n",
    "        X_init.append(row)\n",
    "    X_dot[\"4\"+str(i)] = sp.Matrix(X_init)\n",
    "    \n",
    "    for j in np.arange(N):\n",
    "        for k in np.arange(N):\n",
    "            if j == k:\n",
    "                X_dot[\"4\"+str(i)][j,k] = sp.Symbol(\"X_dot4\"+str(i)+\"_\"+str(j)+str(k), real = True)\n",
    "            elif j > k:\n",
    "                continue\n",
    "            else:\n",
    "                x_ij = sp.Symbol(\"ReX_dot4\"+str(i)+\"_\"+str(j)+str(k), real = True)\n",
    "                y_ij = sp.Symbol(\"ImX_dot4\"+str(i)+\"_\"+str(j)+str(k), real = True)\n",
    "                X_dot[\"4\"+str(i)][j,k] = x_ij + sp.I*y_ij\n",
    "                X_dot[\"4\"+str(i)][k,j] = x_ij - sp.I*y_ij"
   ]
  },
  {
   "cell_type": "markdown",
   "id": "607747e6",
   "metadata": {},
   "source": [
    "## Creating the $\\phi$'s and $\\phi^{\\dagger}$'s and $\\phi^{(ij)}$"
   ]
  },
  {
   "cell_type": "code",
   "execution_count": 8,
   "id": "c1702ab2",
   "metadata": {},
   "outputs": [],
   "source": [
    "#Correct\n",
    "phi = {}\n",
    "phi_ = {}\n",
    "phi_dag = {}\n",
    "phi__dag = {}\n",
    "for i in np.arange(1,5):\n",
    "    phi[str(i)+\"1\"] = 1/sp.sqrt(2) * (X[str(i)+\"4\"] + sp.I * X[str(i)+\"5\"])\n",
    "    phi[str(i)+\"2\"] = 1/sp.sqrt(2) * (X[str(i)+\"6\"] + sp.I * X[str(i)+\"7\"])\n",
    "    phi[str(i)+\"3\"] = 1/sp.sqrt(2) * (X[str(i)+\"8\"] + sp.I * X[str(i)+\"9\"])\n",
    "    \n",
    "    phi_dag[str(i)+\"1\"] = 1/sp.sqrt(2) * (X[str(i)+\"4\"] - sp.I * X[str(i)+\"5\"])\n",
    "    phi_dag[str(i)+\"2\"] = 1/sp.sqrt(2) * (X[str(i)+\"6\"] - sp.I * X[str(i)+\"7\"])\n",
    "    phi_dag[str(i)+\"3\"] = 1/sp.sqrt(2) * (X[str(i)+\"8\"] - sp.I * X[str(i)+\"9\"])\n",
    "    \n",
    "phi_[\"12\"] = phi[\"13\"] - phi[\"23\"]\n",
    "phi_[\"23\"] = phi[\"21\"] - phi[\"31\"]\n",
    "phi_[\"31\"] = phi[\"32\"] - phi[\"12\"]\n",
    "\n",
    "phi__dag[\"12\"] = phi_dag[\"13\"] - phi_dag[\"23\"]\n",
    "phi__dag[\"23\"] = phi_dag[\"21\"] - phi_dag[\"31\"]\n",
    "phi__dag[\"31\"] = phi_dag[\"32\"] - phi_dag[\"12\"]\n"
   ]
  },
  {
   "cell_type": "markdown",
   "id": "ad124cfc",
   "metadata": {},
   "source": [
    "## Creating Z coordinates"
   ]
  },
  {
   "cell_type": "code",
   "execution_count": 201,
   "id": "992433af",
   "metadata": {},
   "outputs": [],
   "source": [
    "#correct\n",
    "# Building the Z-dictionary\n",
    "Z = {}\n",
    "for i in np.arange(1,4):\n",
    "    #Scalars here\n",
    "    for j in np.arange(1,4):\n",
    "        if i == j: \n",
    "            continue\n",
    "        else:\n",
    "            P = sp.Symbol(\"P\"+str(i) + str(j), real = True)\n",
    "            Q = sp.Symbol(\"Q\"+str(i) + str(j), real = True)\n",
    "            Z[str(i) + str(j)] = (P + sp.I * Q)\n",
    "    \n",
    "    #Vectors here\n",
    "    store_current_4i = []\n",
    "    store_current_i4 = []\n",
    "    for j in np.arange(N):\n",
    "        P4i = sp.Symbol(\"P\"+str(4)+str(i)+\"_\"+str(j), real = True)\n",
    "        Q4i = sp.Symbol(\"Q\"+str(4)+str(i)+\"_\"+str(j), real = True)\n",
    "        Pi4 = sp.Symbol(\"P\"+str(i)+str(4)+\"_\"+str(j), real = True)\n",
    "        Qi4 = sp.Symbol(\"Q\"+str(i)+str(4)+\"_\"+str(j), real = True)\n",
    "        store_current_4i.append([P4i + sp.I * Q4i])\n",
    "        store_current_i4.append([Pi4 + sp.I * Qi4])\n",
    "    Z[\"4\"+str(i)] = sp.Matrix(store_current_4i)\n",
    "    Z[str(i) + \"4\"] = sp.Matrix(store_current_i4).transpose()"
   ]
  },
  {
   "cell_type": "markdown",
   "id": "df6b43df",
   "metadata": {},
   "source": [
    "## Z_dot"
   ]
  },
  {
   "cell_type": "code",
   "execution_count": 202,
   "id": "02d248cf",
   "metadata": {},
   "outputs": [],
   "source": [
    "# Building the Z-dictionary\n",
    "Z_dot = {}\n",
    "for i in np.arange(1,4):\n",
    "    #Scalars here\n",
    "    for j in np.arange(1,4):\n",
    "        if i == j: \n",
    "            continue\n",
    "        else:\n",
    "            P_dot = sp.Symbol(\"P\"+str(i) + str(j), real = True)\n",
    "            Q_dot = sp.Symbol(\"Q\"+str(i) + str(j), real = True)\n",
    "            Z_dot[str(i) + str(j)] = (P_dot + sp.I * Q_dot)\n",
    "    \n",
    "    #Vectors here\n",
    "    store_current_4i = []\n",
    "    store_current_i4 = []\n",
    "    for j in np.arange(N):\n",
    "        P4i_dot = sp.Symbol(\"P_dot\"+str(4)+str(i)+\"_\"+str(j), real = True)\n",
    "        Q4i_dot = sp.Symbol(\"Q_dot\"+str(4)+str(i)+\"_\"+str(j), real = True)\n",
    "        Pi4_dot = sp.Symbol(\"P_dot\"+str(i)+str(4)+\"_\"+str(j), real = True)\n",
    "        Qi4_dot = sp.Symbol(\"Q_dot\"+str(i)+str(4)+\"_\"+str(j), real = True)\n",
    "        store_current_4i.append([P4i_dot + sp.I * Q4i_dot])\n",
    "        store_current_i4.append([Pi4_dot + sp.I * Qi4_dot])\n",
    "    Z_dot[\"4\"+str(i)] = sp.Matrix(store_current_4i)\n",
    "    Z_dot[str(i) + \"4\"] = sp.Matrix(store_current_i4).transpose()"
   ]
  },
  {
   "cell_type": "markdown",
   "id": "34c0b5dd",
   "metadata": {},
   "source": [
    "## Creating the F variables"
   ]
  },
  {
   "cell_type": "code",
   "execution_count": 203,
   "id": "14e998de",
   "metadata": {},
   "outputs": [],
   "source": [
    "F = {}\n",
    "\n",
    "#Scalars\n",
    "for i in np.arange(1,4):\n",
    "    for j in np.arange(1,5):\n",
    "        if i == j:\n",
    "            continue\n",
    "        if j == 4:\n",
    "            F[str(i)+str(j)] = (Z[str(i)+str(j)] * Z[str(j)+str(i)])[0]+ N*sp.Symbol(\"c\"+str(i)+str(j), real = True)/g**2\n",
    "        else:\n",
    "            F[str(i)+str(j)] = Z[str(i)+str(j)] * Z[str(j)+str(i)] + sp.Symbol(\"c\"+str(i)+str(j), real = True)/g**2 \n",
    "\n",
    "F[\"41\"] = Z[\"41\"]*Z[\"14\"] + c14/g**2*sp.eye(N) +  phi[\"42\"]*phi[\"43\"] - phi[\"43\"]*phi[\"42\"]\n",
    "F[\"42\"] = Z[\"42\"]*Z[\"24\"] + c24/g**2*sp.eye(N) +  phi[\"43\"]*phi[\"41\"] - phi[\"41\"]*phi[\"43\"]\n",
    "F[\"43\"] = Z[\"43\"]*Z[\"34\"] + c34/g**2*sp.eye(N) -  phi[\"42\"]*phi[\"41\"] + phi[\"41\"]*phi[\"42\"]"
   ]
  },
  {
   "cell_type": "markdown",
   "id": "7f16420c",
   "metadata": {},
   "source": [
    "## Writing in the G's"
   ]
  },
  {
   "cell_type": "code",
   "execution_count": 204,
   "id": "efda841f",
   "metadata": {},
   "outputs": [],
   "source": [
    "G = {}\n",
    "\n",
    "G[\"21\"] = phi_[\"12\"]*Z[\"21\"] + Z[\"23\"]*Z[\"31\"] + (Z[\"24\"]*Z[\"41\"])[0]\n",
    "G[\"12\"] = phi_[\"12\"]*Z[\"12\"] + Z[\"13\"]*Z[\"32\"] + (Z[\"14\"]*Z[\"42\"])[0]\n",
    "\n",
    "G[\"31\"] = phi_[\"31\"]*Z[\"31\"] + Z[\"32\"]*Z[\"21\"] - (Z[\"34\"]*Z[\"41\"])[0]\n",
    "G[\"13\"] = phi_[\"31\"]*Z[\"13\"] + Z[\"12\"]*Z[\"23\"] + (Z[\"14\"]*Z[\"43\"])[0]\n",
    "\n",
    "G[\"32\"] = phi_[\"23\"]*Z[\"32\"] + Z[\"31\"]*Z[\"12\"] + (Z[\"34\"]*Z[\"42\"])[0]\n",
    "G[\"23\"] = phi_[\"23\"]*Z[\"23\"] + Z[\"21\"]*Z[\"13\"] + (Z[\"24\"]*Z[\"43\"])[0]\n",
    "\n",
    "G[\"41\"] = -phi[\"41\"]*Z[\"41\"] + Z[\"42\"]*Z[\"21\"] + Z[\"43\"]*Z[\"31\"]\n",
    "G[\"14\"] = -Z[\"14\"]*phi[\"41\"] + Z[\"12\"]*Z[\"24\"] - Z[\"13\"]*Z[\"34\"]\n",
    "\n",
    "G[\"42\"] = -phi[\"42\"]*Z[\"42\"] + Z[\"43\"]*Z[\"32\"] + Z[\"41\"]*Z[\"12\"]\n",
    "G[\"24\"] = -Z[\"24\"]*phi[\"42\"] + Z[\"21\"]*Z[\"14\"] + Z[\"23\"]*Z[\"34\"]\n",
    "\n",
    "G[\"43\"] = -phi[\"43\"]*Z[\"43\"] - Z[\"41\"]*Z[\"13\"] + Z[\"42\"]*Z[\"23\"]\n",
    "G[\"34\"] = -Z[\"34\"]*phi[\"43\"] + Z[\"31\"]*Z[\"14\"] + Z[\"32\"]*Z[\"24\"]\n",
    "\n",
    "scalar_G = [G[\"12\"],G[\"21\"],G[\"13\"],G[\"31\"],G[\"23\"],G[\"32\"]]"
   ]
  },
  {
   "cell_type": "markdown",
   "id": "d12dbc01",
   "metadata": {},
   "source": [
    "## Hs"
   ]
  },
  {
   "cell_type": "code",
   "execution_count": 205,
   "id": "769d97e1",
   "metadata": {},
   "outputs": [],
   "source": [
    "H = {}\n",
    "\n",
    "for k in np.arange(1,5):\n",
    "    for l in np.arange(1,5):\n",
    "        for a in np.arange(1,4):\n",
    "            if k != l:\n",
    "                H[str(k)+str(l)+\"_\"+str(a)] = X[str(k)+str(a)]*Z[str(k)+str(l)] - Z[str(k)+str(l)] * X[str(l)+str(a)]        "
   ]
  },
  {
   "cell_type": "markdown",
   "id": "2701cd5a",
   "metadata": {},
   "source": [
    "## Ys"
   ]
  },
  {
   "cell_type": "code",
   "execution_count": 206,
   "id": "705c840e",
   "metadata": {},
   "outputs": [],
   "source": [
    "Y = {}\n",
    "\n",
    "for i in np.arange(1,5):\n",
    "    for j in np.arange(1,4):\n",
    "        for k in np.arange(1,4):\n",
    "            Y[str(i)+\"_\"+str(j)+str(k)] = X[str(i)+str(j)]*phi[str(i)+str(k)] - phi[str(i)+str(k)]*X[str(i)+str(j)]\n",
    "            \n",
    "Y_dag = {}\n",
    "\n",
    "for i in np.arange(1,5):\n",
    "    for j in np.arange(1,4):\n",
    "        for k in np.arange(1,4):\n",
    "            Y_dag[str(i)+\"_\"+str(j)+str(k)] = - X[str(i)+str(j)]*phi_dag[str(i)+str(k)] + phi_dag[str(i)+str(k)]*X[str(i)+str(j)]"
   ]
  },
  {
   "cell_type": "markdown",
   "id": "e4572994",
   "metadata": {},
   "source": [
    "## K"
   ]
  },
  {
   "cell_type": "code",
   "execution_count": 244,
   "id": "1f4502a7",
   "metadata": {},
   "outputs": [],
   "source": [
    "sum1 = 0\n",
    "for a in np.arange(1,10):\n",
    "    for k in np.arange(1,5):\n",
    "        if k == 4:\n",
    "            sum1 += (Trace(X_dot[str(k)+str(a)]))**2\n",
    "        else:\n",
    "            sum1 += X_dot[str(k)+str(a)]**2\n",
    "        \n",
    "sum2 = 0\n",
    "for k in np.arange(1,5):\n",
    "    for l in np.arange(1,5):\n",
    "        if k != l:\n",
    "\n",
    "            if l == 4:\n",
    "                sum2 += ((Z_dot[str(k)+str(l)].adjoint()*Z_dot[str(k)+str(l)])[0])\n",
    "\n",
    "            elif k == 4:\n",
    "                sum2 += Trace(Z_dot[str(k)+str(l)].adjoint()*Z_dot[str(k)+str(l)])\n",
    "\n",
    "            else:\n",
    "                sum2 += Z_dot[str(k)+str(l)].adjoint()*Z_dot[str(k)+str(l)]\n",
    "            \n",
    "K = 1/2 * (sum1 + sum2)"
   ]
  },
  {
   "cell_type": "code",
   "execution_count": 269,
   "id": "ffafef1c",
   "metadata": {},
   "outputs": [
    {
     "data": {
      "text/latex": [
       "$\\displaystyle X_{dot41 00}$"
      ],
      "text/plain": [
       "X_dot41_00"
      ]
     },
     "execution_count": 269,
     "metadata": {},
     "output_type": "execute_result"
    }
   ],
   "source": [
    "X_dot[\"41\"][0,0]"
   ]
  },
  {
   "cell_type": "code",
   "execution_count": 267,
   "id": "0369b4ff",
   "metadata": {},
   "outputs": [
    {
     "ename": "ValueError",
     "evalue": "\nCan't calculate derivative wrt I*ImX_dot41_01 + ReX_dot41_01.",
     "output_type": "error",
     "traceback": [
      "\u001b[1;31m---------------------------------------------------------------------------\u001b[0m",
      "\u001b[1;31mValueError\u001b[0m                                Traceback (most recent call last)",
      "Cell \u001b[1;32mIn[267], line 1\u001b[0m\n\u001b[1;32m----> 1\u001b[0m \u001b[43mK\u001b[49m\u001b[38;5;241;43m.\u001b[39;49m\u001b[43mdiff\u001b[49m\u001b[43m(\u001b[49m\u001b[43mX_dot\u001b[49m\u001b[43m[\u001b[49m\u001b[38;5;124;43m\"\u001b[39;49m\u001b[38;5;124;43m41\u001b[39;49m\u001b[38;5;124;43m\"\u001b[39;49m\u001b[43m]\u001b[49m\u001b[43m)\u001b[49m\n",
      "File \u001b[1;32m~\\anaconda3\\lib\\site-packages\\sympy\\core\\expr.py:3555\u001b[0m, in \u001b[0;36mExpr.diff\u001b[1;34m(self, *symbols, **assumptions)\u001b[0m\n\u001b[0;32m   3553\u001b[0m \u001b[38;5;28;01mdef\u001b[39;00m \u001b[38;5;21mdiff\u001b[39m(\u001b[38;5;28mself\u001b[39m, \u001b[38;5;241m*\u001b[39msymbols, \u001b[38;5;241m*\u001b[39m\u001b[38;5;241m*\u001b[39massumptions):\n\u001b[0;32m   3554\u001b[0m     assumptions\u001b[38;5;241m.\u001b[39msetdefault(\u001b[38;5;124m\"\u001b[39m\u001b[38;5;124mevaluate\u001b[39m\u001b[38;5;124m\"\u001b[39m, \u001b[38;5;28;01mTrue\u001b[39;00m)\n\u001b[1;32m-> 3555\u001b[0m     \u001b[38;5;28;01mreturn\u001b[39;00m \u001b[43m_derivative_dispatch\u001b[49m\u001b[43m(\u001b[49m\u001b[38;5;28;43mself\u001b[39;49m\u001b[43m,\u001b[49m\u001b[43m \u001b[49m\u001b[38;5;241;43m*\u001b[39;49m\u001b[43msymbols\u001b[49m\u001b[43m,\u001b[49m\u001b[43m \u001b[49m\u001b[38;5;241;43m*\u001b[39;49m\u001b[38;5;241;43m*\u001b[39;49m\u001b[43massumptions\u001b[49m\u001b[43m)\u001b[49m\n",
      "File \u001b[1;32m~\\anaconda3\\lib\\site-packages\\sympy\\core\\function.py:1913\u001b[0m, in \u001b[0;36m_derivative_dispatch\u001b[1;34m(expr, *variables, **kwargs)\u001b[0m\n\u001b[0;32m   1911\u001b[0m \u001b[38;5;28;01mif\u001b[39;00m \u001b[38;5;28misinstance\u001b[39m(expr, array_types) \u001b[38;5;129;01mor\u001b[39;00m \u001b[38;5;28many\u001b[39m(\u001b[38;5;28misinstance\u001b[39m(i[\u001b[38;5;241m0\u001b[39m], array_types) \u001b[38;5;28;01mif\u001b[39;00m \u001b[38;5;28misinstance\u001b[39m(i, (\u001b[38;5;28mtuple\u001b[39m, \u001b[38;5;28mlist\u001b[39m, Tuple)) \u001b[38;5;28;01melse\u001b[39;00m \u001b[38;5;28misinstance\u001b[39m(i, array_types) \u001b[38;5;28;01mfor\u001b[39;00m i \u001b[38;5;129;01min\u001b[39;00m variables):\n\u001b[0;32m   1912\u001b[0m     \u001b[38;5;28;01mfrom\u001b[39;00m \u001b[38;5;21;01msympy\u001b[39;00m\u001b[38;5;21;01m.\u001b[39;00m\u001b[38;5;21;01mtensor\u001b[39;00m\u001b[38;5;21;01m.\u001b[39;00m\u001b[38;5;21;01marray\u001b[39;00m\u001b[38;5;21;01m.\u001b[39;00m\u001b[38;5;21;01marray_derivatives\u001b[39;00m \u001b[38;5;28;01mimport\u001b[39;00m ArrayDerivative\n\u001b[1;32m-> 1913\u001b[0m     \u001b[38;5;28;01mreturn\u001b[39;00m \u001b[43mArrayDerivative\u001b[49m\u001b[43m(\u001b[49m\u001b[43mexpr\u001b[49m\u001b[43m,\u001b[49m\u001b[43m \u001b[49m\u001b[38;5;241;43m*\u001b[39;49m\u001b[43mvariables\u001b[49m\u001b[43m,\u001b[49m\u001b[43m \u001b[49m\u001b[38;5;241;43m*\u001b[39;49m\u001b[38;5;241;43m*\u001b[39;49m\u001b[43mkwargs\u001b[49m\u001b[43m)\u001b[49m\n\u001b[0;32m   1914\u001b[0m \u001b[38;5;28;01mreturn\u001b[39;00m Derivative(expr, \u001b[38;5;241m*\u001b[39mvariables, \u001b[38;5;241m*\u001b[39m\u001b[38;5;241m*\u001b[39mkwargs)\n",
      "File \u001b[1;32m~\\anaconda3\\lib\\site-packages\\sympy\\tensor\\array\\array_derivatives.py:19\u001b[0m, in \u001b[0;36mArrayDerivative.__new__\u001b[1;34m(cls, expr, *variables, **kwargs)\u001b[0m\n\u001b[0;32m     18\u001b[0m \u001b[38;5;28;01mdef\u001b[39;00m \u001b[38;5;21m__new__\u001b[39m(\u001b[38;5;28mcls\u001b[39m, expr, \u001b[38;5;241m*\u001b[39mvariables, \u001b[38;5;241m*\u001b[39m\u001b[38;5;241m*\u001b[39mkwargs):\n\u001b[1;32m---> 19\u001b[0m     obj \u001b[38;5;241m=\u001b[39m \u001b[38;5;28;43msuper\u001b[39;49m\u001b[43m(\u001b[49m\u001b[43m)\u001b[49m\u001b[38;5;241;43m.\u001b[39;49m\u001b[38;5;21;43m__new__\u001b[39;49m\u001b[43m(\u001b[49m\u001b[38;5;28;43mcls\u001b[39;49m\u001b[43m,\u001b[49m\u001b[43m \u001b[49m\u001b[43mexpr\u001b[49m\u001b[43m,\u001b[49m\u001b[43m \u001b[49m\u001b[38;5;241;43m*\u001b[39;49m\u001b[43mvariables\u001b[49m\u001b[43m,\u001b[49m\u001b[43m \u001b[49m\u001b[38;5;241;43m*\u001b[39;49m\u001b[38;5;241;43m*\u001b[39;49m\u001b[43mkwargs\u001b[49m\u001b[43m)\u001b[49m\n\u001b[0;32m     20\u001b[0m     \u001b[38;5;28;01mif\u001b[39;00m \u001b[38;5;28misinstance\u001b[39m(obj, ArrayDerivative):\n\u001b[0;32m     21\u001b[0m         obj\u001b[38;5;241m.\u001b[39m_shape \u001b[38;5;241m=\u001b[39m obj\u001b[38;5;241m.\u001b[39m_get_shape()\n",
      "File \u001b[1;32m~\\anaconda3\\lib\\site-packages\\sympy\\core\\function.py:1442\u001b[0m, in \u001b[0;36mDerivative.__new__\u001b[1;34m(cls, expr, *variables, **kwargs)\u001b[0m\n\u001b[0;32m   1435\u001b[0m     \u001b[38;5;28;01mif\u001b[39;00m \u001b[38;5;129;01mnot\u001b[39;00m old_v\u001b[38;5;241m.\u001b[39mis_scalar \u001b[38;5;129;01mand\u001b[39;00m \u001b[38;5;129;01mnot\u001b[39;00m \u001b[38;5;28mhasattr\u001b[39m(\n\u001b[0;32m   1436\u001b[0m             old_v, \u001b[38;5;124m'\u001b[39m\u001b[38;5;124m_eval_derivative\u001b[39m\u001b[38;5;124m'\u001b[39m):\n\u001b[0;32m   1437\u001b[0m         \u001b[38;5;66;03m# special hack providing evaluation for classes\u001b[39;00m\n\u001b[0;32m   1438\u001b[0m         \u001b[38;5;66;03m# that have defined is_scalar=True but have no\u001b[39;00m\n\u001b[0;32m   1439\u001b[0m         \u001b[38;5;66;03m# _eval_derivative defined\u001b[39;00m\n\u001b[0;32m   1440\u001b[0m         expr \u001b[38;5;241m*\u001b[39m\u001b[38;5;241m=\u001b[39m old_v\u001b[38;5;241m.\u001b[39mdiff(old_v)\n\u001b[1;32m-> 1442\u001b[0m obj \u001b[38;5;241m=\u001b[39m \u001b[38;5;28;43mcls\u001b[39;49m\u001b[38;5;241;43m.\u001b[39;49m\u001b[43m_dispatch_eval_derivative_n_times\u001b[49m\u001b[43m(\u001b[49m\u001b[43mexpr\u001b[49m\u001b[43m,\u001b[49m\u001b[43m \u001b[49m\u001b[43mv\u001b[49m\u001b[43m,\u001b[49m\u001b[43m \u001b[49m\u001b[43mcount\u001b[49m\u001b[43m)\u001b[49m\n\u001b[0;32m   1443\u001b[0m \u001b[38;5;28;01mif\u001b[39;00m obj \u001b[38;5;129;01mis\u001b[39;00m \u001b[38;5;129;01mnot\u001b[39;00m \u001b[38;5;28;01mNone\u001b[39;00m \u001b[38;5;129;01mand\u001b[39;00m obj\u001b[38;5;241m.\u001b[39mis_zero:\n\u001b[0;32m   1444\u001b[0m     \u001b[38;5;28;01mreturn\u001b[39;00m obj\n",
      "File \u001b[1;32m~\\anaconda3\\lib\\site-packages\\sympy\\tensor\\array\\array_derivatives.py:94\u001b[0m, in \u001b[0;36mArrayDerivative._dispatch_eval_derivative_n_times\u001b[1;34m(cls, expr, v, count)\u001b[0m\n\u001b[0;32m     92\u001b[0m \u001b[38;5;28;01mif\u001b[39;00m expr\u001b[38;5;241m.\u001b[39mis_scalar:\n\u001b[0;32m     93\u001b[0m     \u001b[38;5;28;01mif\u001b[39;00m \u001b[38;5;28misinstance\u001b[39m(v, MatrixCommon):\n\u001b[1;32m---> 94\u001b[0m         result \u001b[38;5;241m=\u001b[39m \u001b[38;5;28;43mcls\u001b[39;49m\u001b[38;5;241;43m.\u001b[39;49m\u001b[43m_call_derive_scalar_by_matrix\u001b[49m\u001b[43m(\u001b[49m\u001b[43mexpr\u001b[49m\u001b[43m,\u001b[49m\u001b[43m \u001b[49m\u001b[43mv\u001b[49m\u001b[43m)\u001b[49m\n\u001b[0;32m     95\u001b[0m     \u001b[38;5;28;01melif\u001b[39;00m \u001b[38;5;28misinstance\u001b[39m(v, MatrixExpr):\n\u001b[0;32m     96\u001b[0m         result \u001b[38;5;241m=\u001b[39m \u001b[38;5;28mcls\u001b[39m\u001b[38;5;241m.\u001b[39m_call_derive_scalar_by_matexpr(expr, v)\n",
      "File \u001b[1;32m~\\anaconda3\\lib\\site-packages\\sympy\\tensor\\array\\array_derivatives.py:49\u001b[0m, in \u001b[0;36mArrayDerivative._call_derive_scalar_by_matrix\u001b[1;34m(expr, v)\u001b[0m\n\u001b[0;32m     47\u001b[0m \u001b[38;5;129m@staticmethod\u001b[39m\n\u001b[0;32m     48\u001b[0m \u001b[38;5;28;01mdef\u001b[39;00m \u001b[38;5;21m_call_derive_scalar_by_matrix\u001b[39m(expr, v):  \u001b[38;5;66;03m# type: (Expr, MatrixCommon) -> Expr\u001b[39;00m\n\u001b[1;32m---> 49\u001b[0m     \u001b[38;5;28;01mreturn\u001b[39;00m \u001b[43mv\u001b[49m\u001b[38;5;241;43m.\u001b[39;49m\u001b[43mapplyfunc\u001b[49m\u001b[43m(\u001b[49m\u001b[38;5;28;43;01mlambda\u001b[39;49;00m\u001b[43m \u001b[49m\u001b[43mx\u001b[49m\u001b[43m:\u001b[49m\u001b[43m \u001b[49m\u001b[43mexpr\u001b[49m\u001b[38;5;241;43m.\u001b[39;49m\u001b[43mdiff\u001b[49m\u001b[43m(\u001b[49m\u001b[43mx\u001b[49m\u001b[43m)\u001b[49m\u001b[43m)\u001b[49m\n",
      "File \u001b[1;32m~\\anaconda3\\lib\\site-packages\\sympy\\matrices\\common.py:2058\u001b[0m, in \u001b[0;36mMatrixOperations.applyfunc\u001b[1;34m(self, f)\u001b[0m\n\u001b[0;32m   2055\u001b[0m \u001b[38;5;28;01mif\u001b[39;00m \u001b[38;5;129;01mnot\u001b[39;00m \u001b[38;5;28mcallable\u001b[39m(f):\n\u001b[0;32m   2056\u001b[0m     \u001b[38;5;28;01mraise\u001b[39;00m \u001b[38;5;167;01mTypeError\u001b[39;00m(\u001b[38;5;124m\"\u001b[39m\u001b[38;5;124m`f` must be callable.\u001b[39m\u001b[38;5;124m\"\u001b[39m)\n\u001b[1;32m-> 2058\u001b[0m \u001b[38;5;28;01mreturn\u001b[39;00m \u001b[38;5;28;43mself\u001b[39;49m\u001b[38;5;241;43m.\u001b[39;49m\u001b[43m_eval_applyfunc\u001b[49m\u001b[43m(\u001b[49m\u001b[43mf\u001b[49m\u001b[43m)\u001b[49m\n",
      "File \u001b[1;32m~\\anaconda3\\lib\\site-packages\\sympy\\matrices\\common.py:2000\u001b[0m, in \u001b[0;36mMatrixOperations._eval_applyfunc\u001b[1;34m(self, f)\u001b[0m\n\u001b[0;32m   1999\u001b[0m \u001b[38;5;28;01mdef\u001b[39;00m \u001b[38;5;21m_eval_applyfunc\u001b[39m(\u001b[38;5;28mself\u001b[39m, f):\n\u001b[1;32m-> 2000\u001b[0m     out \u001b[38;5;241m=\u001b[39m \u001b[38;5;28mself\u001b[39m\u001b[38;5;241m.\u001b[39m_new(\u001b[38;5;28mself\u001b[39m\u001b[38;5;241m.\u001b[39mrows, \u001b[38;5;28mself\u001b[39m\u001b[38;5;241m.\u001b[39mcols, [f(x) \u001b[38;5;28;01mfor\u001b[39;00m x \u001b[38;5;129;01min\u001b[39;00m \u001b[38;5;28mself\u001b[39m])\n\u001b[0;32m   2001\u001b[0m     \u001b[38;5;28;01mreturn\u001b[39;00m out\n",
      "File \u001b[1;32m~\\anaconda3\\lib\\site-packages\\sympy\\matrices\\common.py:2000\u001b[0m, in \u001b[0;36m<listcomp>\u001b[1;34m(.0)\u001b[0m\n\u001b[0;32m   1999\u001b[0m \u001b[38;5;28;01mdef\u001b[39;00m \u001b[38;5;21m_eval_applyfunc\u001b[39m(\u001b[38;5;28mself\u001b[39m, f):\n\u001b[1;32m-> 2000\u001b[0m     out \u001b[38;5;241m=\u001b[39m \u001b[38;5;28mself\u001b[39m\u001b[38;5;241m.\u001b[39m_new(\u001b[38;5;28mself\u001b[39m\u001b[38;5;241m.\u001b[39mrows, \u001b[38;5;28mself\u001b[39m\u001b[38;5;241m.\u001b[39mcols, [\u001b[43mf\u001b[49m\u001b[43m(\u001b[49m\u001b[43mx\u001b[49m\u001b[43m)\u001b[49m \u001b[38;5;28;01mfor\u001b[39;00m x \u001b[38;5;129;01min\u001b[39;00m \u001b[38;5;28mself\u001b[39m])\n\u001b[0;32m   2001\u001b[0m     \u001b[38;5;28;01mreturn\u001b[39;00m out\n",
      "File \u001b[1;32m~\\anaconda3\\lib\\site-packages\\sympy\\tensor\\array\\array_derivatives.py:49\u001b[0m, in \u001b[0;36mArrayDerivative._call_derive_scalar_by_matrix.<locals>.<lambda>\u001b[1;34m(x)\u001b[0m\n\u001b[0;32m     47\u001b[0m \u001b[38;5;129m@staticmethod\u001b[39m\n\u001b[0;32m     48\u001b[0m \u001b[38;5;28;01mdef\u001b[39;00m \u001b[38;5;21m_call_derive_scalar_by_matrix\u001b[39m(expr, v):  \u001b[38;5;66;03m# type: (Expr, MatrixCommon) -> Expr\u001b[39;00m\n\u001b[1;32m---> 49\u001b[0m     \u001b[38;5;28;01mreturn\u001b[39;00m v\u001b[38;5;241m.\u001b[39mapplyfunc(\u001b[38;5;28;01mlambda\u001b[39;00m x: \u001b[43mexpr\u001b[49m\u001b[38;5;241;43m.\u001b[39;49m\u001b[43mdiff\u001b[49m\u001b[43m(\u001b[49m\u001b[43mx\u001b[49m\u001b[43m)\u001b[49m)\n",
      "File \u001b[1;32m~\\anaconda3\\lib\\site-packages\\sympy\\core\\expr.py:3555\u001b[0m, in \u001b[0;36mExpr.diff\u001b[1;34m(self, *symbols, **assumptions)\u001b[0m\n\u001b[0;32m   3553\u001b[0m \u001b[38;5;28;01mdef\u001b[39;00m \u001b[38;5;21mdiff\u001b[39m(\u001b[38;5;28mself\u001b[39m, \u001b[38;5;241m*\u001b[39msymbols, \u001b[38;5;241m*\u001b[39m\u001b[38;5;241m*\u001b[39massumptions):\n\u001b[0;32m   3554\u001b[0m     assumptions\u001b[38;5;241m.\u001b[39msetdefault(\u001b[38;5;124m\"\u001b[39m\u001b[38;5;124mevaluate\u001b[39m\u001b[38;5;124m\"\u001b[39m, \u001b[38;5;28;01mTrue\u001b[39;00m)\n\u001b[1;32m-> 3555\u001b[0m     \u001b[38;5;28;01mreturn\u001b[39;00m \u001b[43m_derivative_dispatch\u001b[49m\u001b[43m(\u001b[49m\u001b[38;5;28;43mself\u001b[39;49m\u001b[43m,\u001b[49m\u001b[43m \u001b[49m\u001b[38;5;241;43m*\u001b[39;49m\u001b[43msymbols\u001b[49m\u001b[43m,\u001b[49m\u001b[43m \u001b[49m\u001b[38;5;241;43m*\u001b[39;49m\u001b[38;5;241;43m*\u001b[39;49m\u001b[43massumptions\u001b[49m\u001b[43m)\u001b[49m\n",
      "File \u001b[1;32m~\\anaconda3\\lib\\site-packages\\sympy\\core\\function.py:1914\u001b[0m, in \u001b[0;36m_derivative_dispatch\u001b[1;34m(expr, *variables, **kwargs)\u001b[0m\n\u001b[0;32m   1912\u001b[0m     \u001b[38;5;28;01mfrom\u001b[39;00m \u001b[38;5;21;01msympy\u001b[39;00m\u001b[38;5;21;01m.\u001b[39;00m\u001b[38;5;21;01mtensor\u001b[39;00m\u001b[38;5;21;01m.\u001b[39;00m\u001b[38;5;21;01marray\u001b[39;00m\u001b[38;5;21;01m.\u001b[39;00m\u001b[38;5;21;01marray_derivatives\u001b[39;00m \u001b[38;5;28;01mimport\u001b[39;00m ArrayDerivative\n\u001b[0;32m   1913\u001b[0m     \u001b[38;5;28;01mreturn\u001b[39;00m ArrayDerivative(expr, \u001b[38;5;241m*\u001b[39mvariables, \u001b[38;5;241m*\u001b[39m\u001b[38;5;241m*\u001b[39mkwargs)\n\u001b[1;32m-> 1914\u001b[0m \u001b[38;5;28;01mreturn\u001b[39;00m \u001b[43mDerivative\u001b[49m\u001b[43m(\u001b[49m\u001b[43mexpr\u001b[49m\u001b[43m,\u001b[49m\u001b[43m \u001b[49m\u001b[38;5;241;43m*\u001b[39;49m\u001b[43mvariables\u001b[49m\u001b[43m,\u001b[49m\u001b[43m \u001b[49m\u001b[38;5;241;43m*\u001b[39;49m\u001b[38;5;241;43m*\u001b[39;49m\u001b[43mkwargs\u001b[49m\u001b[43m)\u001b[49m\n",
      "File \u001b[1;32m~\\anaconda3\\lib\\site-packages\\sympy\\core\\function.py:1339\u001b[0m, in \u001b[0;36mDerivative.__new__\u001b[1;34m(cls, expr, *variables, **kwargs)\u001b[0m\n\u001b[0;32m   1337\u001b[0m     \u001b[38;5;28;01mif\u001b[39;00m \u001b[38;5;129;01mnot\u001b[39;00m v\u001b[38;5;241m.\u001b[39m_diff_wrt:\n\u001b[0;32m   1338\u001b[0m         __ \u001b[38;5;241m=\u001b[39m \u001b[38;5;124m'\u001b[39m\u001b[38;5;124m'\u001b[39m  \u001b[38;5;66;03m# filler to make error message neater\u001b[39;00m\n\u001b[1;32m-> 1339\u001b[0m         \u001b[38;5;28;01mraise\u001b[39;00m \u001b[38;5;167;01mValueError\u001b[39;00m(filldedent(\u001b[38;5;124m'''\u001b[39m\n\u001b[0;32m   1340\u001b[0m \u001b[38;5;124m            Can\u001b[39m\u001b[38;5;124m'\u001b[39m\u001b[38;5;124mt calculate derivative wrt \u001b[39m\u001b[38;5;132;01m%s\u001b[39;00m\u001b[38;5;124m.\u001b[39m\u001b[38;5;132;01m%s\u001b[39;00m\u001b[38;5;124m'''\u001b[39m \u001b[38;5;241m%\u001b[39m (v,\n\u001b[0;32m   1341\u001b[0m             __)))\n\u001b[0;32m   1343\u001b[0m \u001b[38;5;66;03m# We make a special case for 0th derivative, because there is no\u001b[39;00m\n\u001b[0;32m   1344\u001b[0m \u001b[38;5;66;03m# good way to unambiguously print this.\u001b[39;00m\n\u001b[0;32m   1345\u001b[0m \u001b[38;5;28;01mif\u001b[39;00m \u001b[38;5;28mlen\u001b[39m(variable_count) \u001b[38;5;241m==\u001b[39m \u001b[38;5;241m0\u001b[39m:\n",
      "\u001b[1;31mValueError\u001b[0m: \nCan't calculate derivative wrt I*ImX_dot41_01 + ReX_dot41_01."
     ]
    }
   ],
   "source": [
    "Matrix [K.diff(X_dot[\"41\"][0,0])"
   ]
  },
  {
   "cell_type": "code",
   "execution_count": 266,
   "id": "08cc2953",
   "metadata": {},
   "outputs": [
    {
     "name": "stdout",
     "output_type": "stream",
     "text": [
      "1.0*X_dot11\n",
      "1.0*X_dot12\n",
      "1.0*X_dot13\n",
      "1.0*X_dot14\n",
      "1.0*X_dot15\n",
      "1.0*X_dot16\n",
      "1.0*X_dot17\n",
      "1.0*X_dot18\n",
      "1.0*X_dot19\n",
      "1.0*X_dot21\n",
      "1.0*X_dot22\n",
      "1.0*X_dot23\n",
      "1.0*X_dot24\n",
      "1.0*X_dot25\n",
      "1.0*X_dot26\n",
      "1.0*X_dot27\n",
      "1.0*X_dot28\n",
      "1.0*X_dot29\n",
      "1.0*X_dot31\n",
      "1.0*X_dot32\n",
      "1.0*X_dot33\n",
      "1.0*X_dot34\n",
      "1.0*X_dot35\n",
      "1.0*X_dot36\n",
      "1.0*X_dot37\n",
      "1.0*X_dot38\n",
      "1.0*X_dot39\n"
     ]
    },
    {
     "ename": "ValueError",
     "evalue": "\nCan't calculate derivative wrt I*ImX_dot41_01 + ReX_dot41_01.",
     "output_type": "error",
     "traceback": [
      "\u001b[1;31m---------------------------------------------------------------------------\u001b[0m",
      "\u001b[1;31mValueError\u001b[0m                                Traceback (most recent call last)",
      "Cell \u001b[1;32mIn[266], line 4\u001b[0m\n\u001b[0;32m      1\u001b[0m \u001b[38;5;28;01mfor\u001b[39;00m i \u001b[38;5;129;01min\u001b[39;00m np\u001b[38;5;241m.\u001b[39marange(\u001b[38;5;241m1\u001b[39m,\u001b[38;5;241m5\u001b[39m):\n\u001b[0;32m      2\u001b[0m     \u001b[38;5;28;01mfor\u001b[39;00m j \u001b[38;5;129;01min\u001b[39;00m np\u001b[38;5;241m.\u001b[39marange(\u001b[38;5;241m1\u001b[39m,\u001b[38;5;241m10\u001b[39m):\n\u001b[1;32m----> 4\u001b[0m         \u001b[38;5;28mprint\u001b[39m(\u001b[43mK\u001b[49m\u001b[38;5;241;43m.\u001b[39;49m\u001b[43mdiff\u001b[49m\u001b[43m(\u001b[49m\u001b[43mX_dot\u001b[49m\u001b[43m[\u001b[49m\u001b[38;5;28;43mstr\u001b[39;49m\u001b[43m(\u001b[49m\u001b[43mi\u001b[49m\u001b[43m)\u001b[49m\u001b[43m \u001b[49m\u001b[38;5;241;43m+\u001b[39;49m\u001b[43m \u001b[49m\u001b[38;5;28;43mstr\u001b[39;49m\u001b[43m(\u001b[49m\u001b[43mj\u001b[49m\u001b[43m)\u001b[49m\u001b[43m]\u001b[49m\u001b[43m)\u001b[49m\u001b[38;5;241m.\u001b[39mexpand())\n",
      "File \u001b[1;32m~\\anaconda3\\lib\\site-packages\\sympy\\core\\expr.py:3555\u001b[0m, in \u001b[0;36mExpr.diff\u001b[1;34m(self, *symbols, **assumptions)\u001b[0m\n\u001b[0;32m   3553\u001b[0m \u001b[38;5;28;01mdef\u001b[39;00m \u001b[38;5;21mdiff\u001b[39m(\u001b[38;5;28mself\u001b[39m, \u001b[38;5;241m*\u001b[39msymbols, \u001b[38;5;241m*\u001b[39m\u001b[38;5;241m*\u001b[39massumptions):\n\u001b[0;32m   3554\u001b[0m     assumptions\u001b[38;5;241m.\u001b[39msetdefault(\u001b[38;5;124m\"\u001b[39m\u001b[38;5;124mevaluate\u001b[39m\u001b[38;5;124m\"\u001b[39m, \u001b[38;5;28;01mTrue\u001b[39;00m)\n\u001b[1;32m-> 3555\u001b[0m     \u001b[38;5;28;01mreturn\u001b[39;00m \u001b[43m_derivative_dispatch\u001b[49m\u001b[43m(\u001b[49m\u001b[38;5;28;43mself\u001b[39;49m\u001b[43m,\u001b[49m\u001b[43m \u001b[49m\u001b[38;5;241;43m*\u001b[39;49m\u001b[43msymbols\u001b[49m\u001b[43m,\u001b[49m\u001b[43m \u001b[49m\u001b[38;5;241;43m*\u001b[39;49m\u001b[38;5;241;43m*\u001b[39;49m\u001b[43massumptions\u001b[49m\u001b[43m)\u001b[49m\n",
      "File \u001b[1;32m~\\anaconda3\\lib\\site-packages\\sympy\\core\\function.py:1913\u001b[0m, in \u001b[0;36m_derivative_dispatch\u001b[1;34m(expr, *variables, **kwargs)\u001b[0m\n\u001b[0;32m   1911\u001b[0m \u001b[38;5;28;01mif\u001b[39;00m \u001b[38;5;28misinstance\u001b[39m(expr, array_types) \u001b[38;5;129;01mor\u001b[39;00m \u001b[38;5;28many\u001b[39m(\u001b[38;5;28misinstance\u001b[39m(i[\u001b[38;5;241m0\u001b[39m], array_types) \u001b[38;5;28;01mif\u001b[39;00m \u001b[38;5;28misinstance\u001b[39m(i, (\u001b[38;5;28mtuple\u001b[39m, \u001b[38;5;28mlist\u001b[39m, Tuple)) \u001b[38;5;28;01melse\u001b[39;00m \u001b[38;5;28misinstance\u001b[39m(i, array_types) \u001b[38;5;28;01mfor\u001b[39;00m i \u001b[38;5;129;01min\u001b[39;00m variables):\n\u001b[0;32m   1912\u001b[0m     \u001b[38;5;28;01mfrom\u001b[39;00m \u001b[38;5;21;01msympy\u001b[39;00m\u001b[38;5;21;01m.\u001b[39;00m\u001b[38;5;21;01mtensor\u001b[39;00m\u001b[38;5;21;01m.\u001b[39;00m\u001b[38;5;21;01marray\u001b[39;00m\u001b[38;5;21;01m.\u001b[39;00m\u001b[38;5;21;01marray_derivatives\u001b[39;00m \u001b[38;5;28;01mimport\u001b[39;00m ArrayDerivative\n\u001b[1;32m-> 1913\u001b[0m     \u001b[38;5;28;01mreturn\u001b[39;00m \u001b[43mArrayDerivative\u001b[49m\u001b[43m(\u001b[49m\u001b[43mexpr\u001b[49m\u001b[43m,\u001b[49m\u001b[43m \u001b[49m\u001b[38;5;241;43m*\u001b[39;49m\u001b[43mvariables\u001b[49m\u001b[43m,\u001b[49m\u001b[43m \u001b[49m\u001b[38;5;241;43m*\u001b[39;49m\u001b[38;5;241;43m*\u001b[39;49m\u001b[43mkwargs\u001b[49m\u001b[43m)\u001b[49m\n\u001b[0;32m   1914\u001b[0m \u001b[38;5;28;01mreturn\u001b[39;00m Derivative(expr, \u001b[38;5;241m*\u001b[39mvariables, \u001b[38;5;241m*\u001b[39m\u001b[38;5;241m*\u001b[39mkwargs)\n",
      "File \u001b[1;32m~\\anaconda3\\lib\\site-packages\\sympy\\tensor\\array\\array_derivatives.py:19\u001b[0m, in \u001b[0;36mArrayDerivative.__new__\u001b[1;34m(cls, expr, *variables, **kwargs)\u001b[0m\n\u001b[0;32m     18\u001b[0m \u001b[38;5;28;01mdef\u001b[39;00m \u001b[38;5;21m__new__\u001b[39m(\u001b[38;5;28mcls\u001b[39m, expr, \u001b[38;5;241m*\u001b[39mvariables, \u001b[38;5;241m*\u001b[39m\u001b[38;5;241m*\u001b[39mkwargs):\n\u001b[1;32m---> 19\u001b[0m     obj \u001b[38;5;241m=\u001b[39m \u001b[38;5;28;43msuper\u001b[39;49m\u001b[43m(\u001b[49m\u001b[43m)\u001b[49m\u001b[38;5;241;43m.\u001b[39;49m\u001b[38;5;21;43m__new__\u001b[39;49m\u001b[43m(\u001b[49m\u001b[38;5;28;43mcls\u001b[39;49m\u001b[43m,\u001b[49m\u001b[43m \u001b[49m\u001b[43mexpr\u001b[49m\u001b[43m,\u001b[49m\u001b[43m \u001b[49m\u001b[38;5;241;43m*\u001b[39;49m\u001b[43mvariables\u001b[49m\u001b[43m,\u001b[49m\u001b[43m \u001b[49m\u001b[38;5;241;43m*\u001b[39;49m\u001b[38;5;241;43m*\u001b[39;49m\u001b[43mkwargs\u001b[49m\u001b[43m)\u001b[49m\n\u001b[0;32m     20\u001b[0m     \u001b[38;5;28;01mif\u001b[39;00m \u001b[38;5;28misinstance\u001b[39m(obj, ArrayDerivative):\n\u001b[0;32m     21\u001b[0m         obj\u001b[38;5;241m.\u001b[39m_shape \u001b[38;5;241m=\u001b[39m obj\u001b[38;5;241m.\u001b[39m_get_shape()\n",
      "File \u001b[1;32m~\\anaconda3\\lib\\site-packages\\sympy\\core\\function.py:1442\u001b[0m, in \u001b[0;36mDerivative.__new__\u001b[1;34m(cls, expr, *variables, **kwargs)\u001b[0m\n\u001b[0;32m   1435\u001b[0m     \u001b[38;5;28;01mif\u001b[39;00m \u001b[38;5;129;01mnot\u001b[39;00m old_v\u001b[38;5;241m.\u001b[39mis_scalar \u001b[38;5;129;01mand\u001b[39;00m \u001b[38;5;129;01mnot\u001b[39;00m \u001b[38;5;28mhasattr\u001b[39m(\n\u001b[0;32m   1436\u001b[0m             old_v, \u001b[38;5;124m'\u001b[39m\u001b[38;5;124m_eval_derivative\u001b[39m\u001b[38;5;124m'\u001b[39m):\n\u001b[0;32m   1437\u001b[0m         \u001b[38;5;66;03m# special hack providing evaluation for classes\u001b[39;00m\n\u001b[0;32m   1438\u001b[0m         \u001b[38;5;66;03m# that have defined is_scalar=True but have no\u001b[39;00m\n\u001b[0;32m   1439\u001b[0m         \u001b[38;5;66;03m# _eval_derivative defined\u001b[39;00m\n\u001b[0;32m   1440\u001b[0m         expr \u001b[38;5;241m*\u001b[39m\u001b[38;5;241m=\u001b[39m old_v\u001b[38;5;241m.\u001b[39mdiff(old_v)\n\u001b[1;32m-> 1442\u001b[0m obj \u001b[38;5;241m=\u001b[39m \u001b[38;5;28;43mcls\u001b[39;49m\u001b[38;5;241;43m.\u001b[39;49m\u001b[43m_dispatch_eval_derivative_n_times\u001b[49m\u001b[43m(\u001b[49m\u001b[43mexpr\u001b[49m\u001b[43m,\u001b[49m\u001b[43m \u001b[49m\u001b[43mv\u001b[49m\u001b[43m,\u001b[49m\u001b[43m \u001b[49m\u001b[43mcount\u001b[49m\u001b[43m)\u001b[49m\n\u001b[0;32m   1443\u001b[0m \u001b[38;5;28;01mif\u001b[39;00m obj \u001b[38;5;129;01mis\u001b[39;00m \u001b[38;5;129;01mnot\u001b[39;00m \u001b[38;5;28;01mNone\u001b[39;00m \u001b[38;5;129;01mand\u001b[39;00m obj\u001b[38;5;241m.\u001b[39mis_zero:\n\u001b[0;32m   1444\u001b[0m     \u001b[38;5;28;01mreturn\u001b[39;00m obj\n",
      "File \u001b[1;32m~\\anaconda3\\lib\\site-packages\\sympy\\tensor\\array\\array_derivatives.py:94\u001b[0m, in \u001b[0;36mArrayDerivative._dispatch_eval_derivative_n_times\u001b[1;34m(cls, expr, v, count)\u001b[0m\n\u001b[0;32m     92\u001b[0m \u001b[38;5;28;01mif\u001b[39;00m expr\u001b[38;5;241m.\u001b[39mis_scalar:\n\u001b[0;32m     93\u001b[0m     \u001b[38;5;28;01mif\u001b[39;00m \u001b[38;5;28misinstance\u001b[39m(v, MatrixCommon):\n\u001b[1;32m---> 94\u001b[0m         result \u001b[38;5;241m=\u001b[39m \u001b[38;5;28;43mcls\u001b[39;49m\u001b[38;5;241;43m.\u001b[39;49m\u001b[43m_call_derive_scalar_by_matrix\u001b[49m\u001b[43m(\u001b[49m\u001b[43mexpr\u001b[49m\u001b[43m,\u001b[49m\u001b[43m \u001b[49m\u001b[43mv\u001b[49m\u001b[43m)\u001b[49m\n\u001b[0;32m     95\u001b[0m     \u001b[38;5;28;01melif\u001b[39;00m \u001b[38;5;28misinstance\u001b[39m(v, MatrixExpr):\n\u001b[0;32m     96\u001b[0m         result \u001b[38;5;241m=\u001b[39m \u001b[38;5;28mcls\u001b[39m\u001b[38;5;241m.\u001b[39m_call_derive_scalar_by_matexpr(expr, v)\n",
      "File \u001b[1;32m~\\anaconda3\\lib\\site-packages\\sympy\\tensor\\array\\array_derivatives.py:49\u001b[0m, in \u001b[0;36mArrayDerivative._call_derive_scalar_by_matrix\u001b[1;34m(expr, v)\u001b[0m\n\u001b[0;32m     47\u001b[0m \u001b[38;5;129m@staticmethod\u001b[39m\n\u001b[0;32m     48\u001b[0m \u001b[38;5;28;01mdef\u001b[39;00m \u001b[38;5;21m_call_derive_scalar_by_matrix\u001b[39m(expr, v):  \u001b[38;5;66;03m# type: (Expr, MatrixCommon) -> Expr\u001b[39;00m\n\u001b[1;32m---> 49\u001b[0m     \u001b[38;5;28;01mreturn\u001b[39;00m \u001b[43mv\u001b[49m\u001b[38;5;241;43m.\u001b[39;49m\u001b[43mapplyfunc\u001b[49m\u001b[43m(\u001b[49m\u001b[38;5;28;43;01mlambda\u001b[39;49;00m\u001b[43m \u001b[49m\u001b[43mx\u001b[49m\u001b[43m:\u001b[49m\u001b[43m \u001b[49m\u001b[43mexpr\u001b[49m\u001b[38;5;241;43m.\u001b[39;49m\u001b[43mdiff\u001b[49m\u001b[43m(\u001b[49m\u001b[43mx\u001b[49m\u001b[43m)\u001b[49m\u001b[43m)\u001b[49m\n",
      "File \u001b[1;32m~\\anaconda3\\lib\\site-packages\\sympy\\matrices\\common.py:2058\u001b[0m, in \u001b[0;36mMatrixOperations.applyfunc\u001b[1;34m(self, f)\u001b[0m\n\u001b[0;32m   2055\u001b[0m \u001b[38;5;28;01mif\u001b[39;00m \u001b[38;5;129;01mnot\u001b[39;00m \u001b[38;5;28mcallable\u001b[39m(f):\n\u001b[0;32m   2056\u001b[0m     \u001b[38;5;28;01mraise\u001b[39;00m \u001b[38;5;167;01mTypeError\u001b[39;00m(\u001b[38;5;124m\"\u001b[39m\u001b[38;5;124m`f` must be callable.\u001b[39m\u001b[38;5;124m\"\u001b[39m)\n\u001b[1;32m-> 2058\u001b[0m \u001b[38;5;28;01mreturn\u001b[39;00m \u001b[38;5;28;43mself\u001b[39;49m\u001b[38;5;241;43m.\u001b[39;49m\u001b[43m_eval_applyfunc\u001b[49m\u001b[43m(\u001b[49m\u001b[43mf\u001b[49m\u001b[43m)\u001b[49m\n",
      "File \u001b[1;32m~\\anaconda3\\lib\\site-packages\\sympy\\matrices\\common.py:2000\u001b[0m, in \u001b[0;36mMatrixOperations._eval_applyfunc\u001b[1;34m(self, f)\u001b[0m\n\u001b[0;32m   1999\u001b[0m \u001b[38;5;28;01mdef\u001b[39;00m \u001b[38;5;21m_eval_applyfunc\u001b[39m(\u001b[38;5;28mself\u001b[39m, f):\n\u001b[1;32m-> 2000\u001b[0m     out \u001b[38;5;241m=\u001b[39m \u001b[38;5;28mself\u001b[39m\u001b[38;5;241m.\u001b[39m_new(\u001b[38;5;28mself\u001b[39m\u001b[38;5;241m.\u001b[39mrows, \u001b[38;5;28mself\u001b[39m\u001b[38;5;241m.\u001b[39mcols, [f(x) \u001b[38;5;28;01mfor\u001b[39;00m x \u001b[38;5;129;01min\u001b[39;00m \u001b[38;5;28mself\u001b[39m])\n\u001b[0;32m   2001\u001b[0m     \u001b[38;5;28;01mreturn\u001b[39;00m out\n",
      "File \u001b[1;32m~\\anaconda3\\lib\\site-packages\\sympy\\matrices\\common.py:2000\u001b[0m, in \u001b[0;36m<listcomp>\u001b[1;34m(.0)\u001b[0m\n\u001b[0;32m   1999\u001b[0m \u001b[38;5;28;01mdef\u001b[39;00m \u001b[38;5;21m_eval_applyfunc\u001b[39m(\u001b[38;5;28mself\u001b[39m, f):\n\u001b[1;32m-> 2000\u001b[0m     out \u001b[38;5;241m=\u001b[39m \u001b[38;5;28mself\u001b[39m\u001b[38;5;241m.\u001b[39m_new(\u001b[38;5;28mself\u001b[39m\u001b[38;5;241m.\u001b[39mrows, \u001b[38;5;28mself\u001b[39m\u001b[38;5;241m.\u001b[39mcols, [\u001b[43mf\u001b[49m\u001b[43m(\u001b[49m\u001b[43mx\u001b[49m\u001b[43m)\u001b[49m \u001b[38;5;28;01mfor\u001b[39;00m x \u001b[38;5;129;01min\u001b[39;00m \u001b[38;5;28mself\u001b[39m])\n\u001b[0;32m   2001\u001b[0m     \u001b[38;5;28;01mreturn\u001b[39;00m out\n",
      "File \u001b[1;32m~\\anaconda3\\lib\\site-packages\\sympy\\tensor\\array\\array_derivatives.py:49\u001b[0m, in \u001b[0;36mArrayDerivative._call_derive_scalar_by_matrix.<locals>.<lambda>\u001b[1;34m(x)\u001b[0m\n\u001b[0;32m     47\u001b[0m \u001b[38;5;129m@staticmethod\u001b[39m\n\u001b[0;32m     48\u001b[0m \u001b[38;5;28;01mdef\u001b[39;00m \u001b[38;5;21m_call_derive_scalar_by_matrix\u001b[39m(expr, v):  \u001b[38;5;66;03m# type: (Expr, MatrixCommon) -> Expr\u001b[39;00m\n\u001b[1;32m---> 49\u001b[0m     \u001b[38;5;28;01mreturn\u001b[39;00m v\u001b[38;5;241m.\u001b[39mapplyfunc(\u001b[38;5;28;01mlambda\u001b[39;00m x: \u001b[43mexpr\u001b[49m\u001b[38;5;241;43m.\u001b[39;49m\u001b[43mdiff\u001b[49m\u001b[43m(\u001b[49m\u001b[43mx\u001b[49m\u001b[43m)\u001b[49m)\n",
      "File \u001b[1;32m~\\anaconda3\\lib\\site-packages\\sympy\\core\\expr.py:3555\u001b[0m, in \u001b[0;36mExpr.diff\u001b[1;34m(self, *symbols, **assumptions)\u001b[0m\n\u001b[0;32m   3553\u001b[0m \u001b[38;5;28;01mdef\u001b[39;00m \u001b[38;5;21mdiff\u001b[39m(\u001b[38;5;28mself\u001b[39m, \u001b[38;5;241m*\u001b[39msymbols, \u001b[38;5;241m*\u001b[39m\u001b[38;5;241m*\u001b[39massumptions):\n\u001b[0;32m   3554\u001b[0m     assumptions\u001b[38;5;241m.\u001b[39msetdefault(\u001b[38;5;124m\"\u001b[39m\u001b[38;5;124mevaluate\u001b[39m\u001b[38;5;124m\"\u001b[39m, \u001b[38;5;28;01mTrue\u001b[39;00m)\n\u001b[1;32m-> 3555\u001b[0m     \u001b[38;5;28;01mreturn\u001b[39;00m \u001b[43m_derivative_dispatch\u001b[49m\u001b[43m(\u001b[49m\u001b[38;5;28;43mself\u001b[39;49m\u001b[43m,\u001b[49m\u001b[43m \u001b[49m\u001b[38;5;241;43m*\u001b[39;49m\u001b[43msymbols\u001b[49m\u001b[43m,\u001b[49m\u001b[43m \u001b[49m\u001b[38;5;241;43m*\u001b[39;49m\u001b[38;5;241;43m*\u001b[39;49m\u001b[43massumptions\u001b[49m\u001b[43m)\u001b[49m\n",
      "File \u001b[1;32m~\\anaconda3\\lib\\site-packages\\sympy\\core\\function.py:1914\u001b[0m, in \u001b[0;36m_derivative_dispatch\u001b[1;34m(expr, *variables, **kwargs)\u001b[0m\n\u001b[0;32m   1912\u001b[0m     \u001b[38;5;28;01mfrom\u001b[39;00m \u001b[38;5;21;01msympy\u001b[39;00m\u001b[38;5;21;01m.\u001b[39;00m\u001b[38;5;21;01mtensor\u001b[39;00m\u001b[38;5;21;01m.\u001b[39;00m\u001b[38;5;21;01marray\u001b[39;00m\u001b[38;5;21;01m.\u001b[39;00m\u001b[38;5;21;01marray_derivatives\u001b[39;00m \u001b[38;5;28;01mimport\u001b[39;00m ArrayDerivative\n\u001b[0;32m   1913\u001b[0m     \u001b[38;5;28;01mreturn\u001b[39;00m ArrayDerivative(expr, \u001b[38;5;241m*\u001b[39mvariables, \u001b[38;5;241m*\u001b[39m\u001b[38;5;241m*\u001b[39mkwargs)\n\u001b[1;32m-> 1914\u001b[0m \u001b[38;5;28;01mreturn\u001b[39;00m \u001b[43mDerivative\u001b[49m\u001b[43m(\u001b[49m\u001b[43mexpr\u001b[49m\u001b[43m,\u001b[49m\u001b[43m \u001b[49m\u001b[38;5;241;43m*\u001b[39;49m\u001b[43mvariables\u001b[49m\u001b[43m,\u001b[49m\u001b[43m \u001b[49m\u001b[38;5;241;43m*\u001b[39;49m\u001b[38;5;241;43m*\u001b[39;49m\u001b[43mkwargs\u001b[49m\u001b[43m)\u001b[49m\n",
      "File \u001b[1;32m~\\anaconda3\\lib\\site-packages\\sympy\\core\\function.py:1339\u001b[0m, in \u001b[0;36mDerivative.__new__\u001b[1;34m(cls, expr, *variables, **kwargs)\u001b[0m\n\u001b[0;32m   1337\u001b[0m     \u001b[38;5;28;01mif\u001b[39;00m \u001b[38;5;129;01mnot\u001b[39;00m v\u001b[38;5;241m.\u001b[39m_diff_wrt:\n\u001b[0;32m   1338\u001b[0m         __ \u001b[38;5;241m=\u001b[39m \u001b[38;5;124m'\u001b[39m\u001b[38;5;124m'\u001b[39m  \u001b[38;5;66;03m# filler to make error message neater\u001b[39;00m\n\u001b[1;32m-> 1339\u001b[0m         \u001b[38;5;28;01mraise\u001b[39;00m \u001b[38;5;167;01mValueError\u001b[39;00m(filldedent(\u001b[38;5;124m'''\u001b[39m\n\u001b[0;32m   1340\u001b[0m \u001b[38;5;124m            Can\u001b[39m\u001b[38;5;124m'\u001b[39m\u001b[38;5;124mt calculate derivative wrt \u001b[39m\u001b[38;5;132;01m%s\u001b[39;00m\u001b[38;5;124m.\u001b[39m\u001b[38;5;132;01m%s\u001b[39;00m\u001b[38;5;124m'''\u001b[39m \u001b[38;5;241m%\u001b[39m (v,\n\u001b[0;32m   1341\u001b[0m             __)))\n\u001b[0;32m   1343\u001b[0m \u001b[38;5;66;03m# We make a special case for 0th derivative, because there is no\u001b[39;00m\n\u001b[0;32m   1344\u001b[0m \u001b[38;5;66;03m# good way to unambiguously print this.\u001b[39;00m\n\u001b[0;32m   1345\u001b[0m \u001b[38;5;28;01mif\u001b[39;00m \u001b[38;5;28mlen\u001b[39m(variable_count) \u001b[38;5;241m==\u001b[39m \u001b[38;5;241m0\u001b[39m:\n",
      "\u001b[1;31mValueError\u001b[0m: \nCan't calculate derivative wrt I*ImX_dot41_01 + ReX_dot41_01."
     ]
    }
   ],
   "source": [
    "for i in np.arange(1,5):\n",
    "    for j in np.arange(1,10):\n",
    "        \n",
    "        print(K.diff(X_dot[str(i) + str(j)]).expand())"
   ]
  },
  {
   "cell_type": "markdown",
   "id": "b4b4d310",
   "metadata": {},
   "source": [
    "## V_D"
   ]
  },
  {
   "cell_type": "code",
   "execution_count": null,
   "id": "8a4975a0",
   "metadata": {},
   "outputs": [],
   "source": []
  },
  {
   "cell_type": "markdown",
   "id": "a18cfa15",
   "metadata": {},
   "source": [
    "## V_gauge"
   ]
  },
  {
   "cell_type": "code",
   "execution_count": null,
   "id": "e599583e",
   "metadata": {},
   "outputs": [],
   "source": []
  },
  {
   "cell_type": "markdown",
   "id": "667d9bcc",
   "metadata": {},
   "source": [
    "## Creating $V_F$"
   ]
  },
  {
   "cell_type": "code",
   "execution_count": 19,
   "id": "51aac96d",
   "metadata": {},
   "outputs": [
    {
     "name": "stdout",
     "output_type": "stream",
     "text": [
      "0.7886989116668701\n"
     ]
    }
   ],
   "source": [
    "start = time.time()\n",
    "Fsum1 = sp.Symbol(\"\",real = True)\n",
    "Fsum2 = sp.Symbol(\"\",real = True)\n",
    "Fsum3 = sp.Symbol(\"\",real = True)\n",
    "Gsum1 = sp.Symbol(\"\",real = True)\n",
    "Gsum2 = sp.Symbol(\"\",real = True)\n",
    "Gsum3 = sp.Symbol(\"\",real = True)\n",
    "\n",
    "#Term 1\n",
    "for i in np.arange(1,4):\n",
    "    for j in np.arange(1,4):\n",
    "        if i == j:\n",
    "            continue\n",
    "        else:\n",
    "            Fsum1+= sp.re(F[str(i)+str(j)])**2 + sp.im(F[str(i)+str(j)])**2\n",
    "#Term 2\n",
    "for i in np.arange(1,4):\n",
    "    Fsum2 += sp.re(F[str(i)+\"4\"])**2 + sp.im(F[str(i)+\"4\"])**2\n",
    "    \n",
    "#Term 3\n",
    "for i in np.arange(1,4):\n",
    "    for j in np.arange(N):\n",
    "        for k in np.arange(N):\n",
    "            Fsum3 += sp.re(F[\"4\"+str(i)][j,k])**2 + sp.im(F[\"4\"+str(i)][j,k])**2\n",
    "            \n",
    "#Term 4\n",
    "for i in np.arange(6):\n",
    "    Gsum1 += (sp.re(scalar_G[i]))**2 + (sp.im(scalar_G[i]))**2\n",
    "    \n",
    "#Term 5\n",
    "for i in np.arange(1,4):\n",
    "    for j in np.arange(N):\n",
    "        Gsum2 += (sp.re(G[str(i)+\"4\"][j]))**2 + (sp.im(G[str(i)+\"4\"][j]))**2\n",
    "\n",
    "#Term 6\n",
    "for i in np.arange(1,4):\n",
    "    for j in np.arange(N):\n",
    "        Gsum3 += (sp.re(G[str(i)+\"4\"][j]))**2 + (sp.im(G[str(i)+\"4\"][j]))**2\n",
    "        \n",
    "V_F = Fsum1 + Fsum2 + Fsum3 + Gsum1 + Gsum2 + Gsum3\n",
    "\n",
    "print(time.time() - start)"
   ]
  },
  {
   "cell_type": "code",
   "execution_count": 22,
   "id": "8f1ef8c3",
   "metadata": {
    "scrolled": false
   },
   "outputs": [
    {
     "name": "stdout",
     "output_type": "stream",
     "text": [
      "Matrix([[4*P21*(P14(0)*Q21 + P21*Q14(0) + P23*Q34(0) + P34(0)*Q23 + sqrt(2)*(-P24(0)*X47_00 - Q24(0)*X46_00)/2 + sqrt(2)*(P24(1)*X46_01 - P24(1)*X47_01 - Q24(1)*X46_01 - Q24(1)*X47_01)/2) + 4*P31*(P14(0)*Q31 + P24(0)*Q32 + P31*Q14(0) + P32*Q24(0) + sqrt(2)*(-P34(0)*X49_00 - Q34(0)*X48_00)/2 + sqrt(2)*(P34(1)*X48_01 - P34(1)*X49_01 - Q34(1)*X48_01 - Q34(1)*X49_01)/2) + 2*P41(0)*(P14(0)*Q41(0) + P41(0)*Q14(0) + im(c41)/g**2) + 2*P41(0)*(P14(0)*Q41(0) + P14(1)*Q41(1) + P41(0)*Q14(0) + P41(1)*Q14(1) + 2*im(c14)/g**2) + 2*P41(1)*(P14(0)*Q41(1) + P41(1)*Q14(0) + X46_00*X48_01/2 - X46_00*X49_01/2 - X46_01*X48_00/2 + X46_01*X48_11/2 + X46_01*X49_00/2 - X46_01*X49_11/2 - X46_11*X48_01/2 + X46_11*X49_01/2 - X47_00*X48_01/2 - X47_00*X49_01/2 + X47_01*X48_00/2 - X47_01*X48_11/2 + X47_01*X49_00/2 - X47_01*X49_11/2 + X47_11*X48_01/2 + X47_11*X49_01/2) + 2*P42(0)*(sqrt(2)*P12*X19/2 - sqrt(2)*P12*X29/2 + P13*Q32 + P14(0)*Q42(0) + P14(1)*Q42(1) + P32*Q13 + P42(0)*Q14(0) + P42(1)*Q14(1) + sqrt(2)*Q12*X18/2 - sqrt(2)*Q12*X28/2) + 2*P43(0)*(P12*Q23 - sqrt(2)*P13*X17/2 + sqrt(2)*P13*X37/2 + P14(0)*Q43(0) + P14(1)*Q43(1) + P23*Q12 + P43(0)*Q14(0) + P43(1)*Q14(1) - sqrt(2)*Q13*X16/2 + sqrt(2)*Q13*X36/2) - 4*Q21*(P14(0)*P21 + P23*P34(0) - Q14(0)*Q21 - Q23*Q34(0) + sqrt(2)*(-P24(0)*X46_00 + Q24(0)*X47_00)/2 + sqrt(2)*(-P24(1)*X46_01 - P24(1)*X47_01 - Q24(1)*X46_01 + Q24(1)*X47_01)/2) - 4*Q31*(P14(0)*P31 + P24(0)*P32 - Q14(0)*Q31 - Q24(0)*Q32 + sqrt(2)*(-P34(0)*X48_00 + Q34(0)*X49_00)/2 + sqrt(2)*(-P34(1)*X48_01 - P34(1)*X49_01 - Q34(1)*X48_01 + Q34(1)*X49_01)/2) - 2*Q41(0)*(P14(0)*P41(0) - Q14(0)*Q41(0) + re(c41)/g**2) - 2*Q41(0)*(P14(0)*P41(0) + P14(1)*P41(1) - Q14(0)*Q41(0) - Q14(1)*Q41(1) + 2*re(c14)/g**2) - 2*Q41(1)*(P14(0)*P41(1) - Q14(0)*Q41(1) - X46_00*X48_01/2 - X46_00*X49_01/2 + X46_01*X48_00/2 - X46_01*X48_11/2 + X46_01*X49_00/2 - X46_01*X49_11/2 + X46_11*X48_01/2 + X46_11*X49_01/2 - X47_00*X48_01/2 + X47_00*X49_01/2 + X47_01*X48_00/2 - X47_01*X48_11/2 - X47_01*X49_00/2 + X47_01*X49_11/2 + X47_11*X48_01/2 - X47_11*X49_01/2) - 2*Q42(0)*(sqrt(2)*P12*X18/2 - sqrt(2)*P12*X28/2 + P13*P32 + P14(0)*P42(0) + P14(1)*P42(1) - sqrt(2)*Q12*X19/2 + sqrt(2)*Q12*X29/2 - Q13*Q32 - Q14(0)*Q42(0) - Q14(1)*Q42(1)) - 2*Q43(0)*(P12*P23 - sqrt(2)*P13*X16/2 + sqrt(2)*P13*X36/2 + P14(0)*P43(0) + P14(1)*P43(1) - Q12*Q23 + sqrt(2)*Q13*X17/2 - sqrt(2)*Q13*X37/2 - Q14(0)*Q43(0) - Q14(1)*Q43(1)) - 2*sqrt(2)*X44_00*(P12*Q24(0) - P13*Q34(0) + P24(0)*Q12 - P34(0)*Q13 + sqrt(2)*(-P14(0)*X45_00 - Q14(0)*X44_00)/2 + sqrt(2)*(P14(1)*X44_01 - P14(1)*X45_01 - Q14(1)*X44_01 - Q14(1)*X45_01)/2) + 2*sqrt(2)*X45_00*(P12*P24(0) - P13*P34(0) - Q12*Q24(0) + Q13*Q34(0) + sqrt(2)*(-P14(0)*X44_00 + Q14(0)*X45_00)/2 + sqrt(2)*(-P14(1)*X44_01 - P14(1)*X45_01 - Q14(1)*X44_01 + Q14(1)*X45_01)/2) + 2*sqrt(2)*(-X44_01 + X45_01)*(P12*Q24(1) - P13*Q34(1) + P24(1)*Q12 - P34(1)*Q13 + sqrt(2)*(-P14(1)*X45_11 - Q14(1)*X44_11)/2 + sqrt(2)*(-P14(0)*X44_01 - P14(0)*X45_01 - Q14(0)*X44_01 + Q14(0)*X45_01)/2) + 2*sqrt(2)*(X44_01 + X45_01)*(P12*P24(1) - P13*P34(1) - Q12*Q24(1) + Q13*Q34(1) + sqrt(2)*(-P14(1)*X44_11 + Q14(1)*X45_11)/2 + sqrt(2)*(-P14(0)*X44_01 + P14(0)*X45_01 + Q14(0)*X44_01 + Q14(0)*X45_01)/2), 4*P21*(P14(1)*Q21 + P21*Q14(1) + P23*Q34(1) + P34(1)*Q23 + sqrt(2)*(-P24(1)*X47_11 - Q24(1)*X46_11)/2 + sqrt(2)*(-P24(0)*X46_01 - P24(0)*X47_01 - Q24(0)*X46_01 + Q24(0)*X47_01)/2) + 4*P31*(P14(1)*Q31 + P24(1)*Q32 + P31*Q14(1) + P32*Q24(1) + sqrt(2)*(-P34(1)*X49_11 - Q34(1)*X48_11)/2 + sqrt(2)*(-P34(0)*X48_01 - P34(0)*X49_01 - Q34(0)*X48_01 + Q34(0)*X49_01)/2) + 2*P41(0)*(P14(1)*Q41(0) + P41(0)*Q14(1) + X46_00*X48_01/2 + X46_00*X49_01/2 - X46_01*X48_00/2 + X46_01*X48_11/2 - X46_01*X49_00/2 + X46_01*X49_11/2 - X46_11*X48_01/2 - X46_11*X49_01/2 + X47_00*X48_01/2 - X47_00*X49_01/2 - X47_01*X48_00/2 + X47_01*X48_11/2 + X47_01*X49_00/2 - X47_01*X49_11/2 - X47_11*X48_01/2 + X47_11*X49_01/2) + 2*P41(1)*(P14(1)*Q41(1) + P41(1)*Q14(1) + im(c41)/g**2) + 2*P41(1)*(P14(0)*Q41(0) + P14(1)*Q41(1) + P41(0)*Q14(0) + P41(1)*Q14(1) + 2*im(c14)/g**2) + 2*P42(1)*(sqrt(2)*P12*X19/2 - sqrt(2)*P12*X29/2 + P13*Q32 + P14(0)*Q42(0) + P14(1)*Q42(1) + P32*Q13 + P42(0)*Q14(0) + P42(1)*Q14(1) + sqrt(2)*Q12*X18/2 - sqrt(2)*Q12*X28/2) + 2*P43(1)*(P12*Q23 - sqrt(2)*P13*X17/2 + sqrt(2)*P13*X37/2 + P14(0)*Q43(0) + P14(1)*Q43(1) + P23*Q12 + P43(0)*Q14(0) + P43(1)*Q14(1) - sqrt(2)*Q13*X16/2 + sqrt(2)*Q13*X36/2) - 4*Q21*(P14(1)*P21 + P23*P34(1) - Q14(1)*Q21 - Q23*Q34(1) + sqrt(2)*(-P24(1)*X46_11 + Q24(1)*X47_11)/2 + sqrt(2)*(-P24(0)*X46_01 + P24(0)*X47_01 + Q24(0)*X46_01 + Q24(0)*X47_01)/2) - 4*Q31*(P14(1)*P31 + P24(1)*P32 - Q14(1)*Q31 - Q24(1)*Q32 + sqrt(2)*(-P34(1)*X48_11 + Q34(1)*X49_11)/2 + sqrt(2)*(-P34(0)*X48_01 + P34(0)*X49_01 + Q34(0)*X48_01 + Q34(0)*X49_01)/2) - 2*Q41(0)*(P14(1)*P41(0) - Q14(1)*Q41(0) + X46_00*X48_01/2 - X46_00*X49_01/2 - X46_01*X48_00/2 + X46_01*X48_11/2 + X46_01*X49_00/2 - X46_01*X49_11/2 - X46_11*X48_01/2 + X46_11*X49_01/2 - X47_00*X48_01/2 - X47_00*X49_01/2 + X47_01*X48_00/2 - X47_01*X48_11/2 + X47_01*X49_00/2 - X47_01*X49_11/2 + X47_11*X48_01/2 + X47_11*X49_01/2) - 2*Q41(1)*(P14(1)*P41(1) - Q14(1)*Q41(1) + re(c41)/g**2) - 2*Q41(1)*(P14(0)*P41(0) + P14(1)*P41(1) - Q14(0)*Q41(0) - Q14(1)*Q41(1) + 2*re(c14)/g**2) - 2*Q42(1)*(sqrt(2)*P12*X18/2 - sqrt(2)*P12*X28/2 + P13*P32 + P14(0)*P42(0) + P14(1)*P42(1) - sqrt(2)*Q12*X19/2 + sqrt(2)*Q12*X29/2 - Q13*Q32 - Q14(0)*Q42(0) - Q14(1)*Q42(1)) - 2*Q43(1)*(P12*P23 - sqrt(2)*P13*X16/2 + sqrt(2)*P13*X36/2 + P14(0)*P43(0) + P14(1)*P43(1) - Q12*Q23 + sqrt(2)*Q13*X17/2 - sqrt(2)*Q13*X37/2 - Q14(0)*Q43(0) - Q14(1)*Q43(1)) - 2*sqrt(2)*X44_11*(P12*Q24(1) - P13*Q34(1) + P24(1)*Q12 - P34(1)*Q13 + sqrt(2)*(-P14(1)*X45_11 - Q14(1)*X44_11)/2 + sqrt(2)*(-P14(0)*X44_01 - P14(0)*X45_01 - Q14(0)*X44_01 + Q14(0)*X45_01)/2) + 2*sqrt(2)*X45_11*(P12*P24(1) - P13*P34(1) - Q12*Q24(1) + Q13*Q34(1) + sqrt(2)*(-P14(1)*X44_11 + Q14(1)*X45_11)/2 + sqrt(2)*(-P14(0)*X44_01 + P14(0)*X45_01 + Q14(0)*X44_01 + Q14(0)*X45_01)/2) + 2*sqrt(2)*(-X44_01 - X45_01)*(P12*Q24(0) - P13*Q34(0) + P24(0)*Q12 - P34(0)*Q13 + sqrt(2)*(-P14(0)*X45_00 - Q14(0)*X44_00)/2 + sqrt(2)*(P14(1)*X44_01 - P14(1)*X45_01 - Q14(1)*X44_01 - Q14(1)*X45_01)/2) + 2*sqrt(2)*(-X44_01 + X45_01)*(P12*P24(0) - P13*P34(0) - Q12*Q24(0) + Q13*Q34(0) + sqrt(2)*(-P14(0)*X44_00 + Q14(0)*X45_00)/2 + sqrt(2)*(-P14(1)*X44_01 - P14(1)*X45_01 - Q14(1)*X44_01 + Q14(1)*X45_01)/2)]])\n"
     ]
    }
   ],
   "source": [
    "print(V_F.diff(sp.im(Z[\"14\"])))"
   ]
  },
  {
   "cell_type": "code",
   "execution_count": null,
   "id": "ecb597dd",
   "metadata": {},
   "outputs": [],
   "source": []
  },
  {
   "cell_type": "code",
   "execution_count": null,
   "id": "2fa30840",
   "metadata": {},
   "outputs": [],
   "source": []
  }
 ],
 "metadata": {
  "kernelspec": {
   "display_name": "Python 3 (ipykernel)",
   "language": "python",
   "name": "python3"
  },
  "language_info": {
   "codemirror_mode": {
    "name": "ipython",
    "version": 3
   },
   "file_extension": ".py",
   "mimetype": "text/x-python",
   "name": "python",
   "nbconvert_exporter": "python",
   "pygments_lexer": "ipython3",
   "version": "3.8.17"
  }
 },
 "nbformat": 4,
 "nbformat_minor": 5
}
