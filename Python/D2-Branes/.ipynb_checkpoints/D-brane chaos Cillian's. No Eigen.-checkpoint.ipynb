{
 "cells": [
  {
   "cell_type": "code",
   "execution_count": 76,
   "id": "5bb6502a",
   "metadata": {},
   "outputs": [],
   "source": [
    "import sympy as sp\n",
    "import numpy as np\n",
    "import time \n",
    "from sympy import *\n",
    "N = 2"
   ]
  },
  {
   "cell_type": "code",
   "execution_count": 77,
   "id": "88e138ee",
   "metadata": {},
   "outputs": [
    {
     "name": "stdout",
     "output_type": "stream",
     "text": [
      "Id + Matrix([\n",
      "[X43_00*X44_00 + (X43_01 + I*X43_01)*(X44_01 - I*X44_01), X43_00*(X44_01 + I*X44_01) + X44_11*(X43_01 + I*X43_01)],\n",
      "[X43_11*(X44_01 - I*X44_01) + X44_00*(X43_01 - I*X43_01), X43_11*X44_11 + (X43_01 - I*X43_01)*(X44_01 + I*X44_01)]])\n"
     ]
    }
   ],
   "source": [
    "from sympy.printing import StrPrinter\n",
    "\n",
    "class CustomPrinter(StrPrinter):\n",
    "    \n",
    "    def _print_Identity(self, expr):\n",
    "        return \"Id\"\n",
    "    \n",
    "\n",
    "# Create an instance of your custom printer\n",
    "custom_printer = CustomPrinter()\n",
    "\n",
    "# Print expressions using the custom printer\n",
    "print(custom_printer.doprint(X[\"43\"]*X[\"44\"]+Identity(N)))\n"
   ]
  },
  {
   "cell_type": "markdown",
   "id": "b6b0cb0b",
   "metadata": {},
   "source": [
    "## Creating constants"
   ]
  },
  {
   "cell_type": "code",
   "execution_count": null,
   "id": "c3a6f616",
   "metadata": {},
   "outputs": [],
   "source": []
  },
  {
   "cell_type": "code",
   "execution_count": 78,
   "id": "a00f5991",
   "metadata": {},
   "outputs": [],
   "source": [
    "#Correct\n",
    "g = symbols(\"g\", real = True)\n",
    "c1, c2, c3, c4 =symbols(\"c1 c2 c3 c4\", real = True)\n",
    "c12, c13, c14 = symbols(\"c12 c13 c14\", real = True)\n",
    "c23, c24, c34 = symbols(\"c23 c24 c34\", real = True)"
   ]
  },
  {
   "cell_type": "markdown",
   "id": "6b56a04e",
   "metadata": {},
   "source": [
    "## Creating X coordinates (using sp.Matrix for the 4th stack)"
   ]
  },
  {
   "cell_type": "code",
   "execution_count": 48,
   "id": "f982a33e",
   "metadata": {},
   "outputs": [],
   "source": [
    "#Correct\n",
    "# Creating a dictionary to store the X coordinates\n",
    "X = {}\n",
    "for i in np.arange(1,4):\n",
    "    for j in np.arange(1,10):\n",
    "        X[str(i)+str(j)] = sp.Symbol(\"X\"+str(i)+str(j), real = True)\n",
    "            \n",
    "for i in np.arange(1,10):\n",
    "    #initialise a matrix of correct shape\n",
    "    X_init = []\n",
    "    for j in np.arange(1,N+1):\n",
    "        row = []\n",
    "        for k in np.arange(1,N+1):\n",
    "            row.append(sp.Symbol(\"4\"+str(i)+\"_{\"+str(j)+str(k)+\"}\"))\n",
    "        X_init.append(row)\n",
    "    X[\"4\"+str(i)] = sp.Matrix(X_init)\n",
    "    \n",
    "    for j in np.arange(N):\n",
    "        for k in np.arange(N):\n",
    "            if j == k:\n",
    "                X[\"4\"+str(i)][j,k] = sp.Symbol(\"X4\"+str(i)+\"_\"+str(j)+str(k), real = True)\n",
    "            elif j > k:\n",
    "                continue\n",
    "            else:\n",
    "                x_ij = sp.Symbol(\"X4\"+str(i)+\"_\"+str(j)+str(k), real = True)\n",
    "                y_ij = sp.Symbol(\"X4\"+str(i)+\"_\"+str(j)+str(k), real = True)\n",
    "                X[\"4\"+str(i)][j,k] = x_ij + sp.I*y_ij\n",
    "                X[\"4\"+str(i)][k,j] = x_ij - sp.I*y_ij"
   ]
  },
  {
   "cell_type": "markdown",
   "id": "61c09e07",
   "metadata": {},
   "source": [
    "## Creating X_dot coordinates (using sp.Matrix for the 4th stack)"
   ]
  },
  {
   "cell_type": "code",
   "execution_count": 50,
   "id": "f5c3ebc1",
   "metadata": {},
   "outputs": [],
   "source": [
    "#Correct\n",
    "# Creating a dictionary to store the X coordinates\n",
    "X_dot = {}\n",
    "for i in np.arange(1,4):\n",
    "    for j in np.arange(1,10):\n",
    "        X_dot[str(i)+str(j)] = sp.Symbol(\"X_dot\"+str(i)+str(j), real = True)\n",
    "            \n",
    "for i in np.arange(1,10):\n",
    "    #initialise a matrix of correct shape\n",
    "    X_init = []\n",
    "    for j in np.arange(1,N+1):\n",
    "        row = []\n",
    "        for k in np.arange(1,N+1):\n",
    "            row.append(sp.Symbol(\"4\"+str(i)+\"_{\"+str(j)+str(k)+\"}\"))\n",
    "        X_init.append(row)\n",
    "    X_dot[\"4\"+str(i)] = sp.Matrix(X_init)\n",
    "    \n",
    "    for j in np.arange(N):\n",
    "        for k in np.arange(N):\n",
    "            if j == k:\n",
    "                X_dot[\"4\"+str(i)][j,k] = sp.Symbol(\"X_dot4\"+str(i)+\"_\"+str(j)+str(k), real = True)\n",
    "            elif j > k:\n",
    "                continue\n",
    "            else:\n",
    "                x_ij = sp.Symbol(\"ReX_dot4\"+str(i)+\"_\"+str(j)+str(k), real = True)\n",
    "                y_ij = sp.Symbol(\"ImX_dot4\"+str(i)+\"_\"+str(j)+str(k), real = True)\n",
    "                X_dot[\"4\"+str(i)][j,k] = x_ij + sp.I*y_ij\n",
    "                X_dot[\"4\"+str(i)][k,j] = x_ij - sp.I*y_ij"
   ]
  },
  {
   "cell_type": "markdown",
   "id": "607747e6",
   "metadata": {},
   "source": [
    "## Creating the $\\phi$'s and $\\phi^{\\dagger}$'s and $\\phi^{(ij)}$"
   ]
  },
  {
   "cell_type": "code",
   "execution_count": 93,
   "id": "c1702ab2",
   "metadata": {},
   "outputs": [],
   "source": [
    "#Correct\n",
    "phi = {}\n",
    "phi_ = {}\n",
    "phi_dag = {}\n",
    "phi__dag = {}\n",
    "for i in np.arange(1,5):\n",
    "    phi[str(i)+\"1\"] = 1/sp.sqrt(2) * (X[str(i)+\"4\"] + sp.I * X[str(i)+\"5\"])\n",
    "    phi[str(i)+\"2\"] = 1/sp.sqrt(2) * (X[str(i)+\"6\"] + sp.I * X[str(i)+\"7\"])\n",
    "    phi[str(i)+\"3\"] = 1/sp.sqrt(2) * (X[str(i)+\"8\"] + sp.I * X[str(i)+\"9\"])\n",
    "    \n",
    "    phi_dag[str(i)+\"1\"] = 1/sp.sqrt(2) * (X[str(i)+\"4\"] - sp.I * X[str(i)+\"5\"])\n",
    "    phi_dag[str(i)+\"2\"] = 1/sp.sqrt(2) * (X[str(i)+\"6\"] - sp.I * X[str(i)+\"7\"])\n",
    "    phi_dag[str(i)+\"3\"] = 1/sp.sqrt(2) * (X[str(i)+\"8\"] - sp.I * X[str(i)+\"9\"])\n",
    "    \n",
    "phi_[\"12\"] = phi[\"13\"] - phi[\"23\"]\n",
    "phi_[\"23\"] = phi[\"21\"] - phi[\"31\"]\n",
    "phi_[\"31\"] = phi[\"32\"] - phi[\"12\"]\n",
    "\n",
    "phi__dag[\"12\"] = phi_dag[\"13\"] - phi_dag[\"23\"]\n",
    "phi__dag[\"23\"] = phi_dag[\"21\"] - phi_dag[\"31\"]\n",
    "phi__dag[\"31\"] = phi_dag[\"32\"] - phi_dag[\"12\"]\n"
   ]
  },
  {
   "cell_type": "markdown",
   "id": "ad124cfc",
   "metadata": {},
   "source": [
    "## Creating Z coordinates"
   ]
  },
  {
   "cell_type": "code",
   "execution_count": 94,
   "id": "992433af",
   "metadata": {},
   "outputs": [],
   "source": [
    "#correct\n",
    "# Building the Z-dictionary\n",
    "Z = {}\n",
    "for i in np.arange(1,4):\n",
    "    #Scalars here\n",
    "    for j in np.arange(1,4):\n",
    "        if i == j: \n",
    "            continue\n",
    "        else:\n",
    "            P = sp.Symbol(\"P\"+str(i) + str(j), real = True)\n",
    "            Q = sp.Symbol(\"Q\"+str(i) + str(j), real = True)\n",
    "            Z[str(i) + str(j)] = (P + sp.I * Q)\n",
    "    \n",
    "    #Vectors here\n",
    "    store_current_4i = []\n",
    "    store_current_i4 = []\n",
    "    for j in np.arange(N):\n",
    "        P4i = sp.Symbol(\"P\"+str(4)+str(i)+\"(\"+str(j)+\")\", real = True)\n",
    "        Q4i = sp.Symbol(\"Q\"+str(4)+str(i)+\"(\"+str(j)+\")\", real = True)\n",
    "        Pi4 = sp.Symbol(\"P\"+str(i)+str(4)+\"(\"+str(j)+\")\", real = True)\n",
    "        Qi4 = sp.Symbol(\"Q\"+str(i)+str(4)+\"(\"+str(j)+\")\", real = True)\n",
    "        store_current_4i.append([P4i + sp.I * Q4i])\n",
    "        store_current_i4.append([Pi4 + sp.I * Qi4])\n",
    "    Z[\"4\"+str(i)] = sp.Matrix(store_current_4i)\n",
    "    Z[str(i) + \"4\"] = sp.Matrix(store_current_i4).transpose()"
   ]
  },
  {
   "cell_type": "markdown",
   "id": "34c0b5dd",
   "metadata": {},
   "source": [
    "## Creating the F variables"
   ]
  },
  {
   "cell_type": "code",
   "execution_count": 95,
   "id": "5d075d7f",
   "metadata": {},
   "outputs": [],
   "source": [
    "F = {}\n",
    "\n",
    "#Scalars\n",
    "for i in np.arange(1,4):\n",
    "    for j in np.arange(1,5):\n",
    "        if i == j:\n",
    "            continue\n",
    "        if j == 4:\n",
    "            F[str(i)+str(j)] = (Z[str(i)+str(j)] * Z[str(j)+str(i)])[0] + N*sp.Symbol(\"c\"+str(i)+str(j))/g**2\n",
    "        else:\n",
    "            F[str(i)+str(j)] = Z[str(i)+str(j)] * Z[str(j)+str(i)] + sp.Symbol(\"c\"+str(i)+str(j))/g**2 \n",
    "\n",
    "F[\"41\"] = Z[\"41\"]*Z[\"14\"] + (sp.Symbol(\"c41\")/g**2)*sp.eye(N) +  phi[\"42\"]*phi[\"43\"] - phi[\"43\"]*phi[\"42\"]\n",
    "F[\"42\"] = Z[\"42\"]*Z[\"24\"] + (sp.Symbol(\"c42\")/g**2)*sp.eye(N) +  phi[\"43\"]*phi[\"41\"] - phi[\"41\"]*phi[\"43\"]\n",
    "F[\"43\"] = Z[\"43\"]*Z[\"34\"] + (sp.Symbol(\"c43\")/g**2)*sp.eye(N) -  phi[\"42\"]*phi[\"41\"] + phi[\"41\"]*phi[\"42\"]"
   ]
  },
  {
   "cell_type": "markdown",
   "id": "7f16420c",
   "metadata": {},
   "source": [
    "## Writing in the G's"
   ]
  },
  {
   "cell_type": "code",
   "execution_count": 96,
   "id": "efda841f",
   "metadata": {},
   "outputs": [],
   "source": [
    "G = {}\n",
    "\n",
    "G[\"21\"] = phi_[\"12\"]*Z[\"21\"] + Z[\"23\"]*Z[\"31\"] + (Z[\"24\"]*Z[\"41\"])[0]\n",
    "G[\"12\"] = phi_[\"12\"]*Z[\"12\"] + Z[\"13\"]*Z[\"32\"] + (Z[\"14\"]*Z[\"42\"])[0]\n",
    "\n",
    "G[\"31\"] = phi_[\"31\"]*Z[\"31\"] + Z[\"32\"]*Z[\"21\"] - (Z[\"34\"]*Z[\"41\"])[0]\n",
    "G[\"13\"] = phi_[\"31\"]*Z[\"13\"] + Z[\"12\"]*Z[\"23\"] + (Z[\"14\"]*Z[\"43\"])[0]\n",
    "\n",
    "G[\"32\"] = phi_[\"23\"]*Z[\"32\"] + Z[\"31\"]*Z[\"12\"] + (Z[\"34\"]*Z[\"42\"])[0]\n",
    "G[\"23\"] = phi_[\"23\"]*Z[\"23\"] + Z[\"21\"]*Z[\"13\"] + (Z[\"24\"]*Z[\"43\"])[0]\n",
    "\n",
    "G[\"41\"] = -phi[\"41\"]*Z[\"41\"] + Z[\"42\"]*Z[\"21\"] + Z[\"43\"]*Z[\"31\"]\n",
    "G[\"14\"] = -Z[\"14\"]*phi[\"41\"] + Z[\"12\"]*Z[\"24\"] - Z[\"13\"]*Z[\"34\"]\n",
    "\n",
    "G[\"42\"] = -phi[\"42\"]*Z[\"42\"] + Z[\"43\"]*Z[\"32\"] + Z[\"41\"]*Z[\"12\"]\n",
    "G[\"24\"] = -Z[\"24\"]*phi[\"42\"] + Z[\"21\"]*Z[\"14\"] + Z[\"23\"]*Z[\"34\"]\n",
    "\n",
    "G[\"43\"] = -phi[\"43\"]*Z[\"43\"] - Z[\"41\"]*Z[\"13\"] + Z[\"42\"]*Z[\"23\"]\n",
    "G[\"34\"] = -Z[\"34\"]*phi[\"43\"] + Z[\"31\"]*Z[\"14\"] + Z[\"32\"]*Z[\"24\"]\n",
    "\n",
    "scalar_G = [G[\"12\"],G[\"21\"],G[\"13\"],G[\"31\"],G[\"23\"],G[\"32\"]]"
   ]
  },
  {
   "cell_type": "markdown",
   "id": "d12dbc01",
   "metadata": {},
   "source": [
    "## Hs"
   ]
  },
  {
   "cell_type": "code",
   "execution_count": null,
   "id": "769d97e1",
   "metadata": {},
   "outputs": [],
   "source": []
  },
  {
   "cell_type": "markdown",
   "id": "2701cd5a",
   "metadata": {},
   "source": [
    "## Ys"
   ]
  },
  {
   "cell_type": "code",
   "execution_count": 97,
   "id": "0ece92ae",
   "metadata": {},
   "outputs": [
    {
     "data": {
      "text/latex": [
       "$\\displaystyle \\frac{\\sqrt{2} \\left(X_{24} + i X_{25}\\right)}{2}$"
      ],
      "text/plain": [
       "sqrt(2)*(X24 + I*X25)/2"
      ]
     },
     "execution_count": 97,
     "metadata": {},
     "output_type": "execute_result"
    }
   ],
   "source": [
    "phi[\"21\"]"
   ]
  },
  {
   "cell_type": "code",
   "execution_count": 98,
   "id": "f7b3f5da",
   "metadata": {},
   "outputs": [
    {
     "name": "stdout",
     "output_type": "stream",
     "text": [
      "Matrix([[-sqrt(2)*(X43_01 - I*X43_01)*(X46_01 + I*X46_01 + I*(X47_01 + I*X47_01))/2 + sqrt(2)*(X43_01 + I*X43_01)*(X46_01 - I*X46_01 + I*(X47_01 - I*X47_01))/2, sqrt(2)*X43_00*(X46_01 + I*X46_01 + I*(X47_01 + I*X47_01))/2 - sqrt(2)*X43_11*(X46_01 + I*X46_01 + I*(X47_01 + I*X47_01))/2 - sqrt(2)*(X43_01 + I*X43_01)*(X46_00 + I*X47_00)/2 + sqrt(2)*(X43_01 + I*X43_01)*(X46_11 + I*X47_11)/2], [-sqrt(2)*X43_00*(X46_01 - I*X46_01 + I*(X47_01 - I*X47_01))/2 + sqrt(2)*X43_11*(X46_01 - I*X46_01 + I*(X47_01 - I*X47_01))/2 + sqrt(2)*(X43_01 - I*X43_01)*(X46_00 + I*X47_00)/2 - sqrt(2)*(X43_01 - I*X43_01)*(X46_11 + I*X47_11)/2, sqrt(2)*(X43_01 - I*X43_01)*(X46_01 + I*X46_01 + I*(X47_01 + I*X47_01))/2 - sqrt(2)*(X43_01 + I*X43_01)*(X46_01 - I*X46_01 + I*(X47_01 - I*X47_01))/2]])\n"
     ]
    }
   ],
   "source": [
    "print(Y[\"432\"])"
   ]
  },
  {
   "cell_type": "code",
   "execution_count": 99,
   "id": "705c840e",
   "metadata": {},
   "outputs": [],
   "source": [
    "Y = {}\n",
    "\n",
    "for i in np.arange(1,5):\n",
    "    for j in np.arange(1,4):\n",
    "        for k in np.arange(1,4):\n",
    "            Y[str(i)+str(j)+str(k)] = X[str(i)+str(j)]*phi[str(i)+str(k)] - phi[str(i)+str(k)]*X[str(i)+str(j)]\n",
    "            \n",
    "Y_dag = {}\n",
    "\n",
    "for i in np.arange(1,5):\n",
    "    for j in np.arange(1,4):\n",
    "        for k in np.arange(1,4):\n",
    "            Y_dag[str(i)+str(j)+str(k)] = - X[str(i)+str(j)]*phi_dag[str(i)+str(k)] + phi_dag[str(i)+str(k)]*X[str(i)+str(j)]"
   ]
  },
  {
   "cell_type": "code",
   "execution_count": 114,
   "id": "20b69096",
   "metadata": {},
   "outputs": [
    {
     "data": {
      "text/latex": [
       "$\\displaystyle \\left[\\begin{matrix}\\frac{\\sqrt{2} \\left(X_{46 00} + i X_{47 00}\\right)}{2} & \\frac{\\sqrt{2} \\left(X_{46 01} + i X_{46 01} + i \\left(X_{47 01} + i X_{47 01}\\right)\\right)}{2}\\\\\\frac{\\sqrt{2} \\left(X_{46 01} - i X_{46 01} + i \\left(X_{47 01} - i X_{47 01}\\right)\\right)}{2} & \\frac{\\sqrt{2} \\left(X_{46 11} + i X_{47 11}\\right)}{2}\\end{matrix}\\right]$"
      ],
      "text/plain": [
       "Matrix([\n",
       "[                        sqrt(2)*(X46_00 + I*X47_00)/2, sqrt(2)*(X46_01 + I*X46_01 + I*(X47_01 + I*X47_01))/2],\n",
       "[sqrt(2)*(X46_01 - I*X46_01 + I*(X47_01 - I*X47_01))/2,                         sqrt(2)*(X46_11 + I*X47_11)/2]])"
      ]
     },
     "execution_count": 114,
     "metadata": {},
     "output_type": "execute_result"
    }
   ],
   "source": [
    "phi[\"42\"]"
   ]
  },
  {
   "cell_type": "code",
   "execution_count": 111,
   "id": "a8197d63",
   "metadata": {},
   "outputs": [
    {
     "data": {
      "text/latex": [
       "$\\displaystyle \\frac{\\sqrt{2} \\left(X_{43 01} - i X_{43 01}\\right) \\left(X_{46 01} + i X_{46 01} - i \\left(X_{47 01} + i X_{47 01}\\right)\\right)}{2} - \\frac{\\sqrt{2} \\left(X_{43 01} + i X_{43 01}\\right) \\left(X_{46 01} - i X_{46 01} - i \\left(X_{47 01} - i X_{47 01}\\right)\\right)}{2}$"
      ],
      "text/plain": [
       "sqrt(2)*(X43_01 - I*X43_01)*(X46_01 + I*X46_01 - I*(X47_01 + I*X47_01))/2 - sqrt(2)*(X43_01 + I*X43_01)*(X46_01 - I*X46_01 - I*(X47_01 - I*X47_01))/2"
      ]
     },
     "execution_count": 111,
     "metadata": {},
     "output_type": "execute_result"
    }
   ],
   "source": [
    "(Y[\"432\"].adjoint())[0]"
   ]
  },
  {
   "cell_type": "code",
   "execution_count": 112,
   "id": "64b2b012",
   "metadata": {},
   "outputs": [
    {
     "data": {
      "text/latex": [
       "$\\displaystyle 0$"
      ],
      "text/plain": [
       "0"
      ]
     },
     "execution_count": 112,
     "metadata": {},
     "output_type": "execute_result"
    }
   ],
   "source": [
    " Y_dag[\"432\"][0].expand()"
   ]
  },
  {
   "cell_type": "markdown",
   "id": "e4572994",
   "metadata": {},
   "source": [
    "## K"
   ]
  },
  {
   "cell_type": "code",
   "execution_count": null,
   "id": "1f4502a7",
   "metadata": {},
   "outputs": [],
   "source": []
  },
  {
   "cell_type": "markdown",
   "id": "b4b4d310",
   "metadata": {},
   "source": [
    "## V_D"
   ]
  },
  {
   "cell_type": "code",
   "execution_count": null,
   "id": "8a4975a0",
   "metadata": {},
   "outputs": [],
   "source": []
  },
  {
   "cell_type": "markdown",
   "id": "a18cfa15",
   "metadata": {},
   "source": [
    "## V_gauge"
   ]
  },
  {
   "cell_type": "code",
   "execution_count": null,
   "id": "e599583e",
   "metadata": {},
   "outputs": [],
   "source": []
  },
  {
   "cell_type": "markdown",
   "id": "667d9bcc",
   "metadata": {},
   "source": [
    "## Creating $V_F$"
   ]
  },
  {
   "cell_type": "code",
   "execution_count": 13,
   "id": "51aac96d",
   "metadata": {},
   "outputs": [
    {
     "name": "stdout",
     "output_type": "stream",
     "text": [
      "0.8224499225616455\n"
     ]
    }
   ],
   "source": [
    "start = time.time()\n",
    "Fsum1 = sp.Symbol(\"\",real = True)\n",
    "Fsum2 = sp.Symbol(\"\",real = True)\n",
    "Fsum3 = sp.Symbol(\"\",real = True)\n",
    "Gsum1 = sp.Symbol(\"\",real = True)\n",
    "Gsum2 = sp.Symbol(\"\",real = True)\n",
    "Gsum3 = sp.Symbol(\"\",real = True)\n",
    "\n",
    "#Term 1\n",
    "for i in np.arange(1,4):\n",
    "    for j in np.arange(1,4):\n",
    "        if i == j:\n",
    "            continue\n",
    "        else:\n",
    "            Fsum1+= sp.re(F[str(i)+str(j)])**2 + sp.im(F[str(i)+str(j)])**2\n",
    "#Term 2\n",
    "for i in np.arange(1,4):\n",
    "    Fsum2 += sp.re(F[str(i)+\"4\"])**2 + sp.im(F[str(i)+\"4\"])**2\n",
    "    \n",
    "#Term 3\n",
    "for i in np.arange(1,4):\n",
    "    for j in np.arange(N):\n",
    "        for k in np.arange(N):\n",
    "            Fsum3 += sp.re(F[\"4\"+str(i)][j,k])**2 + sp.im(F[\"4\"+str(i)][j,k])**2\n",
    "            \n",
    "#Term 4\n",
    "for i in np.arange(6):\n",
    "    Gsum1 += (sp.re(scalar_G[i]))**2 + (sp.im(scalar_G[i]))**2\n",
    "    \n",
    "#Term 5\n",
    "for i in np.arange(1,4):\n",
    "    for j in np.arange(N):\n",
    "        Gsum2 += (sp.re(G[str(i)+\"4\"][j]))**2 + (sp.im(G[str(i)+\"4\"][j]))**2\n",
    "\n",
    "#Term 6\n",
    "for i in np.arange(1,4):\n",
    "    for j in np.arange(N):\n",
    "        Gsum3 += (sp.re(G[str(i)+\"4\"][j]))**2 + (sp.im(G[str(i)+\"4\"][j]))**2\n",
    "        \n",
    "V_F = Fsum1 + Fsum2 + Fsum3 + Gsum1 + Gsum2 + Gsum3\n",
    "\n",
    "print(time.time() - start)"
   ]
  },
  {
   "cell_type": "code",
   "execution_count": 14,
   "id": "8f1ef8c3",
   "metadata": {
    "scrolled": false
   },
   "outputs": [
    {
     "name": "stdout",
     "output_type": "stream",
     "text": [
      "2*P21*(P12*P21 - Q12*Q21 + re(c12)/g**2) + 2*P21*(P12*P21 - Q12*Q21 + re(c21)/g**2) + 2*P23*(P12*P23 - sqrt(2)*P13*X16/2 + sqrt(2)*P13*X36/2 + P14(0)*P43(0) + P14(1)*P43(1) - Q12*Q23 + sqrt(2)*Q13*X17/2 - sqrt(2)*Q13*X37/2 - Q14(0)*Q43(0) - Q14(1)*Q43(1)) + 4*P24(0)*(P12*P24(0) - P13*P34(0) - Q12*Q24(0) + Q13*Q34(0) + sqrt(2)*(-P14(0)*X44_00 + Q14(0)*X45_00)/2 + sqrt(2)*(-P14(1)*X44_01 - P14(1)*X45_01 - Q14(1)*X44_01 + Q14(1)*X45_01)/2) + 4*P24(1)*(P12*P24(1) - P13*P34(1) - Q12*Q24(1) + Q13*Q34(1) + sqrt(2)*(-P14(1)*X44_11 + Q14(1)*X45_11)/2 + sqrt(2)*(-P14(0)*X44_01 + P14(0)*X45_01 + Q14(0)*X44_01 + Q14(0)*X45_01)/2) + 2*P31*(P12*P31 + sqrt(2)*P32*X24/2 - sqrt(2)*P32*X34/2 + P34(0)*P42(0) + P34(1)*P42(1) - Q12*Q31 - sqrt(2)*Q32*X25/2 + sqrt(2)*Q32*X35/2 - Q34(0)*Q42(0) - Q34(1)*Q42(1)) + 2*Q21*(P12*Q21 + P21*Q12 + im(c12)/g**2) + 2*Q21*(P12*Q21 + P21*Q12 + im(c21)/g**2) + 2*Q23*(P12*Q23 - sqrt(2)*P13*X17/2 + sqrt(2)*P13*X37/2 + P14(0)*Q43(0) + P14(1)*Q43(1) + P23*Q12 + P43(0)*Q14(0) + P43(1)*Q14(1) - sqrt(2)*Q13*X16/2 + sqrt(2)*Q13*X36/2) + 4*Q24(0)*(P12*Q24(0) - P13*Q34(0) + P24(0)*Q12 - P34(0)*Q13 + sqrt(2)*(-P14(0)*X45_00 - Q14(0)*X44_00)/2 + sqrt(2)*(P14(1)*X44_01 - P14(1)*X45_01 - Q14(1)*X44_01 - Q14(1)*X45_01)/2) + 4*Q24(1)*(P12*Q24(1) - P13*Q34(1) + P24(1)*Q12 - P34(1)*Q13 + sqrt(2)*(-P14(1)*X45_11 - Q14(1)*X44_11)/2 + sqrt(2)*(-P14(0)*X44_01 - P14(0)*X45_01 - Q14(0)*X44_01 + Q14(0)*X45_01)/2) + 2*Q31*(P12*Q31 + P31*Q12 + sqrt(2)*P32*X25/2 - sqrt(2)*P32*X35/2 + P34(0)*Q42(0) + P34(1)*Q42(1) + P42(0)*Q34(0) + P42(1)*Q34(1) + sqrt(2)*Q32*X24/2 - sqrt(2)*Q32*X34/2) + (sqrt(2)*X18 - sqrt(2)*X28)*(sqrt(2)*P12*X18/2 - sqrt(2)*P12*X28/2 + P13*P32 + P14(0)*P42(0) + P14(1)*P42(1) - sqrt(2)*Q12*X19/2 + sqrt(2)*Q12*X29/2 - Q13*Q32 - Q14(0)*Q42(0) - Q14(1)*Q42(1)) + (sqrt(2)*X19 - sqrt(2)*X29)*(sqrt(2)*P12*X19/2 - sqrt(2)*P12*X29/2 + P13*Q32 + P14(0)*Q42(0) + P14(1)*Q42(1) + P32*Q13 + P42(0)*Q14(0) + P42(1)*Q14(1) + sqrt(2)*Q12*X18/2 - sqrt(2)*Q12*X28/2)\n"
     ]
    }
   ],
   "source": [
    "print(V_F.diff(sp.re(Z[\"12\"])))"
   ]
  },
  {
   "cell_type": "code",
   "execution_count": null,
   "id": "ecb597dd",
   "metadata": {},
   "outputs": [],
   "source": []
  },
  {
   "cell_type": "code",
   "execution_count": null,
   "id": "2fa30840",
   "metadata": {},
   "outputs": [],
   "source": []
  }
 ],
 "metadata": {
  "kernelspec": {
   "display_name": "Python 3 (ipykernel)",
   "language": "python",
   "name": "python3"
  },
  "language_info": {
   "codemirror_mode": {
    "name": "ipython",
    "version": 3
   },
   "file_extension": ".py",
   "mimetype": "text/x-python",
   "name": "python",
   "nbconvert_exporter": "python",
   "pygments_lexer": "ipython3",
   "version": "3.8.17"
  }
 },
 "nbformat": 4,
 "nbformat_minor": 5
}
