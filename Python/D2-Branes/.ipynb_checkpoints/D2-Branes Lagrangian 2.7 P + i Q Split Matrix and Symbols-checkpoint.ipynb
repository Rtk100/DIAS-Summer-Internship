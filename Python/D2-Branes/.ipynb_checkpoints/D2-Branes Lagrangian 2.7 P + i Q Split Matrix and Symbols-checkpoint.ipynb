{
 "cells": [
  {
   "cell_type": "code",
   "execution_count": 1,
   "id": "1dfe70b8",
   "metadata": {},
   "outputs": [],
   "source": [
    "from sympy import *\n",
    "from sympy.physics.quantum.dagger import Dagger\n",
    "from sympy import pprint\n",
    "from sympy.vector import CoordSys3D"
   ]
  },
  {
   "cell_type": "code",
   "execution_count": 2,
   "id": "c3f1f0e8",
   "metadata": {},
   "outputs": [],
   "source": [
    "from IPython.display import display, Latex\n",
    "init_printing(use_latex='mathjax') # sympy method"
   ]
  },
  {
   "cell_type": "code",
   "execution_count": 4,
   "id": "d0784677",
   "metadata": {},
   "outputs": [],
   "source": [
    "from sympy.printing import StrPrinter\n",
    "\n",
    "class CustomPrinter(StrPrinter):\n",
    "    def _print_ImaginaryUnit(self, expr):\n",
    "        return \"I\"\n",
    "    \n",
    "    def _print_Identity(self, expr):\n",
    "        return \"eye\""
   ]
  },
  {
   "cell_type": "markdown",
   "id": "d7f384c1",
   "metadata": {},
   "source": [
    "##### Number of D6-Branes\n",
    "\n",
    "N"
   ]
  },
  {
   "cell_type": "code",
   "execution_count": 5,
   "id": "13b8d153",
   "metadata": {},
   "outputs": [],
   "source": [
    "N = symbols(\"N\", real = True)\n",
    "#N = 2\n",
    "# Need an explicit number for N in order to use the .as_explicit() argument\n",
    "####### Cannot have an explicit N for derivatives as N is in the F definitions###########"
   ]
  },
  {
   "cell_type": "markdown",
   "id": "49e1fab4",
   "metadata": {},
   "source": [
    "Constants"
   ]
  },
  {
   "cell_type": "code",
   "execution_count": 6,
   "id": "7dae75da",
   "metadata": {},
   "outputs": [],
   "source": [
    "#Correct\n",
    "g = symbols(\"g\", real = True)\n",
    "c1, c2, c3, c4 =symbols(\"c1 c2 c3 c4\", real = True)\n",
    "c12, c13, c14 = symbols(\"c12 c13 c14\", real = True)\n",
    "c23, c24, c34 = symbols(\"c23 c24 c34\", real = True)"
   ]
  },
  {
   "cell_type": "markdown",
   "id": "701ccb73",
   "metadata": {},
   "source": [
    "$X^i$, i = 1,2,3 \n",
    "\n",
    "$\\dot{X^i}$, i = 1,2,3 "
   ]
  },
  {
   "cell_type": "code",
   "execution_count": 7,
   "id": "47b3344c",
   "metadata": {},
   "outputs": [],
   "source": [
    "#Correct\n",
    "X1_1, X1_2, X1_3, X1_4, X1_5, X1_6, X1_7, X1_8, X1_9 = symbols(\"X1_1 X1_2 X1_3 X1_4 X1_5 X1_6 X1_7 X1_8 X1_9\", real = True)\n",
    "X2_1, X2_2, X2_3, X2_4, X2_5, X2_6, X2_7, X2_8, X2_9 = symbols(\"X2_1 X2_2 X2_3 X2_4 X2_5 X2_6 X2_7 X2_8 X2_9\", real = True)\n",
    "X3_1, X3_2, X3_3, X3_4, X3_5, X3_6, X3_7, X3_8, X3_9 = symbols(\"X3_1 X3_2 X3_3 X3_4 X3_5 X3_6 X3_7 X3_8 X3_9\", real = True)\n",
    "\n",
    "X1_1_dot, X1_2_dot, X1_3_dot, X1_4_dot, X1_5_dot, X1_6_dot, X1_7_dot, X1_8_dot, X1_9_dot = symbols(r\"X1_1_dot X1_2_dot X1_3_dot X1_4_dot X1_5_dot X1_6_dot X1_7_dot X1_8_dot X1_9_dot\", real = True)\n",
    "X2_1_dot, X2_2_dot, X2_3_dot, X2_4_dot, X2_5_dot, X2_6_dot, X2_7_dot, X2_8_dot, X2_9_dot = symbols(r\"X2_1_dot X2_2_dot X2_3_dot X2_4_dot X2_5_dot X2_6_dot X2_7_dot X2_8_dot X2_9_dot\", real = True)\n",
    "X3_1_dot, X3_2_dot, X3_3_dot, X3_4_dot, X3_5_dot, X3_6_dot, X3_7_dot, X3_8_dot, X3_9_dot = symbols(r\"X3_1_dot X3_2_dot X3_3_dot X3_4_dot X3_5_dot X3_6_dot X3_7_dot X3_8_dot X3_9_dot\", real = True)"
   ]
  },
  {
   "cell_type": "markdown",
   "id": "bf95d24d",
   "metadata": {},
   "source": [
    "$X^4$\n",
    "\n",
    "$\\dot{X^4}$"
   ]
  },
  {
   "cell_type": "code",
   "execution_count": 8,
   "id": "101cafd2",
   "metadata": {},
   "outputs": [],
   "source": [
    "#Correct\n",
    "X4_1_dot = MatrixSymbol(\"X4_1_dot\", N, N)\n",
    "X4_2_dot = MatrixSymbol(\"X4_2_dot\", N, N)\n",
    "X4_3_dot = MatrixSymbol(\"X4_3_dot\", N, N)\n",
    "X4_4_dot = MatrixSymbol(\"X4_4_dot\", N, N)\n",
    "X4_5_dot = MatrixSymbol(\"X4_5_dot\", N, N)\n",
    "X4_6_dot = MatrixSymbol(\"X4_6_dot\", N, N)\n",
    "X4_7_dot = MatrixSymbol(\"X4_7_dot\", N, N)\n",
    "X4_8_dot = MatrixSymbol(\"X4_8_dot\", N, N)\n",
    "X4_9_dot = MatrixSymbol(\"X4_9_dot\", N, N)\n",
    "\n",
    "X4_1 = MatrixSymbol(\"X4_1\", N, N)\n",
    "X4_2 = MatrixSymbol(\"X4_2\", N, N)\n",
    "X4_3 = MatrixSymbol(\"X4_3\", N, N)\n",
    "X4_4 = MatrixSymbol(\"X4_4\", N, N)\n",
    "X4_5 = MatrixSymbol(\"X4_5\", N, N)\n",
    "X4_6 = MatrixSymbol(\"X4_6\", N, N)\n",
    "X4_7 = MatrixSymbol(\"X4_7\", N, N)\n",
    "X4_8 = MatrixSymbol(\"X4_8\", N, N)\n",
    "X4_9 = MatrixSymbol(\"X4_9\", N, N)"
   ]
  },
  {
   "cell_type": "markdown",
   "id": "66378f4f",
   "metadata": {},
   "source": [
    "Z = P+I Q\n",
    "\n",
    "Need to add Z^4l as column vectors and Z^k4 as column vectors. They're both column vectors\n"
   ]
  },
  {
   "cell_type": "code",
   "execution_count": 9,
   "id": "38ff5d49",
   "metadata": {},
   "outputs": [],
   "source": [
    "#Correct\n",
    "P12, P13, P21, P23, P31, P32 = symbols(r\"P12 P13 P21 P23 P31 P32\", real = True)\n",
    "\n",
    "P12_dot, P13_dot, P21_dot, P23_dot = symbols(r\"P12_dot P13_dot P21_dot P23_dot\", real = True)\n",
    "P31_dot, P32_dot = symbols(r\"P31_dot P32_dot\", real = True)\n",
    "\n",
    "P14 = MatrixSymbol(\"P14\", 1, N)\n",
    "P24 = MatrixSymbol(\"P24\", 1, N)\n",
    "P34 = MatrixSymbol(\"P34\", 1, N)\n",
    "P41 = MatrixSymbol(\"P41\", N, 1)\n",
    "P42 = MatrixSymbol(\"P42\", N, 1)\n",
    "P43 = MatrixSymbol(\"P43\", N, 1)\n",
    "\n",
    "P14_dot = MatrixSymbol(\"P14_dot\", 1, N)\n",
    "P24_dot = MatrixSymbol(\"P24_dot\", 1, N)\n",
    "P34_dot = MatrixSymbol(\"P34_dot\", 1, N)\n",
    "P41_dot = MatrixSymbol(\"P41_dot\", N, 1)\n",
    "P42_dot = MatrixSymbol(\"P42_dot\", N, 1)\n",
    "P43_dot = MatrixSymbol(\"P43_dot\", N, 1)"
   ]
  },
  {
   "cell_type": "code",
   "execution_count": 10,
   "id": "ac3efcea",
   "metadata": {},
   "outputs": [],
   "source": [
    "#Correct\n",
    "Q12, Q13, Q21, Q23, Q31, Q32 = symbols(r\"Q12 Q13 Q21 Q23 Q31 Q32\", real = True)\n",
    "\n",
    "Q12_dot, Q13_dot, Q21_dot, Q23_dot = symbols(r\"Q12_dot Q13_dot Q21_dot Q23_dot\", real = True)\n",
    "Q31_dot, Q32_dot = symbols(r\"Q31_dot Q32_dot\", real = True)\n",
    "\n",
    "Q14 = MatrixSymbol(\"Q14\", 1, N)\n",
    "Q24 = MatrixSymbol(\"Q24\", 1, N)\n",
    "Q34 = MatrixSymbol(\"Q34\", 1, N)\n",
    "Q41 = MatrixSymbol(\"Q41\", N, 1)\n",
    "Q42 = MatrixSymbol(\"Q42\", N, 1)\n",
    "Q43 = MatrixSymbol(\"Q43\", N, 1)\n",
    "\n",
    "Q14_dot = MatrixSymbol(\"Q14_dot\", 1, N)\n",
    "Q24_dot = MatrixSymbol(\"Q24_dot\", 1, N)\n",
    "Q34_dot = MatrixSymbol(\"Q34_dot\", 1, N)\n",
    "Q41_dot = MatrixSymbol(\"Q41_dot\", N, 1)\n",
    "Q42_dot = MatrixSymbol(\"Q42_dot\", N, 1)\n",
    "Q43_dot = MatrixSymbol(\"Q43_dot\", N, 1)"
   ]
  },
  {
   "cell_type": "code",
   "execution_count": 11,
   "id": "cb4da6df",
   "metadata": {},
   "outputs": [],
   "source": [
    "#Correct\n",
    "Z12 = P12 + I * Q12\n",
    "Z13 = P13 + I * Q13\n",
    "Z21 = P21 + I * Q21\n",
    "Z23 = P23 + I * Q23\n",
    "Z31 = P31 + I * Q31\n",
    "Z32 = P32 + I * Q32\n",
    "\n",
    "Z12_dot = P12_dot + I * Q12_dot\n",
    "Z13_dot = P13_dot + I * Q13_dot\n",
    "Z21_dot = P21_dot + I * Q21_dot\n",
    "Z23_dot = P23_dot + I * Q23_dot\n",
    "Z31_dot = P31_dot + I * Q31_dot\n",
    "Z32_dot = P32_dot + I * Q32_dot\n",
    "\n",
    "Z12_dag = P12 - I * Q12\n",
    "Z13_dag = P13 - I * Q13\n",
    "Z21_dag = P21 - I * Q21\n",
    "Z23_dag = P23 - I * Q23\n",
    "Z31_dag = P31 - I * Q31\n",
    "Z32_dag = P32 - I * Q32\n",
    "\n",
    "Z12_dot_dag = P12_dot - I * Q12_dot\n",
    "Z13_dot_dag = P13_dot - I * Q13_dot\n",
    "Z21_dot_dag = P21_dot - I * Q21_dot\n",
    "Z23_dot_dag = P23_dot - I * Q23_dot\n",
    "Z31_dot_dag = P31_dot - I * Q31_dot\n",
    "Z32_dot_dag = P32_dot - I * Q32_dot"
   ]
  },
  {
   "cell_type": "code",
   "execution_count": 12,
   "id": "ac0deefb",
   "metadata": {},
   "outputs": [],
   "source": [
    "#Correct\n",
    "Z14 = P14 + I * Q14\n",
    "Z24 = P24 + I * Q24\n",
    "Z34 = P34 + I * Q34\n",
    "Z41 = P41 + I * Q41\n",
    "Z42 = P42 + I * Q42\n",
    "Z43 = P43 + I * Q43\n",
    "\n",
    "Z14_dot = P14_dot + I * Q14_dot\n",
    "Z24_dot = P24_dot + I * Q24_dot\n",
    "Z34_dot = P34_dot + I * Q34_dot\n",
    "Z41_dot = P41_dot + I * Q41_dot\n",
    "Z42_dot = P42_dot + I * Q42_dot\n",
    "Z43_dot = P43_dot + I * Q43_dot\n",
    "\n",
    "Z14_dag = P14.transpose() - I * Q14.transpose()\n",
    "Z24_dag = P24.transpose() - I * Q24.transpose()\n",
    "Z34_dag = P34.transpose() - I * Q34.transpose()\n",
    "Z41_dag = P41.transpose() - I * Q41.transpose()\n",
    "Z42_dag = P42.transpose() - I * Q42.transpose()\n",
    "Z43_dag = P43.transpose() - I * Q43.transpose()\n",
    "\n",
    "Z14_dot_dag = P14_dot.transpose() - I * Q14_dot.transpose()\n",
    "Z24_dot_dag = P24_dot.transpose() - I * Q24_dot.transpose()\n",
    "Z34_dot_dag = P34_dot.transpose() - I * Q34_dot.transpose()\n",
    "Z41_dot_dag = P41_dot.transpose() - I * Q41_dot.transpose()\n",
    "Z42_dot_dag = P42_dot.transpose() - I * Q42_dot.transpose()\n",
    "Z43_dot_dag = P43_dot.transpose() - I * Q43_dot.transpose()"
   ]
  },
  {
   "cell_type": "markdown",
   "id": "12dcc4aa",
   "metadata": {},
   "source": [
    "phi\n",
    "\n",
    "phi_dot"
   ]
  },
  {
   "cell_type": "code",
   "execution_count": 13,
   "id": "73f95752",
   "metadata": {},
   "outputs": [],
   "source": [
    "#Correct\n",
    "phi1_1 = 1/sqrt(2)*(X1_4+I*X1_5)\n",
    "phi1_2 = 1/sqrt(2)*(X1_6+I*X1_7)\n",
    "phi1_3 = 1/sqrt(2)*(X1_8+I*X1_9)\n",
    "\n",
    "phi1_1_dag = 1/sqrt(2)*(X1_4-I*X1_5)\n",
    "phi1_2_dag = 1/sqrt(2)*(X1_6-I*X1_7)\n",
    "phi1_3_dag = 1/sqrt(2)*(X1_8-I*X1_9)\n",
    "\n",
    "phi2_1 = 1/sqrt(2)*(X2_4+I*X2_5)\n",
    "phi2_2 = 1/sqrt(2)*(X2_6+I*X2_7)\n",
    "phi2_3 = 1/sqrt(2)*(X2_8+I*X2_9)\n",
    "\n",
    "phi2_1_dag = 1/sqrt(2)*(X2_4-I*X2_5)\n",
    "phi2_2_dag = 1/sqrt(2)*(X2_6-I*X2_7)\n",
    "phi2_3_dag = 1/sqrt(2)*(X2_8-I*X2_9)\n",
    "\n",
    "phi3_1 = 1/sqrt(2)*(X3_4+I*X3_5)\n",
    "phi3_2 = 1/sqrt(2)*(X3_6+I*X3_7)\n",
    "phi3_3 = 1/sqrt(2)*(X3_8+I*X3_9)\n",
    "\n",
    "phi3_1_dag = 1/sqrt(2)*(X3_4-I*X3_5)\n",
    "phi3_2_dag = 1/sqrt(2)*(X3_6-I*X3_7)\n",
    "phi3_3_dag = 1/sqrt(2)*(X3_8-I*X3_9)\n",
    "\n",
    "phi4_1 = 1/sqrt(2)*(X4_4+I*X4_5)\n",
    "phi4_2 = 1/sqrt(2)*(X4_6+I*X4_7)\n",
    "phi4_3 = 1/sqrt(2)*(X4_8+I*X4_9)\n",
    "\n",
    "phi4_1_dag = 1/sqrt(2)*(X4_4-I*X4_5)\n",
    "phi4_2_dag = 1/sqrt(2)*(X4_6-I*X4_7)\n",
    "phi4_3_dag = 1/sqrt(2)*(X4_8-I*X4_9)"
   ]
  },
  {
   "cell_type": "code",
   "execution_count": 14,
   "id": "6b3e2728",
   "metadata": {},
   "outputs": [],
   "source": [
    "#Correct\n",
    "phi12 = phi1_3 - phi2_3\n",
    "phi23 = phi2_1 - phi3_1\n",
    "phi31 = phi3_2 - phi1_2\n",
    "\n",
    "phi12_dag = phi1_3_dag - phi2_3_dag\n",
    "phi23_dag = phi2_1_dag - phi3_1_dag\n",
    "phi31_dag = phi3_2_dag - phi1_2_dag"
   ]
  },
  {
   "cell_type": "markdown",
   "id": "d2fd022b",
   "metadata": {},
   "source": [
    "Y"
   ]
  },
  {
   "cell_type": "code",
   "execution_count": 15,
   "id": "2c3e3385",
   "metadata": {},
   "outputs": [],
   "source": [
    "#Correct\n",
    "Y1_11 = X1_1 * phi1_1 - phi1_1 * X1_1\n",
    "Y1_12 = X1_1 * phi1_2 - phi1_2 * X1_1\n",
    "Y1_13 = X1_1 * phi1_3 - phi1_3 * X1_1\n",
    "Y1_21 = X1_2 * phi1_1 - phi1_1 * X1_2\n",
    "Y1_22 = X1_2 * phi1_2 - phi1_2 * X1_2\n",
    "Y1_23 = X1_2 * phi1_3 - phi1_3 * X1_2\n",
    "Y1_31 = X1_3 * phi1_1 - phi1_1 * X1_3\n",
    "Y1_32 = X1_3 * phi1_2 - phi1_2 * X1_3\n",
    "Y1_33 = X1_3 * phi1_3 - phi1_3 * X1_3\n",
    "\n",
    "Y2_11 = X2_1 * phi2_1 - phi2_1 * X2_1\n",
    "Y2_12 = X2_1 * phi2_2 - phi2_2 * X2_1\n",
    "Y2_13 = X2_1 * phi2_3 - phi2_3 * X2_1\n",
    "Y2_21 = X2_2 * phi2_1 - phi2_1 * X2_2\n",
    "Y2_22 = X2_2 * phi2_2 - phi2_2 * X2_2\n",
    "Y2_23 = X2_2 * phi2_3 - phi2_3 * X2_2\n",
    "Y2_31 = X2_3 * phi2_1 - phi2_1 * X2_3\n",
    "Y2_32 = X2_3 * phi2_2 - phi2_2 * X2_3\n",
    "Y2_33 = X2_3 * phi2_3 - phi2_3 * X2_3\n",
    "\n",
    "Y3_11 = X3_1 * phi3_1 - phi3_1 * X3_1 \n",
    "Y3_12 = X3_1 * phi3_2 - phi3_2 * X3_1 \n",
    "Y3_13 = X3_1 * phi3_3 - phi3_3 * X3_1 \n",
    "Y3_21 = X3_2 * phi3_1 - phi3_1 * X3_2\n",
    "Y3_22 = X3_2 * phi3_2 - phi3_2 * X3_2 \n",
    "Y3_23 = X3_2 * phi3_3 - phi3_3 * X3_2 \n",
    "Y3_31 = X3_3 * phi3_1 - phi3_1 * X3_3 \n",
    "Y3_32 = X3_3 * phi3_2 - phi3_2 * X3_3 \n",
    "Y3_33 = X3_3 * phi3_3 - phi3_3 * X3_3 \n",
    "\n",
    "Y4_11 = X4_1 * phi4_1 - phi4_1 * X4_1\n",
    "Y4_12 = X4_1 * phi4_2 - phi4_2 * X4_1\n",
    "Y4_13 = X4_1 * phi4_3 - phi4_3 * X4_1\n",
    "Y4_21 = X4_2 * phi4_1 - phi4_1 * X4_2\n",
    "Y4_22 = X4_2 * phi4_2 - phi4_2 * X4_2\n",
    "Y4_23 = X4_2 * phi4_3 - phi4_3 * X4_2\n",
    "Y4_31 = X4_3 * phi4_1 - phi4_1 * X4_3\n",
    "Y4_32 = X4_3 * phi4_2 - phi4_2 * X4_3\n",
    "Y4_33 = X4_3 * phi4_3 - phi4_3 * X4_3\n",
    "\n",
    "Y1_11_dag = phi1_1_dag * X1_1 - X1_1 * phi1_1_dag\n",
    "Y1_12_dag = phi1_2_dag * X1_1 - X1_1 * phi1_2_dag\n",
    "Y1_13_dag = phi1_3_dag * X1_1 - X1_1 * phi1_3_dag\n",
    "Y1_21_dag = phi1_1_dag * X1_2 - X1_2 * phi1_1_dag\n",
    "Y1_22_dag = phi1_2_dag * X1_2 - X1_2 * phi1_2_dag\n",
    "Y1_23_dag = phi1_3_dag * X1_2 - X1_2 * phi1_3_dag\n",
    "Y1_31_dag = phi1_1_dag * X1_3 - X1_3 * phi1_1_dag\n",
    "Y1_32_dag = phi1_2_dag * X1_3 - X1_3 * phi1_2_dag\n",
    "Y1_33_dag = phi1_3_dag * X1_3 - X1_3 * phi1_3_dag\n",
    "\n",
    "Y2_11_dag = phi2_1_dag * X2_1 - X2_1 * phi2_1_dag\n",
    "Y2_12_dag = phi2_2_dag * X2_1 - X2_1 * phi2_2_dag\n",
    "Y2_13_dag = phi2_3_dag * X2_1 - X2_1 * phi2_3_dag\n",
    "Y2_21_dag = phi2_1_dag * X2_2 - X2_2 * phi2_1_dag\n",
    "Y2_22_dag = phi2_2_dag * X2_2 - X2_2 * phi2_2_dag\n",
    "Y2_23_dag = phi2_3_dag * X2_2 - X2_2 * phi2_3_dag\n",
    "Y2_31_dag = phi2_1_dag * X2_3 - X2_3 * phi2_1_dag\n",
    "Y2_32_dag = phi2_2_dag * X2_3 - X2_3 * phi2_2_dag\n",
    "Y2_33_dag = phi2_3_dag * X2_3 - X2_3 * phi2_3_dag\n",
    "\n",
    "Y3_11_dag = phi3_1_dag * X3_1 - X3_1 * phi3_1_dag\n",
    "Y3_12_dag = phi3_2_dag * X3_1 - X3_1 * phi3_2_dag\n",
    "Y3_13_dag = phi3_3_dag * X3_1 - X3_1 * phi3_3_dag\n",
    "Y3_21_dag = phi3_1_dag * X3_2 - X3_2 * phi3_1_dag\n",
    "Y3_22_dag = phi3_2_dag * X3_2 - X3_2 * phi3_2_dag\n",
    "Y3_23_dag = phi3_3_dag * X3_2 - X3_2 * phi3_3_dag\n",
    "Y3_31_dag = phi3_1_dag * X3_3 - X3_3 * phi3_1_dag\n",
    "Y3_32_dag = phi3_2_dag * X3_3 - X3_3 * phi3_2_dag\n",
    "Y3_33_dag = phi3_3_dag * X3_3 - X3_3 * phi3_3_dag\n",
    "\n",
    "Y4_11_dag = phi4_1_dag * X4_1 - X4_1 * phi4_1_dag\n",
    "Y4_12_dag = phi4_2_dag * X4_1 - X4_1 * phi4_2_dag\n",
    "Y4_13_dag = phi4_3_dag * X4_1 - X4_1 * phi4_3_dag\n",
    "Y4_21_dag = phi4_1_dag * X4_2 - X4_2 * phi4_1_dag\n",
    "Y4_22_dag = phi4_2_dag * X4_2 - X4_2 * phi4_2_dag\n",
    "Y4_23_dag = phi4_3_dag * X4_2 - X4_2 * phi4_3_dag\n",
    "Y4_31_dag = phi4_1_dag * X4_3 - X4_3 * phi4_1_dag\n",
    "Y4_32_dag = phi4_2_dag * X4_3 - X4_3 * phi4_2_dag\n",
    "Y4_33_dag = phi4_3_dag * X4_3 - X4_3 * phi4_3_dag"
   ]
  },
  {
   "cell_type": "markdown",
   "id": "dc7c069e",
   "metadata": {},
   "source": [
    "F"
   ]
  },
  {
   "cell_type": "code",
   "execution_count": 16,
   "id": "5394730d",
   "metadata": {},
   "outputs": [],
   "source": [
    "# Correct\n",
    "F12 = Z12*Z21 + c12/(g*g)\n",
    "F21 = Z21*Z12 + c12/(g*g)\n",
    "F23 = Z23*Z32 + c23/(g*g)\n",
    "F32 = Z32*Z23 + c23/(g*g)\n",
    "F13 = Z13*Z31 + c13/(g*g)\n",
    "F31 = Z31*Z13 + c13/(g*g)\n",
    "\n",
    "# When these come up, write things out in terms of Zs and split MatrixSymbols and Symbols up.\n",
    "#F14 = Trace( Z14 * Z41 ) + c14*N/(g*g)\n",
    "#F41 = Z41 * Z14 + c14*Identity(N)/(g*g) + (phi4_2*phi4_3 - phi4_3*phi4_2)\n",
    "#F24 = Trace( Z24 * Z42 ) + c24*N/(g*g)\n",
    "#F42 = Z42 * Z24 + c24*Identity(N)/(g*g) + (phi4_3*phi4_1 - phi4_1*phi4_3)\n",
    "#F34 = Trace( Z34 * Z43 ) + c34*N/(g*g)\n",
    "#F43 = Z43 * Z34 + c34*Identity(N)/(g*g) - (phi4_2*phi4_1 - phi4_1*phi4_2)\n",
    "\n",
    "F12_dag = Z21_dag*Z12_dag + c12/(g*g)\n",
    "F21_dag = Z12_dag*Z21_dag + c12/(g*g)\n",
    "F23_dag = Z32_dag*Z23_dag + c23/(g*g)\n",
    "F32_dag = Z23_dag*Z32_dag + c23/(g*g)\n",
    "F13_dag = Z31_dag*Z13_dag + c13/(g*g)\n",
    "F31_dag = Z13_dag*Z31_dag + c13/(g*g)\n",
    "                        \n",
    "#F14_dag = Trace( Z41_dag * Z14_dag ) + c14*N/(g*g)\n",
    "#F41_dag = Z14_dag * Z41_dag + c14*Identity(N)/(g*g) + (-phi4_2_dag*phi4_3_dag + phi4_3_dag*phi4_2_dag)\n",
    "#F24_dag = Trace( Z42_dag * Z24_dag ) + c24*N/(g*g)\n",
    "#F42_dag = Z24_dag * Z42_dag + c24*Identity(N)/(g*g) + (-phi4_3_dag*phi4_1_dag + phi4_1_dag*phi4_3_dag)\n",
    "#F34_dag = Trace( Z43_dag * Z34_dag ) + c34*N/(g*g)\n",
    "#F43_dag = Z34_dag * Z43_dag + c34*Identity(N)/(g*g) - (-phi4_2_dag*phi4_1_dag + phi4_1_dag*phi4_2_dag)"
   ]
  },
  {
   "cell_type": "markdown",
   "id": "a8859ad7",
   "metadata": {},
   "source": [
    "G"
   ]
  },
  {
   "cell_type": "code",
   "execution_count": 17,
   "id": "324c1de5",
   "metadata": {},
   "outputs": [],
   "source": [
    "#correct\n",
    "#G21 = phi12 * Z21 + Z23*Z31 + Trace( Z24 * Z41 )\n",
    "#G12 = phi12 * Z12 + Z13*Z32 + Trace( Z14 * Z42 )\n",
    "\n",
    "#G31 = phi31 * Z31 + Z32*Z21 - Trace( Z34 * Z41 )\n",
    "#G13 = phi31 * Z13 + Z12*Z23 + Trace( Z14 * Z43 )\n",
    "\n",
    "#G32 = phi23 * Z32 + Z31*Z12 + Trace( Z34 * Z42 )\n",
    "#G23 = phi23 * Z23 + Z21*Z13 + Trace( Z24 * Z43 )\n",
    "\n",
    "G41 = -phi4_1 * Z41 + Z42*Z21 + Z43*Z31\n",
    "G14 = -Z14 * phi4_1 + Z12*Z24 - Z13*Z34\n",
    "\n",
    "G42 = -phi4_2 * Z42 + Z43*Z32 + Z41*Z12\n",
    "G24 = -Z24 * phi4_2 + Z21*Z14 + Z23*Z34\n",
    "\n",
    "G43 = -phi4_3 * Z43 - Z41*Z13 + Z42*Z23\n",
    "G34 = -Z34 * phi4_3 + Z31*Z14 + Z32*Z24\n",
    "\n",
    "#G21_dag =  Z21_dag * phi12_dag + Z31_dag * Z23_dag + Trace(Z41_dag * Z24_dag)\n",
    "#G12_dag =  Z12_dag * phi12_dag + Z32_dag * Z13_dag + Trace(Z42_dag * Z14_dag)\n",
    "\n",
    "#G31_dag =  Z31_dag * phi31_dag + Z21_dag * Z32_dag - Trace(Z41_dag * Z34_dag)\n",
    "#G13_dag =  Z13_dag * phi31_dag + Z23_dag * Z12_dag + Trace(Z43_dag * Z14_dag)\n",
    "\n",
    "#G32_dag =  Z32_dag * phi23_dag + Z12_dag * Z31_dag + Trace(Z42_dag * Z34_dag)\n",
    "#G23_dag =  Z23_dag * phi23_dag + Z13_dag * Z21_dag + Trace(Z43_dag * Z24_dag)\n",
    "\n",
    "G41_dag = -Z41_dag * phi4_1_dag + Z21_dag*Z42_dag + Z31_dag*Z43_dag\n",
    "G14_dag = -phi4_1_dag * Z14_dag + Z24_dag*Z12_dag - Z34_dag*Z13_dag\n",
    "\n",
    "G42_dag = -Z42_dag * phi4_2_dag + Z32_dag*Z43_dag + Z12_dag*Z41_dag\n",
    "G24_dag = -phi4_2_dag * Z24_dag + Z14_dag*Z21_dag + Z34_dag*Z23_dag\n",
    "\n",
    "G43_dag = -Z43_dag * phi4_3_dag - Z13_dag*Z41_dag + Z23_dag*Z42_dag\n",
    "G34_dag = -phi4_3_dag * Z34_dag + Z14_dag*Z31_dag + Z24_dag*Z32_dag"
   ]
  },
  {
   "cell_type": "markdown",
   "id": "ba4b8d5d",
   "metadata": {},
   "source": [
    "H"
   ]
  },
  {
   "cell_type": "code",
   "execution_count": 18,
   "id": "d8f6260f",
   "metadata": {},
   "outputs": [],
   "source": [
    "#correct\n",
    "H12_1 = X1_1*Z12 - Z12*X2_1\n",
    "H12_2 = X1_2*Z12 - Z12*X2_2\n",
    "H12_3 = X1_3*Z12 - Z12*X2_3\n",
    "\n",
    "H21_1 = X2_1*Z21 - Z21*X1_1\n",
    "H21_2 = X2_2*Z21 - Z21*X1_2\n",
    "H21_3 = X2_3*Z21 - Z21*X1_3\n",
    "\n",
    "H13_1 = X1_1*Z13 - Z13*X3_1\n",
    "H13_2 = X1_2*Z13 - Z13*X3_2\n",
    "H13_3 = X1_3*Z13 - Z13*X3_3\n",
    "\n",
    "H31_1 = X3_1*Z31 - Z31*X1_1\n",
    "H31_2 = X3_2*Z31 - Z31*X1_2\n",
    "H31_3 = X3_3*Z31 - Z31*X1_3\n",
    "\n",
    "H14_1 = X1_1*Z14 - Z14*X4_1\n",
    "H14_2 = X1_2*Z14 - Z14*X4_2\n",
    "H14_3 = X1_3*Z14 - Z14*X4_3\n",
    "\n",
    "H41_1 = X4_1*Z41 - Z41*X1_1\n",
    "H41_2 = X4_2*Z41 - Z41*X1_2\n",
    "H41_3 = X4_3*Z41 - Z41*X1_3\n",
    "\n",
    "H32_1 = X3_1*Z32 - Z32*X2_1\n",
    "H32_2 = X3_2*Z32 - Z32*X2_2\n",
    "H32_3 = X3_3*Z32 - Z32*X2_3\n",
    "\n",
    "H23_1 = X2_1*Z23 - Z23*X3_1\n",
    "H23_2 = X2_2*Z23 - Z23*X3_2\n",
    "H23_3 = X2_3*Z23 - Z23*X3_3\n",
    "\n",
    "H34_1 = X3_1*Z34 - Z34*X4_1\n",
    "H34_2 = X3_2*Z34 - Z34*X4_2\n",
    "H34_3 = X3_3*Z34 - Z34*X4_3\n",
    "\n",
    "H43_1 = X4_1*Z43 - Z43*X3_1\n",
    "H43_2 = X4_2*Z43 - Z43*X3_2\n",
    "H43_3 = X4_3*Z43 - Z43*X3_3\n",
    "\n",
    "H24_1 = X2_1*Z24 - Z24*X4_1\n",
    "H24_2 = X2_2*Z24 - Z24*X4_2\n",
    "H24_3 = X2_3*Z24 - Z24*X4_3\n",
    "\n",
    "H42_1 = X4_1*Z42 - Z42*X2_1\n",
    "H42_2 = X4_2*Z42 - Z42*X2_2\n",
    "H42_3 = X4_3*Z42 - Z42*X2_3\n",
    "\n",
    "H12_1_dag = Z12_dag*X1_1 - X2_1*Z12_dag\n",
    "H12_2_dag = Z12_dag*X1_2 - X2_2*Z12_dag\n",
    "H12_3_dag = Z12_dag*X1_3 - X2_3*Z12_dag\n",
    "\n",
    "H21_1_dag = Z21_dag*X2_1 - X1_1*Z21_dag\n",
    "H21_2_dag = Z21_dag*X2_2 - X1_2*Z21_dag\n",
    "H21_3_dag = Z21_dag*X2_3 - X1_3*Z21_dag\n",
    "\n",
    "H13_1_dag = Z13_dag*X1_1 - X3_1*Z13_dag\n",
    "H13_2_dag = Z13_dag*X1_2 - X3_2*Z13_dag\n",
    "H13_3_dag = Z13_dag*X1_3 - X3_3*Z13_dag\n",
    "\n",
    "H31_1_dag = Z31_dag*X3_1 - X1_1*Z31_dag\n",
    "H31_2_dag = Z31_dag*X3_2 - X1_2*Z31_dag\n",
    "H31_3_dag = Z31_dag*X3_3 - X1_3*Z31_dag\n",
    "\n",
    "H14_1_dag = Z14_dag*X1_1 - X4_1*Z14_dag\n",
    "H14_2_dag = Z14_dag*X1_2 - X4_2*Z14_dag\n",
    "H14_3_dag = Z14_dag*X1_3 - X4_3*Z14_dag\n",
    "\n",
    "H41_1_dag = Z41_dag*X4_1 - X1_1*Z41_dag\n",
    "H41_2_dag = Z41_dag*X4_2 - X1_2*Z41_dag\n",
    "H41_3_dag = Z41_dag*X4_3 - X1_3*Z41_dag\n",
    "\n",
    "H32_1_dag = Z32_dag*X3_1 - X2_1*Z32_dag\n",
    "H32_2_dag = Z32_dag*X3_2 - X2_2*Z32_dag\n",
    "H32_3_dag = Z32_dag*X3_3 - X2_3*Z32_dag\n",
    "\n",
    "H23_1_dag = Z23_dag*X2_1 - X3_1*Z23_dag\n",
    "H23_2_dag = Z23_dag*X2_2 - X3_2*Z23_dag\n",
    "H23_3_dag = Z23_dag*X2_3 - X3_3*Z23_dag\n",
    "\n",
    "H34_1_dag = Z34_dag*X3_1 - X4_1*Z34_dag\n",
    "H34_2_dag = Z34_dag*X3_2 - X4_2*Z34_dag\n",
    "H34_3_dag = Z34_dag*X3_3 - X4_3*Z34_dag\n",
    "\n",
    "H43_1_dag = Z43_dag*X4_1 - X3_1*Z43_dag\n",
    "H43_2_dag = Z43_dag*X4_2 - X3_2*Z43_dag\n",
    "H43_3_dag = Z43_dag*X4_3 - X3_3*Z43_dag\n",
    "\n",
    "H24_1_dag = Z24_dag*X2_1 - X4_1*Z24_dag\n",
    "H24_2_dag = Z24_dag*X2_2 - X4_2*Z24_dag\n",
    "H24_3_dag = Z24_dag*X2_3 - X4_3*Z24_dag\n",
    "\n",
    "H42_1_dag = Z42_dag*X4_1 - X2_1*Z42_dag\n",
    "H42_2_dag = Z42_dag*X4_2 - X2_2*Z42_dag\n",
    "H42_3_dag = Z42_dag*X4_3 - X2_3*Z42_dag"
   ]
  },
  {
   "cell_type": "markdown",
   "id": "afa51cb8",
   "metadata": {},
   "source": [
    "$X^k_{ab}$"
   ]
  },
  {
   "cell_type": "code",
   "execution_count": 19,
   "id": "b9f6aa90",
   "metadata": {},
   "outputs": [],
   "source": [
    "#correct\n",
    "X1_12 = X1_1*X1_2 - X1_2*X1_1\n",
    "X1_21 = X1_2*X1_1 - X1_1*X1_2\n",
    "X1_13 = X1_1*X1_3 - X1_3*X1_1\n",
    "X1_31 = X1_3*X1_1 - X1_1*X1_3\n",
    "X1_23 = X1_2*X1_3 - X1_3*X1_2\n",
    "X1_32 = X1_3*X1_2 - X1_2*X1_3\n",
    "\n",
    "X2_12 = X2_1*X2_2 - X2_2*X2_1\n",
    "X2_21 = X2_2*X2_1 - X2_1*X2_2\n",
    "X2_13 = X2_1*X2_3 - X2_3*X2_1\n",
    "X2_31 = X2_3*X2_1 - X2_1*X2_3\n",
    "X2_23 = X2_2*X2_3 - X2_3*X2_2\n",
    "X2_32 = X2_3*X2_2 - X2_2*X2_3\n",
    "\n",
    "X3_12 = X3_1*X3_2 - X3_2*X3_1\n",
    "X3_21 = X3_2*X3_1 - X3_1*X3_2\n",
    "X3_13 = X3_1*X3_3 - X3_3*X3_1\n",
    "X3_31 = X3_3*X3_1 - X3_1*X3_3\n",
    "X3_23 = X3_2*X3_3 - X3_3*X3_2\n",
    "X3_32 = X3_3*X3_2 - X3_2*X3_3\n",
    "\n",
    "X4_12 = X4_1*X4_2 - X4_2*X4_1\n",
    "X4_21 = X4_2*X4_1 - X4_1*X4_2\n",
    "X4_13 = X4_1*X4_3 - X4_3*X4_1\n",
    "X4_31 = X4_3*X4_1 - X4_1*X4_3\n",
    "X4_23 = X4_2*X4_3 - X4_3*X4_2\n",
    "X4_32 = X4_3*X4_2 - X4_2*X4_3\n",
    "\n",
    "X1_12_dag = X1_2*X1_1 - X1_1*X1_2\n",
    "X1_21_dag = X1_1*X1_2 - X1_2*X1_1\n",
    "X1_13_dag = X1_3*X1_1 - X1_1*X1_3\n",
    "X1_31_dag = X1_1*X1_3 - X1_3*X1_1\n",
    "X1_23_dag = X1_3*X1_2 - X1_2*X1_3\n",
    "X1_32_dag = X1_2*X1_3 - X1_3*X1_2\n",
    "\n",
    "X2_12_dag = X2_2*X2_1 - X2_1*X2_2\n",
    "X2_21_dag = X2_1*X2_2 - X2_2*X2_1\n",
    "X2_13_dag = X2_3*X2_1 - X2_1*X2_3\n",
    "X2_31_dag = X2_1*X2_3 - X2_3*X2_1\n",
    "X2_23_dag = X2_3*X2_2 - X2_2*X2_3\n",
    "X2_32_dag = X2_2*X2_3 - X2_3*X2_2\n",
    "\n",
    "X3_12_dag = X3_2*X3_1 - X3_1*X3_2\n",
    "X3_21_dag = X3_1*X3_2 - X3_2*X3_1\n",
    "X3_13_dag = X3_3*X3_1 - X3_1*X3_3\n",
    "X3_31_dag = X3_1*X3_3 - X3_3*X3_1\n",
    "X3_23_dag = X3_3*X3_2 - X3_2*X3_3\n",
    "X3_32_dag = X3_2*X3_3 - X3_3*X3_2\n",
    "\n",
    "X4_12_dag = X4_2*X4_1 - X4_1*X4_2\n",
    "X4_21_dag = X4_1*X4_2 - X4_2*X4_1\n",
    "X4_13_dag = X4_3*X4_1 - X4_1*X4_3\n",
    "X4_31_dag = X4_1*X4_3 - X4_3*X4_1\n",
    "X4_23_dag = X4_3*X4_2 - X4_2*X4_3\n",
    "X4_32_dag = X4_2*X4_3 - X4_3*X4_2"
   ]
  },
  {
   "cell_type": "markdown",
   "id": "4aa90e8e",
   "metadata": {},
   "source": [
    "K"
   ]
  },
  {
   "cell_type": "code",
   "execution_count": 20,
   "id": "58ed7995",
   "metadata": {},
   "outputs": [],
   "source": [
    "# correct\n",
    "K1 = 1/2 * ( X1_1_dot**2+X1_2_dot**2+X1_3_dot**2+X1_4_dot**2+X1_5_dot**2+X1_6_dot**2+X1_7_dot**2+X1_8_dot**2+X1_9_dot**2 +\n",
    "             X2_1_dot**2+X2_2_dot**2+X2_3_dot**2+X2_4_dot**2+X2_5_dot**2+X2_6_dot**2+X2_7_dot**2+X2_8_dot**2+X2_9_dot**2 +\n",
    "             X3_1_dot**2+X3_2_dot**2+X3_3_dot**2+X3_4_dot**2+X3_5_dot**2+X3_6_dot**2+X3_7_dot**2+X3_8_dot**2+X3_9_dot**2 +\n",
    "             Trace( X4_1_dot * X4_1_dot ) + Trace( X4_2_dot * X4_2_dot ) + Trace( X4_3_dot * X4_3_dot ) + \n",
    "             Trace( X4_4_dot * X4_4_dot ) + Trace( X4_5_dot * X4_5_dot ) + Trace( X4_6_dot * X4_6_dot ) + \n",
    "             Trace( X4_7_dot * X4_7_dot ) + Trace( X4_8_dot * X4_8_dot ) + Trace( X4_9_dot * X4_9_dot ) )\n",
    "\n",
    "K2 = 1/2 * ( Z12_dot_dag*Z12_dot        + Z13_dot_dag*Z13_dot        + Trace(Z14_dot_dag*Z14_dot) + Z21_dot_dag*Z21_dot + \n",
    "             Z23_dot_dag*Z23_dot        + Trace(Z24_dot_dag*Z24_dot) + Z31_dot_dag*Z31_dot        + Z32_dot_dag*Z32_dot + \n",
    "             Trace(Z34_dot_dag*Z34_dot) + Trace(Z41_dot_dag*Z41_dot) + Trace(Z42_dot_dag*Z42_dot) + \n",
    "             Trace(Z43_dot_dag*Z43_dot) )\n",
    "\n",
    "K = K1 + K2"
   ]
  },
  {
   "cell_type": "markdown",
   "id": "e36d6e13",
   "metadata": {},
   "source": [
    "# V"
   ]
  },
  {
   "cell_type": "markdown",
   "id": "d808f0df",
   "metadata": {},
   "source": [
    "### V_gauge"
   ]
  },
  {
   "cell_type": "code",
   "execution_count": 21,
   "id": "325ce363",
   "metadata": {},
   "outputs": [],
   "source": [
    "V_gauge =      ( # \\sum( \\sum( Tr[ Dagger(H^kl_a) * H^kl_a] ) ) term\n",
    "                 (H12_1_dag*H12_1.expand()) + (H12_2_dag*H12_2).expand() + (H12_3_dag*H12_3).expand() + \n",
    "                 (H21_1_dag*H21_1.expand()) + (H21_2_dag*H21_2).expand() + (H21_3_dag*H21_3).expand() + \n",
    "                 (H13_1_dag*H13_1.expand()) + (H13_2_dag*H13_2).expand() + (H13_3_dag*H13_3).expand() + \n",
    "                 (H31_1_dag*H31_1.expand()) + (H31_2_dag*H31_2).expand() + (H31_3_dag*H31_3).expand() + \n",
    "                 (H23_1_dag*H23_1.expand()) + (H23_2_dag*H23_2).expand() + (H23_3_dag*H23_3).expand() + \n",
    "                 (H32_1_dag*H32_1.expand()) + (H32_2_dag*H32_2).expand() + (H32_3_dag*H32_3).expand() + \n",
    "                 Trace ((H14_1_dag*H14_1)).expand() + Trace ((H14_2_dag*H14_2)).expand() + Trace ((H14_3_dag*H14_3)).expand()+ \n",
    "                 Trace ((H41_1_dag*H41_1)).expand() + Trace ((H41_2_dag*H41_2)).expand() + Trace ((H41_3_dag*H41_3)).expand()+ \n",
    "                 Trace ((H24_1_dag*H24_1)).expand() + Trace ((H24_2_dag*H24_2)).expand() + Trace ((H24_3_dag*H24_3)).expand()+ \n",
    "                 Trace ((H42_1_dag*H42_1)).expand() + Trace ((H42_2_dag*H42_2)).expand() + Trace ((H42_3_dag*H42_3)).expand()+ \n",
    "                 Trace ((H34_1_dag*H34_1)).expand() + Trace ((H34_2_dag*H34_2)).expand() + Trace ((H34_3_dag*H34_3)).expand()+ \n",
    "                 Trace ((H43_1_dag*H43_1)).expand() + Trace ((H43_2_dag*H43_2)).expand() + Trace ((H43_3_dag*H43_3)).expand()+\n",
    "                 # \\sum( \\sum( \\sum( Tr[ Dagger(Y^k_aA) * Y^k_aA] ) ) ) term\n",
    "                 (Y1_11_dag * Y1_11).expand() + (Y1_11_dag * Y1_11).expand() + (Y1_11_dag * Y1_11).expand() + \n",
    "                 (Y1_21_dag * Y1_21).expand() + (Y1_22_dag * Y1_22).expand() + (Y1_23_dag * Y1_23).expand() +\n",
    "                 (Y1_31_dag * Y1_31).expand() + (Y1_32_dag * Y1_32).expand() + (Y1_32_dag * Y1_32).expand() + \n",
    "                 (Y2_11_dag * Y2_11).expand() + (Y2_11_dag * Y2_11).expand() + (Y2_11_dag * Y2_11).expand() + \n",
    "                 (Y2_21_dag * Y2_21).expand() + (Y2_22_dag * Y2_22).expand() + (Y2_23_dag * Y2_23).expand() +\n",
    "                 (Y2_31_dag * Y2_31).expand() + (Y2_32_dag * Y2_32).expand() + (Y2_32_dag * Y2_32).expand() + \n",
    "                 (Y3_11_dag * Y3_11).expand() + (Y3_11_dag * Y3_11).expand() + (Y3_11_dag * Y3_11).expand() + \n",
    "                 (Y3_21_dag * Y3_21).expand() + (Y3_22_dag * Y3_22).expand() + (Y3_23_dag * Y3_23).expand() +\n",
    "                 (Y3_31_dag * Y3_31).expand() + (Y3_32_dag * Y3_32).expand() + (Y3_32_dag * Y3_32).expand() +\n",
    "                 Trace((Y4_11_dag * Y4_11)).expand() + Trace((Y4_11_dag * Y4_11)).expand() + Trace(Y4_11_dag * Y4_11).expand() + \n",
    "                 Trace((Y4_21_dag * Y4_21)).expand() + Trace((Y4_22_dag * Y4_22)).expand() + Trace(Y4_23_dag * Y4_23).expand() +\n",
    "                 Trace((Y4_31_dag * Y4_31)).expand() + Trace((Y4_32_dag * Y4_32)).expand() + Trace(Y4_32_dag * Y4_32).expand() +\n",
    "                 # 1/4 * \\sum( \\sum( Tr( Xk_ab_dag * Xk_ab ) ) ) terms\n",
    "                 1/4 *( X1_12_dag*X1_12 + X1_21_dag*X1_21 + X1_13_dag*X1_13 + X1_31_dag*X1_31 +\n",
    "                        X1_23_dag*X1_23 + X1_32_dag*X1_32 +\n",
    "                        X2_12_dag*X2_12 + X2_21_dag*X2_21 + X2_13_dag*X2_13 + X2_31_dag*X2_31 +\n",
    "                        X2_23_dag*X2_23 + X2_32_dag*X2_32 +\n",
    "                        X3_12_dag*X3_12 + X3_21_dag*X3_21 + X3_13_dag*X3_13 + X3_31_dag*X3_31 +\n",
    "                        X3_23_dag*X3_23 + X3_32_dag*X3_32 +\n",
    "                        Trace( X4_12_dag*X4_12 ) + Trace( X4_21_dag*X4_21 ) + Trace( X4_13_dag*X4_13 ) + \n",
    "                        Trace( X4_31_dag*X4_31 ) + Trace( X4_23_dag*X4_23 ) + Trace( X4_32_dag*X4_32 )\n",
    "                      )\n",
    "               )\n"
   ]
  },
  {
   "cell_type": "markdown",
   "id": "43f486ca",
   "metadata": {},
   "source": [
    "### V_D"
   ]
  },
  {
   "cell_type": "code",
   "execution_count": 22,
   "id": "c72bc00f",
   "metadata": {},
   "outputs": [],
   "source": [
    "V_D_arg_k1 = (Z12 * Z12_dag + Z13 * Z13_dag + Trace(Z14 * Z14_dag) -\n",
    "              ( Z21_dag * Z21 + Z31_dag * Z31 + Trace(Z41_dag * Z41) ) + \n",
    "              ( (phi1_1*phi1_1_dag).expand() - (phi1_1_dag*phi1_1).expand() + (phi1_2*phi1_2_dag).expand() - \n",
    "                  (phi1_2_dag*phi1_2).expand() + (phi1_3*phi1_3_dag).expand() - (phi1_3_dag*phi1_3).expand() ) - \n",
    "              c1/(g*g) )\n",
    "\n",
    "V_D_arg_k2 = (Z21 * Z21_dag + Z23 * Z23_dag + Trace(Z24 * Z24_dag) - \n",
    "              ( Z12_dag * Z12 + Z32_dag * Z32 + Trace(Z42_dag * Z42) ) + \n",
    "              ( (phi2_1*phi2_1_dag).expand() - (phi2_1_dag*phi2_1).expand() + (phi2_2*phi2_2_dag).expand() - \n",
    "                (phi2_2_dag*phi2_2).expand() + (phi2_3*phi2_3_dag).expand() - (phi2_3_dag*phi2_3).expand() ) - \n",
    "              c2/(g*g) )\n",
    "\n",
    "V_D_arg_k3 = (Z31 * Z31_dag + Z32 * Z32_dag + Trace(Z34 * Z34_dag) - \n",
    "              ( Z13_dag * Z13 + Z23_dag * Z23 + Trace(Z43_dag * Z43) ) + \n",
    "              ( (phi3_1*phi3_1_dag).expand() - (phi3_1_dag*phi3_1).expand() + (phi3_2*phi3_2_dag).expand() - \n",
    "                (phi3_2_dag*phi3_2).expand() + (phi3_3*phi3_3_dag).expand() - (phi3_3_dag*phi3_3).expand() ) - \n",
    "              c3/(g*g) )\n",
    "\n",
    "V_D_arg_k4 = (Z41 * Z41_dag + Z42 * Z42_dag + Z43 * Z43_dag + \n",
    "              ( Z14_dag * Z14 + Z24_dag * Z24 + Z34_dag * Z34 ) + \n",
    "              ( (phi4_1*phi4_1_dag).expand() - (phi4_1_dag*phi4_1).expand() + (phi4_2*phi4_2_dag).expand() - \n",
    "                (phi4_2_dag*phi4_2).expand() + (phi4_3*phi4_3_dag).expand() - (phi4_3_dag*phi4_3).expand() ) - \n",
    "              c4/(g*g)*Identity(N) )\n",
    "\n",
    "\n",
    "V_D = 1/2 * ((V_D_arg_k1 * V_D_arg_k1).expand() + (V_D_arg_k2 * V_D_arg_k2).expand() + \n",
    "             (V_D_arg_k3 * V_D_arg_k3).expand() + Trace(V_D_arg_k4 * V_D_arg_k4).expand() )"
   ]
  },
  {
   "cell_type": "markdown",
   "id": "45f3c634",
   "metadata": {},
   "source": [
    "### V_F"
   ]
  },
  {
   "cell_type": "code",
   "execution_count": 23,
   "id": "39853eed",
   "metadata": {},
   "outputs": [
    {
     "ename": "NameError",
     "evalue": "name 'F14' is not defined",
     "output_type": "error",
     "traceback": [
      "\u001b[1;31m---------------------------------------------------------------------------\u001b[0m",
      "\u001b[1;31mNameError\u001b[0m                                 Traceback (most recent call last)",
      "Cell \u001b[1;32mIn[23], line 2\u001b[0m\n\u001b[0;32m      1\u001b[0m V_F \u001b[38;5;241m=\u001b[39m ( Abs(F12)\u001b[38;5;241m*\u001b[39mAbs(F12) \u001b[38;5;241m+\u001b[39m Abs(F21)\u001b[38;5;241m*\u001b[39mAbs(F21) \u001b[38;5;241m+\u001b[39m Abs(F13)\u001b[38;5;241m*\u001b[39mAbs(F13) \u001b[38;5;241m+\u001b[39m Abs(F31)\u001b[38;5;241m*\u001b[39mAbs(F31) \u001b[38;5;241m+\u001b[39m Abs(F32)\u001b[38;5;241m*\u001b[39mAbs(F32) \u001b[38;5;241m+\u001b[39m Abs(F23)\u001b[38;5;241m*\u001b[39mAbs(F23) \u001b[38;5;241m+\u001b[39m\n\u001b[1;32m----> 2\u001b[0m         \u001b[43mF14\u001b[49m \u001b[38;5;241m*\u001b[39m F14_dag \u001b[38;5;241m+\u001b[39m F24 \u001b[38;5;241m*\u001b[39m F24_dag \u001b[38;5;241m+\u001b[39m F34 \u001b[38;5;241m*\u001b[39m F34_dag \u001b[38;5;241m+\u001b[39m \n\u001b[0;32m      3\u001b[0m         Trace( F41_dag \u001b[38;5;241m*\u001b[39m F41 ) \u001b[38;5;241m+\u001b[39m Trace( F42_dag \u001b[38;5;241m*\u001b[39m F42) \u001b[38;5;241m+\u001b[39m Trace( F43_dag \u001b[38;5;241m*\u001b[39m F43 )\u001b[38;5;241m+\u001b[39m\n\u001b[0;32m      4\u001b[0m         Abs(G12)\u001b[38;5;241m*\u001b[39mAbs(G12) \u001b[38;5;241m+\u001b[39m Abs(G21)\u001b[38;5;241m*\u001b[39mAbs(G21) \u001b[38;5;241m+\u001b[39m Abs(G13)\u001b[38;5;241m*\u001b[39mAbs(G13) \u001b[38;5;241m+\u001b[39m Abs(G31)\u001b[38;5;241m*\u001b[39mAbs(G31) \u001b[38;5;241m+\u001b[39m Abs(G32)\u001b[38;5;241m*\u001b[39mAbs(G32) \u001b[38;5;241m+\u001b[39m Abs(G23)\u001b[38;5;241m*\u001b[39mAbs(G23) \u001b[38;5;241m+\u001b[39m \n\u001b[0;32m      5\u001b[0m         Trace( (G41_dag \u001b[38;5;241m*\u001b[39m G41) )\u001b[38;5;241m.\u001b[39mexpand() \u001b[38;5;241m+\u001b[39m Trace( (G14 \u001b[38;5;241m*\u001b[39m G14_dag) )\u001b[38;5;241m.\u001b[39mexpand() \u001b[38;5;241m+\u001b[39m Trace( (G42_dag \u001b[38;5;241m*\u001b[39m G42) )\u001b[38;5;241m.\u001b[39mexpand() \u001b[38;5;241m+\u001b[39m \n\u001b[0;32m      6\u001b[0m         Trace( (G24 \u001b[38;5;241m*\u001b[39m G24_dag) )\u001b[38;5;241m.\u001b[39mexpand() \u001b[38;5;241m+\u001b[39m Trace( (G43_dag \u001b[38;5;241m*\u001b[39m G43) )\u001b[38;5;241m.\u001b[39mexpand() \u001b[38;5;241m+\u001b[39m Trace( (G34 \u001b[38;5;241m*\u001b[39m G34_dag) )\u001b[38;5;241m.\u001b[39mexpand() )\n",
      "\u001b[1;31mNameError\u001b[0m: name 'F14' is not defined"
     ]
    }
   ],
   "source": [
    "V_F = ( Abs(F12)*Abs(F12) + Abs(F21)*Abs(F21) + Abs(F13)*Abs(F13) + Abs(F31)*Abs(F31) + Abs(F32)*Abs(F32) + Abs(F23)*Abs(F23) +\n",
    "        F14 * F14_dag + F24 * F24_dag + F34 * F34_dag + \n",
    "        Trace( F41_dag * F41 ) + Trace( F42_dag * F42) + Trace( F43_dag * F43 )+\n",
    "        Abs(G12)*Abs(G12) + Abs(G21)*Abs(G21) + Abs(G13)*Abs(G13) + Abs(G31)*Abs(G31) + Abs(G32)*Abs(G32) + Abs(G23)*Abs(G23) + \n",
    "        Trace( (G41_dag * G41) ).expand() + Trace( (G14 * G14_dag) ).expand() + Trace( (G42_dag * G42) ).expand() + \n",
    "        Trace( (G24 * G24_dag) ).expand() + Trace( (G43_dag * G43) ).expand() + Trace( (G34 * G34_dag) ).expand() )"
   ]
  },
  {
   "cell_type": "markdown",
   "id": "a9aa9604",
   "metadata": {},
   "source": [
    "### V"
   ]
  },
  {
   "cell_type": "code",
   "execution_count": null,
   "id": "4573bf04",
   "metadata": {
    "scrolled": true
   },
   "outputs": [],
   "source": [
    "V = 1/2 * g*g*(V_gauge + V_D + V_F)"
   ]
  },
  {
   "cell_type": "markdown",
   "id": "3d860f70",
   "metadata": {},
   "source": [
    "## L"
   ]
  },
  {
   "cell_type": "code",
   "execution_count": 24,
   "id": "ea3b875a",
   "metadata": {},
   "outputs": [
    {
     "ename": "NameError",
     "evalue": "name 'V' is not defined",
     "output_type": "error",
     "traceback": [
      "\u001b[1;31m---------------------------------------------------------------------------\u001b[0m",
      "\u001b[1;31mNameError\u001b[0m                                 Traceback (most recent call last)",
      "Cell \u001b[1;32mIn[24], line 1\u001b[0m\n\u001b[1;32m----> 1\u001b[0m L \u001b[38;5;241m=\u001b[39m K \u001b[38;5;241m-\u001b[39m \u001b[43mV\u001b[49m\n",
      "\u001b[1;31mNameError\u001b[0m: name 'V' is not defined"
     ]
    }
   ],
   "source": [
    "L = K - V"
   ]
  },
  {
   "cell_type": "code",
   "execution_count": 25,
   "id": "6ec43d66",
   "metadata": {
    "scrolled": true
   },
   "outputs": [
    {
     "name": "stdout",
     "output_type": "stream",
     "text": [
      "(2*Trace(X4_6_dot))*I\n"
     ]
    }
   ],
   "source": [
    "print((Trace(X4_6_dot)**2).diff(X4_6_dot))"
   ]
  },
  {
   "cell_type": "markdown",
   "id": "6e89fbe0",
   "metadata": {},
   "source": [
    "#### E.O.M for X\n",
    "\n",
    "\n"
   ]
  },
  {
   "cell_type": "code",
   "execution_count": 26,
   "id": "83b5ffaa",
   "metadata": {
    "scrolled": true
   },
   "outputs": [
    {
     "ename": "NameError",
     "evalue": "name 'L' is not defined",
     "output_type": "error",
     "traceback": [
      "\u001b[1;31m---------------------------------------------------------------------------\u001b[0m",
      "\u001b[1;31mNameError\u001b[0m                                 Traceback (most recent call last)",
      "Cell \u001b[1;32mIn[26], line 1\u001b[0m\n\u001b[1;32m----> 1\u001b[0m \u001b[43mL\u001b[49m\u001b[38;5;241m.\u001b[39mdiff(X1_6_dot)\n",
      "\u001b[1;31mNameError\u001b[0m: name 'L' is not defined"
     ]
    }
   ],
   "source": [
    "L.diff(X1_6_dot)"
   ]
  },
  {
   "cell_type": "markdown",
   "id": "6be9236b",
   "metadata": {},
   "source": [
    "$\\frac{\\partial}{\\partial t}\\frac{\\partial L}{\\partial X} = \\ddot{X} $ $=>\\ddot{X} = \\frac{\\partial L}{\\partial X}$\n"
   ]
  },
  {
   "cell_type": "markdown",
   "id": "236442b4",
   "metadata": {},
   "source": [
    "$Z14_dag = (Z^{14})^{\\dagger}$"
   ]
  },
  {
   "cell_type": "markdown",
   "id": "09edad82",
   "metadata": {},
   "source": [
    "partial_L_partial_X1_1 = L.diff(X1_1)\n",
    "partial_L_partial_X1_2 = L.diff(X1_2)\n",
    "partial_L_partial_X1_3 = L.diff(X1_3)\n",
    "partial_L_partial_X1_4 = L.diff(X1_4)\n",
    "partial_L_partial_X1_5 = L.diff(X1_5)\n",
    "partial_L_partial_X1_6 = L.diff(X1_6)\n",
    "partial_L_partial_X1_7 = L.diff(X1_7)\n",
    "partial_L_partial_X1_8 = L.diff(X1_8)\n",
    "partial_L_partial_X1_9 = L.diff(X1_9)\n",
    "\n",
    "partial_L_partial_X2_1 = L.diff(X2_1)\n",
    "partial_L_partial_X2_2 = L.diff(X2_2)\n",
    "partial_L_partial_X2_3 = L.diff(X2_3)\n",
    "partial_L_partial_X2_4 = L.diff(X2_4)\n",
    "partial_L_partial_X2_5 = L.diff(X2_5)\n",
    "partial_L_partial_X2_6 = L.diff(X2_6)\n",
    "partial_L_partial_X2_7 = L.diff(X2_7)\n",
    "partial_L_partial_X2_8 = L.diff(X2_8)\n",
    "partial_L_partial_X2_9 = L.diff(X2_9)\n",
    "\n",
    "partial_L_partial_X3_1 = L.diff(X3_1)\n",
    "partial_L_partial_X3_2 = L.diff(X3_2)\n",
    "partial_L_partial_X3_3 = L.diff(X3_3)\n",
    "partial_L_partial_X3_4 = L.diff(X3_4)\n",
    "partial_L_partial_X3_5 = L.diff(X3_5)\n",
    "partial_L_partial_X3_6 = L.diff(X3_6)\n",
    "partial_L_partial_X3_7 = L.diff(X3_7)\n",
    "partial_L_partial_X3_8 = L.diff(X3_8)\n",
    "partial_L_partial_X3_9 = L.diff(X3_9)\n",
    "\n",
    "partial_L_partial_X4_1 = L.diff(X4_1)\n",
    "partial_L_partial_X4_2 = L.diff(X4_2)\n",
    "partial_L_partial_X4_3 = L.diff(X4_3)\n",
    "partial_L_partial_X4_4 = L.diff(X4_4)\n",
    "partial_L_partial_X4_5 = L.diff(X4_5)\n",
    "partial_L_partial_X4_6 = L.diff(X4_6)\n",
    "partial_L_partial_X4_7 = L.diff(X4_7)\n",
    "partial_L_partial_X4_8 = L.diff(X4_8)\n",
    "partial_L_partial_X4_9 = L.diff(X4_9)"
   ]
  },
  {
   "cell_type": "markdown",
   "id": "0ee290d8",
   "metadata": {},
   "source": [
    "# Split up Matrix and Scalar algebra"
   ]
  },
  {
   "cell_type": "markdown",
   "id": "090b629c",
   "metadata": {},
   "source": [
    "## K_scalar"
   ]
  },
  {
   "cell_type": "code",
   "execution_count": 31,
   "id": "54572cd3",
   "metadata": {},
   "outputs": [],
   "source": [
    "# All of K is made of scalars as all MatrixSymbols should be put into Trace()\n",
    "\n",
    "K_scalar = K"
   ]
  },
  {
   "cell_type": "markdown",
   "id": "ec2345d8",
   "metadata": {},
   "source": [
    "## V_gauge_scalar"
   ]
  },
  {
   "cell_type": "code",
   "execution_count": 32,
   "id": "743b4ef8",
   "metadata": {},
   "outputs": [],
   "source": [
    "# All of V_gauge is made of scalars. So V_gauge_scalar = V_gauge\n",
    "V_gauge_scalar = V_gauge"
   ]
  },
  {
   "cell_type": "markdown",
   "id": "91fef14b",
   "metadata": {},
   "source": [
    "## V_D_scalar"
   ]
  },
  {
   "cell_type": "code",
   "execution_count": 33,
   "id": "740b5a87",
   "metadata": {},
   "outputs": [],
   "source": [
    "# All parts of argument of Tr() inside V_D that are non-zero scalars.\n",
    "V_D_argument_scalar = (c1/(g*g))*(c1/(g*g)) + (c2/(g*g))*(c2/(g*g)) + (c3/(g*g))*(c3/(g*g)) \n",
    "\n",
    "V_D_scalar = 1/2 * V_D_argument_scalar"
   ]
  },
  {
   "cell_type": "markdown",
   "id": "38160674",
   "metadata": {},
   "source": [
    "## V_F_scalar"
   ]
  },
  {
   "cell_type": "code",
   "execution_count": 34,
   "id": "0dad375d",
   "metadata": {},
   "outputs": [
    {
     "ename": "NameError",
     "evalue": "name 'F41_dag' is not defined",
     "output_type": "error",
     "traceback": [
      "\u001b[1;31m---------------------------------------------------------------------------\u001b[0m",
      "\u001b[1;31mNameError\u001b[0m                                 Traceback (most recent call last)",
      "Cell \u001b[1;32mIn[34], line 6\u001b[0m\n\u001b[0;32m      1\u001b[0m V_F_scalar\u001b[38;5;241m=\u001b[39m ( \u001b[38;5;66;03m## Abs(Fij)**2\u001b[39;00m\n\u001b[0;32m      2\u001b[0m               Abs(F12)\u001b[38;5;241m*\u001b[39mAbs(F12)\u001b[38;5;241m+\u001b[39m Abs(F21)\u001b[38;5;241m*\u001b[39mAbs(F21)\u001b[38;5;241m+\u001b[39m Abs(F13)\u001b[38;5;241m*\u001b[39mAbs(F13)\u001b[38;5;241m+\u001b[39m Abs(F31)\u001b[38;5;241m*\u001b[39mAbs(F31)\u001b[38;5;241m+\u001b[39m Abs(F32)\u001b[38;5;241m*\u001b[39mAbs(F32)\u001b[38;5;241m+\u001b[39m Abs(F23)\u001b[38;5;241m*\u001b[39mAbs(F23)\u001b[38;5;241m+\u001b[39m\n\u001b[0;32m      3\u001b[0m               \u001b[38;5;66;03m## Abs(Fi4)**2 scalar parts\u001b[39;00m\n\u001b[0;32m      4\u001b[0m               c14\u001b[38;5;241m/\u001b[39m(g\u001b[38;5;241m*\u001b[39mg)\u001b[38;5;241m*\u001b[39mN \u001b[38;5;241m+\u001b[39m c24\u001b[38;5;241m/\u001b[39m(g\u001b[38;5;241m*\u001b[39mg)\u001b[38;5;241m*\u001b[39mN \u001b[38;5;241m+\u001b[39m c34\u001b[38;5;241m/\u001b[39m(g\u001b[38;5;241m*\u001b[39mg)\u001b[38;5;241m*\u001b[39mN \u001b[38;5;241m+\u001b[39m \n\u001b[0;32m      5\u001b[0m               \u001b[38;5;66;03m## Tr(F4i_dag*F4i)\u001b[39;00m\n\u001b[1;32m----> 6\u001b[0m               Trace( \u001b[43mF41_dag\u001b[49m \u001b[38;5;241m*\u001b[39m F41 ) \u001b[38;5;241m+\u001b[39m Trace( F42_dag \u001b[38;5;241m*\u001b[39m F42) \u001b[38;5;241m+\u001b[39m Trace( F43_dag \u001b[38;5;241m*\u001b[39m F43 ) \u001b[38;5;241m+\u001b[39m\n\u001b[0;32m      7\u001b[0m              \u001b[38;5;66;03m## Abs(Gij)**2 scalar parts\u001b[39;00m\n\u001b[0;32m      8\u001b[0m              \u001b[38;5;66;03m#G12\u001b[39;00m\n\u001b[0;32m      9\u001b[0m              ( phi12\u001b[38;5;241m*\u001b[39mZ12\u001b[38;5;241m*\u001b[39mphi12_dag\u001b[38;5;241m*\u001b[39mZ12_dag \u001b[38;5;241m+\u001b[39m phi12\u001b[38;5;241m*\u001b[39mZ12\u001b[38;5;241m*\u001b[39mZ32_dag\u001b[38;5;241m*\u001b[39mZ13_dag \u001b[38;5;241m+\u001b[39m Z13\u001b[38;5;241m*\u001b[39mZ32\u001b[38;5;241m*\u001b[39mphi12_dag\u001b[38;5;241m*\u001b[39mZ12_dag \u001b[38;5;241m+\u001b[39m Z13\u001b[38;5;241m*\u001b[39mZ32\u001b[38;5;241m*\u001b[39mZ32_dag\u001b[38;5;241m*\u001b[39mZ13_dag ) \u001b[38;5;241m+\u001b[39m\n\u001b[0;32m     10\u001b[0m              \u001b[38;5;66;03m#G21\u001b[39;00m\n\u001b[0;32m     11\u001b[0m              ( phi12\u001b[38;5;241m*\u001b[39mZ21\u001b[38;5;241m*\u001b[39mphi12_dag\u001b[38;5;241m*\u001b[39mZ21_dag \u001b[38;5;241m+\u001b[39m phi12\u001b[38;5;241m*\u001b[39mZ21\u001b[38;5;241m*\u001b[39mZ31_dag\u001b[38;5;241m*\u001b[39mZ23_dag \u001b[38;5;241m+\u001b[39m Z23\u001b[38;5;241m*\u001b[39mZ31\u001b[38;5;241m*\u001b[39mphi12_dag\u001b[38;5;241m*\u001b[39mZ21_dag \u001b[38;5;241m+\u001b[39m Z23\u001b[38;5;241m*\u001b[39mZ31\u001b[38;5;241m*\u001b[39mZ31_dag\u001b[38;5;241m*\u001b[39mZ23_dag ) \u001b[38;5;241m+\u001b[39m\n\u001b[0;32m     12\u001b[0m              \u001b[38;5;66;03m#G13\u001b[39;00m\n\u001b[0;32m     13\u001b[0m              ( phi31\u001b[38;5;241m*\u001b[39mZ13\u001b[38;5;241m*\u001b[39mphi31_dag\u001b[38;5;241m*\u001b[39mZ13_dag \u001b[38;5;241m+\u001b[39m phi31\u001b[38;5;241m*\u001b[39mZ13\u001b[38;5;241m*\u001b[39mZ23_dag\u001b[38;5;241m*\u001b[39mZ12_dag \u001b[38;5;241m+\u001b[39m Z12\u001b[38;5;241m*\u001b[39mZ23\u001b[38;5;241m*\u001b[39mphi31_dag\u001b[38;5;241m*\u001b[39mZ13_dag \u001b[38;5;241m+\u001b[39m Z12\u001b[38;5;241m*\u001b[39mZ23\u001b[38;5;241m*\u001b[39mZ23_dag\u001b[38;5;241m*\u001b[39mZ12_dag ) \u001b[38;5;241m+\u001b[39m\n\u001b[0;32m     14\u001b[0m              \u001b[38;5;66;03m#G31\u001b[39;00m\n\u001b[0;32m     15\u001b[0m              ( phi31\u001b[38;5;241m*\u001b[39mZ31\u001b[38;5;241m*\u001b[39mphi31_dag\u001b[38;5;241m*\u001b[39mZ31_dag \u001b[38;5;241m+\u001b[39m phi31\u001b[38;5;241m*\u001b[39mZ31\u001b[38;5;241m*\u001b[39mZ21_dag\u001b[38;5;241m*\u001b[39mZ32_dag \u001b[38;5;241m+\u001b[39m Z32\u001b[38;5;241m*\u001b[39mZ21\u001b[38;5;241m*\u001b[39mphi31_dag\u001b[38;5;241m*\u001b[39mZ31_dag \u001b[38;5;241m+\u001b[39m Z32\u001b[38;5;241m*\u001b[39mZ21\u001b[38;5;241m*\u001b[39mZ21_dag\u001b[38;5;241m*\u001b[39mZ32_dag ) \u001b[38;5;241m+\u001b[39m\n\u001b[0;32m     16\u001b[0m              \u001b[38;5;66;03m#G32\u001b[39;00m\n\u001b[0;32m     17\u001b[0m              ( phi23\u001b[38;5;241m*\u001b[39mZ32\u001b[38;5;241m*\u001b[39mphi23_dag\u001b[38;5;241m*\u001b[39mZ32_dag \u001b[38;5;241m+\u001b[39m phi23\u001b[38;5;241m*\u001b[39mZ32\u001b[38;5;241m*\u001b[39mZ12_dag\u001b[38;5;241m*\u001b[39mZ31_dag \u001b[38;5;241m+\u001b[39m Z31\u001b[38;5;241m*\u001b[39mZ12\u001b[38;5;241m*\u001b[39mphi23_dag\u001b[38;5;241m*\u001b[39mZ32_dag \u001b[38;5;241m+\u001b[39m Z31\u001b[38;5;241m*\u001b[39mZ12\u001b[38;5;241m*\u001b[39mZ12_dag\u001b[38;5;241m*\u001b[39mZ31_dag ) \u001b[38;5;241m+\u001b[39m\n\u001b[0;32m     18\u001b[0m              \u001b[38;5;66;03m#G23\u001b[39;00m\n\u001b[0;32m     19\u001b[0m              ( phi23\u001b[38;5;241m*\u001b[39mZ23\u001b[38;5;241m*\u001b[39mphi23_dag\u001b[38;5;241m*\u001b[39mZ23_dag \u001b[38;5;241m+\u001b[39m phi23\u001b[38;5;241m*\u001b[39mZ23\u001b[38;5;241m*\u001b[39mZ13_dag\u001b[38;5;241m*\u001b[39mZ21_dag \u001b[38;5;241m+\u001b[39m Z21\u001b[38;5;241m*\u001b[39mZ13\u001b[38;5;241m*\u001b[39mphi23_dag\u001b[38;5;241m*\u001b[39mZ23_dag \u001b[38;5;241m+\u001b[39m Z21\u001b[38;5;241m*\u001b[39mZ13\u001b[38;5;241m*\u001b[39mZ13_dag\u001b[38;5;241m*\u001b[39mZ21_dag ) )\n",
      "\u001b[1;31mNameError\u001b[0m: name 'F41_dag' is not defined"
     ]
    }
   ],
   "source": [
    "V_F_scalar= ( ## Abs(Fij)**2\n",
    "              Abs(F12)*Abs(F12)+ Abs(F21)*Abs(F21)+ Abs(F13)*Abs(F13)+ Abs(F31)*Abs(F31)+ Abs(F32)*Abs(F32)+ Abs(F23)*Abs(F23)+\n",
    "              ## Abs(Fi4)**2 scalar parts\n",
    "              c14/(g*g)*N + c24/(g*g)*N + c34/(g*g)*N + \n",
    "              ## Tr(F4i_dag*F4i)\n",
    "              Trace( F41_dag * F41 ) + Trace( F42_dag * F42) + Trace( F43_dag * F43 ) +\n",
    "             ## Abs(Gij)**2 scalar parts\n",
    "             #G12\n",
    "             ( phi12*Z12*phi12_dag*Z12_dag + phi12*Z12*Z32_dag*Z13_dag + Z13*Z32*phi12_dag*Z12_dag + Z13*Z32*Z32_dag*Z13_dag ) +\n",
    "             #G21\n",
    "             ( phi12*Z21*phi12_dag*Z21_dag + phi12*Z21*Z31_dag*Z23_dag + Z23*Z31*phi12_dag*Z21_dag + Z23*Z31*Z31_dag*Z23_dag ) +\n",
    "             #G13\n",
    "             ( phi31*Z13*phi31_dag*Z13_dag + phi31*Z13*Z23_dag*Z12_dag + Z12*Z23*phi31_dag*Z13_dag + Z12*Z23*Z23_dag*Z12_dag ) +\n",
    "             #G31\n",
    "             ( phi31*Z31*phi31_dag*Z31_dag + phi31*Z31*Z21_dag*Z32_dag + Z32*Z21*phi31_dag*Z31_dag + Z32*Z21*Z21_dag*Z32_dag ) +\n",
    "             #G32\n",
    "             ( phi23*Z32*phi23_dag*Z32_dag + phi23*Z32*Z12_dag*Z31_dag + Z31*Z12*phi23_dag*Z32_dag + Z31*Z12*Z12_dag*Z31_dag ) +\n",
    "             #G23\n",
    "             ( phi23*Z23*phi23_dag*Z23_dag + phi23*Z23*Z13_dag*Z21_dag + Z21*Z13*phi23_dag*Z23_dag + Z21*Z13*Z13_dag*Z21_dag ) )"
   ]
  },
  {
   "cell_type": "markdown",
   "id": "c6895dd8",
   "metadata": {},
   "source": [
    "## V_scalar"
   ]
  },
  {
   "cell_type": "code",
   "execution_count": 216,
   "id": "87062408",
   "metadata": {},
   "outputs": [],
   "source": [
    "# Also add V_D_matrix in later\n",
    "# V_scalar = 1/2*g*g*(V_gauge_scalar + V_F_scalar + V_D_scalar)"
   ]
  },
  {
   "cell_type": "markdown",
   "id": "2cde6441",
   "metadata": {},
   "source": [
    "## K_matrix"
   ]
  },
  {
   "cell_type": "code",
   "execution_count": 217,
   "id": "9a822ba9",
   "metadata": {},
   "outputs": [],
   "source": [
    "# K_matrix = 0 {The Zero Matrix}"
   ]
  },
  {
   "cell_type": "markdown",
   "id": "96598adf",
   "metadata": {},
   "source": [
    "## V_gauge_matrix"
   ]
  },
  {
   "cell_type": "code",
   "execution_count": 218,
   "id": "45c78e1e",
   "metadata": {},
   "outputs": [],
   "source": [
    "# V_gauge_matrix = 0 {The Zero Matrix}"
   ]
  },
  {
   "cell_type": "markdown",
   "id": "bddf261b",
   "metadata": {},
   "source": [
    "## V_D_matrix"
   ]
  },
  {
   "cell_type": "code",
   "execution_count": 219,
   "id": "bc46deed",
   "metadata": {},
   "outputs": [],
   "source": [
    "# Simply the argument of ()**2 in V_D term when k = 4 since all values are MatrixSymbols\n",
    "V_D_argument_matrix_k_is_4 = ( Z41 * Z41_dag + Z42 * Z42_dag + Z43 * Z43_dag + \n",
    "                             ( Z14_dag * Z14 + Z24_dag * Z24 + Z34_dag * Z34 ) + \n",
    "                             ( (phi4_1*phi4_1_dag).expand() - (phi4_1_dag*phi4_1).expand() + (phi4_2*phi4_2_dag).expand() - \n",
    "                             (phi4_2_dag*phi4_2).expand() + (phi4_3*phi4_3_dag).expand() - (phi4_3_dag*phi4_3).expand() ) - \n",
    "                              c4/(g*g)*Identity(N) )\n",
    "\n",
    "# All MatrixSymbols in the argument of Tr() for l = 4. So the square is already taken here and won't be taken inside V_D_matrix.\n",
    "V_D_argument_matrix_l_is_4 = (  (Z14*Z14_dag)*(Z14*Z14_dag) + (Z24*Z24_dag)*(Z24*Z24_dag) + (Z34*Z34_dag)*(Z34*Z34_dag) + \n",
    "                                (Z41_dag*Z41)*(Z41_dag*Z41) + (Z42_dag*Z42)*(Z42_dag*Z42) + (Z43_dag*Z43)*(Z43_dag*Z43) +\n",
    "                               -(Z14*Z14_dag)*(Z41_dag*Z41) - (Z24*Z24_dag)*(Z42_dag*Z42) - (Z34*Z34_dag)*(Z43_dag*Z43) +\n",
    "                               -(Z14*Z14_dag)*(c1/(g*g))    - (Z24*Z24_dag)*(c2/(g*g))    - (Z34*Z34_dag)*(c3/(g*g))    +\n",
    "                               -(Z41_dag*Z41)*(Z14*Z14_dag) - (Z42_dag*Z42)*(Z24*Z24_dag) - (Z43_dag*Z43)*(Z34*Z34_dag) +\n",
    "                                (Z41_dag*Z41)*(c1/(g*g))    - (Z42_dag*Z42)*(c2/(g*g))    - (Z43_dag*Z43)*(c3/(g*g))    +\n",
    "                               -(c1/(g*g))*(Z14*Z14_dag)    - (c2/(g*g))*(Z24*Z24_dag)    - (c3/(g*g))*(Z34*Z34_dag)    +\n",
    "                                (c1/(g*g))*(Z41_dag*Z41)    + (c2/(g*g))*(Z42_dag*Z42)    + (c3/(g*g))*(Z43_dag*Z43) )\n",
    "                            \n",
    "\n",
    "V_D_matrix = 1/2*Trace(V_D_argument_matrix_k_is_4 * V_D_argument_matrix_k_is_4) + 1/2*Trace(V_D_argument_matrix_l_is_4)"
   ]
  },
  {
   "cell_type": "markdown",
   "id": "ed989106",
   "metadata": {},
   "source": [
    "## V_F_matrix"
   ]
  },
  {
   "cell_type": "code",
   "execution_count": 220,
   "id": "5523339a",
   "metadata": {},
   "outputs": [],
   "source": [
    "V_F_matrix = ( ##Abs(Fi4)**2\n",
    "               (Z14*Z41)*(Z41_dag*Z14_dag) + (Z24*Z42)*(Z42_dag*Z24_dag) + (Z34*Z43)*(Z43_dag*Z34_dag) + \n",
    "               (Z14*Z41)*(c14*N/(g*g)) + (Z24*Z42)*(c24*N/(g*g)) + (Z34*Z43)*(c34*N/(g*g)) + \n",
    "               (c14*N/(g*g))*(Z41_dag*Z14_dag) + (c24*N/(g*g))*(Z42_dag*Z24_dag) + (c34*N/(g*g))*(Z43_dag*Z34_dag) +\n",
    "              ##Abs(Gij)**2\n",
    "              #G12\n",
    "               (phi12*Z12*Z42_dag*Z14_dag + Z13*Z32*Z42_dag*Z14_dag + Z14*Z42*phi12_dag*Z12_dag +\n",
    "                Z14*Z42*Z32_dag*Z13_dag + Z14*Z42*Z42_dag*Z14_dag ) +\n",
    "              #G21\n",
    "               (phi12*Z21*Z41_dag*Z24_dag + Z23*Z31*Z41_dag*Z24_dag + Z24*Z41*phi12_dag*Z21_dag +\n",
    "                Z24*Z41*Z31_dag*Z23_dag + Z24*Z41*Z41_dag*Z24_dag ) +\n",
    "              #G13\n",
    "               (phi31*Z13*Z43_dag*Z14_dag + Z12*Z23*Z43_dag*Z14_dag + Z14*Z43*phi31_dag*Z13_dag +\n",
    "                Z14*Z43*Z23_dag*Z12_dag + Z14*Z43*Z43_dag*Z14_dag ) +\n",
    "              #G31\n",
    "               (phi31*Z31*Z41_dag*(-Z34_dag) + Z32*Z21*Z41_dag*(-Z34_dag) + (-Z34)*Z41*phi31_dag*Z31_dag +\n",
    "                (-Z34)*Z41*Z21_dag*Z32_dag + (-Z34)*Z41*Z41_dag*(-Z34_dag) ) +\n",
    "              #G32\n",
    "               (phi23*Z32*Z42_dag*Z34_dag + Z31*Z12*Z42_dag*Z34_dag + Z34*Z42*phi23_dag*Z32_dag +\n",
    "                Z34*Z42*Z12_dag*Z31_dag + Z34*Z42*Z42_dag*Z34_dag ) +\n",
    "              #G23\n",
    "               (phi23*Z23*Z43_dag*Z24_dag + Z21*Z13*Z43_dag*Z24_dag + Z24*Z43*phi23_dag*Z23_dag +\n",
    "                Z24*Z43*Z13_dag*Z21_dag + Z24*Z43*Z43_dag*Z24_dag ) +\n",
    "               (G41_dag * G41) + (G14 * G14_dag) + \n",
    "               (G42_dag * G42) + (G24 * G24_dag) + \n",
    "               (G43_dag * G43) + (G34 * G34_dag) )"
   ]
  },
  {
   "cell_type": "markdown",
   "id": "15418ccb",
   "metadata": {},
   "source": [
    "## V_matrix"
   ]
  },
  {
   "cell_type": "code",
   "execution_count": 221,
   "id": "693939bc",
   "metadata": {},
   "outputs": [],
   "source": [
    "# Cannot add V_D_matrix here as it is a scalar now that Trace() is taken and that's needed to get correct derivatives\n",
    "V_matrix = 1/2*g*g*(V_F_matrix)"
   ]
  },
  {
   "cell_type": "markdown",
   "id": "98c28b63",
   "metadata": {},
   "source": [
    " The best that can be done is to add V_D_matrix to V_scalar"
   ]
  },
  {
   "cell_type": "code",
   "execution_count": 222,
   "id": "d93e934f",
   "metadata": {},
   "outputs": [],
   "source": [
    "V_scalar = 1/2*g*g*(V_gauge_scalar + V_F_scalar + V_D_scalar + V_D_matrix)"
   ]
  },
  {
   "cell_type": "markdown",
   "id": "23a92e5a",
   "metadata": {},
   "source": [
    "## L_scalar"
   ]
  },
  {
   "cell_type": "code",
   "execution_count": 227,
   "id": "6dfe33bd",
   "metadata": {},
   "outputs": [],
   "source": [
    "L_scalar = K_scalar - V_scalar"
   ]
  },
  {
   "cell_type": "markdown",
   "id": "76ed213b",
   "metadata": {},
   "source": [
    "## L_matrix"
   ]
  },
  {
   "cell_type": "code",
   "execution_count": 241,
   "id": "646019d1",
   "metadata": {},
   "outputs": [],
   "source": [
    "L_matrix = - V_matrix"
   ]
  },
  {
   "cell_type": "markdown",
   "id": "4ebc4170",
   "metadata": {},
   "source": [
    "# Derivatives"
   ]
  },
  {
   "cell_type": "code",
   "execution_count": 304,
   "id": "3e7716e0",
   "metadata": {},
   "outputs": [],
   "source": [
    "Xs =         [X1_1, X1_2, X1_3, X1_4, X1_5, X1_6, X1_7, X1_8, X1_9,\n",
    "              X2_1, X2_2, X2_3, X2_4, X2_5, X2_6, X2_7, X2_8, X2_9,\n",
    "              X3_1, X3_2, X3_3, X3_4, X3_5, X3_6, X3_7, X3_8, X3_9,\n",
    "              X4_1, X4_2, X4_3]\n",
    "\n",
    "Xs_with_errors = [X4_4, X4_5, X4_6, X4_7, X4_8, X4_9]\n",
    "\n",
    "X_dots = [X1_1_dot, X1_2_dot, X1_3_dot, X1_4_dot, X1_5_dot, X1_6_dot, X1_7_dot, X1_8_dot, X1_9_dot,\n",
    "              X2_1_dot, X2_2_dot, X2_3_dot, X2_4_dot, X2_5_dot, X2_6_dot, X2_7_dot, X2_8_dot, X2_9_dot,\n",
    "              X3_1_dot, X3_2_dot, X3_3_dot, X3_4_dot, X3_5_dot, X3_6_dot, X3_7_dot, X3_8_dot, X3_9_dot,\n",
    "              X4_1_dot, X4_2_dot, X4_3_dot, X4_4_dot, X4_5_dot, X4_6_dot, X4_7_dot, X4_8_dot, X4_9_dot]\n",
    "\n",
    "Zs = [ Z12, Z13, Z21, Z23, Z31, Z32, Z14, Z24, Z34, Z41, Z42, Z43]\n",
    "Ps = [ P12, P13, P21, P23, P31, P32]\n",
    "Qs = [ Q12, Q13, Q21, Q23, Q31, Q32]\n",
    "\n",
    "Ps_with_errors = [P14, P24, P34, P41, P42, P43]\n",
    "Qs_with_errors = [Q14, Q24, Q34, Q41, Q42, Q43]\n",
    "\n",
    "\n",
    "Zs_dot = [ Z12_dot, Z13_dot, Z21_dot, Z23_dot, Z31_dot, Z32_dot, Z14_dot, Z24_dot, Z34_dot, Z41_dot, Z42_dot, Z43_dot]\n",
    "Ps_dot = [ P12_dot, P13_dot, P21_dot, P23_dot, P31_dot, P32_dot, P14_dot, P24_dot, P34_dot, P41_dot, P42_dot, P43_dot]\n",
    "Qs_dot = [ Q12_dot, Q13_dot, Q21_dot, Q23_dot, Q31_dot, Q32_dot, Q14_dot, Q24_dot, Q34_dot, Q41_dot, Q42_dot, Q43_dot]"
   ]
  },
  {
   "cell_type": "code",
   "execution_count": 305,
   "id": "20237003",
   "metadata": {
    "scrolled": false
   },
   "outputs": [
    {
     "name": "stdout",
     "output_type": "stream",
     "text": [
      "X1_1 :\n",
      "-0.5*g**2*(2*X1_1*Trace(P14.T*P14) + 2*I*X1_1*Trace(P14.T*Q14) + 2*X1_1*Trace(P41.T*P41) + 2*I*X1_1*Trace(P41.T*Q41) - 2*I*X1_1*Trace(Q14.T*P14) + 2*X1_1*Trace(Q14.T*Q14) - 2*I*X1_1*Trace(Q41.T*P41) + 2*X1_1*Trace(Q41.T*Q41) + (P12 - I*Q12)*(P12*X1_1 - P12*X2_1 + I*Q12*X1_1 - I*Q12*X2_1) + (P12 + I*Q12)*(X1_1*(P12 - I*Q12) - X2_1*(P12 - I*Q12)) + (P13 - I*Q13)*(P13*X1_1 - P13*X3_1 + I*Q13*X1_1 - I*Q13*X3_1) + (P13 + I*Q13)*(X1_1*(P13 - I*Q13) - X3_1*(P13 - I*Q13)) + (-P21 - I*Q21)*(-X1_1*(P21 - I*Q21) + X2_1*(P21 - I*Q21)) + (-P21 + I*Q21)*(-P21*X1_1 + P21*X2_1 - I*Q21*X1_1 + I*Q21*X2_1) + (-P31 - I*Q31)*(-X1_1*(P31 - I*Q31) + X3_1*(P31 - I*Q31)) + (-P31 + I*Q31)*(-P31*X1_1 + P31*X3_1 - I*Q31*X1_1 + I*Q31*X3_1) - Trace(X4_1*P14.T*P14) - I*Trace(X4_1*P14.T*Q14) + I*Trace(X4_1*Q14.T*P14) - Trace(X4_1*Q14.T*Q14) - Trace(P14.T*P14*X4_1) - I*Trace(P14.T*Q14*X4_1) - 2*Trace(P41.T*X4_1*P41) - 2*I*Trace(P41.T*X4_1*Q41) + I*Trace(Q14.T*P14*X4_1) - Trace(Q14.T*Q14*X4_1) + 2*I*Trace(Q41.T*X4_1*P41) - 2*Trace(Q41.T*X4_1*Q41)) +\n",
      "0\n",
      "\n",
      "\n",
      "X1_2 :\n",
      "-0.5*g**2*(2*P12**2*X1_2 - 2*P12**2*X2_2 + 2*P13**2*X1_2 - 2*P13**2*X3_2 + 2*P21**2*X1_2 - 2*P21**2*X2_2 + 2*P31**2*X1_2 - 2*P31**2*X3_2 + 2*Q12**2*X1_2 - 2*Q12**2*X2_2 + 2*Q13**2*X1_2 - 2*Q13**2*X3_2 + 2*Q21**2*X1_2 - 2*Q21**2*X2_2 + 2*Q31**2*X1_2 - 2*Q31**2*X3_2 + 2*X1_2*Trace(P14.T*P14) + 2*I*X1_2*Trace(P14.T*Q14) + 2*X1_2*Trace(P41.T*P41) + 2*I*X1_2*Trace(P41.T*Q41) - 2*I*X1_2*Trace(Q14.T*P14) + 2*X1_2*Trace(Q14.T*Q14) - 2*I*X1_2*Trace(Q41.T*P41) + 2*X1_2*Trace(Q41.T*Q41) - Trace(X4_2*P14.T*P14) - I*Trace(X4_2*P14.T*Q14) + I*Trace(X4_2*Q14.T*P14) - Trace(X4_2*Q14.T*Q14) - Trace(P14.T*P14*X4_2) - I*Trace(P14.T*Q14*X4_2) - 2*Trace(P41.T*X4_2*P41) - 2*I*Trace(P41.T*X4_2*Q41) + I*Trace(Q14.T*P14*X4_2) - Trace(Q14.T*Q14*X4_2) + 2*I*Trace(Q41.T*X4_2*P41) - 2*Trace(Q41.T*X4_2*Q41)) +\n",
      "0\n",
      "\n",
      "\n",
      "X1_3 :\n",
      "-0.5*g**2*(2*P12**2*X1_3 - 2*P12**2*X2_3 + 2*P13**2*X1_3 - 2*P13**2*X3_3 + 2*P21**2*X1_3 - 2*P21**2*X2_3 + 2*P31**2*X1_3 - 2*P31**2*X3_3 + 2*Q12**2*X1_3 - 2*Q12**2*X2_3 + 2*Q13**2*X1_3 - 2*Q13**2*X3_3 + 2*Q21**2*X1_3 - 2*Q21**2*X2_3 + 2*Q31**2*X1_3 - 2*Q31**2*X3_3 + 2*X1_3*Trace(P14.T*P14) + 2*I*X1_3*Trace(P14.T*Q14) + 2*X1_3*Trace(P41.T*P41) + 2*I*X1_3*Trace(P41.T*Q41) - 2*I*X1_3*Trace(Q14.T*P14) + 2*X1_3*Trace(Q14.T*Q14) - 2*I*X1_3*Trace(Q41.T*P41) + 2*X1_3*Trace(Q41.T*Q41) - Trace(X4_3*P14.T*P14) - I*Trace(X4_3*P14.T*Q14) + I*Trace(X4_3*Q14.T*P14) - Trace(X4_3*Q14.T*Q14) - Trace(P14.T*P14*X4_3) - I*Trace(P14.T*Q14*X4_3) - 2*Trace(P41.T*X4_3*P41) - 2*I*Trace(P41.T*X4_3*Q41) + I*Trace(Q14.T*P14*X4_3) - Trace(Q14.T*Q14*X4_3) + 2*I*Trace(Q41.T*X4_3*P41) - 2*Trace(Q41.T*X4_3*Q41)) +\n",
      "0\n",
      "\n",
      "\n",
      "X1_4 :\n",
      "0 +\n",
      "0\n",
      "\n",
      "\n",
      "X1_5 :\n",
      "0 +\n",
      "0\n",
      "\n",
      "\n",
      "X1_6 :\n",
      "-0.5*g**2*(-sqrt(2)*(P12 - I*Q12)*(P13 + I*Q13)*(P23 - I*Q23)/2 - sqrt(2)*(P12 + I*Q12)*(P13 - I*Q13)*(P23 + I*Q23)/2 - sqrt(2)*(P13 - I*Q13)*(P13 + I*Q13)*(-sqrt(2)*(X1_6 - I*X1_7)/2 + sqrt(2)*(X3_6 - I*X3_7)/2)/2 - sqrt(2)*(P13 - I*Q13)*(P13 + I*Q13)*(-sqrt(2)*(X1_6 + I*X1_7)/2 + sqrt(2)*(X3_6 + I*X3_7)/2)/2 - sqrt(2)*(P21 - I*Q21)*(P31 + I*Q31)*(P32 - I*Q32)/2 - sqrt(2)*(P21 + I*Q21)*(P31 - I*Q31)*(P32 + I*Q32)/2 - sqrt(2)*(P31 - I*Q31)*(P31 + I*Q31)*(-sqrt(2)*(X1_6 - I*X1_7)/2 + sqrt(2)*(X3_6 - I*X3_7)/2)/2 - sqrt(2)*(P31 - I*Q31)*(P31 + I*Q31)*(-sqrt(2)*(X1_6 + I*X1_7)/2 + sqrt(2)*(X3_6 + I*X3_7)/2)/2) +\n",
      "(-0.5*g**2)*((-sqrt(2)*(P13 - I*Q13)/2)*(P14 + I*Q14)*(P43 + I*Q43) + (-sqrt(2)*(P13 + I*Q13)/2)*(P43.T - I*Q43.T)*(P14.T - I*Q14.T) + (-sqrt(2)*(P31 - I*Q31)/2)*(-P34 - I*Q34)*(P41 + I*Q41) + (-sqrt(2)*(P31 + I*Q31)/2)*(P41.T - I*Q41.T)*(-P34.T + I*Q34.T))\n",
      "\n",
      "\n",
      "X1_7 :\n",
      "-0.5*g**2*(-sqrt(2)*I*(P12 - I*Q12)*(P13 + I*Q13)*(P23 - I*Q23)/2 + sqrt(2)*I*(P12 + I*Q12)*(P13 - I*Q13)*(P23 + I*Q23)/2 - sqrt(2)*I*(P13 - I*Q13)*(P13 + I*Q13)*(-sqrt(2)*(X1_6 - I*X1_7)/2 + sqrt(2)*(X3_6 - I*X3_7)/2)/2 + sqrt(2)*I*(P13 - I*Q13)*(P13 + I*Q13)*(-sqrt(2)*(X1_6 + I*X1_7)/2 + sqrt(2)*(X3_6 + I*X3_7)/2)/2 - sqrt(2)*I*(P21 - I*Q21)*(P31 + I*Q31)*(P32 - I*Q32)/2 + sqrt(2)*I*(P21 + I*Q21)*(P31 - I*Q31)*(P32 + I*Q32)/2 - sqrt(2)*I*(P31 - I*Q31)*(P31 + I*Q31)*(-sqrt(2)*(X1_6 - I*X1_7)/2 + sqrt(2)*(X3_6 - I*X3_7)/2)/2 + sqrt(2)*I*(P31 - I*Q31)*(P31 + I*Q31)*(-sqrt(2)*(X1_6 + I*X1_7)/2 + sqrt(2)*(X3_6 + I*X3_7)/2)/2) +\n",
      "(-0.5*g**2)*((sqrt(2)*I*(P13 - I*Q13)/2)*(P14 + I*Q14)*(P43 + I*Q43) + (-sqrt(2)*I*(P13 + I*Q13)/2)*(P43.T - I*Q43.T)*(P14.T - I*Q14.T) + (sqrt(2)*I*(P31 - I*Q31)/2)*(-P34 - I*Q34)*(P41 + I*Q41) + (-sqrt(2)*I*(P31 + I*Q31)/2)*(P41.T - I*Q41.T)*(-P34.T + I*Q34.T))\n",
      "\n",
      "\n",
      "X1_8 :\n",
      "-0.5*g**2*(sqrt(2)*(P12 - I*Q12)*(P12 + I*Q12)*(sqrt(2)*(X1_8 - I*X1_9)/2 - sqrt(2)*(X2_8 - I*X2_9)/2)/2 + sqrt(2)*(P12 - I*Q12)*(P12 + I*Q12)*(sqrt(2)*(X1_8 + I*X1_9)/2 - sqrt(2)*(X2_8 + I*X2_9)/2)/2 + sqrt(2)*(P12 - I*Q12)*(P13 + I*Q13)*(P32 + I*Q32)/2 + sqrt(2)*(P12 + I*Q12)*(P13 - I*Q13)*(P32 - I*Q32)/2 + sqrt(2)*(P21 - I*Q21)*(P21 + I*Q21)*(sqrt(2)*(X1_8 - I*X1_9)/2 - sqrt(2)*(X2_8 - I*X2_9)/2)/2 + sqrt(2)*(P21 - I*Q21)*(P21 + I*Q21)*(sqrt(2)*(X1_8 + I*X1_9)/2 - sqrt(2)*(X2_8 + I*X2_9)/2)/2 + sqrt(2)*(P21 - I*Q21)*(P23 + I*Q23)*(P31 + I*Q31)/2 + sqrt(2)*(P21 + I*Q21)*(P23 - I*Q23)*(P31 - I*Q31)/2) +\n",
      "(-0.5*g**2)*((sqrt(2)*(P12 - I*Q12)/2)*(P14 + I*Q14)*(P42 + I*Q42) + (sqrt(2)*(P12 + I*Q12)/2)*(P42.T - I*Q42.T)*(P14.T - I*Q14.T) + (sqrt(2)*(P21 - I*Q21)/2)*(P24 + I*Q24)*(P41 + I*Q41) + (sqrt(2)*(P21 + I*Q21)/2)*(P41.T - I*Q41.T)*(P24.T - I*Q24.T))\n",
      "\n",
      "\n",
      "X1_9 :\n",
      "-0.5*g**2*(sqrt(2)*I*(P12 - I*Q12)*(P12 + I*Q12)*(sqrt(2)*(X1_8 - I*X1_9)/2 - sqrt(2)*(X2_8 - I*X2_9)/2)/2 - sqrt(2)*I*(P12 - I*Q12)*(P12 + I*Q12)*(sqrt(2)*(X1_8 + I*X1_9)/2 - sqrt(2)*(X2_8 + I*X2_9)/2)/2 - sqrt(2)*I*(P12 - I*Q12)*(P13 + I*Q13)*(P32 + I*Q32)/2 + sqrt(2)*I*(P12 + I*Q12)*(P13 - I*Q13)*(P32 - I*Q32)/2 + sqrt(2)*I*(P21 - I*Q21)*(P21 + I*Q21)*(sqrt(2)*(X1_8 - I*X1_9)/2 - sqrt(2)*(X2_8 - I*X2_9)/2)/2 - sqrt(2)*I*(P21 - I*Q21)*(P21 + I*Q21)*(sqrt(2)*(X1_8 + I*X1_9)/2 - sqrt(2)*(X2_8 + I*X2_9)/2)/2 - sqrt(2)*I*(P21 - I*Q21)*(P23 + I*Q23)*(P31 + I*Q31)/2 + sqrt(2)*I*(P21 + I*Q21)*(P23 - I*Q23)*(P31 - I*Q31)/2) +\n",
      "(-0.5*g**2)*((-sqrt(2)*I*(P12 - I*Q12)/2)*(P14 + I*Q14)*(P42 + I*Q42) + (sqrt(2)*I*(P12 + I*Q12)/2)*(P42.T - I*Q42.T)*(P14.T - I*Q14.T) + (-sqrt(2)*I*(P21 - I*Q21)/2)*(P24 + I*Q24)*(P41 + I*Q41) + (sqrt(2)*I*(P21 + I*Q21)/2)*(P41.T - I*Q41.T)*(P24.T - I*Q24.T))\n",
      "\n",
      "\n",
      "X2_1 :\n",
      "-0.5*g**2*(2*X2_1*Trace(P24.T*P24) + 2*I*X2_1*Trace(P24.T*Q24) + 2*X2_1*Trace(P42.T*P42) + 2*I*X2_1*Trace(P42.T*Q42) - 2*I*X2_1*Trace(Q24.T*P24) + 2*X2_1*Trace(Q24.T*Q24) - 2*I*X2_1*Trace(Q42.T*P42) + 2*X2_1*Trace(Q42.T*Q42) + (-P12 - I*Q12)*(X1_1*(P12 - I*Q12) - X2_1*(P12 - I*Q12)) + (-P12 + I*Q12)*(P12*X1_1 - P12*X2_1 + I*Q12*X1_1 - I*Q12*X2_1) + (P21 - I*Q21)*(-P21*X1_1 + P21*X2_1 - I*Q21*X1_1 + I*Q21*X2_1) + (P21 + I*Q21)*(-X1_1*(P21 - I*Q21) + X2_1*(P21 - I*Q21)) + (P23 - I*Q23)*(P23*X2_1 - P23*X3_1 + I*Q23*X2_1 - I*Q23*X3_1) + (P23 + I*Q23)*(X2_1*(P23 - I*Q23) - X3_1*(P23 - I*Q23)) + (-P32 - I*Q32)*(-X2_1*(P32 - I*Q32) + X3_1*(P32 - I*Q32)) + (-P32 + I*Q32)*(-P32*X2_1 + P32*X3_1 - I*Q32*X2_1 + I*Q32*X3_1) - Trace(X4_1*P24.T*P24) - I*Trace(X4_1*P24.T*Q24) + I*Trace(X4_1*Q24.T*P24) - Trace(X4_1*Q24.T*Q24) - Trace(P24.T*P24*X4_1) - I*Trace(P24.T*Q24*X4_1) - 2*Trace(P42.T*X4_1*P42) - 2*I*Trace(P42.T*X4_1*Q42) + I*Trace(Q24.T*P24*X4_1) - Trace(Q24.T*Q24*X4_1) + 2*I*Trace(Q42.T*X4_1*P42) - 2*Trace(Q42.T*X4_1*Q42)) +\n",
      "0\n",
      "\n",
      "\n",
      "X2_2 :\n",
      "-0.5*g**2*(-2*P12**2*X1_2 + 2*P12**2*X2_2 - 2*P21**2*X1_2 + 2*P21**2*X2_2 + 2*P23**2*X2_2 - 2*P23**2*X3_2 + 2*P32**2*X2_2 - 2*P32**2*X3_2 - 2*Q12**2*X1_2 + 2*Q12**2*X2_2 - 2*Q21**2*X1_2 + 2*Q21**2*X2_2 + 2*Q23**2*X2_2 - 2*Q23**2*X3_2 + 2*Q32**2*X2_2 - 2*Q32**2*X3_2 + 2*X2_2*Trace(P24.T*P24) + 2*I*X2_2*Trace(P24.T*Q24) + 2*X2_2*Trace(P42.T*P42) + 2*I*X2_2*Trace(P42.T*Q42) - 2*I*X2_2*Trace(Q24.T*P24) + 2*X2_2*Trace(Q24.T*Q24) - 2*I*X2_2*Trace(Q42.T*P42) + 2*X2_2*Trace(Q42.T*Q42) - Trace(X4_2*P24.T*P24) - I*Trace(X4_2*P24.T*Q24) + I*Trace(X4_2*Q24.T*P24) - Trace(X4_2*Q24.T*Q24) - Trace(P24.T*P24*X4_2) - I*Trace(P24.T*Q24*X4_2) - 2*Trace(P42.T*X4_2*P42) - 2*I*Trace(P42.T*X4_2*Q42) + I*Trace(Q24.T*P24*X4_2) - Trace(Q24.T*Q24*X4_2) + 2*I*Trace(Q42.T*X4_2*P42) - 2*Trace(Q42.T*X4_2*Q42)) +\n",
      "0\n",
      "\n",
      "\n",
      "X2_3 :\n",
      "-0.5*g**2*(-2*P12**2*X1_3 + 2*P12**2*X2_3 - 2*P21**2*X1_3 + 2*P21**2*X2_3 + 2*P23**2*X2_3 - 2*P23**2*X3_3 + 2*P32**2*X2_3 - 2*P32**2*X3_3 - 2*Q12**2*X1_3 + 2*Q12**2*X2_3 - 2*Q21**2*X1_3 + 2*Q21**2*X2_3 + 2*Q23**2*X2_3 - 2*Q23**2*X3_3 + 2*Q32**2*X2_3 - 2*Q32**2*X3_3 + 2*X2_3*Trace(P24.T*P24) + 2*I*X2_3*Trace(P24.T*Q24) + 2*X2_3*Trace(P42.T*P42) + 2*I*X2_3*Trace(P42.T*Q42) - 2*I*X2_3*Trace(Q24.T*P24) + 2*X2_3*Trace(Q24.T*Q24) - 2*I*X2_3*Trace(Q42.T*P42) + 2*X2_3*Trace(Q42.T*Q42) - Trace(X4_3*P24.T*P24) - I*Trace(X4_3*P24.T*Q24) + I*Trace(X4_3*Q24.T*P24) - Trace(X4_3*Q24.T*Q24) - Trace(P24.T*P24*X4_3) - I*Trace(P24.T*Q24*X4_3) - 2*Trace(P42.T*X4_3*P42) - 2*I*Trace(P42.T*X4_3*Q42) + I*Trace(Q24.T*P24*X4_3) - Trace(Q24.T*Q24*X4_3) + 2*I*Trace(Q42.T*X4_3*P42) - 2*Trace(Q42.T*X4_3*Q42)) +\n",
      "0\n",
      "\n",
      "\n",
      "X2_4 :\n"
     ]
    },
    {
     "name": "stdout",
     "output_type": "stream",
     "text": [
      "-0.5*g**2*(sqrt(2)*(P12 - I*Q12)*(P31 - I*Q31)*(P32 + I*Q32)/2 + sqrt(2)*(P12 + I*Q12)*(P31 + I*Q31)*(P32 - I*Q32)/2 + sqrt(2)*(P13 - I*Q13)*(P21 - I*Q21)*(P23 + I*Q23)/2 + sqrt(2)*(P13 + I*Q13)*(P21 + I*Q21)*(P23 - I*Q23)/2 + sqrt(2)*(P23 - I*Q23)*(P23 + I*Q23)*(sqrt(2)*(X2_4 - I*X2_5)/2 - sqrt(2)*(X3_4 - I*X3_5)/2)/2 + sqrt(2)*(P23 - I*Q23)*(P23 + I*Q23)*(sqrt(2)*(X2_4 + I*X2_5)/2 - sqrt(2)*(X3_4 + I*X3_5)/2)/2 + sqrt(2)*(P32 - I*Q32)*(P32 + I*Q32)*(sqrt(2)*(X2_4 - I*X2_5)/2 - sqrt(2)*(X3_4 - I*X3_5)/2)/2 + sqrt(2)*(P32 - I*Q32)*(P32 + I*Q32)*(sqrt(2)*(X2_4 + I*X2_5)/2 - sqrt(2)*(X3_4 + I*X3_5)/2)/2) +\n",
      "(-0.5*g**2)*((sqrt(2)*(P23 - I*Q23)/2)*(P24 + I*Q24)*(P43 + I*Q43) + (sqrt(2)*(P23 + I*Q23)/2)*(P43.T - I*Q43.T)*(P24.T - I*Q24.T) + (sqrt(2)*(P32 - I*Q32)/2)*(P34 + I*Q34)*(P42 + I*Q42) + (sqrt(2)*(P32 + I*Q32)/2)*(P42.T - I*Q42.T)*(P34.T - I*Q34.T))\n",
      "\n",
      "\n",
      "X2_5 :\n",
      "-0.5*g**2*(sqrt(2)*I*(P12 - I*Q12)*(P31 - I*Q31)*(P32 + I*Q32)/2 - sqrt(2)*I*(P12 + I*Q12)*(P31 + I*Q31)*(P32 - I*Q32)/2 + sqrt(2)*I*(P13 - I*Q13)*(P21 - I*Q21)*(P23 + I*Q23)/2 - sqrt(2)*I*(P13 + I*Q13)*(P21 + I*Q21)*(P23 - I*Q23)/2 + sqrt(2)*I*(P23 - I*Q23)*(P23 + I*Q23)*(sqrt(2)*(X2_4 - I*X2_5)/2 - sqrt(2)*(X3_4 - I*X3_5)/2)/2 - sqrt(2)*I*(P23 - I*Q23)*(P23 + I*Q23)*(sqrt(2)*(X2_4 + I*X2_5)/2 - sqrt(2)*(X3_4 + I*X3_5)/2)/2 + sqrt(2)*I*(P32 - I*Q32)*(P32 + I*Q32)*(sqrt(2)*(X2_4 - I*X2_5)/2 - sqrt(2)*(X3_4 - I*X3_5)/2)/2 - sqrt(2)*I*(P32 - I*Q32)*(P32 + I*Q32)*(sqrt(2)*(X2_4 + I*X2_5)/2 - sqrt(2)*(X3_4 + I*X3_5)/2)/2) +\n",
      "(-0.5*g**2)*((-sqrt(2)*I*(P23 - I*Q23)/2)*(P24 + I*Q24)*(P43 + I*Q43) + (sqrt(2)*I*(P23 + I*Q23)/2)*(P43.T - I*Q43.T)*(P24.T - I*Q24.T) + (-sqrt(2)*I*(P32 - I*Q32)/2)*(P34 + I*Q34)*(P42 + I*Q42) + (sqrt(2)*I*(P32 + I*Q32)/2)*(P42.T - I*Q42.T)*(P34.T - I*Q34.T))\n",
      "\n",
      "\n",
      "X2_6 :\n",
      "0 +\n",
      "0\n",
      "\n",
      "\n",
      "X2_7 :\n",
      "0 +\n",
      "0\n",
      "\n",
      "\n",
      "X2_8 :\n",
      "-0.5*g**2*(-sqrt(2)*(P12 - I*Q12)*(P12 + I*Q12)*(sqrt(2)*(X1_8 - I*X1_9)/2 - sqrt(2)*(X2_8 - I*X2_9)/2)/2 - sqrt(2)*(P12 - I*Q12)*(P12 + I*Q12)*(sqrt(2)*(X1_8 + I*X1_9)/2 - sqrt(2)*(X2_8 + I*X2_9)/2)/2 - sqrt(2)*(P12 - I*Q12)*(P13 + I*Q13)*(P32 + I*Q32)/2 - sqrt(2)*(P12 + I*Q12)*(P13 - I*Q13)*(P32 - I*Q32)/2 - sqrt(2)*(P21 - I*Q21)*(P21 + I*Q21)*(sqrt(2)*(X1_8 - I*X1_9)/2 - sqrt(2)*(X2_8 - I*X2_9)/2)/2 - sqrt(2)*(P21 - I*Q21)*(P21 + I*Q21)*(sqrt(2)*(X1_8 + I*X1_9)/2 - sqrt(2)*(X2_8 + I*X2_9)/2)/2 - sqrt(2)*(P21 - I*Q21)*(P23 + I*Q23)*(P31 + I*Q31)/2 - sqrt(2)*(P21 + I*Q21)*(P23 - I*Q23)*(P31 - I*Q31)/2) +\n",
      "(-0.5*g**2)*((-sqrt(2)*(P12 - I*Q12)/2)*(P14 + I*Q14)*(P42 + I*Q42) + (-sqrt(2)*(P12 + I*Q12)/2)*(P42.T - I*Q42.T)*(P14.T - I*Q14.T) + (-sqrt(2)*(P21 - I*Q21)/2)*(P24 + I*Q24)*(P41 + I*Q41) + (-sqrt(2)*(P21 + I*Q21)/2)*(P41.T - I*Q41.T)*(P24.T - I*Q24.T))\n",
      "\n",
      "\n",
      "X2_9 :\n",
      "-0.5*g**2*(-sqrt(2)*I*(P12 - I*Q12)*(P12 + I*Q12)*(sqrt(2)*(X1_8 - I*X1_9)/2 - sqrt(2)*(X2_8 - I*X2_9)/2)/2 + sqrt(2)*I*(P12 - I*Q12)*(P12 + I*Q12)*(sqrt(2)*(X1_8 + I*X1_9)/2 - sqrt(2)*(X2_8 + I*X2_9)/2)/2 + sqrt(2)*I*(P12 - I*Q12)*(P13 + I*Q13)*(P32 + I*Q32)/2 - sqrt(2)*I*(P12 + I*Q12)*(P13 - I*Q13)*(P32 - I*Q32)/2 - sqrt(2)*I*(P21 - I*Q21)*(P21 + I*Q21)*(sqrt(2)*(X1_8 - I*X1_9)/2 - sqrt(2)*(X2_8 - I*X2_9)/2)/2 + sqrt(2)*I*(P21 - I*Q21)*(P21 + I*Q21)*(sqrt(2)*(X1_8 + I*X1_9)/2 - sqrt(2)*(X2_8 + I*X2_9)/2)/2 + sqrt(2)*I*(P21 - I*Q21)*(P23 + I*Q23)*(P31 + I*Q31)/2 - sqrt(2)*I*(P21 + I*Q21)*(P23 - I*Q23)*(P31 - I*Q31)/2) +\n",
      "(-0.5*g**2)*((sqrt(2)*I*(P12 - I*Q12)/2)*(P14 + I*Q14)*(P42 + I*Q42) + (-sqrt(2)*I*(P12 + I*Q12)/2)*(P42.T - I*Q42.T)*(P14.T - I*Q14.T) + (sqrt(2)*I*(P21 - I*Q21)/2)*(P24 + I*Q24)*(P41 + I*Q41) + (-sqrt(2)*I*(P21 + I*Q21)/2)*(P41.T - I*Q41.T)*(P24.T - I*Q24.T))\n",
      "\n",
      "\n",
      "X3_1 :\n",
      "-0.5*g**2*(2*X3_1*Trace(P34.T*P34) + 2*I*X3_1*Trace(P34.T*Q34) + 2*X3_1*Trace(P43.T*P43) + 2*I*X3_1*Trace(P43.T*Q43) - 2*I*X3_1*Trace(Q34.T*P34) + 2*X3_1*Trace(Q34.T*Q34) - 2*I*X3_1*Trace(Q43.T*P43) + 2*X3_1*Trace(Q43.T*Q43) + (-P13 - I*Q13)*(X1_1*(P13 - I*Q13) - X3_1*(P13 - I*Q13)) + (-P13 + I*Q13)*(P13*X1_1 - P13*X3_1 + I*Q13*X1_1 - I*Q13*X3_1) + (-P23 - I*Q23)*(X2_1*(P23 - I*Q23) - X3_1*(P23 - I*Q23)) + (-P23 + I*Q23)*(P23*X2_1 - P23*X3_1 + I*Q23*X2_1 - I*Q23*X3_1) + (P31 - I*Q31)*(-P31*X1_1 + P31*X3_1 - I*Q31*X1_1 + I*Q31*X3_1) + (P31 + I*Q31)*(-X1_1*(P31 - I*Q31) + X3_1*(P31 - I*Q31)) + (P32 - I*Q32)*(-P32*X2_1 + P32*X3_1 - I*Q32*X2_1 + I*Q32*X3_1) + (P32 + I*Q32)*(-X2_1*(P32 - I*Q32) + X3_1*(P32 - I*Q32)) - Trace(X4_1*P34.T*P34) - I*Trace(X4_1*P34.T*Q34) + I*Trace(X4_1*Q34.T*P34) - Trace(X4_1*Q34.T*Q34) - Trace(P34.T*P34*X4_1) - I*Trace(P34.T*Q34*X4_1) - 2*Trace(P43.T*X4_1*P43) - 2*I*Trace(P43.T*X4_1*Q43) + I*Trace(Q34.T*P34*X4_1) - Trace(Q34.T*Q34*X4_1) + 2*I*Trace(Q43.T*X4_1*P43) - 2*Trace(Q43.T*X4_1*Q43)) +\n",
      "0\n",
      "\n",
      "\n",
      "X3_2 :\n",
      "-0.5*g**2*(-2*P13**2*X1_2 + 2*P13**2*X3_2 - 2*P23**2*X2_2 + 2*P23**2*X3_2 - 2*P31**2*X1_2 + 2*P31**2*X3_2 - 2*P32**2*X2_2 + 2*P32**2*X3_2 - 2*Q13**2*X1_2 + 2*Q13**2*X3_2 - 2*Q23**2*X2_2 + 2*Q23**2*X3_2 - 2*Q31**2*X1_2 + 2*Q31**2*X3_2 - 2*Q32**2*X2_2 + 2*Q32**2*X3_2 + 2*X3_2*Trace(P34.T*P34) + 2*I*X3_2*Trace(P34.T*Q34) + 2*X3_2*Trace(P43.T*P43) + 2*I*X3_2*Trace(P43.T*Q43) - 2*I*X3_2*Trace(Q34.T*P34) + 2*X3_2*Trace(Q34.T*Q34) - 2*I*X3_2*Trace(Q43.T*P43) + 2*X3_2*Trace(Q43.T*Q43) - Trace(X4_2*P34.T*P34) - I*Trace(X4_2*P34.T*Q34) + I*Trace(X4_2*Q34.T*P34) - Trace(X4_2*Q34.T*Q34) - Trace(P34.T*P34*X4_2) - I*Trace(P34.T*Q34*X4_2) - 2*Trace(P43.T*X4_2*P43) - 2*I*Trace(P43.T*X4_2*Q43) + I*Trace(Q34.T*P34*X4_2) - Trace(Q34.T*Q34*X4_2) + 2*I*Trace(Q43.T*X4_2*P43) - 2*Trace(Q43.T*X4_2*Q43)) +\n",
      "0\n",
      "\n",
      "\n",
      "X3_3 :\n",
      "-0.5*g**2*(-2*P13**2*X1_3 + 2*P13**2*X3_3 - 2*P23**2*X2_3 + 2*P23**2*X3_3 - 2*P31**2*X1_3 + 2*P31**2*X3_3 - 2*P32**2*X2_3 + 2*P32**2*X3_3 - 2*Q13**2*X1_3 + 2*Q13**2*X3_3 - 2*Q23**2*X2_3 + 2*Q23**2*X3_3 - 2*Q31**2*X1_3 + 2*Q31**2*X3_3 - 2*Q32**2*X2_3 + 2*Q32**2*X3_3 + 2*X3_3*Trace(P34.T*P34) + 2*I*X3_3*Trace(P34.T*Q34) + 2*X3_3*Trace(P43.T*P43) + 2*I*X3_3*Trace(P43.T*Q43) - 2*I*X3_3*Trace(Q34.T*P34) + 2*X3_3*Trace(Q34.T*Q34) - 2*I*X3_3*Trace(Q43.T*P43) + 2*X3_3*Trace(Q43.T*Q43) - Trace(X4_3*P34.T*P34) - I*Trace(X4_3*P34.T*Q34) + I*Trace(X4_3*Q34.T*P34) - Trace(X4_3*Q34.T*Q34) - Trace(P34.T*P34*X4_3) - I*Trace(P34.T*Q34*X4_3) - 2*Trace(P43.T*X4_3*P43) - 2*I*Trace(P43.T*X4_3*Q43) + I*Trace(Q34.T*P34*X4_3) - Trace(Q34.T*Q34*X4_3) + 2*I*Trace(Q43.T*X4_3*P43) - 2*Trace(Q43.T*X4_3*Q43)) +\n",
      "0\n",
      "\n",
      "\n",
      "X3_4 :\n",
      "-0.5*g**2*(-sqrt(2)*(P12 - I*Q12)*(P31 - I*Q31)*(P32 + I*Q32)/2 - sqrt(2)*(P12 + I*Q12)*(P31 + I*Q31)*(P32 - I*Q32)/2 - sqrt(2)*(P13 - I*Q13)*(P21 - I*Q21)*(P23 + I*Q23)/2 - sqrt(2)*(P13 + I*Q13)*(P21 + I*Q21)*(P23 - I*Q23)/2 - sqrt(2)*(P23 - I*Q23)*(P23 + I*Q23)*(sqrt(2)*(X2_4 - I*X2_5)/2 - sqrt(2)*(X3_4 - I*X3_5)/2)/2 - sqrt(2)*(P23 - I*Q23)*(P23 + I*Q23)*(sqrt(2)*(X2_4 + I*X2_5)/2 - sqrt(2)*(X3_4 + I*X3_5)/2)/2 - sqrt(2)*(P32 - I*Q32)*(P32 + I*Q32)*(sqrt(2)*(X2_4 - I*X2_5)/2 - sqrt(2)*(X3_4 - I*X3_5)/2)/2 - sqrt(2)*(P32 - I*Q32)*(P32 + I*Q32)*(sqrt(2)*(X2_4 + I*X2_5)/2 - sqrt(2)*(X3_4 + I*X3_5)/2)/2) +\n",
      "(-0.5*g**2)*((-sqrt(2)*(P23 - I*Q23)/2)*(P24 + I*Q24)*(P43 + I*Q43) + (-sqrt(2)*(P23 + I*Q23)/2)*(P43.T - I*Q43.T)*(P24.T - I*Q24.T) + (-sqrt(2)*(P32 - I*Q32)/2)*(P34 + I*Q34)*(P42 + I*Q42) + (-sqrt(2)*(P32 + I*Q32)/2)*(P42.T - I*Q42.T)*(P34.T - I*Q34.T))\n",
      "\n",
      "\n",
      "X3_5 :\n",
      "-0.5*g**2*(-sqrt(2)*I*(P12 - I*Q12)*(P31 - I*Q31)*(P32 + I*Q32)/2 + sqrt(2)*I*(P12 + I*Q12)*(P31 + I*Q31)*(P32 - I*Q32)/2 - sqrt(2)*I*(P13 - I*Q13)*(P21 - I*Q21)*(P23 + I*Q23)/2 + sqrt(2)*I*(P13 + I*Q13)*(P21 + I*Q21)*(P23 - I*Q23)/2 - sqrt(2)*I*(P23 - I*Q23)*(P23 + I*Q23)*(sqrt(2)*(X2_4 - I*X2_5)/2 - sqrt(2)*(X3_4 - I*X3_5)/2)/2 + sqrt(2)*I*(P23 - I*Q23)*(P23 + I*Q23)*(sqrt(2)*(X2_4 + I*X2_5)/2 - sqrt(2)*(X3_4 + I*X3_5)/2)/2 - sqrt(2)*I*(P32 - I*Q32)*(P32 + I*Q32)*(sqrt(2)*(X2_4 - I*X2_5)/2 - sqrt(2)*(X3_4 - I*X3_5)/2)/2 + sqrt(2)*I*(P32 - I*Q32)*(P32 + I*Q32)*(sqrt(2)*(X2_4 + I*X2_5)/2 - sqrt(2)*(X3_4 + I*X3_5)/2)/2) +\n",
      "(-0.5*g**2)*((sqrt(2)*I*(P23 - I*Q23)/2)*(P24 + I*Q24)*(P43 + I*Q43) + (-sqrt(2)*I*(P23 + I*Q23)/2)*(P43.T - I*Q43.T)*(P24.T - I*Q24.T) + (sqrt(2)*I*(P32 - I*Q32)/2)*(P34 + I*Q34)*(P42 + I*Q42) + (-sqrt(2)*I*(P32 + I*Q32)/2)*(P42.T - I*Q42.T)*(P34.T - I*Q34.T))\n",
      "\n",
      "\n",
      "X3_6 :\n",
      "-0.5*g**2*(sqrt(2)*(P12 - I*Q12)*(P13 + I*Q13)*(P23 - I*Q23)/2 + sqrt(2)*(P12 + I*Q12)*(P13 - I*Q13)*(P23 + I*Q23)/2 + sqrt(2)*(P13 - I*Q13)*(P13 + I*Q13)*(-sqrt(2)*(X1_6 - I*X1_7)/2 + sqrt(2)*(X3_6 - I*X3_7)/2)/2 + sqrt(2)*(P13 - I*Q13)*(P13 + I*Q13)*(-sqrt(2)*(X1_6 + I*X1_7)/2 + sqrt(2)*(X3_6 + I*X3_7)/2)/2 + sqrt(2)*(P21 - I*Q21)*(P31 + I*Q31)*(P32 - I*Q32)/2 + sqrt(2)*(P21 + I*Q21)*(P31 - I*Q31)*(P32 + I*Q32)/2 + sqrt(2)*(P31 - I*Q31)*(P31 + I*Q31)*(-sqrt(2)*(X1_6 - I*X1_7)/2 + sqrt(2)*(X3_6 - I*X3_7)/2)/2 + sqrt(2)*(P31 - I*Q31)*(P31 + I*Q31)*(-sqrt(2)*(X1_6 + I*X1_7)/2 + sqrt(2)*(X3_6 + I*X3_7)/2)/2) +\n",
      "(-0.5*g**2)*((sqrt(2)*(P13 - I*Q13)/2)*(P14 + I*Q14)*(P43 + I*Q43) + (sqrt(2)*(P13 + I*Q13)/2)*(P43.T - I*Q43.T)*(P14.T - I*Q14.T) + (sqrt(2)*(P31 - I*Q31)/2)*(-P34 - I*Q34)*(P41 + I*Q41) + (sqrt(2)*(P31 + I*Q31)/2)*(P41.T - I*Q41.T)*(-P34.T + I*Q34.T))\n",
      "\n",
      "\n",
      "X3_7 :\n",
      "-0.5*g**2*(sqrt(2)*I*(P12 - I*Q12)*(P13 + I*Q13)*(P23 - I*Q23)/2 - sqrt(2)*I*(P12 + I*Q12)*(P13 - I*Q13)*(P23 + I*Q23)/2 + sqrt(2)*I*(P13 - I*Q13)*(P13 + I*Q13)*(-sqrt(2)*(X1_6 - I*X1_7)/2 + sqrt(2)*(X3_6 - I*X3_7)/2)/2 - sqrt(2)*I*(P13 - I*Q13)*(P13 + I*Q13)*(-sqrt(2)*(X1_6 + I*X1_7)/2 + sqrt(2)*(X3_6 + I*X3_7)/2)/2 + sqrt(2)*I*(P21 - I*Q21)*(P31 + I*Q31)*(P32 - I*Q32)/2 - sqrt(2)*I*(P21 + I*Q21)*(P31 - I*Q31)*(P32 + I*Q32)/2 + sqrt(2)*I*(P31 - I*Q31)*(P31 + I*Q31)*(-sqrt(2)*(X1_6 - I*X1_7)/2 + sqrt(2)*(X3_6 - I*X3_7)/2)/2 - sqrt(2)*I*(P31 - I*Q31)*(P31 + I*Q31)*(-sqrt(2)*(X1_6 + I*X1_7)/2 + sqrt(2)*(X3_6 + I*X3_7)/2)/2) +\n"
     ]
    },
    {
     "name": "stdout",
     "output_type": "stream",
     "text": [
      "(-0.5*g**2)*((-sqrt(2)*I*(P13 - I*Q13)/2)*(P14 + I*Q14)*(P43 + I*Q43) + (sqrt(2)*I*(P13 + I*Q13)/2)*(P43.T - I*Q43.T)*(P14.T - I*Q14.T) + (-sqrt(2)*I*(P31 - I*Q31)/2)*(-P34 - I*Q34)*(P41 + I*Q41) + (sqrt(2)*I*(P31 + I*Q31)/2)*(P41.T - I*Q41.T)*(-P34.T + I*Q34.T))\n",
      "\n",
      "\n",
      "X3_8 :\n",
      "0 +\n",
      "0\n",
      "\n",
      "\n",
      "X3_9 :\n",
      "0 +\n",
      "0\n",
      "\n",
      "\n",
      "X4_1 :\n",
      "0 +\n",
      "Derivative((-0.5*g**2)*((N*c14/g**2)*(P14 + I*Q14)*(P41 + I*Q41) + (N*c14/g**2)*(P41.T - I*Q41.T)*(P14.T - I*Q14.T) + (N*c24/g**2)*(P24 + I*Q24)*(P42 + I*Q42) + (N*c24/g**2)*(P42.T - I*Q42.T)*(P24.T - I*Q24.T) + (N*c34/g**2)*(P34 + I*Q34)*(P43 + I*Q43) + (N*c34/g**2)*(P43.T - I*Q43.T)*(P34.T - I*Q34.T) + ((P12 - I*Q12)*(P23 - I*Q23) + (P13 - I*Q13)*(-sqrt(2)*(X1_6 - I*X1_7)/2 + sqrt(2)*(X3_6 - I*X3_7)/2))*(P14 + I*Q14)*(P43 + I*Q43) + ((P12 - I*Q12)*(P31 - I*Q31) + (P32 - I*Q32)*(sqrt(2)*(X2_4 - I*X2_5)/2 - sqrt(2)*(X3_4 - I*X3_5)/2))*(P34 + I*Q34)*(P42 + I*Q42) + ((P12 - I*Q12)*(sqrt(2)*(X1_8 - I*X1_9)/2 - sqrt(2)*(X2_8 - I*X2_9)/2) + (P13 - I*Q13)*(P32 - I*Q32))*(P14 + I*Q14)*(P42 + I*Q42) + ((P12 + I*Q12)*(P23 + I*Q23) + (P13 + I*Q13)*(-sqrt(2)*(X1_6 + I*X1_7)/2 + sqrt(2)*(X3_6 + I*X3_7)/2))*(P43.T - I*Q43.T)*(P14.T - I*Q14.T) + ((P12 + I*Q12)*(P31 + I*Q31) + (P32 + I*Q32)*(sqrt(2)*(X2_4 + I*X2_5)/2 - sqrt(2)*(X3_4 + I*X3_5)/2))*(P42.T - I*Q42.T)*(P34.T - I*Q34.T) + ((P12 + I*Q12)*(sqrt(2)*(X1_8 + I*X1_9)/2 - sqrt(2)*(X2_8 + I*X2_9)/2) + (P13 + I*Q13)*(P32 + I*Q32))*(P42.T - I*Q42.T)*(P14.T - I*Q14.T) + ((P13 - I*Q13)*(P21 - I*Q21) + (P23 - I*Q23)*(sqrt(2)*(X2_4 - I*X2_5)/2 - sqrt(2)*(X3_4 - I*X3_5)/2))*(P24 + I*Q24)*(P43 + I*Q43) + ((P13 + I*Q13)*(P21 + I*Q21) + (P23 + I*Q23)*(sqrt(2)*(X2_4 + I*X2_5)/2 - sqrt(2)*(X3_4 + I*X3_5)/2))*(P43.T - I*Q43.T)*(P24.T - I*Q24.T) + ((P21 - I*Q21)*(P32 - I*Q32) + (P31 - I*Q31)*(-sqrt(2)*(X1_6 - I*X1_7)/2 + sqrt(2)*(X3_6 - I*X3_7)/2))*(-P34 - I*Q34)*(P41 + I*Q41) + ((P21 - I*Q21)*(sqrt(2)*(X1_8 - I*X1_9)/2 - sqrt(2)*(X2_8 - I*X2_9)/2) + (P23 - I*Q23)*(P31 - I*Q31))*(P24 + I*Q24)*(P41 + I*Q41) + ((P21 + I*Q21)*(P32 + I*Q32) + (P31 + I*Q31)*(-sqrt(2)*(X1_6 + I*X1_7)/2 + sqrt(2)*(X3_6 + I*X3_7)/2))*(P41.T - I*Q41.T)*(-P34.T + I*Q34.T) + ((P21 + I*Q21)*(sqrt(2)*(X1_8 + I*X1_9)/2 - sqrt(2)*(X2_8 + I*X2_9)/2) + (P23 + I*Q23)*(P31 + I*Q31))*(P41.T - I*Q41.T)*(P24.T - I*Q24.T) + (-P34 - I*Q34)*(P41 + I*Q41)*(P41.T - I*Q41.T)*(-P34.T + I*Q34.T) + (P14 + I*Q14)*(P41 + I*Q41)*(P41.T - I*Q41.T)*(P14.T - I*Q14.T) + (P14 + I*Q14)*(P42 + I*Q42)*(P42.T - I*Q42.T)*(P14.T - I*Q14.T) + (P14 + I*Q14)*(P43 + I*Q43)*(P43.T - I*Q43.T)*(P14.T - I*Q14.T) + (P24 + I*Q24)*(P41 + I*Q41)*(P41.T - I*Q41.T)*(P24.T - I*Q24.T) + (P24 + I*Q24)*(P42 + I*Q42)*(P42.T - I*Q42.T)*(P24.T - I*Q24.T) + (P24 + I*Q24)*(P43 + I*Q43)*(P43.T - I*Q43.T)*(P24.T - I*Q24.T) + (P34 + I*Q34)*(P42 + I*Q42)*(P42.T - I*Q42.T)*(P34.T - I*Q34.T) + (P34 + I*Q34)*(P43 + I*Q43)*(P43.T - I*Q43.T)*(P34.T - I*Q34.T) + ((P12 - I*Q12)*(P41.T - I*Q41.T) + (P32 - I*Q32)*(P43.T - I*Q43.T) + (sqrt(2)/2)*(-P42.T + I*Q42.T)*(X4_6 - I*X4_7))*((P12 + I*Q12)*(P41 + I*Q41) + (P32 + I*Q32)*(P43 + I*Q43) - (sqrt(2)/2)*(X4_6 + I*X4_7)*(P42 + I*Q42)) + ((P12 + I*Q12)*(P24 + I*Q24) + (-P13 - I*Q13)*(P34 + I*Q34) + (sqrt(2)/2)*(-P14 - I*Q14)*(X4_4 + I*X4_5))*((P12 - I*Q12)*(P24.T - I*Q24.T) + (-P13 + I*Q13)*(P34.T - I*Q34.T) - (sqrt(2)/2)*(X4_4 - I*X4_5)*(P14.T - I*Q14.T)) + ((-P13 + I*Q13)*(P41.T - I*Q41.T) + (P23 - I*Q23)*(P42.T - I*Q42.T) + (sqrt(2)/2)*(-P43.T + I*Q43.T)*(X4_8 - I*X4_9))*((-P13 - I*Q13)*(P41 + I*Q41) + (P23 + I*Q23)*(P42 + I*Q42) - (sqrt(2)/2)*(X4_8 + I*X4_9)*(P43 + I*Q43)) + ((P21 - I*Q21)*(P42.T - I*Q42.T) + (P31 - I*Q31)*(P43.T - I*Q43.T) + (sqrt(2)/2)*(-P41.T + I*Q41.T)*(X4_4 - I*X4_5))*((P21 + I*Q21)*(P42 + I*Q42) + (P31 + I*Q31)*(P43 + I*Q43) - (sqrt(2)/2)*(X4_4 + I*X4_5)*(P41 + I*Q41)) + ((P21 + I*Q21)*(P14 + I*Q14) + (P23 + I*Q23)*(P34 + I*Q34) + (sqrt(2)/2)*(-P24 - I*Q24)*(X4_6 + I*X4_7))*((P21 - I*Q21)*(P14.T - I*Q14.T) + (P23 - I*Q23)*(P34.T - I*Q34.T) - (sqrt(2)/2)*(X4_6 - I*X4_7)*(P24.T - I*Q24.T)) + ((P31 + I*Q31)*(P14 + I*Q14) + (P32 + I*Q32)*(P24 + I*Q24) + (sqrt(2)/2)*(-P34 - I*Q34)*(X4_8 + I*X4_9))*((P31 - I*Q31)*(P14.T - I*Q14.T) + (P32 - I*Q32)*(P24.T - I*Q24.T) - (sqrt(2)/2)*(X4_8 - I*X4_9)*(P34.T - I*Q34.T))), X4_1)\n",
      "\n",
      "\n",
      "X4_2 :\n",
      "0 +\n",
      "Derivative((-0.5*g**2)*((N*c14/g**2)*(P14 + I*Q14)*(P41 + I*Q41) + (N*c14/g**2)*(P41.T - I*Q41.T)*(P14.T - I*Q14.T) + (N*c24/g**2)*(P24 + I*Q24)*(P42 + I*Q42) + (N*c24/g**2)*(P42.T - I*Q42.T)*(P24.T - I*Q24.T) + (N*c34/g**2)*(P34 + I*Q34)*(P43 + I*Q43) + (N*c34/g**2)*(P43.T - I*Q43.T)*(P34.T - I*Q34.T) + ((P12 - I*Q12)*(P23 - I*Q23) + (P13 - I*Q13)*(-sqrt(2)*(X1_6 - I*X1_7)/2 + sqrt(2)*(X3_6 - I*X3_7)/2))*(P14 + I*Q14)*(P43 + I*Q43) + ((P12 - I*Q12)*(P31 - I*Q31) + (P32 - I*Q32)*(sqrt(2)*(X2_4 - I*X2_5)/2 - sqrt(2)*(X3_4 - I*X3_5)/2))*(P34 + I*Q34)*(P42 + I*Q42) + ((P12 - I*Q12)*(sqrt(2)*(X1_8 - I*X1_9)/2 - sqrt(2)*(X2_8 - I*X2_9)/2) + (P13 - I*Q13)*(P32 - I*Q32))*(P14 + I*Q14)*(P42 + I*Q42) + ((P12 + I*Q12)*(P23 + I*Q23) + (P13 + I*Q13)*(-sqrt(2)*(X1_6 + I*X1_7)/2 + sqrt(2)*(X3_6 + I*X3_7)/2))*(P43.T - I*Q43.T)*(P14.T - I*Q14.T) + ((P12 + I*Q12)*(P31 + I*Q31) + (P32 + I*Q32)*(sqrt(2)*(X2_4 + I*X2_5)/2 - sqrt(2)*(X3_4 + I*X3_5)/2))*(P42.T - I*Q42.T)*(P34.T - I*Q34.T) + ((P12 + I*Q12)*(sqrt(2)*(X1_8 + I*X1_9)/2 - sqrt(2)*(X2_8 + I*X2_9)/2) + (P13 + I*Q13)*(P32 + I*Q32))*(P42.T - I*Q42.T)*(P14.T - I*Q14.T) + ((P13 - I*Q13)*(P21 - I*Q21) + (P23 - I*Q23)*(sqrt(2)*(X2_4 - I*X2_5)/2 - sqrt(2)*(X3_4 - I*X3_5)/2))*(P24 + I*Q24)*(P43 + I*Q43) + ((P13 + I*Q13)*(P21 + I*Q21) + (P23 + I*Q23)*(sqrt(2)*(X2_4 + I*X2_5)/2 - sqrt(2)*(X3_4 + I*X3_5)/2))*(P43.T - I*Q43.T)*(P24.T - I*Q24.T) + ((P21 - I*Q21)*(P32 - I*Q32) + (P31 - I*Q31)*(-sqrt(2)*(X1_6 - I*X1_7)/2 + sqrt(2)*(X3_6 - I*X3_7)/2))*(-P34 - I*Q34)*(P41 + I*Q41) + ((P21 - I*Q21)*(sqrt(2)*(X1_8 - I*X1_9)/2 - sqrt(2)*(X2_8 - I*X2_9)/2) + (P23 - I*Q23)*(P31 - I*Q31))*(P24 + I*Q24)*(P41 + I*Q41) + ((P21 + I*Q21)*(P32 + I*Q32) + (P31 + I*Q31)*(-sqrt(2)*(X1_6 + I*X1_7)/2 + sqrt(2)*(X3_6 + I*X3_7)/2))*(P41.T - I*Q41.T)*(-P34.T + I*Q34.T) + ((P21 + I*Q21)*(sqrt(2)*(X1_8 + I*X1_9)/2 - sqrt(2)*(X2_8 + I*X2_9)/2) + (P23 + I*Q23)*(P31 + I*Q31))*(P41.T - I*Q41.T)*(P24.T - I*Q24.T) + (-P34 - I*Q34)*(P41 + I*Q41)*(P41.T - I*Q41.T)*(-P34.T + I*Q34.T) + (P14 + I*Q14)*(P41 + I*Q41)*(P41.T - I*Q41.T)*(P14.T - I*Q14.T) + (P14 + I*Q14)*(P42 + I*Q42)*(P42.T - I*Q42.T)*(P14.T - I*Q14.T) + (P14 + I*Q14)*(P43 + I*Q43)*(P43.T - I*Q43.T)*(P14.T - I*Q14.T) + (P24 + I*Q24)*(P41 + I*Q41)*(P41.T - I*Q41.T)*(P24.T - I*Q24.T) + (P24 + I*Q24)*(P42 + I*Q42)*(P42.T - I*Q42.T)*(P24.T - I*Q24.T) + (P24 + I*Q24)*(P43 + I*Q43)*(P43.T - I*Q43.T)*(P24.T - I*Q24.T) + (P34 + I*Q34)*(P42 + I*Q42)*(P42.T - I*Q42.T)*(P34.T - I*Q34.T) + (P34 + I*Q34)*(P43 + I*Q43)*(P43.T - I*Q43.T)*(P34.T - I*Q34.T) + ((P12 - I*Q12)*(P41.T - I*Q41.T) + (P32 - I*Q32)*(P43.T - I*Q43.T) + (sqrt(2)/2)*(-P42.T + I*Q42.T)*(X4_6 - I*X4_7))*((P12 + I*Q12)*(P41 + I*Q41) + (P32 + I*Q32)*(P43 + I*Q43) - (sqrt(2)/2)*(X4_6 + I*X4_7)*(P42 + I*Q42)) + ((P12 + I*Q12)*(P24 + I*Q24) + (-P13 - I*Q13)*(P34 + I*Q34) + (sqrt(2)/2)*(-P14 - I*Q14)*(X4_4 + I*X4_5))*((P12 - I*Q12)*(P24.T - I*Q24.T) + (-P13 + I*Q13)*(P34.T - I*Q34.T) - (sqrt(2)/2)*(X4_4 - I*X4_5)*(P14.T - I*Q14.T)) + ((-P13 + I*Q13)*(P41.T - I*Q41.T) + (P23 - I*Q23)*(P42.T - I*Q42.T) + (sqrt(2)/2)*(-P43.T + I*Q43.T)*(X4_8 - I*X4_9))*((-P13 - I*Q13)*(P41 + I*Q41) + (P23 + I*Q23)*(P42 + I*Q42) - (sqrt(2)/2)*(X4_8 + I*X4_9)*(P43 + I*Q43)) + ((P21 - I*Q21)*(P42.T - I*Q42.T) + (P31 - I*Q31)*(P43.T - I*Q43.T) + (sqrt(2)/2)*(-P41.T + I*Q41.T)*(X4_4 - I*X4_5))*((P21 + I*Q21)*(P42 + I*Q42) + (P31 + I*Q31)*(P43 + I*Q43) - (sqrt(2)/2)*(X4_4 + I*X4_5)*(P41 + I*Q41)) + ((P21 + I*Q21)*(P14 + I*Q14) + (P23 + I*Q23)*(P34 + I*Q34) + (sqrt(2)/2)*(-P24 - I*Q24)*(X4_6 + I*X4_7))*((P21 - I*Q21)*(P14.T - I*Q14.T) + (P23 - I*Q23)*(P34.T - I*Q34.T) - (sqrt(2)/2)*(X4_6 - I*X4_7)*(P24.T - I*Q24.T)) + ((P31 + I*Q31)*(P14 + I*Q14) + (P32 + I*Q32)*(P24 + I*Q24) + (sqrt(2)/2)*(-P34 - I*Q34)*(X4_8 + I*X4_9))*((P31 - I*Q31)*(P14.T - I*Q14.T) + (P32 - I*Q32)*(P24.T - I*Q24.T) - (sqrt(2)/2)*(X4_8 - I*X4_9)*(P34.T - I*Q34.T))), X4_2)\n",
      "\n",
      "\n",
      "X4_3 :\n",
      "0 +\n",
      "Derivative((-0.5*g**2)*((N*c14/g**2)*(P14 + I*Q14)*(P41 + I*Q41) + (N*c14/g**2)*(P41.T - I*Q41.T)*(P14.T - I*Q14.T) + (N*c24/g**2)*(P24 + I*Q24)*(P42 + I*Q42) + (N*c24/g**2)*(P42.T - I*Q42.T)*(P24.T - I*Q24.T) + (N*c34/g**2)*(P34 + I*Q34)*(P43 + I*Q43) + (N*c34/g**2)*(P43.T - I*Q43.T)*(P34.T - I*Q34.T) + ((P12 - I*Q12)*(P23 - I*Q23) + (P13 - I*Q13)*(-sqrt(2)*(X1_6 - I*X1_7)/2 + sqrt(2)*(X3_6 - I*X3_7)/2))*(P14 + I*Q14)*(P43 + I*Q43) + ((P12 - I*Q12)*(P31 - I*Q31) + (P32 - I*Q32)*(sqrt(2)*(X2_4 - I*X2_5)/2 - sqrt(2)*(X3_4 - I*X3_5)/2))*(P34 + I*Q34)*(P42 + I*Q42) + ((P12 - I*Q12)*(sqrt(2)*(X1_8 - I*X1_9)/2 - sqrt(2)*(X2_8 - I*X2_9)/2) + (P13 - I*Q13)*(P32 - I*Q32))*(P14 + I*Q14)*(P42 + I*Q42) + ((P12 + I*Q12)*(P23 + I*Q23) + (P13 + I*Q13)*(-sqrt(2)*(X1_6 + I*X1_7)/2 + sqrt(2)*(X3_6 + I*X3_7)/2))*(P43.T - I*Q43.T)*(P14.T - I*Q14.T) + ((P12 + I*Q12)*(P31 + I*Q31) + (P32 + I*Q32)*(sqrt(2)*(X2_4 + I*X2_5)/2 - sqrt(2)*(X3_4 + I*X3_5)/2))*(P42.T - I*Q42.T)*(P34.T - I*Q34.T) + ((P12 + I*Q12)*(sqrt(2)*(X1_8 + I*X1_9)/2 - sqrt(2)*(X2_8 + I*X2_9)/2) + (P13 + I*Q13)*(P32 + I*Q32))*(P42.T - I*Q42.T)*(P14.T - I*Q14.T) + ((P13 - I*Q13)*(P21 - I*Q21) + (P23 - I*Q23)*(sqrt(2)*(X2_4 - I*X2_5)/2 - sqrt(2)*(X3_4 - I*X3_5)/2))*(P24 + I*Q24)*(P43 + I*Q43) + ((P13 + I*Q13)*(P21 + I*Q21) + (P23 + I*Q23)*(sqrt(2)*(X2_4 + I*X2_5)/2 - sqrt(2)*(X3_4 + I*X3_5)/2))*(P43.T - I*Q43.T)*(P24.T - I*Q24.T) + ((P21 - I*Q21)*(P32 - I*Q32) + (P31 - I*Q31)*(-sqrt(2)*(X1_6 - I*X1_7)/2 + sqrt(2)*(X3_6 - I*X3_7)/2))*(-P34 - I*Q34)*(P41 + I*Q41) + ((P21 - I*Q21)*(sqrt(2)*(X1_8 - I*X1_9)/2 - sqrt(2)*(X2_8 - I*X2_9)/2) + (P23 - I*Q23)*(P31 - I*Q31))*(P24 + I*Q24)*(P41 + I*Q41) + ((P21 + I*Q21)*(P32 + I*Q32) + (P31 + I*Q31)*(-sqrt(2)*(X1_6 + I*X1_7)/2 + sqrt(2)*(X3_6 + I*X3_7)/2))*(P41.T - I*Q41.T)*(-P34.T + I*Q34.T) + ((P21 + I*Q21)*(sqrt(2)*(X1_8 + I*X1_9)/2 - sqrt(2)*(X2_8 + I*X2_9)/2) + (P23 + I*Q23)*(P31 + I*Q31))*(P41.T - I*Q41.T)*(P24.T - I*Q24.T) + (-P34 - I*Q34)*(P41 + I*Q41)*(P41.T - I*Q41.T)*(-P34.T + I*Q34.T) + (P14 + I*Q14)*(P41 + I*Q41)*(P41.T - I*Q41.T)*(P14.T - I*Q14.T) + (P14 + I*Q14)*(P42 + I*Q42)*(P42.T - I*Q42.T)*(P14.T - I*Q14.T) + (P14 + I*Q14)*(P43 + I*Q43)*(P43.T - I*Q43.T)*(P14.T - I*Q14.T) + (P24 + I*Q24)*(P41 + I*Q41)*(P41.T - I*Q41.T)*(P24.T - I*Q24.T) + (P24 + I*Q24)*(P42 + I*Q42)*(P42.T - I*Q42.T)*(P24.T - I*Q24.T) + (P24 + I*Q24)*(P43 + I*Q43)*(P43.T - I*Q43.T)*(P24.T - I*Q24.T) + (P34 + I*Q34)*(P42 + I*Q42)*(P42.T - I*Q42.T)*(P34.T - I*Q34.T) + (P34 + I*Q34)*(P43 + I*Q43)*(P43.T - I*Q43.T)*(P34.T - I*Q34.T) + ((P12 - I*Q12)*(P41.T - I*Q41.T) + (P32 - I*Q32)*(P43.T - I*Q43.T) + (sqrt(2)/2)*(-P42.T + I*Q42.T)*(X4_6 - I*X4_7))*((P12 + I*Q12)*(P41 + I*Q41) + (P32 + I*Q32)*(P43 + I*Q43) - (sqrt(2)/2)*(X4_6 + I*X4_7)*(P42 + I*Q42)) + ((P12 + I*Q12)*(P24 + I*Q24) + (-P13 - I*Q13)*(P34 + I*Q34) + (sqrt(2)/2)*(-P14 - I*Q14)*(X4_4 + I*X4_5))*((P12 - I*Q12)*(P24.T - I*Q24.T) + (-P13 + I*Q13)*(P34.T - I*Q34.T) - (sqrt(2)/2)*(X4_4 - I*X4_5)*(P14.T - I*Q14.T)) + ((-P13 + I*Q13)*(P41.T - I*Q41.T) + (P23 - I*Q23)*(P42.T - I*Q42.T) + (sqrt(2)/2)*(-P43.T + I*Q43.T)*(X4_8 - I*X4_9))*((-P13 - I*Q13)*(P41 + I*Q41) + (P23 + I*Q23)*(P42 + I*Q42) - (sqrt(2)/2)*(X4_8 + I*X4_9)*(P43 + I*Q43)) + ((P21 - I*Q21)*(P42.T - I*Q42.T) + (P31 - I*Q31)*(P43.T - I*Q43.T) + (sqrt(2)/2)*(-P41.T + I*Q41.T)*(X4_4 - I*X4_5))*((P21 + I*Q21)*(P42 + I*Q42) + (P31 + I*Q31)*(P43 + I*Q43) - (sqrt(2)/2)*(X4_4 + I*X4_5)*(P41 + I*Q41)) + ((P21 + I*Q21)*(P14 + I*Q14) + (P23 + I*Q23)*(P34 + I*Q34) + (sqrt(2)/2)*(-P24 - I*Q24)*(X4_6 + I*X4_7))*((P21 - I*Q21)*(P14.T - I*Q14.T) + (P23 - I*Q23)*(P34.T - I*Q34.T) - (sqrt(2)/2)*(X4_6 - I*X4_7)*(P24.T - I*Q24.T)) + ((P31 + I*Q31)*(P14 + I*Q14) + (P32 + I*Q32)*(P24 + I*Q24) + (sqrt(2)/2)*(-P34 - I*Q34)*(X4_8 + I*X4_9))*((P31 - I*Q31)*(P14.T - I*Q14.T) + (P32 - I*Q32)*(P24.T - I*Q24.T) - (sqrt(2)/2)*(X4_8 - I*X4_9)*(P34.T - I*Q34.T))), X4_3)\n",
      "\n",
      "\n",
      "P12 :\n",
      "-0.5*g**2*(4*P12*P21**2 + 4*P12*Q21**2 + 2*P12*X1_2**2 - 4*P12*X1_2*X2_2 + 2*P12*X1_3**2 - 4*P12*X1_3*X2_3 + 2*P12*X2_2**2 + 2*P12*X2_3**2 + 4*P21*c12/g**2 + (P12 - I*Q12)*(P23 - I*Q23)*(P23 + I*Q23) + (P12 - I*Q12)*(P31 - I*Q31)*(P31 + I*Q31) + (P12 - I*Q12)*(sqrt(2)*(X1_8 - I*X1_9)/2 - sqrt(2)*(X2_8 - I*X2_9)/2)*(sqrt(2)*(X1_8 + I*X1_9)/2 - sqrt(2)*(X2_8 + I*X2_9)/2) + (P12 + I*Q12)*(P23 - I*Q23)*(P23 + I*Q23) + (P12 + I*Q12)*(P31 - I*Q31)*(P31 + I*Q31) + (P12 + I*Q12)*(sqrt(2)*(X1_8 - I*X1_9)/2 - sqrt(2)*(X2_8 - I*X2_9)/2)*(sqrt(2)*(X1_8 + I*X1_9)/2 - sqrt(2)*(X2_8 + I*X2_9)/2) + (P13 - I*Q13)*(P23 + I*Q23)*(-sqrt(2)*(X1_6 - I*X1_7)/2 + sqrt(2)*(X3_6 - I*X3_7)/2) + (P13 - I*Q13)*(P32 - I*Q32)*(sqrt(2)*(X1_8 + I*X1_9)/2 - sqrt(2)*(X2_8 + I*X2_9)/2) + (P13 + I*Q13)*(P23 - I*Q23)*(-sqrt(2)*(X1_6 + I*X1_7)/2 + sqrt(2)*(X3_6 + I*X3_7)/2) + (P13 + I*Q13)*(P32 + I*Q32)*(sqrt(2)*(X1_8 - I*X1_9)/2 - sqrt(2)*(X2_8 - I*X2_9)/2) + (P31 - I*Q31)*(P32 + I*Q32)*(sqrt(2)*(X2_4 + I*X2_5)/2 - sqrt(2)*(X3_4 + I*X3_5)/2) + (P31 + I*Q31)*(P32 - I*Q32)*(sqrt(2)*(X2_4 - I*X2_5)/2 - sqrt(2)*(X3_4 - I*X3_5)/2) + (X1_1 - X2_1)*(X1_1*(P12 - I*Q12) - X2_1*(P12 - I*Q12)) + (X1_1 - X2_1)*(P12*X1_1 - P12*X2_1 + I*Q12*X1_1 - I*Q12*X2_1)) +\n"
     ]
    },
    {
     "name": "stdout",
     "output_type": "stream",
     "text": [
      "(-0.5*g**2)*((P23 - I*Q23)*(P14 + I*Q14)*(P43 + I*Q43) + (P23 + I*Q23)*(P43.T - I*Q43.T)*(P14.T - I*Q14.T) + (P31 - I*Q31)*(P34 + I*Q34)*(P42 + I*Q42) + (P31 + I*Q31)*(P42.T - I*Q42.T)*(P34.T - I*Q34.T) + (sqrt(2)*(X1_8 - I*X1_9)/2 - sqrt(2)*(X2_8 - I*X2_9)/2)*(P14 + I*Q14)*(P42 + I*Q42) + (sqrt(2)*(X1_8 + I*X1_9)/2 - sqrt(2)*(X2_8 + I*X2_9)/2)*(P42.T - I*Q42.T)*(P14.T - I*Q14.T) + (P24 + I*Q24)*((P12 - I*Q12)*(P24.T - I*Q24.T) + (-P13 + I*Q13)*(P34.T - I*Q34.T) - (sqrt(2)/2)*(X4_4 - I*X4_5)*(P14.T - I*Q14.T)) + (P41.T - I*Q41.T)*((P12 + I*Q12)*(P41 + I*Q41) + (P32 + I*Q32)*(P43 + I*Q43) - (sqrt(2)/2)*(X4_6 + I*X4_7)*(P42 + I*Q42)) + ((P12 - I*Q12)*(P41.T - I*Q41.T) + (P32 - I*Q32)*(P43.T - I*Q43.T) + (sqrt(2)/2)*(-P42.T + I*Q42.T)*(X4_6 - I*X4_7))*(P41 + I*Q41) + ((P12 + I*Q12)*(P24 + I*Q24) + (-P13 - I*Q13)*(P34 + I*Q34) + (sqrt(2)/2)*(-P14 - I*Q14)*(X4_4 + I*X4_5))*(P24.T - I*Q24.T))\n",
      "\n",
      "\n",
      "P13 :\n",
      "-0.5*g**2*(4*P13*P31**2 + 4*P13*Q31**2 + 2*P13*X1_2**2 - 4*P13*X1_2*X3_2 + 2*P13*X1_3**2 - 4*P13*X1_3*X3_3 + 2*P13*X3_2**2 + 2*P13*X3_3**2 + 4*P31*c13/g**2 + (P12 - I*Q12)*(P23 - I*Q23)*(-sqrt(2)*(X1_6 + I*X1_7)/2 + sqrt(2)*(X3_6 + I*X3_7)/2) + (P12 - I*Q12)*(P32 + I*Q32)*(sqrt(2)*(X1_8 - I*X1_9)/2 - sqrt(2)*(X2_8 - I*X2_9)/2) + (P12 + I*Q12)*(P23 + I*Q23)*(-sqrt(2)*(X1_6 - I*X1_7)/2 + sqrt(2)*(X3_6 - I*X3_7)/2) + (P12 + I*Q12)*(P32 - I*Q32)*(sqrt(2)*(X1_8 + I*X1_9)/2 - sqrt(2)*(X2_8 + I*X2_9)/2) + (P13 - I*Q13)*(P21 - I*Q21)*(P21 + I*Q21) + (P13 - I*Q13)*(P32 - I*Q32)*(P32 + I*Q32) + (P13 - I*Q13)*(-sqrt(2)*(X1_6 - I*X1_7)/2 + sqrt(2)*(X3_6 - I*X3_7)/2)*(-sqrt(2)*(X1_6 + I*X1_7)/2 + sqrt(2)*(X3_6 + I*X3_7)/2) + (P13 + I*Q13)*(P21 - I*Q21)*(P21 + I*Q21) + (P13 + I*Q13)*(P32 - I*Q32)*(P32 + I*Q32) + (P13 + I*Q13)*(-sqrt(2)*(X1_6 - I*X1_7)/2 + sqrt(2)*(X3_6 - I*X3_7)/2)*(-sqrt(2)*(X1_6 + I*X1_7)/2 + sqrt(2)*(X3_6 + I*X3_7)/2) + (P21 - I*Q21)*(P23 + I*Q23)*(sqrt(2)*(X2_4 + I*X2_5)/2 - sqrt(2)*(X3_4 + I*X3_5)/2) + (P21 + I*Q21)*(P23 - I*Q23)*(sqrt(2)*(X2_4 - I*X2_5)/2 - sqrt(2)*(X3_4 - I*X3_5)/2) + (X1_1 - X3_1)*(X1_1*(P13 - I*Q13) - X3_1*(P13 - I*Q13)) + (X1_1 - X3_1)*(P13*X1_1 - P13*X3_1 + I*Q13*X1_1 - I*Q13*X3_1)) +\n",
      "(-0.5*g**2)*((P21 - I*Q21)*(P24 + I*Q24)*(P43 + I*Q43) + (P21 + I*Q21)*(P43.T - I*Q43.T)*(P24.T - I*Q24.T) + (P32 - I*Q32)*(P14 + I*Q14)*(P42 + I*Q42) + (P32 + I*Q32)*(P42.T - I*Q42.T)*(P14.T - I*Q14.T) + (-sqrt(2)*(X1_6 - I*X1_7)/2 + sqrt(2)*(X3_6 - I*X3_7)/2)*(P14 + I*Q14)*(P43 + I*Q43) + (-sqrt(2)*(X1_6 + I*X1_7)/2 + sqrt(2)*(X3_6 + I*X3_7)/2)*(P43.T - I*Q43.T)*(P14.T - I*Q14.T) + (-P34 - I*Q34)*((P12 - I*Q12)*(P24.T - I*Q24.T) + (-P13 + I*Q13)*(P34.T - I*Q34.T) - (sqrt(2)/2)*(X4_4 - I*X4_5)*(P14.T - I*Q14.T)) + (-P41.T + I*Q41.T)*((-P13 - I*Q13)*(P41 + I*Q41) + (P23 + I*Q23)*(P42 + I*Q42) - (sqrt(2)/2)*(X4_8 + I*X4_9)*(P43 + I*Q43)) + ((P12 + I*Q12)*(P24 + I*Q24) + (-P13 - I*Q13)*(P34 + I*Q34) + (sqrt(2)/2)*(-P14 - I*Q14)*(X4_4 + I*X4_5))*(-P34.T + I*Q34.T) + ((-P13 + I*Q13)*(P41.T - I*Q41.T) + (P23 - I*Q23)*(P42.T - I*Q42.T) + (sqrt(2)/2)*(-P43.T + I*Q43.T)*(X4_8 - I*X4_9))*(-P41 - I*Q41))\n",
      "\n",
      "\n",
      "P21 :\n",
      "-0.5*g**2*(4*P12**2*P21 + 4*P12*c12/g**2 + 4*P21*Q12**2 + 2*P21*X1_2**2 - 4*P21*X1_2*X2_2 + 2*P21*X1_3**2 - 4*P21*X1_3*X2_3 + 2*P21*X2_2**2 + 2*P21*X2_3**2 + (P13 - I*Q13)*(P13 + I*Q13)*(P21 - I*Q21) + (P13 - I*Q13)*(P13 + I*Q13)*(P21 + I*Q21) + (P13 - I*Q13)*(P23 + I*Q23)*(sqrt(2)*(X2_4 + I*X2_5)/2 - sqrt(2)*(X3_4 + I*X3_5)/2) + (P13 + I*Q13)*(P23 - I*Q23)*(sqrt(2)*(X2_4 - I*X2_5)/2 - sqrt(2)*(X3_4 - I*X3_5)/2) + (P21 - I*Q21)*(P32 - I*Q32)*(P32 + I*Q32) + (P21 - I*Q21)*(sqrt(2)*(X1_8 - I*X1_9)/2 - sqrt(2)*(X2_8 - I*X2_9)/2)*(sqrt(2)*(X1_8 + I*X1_9)/2 - sqrt(2)*(X2_8 + I*X2_9)/2) + (P21 + I*Q21)*(P32 - I*Q32)*(P32 + I*Q32) + (P21 + I*Q21)*(sqrt(2)*(X1_8 - I*X1_9)/2 - sqrt(2)*(X2_8 - I*X2_9)/2)*(sqrt(2)*(X1_8 + I*X1_9)/2 - sqrt(2)*(X2_8 + I*X2_9)/2) + (P23 - I*Q23)*(P31 - I*Q31)*(sqrt(2)*(X1_8 + I*X1_9)/2 - sqrt(2)*(X2_8 + I*X2_9)/2) + (P23 + I*Q23)*(P31 + I*Q31)*(sqrt(2)*(X1_8 - I*X1_9)/2 - sqrt(2)*(X2_8 - I*X2_9)/2) + (P31 - I*Q31)*(P32 + I*Q32)*(-sqrt(2)*(X1_6 - I*X1_7)/2 + sqrt(2)*(X3_6 - I*X3_7)/2) + (P31 + I*Q31)*(P32 - I*Q32)*(-sqrt(2)*(X1_6 + I*X1_7)/2 + sqrt(2)*(X3_6 + I*X3_7)/2) + (-X1_1 + X2_1)*(-X1_1*(P21 - I*Q21) + X2_1*(P21 - I*Q21)) + (-X1_1 + X2_1)*(-P21*X1_1 + P21*X2_1 - I*Q21*X1_1 + I*Q21*X2_1)) +\n",
      "(-0.5*g**2)*((P13 - I*Q13)*(P24 + I*Q24)*(P43 + I*Q43) + (P13 + I*Q13)*(P43.T - I*Q43.T)*(P24.T - I*Q24.T) + (P32 - I*Q32)*(-P34 - I*Q34)*(P41 + I*Q41) + (P32 + I*Q32)*(P41.T - I*Q41.T)*(-P34.T + I*Q34.T) + (sqrt(2)*(X1_8 - I*X1_9)/2 - sqrt(2)*(X2_8 - I*X2_9)/2)*(P24 + I*Q24)*(P41 + I*Q41) + (sqrt(2)*(X1_8 + I*X1_9)/2 - sqrt(2)*(X2_8 + I*X2_9)/2)*(P41.T - I*Q41.T)*(P24.T - I*Q24.T) + (P14 + I*Q14)*((P21 - I*Q21)*(P14.T - I*Q14.T) + (P23 - I*Q23)*(P34.T - I*Q34.T) - (sqrt(2)/2)*(X4_6 - I*X4_7)*(P24.T - I*Q24.T)) + (P42.T - I*Q42.T)*((P21 + I*Q21)*(P42 + I*Q42) + (P31 + I*Q31)*(P43 + I*Q43) - (sqrt(2)/2)*(X4_4 + I*X4_5)*(P41 + I*Q41)) + ((P21 - I*Q21)*(P42.T - I*Q42.T) + (P31 - I*Q31)*(P43.T - I*Q43.T) + (sqrt(2)/2)*(-P41.T + I*Q41.T)*(X4_4 - I*X4_5))*(P42 + I*Q42) + ((P21 + I*Q21)*(P14 + I*Q14) + (P23 + I*Q23)*(P34 + I*Q34) + (sqrt(2)/2)*(-P24 - I*Q24)*(X4_6 + I*X4_7))*(P14.T - I*Q14.T))\n",
      "\n",
      "\n",
      "P23 :\n",
      "-0.5*g**2*(4*P23*P32**2 + 4*P23*Q32**2 + 2*P23*X2_2**2 - 4*P23*X2_2*X3_2 + 2*P23*X2_3**2 - 4*P23*X2_3*X3_3 + 2*P23*X3_2**2 + 2*P23*X3_3**2 + 4*P32*c23/g**2 + (P12 - I*Q12)*(P12 + I*Q12)*(P23 - I*Q23) + (P12 - I*Q12)*(P12 + I*Q12)*(P23 + I*Q23) + (P12 - I*Q12)*(P13 + I*Q13)*(-sqrt(2)*(X1_6 + I*X1_7)/2 + sqrt(2)*(X3_6 + I*X3_7)/2) + (P12 + I*Q12)*(P13 - I*Q13)*(-sqrt(2)*(X1_6 - I*X1_7)/2 + sqrt(2)*(X3_6 - I*X3_7)/2) + (P13 - I*Q13)*(P21 - I*Q21)*(sqrt(2)*(X2_4 + I*X2_5)/2 - sqrt(2)*(X3_4 + I*X3_5)/2) + (P13 + I*Q13)*(P21 + I*Q21)*(sqrt(2)*(X2_4 - I*X2_5)/2 - sqrt(2)*(X3_4 - I*X3_5)/2) + (P21 - I*Q21)*(P31 + I*Q31)*(sqrt(2)*(X1_8 - I*X1_9)/2 - sqrt(2)*(X2_8 - I*X2_9)/2) + (P21 + I*Q21)*(P31 - I*Q31)*(sqrt(2)*(X1_8 + I*X1_9)/2 - sqrt(2)*(X2_8 + I*X2_9)/2) + (P23 - I*Q23)*(P31 - I*Q31)*(P31 + I*Q31) + (P23 - I*Q23)*(sqrt(2)*(X2_4 - I*X2_5)/2 - sqrt(2)*(X3_4 - I*X3_5)/2)*(sqrt(2)*(X2_4 + I*X2_5)/2 - sqrt(2)*(X3_4 + I*X3_5)/2) + (P23 + I*Q23)*(P31 - I*Q31)*(P31 + I*Q31) + (P23 + I*Q23)*(sqrt(2)*(X2_4 - I*X2_5)/2 - sqrt(2)*(X3_4 - I*X3_5)/2)*(sqrt(2)*(X2_4 + I*X2_5)/2 - sqrt(2)*(X3_4 + I*X3_5)/2) + (X2_1 - X3_1)*(X2_1*(P23 - I*Q23) - X3_1*(P23 - I*Q23)) + (X2_1 - X3_1)*(P23*X2_1 - P23*X3_1 + I*Q23*X2_1 - I*Q23*X3_1)) +\n",
      "(-0.5*g**2)*((P12 - I*Q12)*(P14 + I*Q14)*(P43 + I*Q43) + (P12 + I*Q12)*(P43.T - I*Q43.T)*(P14.T - I*Q14.T) + (P31 - I*Q31)*(P24 + I*Q24)*(P41 + I*Q41) + (P31 + I*Q31)*(P41.T - I*Q41.T)*(P24.T - I*Q24.T) + (sqrt(2)*(X2_4 - I*X2_5)/2 - sqrt(2)*(X3_4 - I*X3_5)/2)*(P24 + I*Q24)*(P43 + I*Q43) + (sqrt(2)*(X2_4 + I*X2_5)/2 - sqrt(2)*(X3_4 + I*X3_5)/2)*(P43.T - I*Q43.T)*(P24.T - I*Q24.T) + (P34 + I*Q34)*((P21 - I*Q21)*(P14.T - I*Q14.T) + (P23 - I*Q23)*(P34.T - I*Q34.T) - (sqrt(2)/2)*(X4_6 - I*X4_7)*(P24.T - I*Q24.T)) + (P42.T - I*Q42.T)*((-P13 - I*Q13)*(P41 + I*Q41) + (P23 + I*Q23)*(P42 + I*Q42) - (sqrt(2)/2)*(X4_8 + I*X4_9)*(P43 + I*Q43)) + ((-P13 + I*Q13)*(P41.T - I*Q41.T) + (P23 - I*Q23)*(P42.T - I*Q42.T) + (sqrt(2)/2)*(-P43.T + I*Q43.T)*(X4_8 - I*X4_9))*(P42 + I*Q42) + ((P21 + I*Q21)*(P14 + I*Q14) + (P23 + I*Q23)*(P34 + I*Q34) + (sqrt(2)/2)*(-P24 - I*Q24)*(X4_6 + I*X4_7))*(P34.T - I*Q34.T))\n",
      "\n",
      "\n",
      "P31 :\n",
      "-0.5*g**2*(4*P13**2*P31 + 4*P13*c13/g**2 + 4*P31*Q13**2 + 2*P31*X1_2**2 - 4*P31*X1_2*X3_2 + 2*P31*X1_3**2 - 4*P31*X1_3*X3_3 + 2*P31*X3_2**2 + 2*P31*X3_3**2 + (P12 - I*Q12)*(P12 + I*Q12)*(P31 - I*Q31) + (P12 - I*Q12)*(P12 + I*Q12)*(P31 + I*Q31) + (P12 - I*Q12)*(P32 + I*Q32)*(sqrt(2)*(X2_4 + I*X2_5)/2 - sqrt(2)*(X3_4 + I*X3_5)/2) + (P12 + I*Q12)*(P32 - I*Q32)*(sqrt(2)*(X2_4 - I*X2_5)/2 - sqrt(2)*(X3_4 - I*X3_5)/2) + (P21 - I*Q21)*(P23 + I*Q23)*(sqrt(2)*(X1_8 - I*X1_9)/2 - sqrt(2)*(X2_8 - I*X2_9)/2) + (P21 - I*Q21)*(P32 - I*Q32)*(-sqrt(2)*(X1_6 + I*X1_7)/2 + sqrt(2)*(X3_6 + I*X3_7)/2) + (P21 + I*Q21)*(P23 - I*Q23)*(sqrt(2)*(X1_8 + I*X1_9)/2 - sqrt(2)*(X2_8 + I*X2_9)/2) + (P21 + I*Q21)*(P32 + I*Q32)*(-sqrt(2)*(X1_6 - I*X1_7)/2 + sqrt(2)*(X3_6 - I*X3_7)/2) + (P23 - I*Q23)*(P23 + I*Q23)*(P31 - I*Q31) + (P23 - I*Q23)*(P23 + I*Q23)*(P31 + I*Q31) + (P31 - I*Q31)*(-sqrt(2)*(X1_6 - I*X1_7)/2 + sqrt(2)*(X3_6 - I*X3_7)/2)*(-sqrt(2)*(X1_6 + I*X1_7)/2 + sqrt(2)*(X3_6 + I*X3_7)/2) + (P31 + I*Q31)*(-sqrt(2)*(X1_6 - I*X1_7)/2 + sqrt(2)*(X3_6 - I*X3_7)/2)*(-sqrt(2)*(X1_6 + I*X1_7)/2 + sqrt(2)*(X3_6 + I*X3_7)/2) + (-X1_1 + X3_1)*(-X1_1*(P31 - I*Q31) + X3_1*(P31 - I*Q31)) + (-X1_1 + X3_1)*(-P31*X1_1 + P31*X3_1 - I*Q31*X1_1 + I*Q31*X3_1)) +\n"
     ]
    },
    {
     "name": "stdout",
     "output_type": "stream",
     "text": [
      "(-0.5*g**2)*((P12 - I*Q12)*(P34 + I*Q34)*(P42 + I*Q42) + (P12 + I*Q12)*(P42.T - I*Q42.T)*(P34.T - I*Q34.T) + (P23 - I*Q23)*(P24 + I*Q24)*(P41 + I*Q41) + (P23 + I*Q23)*(P41.T - I*Q41.T)*(P24.T - I*Q24.T) + (-sqrt(2)*(X1_6 - I*X1_7)/2 + sqrt(2)*(X3_6 - I*X3_7)/2)*(-P34 - I*Q34)*(P41 + I*Q41) + (-sqrt(2)*(X1_6 + I*X1_7)/2 + sqrt(2)*(X3_6 + I*X3_7)/2)*(P41.T - I*Q41.T)*(-P34.T + I*Q34.T) + (P14 + I*Q14)*((P31 - I*Q31)*(P14.T - I*Q14.T) + (P32 - I*Q32)*(P24.T - I*Q24.T) - (sqrt(2)/2)*(X4_8 - I*X4_9)*(P34.T - I*Q34.T)) + (P43.T - I*Q43.T)*((P21 + I*Q21)*(P42 + I*Q42) + (P31 + I*Q31)*(P43 + I*Q43) - (sqrt(2)/2)*(X4_4 + I*X4_5)*(P41 + I*Q41)) + ((P21 - I*Q21)*(P42.T - I*Q42.T) + (P31 - I*Q31)*(P43.T - I*Q43.T) + (sqrt(2)/2)*(-P41.T + I*Q41.T)*(X4_4 - I*X4_5))*(P43 + I*Q43) + ((P31 + I*Q31)*(P14 + I*Q14) + (P32 + I*Q32)*(P24 + I*Q24) + (sqrt(2)/2)*(-P34 - I*Q34)*(X4_8 + I*X4_9))*(P14.T - I*Q14.T))\n",
      "\n",
      "\n",
      "P32 :\n",
      "-0.5*g**2*(4*P23**2*P32 + 4*P23*c23/g**2 + 4*P32*Q23**2 + 2*P32*X2_2**2 - 4*P32*X2_2*X3_2 + 2*P32*X2_3**2 - 4*P32*X2_3*X3_3 + 2*P32*X3_2**2 + 2*P32*X3_3**2 + (P12 - I*Q12)*(P13 + I*Q13)*(sqrt(2)*(X1_8 - I*X1_9)/2 - sqrt(2)*(X2_8 - I*X2_9)/2) + (P12 - I*Q12)*(P31 - I*Q31)*(sqrt(2)*(X2_4 + I*X2_5)/2 - sqrt(2)*(X3_4 + I*X3_5)/2) + (P12 + I*Q12)*(P13 - I*Q13)*(sqrt(2)*(X1_8 + I*X1_9)/2 - sqrt(2)*(X2_8 + I*X2_9)/2) + (P12 + I*Q12)*(P31 + I*Q31)*(sqrt(2)*(X2_4 - I*X2_5)/2 - sqrt(2)*(X3_4 - I*X3_5)/2) + (P13 - I*Q13)*(P13 + I*Q13)*(P32 - I*Q32) + (P13 - I*Q13)*(P13 + I*Q13)*(P32 + I*Q32) + (P21 - I*Q21)*(P21 + I*Q21)*(P32 - I*Q32) + (P21 - I*Q21)*(P21 + I*Q21)*(P32 + I*Q32) + (P21 - I*Q21)*(P31 + I*Q31)*(-sqrt(2)*(X1_6 + I*X1_7)/2 + sqrt(2)*(X3_6 + I*X3_7)/2) + (P21 + I*Q21)*(P31 - I*Q31)*(-sqrt(2)*(X1_6 - I*X1_7)/2 + sqrt(2)*(X3_6 - I*X3_7)/2) + (P32 - I*Q32)*(sqrt(2)*(X2_4 - I*X2_5)/2 - sqrt(2)*(X3_4 - I*X3_5)/2)*(sqrt(2)*(X2_4 + I*X2_5)/2 - sqrt(2)*(X3_4 + I*X3_5)/2) + (P32 + I*Q32)*(sqrt(2)*(X2_4 - I*X2_5)/2 - sqrt(2)*(X3_4 - I*X3_5)/2)*(sqrt(2)*(X2_4 + I*X2_5)/2 - sqrt(2)*(X3_4 + I*X3_5)/2) + (-X2_1 + X3_1)*(-X2_1*(P32 - I*Q32) + X3_1*(P32 - I*Q32)) + (-X2_1 + X3_1)*(-P32*X2_1 + P32*X3_1 - I*Q32*X2_1 + I*Q32*X3_1)) +\n",
      "(-0.5*g**2)*((P13 - I*Q13)*(P14 + I*Q14)*(P42 + I*Q42) + (P13 + I*Q13)*(P42.T - I*Q42.T)*(P14.T - I*Q14.T) + (P21 - I*Q21)*(-P34 - I*Q34)*(P41 + I*Q41) + (P21 + I*Q21)*(P41.T - I*Q41.T)*(-P34.T + I*Q34.T) + (sqrt(2)*(X2_4 - I*X2_5)/2 - sqrt(2)*(X3_4 - I*X3_5)/2)*(P34 + I*Q34)*(P42 + I*Q42) + (sqrt(2)*(X2_4 + I*X2_5)/2 - sqrt(2)*(X3_4 + I*X3_5)/2)*(P42.T - I*Q42.T)*(P34.T - I*Q34.T) + (P24 + I*Q24)*((P31 - I*Q31)*(P14.T - I*Q14.T) + (P32 - I*Q32)*(P24.T - I*Q24.T) - (sqrt(2)/2)*(X4_8 - I*X4_9)*(P34.T - I*Q34.T)) + (P43.T - I*Q43.T)*((P12 + I*Q12)*(P41 + I*Q41) + (P32 + I*Q32)*(P43 + I*Q43) - (sqrt(2)/2)*(X4_6 + I*X4_7)*(P42 + I*Q42)) + ((P12 - I*Q12)*(P41.T - I*Q41.T) + (P32 - I*Q32)*(P43.T - I*Q43.T) + (sqrt(2)/2)*(-P42.T + I*Q42.T)*(X4_6 - I*X4_7))*(P43 + I*Q43) + ((P31 + I*Q31)*(P14 + I*Q14) + (P32 + I*Q32)*(P24 + I*Q24) + (sqrt(2)/2)*(-P34 - I*Q34)*(X4_8 + I*X4_9))*(P24.T - I*Q24.T))\n",
      "\n",
      "\n",
      "Q12 :\n",
      "-0.5*g**2*(4*P21**2*Q12 + 4*Q12*Q21**2 + 2*Q12*X1_2**2 - 4*Q12*X1_2*X2_2 + 2*Q12*X1_3**2 - 4*Q12*X1_3*X2_3 + 2*Q12*X2_2**2 + 2*Q12*X2_3**2 - 4*Q21*c12/g**2 + I*(P12 - I*Q12)*(P23 - I*Q23)*(P23 + I*Q23) + I*(P12 - I*Q12)*(P31 - I*Q31)*(P31 + I*Q31) + I*(P12 - I*Q12)*(sqrt(2)*(X1_8 - I*X1_9)/2 - sqrt(2)*(X2_8 - I*X2_9)/2)*(sqrt(2)*(X1_8 + I*X1_9)/2 - sqrt(2)*(X2_8 + I*X2_9)/2) - I*(P12 + I*Q12)*(P23 - I*Q23)*(P23 + I*Q23) - I*(P12 + I*Q12)*(P31 - I*Q31)*(P31 + I*Q31) - I*(P12 + I*Q12)*(sqrt(2)*(X1_8 - I*X1_9)/2 - sqrt(2)*(X2_8 - I*X2_9)/2)*(sqrt(2)*(X1_8 + I*X1_9)/2 - sqrt(2)*(X2_8 + I*X2_9)/2) + I*(P13 - I*Q13)*(P23 + I*Q23)*(-sqrt(2)*(X1_6 - I*X1_7)/2 + sqrt(2)*(X3_6 - I*X3_7)/2) + I*(P13 - I*Q13)*(P32 - I*Q32)*(sqrt(2)*(X1_8 + I*X1_9)/2 - sqrt(2)*(X2_8 + I*X2_9)/2) - I*(P13 + I*Q13)*(P23 - I*Q23)*(-sqrt(2)*(X1_6 + I*X1_7)/2 + sqrt(2)*(X3_6 + I*X3_7)/2) - I*(P13 + I*Q13)*(P32 + I*Q32)*(sqrt(2)*(X1_8 - I*X1_9)/2 - sqrt(2)*(X2_8 - I*X2_9)/2) - I*(P31 - I*Q31)*(P32 + I*Q32)*(sqrt(2)*(X2_4 + I*X2_5)/2 - sqrt(2)*(X3_4 + I*X3_5)/2) + I*(P31 + I*Q31)*(P32 - I*Q32)*(sqrt(2)*(X2_4 - I*X2_5)/2 - sqrt(2)*(X3_4 - I*X3_5)/2) + (-I*X1_1 + I*X2_1)*(P12*X1_1 - P12*X2_1 + I*Q12*X1_1 - I*Q12*X2_1) + (I*X1_1 - I*X2_1)*(X1_1*(P12 - I*Q12) - X2_1*(P12 - I*Q12))) +\n",
      "(-0.5*g**2)*((-I*(P23 - I*Q23))*(P14 + I*Q14)*(P43 + I*Q43) + (I*(P23 + I*Q23))*(P43.T - I*Q43.T)*(P14.T - I*Q14.T) + (-I*(P31 - I*Q31))*(P34 + I*Q34)*(P42 + I*Q42) + (I*(P31 + I*Q31))*(P42.T - I*Q42.T)*(P34.T - I*Q34.T) + (-I*(sqrt(2)*(X1_8 - I*X1_9)/2 - sqrt(2)*(X2_8 - I*X2_9)/2))*(P14 + I*Q14)*(P42 + I*Q42) + (I*(sqrt(2)*(X1_8 + I*X1_9)/2 - sqrt(2)*(X2_8 + I*X2_9)/2))*(P42.T - I*Q42.T)*(P14.T - I*Q14.T) + I*(P24 + I*Q24)*((P12 - I*Q12)*(P24.T - I*Q24.T) + (-P13 + I*Q13)*(P34.T - I*Q34.T) - (sqrt(2)/2)*(X4_4 - I*X4_5)*(P14.T - I*Q14.T)) - I*(P41.T - I*Q41.T)*((P12 + I*Q12)*(P41 + I*Q41) + (P32 + I*Q32)*(P43 + I*Q43) - (sqrt(2)/2)*(X4_6 + I*X4_7)*(P42 + I*Q42)) + I*((P12 - I*Q12)*(P41.T - I*Q41.T) + (P32 - I*Q32)*(P43.T - I*Q43.T) + (sqrt(2)/2)*(-P42.T + I*Q42.T)*(X4_6 - I*X4_7))*(P41 + I*Q41) - I*((P12 + I*Q12)*(P24 + I*Q24) + (-P13 - I*Q13)*(P34 + I*Q34) + (sqrt(2)/2)*(-P14 - I*Q14)*(X4_4 + I*X4_5))*(P24.T - I*Q24.T))\n",
      "\n",
      "\n",
      "Q13 :\n",
      "-0.5*g**2*(4*P31**2*Q13 + 4*Q13*Q31**2 + 2*Q13*X1_2**2 - 4*Q13*X1_2*X3_2 + 2*Q13*X1_3**2 - 4*Q13*X1_3*X3_3 + 2*Q13*X3_2**2 + 2*Q13*X3_3**2 - 4*Q31*c13/g**2 + I*(P12 - I*Q12)*(P23 - I*Q23)*(-sqrt(2)*(X1_6 + I*X1_7)/2 + sqrt(2)*(X3_6 + I*X3_7)/2) + I*(P12 - I*Q12)*(P32 + I*Q32)*(sqrt(2)*(X1_8 - I*X1_9)/2 - sqrt(2)*(X2_8 - I*X2_9)/2) - I*(P12 + I*Q12)*(P23 + I*Q23)*(-sqrt(2)*(X1_6 - I*X1_7)/2 + sqrt(2)*(X3_6 - I*X3_7)/2) - I*(P12 + I*Q12)*(P32 - I*Q32)*(sqrt(2)*(X1_8 + I*X1_9)/2 - sqrt(2)*(X2_8 + I*X2_9)/2) + I*(P13 - I*Q13)*(P21 - I*Q21)*(P21 + I*Q21) + I*(P13 - I*Q13)*(P32 - I*Q32)*(P32 + I*Q32) + I*(P13 - I*Q13)*(-sqrt(2)*(X1_6 - I*X1_7)/2 + sqrt(2)*(X3_6 - I*X3_7)/2)*(-sqrt(2)*(X1_6 + I*X1_7)/2 + sqrt(2)*(X3_6 + I*X3_7)/2) - I*(P13 + I*Q13)*(P21 - I*Q21)*(P21 + I*Q21) - I*(P13 + I*Q13)*(P32 - I*Q32)*(P32 + I*Q32) - I*(P13 + I*Q13)*(-sqrt(2)*(X1_6 - I*X1_7)/2 + sqrt(2)*(X3_6 - I*X3_7)/2)*(-sqrt(2)*(X1_6 + I*X1_7)/2 + sqrt(2)*(X3_6 + I*X3_7)/2) - I*(P21 - I*Q21)*(P23 + I*Q23)*(sqrt(2)*(X2_4 + I*X2_5)/2 - sqrt(2)*(X3_4 + I*X3_5)/2) + I*(P21 + I*Q21)*(P23 - I*Q23)*(sqrt(2)*(X2_4 - I*X2_5)/2 - sqrt(2)*(X3_4 - I*X3_5)/2) + (-I*X1_1 + I*X3_1)*(P13*X1_1 - P13*X3_1 + I*Q13*X1_1 - I*Q13*X3_1) + (I*X1_1 - I*X3_1)*(X1_1*(P13 - I*Q13) - X3_1*(P13 - I*Q13))) +\n",
      "(-0.5*g**2)*((-I*(P21 - I*Q21))*(P24 + I*Q24)*(P43 + I*Q43) + (I*(P21 + I*Q21))*(P43.T - I*Q43.T)*(P24.T - I*Q24.T) + (-I*(P32 - I*Q32))*(P14 + I*Q14)*(P42 + I*Q42) + (I*(P32 + I*Q32))*(P42.T - I*Q42.T)*(P14.T - I*Q14.T) + (-I*(-sqrt(2)*(X1_6 - I*X1_7)/2 + sqrt(2)*(X3_6 - I*X3_7)/2))*(P14 + I*Q14)*(P43 + I*Q43) + (I*(-sqrt(2)*(X1_6 + I*X1_7)/2 + sqrt(2)*(X3_6 + I*X3_7)/2))*(P43.T - I*Q43.T)*(P14.T - I*Q14.T) - I*(P34 + I*Q34)*((P12 - I*Q12)*(P24.T - I*Q24.T) + (-P13 + I*Q13)*(P34.T - I*Q34.T) - (sqrt(2)/2)*(X4_4 - I*X4_5)*(P14.T - I*Q14.T)) + I*(P41.T - I*Q41.T)*((-P13 - I*Q13)*(P41 + I*Q41) + (P23 + I*Q23)*(P42 + I*Q42) - (sqrt(2)/2)*(X4_8 + I*X4_9)*(P43 + I*Q43)) + I*((P12 + I*Q12)*(P24 + I*Q24) + (-P13 - I*Q13)*(P34 + I*Q34) + (sqrt(2)/2)*(-P14 - I*Q14)*(X4_4 + I*X4_5))*(P34.T - I*Q34.T) - I*((-P13 + I*Q13)*(P41.T - I*Q41.T) + (P23 - I*Q23)*(P42.T - I*Q42.T) + (sqrt(2)/2)*(-P43.T + I*Q43.T)*(X4_8 - I*X4_9))*(P41 + I*Q41))\n",
      "\n",
      "\n",
      "Q21 :\n",
      "-0.5*g**2*(4*P12**2*Q21 + 4*Q12**2*Q21 - 4*Q12*c12/g**2 + 2*Q21*X1_2**2 - 4*Q21*X1_2*X2_2 + 2*Q21*X1_3**2 - 4*Q21*X1_3*X2_3 + 2*Q21*X2_2**2 + 2*Q21*X2_3**2 + I*(P13 - I*Q13)*(P13 + I*Q13)*(P21 - I*Q21) - I*(P13 - I*Q13)*(P13 + I*Q13)*(P21 + I*Q21) - I*(P13 - I*Q13)*(P23 + I*Q23)*(sqrt(2)*(X2_4 + I*X2_5)/2 - sqrt(2)*(X3_4 + I*X3_5)/2) + I*(P13 + I*Q13)*(P23 - I*Q23)*(sqrt(2)*(X2_4 - I*X2_5)/2 - sqrt(2)*(X3_4 - I*X3_5)/2) + I*(P21 - I*Q21)*(P32 - I*Q32)*(P32 + I*Q32) + I*(P21 - I*Q21)*(sqrt(2)*(X1_8 - I*X1_9)/2 - sqrt(2)*(X2_8 - I*X2_9)/2)*(sqrt(2)*(X1_8 + I*X1_9)/2 - sqrt(2)*(X2_8 + I*X2_9)/2) - I*(P21 + I*Q21)*(P32 - I*Q32)*(P32 + I*Q32) - I*(P21 + I*Q21)*(sqrt(2)*(X1_8 - I*X1_9)/2 - sqrt(2)*(X2_8 - I*X2_9)/2)*(sqrt(2)*(X1_8 + I*X1_9)/2 - sqrt(2)*(X2_8 + I*X2_9)/2) + I*(P23 - I*Q23)*(P31 - I*Q31)*(sqrt(2)*(X1_8 + I*X1_9)/2 - sqrt(2)*(X2_8 + I*X2_9)/2) - I*(P23 + I*Q23)*(P31 + I*Q31)*(sqrt(2)*(X1_8 - I*X1_9)/2 - sqrt(2)*(X2_8 - I*X2_9)/2) + I*(P31 - I*Q31)*(P32 + I*Q32)*(-sqrt(2)*(X1_6 - I*X1_7)/2 + sqrt(2)*(X3_6 - I*X3_7)/2) - I*(P31 + I*Q31)*(P32 - I*Q32)*(-sqrt(2)*(X1_6 + I*X1_7)/2 + sqrt(2)*(X3_6 + I*X3_7)/2) + (-I*X1_1 + I*X2_1)*(-X1_1*(P21 - I*Q21) + X2_1*(P21 - I*Q21)) + (I*X1_1 - I*X2_1)*(-P21*X1_1 + P21*X2_1 - I*Q21*X1_1 + I*Q21*X2_1)) +\n"
     ]
    },
    {
     "name": "stdout",
     "output_type": "stream",
     "text": [
      "(-0.5*g**2)*((-I*(P13 - I*Q13))*(P24 + I*Q24)*(P43 + I*Q43) + (I*(P13 + I*Q13))*(P43.T - I*Q43.T)*(P24.T - I*Q24.T) + (-I*(P32 - I*Q32))*(-P34 - I*Q34)*(P41 + I*Q41) + (I*(P32 + I*Q32))*(P41.T - I*Q41.T)*(-P34.T + I*Q34.T) + (-I*(sqrt(2)*(X1_8 - I*X1_9)/2 - sqrt(2)*(X2_8 - I*X2_9)/2))*(P24 + I*Q24)*(P41 + I*Q41) + (I*(sqrt(2)*(X1_8 + I*X1_9)/2 - sqrt(2)*(X2_8 + I*X2_9)/2))*(P41.T - I*Q41.T)*(P24.T - I*Q24.T) + I*(P14 + I*Q14)*((P21 - I*Q21)*(P14.T - I*Q14.T) + (P23 - I*Q23)*(P34.T - I*Q34.T) - (sqrt(2)/2)*(X4_6 - I*X4_7)*(P24.T - I*Q24.T)) - I*(P42.T - I*Q42.T)*((P21 + I*Q21)*(P42 + I*Q42) + (P31 + I*Q31)*(P43 + I*Q43) - (sqrt(2)/2)*(X4_4 + I*X4_5)*(P41 + I*Q41)) + I*((P21 - I*Q21)*(P42.T - I*Q42.T) + (P31 - I*Q31)*(P43.T - I*Q43.T) + (sqrt(2)/2)*(-P41.T + I*Q41.T)*(X4_4 - I*X4_5))*(P42 + I*Q42) - I*((P21 + I*Q21)*(P14 + I*Q14) + (P23 + I*Q23)*(P34 + I*Q34) + (sqrt(2)/2)*(-P24 - I*Q24)*(X4_6 + I*X4_7))*(P14.T - I*Q14.T))\n",
      "\n",
      "\n",
      "Q23 :\n",
      "-0.5*g**2*(4*P32**2*Q23 + 4*Q23*Q32**2 + 2*Q23*X2_2**2 - 4*Q23*X2_2*X3_2 + 2*Q23*X2_3**2 - 4*Q23*X2_3*X3_3 + 2*Q23*X3_2**2 + 2*Q23*X3_3**2 - 4*Q32*c23/g**2 + I*(P12 - I*Q12)*(P12 + I*Q12)*(P23 - I*Q23) - I*(P12 - I*Q12)*(P12 + I*Q12)*(P23 + I*Q23) - I*(P12 - I*Q12)*(P13 + I*Q13)*(-sqrt(2)*(X1_6 + I*X1_7)/2 + sqrt(2)*(X3_6 + I*X3_7)/2) + I*(P12 + I*Q12)*(P13 - I*Q13)*(-sqrt(2)*(X1_6 - I*X1_7)/2 + sqrt(2)*(X3_6 - I*X3_7)/2) + I*(P13 - I*Q13)*(P21 - I*Q21)*(sqrt(2)*(X2_4 + I*X2_5)/2 - sqrt(2)*(X3_4 + I*X3_5)/2) - I*(P13 + I*Q13)*(P21 + I*Q21)*(sqrt(2)*(X2_4 - I*X2_5)/2 - sqrt(2)*(X3_4 - I*X3_5)/2) + I*(P21 - I*Q21)*(P31 + I*Q31)*(sqrt(2)*(X1_8 - I*X1_9)/2 - sqrt(2)*(X2_8 - I*X2_9)/2) - I*(P21 + I*Q21)*(P31 - I*Q31)*(sqrt(2)*(X1_8 + I*X1_9)/2 - sqrt(2)*(X2_8 + I*X2_9)/2) + I*(P23 - I*Q23)*(P31 - I*Q31)*(P31 + I*Q31) + I*(P23 - I*Q23)*(sqrt(2)*(X2_4 - I*X2_5)/2 - sqrt(2)*(X3_4 - I*X3_5)/2)*(sqrt(2)*(X2_4 + I*X2_5)/2 - sqrt(2)*(X3_4 + I*X3_5)/2) - I*(P23 + I*Q23)*(P31 - I*Q31)*(P31 + I*Q31) - I*(P23 + I*Q23)*(sqrt(2)*(X2_4 - I*X2_5)/2 - sqrt(2)*(X3_4 - I*X3_5)/2)*(sqrt(2)*(X2_4 + I*X2_5)/2 - sqrt(2)*(X3_4 + I*X3_5)/2) + (-I*X2_1 + I*X3_1)*(P23*X2_1 - P23*X3_1 + I*Q23*X2_1 - I*Q23*X3_1) + (I*X2_1 - I*X3_1)*(X2_1*(P23 - I*Q23) - X3_1*(P23 - I*Q23))) +\n",
      "(-0.5*g**2)*((-I*(P12 - I*Q12))*(P14 + I*Q14)*(P43 + I*Q43) + (I*(P12 + I*Q12))*(P43.T - I*Q43.T)*(P14.T - I*Q14.T) + (-I*(P31 - I*Q31))*(P24 + I*Q24)*(P41 + I*Q41) + (I*(P31 + I*Q31))*(P41.T - I*Q41.T)*(P24.T - I*Q24.T) + (-I*(sqrt(2)*(X2_4 - I*X2_5)/2 - sqrt(2)*(X3_4 - I*X3_5)/2))*(P24 + I*Q24)*(P43 + I*Q43) + (I*(sqrt(2)*(X2_4 + I*X2_5)/2 - sqrt(2)*(X3_4 + I*X3_5)/2))*(P43.T - I*Q43.T)*(P24.T - I*Q24.T) + I*(P34 + I*Q34)*((P21 - I*Q21)*(P14.T - I*Q14.T) + (P23 - I*Q23)*(P34.T - I*Q34.T) - (sqrt(2)/2)*(X4_6 - I*X4_7)*(P24.T - I*Q24.T)) - I*(P42.T - I*Q42.T)*((-P13 - I*Q13)*(P41 + I*Q41) + (P23 + I*Q23)*(P42 + I*Q42) - (sqrt(2)/2)*(X4_8 + I*X4_9)*(P43 + I*Q43)) + I*((-P13 + I*Q13)*(P41.T - I*Q41.T) + (P23 - I*Q23)*(P42.T - I*Q42.T) + (sqrt(2)/2)*(-P43.T + I*Q43.T)*(X4_8 - I*X4_9))*(P42 + I*Q42) - I*((P21 + I*Q21)*(P14 + I*Q14) + (P23 + I*Q23)*(P34 + I*Q34) + (sqrt(2)/2)*(-P24 - I*Q24)*(X4_6 + I*X4_7))*(P34.T - I*Q34.T))\n",
      "\n",
      "\n",
      "Q31 :\n",
      "-0.5*g**2*(4*P13**2*Q31 + 4*Q13**2*Q31 - 4*Q13*c13/g**2 + 2*Q31*X1_2**2 - 4*Q31*X1_2*X3_2 + 2*Q31*X1_3**2 - 4*Q31*X1_3*X3_3 + 2*Q31*X3_2**2 + 2*Q31*X3_3**2 + I*(P12 - I*Q12)*(P12 + I*Q12)*(P31 - I*Q31) - I*(P12 - I*Q12)*(P12 + I*Q12)*(P31 + I*Q31) - I*(P12 - I*Q12)*(P32 + I*Q32)*(sqrt(2)*(X2_4 + I*X2_5)/2 - sqrt(2)*(X3_4 + I*X3_5)/2) + I*(P12 + I*Q12)*(P32 - I*Q32)*(sqrt(2)*(X2_4 - I*X2_5)/2 - sqrt(2)*(X3_4 - I*X3_5)/2) + I*(P21 - I*Q21)*(P23 + I*Q23)*(sqrt(2)*(X1_8 - I*X1_9)/2 - sqrt(2)*(X2_8 - I*X2_9)/2) + I*(P21 - I*Q21)*(P32 - I*Q32)*(-sqrt(2)*(X1_6 + I*X1_7)/2 + sqrt(2)*(X3_6 + I*X3_7)/2) - I*(P21 + I*Q21)*(P23 - I*Q23)*(sqrt(2)*(X1_8 + I*X1_9)/2 - sqrt(2)*(X2_8 + I*X2_9)/2) - I*(P21 + I*Q21)*(P32 + I*Q32)*(-sqrt(2)*(X1_6 - I*X1_7)/2 + sqrt(2)*(X3_6 - I*X3_7)/2) + I*(P23 - I*Q23)*(P23 + I*Q23)*(P31 - I*Q31) - I*(P23 - I*Q23)*(P23 + I*Q23)*(P31 + I*Q31) + I*(P31 - I*Q31)*(-sqrt(2)*(X1_6 - I*X1_7)/2 + sqrt(2)*(X3_6 - I*X3_7)/2)*(-sqrt(2)*(X1_6 + I*X1_7)/2 + sqrt(2)*(X3_6 + I*X3_7)/2) - I*(P31 + I*Q31)*(-sqrt(2)*(X1_6 - I*X1_7)/2 + sqrt(2)*(X3_6 - I*X3_7)/2)*(-sqrt(2)*(X1_6 + I*X1_7)/2 + sqrt(2)*(X3_6 + I*X3_7)/2) + (-I*X1_1 + I*X3_1)*(-X1_1*(P31 - I*Q31) + X3_1*(P31 - I*Q31)) + (I*X1_1 - I*X3_1)*(-P31*X1_1 + P31*X3_1 - I*Q31*X1_1 + I*Q31*X3_1)) +\n",
      "(-0.5*g**2)*((-I*(P12 - I*Q12))*(P34 + I*Q34)*(P42 + I*Q42) + (I*(P12 + I*Q12))*(P42.T - I*Q42.T)*(P34.T - I*Q34.T) + (-I*(P23 - I*Q23))*(P24 + I*Q24)*(P41 + I*Q41) + (I*(P23 + I*Q23))*(P41.T - I*Q41.T)*(P24.T - I*Q24.T) + (-I*(-sqrt(2)*(X1_6 - I*X1_7)/2 + sqrt(2)*(X3_6 - I*X3_7)/2))*(-P34 - I*Q34)*(P41 + I*Q41) + (I*(-sqrt(2)*(X1_6 + I*X1_7)/2 + sqrt(2)*(X3_6 + I*X3_7)/2))*(P41.T - I*Q41.T)*(-P34.T + I*Q34.T) + I*(P14 + I*Q14)*((P31 - I*Q31)*(P14.T - I*Q14.T) + (P32 - I*Q32)*(P24.T - I*Q24.T) - (sqrt(2)/2)*(X4_8 - I*X4_9)*(P34.T - I*Q34.T)) - I*(P43.T - I*Q43.T)*((P21 + I*Q21)*(P42 + I*Q42) + (P31 + I*Q31)*(P43 + I*Q43) - (sqrt(2)/2)*(X4_4 + I*X4_5)*(P41 + I*Q41)) + I*((P21 - I*Q21)*(P42.T - I*Q42.T) + (P31 - I*Q31)*(P43.T - I*Q43.T) + (sqrt(2)/2)*(-P41.T + I*Q41.T)*(X4_4 - I*X4_5))*(P43 + I*Q43) - I*((P31 + I*Q31)*(P14 + I*Q14) + (P32 + I*Q32)*(P24 + I*Q24) + (sqrt(2)/2)*(-P34 - I*Q34)*(X4_8 + I*X4_9))*(P14.T - I*Q14.T))\n",
      "\n",
      "\n",
      "Q32 :\n",
      "-0.5*g**2*(4*P23**2*Q32 + 4*Q23**2*Q32 - 4*Q23*c23/g**2 + 2*Q32*X2_2**2 - 4*Q32*X2_2*X3_2 + 2*Q32*X2_3**2 - 4*Q32*X2_3*X3_3 + 2*Q32*X3_2**2 + 2*Q32*X3_3**2 + I*(P12 - I*Q12)*(P13 + I*Q13)*(sqrt(2)*(X1_8 - I*X1_9)/2 - sqrt(2)*(X2_8 - I*X2_9)/2) + I*(P12 - I*Q12)*(P31 - I*Q31)*(sqrt(2)*(X2_4 + I*X2_5)/2 - sqrt(2)*(X3_4 + I*X3_5)/2) - I*(P12 + I*Q12)*(P13 - I*Q13)*(sqrt(2)*(X1_8 + I*X1_9)/2 - sqrt(2)*(X2_8 + I*X2_9)/2) - I*(P12 + I*Q12)*(P31 + I*Q31)*(sqrt(2)*(X2_4 - I*X2_5)/2 - sqrt(2)*(X3_4 - I*X3_5)/2) + I*(P13 - I*Q13)*(P13 + I*Q13)*(P32 - I*Q32) - I*(P13 - I*Q13)*(P13 + I*Q13)*(P32 + I*Q32) + I*(P21 - I*Q21)*(P21 + I*Q21)*(P32 - I*Q32) - I*(P21 - I*Q21)*(P21 + I*Q21)*(P32 + I*Q32) - I*(P21 - I*Q21)*(P31 + I*Q31)*(-sqrt(2)*(X1_6 + I*X1_7)/2 + sqrt(2)*(X3_6 + I*X3_7)/2) + I*(P21 + I*Q21)*(P31 - I*Q31)*(-sqrt(2)*(X1_6 - I*X1_7)/2 + sqrt(2)*(X3_6 - I*X3_7)/2) + I*(P32 - I*Q32)*(sqrt(2)*(X2_4 - I*X2_5)/2 - sqrt(2)*(X3_4 - I*X3_5)/2)*(sqrt(2)*(X2_4 + I*X2_5)/2 - sqrt(2)*(X3_4 + I*X3_5)/2) - I*(P32 + I*Q32)*(sqrt(2)*(X2_4 - I*X2_5)/2 - sqrt(2)*(X3_4 - I*X3_5)/2)*(sqrt(2)*(X2_4 + I*X2_5)/2 - sqrt(2)*(X3_4 + I*X3_5)/2) + (-I*X2_1 + I*X3_1)*(-X2_1*(P32 - I*Q32) + X3_1*(P32 - I*Q32)) + (I*X2_1 - I*X3_1)*(-P32*X2_1 + P32*X3_1 - I*Q32*X2_1 + I*Q32*X3_1)) +\n",
      "(-0.5*g**2)*((-I*(P13 - I*Q13))*(P14 + I*Q14)*(P42 + I*Q42) + (I*(P13 + I*Q13))*(P42.T - I*Q42.T)*(P14.T - I*Q14.T) + (-I*(P21 - I*Q21))*(-P34 - I*Q34)*(P41 + I*Q41) + (I*(P21 + I*Q21))*(P41.T - I*Q41.T)*(-P34.T + I*Q34.T) + (-I*(sqrt(2)*(X2_4 - I*X2_5)/2 - sqrt(2)*(X3_4 - I*X3_5)/2))*(P34 + I*Q34)*(P42 + I*Q42) + (I*(sqrt(2)*(X2_4 + I*X2_5)/2 - sqrt(2)*(X3_4 + I*X3_5)/2))*(P42.T - I*Q42.T)*(P34.T - I*Q34.T) + I*(P24 + I*Q24)*((P31 - I*Q31)*(P14.T - I*Q14.T) + (P32 - I*Q32)*(P24.T - I*Q24.T) - (sqrt(2)/2)*(X4_8 - I*X4_9)*(P34.T - I*Q34.T)) - I*(P43.T - I*Q43.T)*((P12 + I*Q12)*(P41 + I*Q41) + (P32 + I*Q32)*(P43 + I*Q43) - (sqrt(2)/2)*(X4_6 + I*X4_7)*(P42 + I*Q42)) + I*((P12 - I*Q12)*(P41.T - I*Q41.T) + (P32 - I*Q32)*(P43.T - I*Q43.T) + (sqrt(2)/2)*(-P42.T + I*Q42.T)*(X4_6 - I*X4_7))*(P43 + I*Q43) - I*((P31 + I*Q31)*(P14 + I*Q14) + (P32 + I*Q32)*(P24 + I*Q24) + (sqrt(2)/2)*(-P34 - I*Q34)*(X4_8 + I*X4_9))*(P24.T - I*Q24.T))\n",
      "\n",
      "\n"
     ]
    }
   ],
   "source": [
    "for el in Xs:\n",
    "    print(str(el), \":\")\n",
    "    print(L_scalar.diff(el), \"+\")\n",
    "    print(L_matrix.diff(el))\n",
    "    print(\"\\n\")\n",
    "\n",
    "for el in Ps:\n",
    "    print(str(el), \":\")\n",
    "    print(L_scalar.diff(el), \"+\")\n",
    "    print(L_matrix.diff(el))\n",
    "    print(\"\\n\")\n",
    "    \n",
    "for el in Qs:\n",
    "    print(str(el), \":\")\n",
    "    print(L_scalar.diff(el), \"+\")\n",
    "    print(L_matrix.diff(el))\n",
    "    print(\"\\n\")"
   ]
  },
  {
   "cell_type": "code",
   "execution_count": null,
   "id": "883f1340",
   "metadata": {},
   "outputs": [],
   "source": []
  },
  {
   "cell_type": "code",
   "execution_count": 264,
   "id": "ad6a23af",
   "metadata": {},
   "outputs": [
    {
     "ename": "TypeError",
     "evalue": "'Half' object cannot be interpreted as an integer",
     "output_type": "error",
     "traceback": [
      "\u001b[1;31m---------------------------------------------------------------------------\u001b[0m",
      "\u001b[1;31mTypeError\u001b[0m                                 Traceback (most recent call last)",
      "Cell \u001b[1;32mIn[264], line 31\u001b[0m\n\u001b[0;32m      1\u001b[0m V_F_matrIX \u001b[38;5;241m=\u001b[39m ( \u001b[38;5;66;03m##Abs(Fi4)**2\u001b[39;00m\n\u001b[0;32m      2\u001b[0m                \n\u001b[0;32m      3\u001b[0m               \u001b[38;5;66;03m##Abs(Gij)**2\u001b[39;00m\n\u001b[1;32m   (...)\u001b[0m\n\u001b[0;32m     28\u001b[0m                (G42_dag \u001b[38;5;241m*\u001b[39m G42) \u001b[38;5;241m+\u001b[39m (G24 \u001b[38;5;241m*\u001b[39m G24_dag) \u001b[38;5;241m+\u001b[39m \n\u001b[0;32m     29\u001b[0m                (G43_dag \u001b[38;5;241m*\u001b[39m G43) \u001b[38;5;241m+\u001b[39m (G34 \u001b[38;5;241m*\u001b[39m G34_dag) )\n\u001b[1;32m---> 31\u001b[0m \u001b[38;5;28mprint\u001b[39m(\u001b[43mV_F_matrIX\u001b[49m\u001b[38;5;241;43m.\u001b[39;49m\u001b[43mdiff\u001b[49m\u001b[43m(\u001b[49m\u001b[43mX4_4\u001b[49m\u001b[43m)\u001b[49m\u001b[38;5;241m.\u001b[39mexpand())\n",
      "File \u001b[1;32m~\\anaconda3\\lib\\site-packages\\sympy\\core\\expr.py:3555\u001b[0m, in \u001b[0;36mExpr.diff\u001b[1;34m(self, *symbols, **assumptions)\u001b[0m\n\u001b[0;32m   3553\u001b[0m \u001b[38;5;28;01mdef\u001b[39;00m \u001b[38;5;21mdiff\u001b[39m(\u001b[38;5;28mself\u001b[39m, \u001b[38;5;241m*\u001b[39msymbols, \u001b[38;5;241m*\u001b[39m\u001b[38;5;241m*\u001b[39massumptions):\n\u001b[0;32m   3554\u001b[0m     assumptions\u001b[38;5;241m.\u001b[39msetdefault(\u001b[38;5;124m\"\u001b[39m\u001b[38;5;124mevaluate\u001b[39m\u001b[38;5;124m\"\u001b[39m, \u001b[38;5;28;01mTrue\u001b[39;00m)\n\u001b[1;32m-> 3555\u001b[0m     \u001b[38;5;28;01mreturn\u001b[39;00m \u001b[43m_derivative_dispatch\u001b[49m\u001b[43m(\u001b[49m\u001b[38;5;28;43mself\u001b[39;49m\u001b[43m,\u001b[49m\u001b[43m \u001b[49m\u001b[38;5;241;43m*\u001b[39;49m\u001b[43msymbols\u001b[49m\u001b[43m,\u001b[49m\u001b[43m \u001b[49m\u001b[38;5;241;43m*\u001b[39;49m\u001b[38;5;241;43m*\u001b[39;49m\u001b[43massumptions\u001b[49m\u001b[43m)\u001b[49m\n",
      "File \u001b[1;32m~\\anaconda3\\lib\\site-packages\\sympy\\core\\function.py:1913\u001b[0m, in \u001b[0;36m_derivative_dispatch\u001b[1;34m(expr, *variables, **kwargs)\u001b[0m\n\u001b[0;32m   1911\u001b[0m \u001b[38;5;28;01mif\u001b[39;00m \u001b[38;5;28misinstance\u001b[39m(expr, array_types) \u001b[38;5;129;01mor\u001b[39;00m \u001b[38;5;28many\u001b[39m(\u001b[38;5;28misinstance\u001b[39m(i[\u001b[38;5;241m0\u001b[39m], array_types) \u001b[38;5;28;01mif\u001b[39;00m \u001b[38;5;28misinstance\u001b[39m(i, (\u001b[38;5;28mtuple\u001b[39m, \u001b[38;5;28mlist\u001b[39m, Tuple)) \u001b[38;5;28;01melse\u001b[39;00m \u001b[38;5;28misinstance\u001b[39m(i, array_types) \u001b[38;5;28;01mfor\u001b[39;00m i \u001b[38;5;129;01min\u001b[39;00m variables):\n\u001b[0;32m   1912\u001b[0m     \u001b[38;5;28;01mfrom\u001b[39;00m \u001b[38;5;21;01msympy\u001b[39;00m\u001b[38;5;21;01m.\u001b[39;00m\u001b[38;5;21;01mtensor\u001b[39;00m\u001b[38;5;21;01m.\u001b[39;00m\u001b[38;5;21;01marray\u001b[39;00m\u001b[38;5;21;01m.\u001b[39;00m\u001b[38;5;21;01marray_derivatives\u001b[39;00m \u001b[38;5;28;01mimport\u001b[39;00m ArrayDerivative\n\u001b[1;32m-> 1913\u001b[0m     \u001b[38;5;28;01mreturn\u001b[39;00m \u001b[43mArrayDerivative\u001b[49m\u001b[43m(\u001b[49m\u001b[43mexpr\u001b[49m\u001b[43m,\u001b[49m\u001b[43m \u001b[49m\u001b[38;5;241;43m*\u001b[39;49m\u001b[43mvariables\u001b[49m\u001b[43m,\u001b[49m\u001b[43m \u001b[49m\u001b[38;5;241;43m*\u001b[39;49m\u001b[38;5;241;43m*\u001b[39;49m\u001b[43mkwargs\u001b[49m\u001b[43m)\u001b[49m\n\u001b[0;32m   1914\u001b[0m \u001b[38;5;28;01mreturn\u001b[39;00m Derivative(expr, \u001b[38;5;241m*\u001b[39mvariables, \u001b[38;5;241m*\u001b[39m\u001b[38;5;241m*\u001b[39mkwargs)\n",
      "File \u001b[1;32m~\\anaconda3\\lib\\site-packages\\sympy\\tensor\\array\\array_derivatives.py:19\u001b[0m, in \u001b[0;36mArrayDerivative.__new__\u001b[1;34m(cls, expr, *variables, **kwargs)\u001b[0m\n\u001b[0;32m     18\u001b[0m \u001b[38;5;28;01mdef\u001b[39;00m \u001b[38;5;21m__new__\u001b[39m(\u001b[38;5;28mcls\u001b[39m, expr, \u001b[38;5;241m*\u001b[39mvariables, \u001b[38;5;241m*\u001b[39m\u001b[38;5;241m*\u001b[39mkwargs):\n\u001b[1;32m---> 19\u001b[0m     obj \u001b[38;5;241m=\u001b[39m \u001b[38;5;28;43msuper\u001b[39;49m\u001b[43m(\u001b[49m\u001b[43m)\u001b[49m\u001b[38;5;241;43m.\u001b[39;49m\u001b[38;5;21;43m__new__\u001b[39;49m\u001b[43m(\u001b[49m\u001b[38;5;28;43mcls\u001b[39;49m\u001b[43m,\u001b[49m\u001b[43m \u001b[49m\u001b[43mexpr\u001b[49m\u001b[43m,\u001b[49m\u001b[43m \u001b[49m\u001b[38;5;241;43m*\u001b[39;49m\u001b[43mvariables\u001b[49m\u001b[43m,\u001b[49m\u001b[43m \u001b[49m\u001b[38;5;241;43m*\u001b[39;49m\u001b[38;5;241;43m*\u001b[39;49m\u001b[43mkwargs\u001b[49m\u001b[43m)\u001b[49m\n\u001b[0;32m     20\u001b[0m     \u001b[38;5;28;01mif\u001b[39;00m \u001b[38;5;28misinstance\u001b[39m(obj, ArrayDerivative):\n\u001b[0;32m     21\u001b[0m         obj\u001b[38;5;241m.\u001b[39m_shape \u001b[38;5;241m=\u001b[39m obj\u001b[38;5;241m.\u001b[39m_get_shape()\n",
      "File \u001b[1;32m~\\anaconda3\\lib\\site-packages\\sympy\\core\\function.py:1442\u001b[0m, in \u001b[0;36mDerivative.__new__\u001b[1;34m(cls, expr, *variables, **kwargs)\u001b[0m\n\u001b[0;32m   1435\u001b[0m     \u001b[38;5;28;01mif\u001b[39;00m \u001b[38;5;129;01mnot\u001b[39;00m old_v\u001b[38;5;241m.\u001b[39mis_scalar \u001b[38;5;129;01mand\u001b[39;00m \u001b[38;5;129;01mnot\u001b[39;00m \u001b[38;5;28mhasattr\u001b[39m(\n\u001b[0;32m   1436\u001b[0m             old_v, \u001b[38;5;124m'\u001b[39m\u001b[38;5;124m_eval_derivative\u001b[39m\u001b[38;5;124m'\u001b[39m):\n\u001b[0;32m   1437\u001b[0m         \u001b[38;5;66;03m# special hack providing evaluation for classes\u001b[39;00m\n\u001b[0;32m   1438\u001b[0m         \u001b[38;5;66;03m# that have defined is_scalar=True but have no\u001b[39;00m\n\u001b[0;32m   1439\u001b[0m         \u001b[38;5;66;03m# _eval_derivative defined\u001b[39;00m\n\u001b[0;32m   1440\u001b[0m         expr \u001b[38;5;241m*\u001b[39m\u001b[38;5;241m=\u001b[39m old_v\u001b[38;5;241m.\u001b[39mdiff(old_v)\n\u001b[1;32m-> 1442\u001b[0m obj \u001b[38;5;241m=\u001b[39m \u001b[38;5;28;43mcls\u001b[39;49m\u001b[38;5;241;43m.\u001b[39;49m\u001b[43m_dispatch_eval_derivative_n_times\u001b[49m\u001b[43m(\u001b[49m\u001b[43mexpr\u001b[49m\u001b[43m,\u001b[49m\u001b[43m \u001b[49m\u001b[43mv\u001b[49m\u001b[43m,\u001b[49m\u001b[43m \u001b[49m\u001b[43mcount\u001b[49m\u001b[43m)\u001b[49m\n\u001b[0;32m   1443\u001b[0m \u001b[38;5;28;01mif\u001b[39;00m obj \u001b[38;5;129;01mis\u001b[39;00m \u001b[38;5;129;01mnot\u001b[39;00m \u001b[38;5;28;01mNone\u001b[39;00m \u001b[38;5;129;01mand\u001b[39;00m obj\u001b[38;5;241m.\u001b[39mis_zero:\n\u001b[0;32m   1444\u001b[0m     \u001b[38;5;28;01mreturn\u001b[39;00m obj\n",
      "File \u001b[1;32m~\\anaconda3\\lib\\site-packages\\sympy\\tensor\\array\\array_derivatives.py:118\u001b[0m, in \u001b[0;36mArrayDerivative._dispatch_eval_derivative_n_times\u001b[1;34m(cls, expr, v, count)\u001b[0m\n\u001b[0;32m    116\u001b[0m     result \u001b[38;5;241m=\u001b[39m derive_by_array(expr, v)\n\u001b[0;32m    117\u001b[0m \u001b[38;5;28;01melif\u001b[39;00m \u001b[38;5;28misinstance\u001b[39m(expr, MatrixExpr) \u001b[38;5;129;01mand\u001b[39;00m \u001b[38;5;28misinstance\u001b[39m(v, MatrixExpr):\n\u001b[1;32m--> 118\u001b[0m     result \u001b[38;5;241m=\u001b[39m \u001b[38;5;28;43mcls\u001b[39;49m\u001b[38;5;241;43m.\u001b[39;49m\u001b[43m_call_derive_default\u001b[49m\u001b[43m(\u001b[49m\u001b[43mexpr\u001b[49m\u001b[43m,\u001b[49m\u001b[43m \u001b[49m\u001b[43mv\u001b[49m\u001b[43m)\u001b[49m\n\u001b[0;32m    119\u001b[0m \u001b[38;5;28;01melif\u001b[39;00m \u001b[38;5;28misinstance\u001b[39m(expr, MatrixExpr) \u001b[38;5;129;01mor\u001b[39;00m \u001b[38;5;28misinstance\u001b[39m(v, MatrixExpr):\n\u001b[0;32m    120\u001b[0m     \u001b[38;5;66;03m# if one expression is a symbolic matrix expression while the other isn't, don't evaluate:\u001b[39;00m\n\u001b[0;32m    121\u001b[0m     \u001b[38;5;28;01mreturn\u001b[39;00m \u001b[38;5;28;01mNone\u001b[39;00m\n",
      "File \u001b[1;32m~\\anaconda3\\lib\\site-packages\\sympy\\tensor\\array\\array_derivatives.py:77\u001b[0m, in \u001b[0;36mArrayDerivative._call_derive_default\u001b[1;34m(expr, v)\u001b[0m\n\u001b[0;32m     74\u001b[0m \u001b[38;5;129m@staticmethod\u001b[39m\n\u001b[0;32m     75\u001b[0m \u001b[38;5;28;01mdef\u001b[39;00m \u001b[38;5;21m_call_derive_default\u001b[39m(expr, v):  \u001b[38;5;66;03m# type: (Expr, Expr) -> Optional[Expr]\u001b[39;00m\n\u001b[0;32m     76\u001b[0m     \u001b[38;5;28;01mif\u001b[39;00m expr\u001b[38;5;241m.\u001b[39mhas(v):\n\u001b[1;32m---> 77\u001b[0m         \u001b[38;5;28;01mreturn\u001b[39;00m \u001b[43m_matrix_derivative\u001b[49m\u001b[43m(\u001b[49m\u001b[43mexpr\u001b[49m\u001b[43m,\u001b[49m\u001b[43m \u001b[49m\u001b[43mv\u001b[49m\u001b[43m)\u001b[49m\n\u001b[0;32m     78\u001b[0m     \u001b[38;5;28;01melse\u001b[39;00m:\n\u001b[0;32m     79\u001b[0m         \u001b[38;5;28;01mreturn\u001b[39;00m \u001b[38;5;28;01mNone\u001b[39;00m\n",
      "File \u001b[1;32m~\\anaconda3\\lib\\site-packages\\sympy\\matrices\\expressions\\matexpr.py:532\u001b[0m, in \u001b[0;36m_matrix_derivative\u001b[1;34m(expr, x, old_algorithm)\u001b[0m\n\u001b[0;32m    529\u001b[0m \u001b[38;5;28;01mfrom\u001b[39;00m \u001b[38;5;21;01msympy\u001b[39;00m\u001b[38;5;21;01m.\u001b[39;00m\u001b[38;5;21;01mtensor\u001b[39;00m\u001b[38;5;21;01m.\u001b[39;00m\u001b[38;5;21;01marray\u001b[39;00m\u001b[38;5;21;01m.\u001b[39;00m\u001b[38;5;21;01mexpressions\u001b[39;00m\u001b[38;5;21;01m.\u001b[39;00m\u001b[38;5;21;01marrayexpr_derivatives\u001b[39;00m \u001b[38;5;28;01mimport\u001b[39;00m array_derive\n\u001b[0;32m    530\u001b[0m \u001b[38;5;28;01mfrom\u001b[39;00m \u001b[38;5;21;01msympy\u001b[39;00m\u001b[38;5;21;01m.\u001b[39;00m\u001b[38;5;21;01mtensor\u001b[39;00m\u001b[38;5;21;01m.\u001b[39;00m\u001b[38;5;21;01marray\u001b[39;00m\u001b[38;5;21;01m.\u001b[39;00m\u001b[38;5;21;01mexpressions\u001b[39;00m\u001b[38;5;21;01m.\u001b[39;00m\u001b[38;5;21;01mconv_array_to_matrix\u001b[39;00m \u001b[38;5;28;01mimport\u001b[39;00m convert_array_to_matrix\n\u001b[1;32m--> 532\u001b[0m array_expr \u001b[38;5;241m=\u001b[39m \u001b[43mconvert_matrix_to_array\u001b[49m\u001b[43m(\u001b[49m\u001b[43mexpr\u001b[49m\u001b[43m)\u001b[49m\n\u001b[0;32m    533\u001b[0m diff_array_expr \u001b[38;5;241m=\u001b[39m array_derive(array_expr, x)\n\u001b[0;32m    534\u001b[0m diff_matrix_expr \u001b[38;5;241m=\u001b[39m convert_array_to_matrix(diff_array_expr)\n",
      "File \u001b[1;32m~\\anaconda3\\lib\\site-packages\\sympy\\tensor\\array\\expressions\\conv_matrix_to_array.py:45\u001b[0m, in \u001b[0;36mconvert_matrix_to_array\u001b[1;34m(expr)\u001b[0m\n\u001b[0;32m     39\u001b[0m     \u001b[38;5;28;01mreturn\u001b[39;00m _array_contraction(\n\u001b[0;32m     40\u001b[0m             tprod,\n\u001b[0;32m     41\u001b[0m             \u001b[38;5;241m*\u001b[39mcontractions\n\u001b[0;32m     42\u001b[0m     )\n\u001b[0;32m     43\u001b[0m \u001b[38;5;28;01melif\u001b[39;00m \u001b[38;5;28misinstance\u001b[39m(expr, MatAdd):\n\u001b[0;32m     44\u001b[0m     \u001b[38;5;28;01mreturn\u001b[39;00m _array_add(\n\u001b[1;32m---> 45\u001b[0m             \u001b[38;5;241m*\u001b[39m[convert_matrix_to_array(arg) \u001b[38;5;28;01mfor\u001b[39;00m arg \u001b[38;5;129;01min\u001b[39;00m expr\u001b[38;5;241m.\u001b[39margs]\n\u001b[0;32m     46\u001b[0m     )\n\u001b[0;32m     47\u001b[0m \u001b[38;5;28;01melif\u001b[39;00m \u001b[38;5;28misinstance\u001b[39m(expr, Transpose):\n\u001b[0;32m     48\u001b[0m     \u001b[38;5;28;01mreturn\u001b[39;00m _permute_dims(\n\u001b[0;32m     49\u001b[0m             convert_matrix_to_array(expr\u001b[38;5;241m.\u001b[39margs[\u001b[38;5;241m0\u001b[39m]), [\u001b[38;5;241m1\u001b[39m, \u001b[38;5;241m0\u001b[39m]\n\u001b[0;32m     50\u001b[0m     )\n",
      "File \u001b[1;32m~\\anaconda3\\lib\\site-packages\\sympy\\tensor\\array\\expressions\\conv_matrix_to_array.py:45\u001b[0m, in \u001b[0;36m<listcomp>\u001b[1;34m(.0)\u001b[0m\n\u001b[0;32m     39\u001b[0m     \u001b[38;5;28;01mreturn\u001b[39;00m _array_contraction(\n\u001b[0;32m     40\u001b[0m             tprod,\n\u001b[0;32m     41\u001b[0m             \u001b[38;5;241m*\u001b[39mcontractions\n\u001b[0;32m     42\u001b[0m     )\n\u001b[0;32m     43\u001b[0m \u001b[38;5;28;01melif\u001b[39;00m \u001b[38;5;28misinstance\u001b[39m(expr, MatAdd):\n\u001b[0;32m     44\u001b[0m     \u001b[38;5;28;01mreturn\u001b[39;00m _array_add(\n\u001b[1;32m---> 45\u001b[0m             \u001b[38;5;241m*\u001b[39m[\u001b[43mconvert_matrix_to_array\u001b[49m\u001b[43m(\u001b[49m\u001b[43marg\u001b[49m\u001b[43m)\u001b[49m \u001b[38;5;28;01mfor\u001b[39;00m arg \u001b[38;5;129;01min\u001b[39;00m expr\u001b[38;5;241m.\u001b[39margs]\n\u001b[0;32m     46\u001b[0m     )\n\u001b[0;32m     47\u001b[0m \u001b[38;5;28;01melif\u001b[39;00m \u001b[38;5;28misinstance\u001b[39m(expr, Transpose):\n\u001b[0;32m     48\u001b[0m     \u001b[38;5;28;01mreturn\u001b[39;00m _permute_dims(\n\u001b[0;32m     49\u001b[0m             convert_matrix_to_array(expr\u001b[38;5;241m.\u001b[39margs[\u001b[38;5;241m0\u001b[39m]), [\u001b[38;5;241m1\u001b[39m, \u001b[38;5;241m0\u001b[39m]\n\u001b[0;32m     50\u001b[0m     )\n",
      "File \u001b[1;32m~\\anaconda3\\lib\\site-packages\\sympy\\tensor\\array\\expressions\\conv_matrix_to_array.py:34\u001b[0m, in \u001b[0;36mconvert_matrix_to_array\u001b[1;34m(expr)\u001b[0m\n\u001b[0;32m     31\u001b[0m scalar \u001b[38;5;241m=\u001b[39m _array_tensor_product(\u001b[38;5;241m*\u001b[39margs_nonmat) \u001b[38;5;28;01mif\u001b[39;00m args_nonmat \u001b[38;5;28;01melse\u001b[39;00m S\u001b[38;5;241m.\u001b[39mOne\n\u001b[0;32m     32\u001b[0m \u001b[38;5;28;01mif\u001b[39;00m scalar \u001b[38;5;241m==\u001b[39m \u001b[38;5;241m1\u001b[39m:\n\u001b[0;32m     33\u001b[0m     tprod \u001b[38;5;241m=\u001b[39m _array_tensor_product(\n\u001b[1;32m---> 34\u001b[0m         \u001b[38;5;241m*\u001b[39m[convert_matrix_to_array(arg) \u001b[38;5;28;01mfor\u001b[39;00m arg \u001b[38;5;129;01min\u001b[39;00m args])\n\u001b[0;32m     35\u001b[0m \u001b[38;5;28;01melse\u001b[39;00m:\n\u001b[0;32m     36\u001b[0m     tprod \u001b[38;5;241m=\u001b[39m _array_tensor_product(\n\u001b[0;32m     37\u001b[0m         scalar,\n\u001b[0;32m     38\u001b[0m         \u001b[38;5;241m*\u001b[39m[convert_matrix_to_array(arg) \u001b[38;5;28;01mfor\u001b[39;00m arg \u001b[38;5;129;01min\u001b[39;00m args])\n",
      "File \u001b[1;32m~\\anaconda3\\lib\\site-packages\\sympy\\tensor\\array\\expressions\\conv_matrix_to_array.py:34\u001b[0m, in \u001b[0;36m<listcomp>\u001b[1;34m(.0)\u001b[0m\n\u001b[0;32m     31\u001b[0m scalar \u001b[38;5;241m=\u001b[39m _array_tensor_product(\u001b[38;5;241m*\u001b[39margs_nonmat) \u001b[38;5;28;01mif\u001b[39;00m args_nonmat \u001b[38;5;28;01melse\u001b[39;00m S\u001b[38;5;241m.\u001b[39mOne\n\u001b[0;32m     32\u001b[0m \u001b[38;5;28;01mif\u001b[39;00m scalar \u001b[38;5;241m==\u001b[39m \u001b[38;5;241m1\u001b[39m:\n\u001b[0;32m     33\u001b[0m     tprod \u001b[38;5;241m=\u001b[39m _array_tensor_product(\n\u001b[1;32m---> 34\u001b[0m         \u001b[38;5;241m*\u001b[39m[\u001b[43mconvert_matrix_to_array\u001b[49m\u001b[43m(\u001b[49m\u001b[43marg\u001b[49m\u001b[43m)\u001b[49m \u001b[38;5;28;01mfor\u001b[39;00m arg \u001b[38;5;129;01min\u001b[39;00m args])\n\u001b[0;32m     35\u001b[0m \u001b[38;5;28;01melse\u001b[39;00m:\n\u001b[0;32m     36\u001b[0m     tprod \u001b[38;5;241m=\u001b[39m _array_tensor_product(\n\u001b[0;32m     37\u001b[0m         scalar,\n\u001b[0;32m     38\u001b[0m         \u001b[38;5;241m*\u001b[39m[convert_matrix_to_array(arg) \u001b[38;5;28;01mfor\u001b[39;00m arg \u001b[38;5;129;01min\u001b[39;00m args])\n",
      "File \u001b[1;32m~\\anaconda3\\lib\\site-packages\\sympy\\tensor\\array\\expressions\\conv_matrix_to_array.py:45\u001b[0m, in \u001b[0;36mconvert_matrix_to_array\u001b[1;34m(expr)\u001b[0m\n\u001b[0;32m     39\u001b[0m     \u001b[38;5;28;01mreturn\u001b[39;00m _array_contraction(\n\u001b[0;32m     40\u001b[0m             tprod,\n\u001b[0;32m     41\u001b[0m             \u001b[38;5;241m*\u001b[39mcontractions\n\u001b[0;32m     42\u001b[0m     )\n\u001b[0;32m     43\u001b[0m \u001b[38;5;28;01melif\u001b[39;00m \u001b[38;5;28misinstance\u001b[39m(expr, MatAdd):\n\u001b[0;32m     44\u001b[0m     \u001b[38;5;28;01mreturn\u001b[39;00m _array_add(\n\u001b[1;32m---> 45\u001b[0m             \u001b[38;5;241m*\u001b[39m[convert_matrix_to_array(arg) \u001b[38;5;28;01mfor\u001b[39;00m arg \u001b[38;5;129;01min\u001b[39;00m expr\u001b[38;5;241m.\u001b[39margs]\n\u001b[0;32m     46\u001b[0m     )\n\u001b[0;32m     47\u001b[0m \u001b[38;5;28;01melif\u001b[39;00m \u001b[38;5;28misinstance\u001b[39m(expr, Transpose):\n\u001b[0;32m     48\u001b[0m     \u001b[38;5;28;01mreturn\u001b[39;00m _permute_dims(\n\u001b[0;32m     49\u001b[0m             convert_matrix_to_array(expr\u001b[38;5;241m.\u001b[39margs[\u001b[38;5;241m0\u001b[39m]), [\u001b[38;5;241m1\u001b[39m, \u001b[38;5;241m0\u001b[39m]\n\u001b[0;32m     50\u001b[0m     )\n",
      "File \u001b[1;32m~\\anaconda3\\lib\\site-packages\\sympy\\tensor\\array\\expressions\\conv_matrix_to_array.py:45\u001b[0m, in \u001b[0;36m<listcomp>\u001b[1;34m(.0)\u001b[0m\n\u001b[0;32m     39\u001b[0m     \u001b[38;5;28;01mreturn\u001b[39;00m _array_contraction(\n\u001b[0;32m     40\u001b[0m             tprod,\n\u001b[0;32m     41\u001b[0m             \u001b[38;5;241m*\u001b[39mcontractions\n\u001b[0;32m     42\u001b[0m     )\n\u001b[0;32m     43\u001b[0m \u001b[38;5;28;01melif\u001b[39;00m \u001b[38;5;28misinstance\u001b[39m(expr, MatAdd):\n\u001b[0;32m     44\u001b[0m     \u001b[38;5;28;01mreturn\u001b[39;00m _array_add(\n\u001b[1;32m---> 45\u001b[0m             \u001b[38;5;241m*\u001b[39m[\u001b[43mconvert_matrix_to_array\u001b[49m\u001b[43m(\u001b[49m\u001b[43marg\u001b[49m\u001b[43m)\u001b[49m \u001b[38;5;28;01mfor\u001b[39;00m arg \u001b[38;5;129;01min\u001b[39;00m expr\u001b[38;5;241m.\u001b[39margs]\n\u001b[0;32m     46\u001b[0m     )\n\u001b[0;32m     47\u001b[0m \u001b[38;5;28;01melif\u001b[39;00m \u001b[38;5;28misinstance\u001b[39m(expr, Transpose):\n\u001b[0;32m     48\u001b[0m     \u001b[38;5;28;01mreturn\u001b[39;00m _permute_dims(\n\u001b[0;32m     49\u001b[0m             convert_matrix_to_array(expr\u001b[38;5;241m.\u001b[39margs[\u001b[38;5;241m0\u001b[39m]), [\u001b[38;5;241m1\u001b[39m, \u001b[38;5;241m0\u001b[39m]\n\u001b[0;32m     50\u001b[0m     )\n",
      "File \u001b[1;32m~\\anaconda3\\lib\\site-packages\\sympy\\tensor\\array\\expressions\\conv_matrix_to_array.py:29\u001b[0m, in \u001b[0;36mconvert_matrix_to_array\u001b[1;34m(expr)\u001b[0m\n\u001b[0;32m     27\u001b[0m         args\u001b[38;5;241m.\u001b[39mappend(arg)\n\u001b[0;32m     28\u001b[0m     \u001b[38;5;28;01melse\u001b[39;00m:\n\u001b[1;32m---> 29\u001b[0m         args_nonmat\u001b[38;5;241m.\u001b[39mappend(\u001b[43mconvert_matrix_to_array\u001b[49m\u001b[43m(\u001b[49m\u001b[43marg\u001b[49m\u001b[43m)\u001b[49m)\n\u001b[0;32m     30\u001b[0m contractions \u001b[38;5;241m=\u001b[39m [(\u001b[38;5;241m2\u001b[39m\u001b[38;5;241m*\u001b[39mi\u001b[38;5;241m+\u001b[39m\u001b[38;5;241m1\u001b[39m, \u001b[38;5;241m2\u001b[39m\u001b[38;5;241m*\u001b[39mi\u001b[38;5;241m+\u001b[39m\u001b[38;5;241m2\u001b[39m) \u001b[38;5;28;01mfor\u001b[39;00m i \u001b[38;5;129;01min\u001b[39;00m \u001b[38;5;28mrange\u001b[39m(\u001b[38;5;28mlen\u001b[39m(args)\u001b[38;5;241m-\u001b[39m\u001b[38;5;241m1\u001b[39m)]\n\u001b[0;32m     31\u001b[0m scalar \u001b[38;5;241m=\u001b[39m _array_tensor_product(\u001b[38;5;241m*\u001b[39margs_nonmat) \u001b[38;5;28;01mif\u001b[39;00m args_nonmat \u001b[38;5;28;01melse\u001b[39;00m S\u001b[38;5;241m.\u001b[39mOne\n",
      "File \u001b[1;32m~\\anaconda3\\lib\\site-packages\\sympy\\tensor\\array\\expressions\\conv_matrix_to_array.py:55\u001b[0m, in \u001b[0;36mconvert_matrix_to_array\u001b[1;34m(expr)\u001b[0m\n\u001b[0;32m     53\u001b[0m     \u001b[38;5;28;01mreturn\u001b[39;00m _array_contraction(inner_expr, (\u001b[38;5;241m0\u001b[39m, \u001b[38;5;28mlen\u001b[39m(inner_expr\u001b[38;5;241m.\u001b[39mshape) \u001b[38;5;241m-\u001b[39m \u001b[38;5;241m1\u001b[39m))\n\u001b[0;32m     54\u001b[0m \u001b[38;5;28;01melif\u001b[39;00m \u001b[38;5;28misinstance\u001b[39m(expr, Mul):\n\u001b[1;32m---> 55\u001b[0m     \u001b[38;5;28;01mreturn\u001b[39;00m _array_tensor_product(\u001b[38;5;241m*\u001b[39m[convert_matrix_to_array(i) \u001b[38;5;28;01mfor\u001b[39;00m i \u001b[38;5;129;01min\u001b[39;00m expr\u001b[38;5;241m.\u001b[39margs])\n\u001b[0;32m     56\u001b[0m \u001b[38;5;28;01melif\u001b[39;00m \u001b[38;5;28misinstance\u001b[39m(expr, Pow):\n\u001b[0;32m     57\u001b[0m     base \u001b[38;5;241m=\u001b[39m convert_matrix_to_array(expr\u001b[38;5;241m.\u001b[39mbase)\n",
      "File \u001b[1;32m~\\anaconda3\\lib\\site-packages\\sympy\\tensor\\array\\expressions\\conv_matrix_to_array.py:55\u001b[0m, in \u001b[0;36m<listcomp>\u001b[1;34m(.0)\u001b[0m\n\u001b[0;32m     53\u001b[0m     \u001b[38;5;28;01mreturn\u001b[39;00m _array_contraction(inner_expr, (\u001b[38;5;241m0\u001b[39m, \u001b[38;5;28mlen\u001b[39m(inner_expr\u001b[38;5;241m.\u001b[39mshape) \u001b[38;5;241m-\u001b[39m \u001b[38;5;241m1\u001b[39m))\n\u001b[0;32m     54\u001b[0m \u001b[38;5;28;01melif\u001b[39;00m \u001b[38;5;28misinstance\u001b[39m(expr, Mul):\n\u001b[1;32m---> 55\u001b[0m     \u001b[38;5;28;01mreturn\u001b[39;00m _array_tensor_product(\u001b[38;5;241m*\u001b[39m[\u001b[43mconvert_matrix_to_array\u001b[49m\u001b[43m(\u001b[49m\u001b[43mi\u001b[49m\u001b[43m)\u001b[49m \u001b[38;5;28;01mfor\u001b[39;00m i \u001b[38;5;129;01min\u001b[39;00m expr\u001b[38;5;241m.\u001b[39margs])\n\u001b[0;32m     56\u001b[0m \u001b[38;5;28;01melif\u001b[39;00m \u001b[38;5;28misinstance\u001b[39m(expr, Pow):\n\u001b[0;32m     57\u001b[0m     base \u001b[38;5;241m=\u001b[39m convert_matrix_to_array(expr\u001b[38;5;241m.\u001b[39mbase)\n",
      "File \u001b[1;32m~\\anaconda3\\lib\\site-packages\\sympy\\tensor\\array\\expressions\\conv_matrix_to_array.py:59\u001b[0m, in \u001b[0;36mconvert_matrix_to_array\u001b[1;34m(expr)\u001b[0m\n\u001b[0;32m     57\u001b[0m base \u001b[38;5;241m=\u001b[39m convert_matrix_to_array(expr\u001b[38;5;241m.\u001b[39mbase)\n\u001b[0;32m     58\u001b[0m \u001b[38;5;28;01mif\u001b[39;00m (expr\u001b[38;5;241m.\u001b[39mexp \u001b[38;5;241m>\u001b[39m \u001b[38;5;241m0\u001b[39m) \u001b[38;5;241m==\u001b[39m \u001b[38;5;28;01mTrue\u001b[39;00m:\n\u001b[1;32m---> 59\u001b[0m     \u001b[38;5;28;01mreturn\u001b[39;00m _array_tensor_product(\u001b[38;5;241m*\u001b[39m[base \u001b[38;5;28;01mfor\u001b[39;00m i \u001b[38;5;129;01min\u001b[39;00m \u001b[38;5;28;43mrange\u001b[39;49m\u001b[43m(\u001b[49m\u001b[43mexpr\u001b[49m\u001b[38;5;241;43m.\u001b[39;49m\u001b[43mexp\u001b[49m\u001b[43m)\u001b[49m])\n\u001b[0;32m     60\u001b[0m \u001b[38;5;28;01melse\u001b[39;00m:\n\u001b[0;32m     61\u001b[0m     \u001b[38;5;28;01mreturn\u001b[39;00m expr\n",
      "\u001b[1;31mTypeError\u001b[0m: 'Half' object cannot be interpreted as an integer"
     ]
    }
   ],
   "source": [
    "V_F_matrIX = ( ##Abs(Fi4)**2\n",
    "               \n",
    "              ##Abs(Gij)**2\n",
    "              #G12\n",
    "               (phi12*Z12*Z42_dag*Z14_dag + Z13*Z32*Z42_dag*Z14_dag + Z14*Z42*phi12_dag*Z12_dag ) \n",
    "    +\n",
    "              #G21\n",
    "               (phi12*Z21*Z41_dag*Z24_dag + Z23*Z31*Z41_dag*Z24_dag + Z24*Z41*phi12_dag*Z21_dag \n",
    "                 ) \n",
    "    +\n",
    "              #G13\n",
    "               (phi31*Z13*Z43_dag*Z14_dag + Z12*Z23*Z43_dag*Z14_dag + Z14*Z43*phi31_dag*Z13_dag \n",
    "                 ) \n",
    "    +\n",
    "              #G31\n",
    "               (phi31*Z31*Z41_dag*(-Z34_dag) + Z32*Z21*Z41_dag*(-Z34_dag) + (-Z34)*Z41*phi31_dag*Z31_dag \n",
    "                 ) \n",
    "    +\n",
    "              #G32\n",
    "               (phi23*Z32*Z42_dag*Z34_dag + Z31*Z12*Z42_dag*Z34_dag + Z34*Z42*phi23_dag*Z32_dag \n",
    "                 ) \n",
    "    +\n",
    "              #G23\n",
    "               (phi23*Z23*Z43_dag*Z24_dag + Z21*Z13*Z43_dag*Z24_dag + Z24*Z43*phi23_dag*Z23_dag \n",
    "                 ) \n",
    "    +\n",
    "               (G41_dag * G41) + (G14 * G14_dag) + \n",
    "               (G42_dag * G42) + (G24 * G24_dag) + \n",
    "               (G43_dag * G43) + (G34 * G34_dag) )\n",
    "\n",
    "print(V_F_matrIX.diff(X4_4).expand())"
   ]
  },
  {
   "cell_type": "code",
   "execution_count": 310,
   "id": "d3873e8a",
   "metadata": {},
   "outputs": [
    {
     "ename": "TypeError",
     "evalue": "'Half' object cannot be interpreted as an integer",
     "output_type": "error",
     "traceback": [
      "\u001b[1;31m---------------------------------------------------------------------------\u001b[0m",
      "\u001b[1;31mTypeError\u001b[0m                                 Traceback (most recent call last)",
      "Cell \u001b[1;32mIn[310], line 1\u001b[0m\n\u001b[1;32m----> 1\u001b[0m \u001b[43m(\u001b[49m\u001b[38;5;241;43m1\u001b[39;49m\u001b[38;5;241;43m/\u001b[39;49m\u001b[43msqrt\u001b[49m\u001b[43m(\u001b[49m\u001b[38;5;241;43m2\u001b[39;49m\u001b[43m)\u001b[49m\u001b[38;5;241;43m*\u001b[39;49m\u001b[43mX4_4\u001b[49m\u001b[43m)\u001b[49m\u001b[38;5;241;43m.\u001b[39;49m\u001b[43mdiff\u001b[49m\u001b[43m(\u001b[49m\u001b[43mX4_4\u001b[49m\u001b[43m)\u001b[49m\n",
      "File \u001b[1;32m~\\anaconda3\\lib\\site-packages\\sympy\\core\\expr.py:3555\u001b[0m, in \u001b[0;36mExpr.diff\u001b[1;34m(self, *symbols, **assumptions)\u001b[0m\n\u001b[0;32m   3553\u001b[0m \u001b[38;5;28;01mdef\u001b[39;00m \u001b[38;5;21mdiff\u001b[39m(\u001b[38;5;28mself\u001b[39m, \u001b[38;5;241m*\u001b[39msymbols, \u001b[38;5;241m*\u001b[39m\u001b[38;5;241m*\u001b[39massumptions):\n\u001b[0;32m   3554\u001b[0m     assumptions\u001b[38;5;241m.\u001b[39msetdefault(\u001b[38;5;124m\"\u001b[39m\u001b[38;5;124mevaluate\u001b[39m\u001b[38;5;124m\"\u001b[39m, \u001b[38;5;28;01mTrue\u001b[39;00m)\n\u001b[1;32m-> 3555\u001b[0m     \u001b[38;5;28;01mreturn\u001b[39;00m \u001b[43m_derivative_dispatch\u001b[49m\u001b[43m(\u001b[49m\u001b[38;5;28;43mself\u001b[39;49m\u001b[43m,\u001b[49m\u001b[43m \u001b[49m\u001b[38;5;241;43m*\u001b[39;49m\u001b[43msymbols\u001b[49m\u001b[43m,\u001b[49m\u001b[43m \u001b[49m\u001b[38;5;241;43m*\u001b[39;49m\u001b[38;5;241;43m*\u001b[39;49m\u001b[43massumptions\u001b[49m\u001b[43m)\u001b[49m\n",
      "File \u001b[1;32m~\\anaconda3\\lib\\site-packages\\sympy\\core\\function.py:1913\u001b[0m, in \u001b[0;36m_derivative_dispatch\u001b[1;34m(expr, *variables, **kwargs)\u001b[0m\n\u001b[0;32m   1911\u001b[0m \u001b[38;5;28;01mif\u001b[39;00m \u001b[38;5;28misinstance\u001b[39m(expr, array_types) \u001b[38;5;129;01mor\u001b[39;00m \u001b[38;5;28many\u001b[39m(\u001b[38;5;28misinstance\u001b[39m(i[\u001b[38;5;241m0\u001b[39m], array_types) \u001b[38;5;28;01mif\u001b[39;00m \u001b[38;5;28misinstance\u001b[39m(i, (\u001b[38;5;28mtuple\u001b[39m, \u001b[38;5;28mlist\u001b[39m, Tuple)) \u001b[38;5;28;01melse\u001b[39;00m \u001b[38;5;28misinstance\u001b[39m(i, array_types) \u001b[38;5;28;01mfor\u001b[39;00m i \u001b[38;5;129;01min\u001b[39;00m variables):\n\u001b[0;32m   1912\u001b[0m     \u001b[38;5;28;01mfrom\u001b[39;00m \u001b[38;5;21;01msympy\u001b[39;00m\u001b[38;5;21;01m.\u001b[39;00m\u001b[38;5;21;01mtensor\u001b[39;00m\u001b[38;5;21;01m.\u001b[39;00m\u001b[38;5;21;01marray\u001b[39;00m\u001b[38;5;21;01m.\u001b[39;00m\u001b[38;5;21;01marray_derivatives\u001b[39;00m \u001b[38;5;28;01mimport\u001b[39;00m ArrayDerivative\n\u001b[1;32m-> 1913\u001b[0m     \u001b[38;5;28;01mreturn\u001b[39;00m \u001b[43mArrayDerivative\u001b[49m\u001b[43m(\u001b[49m\u001b[43mexpr\u001b[49m\u001b[43m,\u001b[49m\u001b[43m \u001b[49m\u001b[38;5;241;43m*\u001b[39;49m\u001b[43mvariables\u001b[49m\u001b[43m,\u001b[49m\u001b[43m \u001b[49m\u001b[38;5;241;43m*\u001b[39;49m\u001b[38;5;241;43m*\u001b[39;49m\u001b[43mkwargs\u001b[49m\u001b[43m)\u001b[49m\n\u001b[0;32m   1914\u001b[0m \u001b[38;5;28;01mreturn\u001b[39;00m Derivative(expr, \u001b[38;5;241m*\u001b[39mvariables, \u001b[38;5;241m*\u001b[39m\u001b[38;5;241m*\u001b[39mkwargs)\n",
      "File \u001b[1;32m~\\anaconda3\\lib\\site-packages\\sympy\\tensor\\array\\array_derivatives.py:19\u001b[0m, in \u001b[0;36mArrayDerivative.__new__\u001b[1;34m(cls, expr, *variables, **kwargs)\u001b[0m\n\u001b[0;32m     18\u001b[0m \u001b[38;5;28;01mdef\u001b[39;00m \u001b[38;5;21m__new__\u001b[39m(\u001b[38;5;28mcls\u001b[39m, expr, \u001b[38;5;241m*\u001b[39mvariables, \u001b[38;5;241m*\u001b[39m\u001b[38;5;241m*\u001b[39mkwargs):\n\u001b[1;32m---> 19\u001b[0m     obj \u001b[38;5;241m=\u001b[39m \u001b[38;5;28;43msuper\u001b[39;49m\u001b[43m(\u001b[49m\u001b[43m)\u001b[49m\u001b[38;5;241;43m.\u001b[39;49m\u001b[38;5;21;43m__new__\u001b[39;49m\u001b[43m(\u001b[49m\u001b[38;5;28;43mcls\u001b[39;49m\u001b[43m,\u001b[49m\u001b[43m \u001b[49m\u001b[43mexpr\u001b[49m\u001b[43m,\u001b[49m\u001b[43m \u001b[49m\u001b[38;5;241;43m*\u001b[39;49m\u001b[43mvariables\u001b[49m\u001b[43m,\u001b[49m\u001b[43m \u001b[49m\u001b[38;5;241;43m*\u001b[39;49m\u001b[38;5;241;43m*\u001b[39;49m\u001b[43mkwargs\u001b[49m\u001b[43m)\u001b[49m\n\u001b[0;32m     20\u001b[0m     \u001b[38;5;28;01mif\u001b[39;00m \u001b[38;5;28misinstance\u001b[39m(obj, ArrayDerivative):\n\u001b[0;32m     21\u001b[0m         obj\u001b[38;5;241m.\u001b[39m_shape \u001b[38;5;241m=\u001b[39m obj\u001b[38;5;241m.\u001b[39m_get_shape()\n",
      "File \u001b[1;32m~\\anaconda3\\lib\\site-packages\\sympy\\core\\function.py:1442\u001b[0m, in \u001b[0;36mDerivative.__new__\u001b[1;34m(cls, expr, *variables, **kwargs)\u001b[0m\n\u001b[0;32m   1435\u001b[0m     \u001b[38;5;28;01mif\u001b[39;00m \u001b[38;5;129;01mnot\u001b[39;00m old_v\u001b[38;5;241m.\u001b[39mis_scalar \u001b[38;5;129;01mand\u001b[39;00m \u001b[38;5;129;01mnot\u001b[39;00m \u001b[38;5;28mhasattr\u001b[39m(\n\u001b[0;32m   1436\u001b[0m             old_v, \u001b[38;5;124m'\u001b[39m\u001b[38;5;124m_eval_derivative\u001b[39m\u001b[38;5;124m'\u001b[39m):\n\u001b[0;32m   1437\u001b[0m         \u001b[38;5;66;03m# special hack providing evaluation for classes\u001b[39;00m\n\u001b[0;32m   1438\u001b[0m         \u001b[38;5;66;03m# that have defined is_scalar=True but have no\u001b[39;00m\n\u001b[0;32m   1439\u001b[0m         \u001b[38;5;66;03m# _eval_derivative defined\u001b[39;00m\n\u001b[0;32m   1440\u001b[0m         expr \u001b[38;5;241m*\u001b[39m\u001b[38;5;241m=\u001b[39m old_v\u001b[38;5;241m.\u001b[39mdiff(old_v)\n\u001b[1;32m-> 1442\u001b[0m obj \u001b[38;5;241m=\u001b[39m \u001b[38;5;28;43mcls\u001b[39;49m\u001b[38;5;241;43m.\u001b[39;49m\u001b[43m_dispatch_eval_derivative_n_times\u001b[49m\u001b[43m(\u001b[49m\u001b[43mexpr\u001b[49m\u001b[43m,\u001b[49m\u001b[43m \u001b[49m\u001b[43mv\u001b[49m\u001b[43m,\u001b[49m\u001b[43m \u001b[49m\u001b[43mcount\u001b[49m\u001b[43m)\u001b[49m\n\u001b[0;32m   1443\u001b[0m \u001b[38;5;28;01mif\u001b[39;00m obj \u001b[38;5;129;01mis\u001b[39;00m \u001b[38;5;129;01mnot\u001b[39;00m \u001b[38;5;28;01mNone\u001b[39;00m \u001b[38;5;129;01mand\u001b[39;00m obj\u001b[38;5;241m.\u001b[39mis_zero:\n\u001b[0;32m   1444\u001b[0m     \u001b[38;5;28;01mreturn\u001b[39;00m obj\n",
      "File \u001b[1;32m~\\anaconda3\\lib\\site-packages\\sympy\\tensor\\array\\array_derivatives.py:118\u001b[0m, in \u001b[0;36mArrayDerivative._dispatch_eval_derivative_n_times\u001b[1;34m(cls, expr, v, count)\u001b[0m\n\u001b[0;32m    116\u001b[0m     result \u001b[38;5;241m=\u001b[39m derive_by_array(expr, v)\n\u001b[0;32m    117\u001b[0m \u001b[38;5;28;01melif\u001b[39;00m \u001b[38;5;28misinstance\u001b[39m(expr, MatrixExpr) \u001b[38;5;129;01mand\u001b[39;00m \u001b[38;5;28misinstance\u001b[39m(v, MatrixExpr):\n\u001b[1;32m--> 118\u001b[0m     result \u001b[38;5;241m=\u001b[39m \u001b[38;5;28;43mcls\u001b[39;49m\u001b[38;5;241;43m.\u001b[39;49m\u001b[43m_call_derive_default\u001b[49m\u001b[43m(\u001b[49m\u001b[43mexpr\u001b[49m\u001b[43m,\u001b[49m\u001b[43m \u001b[49m\u001b[43mv\u001b[49m\u001b[43m)\u001b[49m\n\u001b[0;32m    119\u001b[0m \u001b[38;5;28;01melif\u001b[39;00m \u001b[38;5;28misinstance\u001b[39m(expr, MatrixExpr) \u001b[38;5;129;01mor\u001b[39;00m \u001b[38;5;28misinstance\u001b[39m(v, MatrixExpr):\n\u001b[0;32m    120\u001b[0m     \u001b[38;5;66;03m# if one expression is a symbolic matrix expression while the other isn't, don't evaluate:\u001b[39;00m\n\u001b[0;32m    121\u001b[0m     \u001b[38;5;28;01mreturn\u001b[39;00m \u001b[38;5;28;01mNone\u001b[39;00m\n",
      "File \u001b[1;32m~\\anaconda3\\lib\\site-packages\\sympy\\tensor\\array\\array_derivatives.py:77\u001b[0m, in \u001b[0;36mArrayDerivative._call_derive_default\u001b[1;34m(expr, v)\u001b[0m\n\u001b[0;32m     74\u001b[0m \u001b[38;5;129m@staticmethod\u001b[39m\n\u001b[0;32m     75\u001b[0m \u001b[38;5;28;01mdef\u001b[39;00m \u001b[38;5;21m_call_derive_default\u001b[39m(expr, v):  \u001b[38;5;66;03m# type: (Expr, Expr) -> Optional[Expr]\u001b[39;00m\n\u001b[0;32m     76\u001b[0m     \u001b[38;5;28;01mif\u001b[39;00m expr\u001b[38;5;241m.\u001b[39mhas(v):\n\u001b[1;32m---> 77\u001b[0m         \u001b[38;5;28;01mreturn\u001b[39;00m \u001b[43m_matrix_derivative\u001b[49m\u001b[43m(\u001b[49m\u001b[43mexpr\u001b[49m\u001b[43m,\u001b[49m\u001b[43m \u001b[49m\u001b[43mv\u001b[49m\u001b[43m)\u001b[49m\n\u001b[0;32m     78\u001b[0m     \u001b[38;5;28;01melse\u001b[39;00m:\n\u001b[0;32m     79\u001b[0m         \u001b[38;5;28;01mreturn\u001b[39;00m \u001b[38;5;28;01mNone\u001b[39;00m\n",
      "File \u001b[1;32m~\\anaconda3\\lib\\site-packages\\sympy\\matrices\\expressions\\matexpr.py:532\u001b[0m, in \u001b[0;36m_matrix_derivative\u001b[1;34m(expr, x, old_algorithm)\u001b[0m\n\u001b[0;32m    529\u001b[0m \u001b[38;5;28;01mfrom\u001b[39;00m \u001b[38;5;21;01msympy\u001b[39;00m\u001b[38;5;21;01m.\u001b[39;00m\u001b[38;5;21;01mtensor\u001b[39;00m\u001b[38;5;21;01m.\u001b[39;00m\u001b[38;5;21;01marray\u001b[39;00m\u001b[38;5;21;01m.\u001b[39;00m\u001b[38;5;21;01mexpressions\u001b[39;00m\u001b[38;5;21;01m.\u001b[39;00m\u001b[38;5;21;01marrayexpr_derivatives\u001b[39;00m \u001b[38;5;28;01mimport\u001b[39;00m array_derive\n\u001b[0;32m    530\u001b[0m \u001b[38;5;28;01mfrom\u001b[39;00m \u001b[38;5;21;01msympy\u001b[39;00m\u001b[38;5;21;01m.\u001b[39;00m\u001b[38;5;21;01mtensor\u001b[39;00m\u001b[38;5;21;01m.\u001b[39;00m\u001b[38;5;21;01marray\u001b[39;00m\u001b[38;5;21;01m.\u001b[39;00m\u001b[38;5;21;01mexpressions\u001b[39;00m\u001b[38;5;21;01m.\u001b[39;00m\u001b[38;5;21;01mconv_array_to_matrix\u001b[39;00m \u001b[38;5;28;01mimport\u001b[39;00m convert_array_to_matrix\n\u001b[1;32m--> 532\u001b[0m array_expr \u001b[38;5;241m=\u001b[39m \u001b[43mconvert_matrix_to_array\u001b[49m\u001b[43m(\u001b[49m\u001b[43mexpr\u001b[49m\u001b[43m)\u001b[49m\n\u001b[0;32m    533\u001b[0m diff_array_expr \u001b[38;5;241m=\u001b[39m array_derive(array_expr, x)\n\u001b[0;32m    534\u001b[0m diff_matrix_expr \u001b[38;5;241m=\u001b[39m convert_array_to_matrix(diff_array_expr)\n",
      "File \u001b[1;32m~\\anaconda3\\lib\\site-packages\\sympy\\tensor\\array\\expressions\\conv_matrix_to_array.py:29\u001b[0m, in \u001b[0;36mconvert_matrix_to_array\u001b[1;34m(expr)\u001b[0m\n\u001b[0;32m     27\u001b[0m         args\u001b[38;5;241m.\u001b[39mappend(arg)\n\u001b[0;32m     28\u001b[0m     \u001b[38;5;28;01melse\u001b[39;00m:\n\u001b[1;32m---> 29\u001b[0m         args_nonmat\u001b[38;5;241m.\u001b[39mappend(\u001b[43mconvert_matrix_to_array\u001b[49m\u001b[43m(\u001b[49m\u001b[43marg\u001b[49m\u001b[43m)\u001b[49m)\n\u001b[0;32m     30\u001b[0m contractions \u001b[38;5;241m=\u001b[39m [(\u001b[38;5;241m2\u001b[39m\u001b[38;5;241m*\u001b[39mi\u001b[38;5;241m+\u001b[39m\u001b[38;5;241m1\u001b[39m, \u001b[38;5;241m2\u001b[39m\u001b[38;5;241m*\u001b[39mi\u001b[38;5;241m+\u001b[39m\u001b[38;5;241m2\u001b[39m) \u001b[38;5;28;01mfor\u001b[39;00m i \u001b[38;5;129;01min\u001b[39;00m \u001b[38;5;28mrange\u001b[39m(\u001b[38;5;28mlen\u001b[39m(args)\u001b[38;5;241m-\u001b[39m\u001b[38;5;241m1\u001b[39m)]\n\u001b[0;32m     31\u001b[0m scalar \u001b[38;5;241m=\u001b[39m _array_tensor_product(\u001b[38;5;241m*\u001b[39margs_nonmat) \u001b[38;5;28;01mif\u001b[39;00m args_nonmat \u001b[38;5;28;01melse\u001b[39;00m S\u001b[38;5;241m.\u001b[39mOne\n",
      "File \u001b[1;32m~\\anaconda3\\lib\\site-packages\\sympy\\tensor\\array\\expressions\\conv_matrix_to_array.py:55\u001b[0m, in \u001b[0;36mconvert_matrix_to_array\u001b[1;34m(expr)\u001b[0m\n\u001b[0;32m     53\u001b[0m     \u001b[38;5;28;01mreturn\u001b[39;00m _array_contraction(inner_expr, (\u001b[38;5;241m0\u001b[39m, \u001b[38;5;28mlen\u001b[39m(inner_expr\u001b[38;5;241m.\u001b[39mshape) \u001b[38;5;241m-\u001b[39m \u001b[38;5;241m1\u001b[39m))\n\u001b[0;32m     54\u001b[0m \u001b[38;5;28;01melif\u001b[39;00m \u001b[38;5;28misinstance\u001b[39m(expr, Mul):\n\u001b[1;32m---> 55\u001b[0m     \u001b[38;5;28;01mreturn\u001b[39;00m _array_tensor_product(\u001b[38;5;241m*\u001b[39m[convert_matrix_to_array(i) \u001b[38;5;28;01mfor\u001b[39;00m i \u001b[38;5;129;01min\u001b[39;00m expr\u001b[38;5;241m.\u001b[39margs])\n\u001b[0;32m     56\u001b[0m \u001b[38;5;28;01melif\u001b[39;00m \u001b[38;5;28misinstance\u001b[39m(expr, Pow):\n\u001b[0;32m     57\u001b[0m     base \u001b[38;5;241m=\u001b[39m convert_matrix_to_array(expr\u001b[38;5;241m.\u001b[39mbase)\n",
      "File \u001b[1;32m~\\anaconda3\\lib\\site-packages\\sympy\\tensor\\array\\expressions\\conv_matrix_to_array.py:55\u001b[0m, in \u001b[0;36m<listcomp>\u001b[1;34m(.0)\u001b[0m\n\u001b[0;32m     53\u001b[0m     \u001b[38;5;28;01mreturn\u001b[39;00m _array_contraction(inner_expr, (\u001b[38;5;241m0\u001b[39m, \u001b[38;5;28mlen\u001b[39m(inner_expr\u001b[38;5;241m.\u001b[39mshape) \u001b[38;5;241m-\u001b[39m \u001b[38;5;241m1\u001b[39m))\n\u001b[0;32m     54\u001b[0m \u001b[38;5;28;01melif\u001b[39;00m \u001b[38;5;28misinstance\u001b[39m(expr, Mul):\n\u001b[1;32m---> 55\u001b[0m     \u001b[38;5;28;01mreturn\u001b[39;00m _array_tensor_product(\u001b[38;5;241m*\u001b[39m[\u001b[43mconvert_matrix_to_array\u001b[49m\u001b[43m(\u001b[49m\u001b[43mi\u001b[49m\u001b[43m)\u001b[49m \u001b[38;5;28;01mfor\u001b[39;00m i \u001b[38;5;129;01min\u001b[39;00m expr\u001b[38;5;241m.\u001b[39margs])\n\u001b[0;32m     56\u001b[0m \u001b[38;5;28;01melif\u001b[39;00m \u001b[38;5;28misinstance\u001b[39m(expr, Pow):\n\u001b[0;32m     57\u001b[0m     base \u001b[38;5;241m=\u001b[39m convert_matrix_to_array(expr\u001b[38;5;241m.\u001b[39mbase)\n",
      "File \u001b[1;32m~\\anaconda3\\lib\\site-packages\\sympy\\tensor\\array\\expressions\\conv_matrix_to_array.py:59\u001b[0m, in \u001b[0;36mconvert_matrix_to_array\u001b[1;34m(expr)\u001b[0m\n\u001b[0;32m     57\u001b[0m base \u001b[38;5;241m=\u001b[39m convert_matrix_to_array(expr\u001b[38;5;241m.\u001b[39mbase)\n\u001b[0;32m     58\u001b[0m \u001b[38;5;28;01mif\u001b[39;00m (expr\u001b[38;5;241m.\u001b[39mexp \u001b[38;5;241m>\u001b[39m \u001b[38;5;241m0\u001b[39m) \u001b[38;5;241m==\u001b[39m \u001b[38;5;28;01mTrue\u001b[39;00m:\n\u001b[1;32m---> 59\u001b[0m     \u001b[38;5;28;01mreturn\u001b[39;00m _array_tensor_product(\u001b[38;5;241m*\u001b[39m[base \u001b[38;5;28;01mfor\u001b[39;00m i \u001b[38;5;129;01min\u001b[39;00m \u001b[38;5;28;43mrange\u001b[39;49m\u001b[43m(\u001b[49m\u001b[43mexpr\u001b[49m\u001b[38;5;241;43m.\u001b[39;49m\u001b[43mexp\u001b[49m\u001b[43m)\u001b[49m])\n\u001b[0;32m     60\u001b[0m \u001b[38;5;28;01melse\u001b[39;00m:\n\u001b[0;32m     61\u001b[0m     \u001b[38;5;28;01mreturn\u001b[39;00m expr\n",
      "\u001b[1;31mTypeError\u001b[0m: 'Half' object cannot be interpreted as an integer"
     ]
    }
   ],
   "source": [
    "(1/sqrt(2)*X4_4).diff(X4_4)"
   ]
  },
  {
   "cell_type": "code",
   "execution_count": 293,
   "id": "77463659",
   "metadata": {},
   "outputs": [
    {
     "ename": "TypeError",
     "evalue": "unsupported operand type(s) for *: 'Mul' and 'PermuteDims'",
     "output_type": "error",
     "traceback": [
      "\u001b[1;31m---------------------------------------------------------------------------\u001b[0m",
      "\u001b[1;31mTypeError\u001b[0m                                 Traceback (most recent call last)",
      "Cell \u001b[1;32mIn[293], line 1\u001b[0m\n\u001b[1;32m----> 1\u001b[0m Z \u001b[38;5;241m=\u001b[39m \u001b[38;5;241;43m1\u001b[39;49m\u001b[38;5;241;43m/\u001b[39;49m\u001b[43msqrt\u001b[49m\u001b[43m(\u001b[49m\u001b[38;5;241;43m2\u001b[39;49m\u001b[43m)\u001b[49m\u001b[38;5;241;43m*\u001b[39;49m\u001b[43m(\u001b[49m\u001b[43m(\u001b[49m\u001b[43mX4_4\u001b[49m\u001b[43m)\u001b[49m\u001b[38;5;241;43m.\u001b[39;49m\u001b[43mdiff\u001b[49m\u001b[43m(\u001b[49m\u001b[43mX4_4\u001b[49m\u001b[43m)\u001b[49m\u001b[43m)\u001b[49m\n\u001b[0;32m      2\u001b[0m Z\n",
      "\u001b[1;31mTypeError\u001b[0m: unsupported operand type(s) for *: 'Mul' and 'PermuteDims'"
     ]
    }
   ],
   "source": [
    "Z = 1/sqrt(2)*((X4_4).diff(X4_4))\n",
    "Z"
   ]
  }
 ],
 "metadata": {
  "kernelspec": {
   "display_name": "Python 3 (ipykernel)",
   "language": "python",
   "name": "python3"
  },
  "language_info": {
   "codemirror_mode": {
    "name": "ipython",
    "version": 3
   },
   "file_extension": ".py",
   "mimetype": "text/x-python",
   "name": "python",
   "nbconvert_exporter": "python",
   "pygments_lexer": "ipython3",
   "version": "3.8.17"
  }
 },
 "nbformat": 4,
 "nbformat_minor": 5
}
