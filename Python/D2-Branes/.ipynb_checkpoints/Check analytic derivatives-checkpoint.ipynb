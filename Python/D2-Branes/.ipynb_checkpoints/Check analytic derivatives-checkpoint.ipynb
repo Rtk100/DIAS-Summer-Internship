{
 "cells": [
  {
   "cell_type": "code",
   "execution_count": 1,
   "id": "c480b1da",
   "metadata": {},
   "outputs": [],
   "source": [
    "from sympy import *"
   ]
  },
  {
   "cell_type": "code",
   "execution_count": 20,
   "id": "613d9bf8",
   "metadata": {},
   "outputs": [],
   "source": [
    "N = Symbol(\"N\")\n",
    "phi4_1 = MatrixSymbol(\"phi4_1\", N, N)\n",
    "phi4_2 = MatrixSymbol(\"phi4_2\", N, N)\n",
    "phi4_3 = MatrixSymbol(\"phi4_3\", N, N)\n",
    "phi4_4 = MatrixSymbol(\"phi4_4\", N, N)\n",
    "\n",
    "phi4_1_dag = MatrixSymbol(\"phi4_1_dag\", N, N)\n",
    "phi4_2_dag = MatrixSymbol(\"phi4_2_dag\", N, N)\n",
    "phi4_3_dag = MatrixSymbol(\"phi4_3_dag\", N, N)\n",
    "phi4_4_dag = MatrixSymbol(\"phi4_4_dag\", N, N)\n"
   ]
  },
  {
   "cell_type": "code",
   "execution_count": 30,
   "id": "03039a2d",
   "metadata": {},
   "outputs": [
    {
     "data": {
      "text/latex": [
       "$\\displaystyle 2 \\phi_{4 1 dag}^{T} \\phi_{4 1}^{T} \\phi_{4 1 dag}^{T}$"
      ],
      "text/plain": [
       "2*phi4_1_dag.T*phi4_1.T*phi4_1_dag.T"
      ]
     },
     "execution_count": 30,
     "metadata": {},
     "output_type": "execute_result"
    }
   ],
   "source": [
    "Trace(phi4_1*phi4_1_dag*phi4_1*phi4_1_dag).diff(phi4_1)"
   ]
  },
  {
   "cell_type": "code",
   "execution_count": 29,
   "id": "1126f0cd",
   "metadata": {},
   "outputs": [
    {
     "data": {
      "text/latex": [
       "$\\displaystyle - 2 \\left(\\phi_{4 1 dag}^{T}\\right)^{2} \\phi_{4 1}^{T} - 2 \\phi_{4 1}^{T} \\left(\\phi_{4 1 dag}^{T}\\right)^{2} + 4 \\phi_{4 1 dag}^{T} \\phi_{4 1}^{T} \\phi_{4 1 dag}^{T}$"
      ],
      "text/plain": [
       "-2*phi4_1_dag.T**2*phi4_1.T - 2*phi4_1.T*phi4_1_dag.T**2 + 4*phi4_1_dag.T*phi4_1.T*phi4_1_dag.T"
      ]
     },
     "execution_count": 29,
     "metadata": {},
     "output_type": "execute_result"
    }
   ],
   "source": [
    "Trace(phi4_1*phi4_1_dag*phi4_1*phi4_1_dag).diff(phi4_1) + Trace(phi4_1_dag*phi4_1*phi4_1_dag*phi4_1).diff(phi4_1) + Trace(phi4_1*phi4_1_dag*(-phi4_1_dag*phi4_1)).diff(phi4_1) + Trace(- phi4_1_dag*phi4_1*phi4_1*phi4_1_dag).diff(phi4_1)"
   ]
  },
  {
   "cell_type": "code",
   "execution_count": 25,
   "id": "6972fb53",
   "metadata": {},
   "outputs": [
    {
     "data": {
      "text/latex": [
       "$\\displaystyle 0$"
      ],
      "text/plain": [
       "0"
      ]
     },
     "execution_count": 25,
     "metadata": {},
     "output_type": "execute_result"
    }
   ],
   "source": [
    "Trace(phi4_1*phi4_1_dag).diff(phi4_1) - Trace(phi4_1_dag*phi4_1).diff(phi4_1)"
   ]
  },
  {
   "cell_type": "code",
   "execution_count": null,
   "id": "c1b7cd7a",
   "metadata": {},
   "outputs": [],
   "source": []
  },
  {
   "cell_type": "markdown",
   "id": "93e2ce94",
   "metadata": {},
   "source": [
    "## dV_gauge/phi4_B"
   ]
  },
  {
   "cell_type": "code",
   "execution_count": 32,
   "id": "32ca5851",
   "metadata": {},
   "outputs": [],
   "source": [
    "X4_1 = MatrixSymbol(\"X4_1\", N, N)\n",
    "X4_2 = MatrixSymbol(\"X4_2\", N, N)\n",
    "X4_3 = MatrixSymbol(\"X4_3\", N, N)\n",
    "X4_4 = MatrixSymbol(\"X4_4\", N, N)"
   ]
  },
  {
   "cell_type": "code",
   "execution_count": 35,
   "id": "caaef4a3",
   "metadata": {},
   "outputs": [
    {
     "data": {
      "text/latex": [
       "$\\displaystyle \\left(X_{4 1}^{T}\\right)^{2} \\phi_{4 1 dag}^{T} - 2 X_{4 1}^{T} \\phi_{4 1 dag}^{T} X_{4 1}^{T} + \\phi_{4 1 dag}^{T} \\left(X_{4 1}^{T}\\right)^{2}$"
      ],
      "text/plain": [
       "X4_1.T**2*phi4_1_dag.T - 2*X4_1.T*phi4_1_dag.T*X4_1.T + phi4_1_dag.T*X4_1.T**2"
      ]
     },
     "execution_count": 35,
     "metadata": {},
     "output_type": "execute_result"
    }
   ],
   "source": [
    "Trace(phi4_1_dag*X4_1*X4_1*phi4_1).diff(phi4_1) - Trace(phi4_1_dag*X4_1*phi4_1*X4_1).diff(phi4_1) - Trace(X4_1*phi4_1_dag*X4_1*phi4_1).diff(phi4_1) + Trace(X4_1*phi4_1_dag*phi4_1*X4_1).diff(phi4_1)"
   ]
  },
  {
   "cell_type": "code",
   "execution_count": 36,
   "id": "eca71100",
   "metadata": {},
   "outputs": [
    {
     "data": {
      "text/latex": [
       "$\\displaystyle \\left(X_{4 2}^{T}\\right)^{2} \\phi_{4 1 dag}^{T} - 2 X_{4 2}^{T} \\phi_{4 1 dag}^{T} X_{4 2}^{T} + \\phi_{4 1 dag}^{T} \\left(X_{4 2}^{T}\\right)^{2}$"
      ],
      "text/plain": [
       "X4_2.T**2*phi4_1_dag.T - 2*X4_2.T*phi4_1_dag.T*X4_2.T + phi4_1_dag.T*X4_2.T**2"
      ]
     },
     "execution_count": 36,
     "metadata": {},
     "output_type": "execute_result"
    }
   ],
   "source": [
    "Trace(phi4_1_dag*X4_2*X4_2*phi4_1).diff(phi4_1) - Trace(phi4_1_dag*X4_2*phi4_1*X4_2).diff(phi4_1) - Trace(X4_2*phi4_1_dag*X4_2*phi4_1).diff(phi4_1) + Trace(X4_2*phi4_1_dag*phi4_1*X4_2).diff(phi4_1)"
   ]
  },
  {
   "cell_type": "code",
   "execution_count": 37,
   "id": "04f9ca43",
   "metadata": {},
   "outputs": [
    {
     "data": {
      "text/latex": [
       "$\\displaystyle \\left(X_{4 3}^{T}\\right)^{2} \\phi_{4 1 dag}^{T} - 2 X_{4 3}^{T} \\phi_{4 1 dag}^{T} X_{4 3}^{T} + \\phi_{4 1 dag}^{T} \\left(X_{4 3}^{T}\\right)^{2}$"
      ],
      "text/plain": [
       "X4_3.T**2*phi4_1_dag.T - 2*X4_3.T*phi4_1_dag.T*X4_3.T + phi4_1_dag.T*X4_3.T**2"
      ]
     },
     "execution_count": 37,
     "metadata": {},
     "output_type": "execute_result"
    }
   ],
   "source": [
    "Trace(phi4_1_dag*X4_3*X4_3*phi4_1).diff(phi4_1) - Trace(phi4_1_dag*X4_3*phi4_1*X4_3).diff(phi4_1) - Trace(X4_3*phi4_1_dag*X4_3*phi4_1).diff(phi4_1) + Trace(X4_3*phi4_1_dag*phi4_1*X4_3).diff(phi4_1)"
   ]
  },
  {
   "cell_type": "code",
   "execution_count": 38,
   "id": "56a16bf0",
   "metadata": {},
   "outputs": [
    {
     "data": {
      "text/latex": [
       "$\\displaystyle \\left(X_{4 4}^{T}\\right)^{2} \\phi_{4 1 dag}^{T} - 2 X_{4 4}^{T} \\phi_{4 1 dag}^{T} X_{4 4}^{T} + \\phi_{4 1 dag}^{T} \\left(X_{4 4}^{T}\\right)^{2}$"
      ],
      "text/plain": [
       "X4_4.T**2*phi4_1_dag.T - 2*X4_4.T*phi4_1_dag.T*X4_4.T + phi4_1_dag.T*X4_4.T**2"
      ]
     },
     "execution_count": 38,
     "metadata": {},
     "output_type": "execute_result"
    }
   ],
   "source": [
    "Trace(phi4_1_dag*X4_4*X4_4*phi4_1).diff(phi4_1) - Trace(phi4_1_dag*X4_4*phi4_1*X4_4).diff(phi4_1) - Trace(X4_4*phi4_1_dag*X4_4*phi4_1).diff(phi4_1) + Trace(X4_4*phi4_1_dag*phi4_1*X4_4).diff(phi4_1)"
   ]
  },
  {
   "cell_type": "code",
   "execution_count": 39,
   "id": "956e31f8",
   "metadata": {},
   "outputs": [
    {
     "data": {
      "text/plain": [
       "False"
      ]
     },
     "execution_count": 39,
     "metadata": {},
     "output_type": "execute_result"
    }
   ],
   "source": [
    "Trace(phi4_1_dag*X4_4*X4_4*phi4_1) == Trace(phi4_1*phi4_1_dag*X4_4*X4_4)"
   ]
  }
 ],
 "metadata": {
  "kernelspec": {
   "display_name": "Python 3 (ipykernel)",
   "language": "python",
   "name": "python3"
  },
  "language_info": {
   "codemirror_mode": {
    "name": "ipython",
    "version": 3
   },
   "file_extension": ".py",
   "mimetype": "text/x-python",
   "name": "python",
   "nbconvert_exporter": "python",
   "pygments_lexer": "ipython3",
   "version": "3.8.17"
  }
 },
 "nbformat": 4,
 "nbformat_minor": 5
}
