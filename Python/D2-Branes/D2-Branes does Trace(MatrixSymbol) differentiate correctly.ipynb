{
 "cells": [
  {
   "cell_type": "code",
   "execution_count": 1,
   "id": "fa8f3085",
   "metadata": {},
   "outputs": [],
   "source": [
    "from sympy import symbols, Matrix, diff, MatrixSymbol, Trace, MatMul\n",
    "from sympy import I, sqrt\n",
    "from sympy.physics.quantum.dagger import Dagger\n",
    "from sympy import conjugate\n",
    "from sympy import Identity\n",
    "from sympy import adjoint\n",
    "from sympy.vector import CoordSys3D\n",
    "from sympy import pprint"
   ]
  },
  {
   "cell_type": "code",
   "execution_count": 66,
   "id": "08e7b346",
   "metadata": {},
   "outputs": [],
   "source": [
    "g = symbols(\"g\")\n",
    "\n",
    "A = MatrixSymbol(\"A\", 1,2)\n",
    "B = MatrixSymbol(\"B\", 2,1)\n",
    "C = A*B"
   ]
  },
  {
   "cell_type": "code",
   "execution_count": 75,
   "id": "a46193d3",
   "metadata": {},
   "outputs": [
    {
     "data": {
      "text/plain": [
       "True"
      ]
     },
     "execution_count": 75,
     "metadata": {},
     "output_type": "execute_result"
    }
   ],
   "source": [
    "isinstance(g*A, MatMul)"
   ]
  },
  {
   "cell_type": "code",
   "execution_count": 55,
   "id": "04d23e5d",
   "metadata": {},
   "outputs": [
    {
     "data": {
      "text/plain": [
       "True"
      ]
     },
     "execution_count": 55,
     "metadata": {},
     "output_type": "execute_result"
    }
   ],
   "source": [
    "Trace((A*B)).is_Trace"
   ]
  },
  {
   "cell_type": "code",
   "execution_count": 62,
   "id": "b0d215a1",
   "metadata": {},
   "outputs": [
    {
     "ename": "AttributeError",
     "evalue": "'MatrixSymbol' object has no attribute 'is_MatrixSymbol'",
     "output_type": "error",
     "traceback": [
      "\u001b[1;31m---------------------------------------------------------------------------\u001b[0m",
      "\u001b[1;31mAttributeError\u001b[0m                            Traceback (most recent call last)",
      "\u001b[1;32m<ipython-input-62-34f0e95f91d2>\u001b[0m in \u001b[0;36m<module>\u001b[1;34m\u001b[0m\n\u001b[1;32m----> 1\u001b[1;33m \u001b[0mA\u001b[0m\u001b[1;33m.\u001b[0m\u001b[0mis_MatrixSymbol\u001b[0m\u001b[1;33m\u001b[0m\u001b[1;33m\u001b[0m\u001b[0m\n\u001b[0m",
      "\u001b[1;31mAttributeError\u001b[0m: 'MatrixSymbol' object has no attribute 'is_MatrixSymbol'"
     ]
    }
   ],
   "source": [
    "A.is_MatrixSymbol"
   ]
  },
  {
   "cell_type": "code",
   "execution_count": 44,
   "id": "2b0082ba",
   "metadata": {},
   "outputs": [],
   "source": [
    "f = A*B"
   ]
  },
  {
   "cell_type": "code",
   "execution_count": 23,
   "id": "a22aa576",
   "metadata": {},
   "outputs": [
    {
     "data": {
      "text/latex": [
       "$\\displaystyle \\operatorname{tr}\\left(g^{2} B A \\right)$"
      ],
      "text/plain": [
       "Trace(g**2*B*A)"
      ]
     },
     "execution_count": 23,
     "metadata": {},
     "output_type": "execute_result"
    }
   ],
   "source": [
    "f"
   ]
  },
  {
   "cell_type": "code",
   "execution_count": 24,
   "id": "9d28ece4",
   "metadata": {},
   "outputs": [
    {
     "data": {
      "text/latex": [
       "$\\displaystyle g^{2} B^{T}$"
      ],
      "text/plain": [
       "g**2*B.T"
      ]
     },
     "execution_count": 24,
     "metadata": {},
     "output_type": "execute_result"
    }
   ],
   "source": [
    "f.diff(A)"
   ]
  }
 ],
 "metadata": {
  "kernelspec": {
   "display_name": "Python 3",
   "language": "python",
   "name": "python3"
  },
  "language_info": {
   "codemirror_mode": {
    "name": "ipython",
    "version": 3
   },
   "file_extension": ".py",
   "mimetype": "text/x-python",
   "name": "python",
   "nbconvert_exporter": "python",
   "pygments_lexer": "ipython3",
   "version": "3.8.8"
  }
 },
 "nbformat": 4,
 "nbformat_minor": 5
}
