{
 "cells": [
  {
   "cell_type": "code",
   "execution_count": 32,
   "id": "672ae953",
   "metadata": {},
   "outputs": [],
   "source": [
    "from sympy import symbols, Matrix, diff, MatrixSymbol, Trace, MatMul\n",
    "from sympy import I, sqrt\n",
    "from sympy.physics.quantum.dagger import Dagger\n",
    "from sympy import conjugate"
   ]
  },
  {
   "cell_type": "code",
   "execution_count": 8,
   "id": "824a326f",
   "metadata": {},
   "outputs": [],
   "source": [
    "N = 3\n",
    "\n",
    "X1_dot = MatrixSymbol(\"X1_dot\", N, N)\n",
    "X2_dot = MatrixSymbol(\"X2_dot\", N, N)\n",
    "X3_dot = MatrixSymbol(\"X3_dot\", N, N)\n",
    "X4_dot = MatrixSymbol(\"X4_dot\", N, N)\n",
    "X5_dot = MatrixSymbol(\"X5_dot\", N, N)\n",
    "X6_dot = MatrixSymbol(\"X6_dot\", N, N)\n",
    "X7_dot = MatrixSymbol(\"X7_dot\", N, N)\n",
    "X8_dot = MatrixSymbol(\"X8_dot\", N, N)\n",
    "X9_dot = MatrixSymbol(\"X9_dot\", N, N)\n",
    "\n",
    "X1 = MatrixSymbol(\"X1\", N, N)\n",
    "X2 = MatrixSymbol(\"X2\", N, N)\n",
    "X3 = MatrixSymbol(\"X3\", N, N)\n",
    "X4 = MatrixSymbol(\"X4\", N, N)\n",
    "X5 = MatrixSymbol(\"X5\", N, N)\n",
    "X6 = MatrixSymbol(\"X6\", N, N)\n",
    "X7 = MatrixSymbol(\"X7\", N, N)\n",
    "X8 = MatrixSymbol(\"X8\", N, N)\n",
    "X9 = MatrixSymbol(\"X9\", N, N)\n",
    "\n",
    "g = symbols(\"g\")"
   ]
  },
  {
   "cell_type": "code",
   "execution_count": 9,
   "id": "cc625db7",
   "metadata": {},
   "outputs": [],
   "source": [
    "Com_X1_X2 = MatMul(X1,X2) - MatMul(X2,X1)\n",
    "Com_X1_X3 = MatMul(X1,X3) - MatMul(X3,X1)\n",
    "Com_X1_X4 = MatMul(X1,X4) - MatMul(X4,X1)\n",
    "Com_X1_X5 = MatMul(X1,X5) - MatMul(X5,X1)\n",
    "Com_X1_X6 = MatMul(X1,X6) - MatMul(X6,X1)\n",
    "Com_X1_X7 = MatMul(X1,X7) - MatMul(X7,X1)\n",
    "Com_X1_X8 = MatMul(X1,X8) - MatMul(X8,X1)\n",
    "Com_X1_X9 = MatMul(X1,X9) - MatMul(X9,X1)\n",
    "\n",
    "Com_X2_X3 = MatMul(X2,X3) - MatMul(X3,X2)\n",
    "Com_X2_X4 = MatMul(X2,X4) - MatMul(X4,X2)\n",
    "Com_X2_X5 = MatMul(X2,X5) - MatMul(X5,X2)\n",
    "Com_X2_X6 = MatMul(X2,X6) - MatMul(X6,X2)\n",
    "Com_X2_X7 = MatMul(X2,X7) - MatMul(X7,X2)\n",
    "Com_X2_X8 = MatMul(X2,X8) - MatMul(X8,X2)\n",
    "Com_X2_X9 = MatMul(X2,X9) - MatMul(X9,X2)\n",
    "\n",
    "Com_X3_X4 = MatMul(X3,X4) - MatMul(X4,X3)\n",
    "Com_X3_X5 = MatMul(X3,X5) - MatMul(X5,X3)\n",
    "Com_X3_X6 = MatMul(X3,X6) - MatMul(X6,X3)\n",
    "Com_X3_X7 = MatMul(X3,X7) - MatMul(X7,X3)\n",
    "Com_X3_X8 = MatMul(X3,X8) - MatMul(X8,X3)\n",
    "Com_X3_X9 = MatMul(X3,X9) - MatMul(X9,X3)\n",
    "\n",
    "Com_X4_X5 = MatMul(X4,X5) - MatMul(X5,X4)\n",
    "Com_X4_X6 = MatMul(X4,X6) - MatMul(X6,X4)\n",
    "Com_X4_X7 = MatMul(X4,X7) - MatMul(X7,X4)\n",
    "Com_X4_X8 = MatMul(X4,X8) - MatMul(X8,X4)\n",
    "Com_X4_X9 = MatMul(X4,X9) - MatMul(X9,X4)\n",
    "\n",
    "Com_X5_X6 = MatMul(X5,X6) - MatMul(X6,X5)\n",
    "Com_X5_X7 = MatMul(X5,X7) - MatMul(X7,X5)\n",
    "Com_X5_X8 = MatMul(X5,X8) - MatMul(X8,X5)\n",
    "Com_X5_X9 = MatMul(X5,X9) - MatMul(X9,X5)\n",
    "\n",
    "Com_X6_X7 = MatMul(X6,X7) - MatMul(X7,X6)\n",
    "Com_X6_X8 = MatMul(X6,X8) - MatMul(X8,X6)\n",
    "Com_X6_X9 = MatMul(X6,X9) - MatMul(X9,X6)\n",
    "\n",
    "Com_X7_X8 = MatMul(X7,X8) - MatMul(X8,X7)\n",
    "Com_X7_X9 = MatMul(X7,X9) - MatMul(X9,X7)\n",
    "\n",
    "Com_X8_X9 = MatMul(X8,X9) - MatMul(X9,X8)"
   ]
  },
  {
   "cell_type": "code",
   "execution_count": 10,
   "id": "87f0cc90",
   "metadata": {},
   "outputs": [],
   "source": [
    "commutators = [Com_X1_X2,Com_X1_X3,Com_X1_X4,Com_X1_X5 ,Com_X1_X6,Com_X1_X7 ,Com_X1_X8 ,Com_X1_X9 ,Com_X2_X3,Com_X2_X4,Com_X2_X5,Com_X2_X6 ,Com_X2_X7,Com_X2_X8,Com_X2_X9 ,Com_X3_X4,Com_X3_X5,Com_X3_X6,Com_X3_X7,Com_X3_X8,Com_X3_X9,Com_X4_X5,Com_X4_X6,Com_X4_X7,Com_X4_X8,Com_X4_X9,Com_X5_X6,Com_X5_X7,Com_X5_X8,Com_X5_X9,Com_X6_X7,Com_X6_X8,Com_X6_X9,Com_X7_X8,Com_X7_X9,Com_X8_X9]"
   ]
  },
  {
   "cell_type": "markdown",
   "id": "3233756b",
   "metadata": {},
   "source": [
    "## B.13"
   ]
  },
  {
   "cell_type": "code",
   "execution_count": 18,
   "id": "a85ee9f7",
   "metadata": {},
   "outputs": [],
   "source": [
    "K = 1/2*(Trace(MatMul(X1_dot,X1_dot)) + Trace(MatMul(X2_dot,X2_dot)) + Trace(MatMul(X3_dot,X3_dot)) + \n",
    "         Trace(MatMul(X4_dot,X4_dot)) + Trace(MatMul(X5_dot,X5_dot)) + Trace(MatMul(X6_dot,X6_dot)) +\n",
    "         Trace(MatMul(X7_dot,X7_dot)) + Trace(MatMul(X8_dot,X8_dot)) + Trace(MatMul(X9_dot,X9_dot)))\n",
    "\n",
    "Summation = 0\n",
    "for el in commutators:\n",
    "    Summation += Trace(MatMul( el, el))\n",
    "V =-g*g/2*(Summation)"
   ]
  },
  {
   "cell_type": "code",
   "execution_count": 19,
   "id": "725ecf21",
   "metadata": {},
   "outputs": [],
   "source": [
    "L = K - V\n",
    "L_no_g = L/(g*g)"
   ]
  },
  {
   "cell_type": "code",
   "execution_count": 52,
   "id": "702373fb",
   "metadata": {},
   "outputs": [
    {
     "data": {
      "text/latex": [
       "$\\displaystyle - g^{2} \\left(X_{2}^{T}\\right)^{2} X_{1}^{T} - g^{2} \\left(X_{3}^{T}\\right)^{2} X_{1}^{T} - g^{2} \\left(X_{4}^{T}\\right)^{2} X_{1}^{T} - g^{2} \\left(X_{5}^{T}\\right)^{2} X_{1}^{T} - g^{2} \\left(X_{6}^{T}\\right)^{2} X_{1}^{T} - g^{2} \\left(X_{7}^{T}\\right)^{2} X_{1}^{T} - g^{2} \\left(X_{8}^{T}\\right)^{2} X_{1}^{T} - g^{2} \\left(X_{9}^{T}\\right)^{2} X_{1}^{T} - g^{2} X_{1}^{T} \\left(X_{2}^{T}\\right)^{2} - g^{2} X_{1}^{T} \\left(X_{3}^{T}\\right)^{2} - g^{2} X_{1}^{T} \\left(X_{4}^{T}\\right)^{2} - g^{2} X_{1}^{T} \\left(X_{5}^{T}\\right)^{2} - g^{2} X_{1}^{T} \\left(X_{6}^{T}\\right)^{2} - g^{2} X_{1}^{T} \\left(X_{7}^{T}\\right)^{2} - g^{2} X_{1}^{T} \\left(X_{8}^{T}\\right)^{2} - g^{2} X_{1}^{T} \\left(X_{9}^{T}\\right)^{2} + 2 g^{2} X_{2}^{T} X_{1}^{T} X_{2}^{T} + 2 g^{2} X_{3}^{T} X_{1}^{T} X_{3}^{T} + 2 g^{2} X_{4}^{T} X_{1}^{T} X_{4}^{T} + 2 g^{2} X_{5}^{T} X_{1}^{T} X_{5}^{T} + 2 g^{2} X_{6}^{T} X_{1}^{T} X_{6}^{T} + 2 g^{2} X_{7}^{T} X_{1}^{T} X_{7}^{T} + 2 g^{2} X_{8}^{T} X_{1}^{T} X_{8}^{T} + 2 g^{2} X_{9}^{T} X_{1}^{T} X_{9}^{T}$"
      ],
      "text/plain": [
       "(-g**2)*X2.T**2*X1.T + (-g**2)*X3.T**2*X1.T + (-g**2)*X4.T**2*X1.T + (-g**2)*X5.T**2*X1.T + (-g**2)*X6.T**2*X1.T + (-g**2)*X7.T**2*X1.T + (-g**2)*X8.T**2*X1.T + (-g**2)*X9.T**2*X1.T + (-g**2)*X1.T*X2.T**2 + (-g**2)*X1.T*X3.T**2 + (-g**2)*X1.T*X4.T**2 + (-g**2)*X1.T*X5.T**2 + (-g**2)*X1.T*X6.T**2 + (-g**2)*X1.T*X7.T**2 + (-g**2)*X1.T*X8.T**2 + (-g**2)*X1.T*X9.T**2 + (2*g**2)*X2.T*X1.T*X2.T + (2*g**2)*X3.T*X1.T*X3.T + (2*g**2)*X4.T*X1.T*X4.T + (2*g**2)*X5.T*X1.T*X5.T + (2*g**2)*X6.T*X1.T*X6.T + (2*g**2)*X7.T*X1.T*X7.T + (2*g**2)*X8.T*X1.T*X8.T + (2*g**2)*X9.T*X1.T*X9.T"
      ]
     },
     "execution_count": 52,
     "metadata": {},
     "output_type": "execute_result"
    }
   ],
   "source": [
    "L.diff(X1).expand().simplify()"
   ]
  },
  {
   "cell_type": "markdown",
   "id": "aa732598",
   "metadata": {},
   "source": [
    "## B.14"
   ]
  },
  {
   "cell_type": "code",
   "execution_count": 41,
   "id": "1fd59cae",
   "metadata": {},
   "outputs": [],
   "source": [
    "phi1 = 1/sqrt(2)*(X4+I*X5)\n",
    "phi2 = 1/sqrt(2)*(X6+I*X7)\n",
    "phi3 = 1/sqrt(2)*(X8+I*X9)\n",
    "\n",
    "phi1_dag = 1/sqrt(2)*(X4-I*X5)\n",
    "phi2_dag = 1/sqrt(2)*(X6-I*X7)\n",
    "phi3_dag = 1/sqrt(2)*(X8-I*X9)\n",
    "\n",
    "phi1_phi2 = MatMul(phi1, phi2) - MatMul(phi2, phi1)\n",
    "phi1_phi3 = MatMul(phi1, phi3) - MatMul(phi3, phi1)\n",
    "phi2_phi3 = MatMul(phi2, phi3) - MatMul(phi3, phi2)\n",
    "\n",
    "phi1_phi2_dag = MatMul(phi1_dag, phi2_dag) - MatMul(phi2_dag, phi1_dag)\n",
    "phi1_phi3_dag = MatMul(phi1_dag, phi3_dag) - MatMul(phi3_dag, phi1_dag)\n",
    "phi2_phi3_dag = MatMul(phi2_dag, phi3_dag) - MatMul(phi3_dag, phi2_dag)\n",
    "\n",
    "phi1_phi1dag = MatMul(phi1, phi1_dag) - MatMul(phi1_dag, phi1)\n",
    "phi2_phi2dag = MatMul(phi2, phi2_dag) - MatMul(phi2_dag, phi2)\n",
    "phi3_phi3dag = MatMul(phi3, phi3_dag) - MatMul(phi3_dag, phi3)\n",
    "\n",
    "zeta = symbols(\"zeta\")\n",
    "\n",
    "X1_phi1 = MatMul(X1, phi1) - MatMul(phi1, X1)\n",
    "X1_phi2 = MatMul(X1, phi2) - MatMul(phi2, X1)\n",
    "X1_phi3 = MatMul(X1, phi3) - MatMul(phi3, X1)\n",
    "X2_phi1 = MatMul(X2, phi1) - MatMul(phi1, X2)\n",
    "X2_phi2 = MatMul(X2, phi2) - MatMul(phi2, X2)\n",
    "X2_phi3 = MatMul(X2, phi3) - MatMul(phi3, X2)\n",
    "X3_phi1 = MatMul(X3, phi1) - MatMul(phi1, X3)\n",
    "X3_phi2 = MatMul(X3, phi2) - MatMul(phi2, X3)\n",
    "X3_phi3 = MatMul(X3, phi3) - MatMul(phi3, X3)\n",
    "\n",
    "X1_phi1dag = MatMul(X1, phi1_dag) - MatMul(phi1_dag, X1)\n",
    "X1_phi2dag = MatMul(X1, phi2_dag) - MatMul(phi2_dag, X1)\n",
    "X1_phi3dag = MatMul(X1, phi3_dag) - MatMul(phi3_dag, X1)\n",
    "X2_phi1dag = MatMul(X2, phi1_dag) - MatMul(phi1_dag, X2)\n",
    "X2_phi2dag = MatMul(X2, phi2_dag) - MatMul(phi2_dag, X2)\n",
    "X2_phi3dag = MatMul(X2, phi3_dag) - MatMul(phi3_dag, X2)\n",
    "X3_phi1dag = MatMul(X3, phi1_dag) - MatMul(phi1_dag, X3)\n",
    "X3_phi2dag = MatMul(X3, phi2_dag) - MatMul(phi2_dag, X3)\n",
    "X3_phi3dag = MatMul(X3, phi3_dag) - MatMul(phi3_dag, X3)"
   ]
  },
  {
   "cell_type": "code",
   "execution_count": 56,
   "id": "13f3b45d",
   "metadata": {},
   "outputs": [],
   "source": [
    "K = 1/2*(Trace(MatMul(X1_dot,X1_dot)) + Trace(MatMul(X2_dot,X2_dot)) + Trace(MatMul(X3_dot,X3_dot)) + \n",
    "         Trace(MatMul(X4_dot,X4_dot)) + Trace(MatMul(X5_dot,X5_dot)) + Trace(MatMul(X6_dot,X6_dot)) +\n",
    "         Trace(MatMul(X7_dot,X7_dot)) + Trace(MatMul(X8_dot,X8_dot)) + Trace(MatMul(X9_dot,X9_dot)))\n",
    "\n",
    "V_gauge =  ( -1/2 *Trace( MatMul(Com_X1_X2, Com_X1_X2) ) + -1/2 *Trace( MatMul(Com_X1_X3, Com_X1_X3) ) +\n",
    "                   -1/2 *Trace( MatMul(Com_X2_X3, Com_X2_X3) ) + \n",
    "                   Trace( MatMul(-X1_phi1dag, X1_phi1) ) + Trace( MatMul(-X1_phi2dag, X1_phi2) ) +\n",
    "                   Trace( MatMul(-X1_phi3dag, X1_phi3) ) + Trace( MatMul(-X2_phi1dag, X2_phi1) ) +\n",
    "                   Trace( MatMul(-X2_phi2dag, X2_phi2) ) + Trace( MatMul(-X2_phi3dag, X2_phi3) ) +\n",
    "                   Trace( MatMul(-X3_phi1dag, X3_phi1) ) + Trace( MatMul(-X3_phi2dag, X3_phi2) ) +\n",
    "                   Trace( MatMul(-X3_phi3dag, X3_phi3) ) ) \n",
    "\n",
    "V_D = 1/2 * ( Trace (phi1_phi1dag + phi2_phi2dag + phi3_phi3dag) + zeta/(g*g) *\n",
    "              Trace (phi1_phi1dag + phi2_phi2dag + phi3_phi3dag) + zeta/(g*g) )\n",
    "\n",
    "V_F = (2*Trace( MatMul(phi1_phi2, phi1_phi2_dag) ) + 2*Trace( MatMul(-phi1_phi3, -phi1_phi3_dag) )+ \n",
    "       2*Trace( MatMul(phi2_phi3, phi2_phi3_dag) ) )\n",
    "\n",
    "L_BFSS = K - g*g*(V_gauge + V_D + V_F)"
   ]
  },
  {
   "cell_type": "code",
   "execution_count": 58,
   "id": "e4e6d139",
   "metadata": {},
   "outputs": [
    {
     "data": {
      "text/latex": [
       "$\\displaystyle - g^{2} \\left(X_{2}^{T}\\right)^{2} X_{1}^{T} - g^{2} \\left(X_{3}^{T}\\right)^{2} X_{1}^{T} - g^{2} \\left(X_{4}^{T}\\right)^{2} X_{1}^{T} - g^{2} \\left(X_{5}^{T}\\right)^{2} X_{1}^{T} - g^{2} \\left(X_{6}^{T}\\right)^{2} X_{1}^{T} - g^{2} \\left(X_{7}^{T}\\right)^{2} X_{1}^{T} - g^{2} \\left(X_{8}^{T}\\right)^{2} X_{1}^{T} - g^{2} \\left(X_{9}^{T}\\right)^{2} X_{1}^{T} - g^{2} X_{1}^{T} \\left(X_{2}^{T}\\right)^{2} - g^{2} X_{1}^{T} \\left(X_{3}^{T}\\right)^{2} - g^{2} X_{1}^{T} \\left(X_{4}^{T}\\right)^{2} - g^{2} X_{1}^{T} \\left(X_{5}^{T}\\right)^{2} - g^{2} X_{1}^{T} \\left(X_{6}^{T}\\right)^{2} - g^{2} X_{1}^{T} \\left(X_{7}^{T}\\right)^{2} - g^{2} X_{1}^{T} \\left(X_{8}^{T}\\right)^{2} - g^{2} X_{1}^{T} \\left(X_{9}^{T}\\right)^{2} + 2.0 g^{2} X_{2}^{T} X_{1}^{T} X_{2}^{T} + 2.0 g^{2} X_{3}^{T} X_{1}^{T} X_{3}^{T} + 2 g^{2} X_{4}^{T} X_{1}^{T} X_{4}^{T} + 2 g^{2} X_{5}^{T} X_{1}^{T} X_{5}^{T} + 2 g^{2} X_{6}^{T} X_{1}^{T} X_{6}^{T} + 2 g^{2} X_{7}^{T} X_{1}^{T} X_{7}^{T} + 2 g^{2} X_{8}^{T} X_{1}^{T} X_{8}^{T} + 2 g^{2} X_{9}^{T} X_{1}^{T} X_{9}^{T}$"
      ],
      "text/plain": [
       "(-g**2)*X2.T**2*X1.T + (-g**2)*X3.T**2*X1.T + (-g**2)*X4.T**2*X1.T + (-g**2)*X5.T**2*X1.T + (-g**2)*X6.T**2*X1.T + (-g**2)*X7.T**2*X1.T + (-g**2)*X8.T**2*X1.T + (-g**2)*X9.T**2*X1.T + (-g**2)*X1.T*X2.T**2 + (-g**2)*X1.T*X3.T**2 + (-g**2)*X1.T*X4.T**2 + (-g**2)*X1.T*X5.T**2 + (-g**2)*X1.T*X6.T**2 + (-g**2)*X1.T*X7.T**2 + (-g**2)*X1.T*X8.T**2 + (-g**2)*X1.T*X9.T**2 + (2.0*g**2)*X2.T*X1.T*X2.T + (2.0*g**2)*X3.T*X1.T*X3.T + (2*g**2)*X4.T*X1.T*X4.T + (2*g**2)*X5.T*X1.T*X5.T + (2*g**2)*X6.T*X1.T*X6.T + (2*g**2)*X7.T*X1.T*X7.T + (2*g**2)*X8.T*X1.T*X8.T + (2*g**2)*X9.T*X1.T*X9.T"
      ]
     },
     "execution_count": 58,
     "metadata": {},
     "output_type": "execute_result"
    }
   ],
   "source": [
    "L_BFSS.diff(X1).expand()"
   ]
  }
 ],
 "metadata": {
  "kernelspec": {
   "display_name": "Python 3",
   "language": "python",
   "name": "python3"
  },
  "language_info": {
   "codemirror_mode": {
    "name": "ipython",
    "version": 3
   },
   "file_extension": ".py",
   "mimetype": "text/x-python",
   "name": "python",
   "nbconvert_exporter": "python",
   "pygments_lexer": "ipython3",
   "version": "3.8.8"
  }
 },
 "nbformat": 4,
 "nbformat_minor": 5
}
