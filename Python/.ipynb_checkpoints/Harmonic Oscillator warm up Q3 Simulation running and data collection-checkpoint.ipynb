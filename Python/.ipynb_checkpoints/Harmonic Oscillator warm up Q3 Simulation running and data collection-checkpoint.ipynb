{
 "cells": [
  {
   "cell_type": "code",
   "execution_count": 1,
   "id": "3326038a",
   "metadata": {},
   "outputs": [],
   "source": [
    "import numpy as np\n",
    "import matplotlib.pyplot as plt\n",
    "import pandas as pd\n",
    "from pandas import DataFrame as DF\n",
    "from sympy import diff\n",
    "from sympy.abc import x,y\n",
    "from sympy import cos\n",
    "from sympy import *\n",
    "from sympy import lambdify\n",
    "from tqdm.notebook import tqdm\n",
    "from scipy.optimize import curve_fit\n",
    "%matplotlib inline\n",
    "import random"
   ]
  },
  {
   "cell_type": "markdown",
   "id": "c230855a",
   "metadata": {},
   "source": [
    "**Setting path to folder that will collect data**"
   ]
  },
  {
   "cell_type": "code",
   "execution_count": 2,
   "id": "b67e2022",
   "metadata": {},
   "outputs": [],
   "source": [
    "# Defining path to folder raw data is saved in\n",
    "path = \"C:/Users/robtk/OneDrive/Desktop/DIAS Internship/Raw data/Harmonic oscillator warm up/\""
   ]
  },
  {
   "cell_type": "markdown",
   "id": "99e02d98",
   "metadata": {},
   "source": [
    "### Set display of pandas dataframes and Series to 11 decimal places"
   ]
  },
  {
   "cell_type": "code",
   "execution_count": 3,
   "id": "ff8d656f",
   "metadata": {},
   "outputs": [],
   "source": [
    "pd.set_option(\"display.precision\", 11)"
   ]
  },
  {
   "cell_type": "code",
   "execution_count": 4,
   "id": "f4bc0b3d",
   "metadata": {},
   "outputs": [],
   "source": [
    "np.set_printoptions(threshold=10000000)"
   ]
  },
  {
   "cell_type": "markdown",
   "id": "cb704303",
   "metadata": {},
   "source": [
    "## Define Hamiltonian"
   ]
  },
  {
   "cell_type": "markdown",
   "id": "a60be67b",
   "metadata": {},
   "source": [
    "Use the given lagrangian in the pdf to calculate the Hamiltonian using the definition.\n",
    "\n",
    "H = $\\sum (p_i * \\text{q_dot_i}) - L$\n",
    "\n",
    "where $p_i = \\frac{\\partial L}{\\partial \\text{q_dot_i}}$.\n",
    "\n",
    "In this case the Lagrangian $L = L_0 + L_2$, with $L_0$ being a term with no q_dot_i dependence and $L_2$ having quadratic q_dot_i dependence. Then the Hamiltonian equals $H = -L_O + L_2$. This is how the Hamiltonian is defined below.\n",
    "\n",
    "This was done using Mathematica."
   ]
  },
  {
   "cell_type": "code",
   "execution_count": 5,
   "id": "55bdcb68",
   "metadata": {},
   "outputs": [],
   "source": [
    "def H(x_1, x_2, y_1, y_2, p_x_1, p_x_2, p_y_1, p_y_2, p_x_dot_1, p_x_dot_2, p_y_dot_1, p_y_dot_2, Lambda_1, Lambda_2):\n",
    "    \n",
    "    L_0 = ( -x_1**2/2 - 1/2*Lambda_2**2*x_1**6 - Lambda_2*x_1**3*x_2 - \n",
    "            x_2**2/2 - Lambda_1*x_1*x_2**3 - 1/2*Lambda_1**2 * x_2**6 -\n",
    "            y_1**2/2 - 3/2*Lambda_2**2*x_1**4*y_1**2 + 3*Lambda_2*x_1*x_2*y_1**2 -\n",
    "            3/2*Lambda_2**2*x_1**2*y_1**4 - 1/2*Lambda_2**2*y_1**6 -\n",
    "            3*Lambda_2*x_1**2*y_1*y_2 - 3*Lambda_1*x_2**2*y_1*y_2 + Lambda_2*y_1**3*y_2 -\n",
    "            y_2**2/2 + 3*Lambda_1*x_1*x_2*y_2**2 - 3/2*Lambda_1**2*x_2**4*y_2**2 +\n",
    "            Lambda_1*y_1*y_2**3 - 3/2*Lambda_1**2*x_2**2*y_2**4 - \n",
    "                1/2*Lambda_1**2*y_2**6)\n",
    "            \n",
    "    \n",
    "    L_2 = 1/2*(p_x_1**2 + p_y_1**2) + 1/2*(p_x_2**2 + p_y_2**2)\n",
    "    \n",
    "    return -L_0 + L_2"
   ]
  },
  {
   "cell_type": "markdown",
   "id": "070bb8c0",
   "metadata": {},
   "source": [
    "### Simulation"
   ]
  },
  {
   "cell_type": "code",
   "execution_count": 6,
   "id": "84c03192",
   "metadata": {},
   "outputs": [],
   "source": [
    "labels = [\"x_1\", \"x_2\", \"y_1\", \"y_2\", \n",
    "               \"p_x_1\", \"p_x_2\", \"p_y_1\", \"p_y_2\", \n",
    "               \"p_x_dot_1\", \"p_x_dot_2\", \"p_y_dot_1\", \"p_y_dot_2\"]"
   ]
  },
  {
   "cell_type": "markdown",
   "id": "bb4991d0",
   "metadata": {},
   "source": [
    "## Simulation with Sympy"
   ]
  },
  {
   "cell_type": "markdown",
   "id": "77b0d5d5",
   "metadata": {},
   "source": [
    "Turn the Hamiltonian as already defined into a sympy function. The sympy package can do symbolic manipulation well so differentiate the Hamiltonian to get the canonical equations with sympy\n",
    "\n",
    "Turn the coordinates into sympy symbols"
   ]
  },
  {
   "cell_type": "code",
   "execution_count": 7,
   "id": "98d3945d",
   "metadata": {},
   "outputs": [],
   "source": [
    "x_1, x_2, y_1, y_2, p_x_1, p_x_2, p_y_1, p_y_2, p_x_dot_1, p_x_dot_2, p_y_dot_1, p_y_dot_2, Lambda_1, Lambda_2 = symbols(\n",
    "\"x_1, x_2, y_1, y_2, p_x_1, p_x_2, p_y_1, p_y_2, p_x_dot_1, p_x_dot_2, p_y_dot_1, p_y_dot_2, Lambda_1, Lambda_2\")"
   ]
  },
  {
   "cell_type": "code",
   "execution_count": 8,
   "id": "a14a0bd6",
   "metadata": {
    "scrolled": true
   },
   "outputs": [
    {
     "data": {
      "text/latex": [
       "$\\displaystyle 0.5 \\Lambda_{1}^{2} x_{2}^{6} + 1.5 \\Lambda_{1}^{2} x_{2}^{4} y_{2}^{2} + 1.5 \\Lambda_{1}^{2} x_{2}^{2} y_{2}^{4} + 0.5 \\Lambda_{1}^{2} y_{2}^{6} + \\Lambda_{1} x_{1} x_{2}^{3} - 3 \\Lambda_{1} x_{1} x_{2} y_{2}^{2} + 3 \\Lambda_{1} x_{2}^{2} y_{1} y_{2} - \\Lambda_{1} y_{1} y_{2}^{3} + 0.5 \\Lambda_{2}^{2} x_{1}^{6} + 1.5 \\Lambda_{2}^{2} x_{1}^{4} y_{1}^{2} + 1.5 \\Lambda_{2}^{2} x_{1}^{2} y_{1}^{4} + 0.5 \\Lambda_{2}^{2} y_{1}^{6} + \\Lambda_{2} x_{1}^{3} x_{2} + 3 \\Lambda_{2} x_{1}^{2} y_{1} y_{2} - 3 \\Lambda_{2} x_{1} x_{2} y_{1}^{2} - \\Lambda_{2} y_{1}^{3} y_{2} + 0.5 p_{x 1}^{2} + 0.5 p_{x 2}^{2} + 0.5 p_{y 1}^{2} + 0.5 p_{y 2}^{2} + \\frac{x_{1}^{2}}{2} + \\frac{x_{2}^{2}}{2} + \\frac{y_{1}^{2}}{2} + \\frac{y_{2}^{2}}{2}$"
      ],
      "text/plain": [
       "0.5*Lambda_1**2*x_2**6 + 1.5*Lambda_1**2*x_2**4*y_2**2 + 1.5*Lambda_1**2*x_2**2*y_2**4 + 0.5*Lambda_1**2*y_2**6 + Lambda_1*x_1*x_2**3 - 3*Lambda_1*x_1*x_2*y_2**2 + 3*Lambda_1*x_2**2*y_1*y_2 - Lambda_1*y_1*y_2**3 + 0.5*Lambda_2**2*x_1**6 + 1.5*Lambda_2**2*x_1**4*y_1**2 + 1.5*Lambda_2**2*x_1**2*y_1**4 + 0.5*Lambda_2**2*y_1**6 + Lambda_2*x_1**3*x_2 + 3*Lambda_2*x_1**2*y_1*y_2 - 3*Lambda_2*x_1*x_2*y_1**2 - Lambda_2*y_1**3*y_2 + 0.5*p_x_1**2 + 0.5*p_x_2**2 + 0.5*p_y_1**2 + 0.5*p_y_2**2 + x_1**2/2 + x_2**2/2 + y_1**2/2 + y_2**2/2"
      ]
     },
     "execution_count": 8,
     "metadata": {},
     "output_type": "execute_result"
    }
   ],
   "source": [
    "Hi = H(x_1, x_2, y_1, y_2, p_x_1, p_x_2, p_y_1, p_y_2, p_x_dot_1, p_x_dot_2, p_y_dot_1, p_y_dot_2, Lambda_1, Lambda_2)\n",
    "Hi"
   ]
  },
  {
   "cell_type": "code",
   "execution_count": 9,
   "id": "5b09506e",
   "metadata": {},
   "outputs": [
    {
     "data": {
      "text/plain": [
       "146894.0"
      ]
     },
     "execution_count": 9,
     "metadata": {},
     "output_type": "execute_result"
    }
   ],
   "source": [
    "H(3,4,5,6,7,8,9,10,11,0,0,0,1,2)"
   ]
  },
  {
   "cell_type": "markdown",
   "id": "99ecbbed",
   "metadata": {},
   "source": [
    "Differentiate the Hamiltonian."
   ]
  },
  {
   "cell_type": "code",
   "execution_count": 17,
   "id": "52ef43b6",
   "metadata": {},
   "outputs": [],
   "source": [
    "Hi_x_1 = Hi.diff(x_1).simplify()\n",
    "Hi_x_2 = Hi.diff(x_2).simplify()\n",
    "Hi_y_1 = Hi.diff(y_1).simplify()\n",
    "Hi_y_2 = Hi.diff(y_2).simplify()\n",
    "Hi_p_x_1 = Hi.diff(p_x_1).simplify()\n",
    "Hi_p_x_2 = Hi.diff(p_x_2).simplify()\n",
    "Hi_p_y_1 = Hi.diff(p_y_1).simplify()\n",
    "Hi_p_y_2 = Hi.diff(p_y_2).simplify()"
   ]
  },
  {
   "cell_type": "markdown",
   "id": "59f2c32c",
   "metadata": {},
   "source": [
    "Use lambdify() to turn the differentiated sympy equations back into python equations that I can actually put variables into."
   ]
  },
  {
   "cell_type": "code",
   "execution_count": 19,
   "id": "8e1c7c70",
   "metadata": {},
   "outputs": [
    {
     "data": {
      "text/latex": [
       "$\\displaystyle \\Lambda_{1} x_{2}^{3} - 3 \\Lambda_{1} x_{2} y_{2}^{2} + 3.0 \\Lambda_{2}^{2} x_{1}^{5} + 6.0 \\Lambda_{2}^{2} x_{1}^{3} y_{1}^{2} + 3.0 \\Lambda_{2}^{2} x_{1} y_{1}^{4} + 3 \\Lambda_{2} x_{1}^{2} x_{2} + 6 \\Lambda_{2} x_{1} y_{1} y_{2} - 3 \\Lambda_{2} x_{2} y_{1}^{2} + x_{1}$"
      ],
      "text/plain": [
       "Lambda_1*x_2**3 - 3*Lambda_1*x_2*y_2**2 + 3.0*Lambda_2**2*x_1**5 + 6.0*Lambda_2**2*x_1**3*y_1**2 + 3.0*Lambda_2**2*x_1*y_1**4 + 3*Lambda_2*x_1**2*x_2 + 6*Lambda_2*x_1*y_1*y_2 - 3*Lambda_2*x_2*y_1**2 + x_1"
      ]
     },
     "execution_count": 19,
     "metadata": {},
     "output_type": "execute_result"
    }
   ],
   "source": [
    "Hi_x_1"
   ]
  },
  {
   "cell_type": "code",
   "execution_count": null,
   "id": "a2f7ac0b",
   "metadata": {},
   "outputs": [],
   "source": [
    "Hi_x_2"
   ]
  },
  {
   "cell_type": "code",
   "execution_count": null,
   "id": "da44025c",
   "metadata": {},
   "outputs": [],
   "source": [
    "Hi_y_1"
   ]
  },
  {
   "cell_type": "code",
   "execution_count": null,
   "id": "f5819c04",
   "metadata": {},
   "outputs": [],
   "source": [
    "Hi_y_2"
   ]
  },
  {
   "cell_type": "code",
   "execution_count": 11,
   "id": "e46e89d9",
   "metadata": {},
   "outputs": [],
   "source": [
    "dHi_x_1 = lambdify((x_1, x_2, y_1, y_2, Lambda_1, Lambda_2),Hi_x_1)\n",
    "dHi_x_2 = lambdify((x_1, x_2, y_1, y_2, Lambda_1, Lambda_2),Hi_x_2)\n",
    "dHi_y_1 = lambdify((x_1, x_2, y_1, y_2, Lambda_1, Lambda_2),Hi_y_1)\n",
    "dHi_y_2 = lambdify((x_1, x_2, y_1, y_2, Lambda_1, Lambda_2),Hi_y_2)\n",
    "dHi_p_x_1 = lambdify((x_1, x_2, y_1, y_2, p_x_1, p_x_2, p_y_1, p_y_2, p_x_dot_1, p_x_dot_2, p_y_dot_1, p_y_dot_2, Lambda_1, Lambda_2),Hi_p_x_1)\n",
    "dHi_p_x_2 = lambdify((x_1, x_2, y_1, y_2, p_x_1, p_x_2, p_y_1, p_y_2, p_x_dot_1, p_x_dot_2, p_y_dot_1, p_y_dot_2, Lambda_1, Lambda_2),Hi_p_x_2)\n",
    "dHi_p_y_1 = lambdify((x_1, x_2, y_1, y_2, p_x_1, p_x_2, p_y_1, p_y_2, p_x_dot_1, p_x_dot_2, p_y_dot_1, p_y_dot_2, Lambda_1, Lambda_2),Hi_p_y_1)\n",
    "dHi_p_y_2 = lambdify((x_1, x_2, y_1, y_2, p_x_1, p_x_2, p_y_1, p_y_2, p_x_dot_1, p_x_dot_2, p_y_dot_1, p_y_dot_2, Lambda_1, Lambda_2),Hi_p_y_2)\n"
   ]
  },
  {
   "cell_type": "markdown",
   "id": "2edd4819",
   "metadata": {},
   "source": [
    "Check that the symmetry of the Hamiltonian if Lambda_1 = Lambda_2 holds. If it does then differentiating with respect to x_1 \n",
    "should be the same as differentiating with respect to x_2."
   ]
  },
  {
   "cell_type": "code",
   "execution_count": null,
   "id": "441eb87d",
   "metadata": {},
   "outputs": [],
   "source": [
    "-dHi_x_1(.3, .3, .3, .3, 0.01, 0.01)\n",
    "\n",
    "-dHi_x_2(.3, .3, .3, .3, 0.01, 0.01) == -dHi_x_1(.3, .3, .3, .3, 0.01, 0.01)\n"
   ]
  },
  {
   "cell_type": "code",
   "execution_count": null,
   "id": "1627b39a",
   "metadata": {},
   "outputs": [],
   "source": [
    "-dHi_y_2(.3, .3, .3, .3, 0.01, 0.01) == -dHi_y_1(.3, .3, .3, .3, 0.01, 0.01)\n"
   ]
  },
  {
   "cell_type": "markdown",
   "id": "63b0ab73",
   "metadata": {},
   "source": [
    "#### Redo simulation with sympy definitions"
   ]
  },
  {
   "cell_type": "markdown",
   "id": "5c2152f4",
   "metadata": {},
   "source": [
    "**Code for evolving the initial point in phase space for 1000 seconds so that the system is thermalised.**"
   ]
  },
  {
   "cell_type": "code",
   "execution_count": null,
   "id": "2b197e71",
   "metadata": {},
   "outputs": [],
   "source": [
    "def thermalising_algorithm(old_coordinates, Lambda_1, Lambda_2, delta_t):\n",
    "    \n",
    "    i = 0\n",
    "    # Repeating algorithm for 1000 seconds to thermalise the system.\n",
    "    while i < 1000/delta_t:\n",
    "        \n",
    "        # Define old variables\n",
    "        [x_1_old, x_2_old, y_1_old, y_2_old, p_x_1_old, p_x_2_old, p_y_1_old, p_y_2_old, p_x_dot_1_old,\n",
    "         p_x_dot_2_old, p_y_dot_1_old, p_y_dot_2_old] = old_coordinates\n",
    "        \n",
    "        \n",
    "        # b) velocity Verlet 1 to get new positions from old positions, momentums and rate of change of momentums\n",
    "        \n",
    "        x_1_new = (x_1_old + p_x_1_old * delta_t + 1/2 * p_x_dot_1_old * delta_t**2)\n",
    "        x_2_new = (x_2_old + p_x_2_old * delta_t + 1/2 * p_x_dot_2_old * delta_t**2)\n",
    "        y_1_new = (y_1_old + p_y_1_old * delta_t + 1/2 * p_y_dot_1_old * delta_t**2)\n",
    "        y_2_new = (y_2_old + p_y_2_old * delta_t + 1/2 * p_y_dot_2_old * delta_t**2)\n",
    "\n",
    "        \n",
    "        # c) Use Hamiltonian canonical equations to get new p_dot values\n",
    "        \n",
    "        p_x_dot_1_new = -dHi_x_1(x_1_new, x_2_new, y_1_new, y_2_new, Lambda_1, Lambda_2)\n",
    "        p_x_dot_2_new = -dHi_x_2(x_1_new, x_2_new, y_1_new, y_2_new, Lambda_1, Lambda_2)\n",
    "        p_y_dot_1_new = -dHi_y_1(x_1_new, x_2_new, y_1_new, y_2_new, Lambda_1, Lambda_2)\n",
    "        p_y_dot_2_new = -dHi_y_2(x_1_new, x_2_new, y_1_new, y_2_new, Lambda_1, Lambda_2)\n",
    "\n",
    "\n",
    "        # d) Use Velocity Verlet 2 to get new momentums\n",
    "\n",
    "        p_x_1_new = (p_x_1_old + (1/2) * (p_x_dot_1_new + p_x_dot_1_old) * delta_t)\n",
    "        p_x_2_new = (p_x_2_old + (1/2) * (p_x_dot_2_new + p_x_dot_2_old) * delta_t)\n",
    "        p_y_1_new = (p_y_1_old + (1/2) * (p_y_dot_1_new + p_y_dot_1_old) * delta_t)\n",
    "        p_y_2_new = (p_y_2_old + (1/2) * (p_y_dot_2_new + p_y_dot_2_old) * delta_t)\n",
    "\n",
    "        new_coordinates = [x_1_new, x_2_new, y_1_new, y_2_new, \n",
    "                           p_x_1_new, p_x_2_new, p_y_1_new, p_y_2_new,\n",
    "                           p_x_dot_1_new, p_x_dot_2_new, p_y_dot_1_new, p_y_dot_2_new]\n",
    "                \n",
    "        # Update new coordinates\n",
    "\n",
    "        old_coordinates = new_coordinates\n",
    "\n",
    "        i += 1\n",
    "        \n",
    "    return new_coordinates"
   ]
  },
  {
   "cell_type": "markdown",
   "id": "b4c345b1",
   "metadata": {},
   "source": [
    "**Code for evolving the simulation and recording the position and momentum after it was thermalised.**"
   ]
  },
  {
   "cell_type": "code",
   "execution_count": null,
   "id": "b7023cb0",
   "metadata": {},
   "outputs": [],
   "source": [
    "def evolving_algorithm(old_coordinates, Lambda_1, Lambda_2, delta_t,\n",
    "                       record_steps, simulation_repetitions, coordinates_list):\n",
    "    \n",
    "    i = 1\n",
    "    # Repeating algorithm\n",
    "    while i < simulation_repetitions:\n",
    "        \n",
    "        # Define old variables\n",
    "        [x_1_old, x_2_old, y_1_old, y_2_old, p_x_1_old, p_x_2_old, p_y_1_old, p_y_2_old, p_x_dot_1_old,\n",
    "         p_x_dot_2_old, p_y_dot_1_old, p_y_dot_2_old] = old_coordinates\n",
    "        \n",
    "        \n",
    "        # b) velocity Verlet 1 to get new positions from old positions, momentums and rate of change of momentums\n",
    "        \n",
    "        x_1_new = (x_1_old + p_x_1_old * delta_t + 1/2 * p_x_dot_1_old * delta_t**2)\n",
    "        x_2_new = (x_2_old + p_x_2_old * delta_t + 1/2 * p_x_dot_2_old * delta_t**2)\n",
    "        y_1_new = (y_1_old + p_y_1_old * delta_t + 1/2 * p_y_dot_1_old * delta_t**2)\n",
    "        y_2_new = (y_2_old + p_y_2_old * delta_t + 1/2 * p_y_dot_2_old * delta_t**2)\n",
    "        \n",
    "        \n",
    "        # c) Use Hamiltonian canonical equations to get new p_dot values\n",
    "        \n",
    "        p_x_dot_1_new = -dHi_x_1(x_1_new, x_2_new, y_1_new, y_2_new, Lambda_1, Lambda_2)\n",
    "        p_x_dot_2_new = -dHi_x_2(x_1_new, x_2_new, y_1_new, y_2_new, Lambda_1, Lambda_2)\n",
    "        p_y_dot_1_new = -dHi_y_1(x_1_new, x_2_new, y_1_new, y_2_new, Lambda_1, Lambda_2)\n",
    "        p_y_dot_2_new = -dHi_y_2(x_1_new, x_2_new, y_1_new, y_2_new, Lambda_1, Lambda_2)\n",
    "\n",
    "        \n",
    "        # d) Use Velocity Verlet 2 to get new momentums\n",
    "\n",
    "        p_x_1_new = (p_x_1_old + (1/2) * (p_x_dot_1_new + p_x_dot_1_old) * delta_t)\n",
    "        p_x_2_new = (p_x_2_old + (1/2) * (p_x_dot_2_new + p_x_dot_2_old) * delta_t)\n",
    "        p_y_1_new = (p_y_1_old + (1/2) * (p_y_dot_1_new + p_y_dot_1_old) * delta_t)\n",
    "        p_y_2_new = (p_y_2_old + (1/2) * (p_y_dot_2_new + p_y_dot_2_old) * delta_t)\n",
    "\n",
    "        new_coordinates = [x_1_new, x_2_new, y_1_new, y_2_new, \n",
    "                           p_x_1_new, p_x_2_new, p_y_1_new, p_y_2_new,\n",
    "                           p_x_dot_1_new, p_x_dot_2_new, p_y_dot_1_new, p_y_dot_2_new]\n",
    "        \n",
    "         \n",
    "        # Recording position, momentum, and rate of change of momentum every 10th step\n",
    "        if i % record_steps == 0:\n",
    "            h = 0\n",
    "\n",
    "            while h < len(coordinates_list):\n",
    "                coordinates_list[h].append(new_coordinates[h])\n",
    "                h += 1\n",
    "                \n",
    "                \n",
    "        # Update new coordinates\n",
    "\n",
    "        old_coordinates = new_coordinates\n",
    "\n",
    "        i += 1\n",
    "        \n",
    "    return coordinates_list, new_coordinates"
   ]
  },
  {
   "cell_type": "markdown",
   "id": "75da67aa",
   "metadata": {},
   "source": [
    "**Run the simulation**"
   ]
  },
  {
   "cell_type": "code",
   "execution_count": null,
   "id": "0d431d41",
   "metadata": {},
   "outputs": [],
   "source": [
    "def simulation(x_1, x_2, y_1, y_2, \n",
    "               p_x_1, p_x_2, p_y_1, p_y_2, Lambda_1, Lambda_2, delta_t):\n",
    "    \n",
    "    \n",
    "    # The rates of change of momenta are linked to the coordinates by the Hamiltonian canonical equations\n",
    "    # Calculate them.\n",
    "        \n",
    "    p_x_dot_1 = -dHi_x_1(x_1, x_2, y_1, y_2, Lambda_1, Lambda_2)\n",
    "    p_x_dot_2 = -dHi_x_2(x_1, x_2, y_1, y_2, Lambda_1, Lambda_2)\n",
    "    p_y_dot_1 = -dHi_y_1(x_1, x_2, y_1, y_2, Lambda_1, Lambda_2)\n",
    "    p_y_dot_2 = -dHi_y_2(x_1, x_2, y_1, y_2, Lambda_1, Lambda_2)\n",
    "    \n",
    "    labels = [\"x_1\", \"x_2\", \"y_1\", \"y_2\", \n",
    "               \"p_x_1\", \"p_x_2\", \"p_y_1\", \"p_y_2\", \n",
    "               \"p_x_dot_1\", \"p_x_dot_2\", \"p_y_dot_1\", \"p_y_dot_2\"]\n",
    "    \n",
    "    i = 0\n",
    "\n",
    "    # Define number of steps between measurement recordings\n",
    "    record_steps = 100\n",
    "\n",
    "\n",
    "    # Initial coordinates \n",
    "    old_coordinates = [x_1, x_2, y_1, y_2, \n",
    "               p_x_1, p_x_2, p_y_1, p_y_2, \n",
    "               p_x_dot_1, p_x_dot_2, p_y_dot_1, p_y_dot_2]\n",
    "    \n",
    "    # For checking if H is conserved\n",
    "    print(\"r\")\n",
    "    # How many iterations the simulation will go on for after it has been thermalised.\n",
    "    simulation_repetitions = 1000000\n",
    "    \n",
    "    # Thermalise the system. , i.e. evolve it for long enough time that it presumably reaches a \"typical configuration\".\n",
    "    # Here Swapno suggests to evolve it, starting anywhere, for 1000 seconds, dt = 10e-4s.\n",
    "    \n",
    "    thermalised_old_coordinates = thermalising_algorithm(old_coordinates, Lambda_1, Lambda_2, delta_t)\n",
    "    print(\"w\")\n",
    "    \n",
    "    # Coordinates list to record simulation dynamics\n",
    "    coordinates_list = [[thermalised_old_coordinates[0]], [thermalised_old_coordinates[1]], [thermalised_old_coordinates[2]],\n",
    "                        [thermalised_old_coordinates[3]], [thermalised_old_coordinates[4]], [thermalised_old_coordinates[5]], \n",
    "                        [thermalised_old_coordinates[6]], [thermalised_old_coordinates[7]], [thermalised_old_coordinates[8]],\n",
    "                        [thermalised_old_coordinates[9]], [thermalised_old_coordinates[10]], [thermalised_old_coordinates[11]]]\n",
    "\n",
    "\n",
    "    # Now that the system is thermalised and the thermalised initial conditions are found, evolve the system\n",
    "    # and run the data collecting simulation.\n",
    "    print(\"t\")\n",
    "\n",
    "    coordinates_list, new_coordinates = evolving_algorithm(thermalised_old_coordinates, Lambda_1, Lambda_2, delta_t,\n",
    "                                                           record_steps, simulation_repetitions, coordinates_list)\n",
    "    \n",
    "    print(\"e\")\n",
    "    # Define the times after thermalisation that the coordinates were recorded at.\n",
    "    times = np.arange(0,simulation_repetitions*delta_t + delta_t*record_steps, delta_t*record_steps)\n",
    "    \n",
    "    # Make a dictionary of the coordinates.\n",
    "    coords_dict = {\"times\" : times, labels[0] : coordinates_list[0], labels[0] : coordinates_list[0], \n",
    "                  labels[1] : coordinates_list[1], labels[2] : coordinates_list[2], labels[3] : coordinates_list[3], \n",
    "                  labels[4] : coordinates_list[4], labels[5] : coordinates_list[5], labels[6] : coordinates_list[6], \n",
    "                  labels[7] : coordinates_list[7], labels[8] : coordinates_list[8], labels[9] : coordinates_list[9], \n",
    "                  labels[10] : coordinates_list[10], labels[11] : coordinates_list[11]}\n",
    "    \n",
    "    # Make the dictionary into a dataframe\n",
    "    Coords = DF(coords_dict, index = coords_dict[\"times\"], columns = labels)\n",
    "        \n",
    "    return Coords"
   ]
  },
  {
   "cell_type": "markdown",
   "id": "7934448a",
   "metadata": {},
   "source": [
    "### Do two trajectories and check their chaotic nature"
   ]
  },
  {
   "cell_type": "markdown",
   "id": "b3403649",
   "metadata": {},
   "source": [
    "**We must ensure that both phase space points are close but also have equal Hamiltonians.**\n"
   ]
  },
  {
   "cell_type": "markdown",
   "id": "6f468ded",
   "metadata": {},
   "source": [
    "**To do this, recall that H = T + V and T = sum(pi^2)**\n",
    "\n",
    "**So p1 = sqrt(H - p2^2 - p3^2 - p4^2 - V )**\n",
    "\n",
    "**Define this p1 equation**"
   ]
  },
  {
   "cell_type": "code",
   "execution_count": null,
   "id": "e4d6193b",
   "metadata": {},
   "outputs": [],
   "source": [
    "# First define potential energy.\n",
    "\n",
    "def potential_energy(x_1, x_2, y_1, y_2, Lambda_1, Lambda_2):\n",
    "    \n",
    "    L_0 = ( -x_1**2/2 - 1/2*Lambda_2**2*x_1**6 - Lambda_2*x_1**3*x_2 - \n",
    "            x_2**2/2 - Lambda_1*x_1*x_2**3 - 1/2*Lambda_1**2 * x_2**6 -\n",
    "            y_1**2/2 - 3/2*Lambda_2**2*x_1**4*y_1**2 + 3*Lambda_2*x_1*x_2*y_1**2 -\n",
    "            3/2*Lambda_2**2*x_1**2*y_1**4 - 1/2*Lambda_2**2*y_1**6 -\n",
    "            3*Lambda_2*x_1**2*y_1*y_2 - 3*Lambda_1*x_2**2*y_1*y_2 + Lambda_2*y_1**3*y_2 -\n",
    "            y_2**2/2 + 3*Lambda_1*x_1*x_2*y_2**2 - 3/2*Lambda_1**2*x_2**4*y_2**2 +\n",
    "            Lambda_1*y_1*y_2**3 - 3/2*Lambda_1**2*x_2**2*y_2**4 - \n",
    "                1/2*Lambda_1**2*y_2**6)\n",
    "    \n",
    "    return -L_0"
   ]
  },
  {
   "cell_type": "code",
   "execution_count": null,
   "id": "9e6a33ec",
   "metadata": {},
   "outputs": [],
   "source": [
    "def find_p_x_1(thermalised_coords, Lambda_1, Lambda_2, sigma):\n",
    "    # Thermalised coords should be a list of the thermalised_initial_values\n",
    "    \n",
    "    # Calculate the hamiltonian\n",
    "    h = H(*thermalised_coords, Lambda_1, Lambda_2)\n",
    "    \n",
    "    # perturb all p's and x's     \n",
    "    x_1_perturbed = thermalised_coords[0] + np.random.normal(0,sigma)\n",
    "    x_2_perturbed = thermalised_coords[1] + np.random.normal(0,sigma)\n",
    "    y_1_perturbed = thermalised_coords[2] + np.random.normal(0,sigma)\n",
    "    y_2_perturbed = thermalised_coords[3] + np.random.normal(0,sigma)\n",
    "    p_x_2_perturbed = thermalised_coords[5] + np.random.normal(0,sigma)\n",
    "    p_y_1_perturbed = thermalised_coords[6] + np.random.normal(0,sigma)\n",
    "    p_y_2_perturbed = thermalised_coords[7] + np.random.normal(0,sigma)\n",
    "    \n",
    "    \n",
    "    # Calculate the new potential energy\n",
    "    v = potential_energy(x_1_perturbed, x_2_perturbed, y_1_perturbed,\n",
    "                         y_2_perturbed, Lambda_1, Lambda_2)\n",
    "    #v = potential_energy(thermalised_coords[0], thermalised_coords[1], thermalised_coords[2],\n",
    "     #                    thermalised_coords[3], Lambda_1, Lambda_2)\n",
    "    \n",
    "    # Calculate p_x_1_perturbed\n",
    "    p_x_1_perturbed = np.sqrt( 2*h - p_x_2_perturbed**2 - p_y_1_perturbed**2 - p_y_2_perturbed**2 - 2*v )\n",
    "    \n",
    "    # Collect all coords in one list\n",
    "    thermalised_coords_2 = [x_1_perturbed, x_2_perturbed, y_1_perturbed, y_2_perturbed, \n",
    "                            p_x_1_perturbed, p_x_2_perturbed, p_y_1_perturbed, p_y_2_perturbed]\n",
    "    \n",
    "    return thermalised_coords_2\n",
    "\n"
   ]
  },
  {
   "cell_type": "markdown",
   "id": "0b38fdc4",
   "metadata": {},
   "source": [
    "**Now repurpose the simulation definition to do the following:**\n",
    "1. find the thermalised_initial_momentum close to zero.\n",
    "2. Put these initial conditions into find_p_x_1, to get a new p_x_1.\n",
    "3. Create a new phase point with the new p_x_1.\n",
    "4. Evolve both sets of thermalised_initial_conditions."
   ]
  },
  {
   "cell_type": "code",
   "execution_count": null,
   "id": "53b3e2ee",
   "metadata": {},
   "outputs": [],
   "source": [
    "# This code is used to thermalise a set of initial conditions and then perturb the thermalised conditions and solve for\n",
    "# p_x_1 using the find_p_x_1() definition. Now two points close to each other in phase space that also have the same \n",
    "# Hamiltonian are found. \n",
    "# There is no need to record data from the simulation except for the thermalised initial conditions.\n",
    "\n",
    "def simulation_2_Points(x_1, x_2, y_1, y_2, \n",
    "               p_x_1, p_x_2, p_y_1, p_y_2, Lambda_1, Lambda_2, delta_t, sigma):\n",
    "    \n",
    "    \n",
    "    # The rates of change of momenta are linked to the coordinates by the Hamiltonian canonical equations\n",
    "    # Calculate them.\n",
    "        \n",
    "    p_x_dot_1 = -dHi_x_1(x_1, x_2, y_1, y_2, Lambda_1, Lambda_2)\n",
    "    p_x_dot_2 = -dHi_x_2(x_1, x_2, y_1, y_2, Lambda_1, Lambda_2)\n",
    "    p_y_dot_1 = -dHi_y_1(x_1, x_2, y_1, y_2, Lambda_1, Lambda_2)\n",
    "    p_y_dot_2 = -dHi_y_2(x_1, x_2, y_1, y_2, Lambda_1, Lambda_2)\n",
    "    \n",
    "    labels = [\"x_1\", \"x_2\", \"y_1\", \"y_2\", \n",
    "               \"p_x_1\", \"p_x_2\", \"p_y_1\", \"p_y_2\", \n",
    "               \"p_x_dot_1\", \"p_x_dot_2\", \"p_y_dot_1\", \"p_y_dot_2\"]\n",
    "    \n",
    "    i = 0\n",
    "\n",
    "    # Define number of steps between measurement recordings\n",
    "    record_steps = 10\n",
    "\n",
    "\n",
    "    # Initial coordinates \n",
    "    old_coordinates = [x_1, x_2, y_1, y_2, \n",
    "               p_x_1, p_x_2, p_y_1, p_y_2, \n",
    "               p_x_dot_1, p_x_dot_2, p_y_dot_1, p_y_dot_2]\n",
    "    \n",
    "    # For checking if H is conserved\n",
    "    \n",
    "    # How many iterations the simulation will go on for after it has been thermalised.\n",
    "    simulation_repetitions = 500000\n",
    "    \n",
    "    # Thermalise the system. , i.e. evolve it for long enough time that it presumably reaches a \"typical configuration\".\n",
    "    # Here Swapno suggests to evolve it, starting anywhere, for 1000 seconds, dt = 10e-4s.\n",
    " \n",
    "    thermalised_old_coordinates = thermalising_algorithm(old_coordinates, Lambda_1, Lambda_2, delta_t)    \n",
    "    \n",
    "    # Find perturbed_p_x_1\n",
    "    thermalised_coords_2 = find_p_x_1(thermalised_old_coordinates, Lambda_1, Lambda_2, sigma)\n",
    "    \n",
    "    # Now the new rates of changes of momenta must be calculated from the coordinates in thermalised_coords_2\n",
    "    # Do this with Hamilton's equations.\n",
    "    \n",
    "    [x_1_new, x_2_new, y_1_new, y_2_new, p_x_1_new, p_x_2_new, p_y_1_new, p_y_2_new] = thermalised_coords_2\n",
    "    \n",
    "    p_x_dot_1_new = -dHi_x_1(x_1_new, x_2_new, y_1_new, y_2_new, Lambda_1, Lambda_2)\n",
    "    p_x_dot_2_new = -dHi_x_2(x_1_new, x_2_new, y_1_new, y_2_new, Lambda_1, Lambda_2)\n",
    "    p_y_dot_1_new = -dHi_y_1(x_1_new, x_2_new, y_1_new, y_2_new, Lambda_1, Lambda_2)\n",
    "    p_y_dot_2_new = -dHi_y_2(x_1_new, x_2_new, y_1_new, y_2_new, Lambda_1, Lambda_2)\n",
    "    \n",
    "    thermalised_coords_2 = [*thermalised_coords_2, p_x_dot_1_new, p_x_dot_2_new, p_y_dot_1_new, p_y_dot_2_new]\n",
    "    \n",
    "    print(\"Point_1\", thermalised_old_coordinates, \"\\n\")\n",
    "    print(\"Point_2\", thermalised_coords_2, \"\\n\")\n",
    "    print(\"H_Point_1\",H(*thermalised_old_coordinates, Lambda_1, Lambda_2), \"\\n\")\n",
    "    print(\"H_Point_2\",H(*thermalised_coords_2, Lambda_1, Lambda_2), \"\\n\")\n",
    "    \n",
    "    \n",
    "    print(\"done thermalising\")\n",
    "    \n",
    "    return thermalised_old_coordinates, thermalised_coords_2"
   ]
  },
  {
   "cell_type": "code",
   "execution_count": null,
   "id": "dd4f9bec",
   "metadata": {},
   "outputs": [],
   "source": [
    "def simulation_after_thermalising(thermalised_old_coordinates, Lambda_1, Lambda_2, delta_t):\n",
    "    \n",
    "    # Recalculate the rates of change of momenta to ensure they are accurate\n",
    "    \n",
    "    [x_1_new, x_2_new, y_1_new, y_2_new, p_x_1_new, p_x_2_new, p_y_1_new, p_y_2_new] = thermalised_old_coordinates[:8]\n",
    "    \n",
    "    p_x_dot_1_new = -dHi_x_1(x_1_new, x_2_new, y_1_new, y_2_new, Lambda_1, Lambda_2)\n",
    "    p_x_dot_2_new = -dHi_x_2(x_1_new, x_2_new, y_1_new, y_2_new, Lambda_1, Lambda_2)\n",
    "    p_y_dot_1_new = -dHi_y_1(x_1_new, x_2_new, y_1_new, y_2_new, Lambda_1, Lambda_2)\n",
    "    p_y_dot_2_new = -dHi_y_2(x_1_new, x_2_new, y_1_new, y_2_new, Lambda_1, Lambda_2)\n",
    "    \n",
    "    thermalised_old_coordinates = [*thermalised_old_coordinates[:8], p_x_dot_1_new, p_x_dot_2_new, p_y_dot_1_new, p_y_dot_2_new]\n",
    "\n",
    "    \n",
    "    # How many iterations the simulation will go on for after it has been thermalised.\n",
    "    simulation_repetitions = 1000000\n",
    "    \n",
    "    # How many time evolution increments before a measurement is taken\n",
    "    record_steps = 100\n",
    "    \n",
    "         ## ## Code for evolving Point_1 ## ##   \n",
    "\n",
    "    # Coordinates list to record simulation dynamics\n",
    "    coordinates_list_1 = [[thermalised_old_coordinates[0]], [thermalised_old_coordinates[1]], [thermalised_old_coordinates[2]],\n",
    "                        [thermalised_old_coordinates[3]], [thermalised_old_coordinates[4]], [thermalised_old_coordinates[5]], \n",
    "                        [thermalised_old_coordinates[6]], [thermalised_old_coordinates[7]], [thermalised_old_coordinates[8]],\n",
    "                        [thermalised_old_coordinates[9]], [thermalised_old_coordinates[10]], [thermalised_old_coordinates[11]]]\n",
    "\n",
    "    \n",
    "    # Now that the system is thermalised and the thermalised initial conditions are found, evolve the system\n",
    "    # and run the data collecting simulation.\n",
    "    \n",
    "    coordinates_list_1, new_coordinates_1 = evolving_algorithm(thermalised_old_coordinates, Lambda_1, Lambda_2, delta_t,\n",
    "                                                           record_steps, simulation_repetitions, coordinates_list_1)\n",
    "    \n",
    "    \n",
    "    # Define the times after thermalisation that the coordinates were recorded at.\n",
    "    times = np.arange(0,simulation_repetitions*delta_t + delta_t*record_steps, delta_t*record_steps)\n",
    "    \n",
    "    # Make a dictionary of the coordinates.\n",
    "    coords_dict_1 = {\"times\" : times, labels[0] : coordinates_list_1[0], labels[0] : coordinates_list_1[0], \n",
    "                  labels[1] : coordinates_list_1[1], labels[2] : coordinates_list_1[2], labels[3] : coordinates_list_1[3], \n",
    "                  labels[4] : coordinates_list_1[4], labels[5] : coordinates_list_1[5], labels[6] : coordinates_list_1[6], \n",
    "                  labels[7] : coordinates_list_1[7], labels[8] : coordinates_list_1[8], labels[9] : coordinates_list_1[9], \n",
    "                  labels[10] : coordinates_list_1[10], labels[11] : coordinates_list_1[11]}\n",
    "    \n",
    "    # Make the dictionary into a dataframe\n",
    "    Point_1_Coords = DF(coords_dict_1, index = coords_dict_1[\"times\"], columns = labels)\n",
    "        \n",
    "    return Point_1_Coords"
   ]
  },
  {
   "cell_type": "markdown",
   "id": "8bcc027c",
   "metadata": {},
   "source": [
    "**Do the simulations for two points very close to each other.**"
   ]
  },
  {
   "cell_type": "code",
   "execution_count": null,
   "id": "99e3b0a8",
   "metadata": {
    "scrolled": true
   },
   "outputs": [],
   "source": [
    "# First get two sets of thermalised initial conditions from simulation_2_points()\n",
    "thermalised1, thermalised2 = simulation_2_Points(16.73, -3.97, 11.2, -24.1, 10.0002, 50, 15.000093, -0.54, .0001, .0002, 10e-5, .01)\n",
    "\n",
    "# Then simulate the evolution of the system with simulation_after_thermalising()\n",
    "Point_1 = simulation_after_thermalising(thermalised1, .0001, .0002, 10e-5)\n",
    "\n",
    "Point_2 = simulation_after_thermalising(thermalised2, .0001, .0002, 10e-5)\n",
    "\n",
    "\n"
   ]
  },
  {
   "cell_type": "code",
   "execution_count": null,
   "id": "77f9ca12",
   "metadata": {
    "scrolled": true
   },
   "outputs": [],
   "source": [
    "Point_1"
   ]
  },
  {
   "cell_type": "code",
   "execution_count": null,
   "id": "5ec44dd0",
   "metadata": {},
   "outputs": [],
   "source": [
    "Point_2"
   ]
  },
  {
   "cell_type": "markdown",
   "id": "ec6be7c3",
   "metadata": {},
   "source": [
    "Check that the Hamiltonian is conserved"
   ]
  },
  {
   "cell_type": "code",
   "execution_count": null,
   "id": "46a48742",
   "metadata": {},
   "outputs": [],
   "source": [
    "def H_conserved(Point_1, Lambda_1, Lambda_2):\n",
    "    \n",
    "    K = H(Point_1[labels[0]], Point_1[labels[1]], Point_1[labels[2]], Point_1[labels[3]], Point_1[labels[4]],\n",
    "          Point_1[labels[5]], Point_1[labels[6]], Point_1[labels[7]], Point_1[labels[8]], Point_1[labels[9]], \n",
    "          Point_1[labels[10]], Point_1[labels[11]], Lambda_1, Lambda_2)\n",
    "    \n",
    "    return K"
   ]
  },
  {
   "cell_type": "code",
   "execution_count": null,
   "id": "262417f0",
   "metadata": {},
   "outputs": [],
   "source": [
    "print(H_conserved(Point_1, .0001, .0002), H_conserved(Point_2, .0001, .0002)) "
   ]
  },
  {
   "cell_type": "code",
   "execution_count": null,
   "id": "1184c061",
   "metadata": {},
   "outputs": [],
   "source": [
    "Point_1.to_pickle(path+\"Point_1.pkl\")\n",
    "Point_2.to_pickle(path+\"Point_2.pkl\")"
   ]
  },
  {
   "cell_type": "markdown",
   "id": "6279b149",
   "metadata": {},
   "source": [
    "## Check validity of simulation in time"
   ]
  },
  {
   "cell_type": "markdown",
   "id": "1c48836d",
   "metadata": {},
   "source": [
    "1. Simulate the same dynamics with two different time steps, say\n",
    "10^{-4} and 5*10^{-1}.\n",
    "It is useful to check when they start diverging, that way we know\n",
    "when we stop trusting the simulation."
   ]
  },
  {
   "cell_type": "code",
   "execution_count": null,
   "id": "44410ea5",
   "metadata": {
    "scrolled": false
   },
   "outputs": [],
   "source": [
    "H_conserved(time_step_2, .0001, .0002).values"
   ]
  },
  {
   "cell_type": "code",
   "execution_count": null,
   "id": "bf0e3448",
   "metadata": {},
   "outputs": [],
   "source": [
    "# We use simulation_after_thermalising() because this just records measurements straight away, with no thermalising.\n",
    "# So therefore we are recording without any numerical errors already accumulated from the thermalising phase.\n",
    "time_step_1 = simulation_after_thermalising([23, -9.92, 2, -11.01, -10.5, 80, 40.7, -0.6, 0, 0, 0, 0], .0001, .0002, 10e-5)\n",
    "print(H_conserved(time_step_1, .0001, .0002))\n",
    "\n",
    "\n",
    "time_step_2 = simulation_after_thermalising([23, -9.92, 2, -11.01, -10.5, 80, 40.7, -0.6, 0, 0, 0, 0], .0001, .0002, 5*10e-5)\n",
    "print(H_conserved(time_step_2, .0001, .0002))"
   ]
  },
  {
   "cell_type": "code",
   "execution_count": null,
   "id": "fca8cd25",
   "metadata": {},
   "outputs": [],
   "source": [
    "print(H_conserved(time_step_1, .0001, .0002).values)"
   ]
  },
  {
   "cell_type": "code",
   "execution_count": null,
   "id": "b7a6d539",
   "metadata": {},
   "outputs": [],
   "source": [
    "Point_1.values"
   ]
  },
  {
   "cell_type": "code",
   "execution_count": null,
   "id": "36d29e13",
   "metadata": {},
   "outputs": [],
   "source": [
    "def separation8_dim(Point_1, Point_2):\n",
    "    \n",
    "    x_1_a = Point_1[\"x_1\"].values\n",
    "    x_2_a = Point_1[\"x_2\"].values\n",
    "    y_1_a = Point_1[\"y_1\"].values\n",
    "    y_2_a = Point_1[\"y_2\"].values\n",
    "    p_x_1_a = Point_1[\"p_x_1\"].values\n",
    "    p_x_2_a = Point_1[\"p_x_2\"].values\n",
    "    p_y_1_a = Point_1[\"p_y_1\"].values\n",
    "    p_y_2_a =Point_1[\"p_y_2\"].values\n",
    "    \n",
    "    x_1_b = Point_2[\"x_1\"].values\n",
    "    x_2_b = Point_2[\"x_2\"].values\n",
    "    y_1_b = Point_2[\"y_1\"].values\n",
    "    y_2_b = Point_2[\"y_2\"].values\n",
    "    p_x_1_b = Point_2[\"p_x_1\"].values\n",
    "    p_x_2_b = Point_2[\"p_x_2\"].values\n",
    "    p_y_1_b = Point_2[\"p_y_1\"].values\n",
    "    p_y_2_b = Point_2[\"p_y_2\"].values\n",
    "\n",
    "    \n",
    "    return np.sqrt((x_1_a -x_1_b)**2 + (y_1_a - y_1_b)**2 + (p_x_1_a - p_x_1_b)**2 + (p_y_1_a - p_y_1_b)**2 +\n",
    "                  (x_2_a -x_2_b)**2 + (y_2_a - y_2_b)**2 + (p_x_2_a - p_x_2_b)**2 + (p_y_2_a - p_y_2_b)**2)"
   ]
  },
  {
   "cell_type": "code",
   "execution_count": null,
   "id": "b6d62eac",
   "metadata": {},
   "outputs": [],
   "source": [
    "time_step_1[\"x_1\"]"
   ]
  },
  {
   "cell_type": "code",
   "execution_count": null,
   "id": "68a5b144",
   "metadata": {},
   "outputs": [],
   "source": [
    "plt.figure(figsize = (10,10))\n",
    "start = 32\n",
    "end = 42\n",
    "plt.subplot(2,2,1)\n",
    "plt.plot(time_step_1[\"x_1\"][start:end], time_step_1[\"p_x_1\"][start:end])\n",
    "plt.plot(time_step_2[\"x_1\"][start:end], time_step_2[\"p_x_1\"][start:end])\n",
    "plt.xlabel(\"x_1\")\n",
    "plt.ylabel(\"p_x_1\")\n",
    "\n",
    "plt.subplot(2,2,2)\n",
    "plt.plot(time_step_1[\"x_2\"][start:end], time_step_1[\"p_x_2\"][start:end])\n",
    "plt.plot(time_step_2[\"x_2\"][start:end], time_step_2[\"p_x_2\"][start:end])\n",
    "plt.xlabel(\"x_2\")\n",
    "plt.ylabel(\"p_x_2\")\n",
    "\n",
    "plt.subplot(2,2,3)\n",
    "plt.plot(time_step_1[\"y_1\"][start:end], time_step_1[\"p_y_1\"][start:end])\n",
    "plt.plot(time_step_2[\"y_1\"][start:end], time_step_2[\"p_y_1\"][start:end])\n",
    "plt.xlabel(\"y_1\")\n",
    "plt.ylabel(\"p_y_1\")\n",
    "\n",
    "plt.subplot(2,2,4)\n",
    "plt.plot(time_step_1[\"y_2\"][start:end], time_step_1[\"p_y_2\"][start:end])\n",
    "plt.plot(time_step_2[\"y_2\"][start:end], time_step_2[\"p_y_2\"][start:end])\n",
    "plt.xlabel(\"y_2\")\n",
    "plt.ylabel(\"p_y_2\")"
   ]
  },
  {
   "cell_type": "markdown",
   "id": "4a952e20",
   "metadata": {},
   "source": [
    "**Check how far every fifth time_step_1 measurement is from every time_step_2 measurement**"
   ]
  },
  {
   "cell_type": "code",
   "execution_count": null,
   "id": "92c06e2a",
   "metadata": {
    "scrolled": true
   },
   "outputs": [],
   "source": [
    "plt.figure(figsize = (10,10))\n",
    "t1 = np.arange(1, len(time_step_1[\"p_x_1\"][:end])+1, 1)\n",
    "t2 = np.arange(1, len(time_step_2[\"p_x_1\"][:end])+1, 1)\n",
    "\n",
    "plt.subplot(2,2,1)\n",
    "plt.plot(t1, time_step_1[\"p_x_1\"])\n",
    "plt.plot(t2*5, time_step_2[\"p_x_1\"])\n",
    "plt.xlabel(\"x_1\")\n",
    "plt.ylabel(\"p_x_1\")\n",
    "\n",
    "plt.subplot(2,2,2)\n",
    "plt.plot(t1, time_step_1[\"p_x_2\"])\n",
    "plt.plot(t2*5, time_step_2[\"p_x_2\"])\n",
    "plt.xlabel(\"x_2\")\n",
    "plt.ylabel(\"p_x_2\")\n",
    "\n",
    "plt.subplot(2,2,3)\n",
    "plt.plot(t1, time_step_1[\"p_y_1\"])\n",
    "plt.plot(t2*5, time_step_2[\"p_y_1\"])\n",
    "plt.xlabel(\"y_1\")\n",
    "plt.ylabel(\"p_y_1\")\n",
    "\n",
    "plt.subplot(2,2,4)\n",
    "plt.plot(t1, time_step_1[\"p_y_2\"])\n",
    "plt.plot(t2*5, time_step_2[\"p_y_2\"])\n",
    "plt.xlabel(\"y_2\")\n",
    "plt.ylabel(\"p_y_2\")"
   ]
  },
  {
   "cell_type": "code",
   "execution_count": null,
   "id": "69692a03",
   "metadata": {},
   "outputs": [],
   "source": [
    "time_step_1.to_pickle(path+\"time_step_1.pkl\")\n",
    "time_step_2.to_pickle(path+\"time_step_2.pkl\")"
   ]
  },
  {
   "cell_type": "markdown",
   "id": "94099ad4",
   "metadata": {},
   "source": [
    "### Observe how the trajectories diverge."
   ]
  },
  {
   "cell_type": "markdown",
   "id": "4d65408b",
   "metadata": {},
   "source": [
    "2. Instead of looking at how separation of a particular coordinate or\n",
    "momenta evolves, look at how the distance evolves with time.\n",
    "E.g. if there is just one coordinate and one momentum, look at how\n",
    "\\sqrt{ (x_1 (t) -x_2(t))^2 +(p_1(t) -p_2(t) )^2 } changes with time."
   ]
  },
  {
   "cell_type": "markdown",
   "id": "fe19ac89",
   "metadata": {},
   "source": [
    "3. For the 3rd example, compute \\lambda_L(t) for some 20-30 examples,\n",
    "all with same energy.\n",
    "Plot them on the same graph.\n",
    "Also plot their average and check if it saturates faster than\n",
    "individual \\lambda_L(t)-s"
   ]
  },
  {
   "cell_type": "code",
   "execution_count": null,
   "id": "77df4c53",
   "metadata": {},
   "outputs": [],
   "source": [
    "def simulation_after_thermalising(thermalised_old_coordinates, Lambda_1, Lambda_2, delta_t):\n",
    "    \n",
    "    # How many iterations the simulation will go on for after it has been thermalised.\n",
    "    simulation_repetitions = 1000000\n",
    "    \n",
    "    \n",
    "         ## ## Code for evolving Point_1 ## ##   \n",
    "\n",
    "    # Coordinates list to record simulation dynamics\n",
    "    coordinates_list_1 = [[thermalised_old_coordinates[0]], [thermalised_old_coordinates[1]], [thermalised_old_coordinates[2]],\n",
    "                        [thermalised_old_coordinates[3]], [thermalised_old_coordinates[4]], [thermalised_old_coordinates[5]], \n",
    "                        [thermalised_old_coordinates[6]], [thermalised_old_coordinates[7]], [thermalised_old_coordinates[8]],\n",
    "                        [thermalised_old_coordinates[9]], [thermalised_old_coordinates[10]], [thermalised_old_coordinates[11]]]\n",
    "\n",
    "    \n",
    "    # Now that the system is thermalised and the thermalised initial conditions are found, evolve the system\n",
    "    # and run the data collecting simulation.\n",
    "    \n",
    "    coordinates_list_1, new_coordinates_1 = evolving_algorithm(thermalised_old_coordinates, Lambda_1, Lambda_2, delta_t,\n",
    "                                                           record_steps, simulation_repetitions, coordinates_list_1)\n",
    "    \n",
    "    \n",
    "    # Define the times after thermalisation that the coordinates were recorded at.\n",
    "    times = np.arange(0,simulation_repetitions*delta_t + delta_t*record_steps, delta_t*record_steps)\n",
    "    \n",
    "    # Make a dictionary of the coordinates.\n",
    "    coords_dict_1 = {\"times\" : times, labels[0] : coordinates_list_1[0], labels[0] : coordinates_list_1[0], \n",
    "                  labels[1] : coordinates_list_1[1], labels[2] : coordinates_list_1[2], labels[3] : coordinates_list_1[3], \n",
    "                  labels[4] : coordinates_list_1[4], labels[5] : coordinates_list_1[5], labels[6] : coordinates_list_1[6], \n",
    "                  labels[7] : coordinates_list_1[7], labels[8] : coordinates_list_1[8], labels[9] : coordinates_list_1[9], \n",
    "                  labels[10] : coordinates_list_1[10], labels[11] : coordinates_list_1[11]}\n",
    "    \n",
    "    # Make the dictionary into a dataframe\n",
    "    Point_1_Coords = DF(coords_dict_1, index = coords_dict_1[\"times\"], columns = labels)\n",
    "        \n",
    "    return Point_1_Coords"
   ]
  },
  {
   "cell_type": "code",
   "execution_count": null,
   "id": "92b168c9",
   "metadata": {},
   "outputs": [],
   "source": [
    "def separation8_dim(Point_1, Point_2):\n",
    "    \n",
    "    x_1_a = Point_1[\"x_1\"]\n",
    "    x_2_a = Point_1[\"x_2\"]\n",
    "    y_1_a = Point_1[\"y_1\"]\n",
    "    y_2_a = Point_1[\"y_2\"]\n",
    "    p_x_1_a = Point_1[\"p_x_1\"]\n",
    "    p_x_2_a = Point_1[\"p_x_2\"]\n",
    "    p_y_1_a = Point_1[\"p_y_1\"]\n",
    "    p_y_2_a =Point_1[\"p_y_2\"]\n",
    "    x_1_b = Point_2[\"x_1\"]\n",
    "    x_2_b = Point_2[\"x_2\"]\n",
    "    y_1_b = Point_2[\"y_1\"]\n",
    "    y_2_b = Point_2[\"y_2\"]\n",
    "    p_x_1_b = Point_2[\"p_x_1\"]\n",
    "    p_x_2_b = Point_2[\"p_x_2\"]\n",
    "    p_y_1_b = Point_2[\"p_y_1\"]\n",
    "    p_y_2_b = Point_2[\"p_y_2\"]\n",
    "\n",
    "    \n",
    "    return np.sqrt((x_1_a -x_1_b)**2 + (y_1_a - y_1_b)**2 + (p_x_1_a - p_x_1_b)**2 + (p_y_1_a - p_y_1_b)**2 +\n",
    "                  (x_2_a -x_2_b)**2 + (y_2_a - y_2_b)**2 + (p_x_2_a - p_x_2_b)**2 + (p_y_2_a - p_y_2_b)**2)"
   ]
  },
  {
   "cell_type": "code",
   "execution_count": null,
   "id": "2a77666b",
   "metadata": {},
   "outputs": [],
   "source": [
    "k = 0\n",
    "\n",
    "Points_list = [0, 0, 0, 0, 0, 0, 0, 0, 0, 0, 0, 0, 0, 0, 0, 0, 0, 0, 0, 0, 0, 0, 0, 0, 0, 0, 0, 0, 0, 0]\n",
    "while k < 15:\n",
    "    \n",
    "    Point_1, Point_2 = simulation_2_Points(16.73, -3.97, 11.2, -24.1, 10.0002, 50, 15.000093, -0.54, .0001, .0002, 10e-5, .1)\n",
    "    \n",
    "    Points_list[k] = Point_2\n",
    "    \n",
    "    k += 1"
   ]
  },
  {
   "cell_type": "code",
   "execution_count": null,
   "id": "a19e3d5b",
   "metadata": {},
   "outputs": [],
   "source": [
    "IC6 = Points_list[0]\n",
    "print(IC6, \"\\n\")\n",
    "\n",
    "IC7 = Points_list[1]\n",
    "print(IC7, \"\\n\")\n",
    "\n",
    "IC8 = Points_list[2]\n",
    "print(IC8, \"\\n\")\n",
    "\n",
    "IC9 = Points_list[3]\n",
    "print(IC9, \"\\n\")\n",
    "\n",
    "IC10 = Points_list[4]\n",
    "print(IC10, \"\\n\")\n",
    "\n",
    "IC11 = Points_list[5]\n",
    "print(IC11, \"\\n\")\n",
    "\n",
    "IC12 = Points_list[6]\n",
    "print(IC12, \"\\n\")\n",
    "\n",
    "IC13 = Points_list[7]\n",
    "print(IC13, \"\\n\")\n",
    "\n",
    "IC14 = Points_list[8]\n",
    "print(IC14, \"\\n\")\n",
    "\n",
    "IC15 = Points_list[9]\n",
    "print(IC15, \"\\n\")\n",
    "\n",
    "IC16 = Points_list[10]\n",
    "print(IC16, \"\\n\")\n",
    "\n",
    "IC17 = Points_list[11]\n",
    "print(IC17, \"\\n\")\n",
    "\n",
    "IC18 = Points_list[12]\n",
    "print(IC18, \"\\n\")\n",
    "\n",
    "IC19 = Points_list[13]\n",
    "print(IC19, \"\\n\")\n",
    "\n",
    "IC20 = Points_list[14]\n",
    "print(IC20, \"\\n\")"
   ]
  },
  {
   "cell_type": "code",
   "execution_count": null,
   "id": "4d9b73e2",
   "metadata": {},
   "outputs": [],
   "source": [
    "Compare1 = simulation_after_thermalising(IC1, 0.0001, 0.0002, 10e-5)\n",
    "Compare2 = simulation_after_thermalising(IC2, 0.0001, 0.0002, 10e-5)\n",
    "Compare3 = simulation_after_thermalising(IC3, 0.0001, 0.0002, 10e-5)\n",
    "Compare4 = simulation_after_thermalising(IC4, 0.0001, 0.0002, 10e-5)\n",
    "Compare5 = simulation_after_thermalising(IC5, 0.0001, 0.0002, 10e-5)"
   ]
  },
  {
   "cell_type": "code",
   "execution_count": null,
   "id": "22f6da73",
   "metadata": {},
   "outputs": [],
   "source": [
    "Compare6 = simulation_after_thermalising(IC6, 0.0001, 0.0002, 10e-5)\n",
    "Compare7 = simulation_after_thermalising(IC7, 0.0001, 0.0002, 10e-5)\n",
    "Compare8 = simulation_after_thermalising(IC8, 0.0001, 0.0002, 10e-5)\n",
    "Compare9 = simulation_after_thermalising(IC9, 0.0001, 0.0002, 10e-5)\n",
    "Compare10 = simulation_after_thermalising(IC10, 0.0001, 0.0002, 10e-5)\n",
    "Compare11 = simulation_after_thermalising(IC11, 0.0001, 0.0002, 10e-5)\n",
    "Compare12 = simulation_after_thermalising(IC12, 0.0001, 0.0002, 10e-5)\n",
    "Compare13 = simulation_after_thermalising(IC13, 0.0001, 0.0002, 10e-5)\n",
    "Compare14 = simulation_after_thermalising(IC14, 0.0001, 0.0002, 10e-5)\n",
    "Compare15 = simulation_after_thermalising(IC15, 0.0001, 0.0002, 10e-5)\n",
    "Compare16 = simulation_after_thermalising(IC16, 0.0001, 0.0002, 10e-5)\n",
    "Compare17 = simulation_after_thermalising(IC17, 0.0001, 0.0002, 10e-5)\n",
    "Compare18 = simulation_after_thermalising(IC18, 0.0001, 0.0002, 10e-5)\n",
    "Compare19 = simulation_after_thermalising(IC19, 0.0001, 0.0002, 10e-5)\n",
    "Compare20 = simulation_after_thermalising(IC20, 0.0001, 0.0002, 10e-5)"
   ]
  },
  {
   "cell_type": "code",
   "execution_count": null,
   "id": "2d2fb685",
   "metadata": {},
   "outputs": [],
   "source": [
    "Compare1.to_pickle(path+\"Compare1.pkl\")\n",
    "Compare2.to_pickle(path+\"Compare2.pkl\")\n",
    "Compare3.to_pickle(path+\"Compare3.pkl\")\n",
    "Compare4.to_pickle(path+\"Compare4.pkl\")\n",
    "Compare5.to_pickle(path+\"Compare5.pkl\")"
   ]
  },
  {
   "cell_type": "code",
   "execution_count": null,
   "id": "7e18b331",
   "metadata": {},
   "outputs": [],
   "source": [
    "Compare6.to_pickle(path+\"Compare6.pkl\")\n",
    "Compare7.to_pickle(path+\"Compare7.pkl\")\n",
    "Compare8.to_pickle(path+\"Compare8.pkl\")\n",
    "Compare9.to_pickle(path+\"Compare9.pkl\")\n",
    "Compare10.to_pickle(path+\"Compare10.pkl\")\n",
    "Compare11.to_pickle(path+\"Compare11.pkl\")\n",
    "Compare12.to_pickle(path+\"Compare12.pkl\")\n",
    "Compare13.to_pickle(path+\"Compare13.pkl\")\n",
    "Compare14.to_pickle(path+\"Compare14.pkl\")"
   ]
  },
  {
   "cell_type": "markdown",
   "id": "7c16a430",
   "metadata": {},
   "source": []
  }
 ],
 "metadata": {
  "kernelspec": {
   "display_name": "Python 3",
   "language": "python",
   "name": "python3"
  },
  "language_info": {
   "codemirror_mode": {
    "name": "ipython",
    "version": 3
   },
   "file_extension": ".py",
   "mimetype": "text/x-python",
   "name": "python",
   "nbconvert_exporter": "python",
   "pygments_lexer": "ipython3",
   "version": "3.8.8"
  }
 },
 "nbformat": 4,
 "nbformat_minor": 5
}
