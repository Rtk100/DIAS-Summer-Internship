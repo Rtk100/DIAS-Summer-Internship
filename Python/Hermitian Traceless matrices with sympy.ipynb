{
 "cells": [
  {
   "cell_type": "code",
   "execution_count": 77,
   "id": "23975db2",
   "metadata": {},
   "outputs": [],
   "source": [
    "import sympy as sp\n",
    "from sympy import I"
   ]
  },
  {
   "cell_type": "code",
   "execution_count": 5,
   "id": "2560f31a",
   "metadata": {},
   "outputs": [],
   "source": [
    "a1,b1,c1,d1,e1,f1,g1,h1,j1,k1,l1,m1,n1,o1,p1, a2, b2, c2, d2, e2,f2,g2,h2,j2,k2,l2,m2,n2,o2,p2 = symbols(\"a1,b1,c1,d1,e1,f1,g1,h1,j1,k1,l1,m1,n1,o1,p1, a2, b2, c2, d2, e2,f2,g2,h2,j2,k2,l2,m2,n2,o2,p2\")"
   ]
  },
  {
   "cell_type": "code",
   "execution_count": 79,
   "id": "466106c8",
   "metadata": {},
   "outputs": [],
   "source": [
    "A = sp.Matrix([[a1, d1+I*e1, f1+I*g1, h1+I*j1],\n",
    "            [d1-I*e1, b1, k1+I*l1, m1+I*n1], \n",
    "            [f1-I*g1, k1-I*l1, c1, o1+I*p1], \n",
    "            [h1-I*j1, m1-I*n1, o1-I*p1, -a1-b1-c1]])"
   ]
  },
  {
   "cell_type": "code",
   "execution_count": 80,
   "id": "6a3f8ccb",
   "metadata": {},
   "outputs": [],
   "source": [
    "B = sp.Matrix([[a2, d2+I*e2, f2+I*g2, h2+I*j2],\n",
    "            [d2-I*e2,b2,k2+I*l2,m2+I*n2 ], \n",
    "            [f2-I*g2, k2-I*l2, c2, o2+I*p2], \n",
    "            [h2-I*j2,m2-I*n2,o2-I*p2,-a2-b2-c2]])"
   ]
  },
  {
   "cell_type": "code",
   "execution_count": 85,
   "id": "780502f3",
   "metadata": {},
   "outputs": [],
   "source": [
    "C = B*(A*B-B*A)-(A*B-B*A)*B"
   ]
  },
  {
   "cell_type": "code",
   "execution_count": 97,
   "id": "8774756b",
   "metadata": {},
   "outputs": [
    {
     "ename": "AttributeError",
     "evalue": "'MutableDenseMatrix' object has no attribute 'real'",
     "output_type": "error",
     "traceback": [
      "\u001b[1;31m---------------------------------------------------------------------------\u001b[0m",
      "\u001b[1;31mAttributeError\u001b[0m                            Traceback (most recent call last)",
      "\u001b[1;32m<ipython-input-97-41d7139a86a5>\u001b[0m in \u001b[0;36m<module>\u001b[1;34m\u001b[0m\n\u001b[1;32m----> 1\u001b[1;33m \u001b[0mC\u001b[0m\u001b[1;33m.\u001b[0m\u001b[0mreal\u001b[0m\u001b[1;33m\u001b[0m\u001b[1;33m\u001b[0m\u001b[0m\n\u001b[0m",
      "\u001b[1;31mAttributeError\u001b[0m: 'MutableDenseMatrix' object has no attribute 'real'"
     ]
    }
   ],
   "source": [
    "C"
   ]
  },
  {
   "cell_type": "code",
   "execution_count": 98,
   "id": "84f786fb",
   "metadata": {
    "scrolled": true
   },
   "outputs": [
    {
     "ename": "AttributeError",
     "evalue": "'Add' object has no attribute 'real'",
     "output_type": "error",
     "traceback": [
      "\u001b[1;31m---------------------------------------------------------------------------\u001b[0m",
      "\u001b[1;31mAttributeError\u001b[0m                            Traceback (most recent call last)",
      "\u001b[1;32m<ipython-input-98-7370e2b12f97>\u001b[0m in \u001b[0;36m<module>\u001b[1;34m\u001b[0m\n\u001b[1;32m----> 1\u001b[1;33m \u001b[0mprint\u001b[0m\u001b[1;33m(\u001b[0m\u001b[0mC\u001b[0m\u001b[1;33m[\u001b[0m\u001b[1;36m0\u001b[0m\u001b[1;33m,\u001b[0m\u001b[1;36m3\u001b[0m\u001b[1;33m]\u001b[0m\u001b[1;33m.\u001b[0m\u001b[0mreal\u001b[0m\u001b[1;33m.\u001b[0m\u001b[0mexpand\u001b[0m\u001b[1;33m(\u001b[0m\u001b[1;33m)\u001b[0m\u001b[1;33m.\u001b[0m\u001b[0mimag\u001b[0m\u001b[1;33m(\u001b[0m\u001b[1;33m)\u001b[0m\u001b[1;33m)\u001b[0m\u001b[1;33m\u001b[0m\u001b[1;33m\u001b[0m\u001b[0m\n\u001b[0m",
      "\u001b[1;31mAttributeError\u001b[0m: 'Add' object has no attribute 'real'"
     ]
    }
   ],
   "source": [
    "\n",
    "print(C[0,3].real.expand().imag())"
   ]
  },
  {
   "cell_type": "code",
   "execution_count": 126,
   "id": "3e671ecc",
   "metadata": {},
   "outputs": [
    {
     "name": "stdout",
     "output_type": "stream",
     "text": [
      "a1*a2*d2 - a1*b2*d2 - a1*f2*k2 - a1*g2*l2 - 3*a1*h2*m2 - 3*a1*j2*n2 - a2**2*d1 - a2*b1*d2 + 2*a2*b2*d1 + 2*a2*f1*k2 - a2*f2*k1 + 2*a2*g1*l2 - a2*g2*l1 + 3*a2*h1*m2 + 3*a2*j1*n2 + b1*b2*d2 - b1*f2*k2 - b1*g2*l2 - 3*b1*h2*m2 - 3*b1*j2*n2 - b2**2*d1 - b2*f1*k2 + 2*b2*f2*k1 - b2*g1*l2 + 2*b2*g2*l1 + 3*b2*h2*m1 + 3*b2*j2*n1 + 2*c1*f2*k2 + 2*c1*g2*l2 - 2*c1*h2*m2 - 2*c1*j2*n2 - c2*f1*k2 - c2*f2*k1 - c2*g1*l2 - c2*g2*l1 + c2*h1*m2 + c2*h2*m1 + c2*j1*n2 + c2*j2*n1 - 4*d1*e2**2 - d1*f2**2 - d1*g2**2 - d1*h2**2 - d1*j2**2 - d1*k2**2 - d1*l2**2 - d1*m2**2 - d1*n2**2 + 4*d2*e1*e2 + d2*f1*f2 + d2*g1*g2 + d2*h1*h2 + d2*j1*j2 + d2*k1*k2 + d2*l1*l2 + d2*m1*m2 + d2*n1*n2 - 3*e2*f1*g2 + 3*e2*f2*g1 - 3*e2*h1*j2 + 3*e2*h2*j1 + 3*e2*k1*l2 - 3*e2*k2*l1 + 3*e2*m1*n2 - 3*e2*m2*n1 - f1*m2*o2 - f1*n2*p2 - f2*m1*o2 + 2*f2*m2*o1 - f2*n1*p2 + 2*f2*n2*p1 + g1*m2*p2 - g1*n2*o2 + g2*m1*p2 - 2*g2*m2*p1 - g2*n1*o2 + 2*g2*n2*o1 - h1*k2*o2 + h1*l2*p2 - h2*k1*o2 + 2*h2*k2*o1 + h2*l1*p2 - 2*h2*l2*p1 - j1*k2*p2 - j1*l2*o2 - j2*k1*p2 + 2*j2*k2*p1 - j2*l1*o2 + 2*j2*l2*o1\n"
     ]
    }
   ],
   "source": [
    "print((C[0,1].expand()+C[1,0].expand())/(2))"
   ]
  },
  {
   "cell_type": "code",
   "execution_count": 125,
   "id": "fc1b703d",
   "metadata": {},
   "outputs": [
    {
     "name": "stdout",
     "output_type": "stream",
     "text": [
      "a1*a2*p2 + a1*b2*p2 + 2*a1*c2*p2 + 3*a1*f2*j2 - 3*a1*g2*h2 + a1*k2*n2 - a1*l2*m2 - a2**2*p1 + a2*b1*p2 - 2*a2*b2*p1 + 2*a2*c1*p2 - 4*a2*c2*p1 - 3*a2*f2*j1 + 3*a2*g2*h1 + a2*k1*n2 - 2*a2*k2*n1 - a2*l1*m2 + 2*a2*l2*m1 + b1*b2*p2 + 2*b1*c2*p2 + b1*f2*j2 - b1*g2*h2 + 3*b1*k2*n2 - 3*b1*l2*m2 - b2**2*p1 + 2*b2*c1*p2 - 4*b2*c2*p1 + b2*f1*j2 - 2*b2*f2*j1 - b2*g1*h2 + 2*b2*g2*h1 - 3*b2*k2*n1 + 3*b2*l2*m1 + 4*c1*c2*p2 - 4*c2**2*p1 + 3*c2*f1*j2 - 3*c2*f2*j1 - 3*c2*g1*h2 + 3*c2*g2*h1 + 3*c2*k1*n2 - 3*c2*k2*n1 - 3*c2*l1*m2 + 3*c2*l2*m1 + 2*d1*f2*n2 - 2*d1*g2*m2 - 2*d1*h2*l2 + 2*d1*j2*k2 - d2*f1*n2 - d2*f2*n1 + d2*g1*m2 + d2*g2*m1 + d2*h1*l2 + d2*h2*l1 - d2*j1*k2 - d2*j2*k1 + 2*e1*f2*m2 + 2*e1*g2*n2 - 2*e1*h2*k2 - 2*e1*j2*l2 - e2*f1*m2 - e2*f2*m1 - e2*g1*n2 - e2*g2*n1 + e2*h1*k2 + e2*h2*k1 + e2*j1*l2 + e2*j2*l1 + f1*f2*p2 - 3*f1*g2*o2 - f2**2*p1 + 3*f2*g1*o2 + g1*g2*p2 - g2**2*p1 + h1*h2*p2 + 3*h1*j2*o2 - h2**2*p1 - 3*h2*j1*o2 + j1*j2*p2 - j2**2*p1 + k1*k2*p2 - 3*k1*l2*o2 - k2**2*p1 + 3*k2*l1*o2 + l1*l2*p2 - l2**2*p1 + m1*m2*p2 + 3*m1*n2*o2 - m2**2*p1 - 3*m2*n1*o2 + n1*n2*p2 - n2**2*p1 + 4*o1*o2*p2 - 4*o2**2*p1\n"
     ]
    }
   ],
   "source": [
    "print(((C[2,3].expand()-C[3,2].expand())/(I*2)).expand())"
   ]
  },
  {
   "cell_type": "code",
   "execution_count": 106,
   "id": "bd61fefc",
   "metadata": {},
   "outputs": [
    {
     "name": "stdout",
     "output_type": "stream",
     "text": [
      "2*a1*a2*d2 - 2*a1*b2*d2 - 2*a1*f2*k2 - 2*a1*g2*l2 - 6*a1*h2*m2 - 6*a1*j2*n2 - 2*a2**2*d1 - 2*a2*b1*d2 + 4*a2*b2*d1 + 4*a2*f1*k2 - 2*a2*f2*k1 + 4*a2*g1*l2 - 2*a2*g2*l1 + 6*a2*h1*m2 + 6*a2*j1*n2 + 2*b1*b2*d2 - 2*b1*f2*k2 - 2*b1*g2*l2 - 6*b1*h2*m2 - 6*b1*j2*n2 - 2*b2**2*d1 - 2*b2*f1*k2 + 4*b2*f2*k1 - 2*b2*g1*l2 + 4*b2*g2*l1 + 6*b2*h2*m1 + 6*b2*j2*n1 + 4*c1*f2*k2 + 4*c1*g2*l2 - 4*c1*h2*m2 - 4*c1*j2*n2 - 2*c2*f1*k2 - 2*c2*f2*k1 - 2*c2*g1*l2 - 2*c2*g2*l1 + 2*c2*h1*m2 + 2*c2*h2*m1 + 2*c2*j1*n2 + 2*c2*j2*n1 - 8*d1*e2**2 - 2*d1*f2**2 - 2*d1*g2**2 - 2*d1*h2**2 - 2*d1*j2**2 - 2*d1*k2**2 - 2*d1*l2**2 - 2*d1*m2**2 - 2*d1*n2**2 + 8*d2*e1*e2 + 2*d2*f1*f2 + 2*d2*g1*g2 + 2*d2*h1*h2 + 2*d2*j1*j2 + 2*d2*k1*k2 + 2*d2*l1*l2 + 2*d2*m1*m2 + 2*d2*n1*n2 - 6*e2*f1*g2 + 6*e2*f2*g1 - 6*e2*h1*j2 + 6*e2*h2*j1 + 6*e2*k1*l2 - 6*e2*k2*l1 + 6*e2*m1*n2 - 6*e2*m2*n1 - 2*f1*m2*o2 - 2*f1*n2*p2 - 2*f2*m1*o2 + 4*f2*m2*o1 - 2*f2*n1*p2 + 4*f2*n2*p1 + 2*g1*m2*p2 - 2*g1*n2*o2 + 2*g2*m1*p2 - 4*g2*m2*p1 - 2*g2*n1*o2 + 4*g2*n2*o1 - 2*h1*k2*o2 + 2*h1*l2*p2 - 2*h2*k1*o2 + 4*h2*k2*o1 + 2*h2*l1*p2 - 4*h2*l2*p1 - 2*j1*k2*p2 - 2*j1*l2*o2 - 2*j2*k1*p2 + 4*j2*k2*p1 - 2*j2*l1*o2 + 4*j2*l2*o1\n"
     ]
    }
   ],
   "source": [
    "print(C[0,1].expand()+C[1,0].expand())"
   ]
  },
  {
   "cell_type": "code",
   "execution_count": 99,
   "id": "f51c0dd1",
   "metadata": {},
   "outputs": [
    {
     "ename": "AttributeError",
     "evalue": "'Add' object has no attribute 'real'",
     "output_type": "error",
     "traceback": [
      "\u001b[1;31m---------------------------------------------------------------------------\u001b[0m",
      "\u001b[1;31mAttributeError\u001b[0m                            Traceback (most recent call last)",
      "\u001b[1;32m<ipython-input-99-07289e9229aa>\u001b[0m in \u001b[0;36m<module>\u001b[1;34m\u001b[0m\n\u001b[1;32m----> 1\u001b[1;33m \u001b[1;33m(\u001b[0m\u001b[0mC\u001b[0m\u001b[1;33m[\u001b[0m\u001b[1;36m0\u001b[0m\u001b[1;33m,\u001b[0m\u001b[1;36m1\u001b[0m\u001b[1;33m]\u001b[0m\u001b[1;33m.\u001b[0m\u001b[0mexpand\u001b[0m\u001b[1;33m(\u001b[0m\u001b[1;33m)\u001b[0m \u001b[1;33m+\u001b[0m \u001b[0mC\u001b[0m\u001b[1;33m[\u001b[0m\u001b[1;36m1\u001b[0m\u001b[1;33m,\u001b[0m\u001b[1;36m0\u001b[0m\u001b[1;33m]\u001b[0m\u001b[1;33m.\u001b[0m\u001b[0mexpand\u001b[0m\u001b[1;33m(\u001b[0m\u001b[1;33m)\u001b[0m\u001b[1;33m)\u001b[0m\u001b[1;33m/\u001b[0m\u001b[1;36m2\u001b[0m \u001b[1;33m==\u001b[0m \u001b[0mC\u001b[0m\u001b[1;33m[\u001b[0m\u001b[1;36m0\u001b[0m\u001b[1;33m,\u001b[0m\u001b[1;36m1\u001b[0m\u001b[1;33m]\u001b[0m\u001b[1;33m.\u001b[0m\u001b[0mreal\u001b[0m\u001b[1;33m.\u001b[0m\u001b[0mexpand\u001b[0m\u001b[1;33m(\u001b[0m\u001b[1;33m)\u001b[0m\u001b[1;33m\u001b[0m\u001b[1;33m\u001b[0m\u001b[0m\n\u001b[0m",
      "\u001b[1;31mAttributeError\u001b[0m: 'Add' object has no attribute 'real'"
     ]
    }
   ],
   "source": [
    "(C[0,1].expand() + C[1,0].expand())/2 == C[0,1].real.expand()"
   ]
  },
  {
   "cell_type": "code",
   "execution_count": 32,
   "id": "19da7b03",
   "metadata": {},
   "outputs": [],
   "source": [
    "C00 = C[0,0].simplify()"
   ]
  },
  {
   "cell_type": "code",
   "execution_count": null,
   "id": "b3397028",
   "metadata": {},
   "outputs": [],
   "source": []
  },
  {
   "cell_type": "code",
   "execution_count": 67,
   "id": "1db35d48",
   "metadata": {},
   "outputs": [],
   "source": [
    "Areal = Matrix([[a1, d1],\n",
    "            [d1, -a1]]) \n",
    "\n",
    "Breal = Matrix([[a2, d2],\n",
    "            [d2, -a2]]) \n"
   ]
  },
  {
   "cell_type": "code",
   "execution_count": 68,
   "id": "7b7b9842",
   "metadata": {},
   "outputs": [],
   "source": [
    "Creal = Breal*(Areal*Breal-Breal*Areal)-(Areal*Breal-Breal*Areal)*Breal"
   ]
  },
  {
   "cell_type": "code",
   "execution_count": 74,
   "id": "bb6d40a7",
   "metadata": {},
   "outputs": [
    {
     "name": "stdout",
     "output_type": "stream",
     "text": [
      "4*d2*(-a1*d2 + a2*d1)\n",
      "-4*a1*d2**2 + 4*a2*d1*d2\n",
      "-4*d2*(a1*d2 - a2*d1)\n"
     ]
    }
   ],
   "source": [
    "print(Creal[0,0])\n",
    "print(Creal[0,0].expand())\n",
    "print(Creal[0,0].expand().factor())"
   ]
  }
 ],
 "metadata": {
  "kernelspec": {
   "display_name": "Python 3",
   "language": "python",
   "name": "python3"
  },
  "language_info": {
   "codemirror_mode": {
    "name": "ipython",
    "version": 3
   },
   "file_extension": ".py",
   "mimetype": "text/x-python",
   "name": "python",
   "nbconvert_exporter": "python",
   "pygments_lexer": "ipython3",
   "version": "3.8.8"
  }
 },
 "nbformat": 4,
 "nbformat_minor": 5
}
