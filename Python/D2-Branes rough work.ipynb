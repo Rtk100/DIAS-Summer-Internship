{
 "cells": [
  {
   "cell_type": "code",
   "execution_count": 32,
   "id": "e1f36f86",
   "metadata": {},
   "outputs": [],
   "source": [
    "from sympy import symbols, Matrix, diff, MatrixSymbol, Trace, MatMul"
   ]
  },
  {
   "cell_type": "code",
   "execution_count": 8,
   "id": "24c8cfe4",
   "metadata": {},
   "outputs": [],
   "source": [
    "# Define variables as matrices\n",
    "x = Matrix(2, 2, symbols('x_11 x_12; x_21 x_22'))\n",
    "y = Matrix(2, 2, symbols('y_11 y_12; y_21 y_22'))"
   ]
  },
  {
   "cell_type": "code",
   "execution_count": 15,
   "id": "f4c3fc2f",
   "metadata": {},
   "outputs": [
    {
     "name": "stdout",
     "output_type": "stream",
     "text": [
      "Derivative:\n"
     ]
    },
    {
     "data": {
      "text/latex": [
       "$\\displaystyle \\left[\\begin{matrix}2 x_{11}^{2} + 3 x_{11} y_{11} + 2 x_{12;} x_{21} + 3 x_{12;} y_{21} & 2 x_{11} x_{12;} + 3 x_{11} y_{12;} + 2 x_{12;} x_{22} + 3 x_{12;} y_{22}\\\\2 x_{11} x_{21} + 2 x_{21} x_{22} + 3 x_{21} y_{11} + 3 x_{22} y_{21} & 2 x_{12;} x_{21} + 3 x_{21} y_{12;} + 2 x_{22}^{2} + 3 x_{22} y_{22}\\end{matrix}\\right]$"
      ],
      "text/plain": [
       "Matrix([\n",
       "[2*x_11**2 + 3*x_11*y_11 + 2*x_12;*x_21 + 3*x_12;*y_21, 2*x_11*x_12; + 3*x_11*y_12; + 2*x_12;*x_22 + 3*x_12;*y_22],\n",
       "[2*x_11*x_21 + 2*x_21*x_22 + 3*x_21*y_11 + 3*x_22*y_21,     2*x_12;*x_21 + 3*x_21*y_12; + 2*x_22**2 + 3*x_22*y_22]])"
      ]
     },
     "execution_count": 15,
     "metadata": {},
     "output_type": "execute_result"
    }
   ],
   "source": [
    "# Define the equation\n",
    "equation = 2*x + 3*x*y\n",
    "\n",
    "# Differentiate the equation with respect to x\n",
    "derivative = diff(equation, x)\n",
    "\n",
    "# Print the result\n",
    "print(\"Derivative:\")\n",
    "\n",
    "equation"
   ]
  },
  {
   "cell_type": "code",
   "execution_count": 16,
   "id": "169c57b9",
   "metadata": {},
   "outputs": [
    {
     "data": {
      "text/latex": [
       "$\\displaystyle \\left[\\begin{matrix}\\left[\\begin{matrix}4 x_{11} + 3 y_{11} & 2 x_{12;} + 3 y_{12;}\\\\2 x_{21} & 0\\end{matrix}\\right] & \\left[\\begin{matrix}2 x_{21} + 3 y_{21} & 2 x_{11} + 2 x_{22} + 3 y_{22}\\\\0 & 2 x_{21}\\end{matrix}\\right]\\\\\\left[\\begin{matrix}2 x_{12;} & 0\\\\2 x_{11} + 2 x_{22} + 3 y_{11} & 2 x_{12;} + 3 y_{12;}\\end{matrix}\\right] & \\left[\\begin{matrix}0 & 2 x_{12;}\\\\2 x_{21} + 3 y_{21} & 4 x_{22} + 3 y_{22}\\end{matrix}\\right]\\end{matrix}\\right]$"
      ],
      "text/plain": [
       "[[[[4*x_11 + 3*y_11, 2*x_12; + 3*y_12;], [2*x_21, 0]], [[2*x_21 + 3*y_21, 2*x_11 + 2*x_22 + 3*y_22], [0, 2*x_21]]], [[[2*x_12;, 0], [2*x_11 + 2*x_22 + 3*y_11, 2*x_12; + 3*y_12;]], [[0, 2*x_12;], [2*x_21 + 3*y_21, 4*x_22 + 3*y_22]]]]"
      ]
     },
     "execution_count": 16,
     "metadata": {},
     "output_type": "execute_result"
    }
   ],
   "source": [
    "derivative"
   ]
  },
  {
   "cell_type": "code",
   "execution_count": 60,
   "id": "f39cf041",
   "metadata": {},
   "outputs": [
    {
     "ename": "SyntaxError",
     "evalue": "cannot assign to f-string expression (<ipython-input-60-1664784ffc59>, line 3)",
     "output_type": "error",
     "traceback": [
      "\u001b[1;36m  File \u001b[1;32m\"<ipython-input-60-1664784ffc59>\"\u001b[1;36m, line \u001b[1;32m3\u001b[0m\n\u001b[1;33m    f\"x{i}_dot\" = variables[i]\u001b[0m\n\u001b[1;37m    ^\u001b[0m\n\u001b[1;31mSyntaxError\u001b[0m\u001b[1;31m:\u001b[0m cannot assign to f-string expression\n"
     ]
    }
   ],
   "source": [
    "variables = [0,0,0,0,0,0,1,2,0,202]\n",
    "for i in range(9):\n",
    "    f\"x{i}_dot\" = variables[i]"
   ]
  },
  {
   "cell_type": "code",
   "execution_count": 42,
   "id": "4644f696",
   "metadata": {},
   "outputs": [],
   "source": [
    "N = 2\n",
    "\n",
    "X1_dot = MatrixSymbol(\"X1_dot\", N, N)\n",
    "X2_dot = MatrixSymbol(\"X2_dot\", N, N)\n",
    "X3_dot = MatrixSymbol(\"X3_dot\", N, N)\n",
    "X4_dot = MatrixSymbol(\"X4_dot\", N, N)\n",
    "X5_dot = MatrixSymbol(\"X5_dot\", N, N)\n",
    "X6_dot = MatrixSymbol(\"X6_dot\", N, N)\n",
    "X7_dot = MatrixSymbol(\"X7_dot\", N, N)\n",
    "X8_dot = MatrixSymbol(\"X8_dot\", N, N)\n",
    "X9_dot = MatrixSymbol(\"X9_dot\", N, N)\n",
    "\n",
    "X1 = MatrixSymbol(\"X1\", N, N)\n",
    "X2 = MatrixSymbol(\"X2\", N, N)\n",
    "X3 = MatrixSymbol(\"X3\", N, N)\n",
    "X4 = MatrixSymbol(\"X4\", N, N)\n",
    "X5 = MatrixSymbol(\"X5\", N, N)\n",
    "X6 = MatrixSymbol(\"X6\", N, N)\n",
    "X7 = MatrixSymbol(\"X7\", N, N)\n",
    "X8 = MatrixSymbol(\"X8\", N, N)\n",
    "X9 = MatrixSymbol(\"X9\", N, N)\n",
    "\n",
    "g = symbols(\"g\")"
   ]
  },
  {
   "cell_type": "code",
   "execution_count": 59,
   "id": "a9876876",
   "metadata": {},
   "outputs": [
    {
     "ename": "NameError",
     "evalue": "name 'X1_X3' is not defined",
     "output_type": "error",
     "traceback": [
      "\u001b[1;31m---------------------------------------------------------------------------\u001b[0m",
      "\u001b[1;31mNameError\u001b[0m                                 Traceback (most recent call last)",
      "\u001b[1;32m<ipython-input-59-110a271182c0>\u001b[0m in \u001b[0;36m<module>\u001b[1;34m\u001b[0m\n\u001b[0;32m      1\u001b[0m \u001b[0mX_list\u001b[0m \u001b[1;33m=\u001b[0m \u001b[1;33m[\u001b[0m\u001b[0mX1\u001b[0m\u001b[1;33m,\u001b[0m \u001b[0mX2\u001b[0m\u001b[1;33m,\u001b[0m \u001b[0mX3\u001b[0m\u001b[1;33m,\u001b[0m \u001b[0mX4\u001b[0m\u001b[1;33m,\u001b[0m \u001b[0mX5\u001b[0m\u001b[1;33m,\u001b[0m \u001b[0mX6\u001b[0m\u001b[1;33m,\u001b[0m \u001b[0mX7\u001b[0m\u001b[1;33m,\u001b[0m \u001b[0mX8\u001b[0m\u001b[1;33m,\u001b[0m \u001b[0mX9\u001b[0m\u001b[1;33m]\u001b[0m\u001b[1;33m\u001b[0m\u001b[1;33m\u001b[0m\u001b[0m\n\u001b[0;32m      2\u001b[0m \u001b[1;33m\u001b[0m\u001b[0m\n\u001b[1;32m----> 3\u001b[1;33m commutator_labels = [symbols(\"X1_X2\", X1_X3, X1_X4, X1_X2, X1_X3, X1_X4, X1_X9, X2_X3, X2_X4, X2_X5, X2_X6, X2_X7, X2_X8, X2_X9,\n\u001b[0m\u001b[0;32m      4\u001b[0m                     \u001b[0mX3_X4\u001b[0m\u001b[1;33m,\u001b[0m \u001b[0mX3_X5\u001b[0m\u001b[1;33m,\u001b[0m \u001b[0mX3_X6\u001b[0m\u001b[1;33m,\u001b[0m \u001b[0mX3_X7\u001b[0m\u001b[1;33m,\u001b[0m \u001b[0mX3_X8\u001b[0m\u001b[1;33m,\u001b[0m \u001b[0mX3_X9\u001b[0m\u001b[1;33m,\u001b[0m \u001b[0mX4_X5\u001b[0m\u001b[1;33m,\u001b[0m \u001b[0mX4_X6\u001b[0m\u001b[1;33m,\u001b[0m \u001b[0mX4_X7\u001b[0m\u001b[1;33m,\u001b[0m \u001b[0mX4_X8\u001b[0m\u001b[1;33m,\u001b[0m \u001b[0mX4_X9\u001b[0m\u001b[1;33m,\u001b[0m\u001b[1;33m\u001b[0m\u001b[1;33m\u001b[0m\u001b[0m\n\u001b[0;32m      5\u001b[0m                     X5_X6, X5_X7, X5_X8, X5_X9, X6_X7, X6_X8, X6_X9, X7_X8, X7_X9, X8_X9)]\n",
      "\u001b[1;31mNameError\u001b[0m: name 'X1_X3' is not defined"
     ]
    }
   ],
   "source": [
    "X_list = [X1, X2, X3, X4, X5, X6, X7, X8, X9]\n",
    "\n",
    "commutator_labels = []"
   ]
  },
  {
   "cell_type": "code",
   "execution_count": 45,
   "id": "65bb3c2d",
   "metadata": {},
   "outputs": [],
   "source": [
    "Com_X1_X2 = MatMul(X1,X2) - MatMul(X2,X1)\n",
    "Com_X1_X3 = MatMul(X1,X3) - MatMul(X3,X1)\n",
    "Com_X1_X4 = MatMul(X1,X4) - MatMul(X4,X1)\n",
    "Com_X1_X5 = MatMul(X1,X5) - MatMul(X5,X1)\n",
    "Com_X1_X6 = MatMul(X1,X6) - MatMul(X6,X1)\n",
    "Com_X1_X7 = MatMul(X1,X7) - MatMul(X7,X1)\n",
    "Com_X1_X8 = MatMul(X1,X8) - MatMul(X8,X1)\n",
    "Com_X1_X9 = MatMul(X1,X9) - MatMul(X9,X1)\n",
    "\n",
    "Com_X2_X3 = MatMul(X2,X3) - MatMul(X3,X2)\n",
    "Com_X2_X4 = MatMul(X2,X4) - MatMul(X4,X2)\n",
    "Com_X2_X5 = MatMul(X2,X5) - MatMul(X5,X2)\n",
    "Com_X2_X6 = MatMul(X2,X6) - MatMul(X6,X2)\n",
    "Com_X2_X7 = MatMul(X2,X7) - MatMul(X7,X2)\n",
    "Com_X2_X8 = MatMul(X2,X8) - MatMul(X8,X2)\n",
    "Com_X2_X9 = MatMul(X2,X9) - MatMul(X9,X2)\n",
    "\n",
    "Com_X3_X4 = MatMul(X3,X4) - MatMul(X4,X3)\n",
    "Com_X3_X5 = MatMul(X3,X5) - MatMul(X5,X3)\n",
    "Com_X3_X6 = MatMul(X3,X6) - MatMul(X6,X3)\n",
    "Com_X3_X7 = MatMul(X3,X7) - MatMul(X7,X3)\n",
    "Com_X3_X8 = MatMul(X3,X8) - MatMul(X8,X3)\n",
    "Com_X3_X9 = MatMul(X3,X9) - MatMul(X9,X3)\n",
    "\n",
    "Com_X4_X5 = MatMul(X4,X5) - MatMul(X5,X4)\n",
    "Com_X4_X6 = MatMul(X4,X6) - MatMul(X6,X4)\n",
    "Com_X4_X7 = MatMul(X4,X7) - MatMul(X7,X4)\n",
    "Com_X4_X8 = MatMul(X4,X8) - MatMul(X8,X4)\n",
    "Com_X4_X9 = MatMul(X4,X9) - MatMul(X9,X4)\n",
    "\n",
    "Com_X5_X6 = MatMul(X5,X6) - MatMul(X6,X5)\n",
    "Com_X5_X7 = MatMul(X5,X7) - MatMul(X7,X5)\n",
    "Com_X5_X8 = MatMul(X5,X8) - MatMul(X8,X5)\n",
    "Com_X5_X9 = MatMul(X5,X9) - MatMul(X9,X5)\n",
    "\n",
    "Com_X6_X7 = MatMul(X6,X7) - MatMul(X7,X6)\n",
    "Com_X6_X8 = MatMul(X6,X8) - MatMul(X8,X6)\n",
    "Com_X6_X9 = MatMul(X6,X9) - MatMul(X9,X6)\n",
    "\n",
    "Com_X7_X8 = MatMul(X7,X8) - MatMul(X8,X7)\n",
    "Com_X7_X9 = MatMul(X7,X9) - MatMul(X9,X7)\n",
    "\n",
    "Com_X8_X9 = MatMul(X8,X9) - MatMul(X9,X8)"
   ]
  },
  {
   "cell_type": "code",
   "execution_count": 64,
   "id": "7eb2b3a0",
   "metadata": {},
   "outputs": [],
   "source": [
    "commutators = [Com_X1_X2,Com_X1_X3,Com_X1_X4,Com_X1_X5 ,Com_X1_X6,Com_X1_X7 ,Com_X1_X8 ,Com_X1_X9 ,Com_X2_X3,Com_X2_X4,Com_X2_X5,Com_X2_X6 ,Com_X2_X7,Com_X2_X8,Com_X2_X9 ,Com_X3_X4,Com_X3_X5,Com_X3_X6,Com_X3_X7,Com_X3_X8,Com_X3_X9,Com_X4_X5,Com_X4_X6,Com_X4_X7,Com_X4_X8,Com_X4_X9,Com_X5_X6,Com_X5_X7,Com_X5_X8,Com_X5_X9,Com_X6_X7,Com_X6_X8,Com_X6_X9,Com_X7_X8,Com_X7_X9,Com_X8_X9]"
   ]
  },
  {
   "cell_type": "code",
   "execution_count": 66,
   "id": "e6cda6d4",
   "metadata": {},
   "outputs": [],
   "source": [
    "K = 1/2*(Trace(MatMul(X1_dot,X1_dot)) + Trace(MatMul(X2_dot,X2_dot)) + Trace(MatMul(X3_dot,X3_dot)) + \n",
    "         Trace(MatMul(X4_dot,X4_dot)) + Trace(MatMul(X5_dot,X5_dot)) + Trace(MatMul(X6_dot,X6_dot)) +\n",
    "         Trace(MatMul(X7_dot,X7_dot)) + Trace(MatMul(X8_dot,X8_dot)) + Trace(MatMul(X9_dot,X9_dot)))\n",
    "\n",
    "Sum = 0\n",
    "for el in commutators:\n",
    "    Sum += Trace(MatMul( el, el))\n",
    "V =-g*g/2*(Sum)"
   ]
  },
  {
   "cell_type": "code",
   "execution_count": 81,
   "id": "02a855cf",
   "metadata": {},
   "outputs": [],
   "source": [
    "L = K - V\n",
    "L_no_g = L/(g*g)"
   ]
  },
  {
   "cell_type": "code",
   "execution_count": 85,
   "id": "02b46536",
   "metadata": {},
   "outputs": [
    {
     "data": {
      "text/latex": [
       "$\\displaystyle X_{1 dot}$"
      ],
      "text/plain": [
       "X1_dot"
      ]
     },
     "execution_count": 85,
     "metadata": {},
     "output_type": "execute_result"
    }
   ],
   "source": [
    "L.diff(X1_dot).expand().simplify().T"
   ]
  }
 ],
 "metadata": {
  "kernelspec": {
   "display_name": "Python 3",
   "language": "python",
   "name": "python3"
  },
  "language_info": {
   "codemirror_mode": {
    "name": "ipython",
    "version": 3
   },
   "file_extension": ".py",
   "mimetype": "text/x-python",
   "name": "python",
   "nbconvert_exporter": "python",
   "pygments_lexer": "ipython3",
   "version": "3.8.8"
  }
 },
 "nbformat": 4,
 "nbformat_minor": 5
}
