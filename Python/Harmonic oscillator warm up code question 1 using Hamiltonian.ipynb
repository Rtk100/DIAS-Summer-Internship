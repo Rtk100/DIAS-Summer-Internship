{
 "cells": [
  {
   "cell_type": "code",
   "execution_count": 5,
   "id": "3c1bc7d2",
   "metadata": {},
   "outputs": [],
   "source": [
    "import numpy as np\n",
    "import matplotlib.pyplot as plt\n",
    "import pandas as pd\n",
    "from pandas import DataFrame as DF"
   ]
  },
  {
   "cell_type": "markdown",
   "id": "3778630e",
   "metadata": {},
   "source": [
    "Since m = 1, p = v\n",
    "Then Hamilton's canonical equations for the harmonic oscillator are defined as follows.\n",
    "\n",
    "$\\frac{dx}{dt} = v = \\frac{\\partial H}{\\partial p}$\n",
    "\n",
    "$\\frac{dp}{dt} = a = -\\frac{\\partial H}{\\partial x}$\n"
   ]
  },
  {
   "cell_type": "code",
   "execution_count": null,
   "id": "027cc3be",
   "metadata": {},
   "outputs": [],
   "source": []
  },
  {
   "cell_type": "code",
   "execution_count": 6,
   "id": "a520775a",
   "metadata": {},
   "outputs": [],
   "source": [
    "#Define constants\n",
    "m = 1\n",
    "k = 1\n"
   ]
  },
  {
   "cell_type": "code",
   "execution_count": null,
   "id": "de94e684",
   "metadata": {},
   "outputs": [],
   "source": []
  },
  {
   "cell_type": "markdown",
   "id": "58b05ff5",
   "metadata": {},
   "source": [
    "Simulation code"
   ]
  },
  {
   "cell_type": "code",
   "execution_count": 7,
   "id": "0422b37b",
   "metadata": {},
   "outputs": [],
   "source": [
    "def simulation(x, p):\n",
    "    global labels\n",
    "    labels = [\"x\", \"p\", \"p_dot\"]\n",
    "    \n",
    "    p_dot = -k*x\n",
    "    # a) set initial conditions\n",
    "    old_coords = [x, p, p_dot]\n",
    "    \n",
    "    # Coordinates list to record simulation dynamics\n",
    "    global coordinates_list \n",
    "    coordinates_list = [[x], [p], [p_dot]]\n",
    "    \n",
    "     # Define number of steps between measurement recordings\n",
    "    record_steps = 10\n",
    "    \n",
    "    # Timestep\n",
    "    delta_t = (0.0001)\n",
    "    \n",
    "    simulation_repetitions = 1000000\n",
    "    \n",
    "    i = 0\n",
    "\n",
    "    # Repeating algorithm\n",
    "    while i < simulation_repetitions:\n",
    "            \n",
    "        x_old = old_coords[0]\n",
    "        p_old = old_coords[1]\n",
    "        p_dot_old = old_coords[2]\n",
    "        \n",
    "        # b) Define new position of the simulated particle (x_new)\n",
    "        x_new = x_old + p_old * delta_t + 1/2 * p_dot_old * delta_t**2 # Velocity Verlet algorithm 1.\n",
    "\n",
    "        # c) Use Hamiltonian canonical equations to get new p_dot value\n",
    "        p_dot_new = - k * x_new\n",
    "\n",
    "        # d) Use Velocity Verlet 2 to get new momentum\n",
    "        p_new = p_old + 1/2 * (p_dot_new + p_dot_old) * delta_t # Velocity Verlet alogorithm 2.    \n",
    "        \n",
    "        new_coordinates = [x_new, p_new, p_dot_new]\n",
    "\n",
    "        # Recording position, momentum, and rate of change of momentum every 10th step\n",
    "        if i % record_steps == 0:\n",
    "            h = 0\n",
    "\n",
    "            while h < len(coordinates_list):\n",
    "                coordinates_list[h].append(new_coordinates[h])\n",
    "                #coordinates_list[h] = np.append(coordinates_list[h], new_coordinates[h])\n",
    "                h += 1\n",
    "                \n",
    "                \n",
    "        # Update new coordinates\n",
    "\n",
    "        old_coords = new_coordinates\n",
    "\n",
    "        i += 1\n",
    "    \n",
    "    times = np.arange(0,simulation_repetitions*delta_t + delta_t*record_steps, delta_t*record_steps)\n",
    "    \n",
    "    coords_dict = {\"times\" : times, labels[0] : coordinates_list[0], labels[0] : coordinates_list[0], \n",
    "                  labels[1] : coordinates_list[1], labels[2] : coordinates_list[2]}\n",
    "    \n",
    "    global Coords\n",
    "    Coords = DF(coords_dict, index = coords_dict[\"times\"], columns = labels)"
   ]
  },
  {
   "cell_type": "code",
   "execution_count": 8,
   "id": "bd63665b",
   "metadata": {},
   "outputs": [
    {
     "ename": "IndexError",
     "evalue": "list index out of range",
     "output_type": "error",
     "traceback": [
      "\u001b[1;31m---------------------------------------------------------------------------\u001b[0m",
      "\u001b[1;31mIndexError\u001b[0m                                Traceback (most recent call last)",
      "\u001b[1;32m<ipython-input-8-e6b082d77598>\u001b[0m in \u001b[0;36m<module>\u001b[1;34m\u001b[0m\n\u001b[0;32m     10\u001b[0m \u001b[1;33m\u001b[0m\u001b[0m\n\u001b[0;32m     11\u001b[0m     \u001b[0mplt\u001b[0m\u001b[1;33m.\u001b[0m\u001b[0msubplot\u001b[0m\u001b[1;33m(\u001b[0m\u001b[1;36m2\u001b[0m\u001b[1;33m,\u001b[0m\u001b[1;36m3\u001b[0m\u001b[1;33m,\u001b[0m\u001b[0mi\u001b[0m\u001b[1;33m+\u001b[0m\u001b[1;36m1\u001b[0m\u001b[1;33m)\u001b[0m\u001b[1;33m\u001b[0m\u001b[1;33m\u001b[0m\u001b[0m\n\u001b[1;32m---> 12\u001b[1;33m     \u001b[0mplt\u001b[0m\u001b[1;33m.\u001b[0m\u001b[0mplot\u001b[0m\u001b[1;33m(\u001b[0m\u001b[0mCoords\u001b[0m\u001b[1;33m[\u001b[0m\u001b[0mlabels\u001b[0m\u001b[1;33m[\u001b[0m\u001b[0mi\u001b[0m\u001b[1;33m]\u001b[0m\u001b[1;33m]\u001b[0m\u001b[1;33m,\u001b[0m\u001b[0mCoords\u001b[0m\u001b[1;33m[\u001b[0m\u001b[0mlabels\u001b[0m\u001b[1;33m[\u001b[0m\u001b[0mi\u001b[0m\u001b[1;33m+\u001b[0m\u001b[1;36m1\u001b[0m\u001b[1;33m]\u001b[0m\u001b[1;33m]\u001b[0m\u001b[1;33m,\u001b[0m \u001b[1;34m\"o\"\u001b[0m\u001b[1;33m)\u001b[0m\u001b[1;33m\u001b[0m\u001b[1;33m\u001b[0m\u001b[0m\n\u001b[0m\u001b[0;32m     13\u001b[0m     \u001b[0mplt\u001b[0m\u001b[1;33m.\u001b[0m\u001b[0mtitle\u001b[0m\u001b[1;33m(\u001b[0m\u001b[1;34mf\"{label[i]}\"\u001b[0m\u001b[1;33m)\u001b[0m\u001b[1;33m\u001b[0m\u001b[1;33m\u001b[0m\u001b[0m\n\u001b[0;32m     14\u001b[0m     \u001b[0mi\u001b[0m \u001b[1;33m+=\u001b[0m \u001b[1;36m1\u001b[0m\u001b[1;33m\u001b[0m\u001b[1;33m\u001b[0m\u001b[0m\n",
      "\u001b[1;31mIndexError\u001b[0m: list index out of range"
     ]
    },
    {
     "data": {
      "image/png": "[encoded data removed]",
      "text/plain": [
       "<Figure size 1080x1080 with 3 Axes>"
      ]
     },
     "metadata": {
      "needs_background": "light"
     },
     "output_type": "display_data"
    }
   ],
   "source": [
    "list = [0.01, 1, 10, 100, 500, 1000]\n",
    "label = [\"x_0 = 0.01\", \"x_0 = 1\",\"x_0 = 10\", \"x_0 = 100\", \"x_0 = 500\", \"x_0 = 1000\"]\n",
    "\n",
    "plt.figure(figsize = (15,15))\n",
    "\n",
    "i = 0\n",
    "while i < 6:\n",
    "    #simulation(x, p, p_dot)\n",
    "    simulation(list[i], 0)\n",
    "    \n",
    "    plt.subplot(2,3,i+1)\n",
    "    plt.plot(Coords[labels[i]],Coords[labels[i+1]], \"o\")    \n",
    "    plt.title(f\"{label[i]}\")\n",
    "    i += 1\n",
    "    \n"
   ]
  },
  {
   "cell_type": "code",
   "execution_count": 9,
   "id": "1ba63905",
   "metadata": {},
   "outputs": [
    {
     "ename": "AttributeError",
     "evalue": "'DataFrame' object has no attribute 'label'",
     "output_type": "error",
     "traceback": [
      "\u001b[1;31m---------------------------------------------------------------------------\u001b[0m",
      "\u001b[1;31mAttributeError\u001b[0m                            Traceback (most recent call last)",
      "\u001b[1;32m<ipython-input-9-c26dc98e356b>\u001b[0m in \u001b[0;36m<module>\u001b[1;34m\u001b[0m\n\u001b[1;32m----> 1\u001b[1;33m \u001b[0mCoords\u001b[0m\u001b[1;33m.\u001b[0m\u001b[0mlabel\u001b[0m\u001b[1;33m\u001b[0m\u001b[1;33m\u001b[0m\u001b[0m\n\u001b[0m",
      "\u001b[1;32m~\\anaconda3\\lib\\site-packages\\pandas\\core\\generic.py\u001b[0m in \u001b[0;36m__getattr__\u001b[1;34m(self, name)\u001b[0m\n\u001b[0;32m   5463\u001b[0m             \u001b[1;32mif\u001b[0m \u001b[0mself\u001b[0m\u001b[1;33m.\u001b[0m\u001b[0m_info_axis\u001b[0m\u001b[1;33m.\u001b[0m\u001b[0m_can_hold_identifiers_and_holds_name\u001b[0m\u001b[1;33m(\u001b[0m\u001b[0mname\u001b[0m\u001b[1;33m)\u001b[0m\u001b[1;33m:\u001b[0m\u001b[1;33m\u001b[0m\u001b[1;33m\u001b[0m\u001b[0m\n\u001b[0;32m   5464\u001b[0m                 \u001b[1;32mreturn\u001b[0m \u001b[0mself\u001b[0m\u001b[1;33m[\u001b[0m\u001b[0mname\u001b[0m\u001b[1;33m]\u001b[0m\u001b[1;33m\u001b[0m\u001b[1;33m\u001b[0m\u001b[0m\n\u001b[1;32m-> 5465\u001b[1;33m             \u001b[1;32mreturn\u001b[0m \u001b[0mobject\u001b[0m\u001b[1;33m.\u001b[0m\u001b[0m__getattribute__\u001b[0m\u001b[1;33m(\u001b[0m\u001b[0mself\u001b[0m\u001b[1;33m,\u001b[0m \u001b[0mname\u001b[0m\u001b[1;33m)\u001b[0m\u001b[1;33m\u001b[0m\u001b[1;33m\u001b[0m\u001b[0m\n\u001b[0m\u001b[0;32m   5466\u001b[0m \u001b[1;33m\u001b[0m\u001b[0m\n\u001b[0;32m   5467\u001b[0m     \u001b[1;32mdef\u001b[0m \u001b[0m__setattr__\u001b[0m\u001b[1;33m(\u001b[0m\u001b[0mself\u001b[0m\u001b[1;33m,\u001b[0m \u001b[0mname\u001b[0m\u001b[1;33m:\u001b[0m \u001b[0mstr\u001b[0m\u001b[1;33m,\u001b[0m \u001b[0mvalue\u001b[0m\u001b[1;33m)\u001b[0m \u001b[1;33m->\u001b[0m \u001b[1;32mNone\u001b[0m\u001b[1;33m:\u001b[0m\u001b[1;33m\u001b[0m\u001b[1;33m\u001b[0m\u001b[0m\n",
      "\u001b[1;31mAttributeError\u001b[0m: 'DataFrame' object has no attribute 'label'"
     ]
    }
   ],
   "source": [
    "Coords.label"
   ]
  },
  {
   "cell_type": "code",
   "execution_count": 10,
   "id": "247c4fa8",
   "metadata": {},
   "outputs": [
    {
     "data": {
      "text/plain": [
       "(array([     0,      1,      2, ...,  99998,  99999, 100000], dtype=int64),)"
      ]
     },
     "execution_count": 10,
     "metadata": {},
     "output_type": "execute_result"
    }
   ],
   "source": [
    "def H_1(x,p):\n",
    "    return p**2/(2*m) + 1/2 * k * x**2\n",
    "\n",
    "F = H_1(Coords[\"x\"].values, Coords[\"p\"].values)\n",
    "G = np.isclose(F, 0.00005, atol = 0.0000000001)\n",
    "np.where(G == False)"
   ]
  },
  {
   "cell_type": "code",
   "execution_count": 11,
   "id": "9010d6e8",
   "metadata": {},
   "outputs": [
    {
     "data": {
      "text/html": [
       "<div>\n",
       "<style scoped>\n",
       "    .dataframe tbody tr th:only-of-type {\n",
       "        vertical-align: middle;\n",
       "    }\n",
       "\n",
       "    .dataframe tbody tr th {\n",
       "        vertical-align: top;\n",
       "    }\n",
       "\n",
       "    .dataframe thead th {\n",
       "        text-align: right;\n",
       "    }\n",
       "</style>\n",
       "<table border=\"1\" class=\"dataframe\">\n",
       "  <thead>\n",
       "    <tr style=\"text-align: right;\">\n",
       "      <th></th>\n",
       "      <th>x</th>\n",
       "      <th>p</th>\n",
       "      <th>p_dot</th>\n",
       "    </tr>\n",
       "  </thead>\n",
       "  <tbody>\n",
       "    <tr>\n",
       "      <th>0.000</th>\n",
       "      <td>10.000000</td>\n",
       "      <td>0.000000</td>\n",
       "      <td>-10.000000</td>\n",
       "    </tr>\n",
       "    <tr>\n",
       "      <th>0.001</th>\n",
       "      <td>10.000000</td>\n",
       "      <td>-0.001000</td>\n",
       "      <td>-10.000000</td>\n",
       "    </tr>\n",
       "    <tr>\n",
       "      <th>0.002</th>\n",
       "      <td>9.999994</td>\n",
       "      <td>-0.011000</td>\n",
       "      <td>-9.999994</td>\n",
       "    </tr>\n",
       "    <tr>\n",
       "      <th>0.003</th>\n",
       "      <td>9.999978</td>\n",
       "      <td>-0.021000</td>\n",
       "      <td>-9.999978</td>\n",
       "    </tr>\n",
       "    <tr>\n",
       "      <th>0.004</th>\n",
       "      <td>9.999952</td>\n",
       "      <td>-0.031000</td>\n",
       "      <td>-9.999952</td>\n",
       "    </tr>\n",
       "    <tr>\n",
       "      <th>...</th>\n",
       "      <td>...</td>\n",
       "      <td>...</td>\n",
       "      <td>...</td>\n",
       "    </tr>\n",
       "    <tr>\n",
       "      <th>99.996</th>\n",
       "      <td>8.598274</td>\n",
       "      <td>5.105849</td>\n",
       "      <td>-8.598274</td>\n",
       "    </tr>\n",
       "    <tr>\n",
       "      <th>99.997</th>\n",
       "      <td>8.603375</td>\n",
       "      <td>5.097248</td>\n",
       "      <td>-8.603375</td>\n",
       "    </tr>\n",
       "    <tr>\n",
       "      <th>99.998</th>\n",
       "      <td>8.608468</td>\n",
       "      <td>5.088642</td>\n",
       "      <td>-8.608468</td>\n",
       "    </tr>\n",
       "    <tr>\n",
       "      <th>99.999</th>\n",
       "      <td>8.613552</td>\n",
       "      <td>5.080031</td>\n",
       "      <td>-8.613552</td>\n",
       "    </tr>\n",
       "    <tr>\n",
       "      <th>100.000</th>\n",
       "      <td>8.618628</td>\n",
       "      <td>5.071415</td>\n",
       "      <td>-8.618628</td>\n",
       "    </tr>\n",
       "  </tbody>\n",
       "</table>\n",
       "<p>100001 rows × 3 columns</p>\n",
       "</div>"
      ],
      "text/plain": [
       "                 x         p      p_dot\n",
       "0.000    10.000000  0.000000 -10.000000\n",
       "0.001    10.000000 -0.001000 -10.000000\n",
       "0.002     9.999994 -0.011000  -9.999994\n",
       "0.003     9.999978 -0.021000  -9.999978\n",
       "0.004     9.999952 -0.031000  -9.999952\n",
       "...            ...       ...        ...\n",
       "99.996    8.598274  5.105849  -8.598274\n",
       "99.997    8.603375  5.097248  -8.603375\n",
       "99.998    8.608468  5.088642  -8.608468\n",
       "99.999    8.613552  5.080031  -8.613552\n",
       "100.000   8.618628  5.071415  -8.618628\n",
       "\n",
       "[100001 rows x 3 columns]"
      ]
     },
     "execution_count": 11,
     "metadata": {},
     "output_type": "execute_result"
    }
   ],
   "source": [
    "Coords"
   ]
  },
  {
   "cell_type": "code",
   "execution_count": 12,
   "id": "9dcfc3e3",
   "metadata": {},
   "outputs": [],
   "source": [
    "simulation(10,0)"
   ]
  },
  {
   "cell_type": "code",
   "execution_count": 13,
   "id": "43f9fb19",
   "metadata": {},
   "outputs": [
    {
     "ename": "KeyError",
     "evalue": "0",
     "output_type": "error",
     "traceback": [
      "\u001b[1;31m---------------------------------------------------------------------------\u001b[0m",
      "\u001b[1;31mKeyError\u001b[0m                                  Traceback (most recent call last)",
      "\u001b[1;32m~\\anaconda3\\lib\\site-packages\\pandas\\core\\indexes\\base.py\u001b[0m in \u001b[0;36mget_loc\u001b[1;34m(self, key, method, tolerance)\u001b[0m\n\u001b[0;32m   3079\u001b[0m             \u001b[1;32mtry\u001b[0m\u001b[1;33m:\u001b[0m\u001b[1;33m\u001b[0m\u001b[1;33m\u001b[0m\u001b[0m\n\u001b[1;32m-> 3080\u001b[1;33m                 \u001b[1;32mreturn\u001b[0m \u001b[0mself\u001b[0m\u001b[1;33m.\u001b[0m\u001b[0m_engine\u001b[0m\u001b[1;33m.\u001b[0m\u001b[0mget_loc\u001b[0m\u001b[1;33m(\u001b[0m\u001b[0mcasted_key\u001b[0m\u001b[1;33m)\u001b[0m\u001b[1;33m\u001b[0m\u001b[1;33m\u001b[0m\u001b[0m\n\u001b[0m\u001b[0;32m   3081\u001b[0m             \u001b[1;32mexcept\u001b[0m \u001b[0mKeyError\u001b[0m \u001b[1;32mas\u001b[0m \u001b[0merr\u001b[0m\u001b[1;33m:\u001b[0m\u001b[1;33m\u001b[0m\u001b[1;33m\u001b[0m\u001b[0m\n",
      "\u001b[1;32mpandas\\_libs\\index.pyx\u001b[0m in \u001b[0;36mpandas._libs.index.IndexEngine.get_loc\u001b[1;34m()\u001b[0m\n",
      "\u001b[1;32mpandas\\_libs\\index.pyx\u001b[0m in \u001b[0;36mpandas._libs.index.IndexEngine.get_loc\u001b[1;34m()\u001b[0m\n",
      "\u001b[1;32mpandas\\_libs\\hashtable_class_helper.pxi\u001b[0m in \u001b[0;36mpandas._libs.hashtable.PyObjectHashTable.get_item\u001b[1;34m()\u001b[0m\n",
      "\u001b[1;32mpandas\\_libs\\hashtable_class_helper.pxi\u001b[0m in \u001b[0;36mpandas._libs.hashtable.PyObjectHashTable.get_item\u001b[1;34m()\u001b[0m\n",
      "\u001b[1;31mKeyError\u001b[0m: 0",
      "\nThe above exception was the direct cause of the following exception:\n",
      "\u001b[1;31mKeyError\u001b[0m                                  Traceback (most recent call last)",
      "\u001b[1;32m<ipython-input-13-9a3a4cd1178a>\u001b[0m in \u001b[0;36m<module>\u001b[1;34m\u001b[0m\n\u001b[1;32m----> 1\u001b[1;33m \u001b[0mCoords\u001b[0m\u001b[1;33m[\u001b[0m\u001b[1;36m0\u001b[0m\u001b[1;33m]\u001b[0m\u001b[1;33m\u001b[0m\u001b[1;33m\u001b[0m\u001b[0m\n\u001b[0m",
      "\u001b[1;32m~\\anaconda3\\lib\\site-packages\\pandas\\core\\frame.py\u001b[0m in \u001b[0;36m__getitem__\u001b[1;34m(self, key)\u001b[0m\n\u001b[0;32m   3022\u001b[0m             \u001b[1;32mif\u001b[0m \u001b[0mself\u001b[0m\u001b[1;33m.\u001b[0m\u001b[0mcolumns\u001b[0m\u001b[1;33m.\u001b[0m\u001b[0mnlevels\u001b[0m \u001b[1;33m>\u001b[0m \u001b[1;36m1\u001b[0m\u001b[1;33m:\u001b[0m\u001b[1;33m\u001b[0m\u001b[1;33m\u001b[0m\u001b[0m\n\u001b[0;32m   3023\u001b[0m                 \u001b[1;32mreturn\u001b[0m \u001b[0mself\u001b[0m\u001b[1;33m.\u001b[0m\u001b[0m_getitem_multilevel\u001b[0m\u001b[1;33m(\u001b[0m\u001b[0mkey\u001b[0m\u001b[1;33m)\u001b[0m\u001b[1;33m\u001b[0m\u001b[1;33m\u001b[0m\u001b[0m\n\u001b[1;32m-> 3024\u001b[1;33m             \u001b[0mindexer\u001b[0m \u001b[1;33m=\u001b[0m \u001b[0mself\u001b[0m\u001b[1;33m.\u001b[0m\u001b[0mcolumns\u001b[0m\u001b[1;33m.\u001b[0m\u001b[0mget_loc\u001b[0m\u001b[1;33m(\u001b[0m\u001b[0mkey\u001b[0m\u001b[1;33m)\u001b[0m\u001b[1;33m\u001b[0m\u001b[1;33m\u001b[0m\u001b[0m\n\u001b[0m\u001b[0;32m   3025\u001b[0m             \u001b[1;32mif\u001b[0m \u001b[0mis_integer\u001b[0m\u001b[1;33m(\u001b[0m\u001b[0mindexer\u001b[0m\u001b[1;33m)\u001b[0m\u001b[1;33m:\u001b[0m\u001b[1;33m\u001b[0m\u001b[1;33m\u001b[0m\u001b[0m\n\u001b[0;32m   3026\u001b[0m                 \u001b[0mindexer\u001b[0m \u001b[1;33m=\u001b[0m \u001b[1;33m[\u001b[0m\u001b[0mindexer\u001b[0m\u001b[1;33m]\u001b[0m\u001b[1;33m\u001b[0m\u001b[1;33m\u001b[0m\u001b[0m\n",
      "\u001b[1;32m~\\anaconda3\\lib\\site-packages\\pandas\\core\\indexes\\base.py\u001b[0m in \u001b[0;36mget_loc\u001b[1;34m(self, key, method, tolerance)\u001b[0m\n\u001b[0;32m   3080\u001b[0m                 \u001b[1;32mreturn\u001b[0m \u001b[0mself\u001b[0m\u001b[1;33m.\u001b[0m\u001b[0m_engine\u001b[0m\u001b[1;33m.\u001b[0m\u001b[0mget_loc\u001b[0m\u001b[1;33m(\u001b[0m\u001b[0mcasted_key\u001b[0m\u001b[1;33m)\u001b[0m\u001b[1;33m\u001b[0m\u001b[1;33m\u001b[0m\u001b[0m\n\u001b[0;32m   3081\u001b[0m             \u001b[1;32mexcept\u001b[0m \u001b[0mKeyError\u001b[0m \u001b[1;32mas\u001b[0m \u001b[0merr\u001b[0m\u001b[1;33m:\u001b[0m\u001b[1;33m\u001b[0m\u001b[1;33m\u001b[0m\u001b[0m\n\u001b[1;32m-> 3082\u001b[1;33m                 \u001b[1;32mraise\u001b[0m \u001b[0mKeyError\u001b[0m\u001b[1;33m(\u001b[0m\u001b[0mkey\u001b[0m\u001b[1;33m)\u001b[0m \u001b[1;32mfrom\u001b[0m \u001b[0merr\u001b[0m\u001b[1;33m\u001b[0m\u001b[1;33m\u001b[0m\u001b[0m\n\u001b[0m\u001b[0;32m   3083\u001b[0m \u001b[1;33m\u001b[0m\u001b[0m\n\u001b[0;32m   3084\u001b[0m         \u001b[1;32mif\u001b[0m \u001b[0mtolerance\u001b[0m \u001b[1;32mis\u001b[0m \u001b[1;32mnot\u001b[0m \u001b[1;32mNone\u001b[0m\u001b[1;33m:\u001b[0m\u001b[1;33m\u001b[0m\u001b[1;33m\u001b[0m\u001b[0m\n",
      "\u001b[1;31mKeyError\u001b[0m: 0"
     ]
    }
   ],
   "source": [
    "Coords[0]"
   ]
  },
  {
   "cell_type": "code",
   "execution_count": null,
   "id": "41431396",
   "metadata": {},
   "outputs": [],
   "source": [
    "Initial = H_1(10,0)\n",
    "G = np.isclose(H_1(Coords[\"x\"], Coords[\"p\"]), Initial, atol = 0.000000001)\n",
    "np.where(G==False)"
   ]
  },
  {
   "cell_type": "code",
   "execution_count": null,
   "id": "e0a12cab",
   "metadata": {},
   "outputs": [],
   "source": []
  }
 ],
 "metadata": {
  "kernelspec": {
   "display_name": "Python 3",
   "language": "python",
   "name": "python3"
  },
  "language_info": {
   "codemirror_mode": {
    "name": "ipython",
    "version": 3
   },
   "file_extension": ".py",
   "mimetype": "text/x-python",
   "name": "python",
   "nbconvert_exporter": "python",
   "pygments_lexer": "ipython3",
   "version": "3.8.8"
  }
 },
 "nbformat": 4,
 "nbformat_minor": 5
}
