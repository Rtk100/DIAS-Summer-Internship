{
 "cells": [
  {
   "cell_type": "code",
   "execution_count": null,
   "id": "3c1bc7d2",
   "metadata": {},
   "outputs": [],
   "source": [
    "import numpy as np\n",
    "import matplotlib.pyplot as plt\n",
    "import pandas as pd\n",
    "from pandas import DataFrame as DF"
   ]
  },
  {
   "attachments": {},
   "cell_type": "markdown",
   "id": "3778630e",
   "metadata": {},
   "source": [
    "Since m = 1, p = v\n",
    "Then Hamilton's canonical equations for the harmonic oscillator are defined as follows.\n",
    "\n",
    "$\\frac{dx}{dt} = v = \\frac{\\partial H}{\\partial p}$\n",
    "\n",
    "$\\frac{dp}{dt} = a = -\\frac{\\partial H}{\\partial x}$\n"
   ]
  },
  {
   "cell_type": "code",
   "execution_count": null,
   "id": "027cc3be",
   "metadata": {},
   "outputs": [],
   "source": []
  },
  {
   "cell_type": "code",
   "execution_count": null,
   "id": "a520775a",
   "metadata": {},
   "outputs": [],
   "source": [
    "#Define constants\n",
    "m = 1\n",
    "k = 1\n"
   ]
  },
  {
   "cell_type": "code",
   "execution_count": null,
   "id": "de94e684",
   "metadata": {},
   "outputs": [],
   "source": []
  },
  {
   "attachments": {},
   "cell_type": "markdown",
   "id": "58b05ff5",
   "metadata": {},
   "source": [
    "Simulation code"
   ]
  },
  {
   "cell_type": "code",
   "execution_count": null,
   "id": "0422b37b",
   "metadata": {},
   "outputs": [],
   "source": [
    "def simulation(x, p):\n",
    "    global labels\n",
    "    labels = [\"x\", \"p\", \"p_dot\"]\n",
    "    \n",
    "    p_dot = -k*x\n",
    "    # a) set initial conditions\n",
    "    old_coords = [x, p, p_dot]\n",
    "    \n",
    "    # Coordinates list to record simulation dynamics\n",
    "    global coordinates_list \n",
    "    coordinates_list = [[x], [p], [p_dot]]\n",
    "    \n",
    "     # Define number of steps between measurement recordings\n",
    "    record_steps = 10\n",
    "    \n",
    "    # Timestep\n",
    "    delta_t = (0.0001)\n",
    "    \n",
    "    simulation_repetitions = 1000000\n",
    "    \n",
    "    i = 0\n",
    "\n",
    "    # Repeating algorithm\n",
    "    while i < simulation_repetitions:\n",
    "            \n",
    "        x_old = old_coords[0]\n",
    "        p_old = old_coords[1]\n",
    "        p_dot_old = old_coords[2]\n",
    "        \n",
    "        # b) Define new position of the simulated particle (x_new)\n",
    "        x_new = x_old + p_old * delta_t + 1/2 * p_dot_old * delta_t**2 # Velocity Verlet algorithm 1.\n",
    "\n",
    "        # c) Use Hamiltonian canonical equations to get new p_dot value\n",
    "        p_dot_new = - k * x_new\n",
    "\n",
    "        # d) Use Velocity Verlet 2 to get new momentum\n",
    "        p_new = p_old + 1/2 * (p_dot_new + p_dot_old) * delta_t # Velocity Verlet alogorithm 2.    \n",
    "        \n",
    "        new_coordinates = [x_new, p_new, p_dot_new]\n",
    "\n",
    "        # Recording position, momentum, and rate of change of momentum every 10th step\n",
    "        if i % record_steps == 0:\n",
    "            h = 0\n",
    "\n",
    "            while h < len(coordinates_list):\n",
    "                coordinates_list[h].append(new_coordinates[h])\n",
    "                #coordinates_list[h] = np.append(coordinates_list[h], new_coordinates[h])\n",
    "                h += 1\n",
    "                \n",
    "                \n",
    "        # Update new coordinates\n",
    "\n",
    "        old_coords = new_coordinates\n",
    "\n",
    "        i += 1\n",
    "    \n",
    "    times = np.arange(0,simulation_repetitions*delta_t + delta_t*record_steps, delta_t*record_steps)\n",
    "    \n",
    "    coords_dict = {\"times\" : times, labels[0] : coordinates_list[0], labels[0] : coordinates_list[0], \n",
    "                  labels[1] : coordinates_list[1], labels[2] : coordinates_list[2]}\n",
    "    \n",
    "    global Coords\n",
    "    Coords = DF(coords_dict, index = coords_dict[\"times\"], columns = labels)"
   ]
  },
  {
   "cell_type": "code",
   "execution_count": null,
   "id": "bd63665b",
   "metadata": {},
   "outputs": [],
   "source": [
    "list = [0.01, 1, 10, 100, 500, 1000]\n",
    "label = [\"x_0 = 0.01\", \"x_0 = 1\",\"x_0 = 10\", \"x_0 = 100\", \"x_0 = 500\", \"x_0 = 1000\"]\n",
    "\n",
    "plt.figure(figsize = (15,15))\n",
    "\n",
    "i = 0\n",
    "while i < 6:\n",
    "    #simulation(x, p, p_dot)\n",
    "    simulation(list[i], 0)\n",
    "    \n",
    "    plt.subplot(2,3,i+1)\n",
    "    plt.plot(Coords[labels[i]],Coords[labels[i+1]], \"o\")    \n",
    "    plt.title(f\"{label[i]}\")\n",
    "    i += 1\n",
    "    \n"
   ]
  },
  {
   "cell_type": "code",
   "execution_count": null,
   "id": "1ba63905",
   "metadata": {},
   "outputs": [],
   "source": [
    "Coords.label"
   ]
  },
  {
   "cell_type": "code",
   "execution_count": null,
   "id": "247c4fa8",
   "metadata": {},
   "outputs": [],
   "source": [
    "def H_1(x,p):\n",
    "    return p**2/(2*m) + 1/2 * k * x**2\n",
    "\n",
    "F = H_1(Coords[\"x\"].values, Coords[\"p\"].values)\n",
    "G = np.isclose(F, 0.00005, atol = 0.0000000001)\n",
    "np.where(G == False)"
   ]
  },
  {
   "cell_type": "code",
   "execution_count": null,
   "id": "9010d6e8",
   "metadata": {},
   "outputs": [],
   "source": [
    "Coords"
   ]
  },
  {
   "cell_type": "code",
   "execution_count": null,
   "id": "9dcfc3e3",
   "metadata": {},
   "outputs": [],
   "source": [
    "simulation(10,0)"
   ]
  },
  {
   "cell_type": "code",
   "execution_count": null,
   "id": "43f9fb19",
   "metadata": {},
   "outputs": [],
   "source": [
    "Coords[0]"
   ]
  },
  {
   "cell_type": "code",
   "execution_count": null,
   "id": "41431396",
   "metadata": {},
   "outputs": [],
   "source": [
    "Initial = H_1(10,0)\n",
    "G = np.isclose(H_1(Coords[\"x\"], Coords[\"p\"]), Initial, atol = 0.000000001)\n",
    "np.where(G==False)"
   ]
  }
 ],
 "metadata": {
  "kernelspec": {
   "display_name": "Python 3",
   "language": "python",
   "name": "python3"
  },
  "language_info": {
   "codemirror_mode": {
    "name": "ipython",
    "version": 3
   },
   "file_extension": ".py",
   "mimetype": "text/x-python",
   "name": "python",
   "nbconvert_exporter": "python",
   "pygments_lexer": "ipython3",
   "version": "3.8.8"
  }
 },
 "nbformat": 4,
 "nbformat_minor": 5
}
