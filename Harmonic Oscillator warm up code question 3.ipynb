{
 "cells": [
  {
   "cell_type": "code",
   "execution_count": 1,
   "id": "8b2c2e88",
   "metadata": {},
   "outputs": [],
   "source": [
    "import numpy as np\n",
    "import matplotlib.pyplot as plt"
   ]
  },
  {
   "cell_type": "markdown",
   "id": "ff0d2e11",
   "metadata": {},
   "source": [
    "The lagrangian has a quadratic term and zero order term in terms of $\\frac{\\partial q}{\\partial t}$\n",
    "\n",
    "L = L_2 - L_0\n",
    "\n",
    "Therefore H = L_2 + L_0"
   ]
  },
  {
   "cell_type": "code",
   "execution_count": 6,
   "id": "9a960d32",
   "metadata": {
    "scrolled": true
   },
   "outputs": [
    {
     "ename": "SyntaxError",
     "evalue": "invalid syntax (<ipython-input-6-14d6a0ed2d7e>, line 2)",
     "output_type": "error",
     "traceback": [
      "\u001b[1;36m  File \u001b[1;32m\"<ipython-input-6-14d6a0ed2d7e>\"\u001b[1;36m, line \u001b[1;32m2\u001b[0m\n\u001b[1;33m    return float(f\"{x}\")j\u001b[0m\n\u001b[1;37m                        ^\u001b[0m\n\u001b[1;31mSyntaxError\u001b[0m\u001b[1;31m:\u001b[0m invalid syntax\n"
     ]
    }
   ],
   "source": [
    "def y_1(x):\n",
    "    return j"
   ]
  },
  {
   "cell_type": "code",
   "execution_count": 11,
   "id": "1a3036d3",
   "metadata": {},
   "outputs": [
    {
     "data": {
      "text/plain": [
       "(8+3j)"
      ]
     },
     "execution_count": 11,
     "metadata": {},
     "output_type": "execute_result"
    }
   ],
   "source": [
    "complex(8,3)"
   ]
  },
  {
   "cell_type": "code",
   "execution_count": 12,
   "id": "d955c37b",
   "metadata": {
    "collapsed": true
   },
   "outputs": [
    {
     "ename": "NameError",
     "evalue": "name 'x_1_dot' is not defined",
     "output_type": "error",
     "traceback": [
      "\u001b[1;31m---------------------------------------------------------------------------\u001b[0m",
      "\u001b[1;31mNameError\u001b[0m                                 Traceback (most recent call last)",
      "\u001b[1;32m<ipython-input-12-7563176096fb>\u001b[0m in \u001b[0;36m<module>\u001b[1;34m\u001b[0m\n\u001b[1;32m----> 1\u001b[1;33m \u001b[0mL_2\u001b[0m \u001b[1;33m=\u001b[0m \u001b[1;36m1\u001b[0m\u001b[1;33m/\u001b[0m\u001b[1;36m2\u001b[0m\u001b[1;33m*\u001b[0m\u001b[1;33m(\u001b[0m\u001b[0mx_1_dot\u001b[0m\u001b[1;33m**\u001b[0m\u001b[1;36m2\u001b[0m \u001b[1;33m+\u001b[0m \u001b[0my_1_dot\u001b[0m\u001b[1;33m**\u001b[0m\u001b[1;36m2\u001b[0m\u001b[1;33m)\u001b[0m \u001b[1;33m+\u001b[0m \u001b[1;36m1\u001b[0m\u001b[1;33m/\u001b[0m\u001b[1;36m2\u001b[0m\u001b[1;33m*\u001b[0m\u001b[1;33m(\u001b[0m\u001b[0mx_2_dot\u001b[0m\u001b[1;33m**\u001b[0m\u001b[1;36m2\u001b[0m \u001b[1;33m+\u001b[0m \u001b[0my_2_dot\u001b[0m\u001b[1;33m**\u001b[0m\u001b[1;36m2\u001b[0m\u001b[1;33m)\u001b[0m\u001b[1;33m\u001b[0m\u001b[1;33m\u001b[0m\u001b[0m\n\u001b[0m\u001b[0;32m      2\u001b[0m \u001b[1;33m\u001b[0m\u001b[0m\n\u001b[0;32m      3\u001b[0m L_0 =  ( -1/2 * (complex(x_1,y_1) + Lambda_1*(complex(x_2,y_2))^3 )(complex(x_1,-y_1) + Lambda_1*(complex(x_2,-y_2))^3) \n\u001b[0;32m      4\u001b[0m          -1/2 * (complex(x_2,y_2) + Lambda_2*(complex(x_1,y_1))^3 )(complex(x_2,-y_2) + Lambda_2*(complex(x_1,-y_1))^3) )\n\u001b[0;32m      5\u001b[0m \u001b[1;33m\u001b[0m\u001b[0m\n",
      "\u001b[1;31mNameError\u001b[0m: name 'x_1_dot' is not defined"
     ]
    }
   ],
   "source": [
    "L_2 = 1/2*(x_1_dot**2 + y_1_dot**2) + 1/2*(x_2_dot**2 + y_2_dot**2)\n",
    "\n",
    "L_0 =  ( -1/2 * (complex(x_1,y_1) + Lambda_1*(complex(x_2,y_2))^3 )(complex(x_1,-y_1) + Lambda_1*(complex(x_2,-y_2))^3) \n",
    "         -1/2 * (complex(x_2,y_2) + Lambda_2*(complex(x_1,y_1))^3 )(complex(x_2,-y_2) + Lambda_2*(complex(x_1,-y_1))^3) )\n",
    "\n",
    "# Define Lagrangian\n",
    "L = L_2 - L_0"
   ]
  },
  {
   "cell_type": "code",
   "execution_count": 13,
   "id": "f392431c",
   "metadata": {},
   "outputs": [
    {
     "ename": "NameError",
     "evalue": "name 'p_x_1' is not defined",
     "output_type": "error",
     "traceback": [
      "\u001b[1;31m---------------------------------------------------------------------------\u001b[0m",
      "\u001b[1;31mNameError\u001b[0m                                 Traceback (most recent call last)",
      "\u001b[1;32m<ipython-input-13-c393537787b9>\u001b[0m in \u001b[0;36m<module>\u001b[1;34m\u001b[0m\n\u001b[0;32m      1\u001b[0m \u001b[1;31m# Define Hamiltonian\u001b[0m\u001b[1;33m\u001b[0m\u001b[1;33m\u001b[0m\u001b[1;33m\u001b[0m\u001b[0m\n\u001b[1;32m----> 2\u001b[1;33m \u001b[0mH\u001b[0m \u001b[1;33m=\u001b[0m \u001b[1;36m1\u001b[0m\u001b[1;33m/\u001b[0m\u001b[1;36m2\u001b[0m\u001b[1;33m*\u001b[0m\u001b[1;33m(\u001b[0m\u001b[0mp_x_1\u001b[0m\u001b[1;33m**\u001b[0m\u001b[1;36m2\u001b[0m \u001b[1;33m+\u001b[0m \u001b[0mp_y_1\u001b[0m\u001b[1;33m**\u001b[0m\u001b[1;36m2\u001b[0m\u001b[1;33m)\u001b[0m \u001b[1;33m+\u001b[0m \u001b[1;36m1\u001b[0m\u001b[1;33m/\u001b[0m\u001b[1;36m2\u001b[0m\u001b[1;33m*\u001b[0m\u001b[1;33m(\u001b[0m\u001b[0mp_x_2\u001b[0m\u001b[1;33m**\u001b[0m\u001b[1;36m2\u001b[0m \u001b[1;33m+\u001b[0m \u001b[0mp_y_2\u001b[0m\u001b[1;33m**\u001b[0m\u001b[1;36m2\u001b[0m\u001b[1;33m)\u001b[0m \u001b[1;33m+\u001b[0m \u001b[0mL_0\u001b[0m\u001b[1;33m\u001b[0m\u001b[1;33m\u001b[0m\u001b[0m\n\u001b[0m",
      "\u001b[1;31mNameError\u001b[0m: name 'p_x_1' is not defined"
     ]
    }
   ],
   "source": [
    "# Define Hamiltonian\n",
    "H = 1/2*(p_x_1**2 + p_y_1**2) + 1/2*(p_x_2**2 + p_y_2**2) + L_0"
   ]
  },
  {
   "cell_type": "code",
   "execution_count": null,
   "id": "5c868c47",
   "metadata": {},
   "outputs": [],
   "source": []
  },
  {
   "cell_type": "code",
   "execution_count": null,
   "id": "c61e5dfc",
   "metadata": {},
   "outputs": [],
   "source": [
    "i = 0\n",
    "\n",
    "# Timestep\n",
    "delta_t = 0.005\n",
    "\n",
    "\n",
    "# Initial coordinates \n",
    "# old_coordinates = [\"x_1\", \"x_2\", \"y_1\", \"y_2\", \n",
    "                    #\"p_x_1\", \"p_x_2\", \"p_y_1\", \"p_y_2\", \n",
    "                    #\"p_x_dot_1\", \"p_x_dot_2\", \"p_y_dot_1\", \"p_y_dot_2\"]\n",
    "\n",
    "old_coordinates = [.5, .2, .3, .4,\n",
    "                   0, 0, 0, 0,\n",
    "                   0, 0, 0, 0]\n",
    "\n",
    "#Coefficients\n",
    "Lambda_1 = 0.01\n",
    "Lambda_2 = 0.015\n",
    "\n",
    "# Coordinates list to record simulation dynamics\n",
    "coordinates_list = [\"x_1\", \"x_2\", \"y_1\", \"y_2\", \n",
    "                    \"p_x_1\", \"p_x_2\", \"p_y_1\", \"p_y_2\", \n",
    "                    \"p_x_dot_1\", \"p_x_dot_2\", \"p_y_dot_1\", \"p_y_dot_2\"]\n",
    "\n",
    "# Lists for recording x and v and a.\n",
    "for el in coordinates_list:\n",
    "    el = []\n",
    "\n",
    "# Repeating algorithm\n",
    "while i < 5001:\n",
    "    # b) velocity Verlet 1 to get new positions from old positions, momentums and rate of change of momentums\n",
    "    \n",
    "    \n",
    "    # c) Use \n",
    "    \n",
    "    \n",
    "    \n",
    "    # d)\n",
    "    \n",
    "    \n",
    "    \n",
    "    \n",
    "    \n",
    "    \n",
    "    \n",
    "    \n",
    "    \n",
    "    \n",
    "    \n",
    "    \n",
    "    \n",
    "    \n",
    "    \n",
    "    new_coordinates = [x_1_new, x_2_new, y_1_new, y_2_new, \n",
    "                       p_x_1_new, p_x_2_new, p_y_1_new, p_y_2_new,\n",
    "                       p_x_dot_1_new, p_x_dot_2_new, p_y_dot_1_new, p_y_dot_2_new]\n",
    "    \n",
    "    # Recording position, momentum, and rate of change of momentum every 10th step\n",
    "    if i % 10 == 0:\n",
    "        \n",
    "        h = 0\n",
    "        \n",
    "        while h < len(coordinates_list):\n",
    "            coordinates_list[h] = coordinates_list[h].append(new_coordinates[h])\n",
    "            h += 1\n",
    "            \n",
    "        #recorded_x_1 = recorded_x_1.append(x_1_new)\n",
    "        #recorded_p_x_1 = recorded_p_x_1.append(p_x_1_new)\n",
    "        #recorded_p_x_dot_1 = recorded_p_x_dot_1.append(p_x_dot_1_new)\n",
    "\n",
    "        #recorded_y_1 = recorded_y_1.append(y_1_new)\n",
    "        #recorded_p_y_1 = recorded_p_y_1.append(p_y_1_new)\n",
    "        #recorded_p_y_dot_1 = recorded_p_y_dot_1.append(p_y_dot_1_new)\n",
    "\n",
    "        #recorded_x_2 = recorded_x_2.append(x_2_new)\n",
    "        #recorded_p_x_2 = recorded_p_x_2.append(p_x_2_new)\n",
    "        #recorded_p_x_dot_2 = recorded_p_x_dot_2.append(p_x_dot_2_new)\n",
    "\n",
    "        #recorded_y_2 = recorded_y_2.append(y_2_new)\n",
    "        #recorded_p_y_2 = recorded_p_y_2.append(p_y_2_new)\n",
    "        #recorded_p_y_dot_2 = recorded_p_y_dot_2.append(p_y_dot_2_new)\n",
    "        \n",
    "    # Update new coordinates\n",
    "    \n",
    "    old_coordinates = new_coordinates\n",
    "    #x_1_old = x_1_new\n",
    "    #y_1_old = y_1_new\n",
    "    #x_2_old = x_2_new\n",
    "    #y_2_old = y_2_new\n",
    "    \n",
    "    #p_x_1_old = p_x_1_new\n",
    "    #p_y_1_old = p_y_1_new\n",
    "    #p_x_2_old = p_x_2_new\n",
    "    #p_y_2_old = p_y_2_new\n",
    "\n",
    "    #p_x_1_dot_old = p_x_1_dot_new\n",
    "    #p_y_1_dot_old = p_y_1_dot_new\n",
    "    #p_x_2_dot_old = p_x_2_dot_new\n",
    "    #p_y_2_dot_old = p_y_2_dot_new\n",
    "\n",
    "    i += 1"
   ]
  }
 ],
 "metadata": {
  "kernelspec": {
   "display_name": "Python 3",
   "language": "python",
   "name": "python3"
  },
  "language_info": {
   "codemirror_mode": {
    "name": "ipython",
    "version": 3
   },
   "file_extension": ".py",
   "mimetype": "text/x-python",
   "name": "python",
   "nbconvert_exporter": "python",
   "pygments_lexer": "ipython3",
   "version": "3.8.8"
  }
 },
 "nbformat": 4,
 "nbformat_minor": 5
}
