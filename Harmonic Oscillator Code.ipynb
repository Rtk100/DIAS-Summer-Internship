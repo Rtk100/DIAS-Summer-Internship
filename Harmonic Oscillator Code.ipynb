{
 "cells": [
  {
   "cell_type": "code",
   "execution_count": 3,
   "id": "9936d8cd",
   "metadata": {},
   "outputs": [],
   "source": [
    "import numpy as np\n",
    "import matplotlib.pyplot as plt"
   ]
  },
  {
   "cell_type": "markdown",
   "id": "b2ea380c",
   "metadata": {},
   "source": [
    "Simulating a particle under a harmonic oscillator potential in one dimension, so it oscillates back and forth abouth the origin."
   ]
  },
  {
   "cell_type": "markdown",
   "id": "cac03a55",
   "metadata": {},
   "source": [
    "To simulate a harmonic oscillator, the hamiltonian of a harmonic oscillator is used\n",
    "H = T + V\n",
    "\n",
    "V == potential energy which is 1/2 * k * x^2.\n",
    "As the particle is placed away from the origin the potential energy it experiences quadratically increases"
   ]
  },
  {
   "cell_type": "markdown",
   "id": "6f8694d2",
   "metadata": {},
   "source": [
    "Simulate particle with zero initial kinetic energy.\n",
    "Using the velocity Verlet algorithm"
   ]
  },
  {
   "cell_type": "code",
   "execution_count": 5,
   "id": "d4e1b854",
   "metadata": {},
   "outputs": [
    {
     "ename": "NameError",
     "evalue": "name 'v_old' is not defined",
     "output_type": "error",
     "traceback": [
      "\u001b[1;31m---------------------------------------------------------------------------\u001b[0m",
      "\u001b[1;31mNameError\u001b[0m                                 Traceback (most recent call last)",
      "\u001b[1;32m<ipython-input-5-50fd395165a0>\u001b[0m in \u001b[0;36m<module>\u001b[1;34m\u001b[0m\n\u001b[0;32m      4\u001b[0m \u001b[1;31m# Define old position of the simulated particle (x_old)\u001b[0m\u001b[1;33m\u001b[0m\u001b[1;33m\u001b[0m\u001b[1;33m\u001b[0m\u001b[0m\n\u001b[0;32m      5\u001b[0m \u001b[0mx_old\u001b[0m \u001b[1;33m=\u001b[0m \u001b[1;36m.5\u001b[0m\u001b[1;33m\u001b[0m\u001b[1;33m\u001b[0m\u001b[0m\n\u001b[1;32m----> 6\u001b[1;33m \u001b[0mx_new\u001b[0m \u001b[1;33m=\u001b[0m \u001b[0mx_old\u001b[0m \u001b[1;33m+\u001b[0m \u001b[0mv_old\u001b[0m \u001b[1;33m*\u001b[0m \u001b[0mdelta_t\u001b[0m \u001b[1;33m+\u001b[0m \u001b[1;36m1\u001b[0m\u001b[1;33m/\u001b[0m\u001b[1;36m2\u001b[0m \u001b[1;33m*\u001b[0m \u001b[0ma_old\u001b[0m \u001b[1;33m*\u001b[0m \u001b[0mdelta_t\u001b[0m\u001b[1;33m**\u001b[0m\u001b[1;36m2\u001b[0m \u001b[1;31m# Velocity Verlet algorithm 1.\u001b[0m\u001b[1;33m\u001b[0m\u001b[1;33m\u001b[0m\u001b[0m\n\u001b[0m\u001b[0;32m      7\u001b[0m \u001b[1;33m\u001b[0m\u001b[0m\n\u001b[0;32m      8\u001b[0m \u001b[1;31m# Define potential energy (V)\u001b[0m\u001b[1;33m\u001b[0m\u001b[1;33m\u001b[0m\u001b[1;33m\u001b[0m\u001b[0m\n",
      "\u001b[1;31mNameError\u001b[0m: name 'v_old' is not defined"
     ]
    }
   ],
   "source": [
    "# Define timestep between simulations (delta_t)\n",
    "delta_t = 0.05\n",
    "\n",
    "# Define k\n",
    "k = 1\n",
    "\n",
    "# Define old position of the simulated particle (x_old)\n",
    "x_old = .5\n",
    "x_new = x_old + v_old * delta_t + 1/2 * a_old * delta_t**2 # Velocity Verlet algorithm 1.\n",
    "\n",
    "# Define potential energy (V)\n",
    "V = 1/2 * k * x**2\n",
    "\n",
    "# Define force on particle (F)\n",
    "F_old = -k * x_old\n",
    "F_new = -k * x_new\n",
    "\n",
    "# Define mass of particls (m)\n",
    "m = 1\n",
    "\n",
    "# Define particle acceleration (a)\n",
    "a_old = F_old/m\n",
    "a_new = F_new/m\n",
    "\n",
    "# Define velocity of particle (u)\n",
    "v_old = 0\n",
    "v_new = v_old + 1/2 * (a_new + a_old) * delta_t # Velocity Verlet alogorithm 2.\n",
    "\n",
    "# Define the variable time which initially starts off at zero (t)\n",
    "t = 0\n",
    "\n",
    "# Define velocity after time interval (v)\n",
    "v = u_0 + a * t + delta_t\n",
    "\n",
    "# Define kinetic energy (T)\n",
    "T = 0\n",
    "\n",
    "# Define the initial distance the particle is from the origin (s_0)\n",
    "s_0 = abs(x_0)\n",
    "\n",
    "# Define distance from the origin (s)\n",
    "s = s_0 + u*t + 1/2 * a * delta_t**2\n",
    "\n",
    "# Lists for recording x and v and a.\n",
    "recorded_x = []\n",
    "recorded_v = []\n",
    "recorded_a = []\n",
    "\n",
    "# Repeating algorithm\n",
    "while i < 5001:\n",
    "    \n",
    "    # Using kinematic equations to get the new position, velocity and acceleration after each timestamp\n",
    "    # Velocity Verlet algorithm:\n",
    "    x_new = x_old + v_old * timespan + 1/2 * a_old * (timespan)**2\n",
    "    \n",
    "    v_new = ( 2 * v_old/timespan + a_old - U_prime(x_new) + np.sqrt(2*gamma)*R )/(2/timespan + gamma)\n",
    "    \n",
    "    a_new = 2/timespan*((2*v_old/timespan + a_old - U_prime(x_new) + np.sqrt(2*gamma)* R)/( 2/timespan + gamma)-v_old) - a_old\n",
    "    \n",
    "    \n",
    "# Recording position and velocity every 10th step\n",
    "    if i % 10 == 0:\n",
    "        recorded_x = np.append(recorded_x, x_new)\n",
    "        recorded_v = np.append(recorded_v, v_new)\n",
    "    \n",
    "    # Update new x and v coordinates\n",
    "    x_old = x_new\n",
    "    v_old = v_new\n",
    "    \n",
    "    i += 1"
   ]
  }
 ],
 "metadata": {
  "kernelspec": {
   "display_name": "Python 3",
   "language": "python",
   "name": "python3"
  },
  "language_info": {
   "codemirror_mode": {
    "name": "ipython",
    "version": 3
   },
   "file_extension": ".py",
   "mimetype": "text/x-python",
   "name": "python",
   "nbconvert_exporter": "python",
   "pygments_lexer": "ipython3",
   "version": "3.8.8"
  }
 },
 "nbformat": 4,
 "nbformat_minor": 5
}
