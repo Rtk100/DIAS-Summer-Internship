{
 "cells": [
  {
   "cell_type": "code",
   "execution_count": 56,
   "id": "9bdb9e02",
   "metadata": {},
   "outputs": [],
   "source": [
    "import numpy as np\n",
    "import matplotlib.pyplot as plt\n",
    "import pandas as pd\n",
    "from pandas import DataFrame as DF\n",
    "from sympy import diff\n",
    "from sympy.abc import x,y\n",
    "from sympy import cos\n",
    "from sympy import *\n",
    "from sympy import lambdify\n",
    "from itertools import product\n",
    "import random"
   ]
  },
  {
   "cell_type": "markdown",
   "id": "9b87222d",
   "metadata": {},
   "source": [
    "### Set display of pandas dataframes and Series to 11 decimal places"
   ]
  },
  {
   "cell_type": "code",
   "execution_count": 57,
   "id": "1a5bd3d3",
   "metadata": {},
   "outputs": [],
   "source": [
    "pd.set_option(\"display.precision\", 11)"
   ]
  },
  {
   "cell_type": "markdown",
   "id": "18cf279b",
   "metadata": {},
   "source": [
    "**Define the commutator**"
   ]
  },
  {
   "cell_type": "code",
   "execution_count": 3,
   "id": "8157d4e7",
   "metadata": {},
   "outputs": [],
   "source": [
    "def commutator(A,B):\n",
    "    \n",
    "    # matmul() multiplies two matrices together\n",
    "    return np.matmul(A,B) - np.matmul(B,A)"
   ]
  },
  {
   "cell_type": "markdown",
   "id": "8777a434",
   "metadata": {},
   "source": [
    "### Define Lagrangian"
   ]
  },
  {
   "cell_type": "code",
   "execution_count": 81,
   "id": "92a5c4b1",
   "metadata": {},
   "outputs": [],
   "source": [
    "M1 = [[1,1], [3,0]]\n",
    "M2 = [[1,0], [0,4]]\n",
    "M3 = [[0,3], [1,4]]"
   ]
  },
  {
   "cell_type": "code",
   "execution_count": 5,
   "id": "3e63f43d",
   "metadata": {},
   "outputs": [],
   "source": [
    "X_list = [M1, M2, M3]"
   ]
  },
  {
   "cell_type": "code",
   "execution_count": 6,
   "id": "99b836ba",
   "metadata": {
    "scrolled": true
   },
   "outputs": [
    {
     "data": {
      "text/plain": [
       "[[[1, 0], [3, 0]], [[0, 3], [0, 4]]]"
      ]
     },
     "execution_count": 6,
     "metadata": {},
     "output_type": "execute_result"
    }
   ],
   "source": [
    "X_cut = [x for x in X_list if x != M2]\n",
    "X_cut"
   ]
  },
  {
   "cell_type": "code",
   "execution_count": 7,
   "id": "0901e641",
   "metadata": {},
   "outputs": [
    {
     "data": {
      "text/plain": [
       "array([[ 81.,  90.],\n",
       "       [225.,  81.]])"
      ]
     },
     "execution_count": 7,
     "metadata": {},
     "output_type": "execute_result"
    }
   ],
   "source": [
    "(1/2*( (commutator(M1,M2))**2 + (commutator(M1,M3))**2 + (commutator(M2,M1))**2 + (commutator(M2,M3))**2 + \n",
    "     (commutator(M3,M1))**2 + (commutator(M3,M2))**2))"
   ]
  },
  {
   "cell_type": "code",
   "execution_count": 8,
   "id": "5d524428",
   "metadata": {},
   "outputs": [
    {
     "name": "stdout",
     "output_type": "stream",
     "text": [
      "[[40.5 45. ]\n",
      " [72.  40.5]]\n"
     ]
    }
   ],
   "source": [
    "for el in X_list:\n",
    "    X_cut = [x for x in X_list if x != el]\n",
    "    Sum2 = sum( (commutator(el,X_cut))**2 ) \n",
    "print(1/2*Sum2)"
   ]
  },
  {
   "cell_type": "code",
   "execution_count": 9,
   "id": "785a7a5b",
   "metadata": {},
   "outputs": [
    {
     "name": "stdout",
     "output_type": "stream",
     "text": [
      "[[[1, 0], [3, 0]], [[1, 0], [0, 4]], [[0, 3], [0, 4]]]\n",
      "loop\n",
      "[[[1, 0], [3, 0]], [[1, 0], [0, 4]], [[0, 3], [0, 4]]]\n",
      "loop\n",
      "[[[1, 0], [3, 0]], [[1, 0], [0, 4]], [[0, 3], [0, 4]]]\n",
      "loop\n"
     ]
    }
   ],
   "source": [
    "for el in X_list:\n",
    "    print(X_list)\n",
    "    X_cut = [x for x in X_list if x != el]\n",
    "    sum(commutator(el,np.array(X_cut)))\n",
    "    print(\"loop\")"
   ]
  },
  {
   "cell_type": "code",
   "execution_count": 63,
   "id": "df0a9e12",
   "metadata": {},
   "outputs": [],
   "source": [
    "def L(X_list, V_list, g):\n",
    "    \n",
    "    X_array = np.array(X_list)\n",
    "    V_array = np.array(X_list)\n",
    "    term_1 =  np.sum( np.trace( (V_array)**2 ) )\n",
    "    \n",
    "    # Calculate the sum of commutators found in the second term of the lagrangian\n",
    "    for el in X_list:\n",
    "        X_cut = [x for x in X_list if x != el]\n",
    "        Sum2 = np.sum( np.trace( (commutator(el,X_cut))**2 ) ) \n",
    "    \n",
    "    term_2 = 1/2 * Sum2\n",
    "    \n",
    "    return 1/(2*g**2) * (term_1 + term_2)"
   ]
  },
  {
   "cell_type": "code",
   "execution_count": 64,
   "id": "c170a62a",
   "metadata": {},
   "outputs": [
    {
     "data": {
      "text/plain": [
       "7.75"
      ]
     },
     "execution_count": 64,
     "metadata": {},
     "output_type": "execute_result"
    }
   ],
   "source": [
    "L([M1, M2, M3], [M1, M2, M3], 2)"
   ]
  },
  {
   "cell_type": "markdown",
   "id": "0c2dec05",
   "metadata": {},
   "source": [
    "**Define the Hamiltonian**"
   ]
  },
  {
   "cell_type": "code",
   "execution_count": 12,
   "id": "e4f30bbb",
   "metadata": {},
   "outputs": [],
   "source": [
    "def H(X_list, V_list, g):\n",
    "    \n",
    "    V_array = np.array(X_list)\n",
    "    V_array_T = np.transpose(V_array)\n",
    "    \n",
    "    return sum( V_array_T * V_array /g**2) - L(X_list, V_list, g)\n",
    "    "
   ]
  },
  {
   "cell_type": "markdown",
   "id": "16eda097",
   "metadata": {},
   "source": [
    "Initial reference point is x_0 = (X, V)"
   ]
  },
  {
   "cell_type": "code",
   "execution_count": null,
   "id": "990a2ee9",
   "metadata": {},
   "outputs": [],
   "source": []
  },
  {
   "cell_type": "markdown",
   "id": "103555fb",
   "metadata": {},
   "source": [
    "**Define the acceleration equation of motion as gotten from the research paper.**"
   ]
  },
  {
   "cell_type": "code",
   "execution_count": 82,
   "id": "6d69ec9f",
   "metadata": {},
   "outputs": [
    {
     "ename": "SyntaxError",
     "evalue": "invalid syntax (<ipython-input-82-60fca9ad6c20>, line 17)",
     "output_type": "error",
     "traceback": [
      "\u001b[1;36m  File \u001b[1;32m\"<ipython-input-82-60fca9ad6c20>\"\u001b[1;36m, line \u001b[1;32m17\u001b[0m\n\u001b[1;33m    >\u001b[0m\n\u001b[1;37m    ^\u001b[0m\n\u001b[1;31mSyntaxError\u001b[0m\u001b[1;31m:\u001b[0m invalid syntax\n"
     ]
    }
   ],
   "source": [
    "def acceleration(X_list):\n",
    "    \n",
    "    # This function creates a list of all the accelerations of all the coordinates from a list of the coordinate matrices.\n",
    "    \n",
    "    # List to be filled with accelerations for the coordinates\n",
    "    A_list = []\n",
    "    \n",
    "    # Turn the coordinates into an array so all X^j can put into the equation of motion in one line.\n",
    "    array = np.array(X_list)\n",
    "    \n",
    "    # for loop to calculate all the coordinate accelerations.\n",
    "    for el in X_list:\n",
    "        \n",
    "        # Doing the equation of motion\n",
    "        # el == X^i and array == X^j in the equation of motion\n",
    "        equation_of_motion = commutator(array ,commutator(el, array))\n",
    "    >\n",
    "        # sum() carries out the summation symbol in the equation of motion and so the acceleration is calculated.\n",
    "        # append the acceleration to the list.\n",
    "        A_list.append(sum(equation_of_motion))\n",
    "        \n",
    "    return A_list"
   ]
  },
  {
   "cell_type": "markdown",
   "id": "3f0c6995",
   "metadata": {},
   "source": [
    "**Code for evolving the initial point in phase space for 1000 seconds so that the system is thermalised.**"
   ]
  },
  {
   "cell_type": "code",
   "execution_count": 83,
   "id": "e42d30e3",
   "metadata": {},
   "outputs": [],
   "source": [
    "def thermalising_algorithm(X_list, V_list, A_list, delta_t):\n",
    "    \n",
    "    # Define initial conditions as numpy arrays\n",
    "    X_array_old = np.array(X_list)\n",
    "    V_array_old = np.array(V_list)\n",
    "    A_array_old = np.array(A_list)\n",
    "    \n",
    "    i = 0\n",
    "    # Repeating algorithm for 1000 seconds to thermalise the system.\n",
    "    \n",
    "    #################################################################################################################\n",
    "    ###                                      Change the 10 below back to 1000                                     ###\n",
    "    #################################################################################################################\n",
    "    while i < 10/delta_t:\n",
    "        \n",
    "        # b) velocity Verlet 1 to get new positions from old positions, momentums and rate of change of momentums\n",
    "        \n",
    "        X_array_new = (X_array_old + V_array_old * delta_t + 1/2 * A_array_old * delta_t**2)\n",
    "\n",
    "        \n",
    "        # c) Use equations of motion to get new acceleration values\n",
    "        \n",
    "        A_array_new = np.array(acceleration(X_array_new.tolist()))\n",
    "\n",
    "        # d) Use Velocity Verlet 2 to get new momentums\n",
    "\n",
    "        V_array_new = (V_array_old + (1/2) * (A_array_new + A_array_old) * delta_t)\n",
    "                \n",
    "        # Update coordinates\n",
    "        X_array_old = X_array_new\n",
    "        V_array_old = V_array_new\n",
    "        A_array_old = A_array_new\n",
    "        \n",
    "        i += 1\n",
    "        \n",
    "    return X_array_new, V_array_new, A_array_new"
   ]
  },
  {
   "cell_type": "markdown",
   "id": "aebf5c93",
   "metadata": {},
   "source": [
    "**Code for evolving the simulation and recording the position and momentum after it was thermalised.**"
   ]
  },
  {
   "cell_type": "code",
   "execution_count": 84,
   "id": "dff4dfd9",
   "metadata": {},
   "outputs": [
    {
     "name": "stderr",
     "output_type": "stream",
     "text": [
      "<ipython-input-3-76e6b042f756>:4: RuntimeWarning: overflow encountered in matmul\n",
      "  return np.matmul(A,B) - np.matmul(B,A)\n",
      "<ipython-input-3-76e6b042f756>:4: RuntimeWarning: invalid value encountered in matmul\n",
      "  return np.matmul(A,B) - np.matmul(B,A)\n",
      "<ipython-input-3-76e6b042f756>:4: RuntimeWarning: invalid value encountered in subtract\n",
      "  return np.matmul(A,B) - np.matmul(B,A)\n"
     ]
    },
    {
     "data": {
      "text/plain": [
       "[[[1.0, -3.5], [-10.5, 0.0]], [[10.0, -1.5], [-4.5, -5.0]]]"
      ]
     },
     "execution_count": 84,
     "metadata": {},
     "output_type": "execute_result"
    }
   ],
   "source": [
    "x = [M1, M2]\n",
    "v = [[[0,0],[0,0]],[[0,0],[0,0]]]\n",
    "a =  acceleration([M1, M2])\n",
    "coordinates_lists = [x, v, a]\n",
    "j = evolving_algorithm(x, v ,a, 1, 100, 10, coordinates_lists)\n",
    "j[0][2]\n"
   ]
  },
  {
   "cell_type": "code",
   "execution_count": 85,
   "id": "358116fb",
   "metadata": {},
   "outputs": [
    {
     "ename": "SyntaxError",
     "evalue": "invalid syntax (<ipython-input-85-b38211c48e8c>, line 2)",
     "output_type": "error",
     "traceback": [
      "\u001b[1;36m  File \u001b[1;32m\"<ipython-input-85-b38211c48e8c>\"\u001b[1;36m, line \u001b[1;32m2\u001b[0m\n\u001b[1;33m    coords[0].append(M3)\u001b[0m\n\u001b[1;37m    ^\u001b[0m\n\u001b[1;31mSyntaxError\u001b[0m\u001b[1;31m:\u001b[0m invalid syntax\n"
     ]
    }
   ],
   "source": [
    "coords = [[[M1, M2], [M1]]\n",
    "coords[0].append(M3)\n",
    "coords[1].append(np.array(M3).tolist())"
   ]
  },
  {
   "cell_type": "code",
   "execution_count": 86,
   "id": "ab3167c2",
   "metadata": {},
   "outputs": [
    {
     "name": "stdout",
     "output_type": "stream",
     "text": [
      "[[[[1, 0], [3, 0], [[0, 3], [0, 4]], [[0, 3], [0, 4]]], [[0, 3], [0, 4]]], [[[1, 0], [3, 0], [[0, 3], [0, 4]], [[0, 3], [0, 4]]], [[0, 3], [0, 4]]]]\n",
      "[0, 4]\n"
     ]
    },
    {
     "data": {
      "text/plain": [
       "True"
      ]
     },
     "execution_count": 86,
     "metadata": {},
     "output_type": "execute_result"
    }
   ],
   "source": [
    "print(coords)\n",
    "print(coords[0][1][1])\n",
    "\n",
    "coords[0] ==coords[1]"
   ]
  },
  {
   "cell_type": "code",
   "execution_count": 87,
   "id": "2a0441c9",
   "metadata": {},
   "outputs": [],
   "source": [
    "def evolving_algorithm(X_list, V_list, A_list, delta_t, simulation_repetitions, record_steps, coordinates_list):\n",
    "    \n",
    "    i = 0\n",
    "    \n",
    "    # Define initial conditions as numpy arrays\n",
    "    X_array_old = np.array(X_list)\n",
    "    V_array_old = np.array(V_list)\n",
    "    A_array_old = np.array(A_list)\n",
    "    \n",
    "    # Repeating algorithm\n",
    "    while i < simulation_repetitions:\n",
    "        \n",
    "        # b) velocity Verlet 1 to get new positions from old positions, momentums and rate of change of momentums\n",
    "        \n",
    "        X_array_new = (X_array_old + V_array_old * delta_t + 1/2 * A_array_old * delta_t**2)\n",
    "\n",
    "        \n",
    "        # c) Use equations of motion to get new acceleration values\n",
    "        \n",
    "        A_array_new = np.array(acceleration(X_array_new.tolist()))\n",
    "\n",
    "\n",
    "        # d) Use Velocity Verlet 2 to get new momentums\n",
    "\n",
    "        V_array_new = (V_array_old + (1/2) * (A_array_new + A_array_old) * delta_t)\n",
    "        \n",
    "        \n",
    "                \n",
    "        # Recording position, momentum, and rate of change of momentum every 10th step\n",
    "        if i % record_steps == 0:\n",
    "            coordinates_list[0].append(X_array_new.tolist())\n",
    "            coordinates_list[1].append(V_array_new.tolist())\n",
    "            coordinates_list[2].append(A_array_new.tolist())\n",
    "            \n",
    "        # Update coordinates\n",
    "        X_array_old = X_array_new\n",
    "        V_array_old = V_array_new\n",
    "        A_array_old = A_array_new\n",
    "         \n",
    "\n",
    "        i += 1\n",
    "        \n",
    "    return coordinates_list"
   ]
  },
  {
   "cell_type": "markdown",
   "id": "8f431ad9",
   "metadata": {},
   "source": [
    "**Create initial position matrices: Take X^i to have random (Gaussian) matrix elements, and be traceless.**"
   ]
  },
  {
   "cell_type": "code",
   "execution_count": 89,
   "id": "8351774c",
   "metadata": {},
   "outputs": [],
   "source": [
    "def simulation(dim, N, delta_t):\n",
    "    # N is the length of the side of the individual position square matrices.\n",
    "    # dim is the number of position coordinates we need\n",
    "    \n",
    "    # Create position coordinate matrices with gaussian distributed elements\n",
    "    \n",
    "    X_list = np.random.normal(0, 1, size = (dim, N, N))\n",
    "    \n",
    "    # The velocity Verlet algorithm conserves Gauss' law, so if it starts of true, it remains true. \n",
    "    # So just ensure the initial V^i are zero matrices\n",
    "\n",
    "    V_initial = np.zeros((N, N))\n",
    "    i = 0\n",
    "    V_list = []\n",
    "    while i < len(X_list):\n",
    "        V_list.append(V_initial)\n",
    "        i += 1\n",
    "    \n",
    "    # Use the scalar equation of motion in our gauge to calculate the initial accelerations from the initial positions\n",
    "    \n",
    "    A_list = acceleration(X_list)\n",
    "    \n",
    "\n",
    "    # Define number of steps between measurement recordings\n",
    "    record_steps = 10\n",
    "    \n",
    "    # For checking if H is conserved\n",
    "    #print(H())\n",
    "\n",
    "    \n",
    "    # How many iterations the simulation will go on for after it has been thermalised.\n",
    "    simulation_repetitions = 100\n",
    "    \n",
    "    # Thermalise the system. , i.e. evolve it for long enough time that it presumably reaches a \"typical configuration\".\n",
    "    # Here Swapno suggests to evolve it, starting anywhere, for 1000 seconds, dt = 10e-4s.\n",
    " \n",
    "    thermalised_X_array, thermalised_V_array, thermalised_A_array = thermalising_algorithm(X_list, V_list, A_list, delta_t)\n",
    "        \n",
    "    # Labels for coordinates dictionary\n",
    "    X_labels = []\n",
    "    j = 1\n",
    "    while j <= dim:\n",
    "        X_labels.append(f\"X {j}\")\n",
    "        \n",
    "        j+=1\n",
    "    \n",
    "    V_labels = []\n",
    "    j = 1\n",
    "    while j <= dim:\n",
    "        V_labels.append(f\"V {j}\")\n",
    "        \n",
    "        j+=1\n",
    "    \n",
    "    A_labels = []\n",
    "    j = 1\n",
    "    while j <= dim:\n",
    "        A_labels.append(f\"A {j}\")\n",
    "        \n",
    "        j+=1\n",
    "        \n",
    "    # Coordinates dictionary to record simulation dynamics\n",
    "    coords_dict = {\"times\" : times}\n",
    "    \n",
    "    # Add thermalised Xi initial values to the coordinates dictionary\n",
    "    j = 0\n",
    "    while j < len(X_labels):\n",
    "        coords_dict[X_labels[j]] = thermalised_X_array.tolist()[j]\n",
    "        j += 1\n",
    "    \n",
    "    # Add thermalised Vi initial values to the coordinates dictionary\n",
    "    j = 0\n",
    "    while j < len(coords_labels):\n",
    "        coords_dict[V_labels[j]] = thermalised_V_array.tolist()[j]\n",
    "        j += 1\n",
    "    \n",
    "    # Add thermalised Vi initial values to the coordinates dictionary\n",
    "    j = 0\n",
    "    while j < len(coords_labels):\n",
    "        coords_dict[A_labels[j]] = thermalised_A_array.tolist()[j]\n",
    "        j += 1\n",
    "    \n",
    "    # Now that the system is thermalised and the thermalised initial conditions are found, evolve the system\n",
    "    # and run the data collecting simulation.\n",
    "    \n",
    "    coordinates_list = evolving_algorithm(thermalised_X_array, thermalised_V_array, thermalised_A_array,\n",
    "                                          delta_t, record_steps, simulation_repetitions, coordinates_list)\n",
    "    \n",
    "    \n",
    "    # Define the times after thermalisation that the coordinates were recorded at.\n",
    "    times = np.arange(0, simulation_repetitions*delta_t + delta_t*record_steps, delta_t*record_steps)\n",
    "    print(times)\n",
    "    \n",
    "    print(coords_dict)\n",
    "    # Make a dictionary of the coordinates.\n",
    "    \n",
    "    # Check if H is conserved\n",
    "    #print(H(*thermalised_old_coordinates, Lambda_1, Lambda_2))\n",
    "    #print(H(*new_coordinates, Lambda_1, Lambda_2))\n",
    "    \n",
    "    X1_series = pd.Series(coordinates_list[0][0], index = times)\n",
    "    \n",
    "    X2_series = pd.Series(coordinates_list[0][1], index = times)\n",
    "    print(X1_series)\n",
    "    X1_DF = DF(X_dict, index = X_dict[\"times\"], columns = X_labels)\n",
    "    \n",
    "    \n",
    "    V_dict = {\"times\" : times}\n",
    "    j = 0\n",
    "    \n",
    "    while j < len(V_labels):\n",
    "        V_dict[V_labels[j]] = coordinates_list[1][j]\n",
    "        j += 1\n",
    "    V_DF = DF(V_dict, index = V_dict[\"times\"], columns = V_labels)\n",
    "    \n",
    "    \n",
    "    A_dict = {\"times\" : times}\n",
    "    j = 0\n",
    "    \n",
    "    while j < len(A_labels):\n",
    "        A_dict[A_labels[j]] = coordinates_list[2][j]\n",
    "        j += 1\n",
    "    A_DF = DF(A_dict, index = A_dict[\"times\"], columns = A_labels)\n",
    "    \n",
    "    return X_DF, V_DF, A_DF"
   ]
  },
  {
   "cell_type": "code",
   "execution_count": 44,
   "id": "ccc57037",
   "metadata": {
    "scrolled": true
   },
   "outputs": [
    {
     "name": "stdout",
     "output_type": "stream",
     "text": [
      "[0.   0.01 0.02 0.03 0.04 0.05 0.06 0.07 0.08 0.09 0.1 ]\n",
      "[[[[[124.3335869834038, 9.699975940879009], [111.85274820769108, -123.67008439984865]], [[91.99941210290504, 7.458987237618456], [84.34717412315993, -95.19103120222451]]], [[[124.35874965958696, 9.699472327203972], [111.87684820532667, -123.6952470760318]], [[92.01634809090159, 7.463611957603607], [84.3605783679783, -95.20796719022105]]]], [[[[26.529171039169505, -3.816874998459163], [27.273277215896393, -26.529171039169505]], [[15.122027532268067, 9.011430527156643], [9.198381311179553, -15.122027532268074]]], [[[23.7443850573832, 2.9354494539339617], [20.806314918497005, -23.7443850573832]], [[18.818884027658868, 0.0714636772071966], [17.7698512575418, -18.818884027658875]]]], [[[[-2732.9897120275127, 6626.522646846371], [-6346.559160615965, 2732.9897120275127]], [[3627.920928551656, -8773.421084010683], [8411.727014402459, -3627.920928551656]]], [[[-2836.582251545091, 6878.126257939878], [-6587.3654341828105, 2836.5822515450914]], [[3765.7920622299453, -9106.512615888209], [8731.212878322034, -3765.7920622299453]]]]]\n"
     ]
    },
    {
     "ename": "ValueError",
     "evalue": "Length of passed values is 2, index implies 11.",
     "output_type": "error",
     "traceback": [
      "\u001b[1;31m---------------------------------------------------------------------------\u001b[0m",
      "\u001b[1;31mValueError\u001b[0m                                Traceback (most recent call last)",
      "\u001b[1;32m<ipython-input-44-9fa6674e9144>\u001b[0m in \u001b[0;36m<module>\u001b[1;34m\u001b[0m\n\u001b[1;32m----> 1\u001b[1;33m \u001b[0mX_DF\u001b[0m\u001b[1;33m,\u001b[0m \u001b[0mV_DF\u001b[0m\u001b[1;33m,\u001b[0m \u001b[0mA_DF\u001b[0m \u001b[1;33m=\u001b[0m \u001b[0msimulation\u001b[0m\u001b[1;33m(\u001b[0m\u001b[1;36m2\u001b[0m\u001b[1;33m,\u001b[0m \u001b[1;36m2\u001b[0m\u001b[1;33m,\u001b[0m \u001b[1;36m0.001\u001b[0m\u001b[1;33m)\u001b[0m\u001b[1;33m\u001b[0m\u001b[1;33m\u001b[0m\u001b[0m\n\u001b[0m",
      "\u001b[1;32m<ipython-input-43-32ccb6658686>\u001b[0m in \u001b[0;36msimulation\u001b[1;34m(dim, N, delta_t)\u001b[0m\n\u001b[0;32m     79\u001b[0m     \u001b[1;31m#print(H(*new_coordinates, Lambda_1, Lambda_2))\u001b[0m\u001b[1;33m\u001b[0m\u001b[1;33m\u001b[0m\u001b[1;33m\u001b[0m\u001b[0m\n\u001b[0;32m     80\u001b[0m \u001b[1;33m\u001b[0m\u001b[0m\n\u001b[1;32m---> 81\u001b[1;33m     \u001b[0mX1_series\u001b[0m \u001b[1;33m=\u001b[0m \u001b[0mpd\u001b[0m\u001b[1;33m.\u001b[0m\u001b[0mSeries\u001b[0m\u001b[1;33m(\u001b[0m\u001b[0mcoordinates_list\u001b[0m\u001b[1;33m[\u001b[0m\u001b[1;36m0\u001b[0m\u001b[1;33m]\u001b[0m\u001b[1;33m[\u001b[0m\u001b[1;36m0\u001b[0m\u001b[1;33m]\u001b[0m\u001b[1;33m,\u001b[0m \u001b[0mindex\u001b[0m \u001b[1;33m=\u001b[0m \u001b[0mtimes\u001b[0m\u001b[1;33m)\u001b[0m\u001b[1;33m\u001b[0m\u001b[1;33m\u001b[0m\u001b[0m\n\u001b[0m\u001b[0;32m     82\u001b[0m \u001b[1;33m\u001b[0m\u001b[0m\n\u001b[0;32m     83\u001b[0m     \u001b[0mX2_series\u001b[0m \u001b[1;33m=\u001b[0m \u001b[0mpd\u001b[0m\u001b[1;33m.\u001b[0m\u001b[0mSeries\u001b[0m\u001b[1;33m(\u001b[0m\u001b[0mcoordinates_list\u001b[0m\u001b[1;33m[\u001b[0m\u001b[1;36m0\u001b[0m\u001b[1;33m]\u001b[0m\u001b[1;33m[\u001b[0m\u001b[1;36m1\u001b[0m\u001b[1;33m]\u001b[0m\u001b[1;33m,\u001b[0m \u001b[0mindex\u001b[0m \u001b[1;33m=\u001b[0m \u001b[0mtimes\u001b[0m\u001b[1;33m)\u001b[0m\u001b[1;33m\u001b[0m\u001b[1;33m\u001b[0m\u001b[0m\n",
      "\u001b[1;32m~\\anaconda3\\lib\\site-packages\\pandas\\core\\series.py\u001b[0m in \u001b[0;36m__init__\u001b[1;34m(self, data, index, dtype, name, copy, fastpath)\u001b[0m\n\u001b[0;32m    348\u001b[0m                 \u001b[1;32mtry\u001b[0m\u001b[1;33m:\u001b[0m\u001b[1;33m\u001b[0m\u001b[1;33m\u001b[0m\u001b[0m\n\u001b[0;32m    349\u001b[0m                     \u001b[1;32mif\u001b[0m \u001b[0mlen\u001b[0m\u001b[1;33m(\u001b[0m\u001b[0mindex\u001b[0m\u001b[1;33m)\u001b[0m \u001b[1;33m!=\u001b[0m \u001b[0mlen\u001b[0m\u001b[1;33m(\u001b[0m\u001b[0mdata\u001b[0m\u001b[1;33m)\u001b[0m\u001b[1;33m:\u001b[0m\u001b[1;33m\u001b[0m\u001b[1;33m\u001b[0m\u001b[0m\n\u001b[1;32m--> 350\u001b[1;33m                         raise ValueError(\n\u001b[0m\u001b[0;32m    351\u001b[0m                             \u001b[1;34mf\"Length of passed values is {len(data)}, \"\u001b[0m\u001b[1;33m\u001b[0m\u001b[1;33m\u001b[0m\u001b[0m\n\u001b[0;32m    352\u001b[0m                             \u001b[1;34mf\"index implies {len(index)}.\"\u001b[0m\u001b[1;33m\u001b[0m\u001b[1;33m\u001b[0m\u001b[0m\n",
      "\u001b[1;31mValueError\u001b[0m: Length of passed values is 2, index implies 11."
     ]
    }
   ],
   "source": [
    "X_DF, V_DF, A_DF = simulation(2, 2, 0.001)"
   ]
  },
  {
   "cell_type": "code",
   "execution_count": 34,
   "id": "7538c7f8",
   "metadata": {},
   "outputs": [
    {
     "data": {
      "text/plain": [
       "[[-1.0610062686884212, 0.40519407770791543],\n",
       " [-1.49163622597971, 0.7594248487421754]]"
      ]
     },
     "execution_count": 34,
     "metadata": {},
     "output_type": "execute_result"
    }
   ],
   "source": [
    "X_DF.iloc[0,0]"
   ]
  },
  {
   "cell_type": "code",
   "execution_count": null,
   "id": "91af4ef9",
   "metadata": {},
   "outputs": [],
   "source": []
  }
 ],
 "metadata": {
  "kernelspec": {
   "display_name": "Python 3",
   "language": "python",
   "name": "python3"
  },
  "language_info": {
   "codemirror_mode": {
    "name": "ipython",
    "version": 3
   },
   "file_extension": ".py",
   "mimetype": "text/x-python",
   "name": "python",
   "nbconvert_exporter": "python",
   "pygments_lexer": "ipython3",
   "version": "3.8.8"
  }
 },
 "nbformat": 4,
 "nbformat_minor": 5
}
