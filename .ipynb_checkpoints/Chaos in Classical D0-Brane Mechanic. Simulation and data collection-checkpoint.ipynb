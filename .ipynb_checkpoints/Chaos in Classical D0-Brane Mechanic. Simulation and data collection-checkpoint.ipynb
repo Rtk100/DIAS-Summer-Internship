{
 "cells": [
  {
   "cell_type": "code",
   "execution_count": 366,
   "id": "9bdb9e02",
   "metadata": {},
   "outputs": [],
   "source": [
    "import numpy as np\n",
    "import matplotlib.pyplot as plt\n",
    "import pandas as pd\n",
    "from pandas import DataFrame as DF\n",
    "from sympy import diff\n",
    "from sympy.abc import x,y\n",
    "from sympy import cos\n",
    "from sympy import *\n",
    "from sympy import lambdify\n",
    "from itertools import product\n",
    "import random\n",
    "from collections import defaultdict"
   ]
  },
  {
   "cell_type": "markdown",
   "id": "d0e62df4",
   "metadata": {},
   "source": [
    "**Define path**"
   ]
  },
  {
   "cell_type": "code",
   "execution_count": 338,
   "id": "a6d74115",
   "metadata": {},
   "outputs": [],
   "source": [
    "# Defining path to folder raw data is saved in\n",
    "path = \"C:/Users/robtk/OneDrive/Desktop/DIAS Internship/Raw data/Harmonic oscillator warm up/\""
   ]
  },
  {
   "cell_type": "markdown",
   "id": "9b87222d",
   "metadata": {},
   "source": [
    "### Set display of pandas dataframes and Series to 11 decimal places"
   ]
  },
  {
   "cell_type": "code",
   "execution_count": 2,
   "id": "1a5bd3d3",
   "metadata": {},
   "outputs": [],
   "source": [
    "pd.set_option(\"display.precision\", 11)"
   ]
  },
  {
   "cell_type": "markdown",
   "id": "18cf279b",
   "metadata": {},
   "source": [
    "**Define the commutator**"
   ]
  },
  {
   "cell_type": "code",
   "execution_count": 3,
   "id": "8157d4e7",
   "metadata": {},
   "outputs": [],
   "source": [
    "def commutator(A,B):\n",
    "    \n",
    "    # matmul() multiplies two matrices together\n",
    "    return np.matmul(A,B) - np.matmul(B,A)"
   ]
  },
  {
   "cell_type": "markdown",
   "id": "8777a434",
   "metadata": {},
   "source": [
    "### Define Lagrangian"
   ]
  },
  {
   "cell_type": "code",
   "execution_count": 4,
   "id": "92a5c4b1",
   "metadata": {},
   "outputs": [],
   "source": [
    "M1 = [[1,1], [3,0]]\n",
    "M2 = [[1,0], [0,4]]\n",
    "M3 = [[0,3], [1,4]]"
   ]
  },
  {
   "cell_type": "code",
   "execution_count": 5,
   "id": "3e63f43d",
   "metadata": {},
   "outputs": [],
   "source": [
    "X_list = [M1, M2, M3]"
   ]
  },
  {
   "cell_type": "code",
   "execution_count": 19,
   "id": "df0a9e12",
   "metadata": {},
   "outputs": [],
   "source": [
    "def L(X_list, V_list, g):\n",
    "    \n",
    "    X_array = np.array(X_list)\n",
    "    V_array = np.array(X_list)\n",
    "    term_1 =  np.sum( np.trace( (V_array)**2 ) )\n",
    "    \n",
    "    # Calculate the sum of commutators found in the second term of the lagrangian\n",
    "    for el in X_list:\n",
    "        X_cut = [x for x in X_list if x != el]\n",
    "        Sum2 = np.sum( np.trace( (commutator(el,X_cut))**2 ) ) \n",
    "    \n",
    "    term_2 = 1/2 * Sum2\n",
    "    \n",
    "    return 1/(2*g**2) * (term_1 + term_2)"
   ]
  },
  {
   "cell_type": "code",
   "execution_count": 20,
   "id": "c170a62a",
   "metadata": {},
   "outputs": [
    {
     "data": {
      "text/plain": [
       "9.875"
      ]
     },
     "execution_count": 20,
     "metadata": {},
     "output_type": "execute_result"
    }
   ],
   "source": [
    "L([M1, M2, M3], [M1, M2, M3], 2)"
   ]
  },
  {
   "cell_type": "markdown",
   "id": "0c2dec05",
   "metadata": {},
   "source": [
    "**Define the Hamiltonian**"
   ]
  },
  {
   "cell_type": "code",
   "execution_count": 21,
   "id": "e4f30bbb",
   "metadata": {},
   "outputs": [],
   "source": [
    "def H(X_list, V_list, g):\n",
    "    \n",
    "    V_array = np.array(X_list)\n",
    "    V_array_T = np.transpose(V_array)\n",
    "    \n",
    "    return sum( V_array_T * V_array /g**2) - L(X_list, V_list, g)\n",
    "    "
   ]
  },
  {
   "cell_type": "markdown",
   "id": "16eda097",
   "metadata": {},
   "source": [
    "Initial reference point is x_0 = (X, V)"
   ]
  },
  {
   "cell_type": "markdown",
   "id": "103555fb",
   "metadata": {},
   "source": [
    "**Define the acceleration equation of motion as gotten from the research paper.**"
   ]
  },
  {
   "cell_type": "code",
   "execution_count": 22,
   "id": "6d69ec9f",
   "metadata": {},
   "outputs": [],
   "source": [
    "def acceleration(X_list):\n",
    "    \n",
    "    # This function creates a list of all the accelerations of all the coordinates from a list of the coordinate matrices.\n",
    "    \n",
    "    # List to be filled with accelerations for the coordinates\n",
    "    A_list = []\n",
    "    \n",
    "    # Turn the coordinates into an array so all X^j can put into the equation of motion in one line.\n",
    "    array = np.array(X_list)\n",
    "    \n",
    "    # for loop to calculate all the coordinate accelerations.\n",
    "    for el in X_list:\n",
    "        \n",
    "        # Doing the equation of motion\n",
    "        # el == X^i and array == X^j in the equation of motion\n",
    "        equation_of_motion = commutator(array ,commutator(el, array))\n",
    "        \n",
    "        # sum() carries out the summation symbol in the equation of motion and so the acceleration is calculated.\n",
    "        # append the acceleration to the list.\n",
    "        A_list.append(sum(equation_of_motion))\n",
    "        \n",
    "    return A_list"
   ]
  },
  {
   "cell_type": "markdown",
   "id": "3f0c6995",
   "metadata": {},
   "source": [
    "**Code for evolving the initial point in phase space for 1000 seconds so that the system is thermalised.**"
   ]
  },
  {
   "cell_type": "code",
   "execution_count": 364,
   "id": "e42d30e3",
   "metadata": {},
   "outputs": [],
   "source": [
    "def thermalising_algorithm(X_list, V_list, A_list, delta_t):\n",
    "    \n",
    "    # Define initial conditions as numpy arrays\n",
    "    X_array_old = np.array(X_list)\n",
    "    V_array_old = np.array(V_list)\n",
    "    A_array_old = np.array(A_list)\n",
    "    \n",
    "    i = 0\n",
    "    # Repeating algorithm for 1000 seconds to thermalise the system.\n",
    "    \n",
    "    #################################################################################################################\n",
    "    ###                                      Change the 10 below back to 1000                                     ###\n",
    "    #################################################################################################################\n",
    "    while i < 1000/delta_t:\n",
    "        \n",
    "        # b) velocity Verlet 1 to get new positions from old positions, momentums and rate of change of momentums\n",
    "        \n",
    "        X_array_new = (X_array_old + V_array_old * delta_t + 1/2 * A_array_old * delta_t**2)\n",
    "\n",
    "        \n",
    "        # c) Use equations of motion to get new acceleration values\n",
    "        \n",
    "        A_array_new = np.array(acceleration(X_array_new.tolist()))\n",
    "\n",
    "        # d) Use Velocity Verlet 2 to get new momentums\n",
    "\n",
    "        V_array_new = (V_array_old + (1/2) * (A_array_new + A_array_old) * delta_t)\n",
    "                \n",
    "        # Update coordinates\n",
    "        X_array_old = X_array_new\n",
    "        V_array_old = V_array_new\n",
    "        A_array_old = A_array_new\n",
    "        \n",
    "        i += 1\n",
    "        \n",
    "    return X_array_new, V_array_new, A_array_new"
   ]
  },
  {
   "cell_type": "markdown",
   "id": "aebf5c93",
   "metadata": {},
   "source": [
    "**Code for evolving the simulation and recording the position and momentum after it was thermalised.**"
   ]
  },
  {
   "cell_type": "code",
   "execution_count": 349,
   "id": "2a0441c9",
   "metadata": {},
   "outputs": [],
   "source": [
    "def evolving_algorithm(X_list, V_list, A_list, delta_t, record_steps, simulation_repetitions, \n",
    "                       X_labels, V_labels, N, times):\n",
    "    \n",
    "    i = 1\n",
    "    \n",
    "    # Define initial conditions as numpy arrays\n",
    "    X_array_old = np.array(X_list)\n",
    "    V_array_old = np.array(V_list)\n",
    "    A_array_old = np.array(A_list)\n",
    "    \n",
    "    # Coordinates dictionaries\n",
    "    recorded_X1 = { \"0\" : X_list[0].tolist()}\n",
    "    recorded_X2 = { \"0\" : X_list[1].tolist()}\n",
    "    recorded_V1 = { \"0\" : V_list[0].tolist()}\n",
    "    recorded_V2 = { \"0\" : V_list[1].tolist()}\n",
    "\n",
    "\n",
    "\n",
    "    # Repeating algorithm\n",
    "    while i < simulation_repetitions:\n",
    "        \n",
    "        # b) velocity Verlet 1 to get new positions from old positions, momentums and rate of change of momentums\n",
    "        \n",
    "        X_array_new = (X_array_old + V_array_old * delta_t + 1/2 * A_array_old * delta_t**2)\n",
    "\n",
    "        \n",
    "        # c) Use equations of motion to get new acceleration values\n",
    "        \n",
    "        A_array_new = np.array(acceleration(X_array_new.tolist()), dtype=np.float64)\n",
    "\n",
    "\n",
    "        # d) Use Velocity Verlet 2 to get new momentums\n",
    "\n",
    "        V_array_new = (V_array_old + (1/2) * (A_array_new + A_array_old) * delta_t)\n",
    "        \n",
    "        \n",
    "        # Recording position, momentum, and rate of change of momentum every 10th step\n",
    "        if i % record_steps == 0:\n",
    "\n",
    "            recorded_X1[f\"{delta_t*record_steps*i}\"] = X_array_new[0].tolist()\n",
    "            recorded_X2[f\"{delta_t*record_steps*i}\"] = X_array_new[1].tolist()\n",
    "            recorded_V1[f\"{delta_t*record_steps*i}\"] = V_array_new[0].tolist()\n",
    "            recorded_V2[f\"{delta_t*record_steps*i}\"] = V_array_new[1].tolist()\n",
    "\n",
    "        \n",
    "            \n",
    "        # Update coordinates\n",
    "        X_array_old = X_array_new\n",
    "        V_array_old = V_array_new\n",
    "        A_array_old = A_array_new\n",
    "         \n",
    "\n",
    "        i += 1\n",
    "    \n",
    "    return recorded_X1, recorded_X2, recorded_V1, recorded_V2"
   ]
  },
  {
   "cell_type": "markdown",
   "id": "8f431ad9",
   "metadata": {},
   "source": [
    "**Create initial position matrices: Take X^i to have random (Gaussian) matrix elements, and be traceless.**"
   ]
  },
  {
   "cell_type": "code",
   "execution_count": 352,
   "id": "8351774c",
   "metadata": {},
   "outputs": [],
   "source": [
    "def simulation(dim, N, delta_t):\n",
    "    # N is the length of the side of the individual position square matrices.\n",
    "    # dim is the number of position coordinates we need.\n",
    "    \n",
    "    # Create position coordinate matrices with gaussian distributed elements.\n",
    "    \n",
    "    X_list = np.random.normal(0, 1, size = (dim, N, N))\n",
    "    \n",
    "    print(X_list)\n",
    "    # The velocity Verlet algorithm conserves Gauss' law, so if it starts off true, it remains true. \n",
    "    # So just ensure the initial V^i are zero matrices.  \n",
    "\n",
    "    V_initial = np.zeros((N, N))\n",
    "    i = 0\n",
    "    V_list = []\n",
    "    while i < len(X_list):\n",
    "        V_list.append(V_initial)\n",
    "        i += 1\n",
    "    \n",
    "    # Use the scalar equation of motion in our gauge to calculate the initial accelerations from the initial positions\n",
    "    \n",
    "    A_list = acceleration(X_list)\n",
    "    \n",
    "\n",
    "    # Define number of steps between measurement recordings\n",
    "    record_steps = 100000\n",
    "    \n",
    "    # For checking if H is conserved\n",
    "    #print(H())\n",
    "\n",
    "    \n",
    "    # How many iterations the simulation will go on for after it has been thermalised.\n",
    "    simulation_repetitions = 10000000\n",
    "    # Thermalise the system. , i.e. evolve it for long enough time that it presumably reaches a \"typical configuration\".\n",
    "    # Here Swapno suggests to evolve it, starting anywhere, for 1000 seconds, dt = 10e-5 s.\n",
    " \n",
    "    thermalised_X_array, thermalised_V_array, thermalised_A_array = thermalising_algorithm(X_list, V_list, A_list, delta_t)\n",
    "        \n",
    "    # Labels for coordinates dictionary\n",
    "    X_labels = []\n",
    "    j = 1\n",
    "    while j <= dim:\n",
    "        X_labels.append(f\"X {j}\")\n",
    "        \n",
    "        j+=1\n",
    "    \n",
    "    V_labels = []\n",
    "    j = 1\n",
    "    while j <= dim:\n",
    "        V_labels.append(f\"V {j}\")\n",
    "        \n",
    "        j+=1\n",
    "    \n",
    "    \n",
    "    # Define the times after thermalisation that the coordinates were recorded at.\n",
    "    times = np.arange(0, simulation_repetitions*delta_t + delta_t*record_steps, delta_t*record_steps)\n",
    "    \n",
    "    # Now that the system is thermalised and the thermalised initial conditions are found, evolve the system\n",
    "    # and run the data collecting simulation.\n",
    "    recorded_X1, recorded_X2, recorded_V1, recorded_V2 = evolving_algorithm(thermalised_X_array, thermalised_V_array, thermalised_A_array,\n",
    "                                          delta_t, record_steps, simulation_repetitions, \n",
    "                                          X_labels, V_labels, N, times)\n",
    "    \n",
    "    # Make dataframes out of the dictionaries\n",
    "    \n",
    "    # Check if H is conserved\n",
    "\n",
    "    X1 = pd.Series(recorded_X1).T\n",
    "    X2 = pd.Series(recorded_X2).T\n",
    "    V1 = pd.Series(recorded_V1).T\n",
    "    V2 = pd.Series(recorded_V2).T\n",
    "\n",
    "    X = pd.concat([X1, X2], axis = 1)\n",
    "    X = X.rename(columns = {0:\"X 1\", 1:\"X 2\"})\n",
    "    \n",
    "    V = pd.concat([V1, V2], axis = 1)\n",
    "    V = V.rename(columns = {0:\"V 1\", 1:\"V 2\"})\n",
    "    \n",
    "\n",
    "    \n",
    "    return X, V"
   ]
  },
  {
   "cell_type": "code",
   "execution_count": 365,
   "id": "ccc57037",
   "metadata": {
    "scrolled": true
   },
   "outputs": [
    {
     "name": "stdout",
     "output_type": "stream",
     "text": [
      "[[[ 0.24972105 -0.55201611]\n",
      "  [-0.00527545 -1.49238831]]\n",
      "\n",
      " [[-0.36213085 -0.03653928]\n",
      "  [ 1.28583711 -0.61659746]]]\n"
     ]
    },
    {
     "ename": "KeyboardInterrupt",
     "evalue": "",
     "output_type": "error",
     "traceback": [
      "\u001b[1;31m---------------------------------------------------------------------------\u001b[0m",
      "\u001b[1;31mKeyboardInterrupt\u001b[0m                         Traceback (most recent call last)",
      "\u001b[1;32m<ipython-input-365-3103e13a8f75>\u001b[0m in \u001b[0;36m<module>\u001b[1;34m\u001b[0m\n\u001b[1;32m----> 1\u001b[1;33m \u001b[0mX\u001b[0m\u001b[1;33m,\u001b[0m \u001b[0mV\u001b[0m\u001b[1;33m=\u001b[0m \u001b[0msimulation\u001b[0m\u001b[1;33m(\u001b[0m\u001b[1;36m2\u001b[0m\u001b[1;33m,\u001b[0m \u001b[1;36m2\u001b[0m\u001b[1;33m,\u001b[0m \u001b[1;36m10\u001b[0m\u001b[1;33m**\u001b[0m\u001b[1;33m-\u001b[0m\u001b[1;36m4\u001b[0m\u001b[1;33m)\u001b[0m\u001b[1;33m\u001b[0m\u001b[1;33m\u001b[0m\u001b[0m\n\u001b[0m",
      "\u001b[1;32m<ipython-input-352-77a79e448687>\u001b[0m in \u001b[0;36msimulation\u001b[1;34m(dim, N, delta_t)\u001b[0m\n\u001b[0;32m     35\u001b[0m     \u001b[1;31m# Here Swapno suggests to evolve it, starting anywhere, for 1000 seconds, dt = 10e-5 s.\u001b[0m\u001b[1;33m\u001b[0m\u001b[1;33m\u001b[0m\u001b[1;33m\u001b[0m\u001b[0m\n\u001b[0;32m     36\u001b[0m \u001b[1;33m\u001b[0m\u001b[0m\n\u001b[1;32m---> 37\u001b[1;33m     \u001b[0mthermalised_X_array\u001b[0m\u001b[1;33m,\u001b[0m \u001b[0mthermalised_V_array\u001b[0m\u001b[1;33m,\u001b[0m \u001b[0mthermalised_A_array\u001b[0m \u001b[1;33m=\u001b[0m \u001b[0mthermalising_algorithm\u001b[0m\u001b[1;33m(\u001b[0m\u001b[0mX_list\u001b[0m\u001b[1;33m,\u001b[0m \u001b[0mV_list\u001b[0m\u001b[1;33m,\u001b[0m \u001b[0mA_list\u001b[0m\u001b[1;33m,\u001b[0m \u001b[0mdelta_t\u001b[0m\u001b[1;33m)\u001b[0m\u001b[1;33m\u001b[0m\u001b[1;33m\u001b[0m\u001b[0m\n\u001b[0m\u001b[0;32m     38\u001b[0m \u001b[1;33m\u001b[0m\u001b[0m\n\u001b[0;32m     39\u001b[0m     \u001b[1;31m# Labels for coordinates dictionary\u001b[0m\u001b[1;33m\u001b[0m\u001b[1;33m\u001b[0m\u001b[1;33m\u001b[0m\u001b[0m\n",
      "\u001b[1;32m<ipython-input-364-4bd192f62f07>\u001b[0m in \u001b[0;36mthermalising_algorithm\u001b[1;34m(X_list, V_list, A_list, delta_t)\u001b[0m\n\u001b[0;32m     21\u001b[0m         \u001b[1;31m# c) Use equations of motion to get new acceleration values\u001b[0m\u001b[1;33m\u001b[0m\u001b[1;33m\u001b[0m\u001b[1;33m\u001b[0m\u001b[0m\n\u001b[0;32m     22\u001b[0m \u001b[1;33m\u001b[0m\u001b[0m\n\u001b[1;32m---> 23\u001b[1;33m         \u001b[0mA_array_new\u001b[0m \u001b[1;33m=\u001b[0m \u001b[0mnp\u001b[0m\u001b[1;33m.\u001b[0m\u001b[0marray\u001b[0m\u001b[1;33m(\u001b[0m\u001b[0macceleration\u001b[0m\u001b[1;33m(\u001b[0m\u001b[0mX_array_new\u001b[0m\u001b[1;33m.\u001b[0m\u001b[0mtolist\u001b[0m\u001b[1;33m(\u001b[0m\u001b[1;33m)\u001b[0m\u001b[1;33m)\u001b[0m\u001b[1;33m)\u001b[0m\u001b[1;33m\u001b[0m\u001b[1;33m\u001b[0m\u001b[0m\n\u001b[0m\u001b[0;32m     24\u001b[0m \u001b[1;33m\u001b[0m\u001b[0m\n\u001b[0;32m     25\u001b[0m         \u001b[1;31m# d) Use Velocity Verlet 2 to get new momentums\u001b[0m\u001b[1;33m\u001b[0m\u001b[1;33m\u001b[0m\u001b[1;33m\u001b[0m\u001b[0m\n",
      "\u001b[1;31mKeyboardInterrupt\u001b[0m: "
     ]
    }
   ],
   "source": [
    "X, V= simulation(2, 2, 10**-4)"
   ]
  },
  {
   "cell_type": "code",
   "execution_count": 363,
   "id": "6dfb6798",
   "metadata": {},
   "outputs": [
    {
     "data": {
      "text/html": [
       "<div>\n",
       "<style scoped>\n",
       "    .dataframe tbody tr th:only-of-type {\n",
       "        vertical-align: middle;\n",
       "    }\n",
       "\n",
       "    .dataframe tbody tr th {\n",
       "        vertical-align: top;\n",
       "    }\n",
       "\n",
       "    .dataframe thead th {\n",
       "        text-align: right;\n",
       "    }\n",
       "</style>\n",
       "<table border=\"1\" class=\"dataframe\">\n",
       "  <thead>\n",
       "    <tr style=\"text-align: right;\">\n",
       "      <th></th>\n",
       "      <th>X 1</th>\n",
       "      <th>X 2</th>\n",
       "    </tr>\n",
       "  </thead>\n",
       "  <tbody>\n",
       "    <tr>\n",
       "      <th>0</th>\n",
       "      <td>[[35.12598370655933, -20.272335282774502], [-5...</td>\n",
       "      <td>[[3.233890021261989, -1.3952980295294], [-4.73...</td>\n",
       "    </tr>\n",
       "    <tr>\n",
       "      <th>0.1</th>\n",
       "      <td>[[35.16886946931187, -20.26631079971067], [-56...</td>\n",
       "      <td>[[3.198150864067416, -1.5058224046630109], [-4...</td>\n",
       "    </tr>\n",
       "    <tr>\n",
       "      <th>0.2</th>\n",
       "      <td>[[35.261610420826074, -20.15614394251581], [-5...</td>\n",
       "      <td>[[3.2200318524060827, -1.6573741886109399], [-...</td>\n",
       "    </tr>\n",
       "    <tr>\n",
       "      <th>0.3</th>\n",
       "      <td>[[35.38932192452683, -20.1378505916142], [-57....</td>\n",
       "      <td>[[3.27996943681783, -1.6643649775209164], [-3....</td>\n",
       "    </tr>\n",
       "    <tr>\n",
       "      <th>0.4</th>\n",
       "      <td>[[35.492823524950786, -20.292973998089835], [-...</td>\n",
       "      <td>[[3.3103208795079864, -1.522022994033927], [-4...</td>\n",
       "    </tr>\n",
       "    <tr>\n",
       "      <th>...</th>\n",
       "      <td>...</td>\n",
       "      <td>...</td>\n",
       "    </tr>\n",
       "    <tr>\n",
       "      <th>9.5</th>\n",
       "      <td>[[43.148736508726074, -24.807847052631004], [-...</td>\n",
       "      <td>[[3.869284183150453, -1.7695798703660406], [-5...</td>\n",
       "    </tr>\n",
       "    <tr>\n",
       "      <th>9.6</th>\n",
       "      <td>[[43.186819355200996, -24.878389782849517], [-...</td>\n",
       "      <td>[[3.819426639352319, -1.8209850285793294], [-5...</td>\n",
       "    </tr>\n",
       "    <tr>\n",
       "      <th>9.700000000000001</th>\n",
       "      <td>[[43.28021224495592, -24.766133410819823], [-7...</td>\n",
       "      <td>[[3.832415819438318, -1.9925570554163798], [-5...</td>\n",
       "    </tr>\n",
       "    <tr>\n",
       "      <th>9.8</th>\n",
       "      <td>[[43.42093389575386, -24.760821521173177], [-7...</td>\n",
       "      <td>[[3.8973102025643596, -1.986473251242205], [-4...</td>\n",
       "    </tr>\n",
       "    <tr>\n",
       "      <th>9.9</th>\n",
       "      <td>[[43.5169311367551, -24.96315541825708], [-70....</td>\n",
       "      <td>[[3.9105832263713975, -1.8202315545246033], [-...</td>\n",
       "    </tr>\n",
       "  </tbody>\n",
       "</table>\n",
       "<p>100 rows × 2 columns</p>\n",
       "</div>"
      ],
      "text/plain": [
       "                                                                 X 1  \\\n",
       "0                  [[35.12598370655933, -20.272335282774502], [-5...   \n",
       "0.1                [[35.16886946931187, -20.26631079971067], [-56...   \n",
       "0.2                [[35.261610420826074, -20.15614394251581], [-5...   \n",
       "0.3                [[35.38932192452683, -20.1378505916142], [-57....   \n",
       "0.4                [[35.492823524950786, -20.292973998089835], [-...   \n",
       "...                                                              ...   \n",
       "9.5                [[43.148736508726074, -24.807847052631004], [-...   \n",
       "9.6                [[43.186819355200996, -24.878389782849517], [-...   \n",
       "9.700000000000001  [[43.28021224495592, -24.766133410819823], [-7...   \n",
       "9.8                [[43.42093389575386, -24.760821521173177], [-7...   \n",
       "9.9                [[43.5169311367551, -24.96315541825708], [-70....   \n",
       "\n",
       "                                                                 X 2  \n",
       "0                  [[3.233890021261989, -1.3952980295294], [-4.73...  \n",
       "0.1                [[3.198150864067416, -1.5058224046630109], [-4...  \n",
       "0.2                [[3.2200318524060827, -1.6573741886109399], [-...  \n",
       "0.3                [[3.27996943681783, -1.6643649775209164], [-3....  \n",
       "0.4                [[3.3103208795079864, -1.522022994033927], [-4...  \n",
       "...                                                              ...  \n",
       "9.5                [[3.869284183150453, -1.7695798703660406], [-5...  \n",
       "9.6                [[3.819426639352319, -1.8209850285793294], [-5...  \n",
       "9.700000000000001  [[3.832415819438318, -1.9925570554163798], [-5...  \n",
       "9.8                [[3.8973102025643596, -1.986473251242205], [-4...  \n",
       "9.9                [[3.9105832263713975, -1.8202315545246033], [-...  \n",
       "\n",
       "[100 rows x 2 columns]"
      ]
     },
     "execution_count": 363,
     "metadata": {},
     "output_type": "execute_result"
    }
   ],
   "source": [
    "X"
   ]
  },
  {
   "cell_type": "markdown",
   "id": "2c600774",
   "metadata": {},
   "source": [
    "### Set display of pandas dataframes and Series to 11 decimal places"
   ]
  },
  {
   "cell_type": "code",
   "execution_count": 2,
   "id": "02ac1bbc",
   "metadata": {},
   "outputs": [],
   "source": [
    "pd.set_option(\"display.precision\", 11)"
   ]
  },
  {
   "cell_type": "code",
   "execution_count": 347,
   "id": "91af4ef9",
   "metadata": {},
   "outputs": [],
   "source": [
    "X.to_pickle(path+\"X.pkl\")\n",
    "V.to_pickle(path+\"V.pkl\")"
   ]
  },
  {
   "cell_type": "code",
   "execution_count": null,
   "id": "5f9c2f15",
   "metadata": {},
   "outputs": [],
   "source": []
  }
 ],
 "metadata": {
  "kernelspec": {
   "display_name": "Python 3",
   "language": "python",
   "name": "python3"
  },
  "language_info": {
   "codemirror_mode": {
    "name": "ipython",
    "version": 3
   },
   "file_extension": ".py",
   "mimetype": "text/x-python",
   "name": "python",
   "nbconvert_exporter": "python",
   "pygments_lexer": "ipython3",
   "version": "3.8.8"
  }
 },
 "nbformat": 4,
 "nbformat_minor": 5
}
